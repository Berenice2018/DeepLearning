{
  "nbformat": 4,
  "nbformat_minor": 0,
  "metadata": {
    "colab": {
      "name": "Copy of dog_app.ipynb",
      "version": "0.3.2",
      "provenance": [],
      "collapsed_sections": [
        "jTk_1aUd-U7I",
        "4Ehbw417-U7V",
        "xrlDLJcx-U7a",
        "t0TZJXIv-U7g"
      ],
      "include_colab_link": true
    },
    "kernelspec": {
      "name": "python3",
      "display_name": "Python 3"
    },
    "accelerator": "GPU"
  },
  "cells": [
    {
      "cell_type": "markdown",
      "metadata": {
        "id": "view-in-github",
        "colab_type": "text"
      },
      "source": [
        "<a href=\"https://colab.research.google.com/github/Berenice2018/DeepLearning/blob/master/Copy_of_dog_app.ipynb\" target=\"_parent\"><img src=\"https://colab.research.google.com/assets/colab-badge.svg\" alt=\"Open In Colab\"/></a>"
      ]
    },
    {
      "cell_type": "markdown",
      "metadata": {
        "id": "B3veWORj-U7D",
        "colab_type": "text"
      },
      "source": [
        "# Convolutional Neural Networks\n",
        "\n",
        "## Project: Write an Algorithm for a Dog Identification App \n",
        "\n",
        "---\n",
        "\n",
        "In this notebook, some template code has already been provided for you, and you will need to implement additional functionality to successfully complete this project. You will not need to modify the included code beyond what is requested. Sections that begin with **'(IMPLEMENTATION)'** in the header indicate that the following block of code will require additional functionality which you must provide. Instructions will be provided for each section, and the specifics of the implementation are marked in the code block with a 'TODO' statement. Please be sure to read the instructions carefully! \n",
        "\n",
        "> **Note**: Once you have completed all of the code implementations, you need to finalize your work by exporting the Jupyter Notebook as an HTML document. Before exporting the notebook to html, all of the code cells need to have been run so that reviewers can see the final implementation and output. You can then export the notebook by using the menu above and navigating to **File -> Download as -> HTML (.html)**. Include the finished document along with this notebook as your submission.\n",
        "\n",
        "In addition to implementing code, there will be questions that you must answer which relate to the project and your implementation. Each section where you will answer a question is preceded by a **'Question X'** header. Carefully read each question and provide thorough answers in the following text boxes that begin with **'Answer:'**. Your project submission will be evaluated based on your answers to each of the questions and the implementation you provide.\n",
        "\n",
        ">**Note:** Code and Markdown cells can be executed using the **Shift + Enter** keyboard shortcut.  Markdown cells can be edited by double-clicking the cell to enter edit mode.\n",
        "\n",
        "The rubric contains _optional_ \"Stand Out Suggestions\" for enhancing the project beyond the minimum requirements. If you decide to pursue the \"Stand Out Suggestions\", you should include the code in this Jupyter notebook.\n",
        "\n",
        "\n",
        "\n",
        "---\n",
        "### Why We're Here \n",
        "\n",
        "In this notebook, you will make the first steps towards developing an algorithm that could be used as part of a mobile or web app.  At the end of this project, your code will accept any user-supplied image as input.  If a dog is detected in the image, it will provide an estimate of the dog's breed.  If a human is detected, it will provide an estimate of the dog breed that is most resembling.  The image below displays potential sample output of your finished project (... but we expect that each student's algorithm will behave differently!). \n",
        "\n",
        "![Sample Dog Output](https://github.com/Berenice2018/dog-breed133-classifier/blob/master/images/sample_dog_output.png?raw=1)\n",
        "\n",
        "In this real-world setting, you will need to piece together a series of models to perform different tasks; for instance, the algorithm that detects humans in an image will be different from the CNN that infers dog breed.  There are many points of possible failure, and no perfect algorithm exists.  Your imperfect solution will nonetheless create a fun user experience!\n",
        "\n",
        "### The Road Ahead\n",
        "\n",
        "We break the notebook into separate steps.  Feel free to use the links below to navigate the notebook.\n",
        "\n",
        "* [Step 0](#step0): Import Datasets\n",
        "* [Step 1](#step1): Detect Humans\n",
        "* [Step 2](#step2): Detect Dogs\n",
        "* [Step 3](#step3): Create a CNN to Classify Dog Breeds (from Scratch)\n",
        "* [Step 4](#step4): Create a CNN to Classify Dog Breeds (using Transfer Learning)\n",
        "* [Step 5](#step5): Write your Algorithm\n",
        "* [Step 6](#step6): Test Your Algorithm\n",
        "\n",
        "---\n",
        "<a id='step0'></a>\n",
        "## Step 0: Import Datasets\n",
        "\n",
        "Make sure that you've downloaded the required human and dog datasets:\n",
        "* Download the [dog dataset](https://s3-us-west-1.amazonaws.com/udacity-aind/dog-project/dogImages.zip).  Unzip the folder and place it in this project's home directory, at the location `/dog_images`. \n",
        "\n",
        "* Download the [human dataset](https://s3-us-west-1.amazonaws.com/udacity-aind/dog-project/lfw.zip).  Unzip the folder and place it in the home directory, at location `/lfw`.  \n",
        "\n",
        "*Note: If you are using a Windows machine, you are encouraged to use [7zip](http://www.7-zip.org/) to extract the folder.*\n",
        "\n",
        "In the code cell below, we save the file paths for both the human (LFW) dataset and dog dataset in the numpy arrays `human_files` and `dog_files`."
      ]
    },
    {
      "cell_type": "code",
      "metadata": {
        "id": "H2YkbQgL_Gcd",
        "colab_type": "code",
        "outputId": "a2ad0a91-3644-4463-e906-8bb62745d6b7",
        "colab": {
          "base_uri": "https://localhost:8080/",
          "height": 156
        }
      },
      "source": [
        "# save the model on Google Drive, link Google drive to this notebook\n",
        "from google.colab import drive\n",
        "drive.mount('/content/gdrive')\n",
        "\n",
        "# After executing this cell above, Drive\n",
        "# files will be present in \"/content/drive/My Drive\".\n",
        "!ls \"/content/gdrive/My Drive/ColabUdacity/dog-breed-classifier/\""
      ],
      "execution_count": 4,
      "outputs": [
        {
          "output_type": "stream",
          "text": [
            "Go to this URL in a browser: https://accounts.google.com/o/oauth2/auth?client_id=947318989803-6bn6qk8qdgf4n4g3pfee6491hc0brc4i.apps.googleusercontent.com&redirect_uri=urn%3Aietf%3Awg%3Aoauth%3A2.0%3Aoob&scope=email%20https%3A%2F%2Fwww.googleapis.com%2Fauth%2Fdocs.test%20https%3A%2F%2Fwww.googleapis.com%2Fauth%2Fdrive%20https%3A%2F%2Fwww.googleapis.com%2Fauth%2Fdrive.photos.readonly%20https%3A%2F%2Fwww.googleapis.com%2Fauth%2Fpeopleapi.readonly&response_type=code\n",
            "\n",
            "Enter your authorization code:\n",
            "··········\n",
            "Mounted at /content/gdrive\n",
            "dog_app.ipynb  haarcascades  lfw     my_test_images\t\tUntitled0.ipynb\n",
            "dogImages      images\t     models  uda-p2-dog-breed133.ipynb\n"
          ],
          "name": "stdout"
        }
      ]
    },
    {
      "cell_type": "code",
      "metadata": {
        "id": "CFIxPfg9-U7E",
        "colab_type": "code",
        "outputId": "cae39e79-6c79-4beb-feae-dc24c4f20ee2",
        "colab": {
          "base_uri": "https://localhost:8080/",
          "height": 34
        }
      },
      "source": [
        "import numpy as np\n",
        "from glob import glob\n",
        "from PIL import Image\n",
        "import matplotlib.pyplot as plt\n",
        "%matplotlib inline\n",
        "\n",
        "import torchvision.transforms as transforms\n",
        "import torch\n",
        "import torchvision.models as models\n",
        "\n",
        "# check if CUDA is available\n",
        "use_cuda = torch.cuda.is_available()\n",
        "print('cuda is available: ', use_cuda)\n",
        "\n",
        "data_dir = \"/content/gdrive/My Drive/ColabUdacity/dog-breed-classifier/\"\n"
      ],
      "execution_count": 2,
      "outputs": [
        {
          "output_type": "stream",
          "text": [
            "cuda is available:  True\n"
          ],
          "name": "stdout"
        }
      ]
    },
    {
      "cell_type": "code",
      "metadata": {
        "id": "vTffRnZUsIWM",
        "colab_type": "code",
        "outputId": "ceb5f40c-e481-4d23-cebe-56bf4b277e36",
        "colab": {
          "base_uri": "https://localhost:8080/",
          "height": 51
        }
      },
      "source": [
        "# load filenames for human and dog images\n",
        "human_files = np.array(glob(data_dir + \"lfw/*/*\"))\n",
        "print('There are %d total human images.' % len(human_files))\n",
        "\n",
        "dog_files = np.array(glob(data_dir + \"dogImages/*/*/*\"))\n",
        "print('There are %d total dog images.' % len(dog_files))"
      ],
      "execution_count": 0,
      "outputs": [
        {
          "output_type": "stream",
          "text": [
            "There are 13233 total human images.\n",
            "There are 8351 total dog images.\n"
          ],
          "name": "stdout"
        }
      ]
    },
    {
      "cell_type": "markdown",
      "metadata": {
        "id": "jTk_1aUd-U7I",
        "colab_type": "text"
      },
      "source": [
        "<a id='step1'></a>\n",
        "## Step 1: Detect Humans\n",
        "\n",
        "In this section, we use OpenCV's implementation of [Haar feature-based cascade classifiers](http://docs.opencv.org/trunk/d7/d8b/tutorial_py_face_detection.html) to detect human faces in images.  \n",
        "\n",
        "OpenCV provides many pre-trained face detectors, stored as XML files on [github](https://github.com/opencv/opencv/tree/master/data/haarcascades).  We have downloaded one of these detectors and stored it in the `haarcascades` directory.  In the next code cell, we demonstrate how to use this detector to find human faces in a sample image."
      ]
    },
    {
      "cell_type": "code",
      "metadata": {
        "id": "yNsE7S6k-U7J",
        "colab_type": "code",
        "outputId": "71b42990-ddb3-44db-c57d-b935811fc57e",
        "colab": {
          "base_uri": "https://localhost:8080/",
          "height": 286
        }
      },
      "source": [
        "import cv2                \n",
        "import matplotlib.pyplot as plt                        \n",
        "%matplotlib inline                               \n",
        "\n",
        "# extract pre-trained face detector\n",
        "#face_cascade = cv2.CascadeClassifier(data_dir +'haarcascades/haarcascade_frontalface_alt.xml')\n",
        "face_cascade = cv2.CascadeClassifier(data_dir +'haarcascades/haarcascade_eye.xml')\n",
        "\n",
        "# load color (BGR) image\n",
        "#img = cv2.imread(human_files[0])\n",
        "img = cv2.imread(dog_files[66])\n",
        "# convert BGR image to grayscale\n",
        "gray = cv2.cvtColor(img, cv2.COLOR_BGR2GRAY)\n",
        "\n",
        "# find faces in image\n",
        "faces = face_cascade.detectMultiScale(gray)\n",
        "\n",
        "# print number of faces detected in the image\n",
        "print('Number of faces detected:', len(faces))\n",
        "\n",
        "# get bounding box for each detected face\n",
        "for (x,y,w,h) in faces:\n",
        "    # add bounding box to color image\n",
        "    cv2.rectangle(img,(x,y),(x+w,y+h),(255,0,0),2)\n",
        "    \n",
        "# convert BGR image to RGB for plotting\n",
        "cv_rgb = cv2.cvtColor(img, cv2.COLOR_BGR2RGB)\n",
        "\n",
        "# display the image, along with bounding box\n",
        "plt.imshow(cv_rgb)\n",
        "plt.show()"
      ],
      "execution_count": 0,
      "outputs": [
        {
          "output_type": "stream",
          "text": [
            "Number of faces detected: 1\n"
          ],
          "name": "stdout"
        },
        {
          "output_type": "display_data",
          "data": {
            "image/png": "[encoded data removed]",
            "text/plain": [
              "<Figure size 432x288 with 1 Axes>"
            ]
          },
          "metadata": {
            "tags": []
          }
        }
      ]
    },
    {
      "cell_type": "markdown",
      "metadata": {
        "id": "iwCCHJtf-U7M",
        "colab_type": "text"
      },
      "source": [
        "Before using any of the face detectors, it is standard procedure to convert the images to grayscale.  The `detectMultiScale` function executes the classifier stored in `face_cascade` and takes the grayscale image as a parameter.  \n",
        "\n",
        "In the above code, `faces` is a numpy array of detected faces, where each row corresponds to a detected face.  Each detected face is a 1D array with four entries that specifies the bounding box of the detected face.  The first two entries in the array (extracted in the above code as `x` and `y`) specify the horizontal and vertical positions of the top left corner of the bounding box.  The last two entries in the array (extracted here as `w` and `h`) specify the width and height of the box.\n",
        "\n",
        "### Write a Human Face Detector\n",
        "\n",
        "We can use this procedure to write a function that returns `True` if a human face is detected in an image and `False` otherwise.  This function, aptly named `face_detector`, takes a string-valued file path to an image as input and appears in the code block below."
      ]
    },
    {
      "cell_type": "code",
      "metadata": {
        "id": "2HolbrqY-U7M",
        "colab_type": "code",
        "colab": {}
      },
      "source": [
        "# returns \"True\" if face is detected in image stored at img_path\n",
        "def face_detector(img_path):\n",
        "    img = cv2.imread(img_path)\n",
        "    gray = cv2.cvtColor(img, cv2.COLOR_BGR2GRAY)\n",
        "    faces = face_cascade.detectMultiScale(gray)\n",
        "    return len(faces) > 0"
      ],
      "execution_count": 0,
      "outputs": []
    },
    {
      "cell_type": "markdown",
      "metadata": {
        "id": "K_fgjPF_-U7O",
        "colab_type": "text"
      },
      "source": [
        "### (IMPLEMENTATION) Assess the Human Face Detector\n",
        "\n",
        "__Question 1:__ Use the code cell below to test the performance of the `face_detector` function.  \n",
        "- What percentage of the first 100 images in `human_files` have a detected human face?  \n",
        "- What percentage of the first 100 images in `dog_files` have a detected human face? \n",
        "\n",
        "Ideally, we would like 100% of human images with a detected face and 0% of dog images with a detected face.  You will see that our algorithm falls short of this goal, but still gives acceptable performance.  We extract the file paths for the first 100 images from each of the datasets and store them in the numpy arrays `human_files_short` and `dog_files_short`."
      ]
    },
    {
      "cell_type": "markdown",
      "metadata": {
        "id": "S6TD2mxX-U7O",
        "colab_type": "text"
      },
      "source": [
        "__Answer:__ \n",
        "(You can print out your results and/or write your percentages in this cell)\n",
        "\n",
        "*100% of faces  in human_files_short detected,  and \n",
        "7% of faces in dog_files_short detected*"
      ]
    },
    {
      "cell_type": "code",
      "metadata": {
        "id": "WFX2hB_t-U7P",
        "colab_type": "code",
        "colab": {}
      },
      "source": [
        "from tqdm import tqdm\n",
        "\n",
        "human_files_short = human_files[:100]\n",
        "dog_files_short = dog_files[:100]\n",
        "#-#-# Do NOT modify the code above this line. #-#-#"
      ],
      "execution_count": 0,
      "outputs": []
    },
    {
      "cell_type": "code",
      "metadata": {
        "id": "tCOcJYU3-U7R",
        "colab_type": "code",
        "outputId": "1848ba54-59e7-4abc-a14c-901f299ceed1",
        "colab": {
          "base_uri": "https://localhost:8080/",
          "height": 51
        }
      },
      "source": [
        "## TODO: Test the performance of the face_detector algorithm \n",
        "## on the images in human_files_short and dog_files_short.\n",
        "\n",
        "counter = 0\n",
        "\n",
        "counter = 0\n",
        "for i, img_path in enumerate(human_files_short):\n",
        "    if face_detector(img_path):\n",
        "        counter += 1\n",
        "\n",
        "print('Number of faces detected, in human_files:', counter)\n",
        "\n",
        "counter = 0\n",
        "for i, img_path in enumerate(dog_files_short):\n",
        "    if face_detector(img_path):\n",
        "        counter += 1\n",
        "print('Number of faces detected in dog_files: ', counter)"
      ],
      "execution_count": 0,
      "outputs": [
        {
          "output_type": "stream",
          "text": [
            "Number of faces detected, in human_files: 100\n",
            "Number of faces detected in dog_files:  7\n"
          ],
          "name": "stdout"
        }
      ]
    },
    {
      "cell_type": "markdown",
      "metadata": {
        "id": "QU4i760F-U7T",
        "colab_type": "text"
      },
      "source": [
        "We suggest the face detector from OpenCV as a potential way to detect human images in your algorithm, but you are free to explore other approaches, especially approaches that make use of deep learning :).  Please use the code cell below to design and test your own face detection algorithm.  If you decide to pursue this _optional_ task, report performance on `human_files_short` and `dog_files_short`."
      ]
    },
    {
      "cell_type": "code",
      "metadata": {
        "id": "iR6r7_9H-U7U",
        "colab_type": "code",
        "colab": {}
      },
      "source": [
        "### (Optional) \n",
        "### TODO: Test performance of anotherface detection algorithm.\n",
        "### Feel free to use as many code cells as needed."
      ],
      "execution_count": 0,
      "outputs": []
    },
    {
      "cell_type": "markdown",
      "metadata": {
        "id": "4Ehbw417-U7V",
        "colab_type": "text"
      },
      "source": [
        "---\n",
        "<a id='step2'></a>\n",
        "## Step 2: Detect Dogs\n",
        "\n",
        "In this section, we use a [pre-trained model](http://pytorch.org/docs/master/torchvision/models.html) to detect dogs in images.  \n",
        "\n",
        "### Obtain Pre-trained VGG-16 Model\n",
        "\n",
        "The code cell below downloads the VGG-16 model, along with weights that have been trained on [ImageNet](http://www.image-net.org/), a very large, very popular dataset used for image classification and other vision tasks.  ImageNet contains over 10 million URLs, each linking to an image containing an object from one of [1000 categories](https://gist.github.com/yrevar/942d3a0ac09ec9e5eb3a).  "
      ]
    },
    {
      "cell_type": "code",
      "metadata": {
        "id": "OutcH5X7-U7W",
        "colab_type": "code",
        "outputId": "17f7d6ab-5f9a-4535-e9ef-90e94f71003b",
        "colab": {
          "base_uri": "https://localhost:8080/",
          "height": 34
        }
      },
      "source": [
        "\n",
        "\n",
        "# define VGG16 model\n",
        "VGG16 = models.vgg16(pretrained=True)\n",
        "\n",
        "# move model to GPU if CUDA is available\n",
        "device = torch.device(\"cuda\" if torch.cuda.is_available() else \"cpu\")\n",
        "VGG16.to(device)\n",
        "    \n",
        "print('model is on cuda: ', next(VGG16.parameters()).is_cuda)"
      ],
      "execution_count": 0,
      "outputs": [
        {
          "output_type": "stream",
          "text": [
            "model is on cuda:  True\n"
          ],
          "name": "stdout"
        }
      ]
    },
    {
      "cell_type": "markdown",
      "metadata": {
        "id": "FzsTVdZz-U7Y",
        "colab_type": "text"
      },
      "source": [
        "Given an image, this pre-trained VGG-16 model returns a prediction (derived from the 1000 possible categories in ImageNet) for the object that is contained in the image."
      ]
    },
    {
      "cell_type": "markdown",
      "metadata": {
        "id": "xrlDLJcx-U7a",
        "colab_type": "text"
      },
      "source": [
        "### (IMPLEMENTATION) Making Predictions with a Pre-trained Model\n",
        "\n",
        "In the next code cell, you will write a function that accepts a path to an image (such as `'dogImages/train/001.Affenpinscher/Affenpinscher_00001.jpg'`) as input and returns the index corresponding to the ImageNet class that is predicted by the pre-trained VGG-16 model.  The output should always be an integer between 0 and 999, inclusive.\n",
        "\n",
        "Before writing the function, make sure that you take the time to learn  how to appropriately pre-process tensors for pre-trained models in the [PyTorch documentation](http://pytorch.org/docs/stable/torchvision/models.html)."
      ]
    },
    {
      "cell_type": "code",
      "metadata": {
        "id": "_0ECEF74-U7c",
        "colab_type": "code",
        "colab": {}
      },
      "source": [
        "#test = 'images/American_water_spaniel_00648.jpg'\n",
        "\n",
        "# My helper function for pre-processing a PIL image\n",
        "def prepocess_img(img_path):\n",
        "    ## Load and pre-process an image from the given img_path\n",
        "    pil_image = Image.open(img_path)\n",
        "                     \n",
        "    my_normalize = transforms.Normalize(mean=[0.485, 0.456, 0.406],\n",
        "                                 std=[0.229, 0.224, 0.225])\n",
        "    my_transforms = transforms.Compose([\n",
        "                       transforms.Resize(256),\n",
        "                       transforms.CenterCrop(224),\n",
        "                       transforms.ToTensor(),\n",
        "                       my_normalize])\n",
        "    \n",
        "    image = my_transforms(pil_image)\n",
        "      \n",
        "    image = image.unsqueeze_(0)\n",
        "    #print('img was pre-processed. ', image.shape)\n",
        "    return image\n",
        "  "
      ],
      "execution_count": 0,
      "outputs": []
    },
    {
      "cell_type": "code",
      "metadata": {
        "id": "vWzRr9q6-U7e",
        "colab_type": "code",
        "colab": {}
      },
      "source": [
        "\n",
        "def VGG16_predict(img_path):\n",
        "    '''\n",
        "    Use pre-trained VGG-16 model to obtain index corresponding to \n",
        "    predicted ImageNet class for image at specified path\n",
        "    \n",
        "    Args:\n",
        "        img_path: path to an image\n",
        "        \n",
        "    Returns:\n",
        "        Index corresponding to VGG-16 model's prediction\n",
        "    '''\n",
        "    \n",
        "    ## TODO: Complete the function.\n",
        "    img_as_tensor = prepocess_img(img_path).to(device)\n",
        "        \n",
        "    output = VGG16(img_as_tensor)\n",
        "    #print('output:', output.shape)\n",
        "    \n",
        "    ## Return the *index* of the predicted class for that image\n",
        "    probabilities = torch.exp(output)\n",
        "    _, top = probabilities.topk(1, dim=1)\n",
        "    #print('top class: ', top)\n",
        "    return top # predicted class index\n",
        "\n",
        "#test = data_dir +'images/American_water_spaniel_00648.jpg'\n",
        "#VGG16_predict(test)"
      ],
      "execution_count": 0,
      "outputs": []
    },
    {
      "cell_type": "markdown",
      "metadata": {
        "id": "t0TZJXIv-U7g",
        "colab_type": "text"
      },
      "source": [
        "### (IMPLEMENTATION) Write a Dog Detector\n",
        "\n",
        "While looking at the [dictionary](https://gist.github.com/yrevar/942d3a0ac09ec9e5eb3a), you will notice that the categories corresponding to dogs appear in an uninterrupted sequence and correspond to dictionary keys 151-268, inclusive, to include all categories from `'Chihuahua'` to `'Mexican hairless'`.  Thus, in order to check to see if an image is predicted to contain a dog by the pre-trained VGG-16 model, we need only check if the pre-trained model predicts an index between 151 and 268 (inclusive).\n",
        "\n",
        "Use these ideas to complete the `dog_detector` function below, which returns `True` if a dog is detected in an image (and `False` if not)."
      ]
    },
    {
      "cell_type": "code",
      "metadata": {
        "id": "yU1rwLCo-U7h",
        "colab_type": "code",
        "colab": {}
      },
      "source": [
        "### returns \"True\" if a dog is detected in the image stored at img_path\n",
        "def dog_detector(img_path):\n",
        "    ## TODO: Complete the function.\n",
        "    index = VGG16_predict(img_path)\n",
        "    #print('index: ', index[0])\n",
        "    return (index > 150) and (index < 269)"
      ],
      "execution_count": 0,
      "outputs": []
    },
    {
      "cell_type": "markdown",
      "metadata": {
        "id": "g-cvVh2w-U7j",
        "colab_type": "text"
      },
      "source": [
        "### (IMPLEMENTATION) Assess the Dog Detector\n",
        "\n",
        "__Question 2:__ Use the code cell below to test the performance of your `dog_detector` function.  \n",
        "- What percentage of the images in `human_files_short` have a detected dog?  \n",
        "- What percentage of the images in `dog_files_short` have a detected dog?"
      ]
    },
    {
      "cell_type": "markdown",
      "metadata": {
        "id": "1mGHDLU9-U7j",
        "colab_type": "text"
      },
      "source": [
        "__Answer:__ \n",
        "\n",
        "*With VGG16 as pre-trained model, \n",
        "1% of the files in human_files_short were classified as dogs.  \n",
        "97% of the files in dog_files_short were classified as dogs. *\n"
      ]
    },
    {
      "cell_type": "code",
      "metadata": {
        "id": "pFEPF0Zs-U7k",
        "colab_type": "code",
        "outputId": "a281778d-92c2-47ae-e536-0b49a048d192",
        "colab": {
          "base_uri": "https://localhost:8080/",
          "height": 68
        }
      },
      "source": [
        "### TODO: Test the performance of the dog_detector function\n",
        "### on the images in human_files_short and dog_files_short.\n",
        "\n",
        "def test_performance(detector, *args):\n",
        "    print('test_performance with {} started'.format(detector))\n",
        "    counter = 0\n",
        "    for img_path in human_files_short:\n",
        "        if detector(img_path):\n",
        "            counter += 1\n",
        "\n",
        "    print('{}/{} of detected dogs, in human_files:'.format(counter, len(human_files_short)))\n",
        "\n",
        "    counter = 0\n",
        "    for img_path in dog_files_short:\n",
        "        if detector(img_path):\n",
        "            counter += 1\n",
        "    print('{}/{} of detected dogs, in dog_files: '.format(counter, len(human_files_short)))\n",
        "\n",
        "    \n",
        "test_performance(dog_detector)\n"
      ],
      "execution_count": 0,
      "outputs": [
        {
          "output_type": "stream",
          "text": [
            "test_performance with <function dog_detector at 0x7fb7d5a27840> started\n",
            "1/100 of detected dogs, in human_files:\n",
            "97/100 of detected dogs, in dog_files: \n"
          ],
          "name": "stdout"
        }
      ]
    },
    {
      "cell_type": "markdown",
      "metadata": {
        "id": "W6ZMjUqt-U7o",
        "colab_type": "text"
      },
      "source": [
        "We suggest VGG-16 as a potential network to detect dog images in your algorithm, but you are free to explore other pre-trained networks (such as [Inception-v3](http://pytorch.org/docs/master/torchvision/models.html#inception-v3), [ResNet-50](http://pytorch.org/docs/master/torchvision/models.html#id3), etc).  Please use the code cell below to test other pre-trained PyTorch models.  If you decide to pursue this _optional_ task, report performance on `human_files_short` and `dog_files_short`."
      ]
    },
    {
      "cell_type": "code",
      "metadata": {
        "id": "SQl-0nEk-U7o",
        "colab_type": "code",
        "colab": {}
      },
      "source": [
        "### (Optional) \n",
        "### TODO: Report the performance of another pre-trained network.\n",
        "### Feel free to use as many code cells as needed.\n",
        "\n",
        "resnet = models.resnet50(pretrained=True).to(device)\n"
      ],
      "execution_count": 0,
      "outputs": []
    },
    {
      "cell_type": "markdown",
      "metadata": {
        "id": "dyu_n2IJ-U7s",
        "colab_type": "text"
      },
      "source": [
        "With ResNet50 as pre-trained model, 0% of the files in human_files_short were classified as dogs. 0% of the files in dog_files_short were classified as dogs."
      ]
    },
    {
      "cell_type": "code",
      "metadata": {
        "id": "Zwg3_AOe-U7s",
        "colab_type": "code",
        "outputId": "ab1afd30-c0ec-44a5-fa9d-5cb19552cb52",
        "colab": {
          "base_uri": "https://localhost:8080/",
          "height": 68
        }
      },
      "source": [
        "\n",
        "def resnet_predict(img_path):\n",
        "    imgtensor = prepocess_img(img_path).to(device)\n",
        "    \n",
        "    output = resnet(imgtensor)\n",
        "    probs = torch.exp(output)\n",
        "    _, top_classes = probs.topk(1, dim=1)\n",
        "    return top_classes\n",
        "\n",
        "\n",
        "def resnet_dog_detector(path):\n",
        "    index = resnet_predict(path)\n",
        "    #print(index)\n",
        "    return (index > 150) and (index < 269)\n",
        "\n",
        "# test the performance with ResNet18\n",
        "test_performance(resnet_dog_detector)"
      ],
      "execution_count": 0,
      "outputs": [
        {
          "output_type": "stream",
          "text": [
            "test_performance with <function resnet_dog_detector at 0x7fb7b4bea730> started\n",
            "0/100 of detected dogs, in human_files:\n",
            "0/100 of detected dogs, in dog_files: \n"
          ],
          "name": "stdout"
        }
      ]
    },
    {
      "cell_type": "code",
      "metadata": {
        "id": "nLRrtX5i-U7v",
        "colab_type": "code",
        "colab": {}
      },
      "source": [
        ""
      ],
      "execution_count": 0,
      "outputs": []
    },
    {
      "cell_type": "markdown",
      "metadata": {
        "id": "aHQKpSZw-U7w",
        "colab_type": "text"
      },
      "source": [
        "---\n",
        "<a id='step3'></a>\n",
        "## Step 3: Create a CNN to Classify Dog Breeds (from Scratch)\n",
        "\n",
        "Now that we have functions for detecting humans and dogs in images, we need a way to predict breed from images.  In this step, you will create a CNN that classifies dog breeds.  You must create your CNN _from scratch_ (so, you can't use transfer learning _yet_!), and you must attain a test accuracy of at least 10%.  In Step 4 of this notebook, you will have the opportunity to use transfer learning to create a CNN that attains greatly improved accuracy.\n",
        "\n",
        "We mention that the task of assigning breed to dogs from images is considered exceptionally challenging.  To see why, consider that *even a human* would have trouble distinguishing between a Brittany and a Welsh Springer Spaniel.  \n",
        "\n",
        "Brittany | Welsh Springer Spaniel\n",
        "- | - \n",
        "<img src=\"/content/gdrive/My Drive/ColabUdacity/dog-breed-classifier/images/Brittany_02625.jpg\" width=\"100\"> | <img src=\"/content/gdrive/My Drive/ColabUdacity/dog-breed-classifier/images/Welsh_springer_spaniel_08203.jpg\" width=\"200\">\n",
        "\n",
        "It is not difficult to find other dog breed pairs with minimal inter-class variation (for instance, Curly-Coated Retrievers and American Water Spaniels).  \n",
        "\n",
        "Curly-Coated Retriever | American Water Spaniel\n",
        "- | -\n",
        "<img src=\"https://github.com/Berenice2018/dog-breed133-classifier/blob/master/images/Curly-coated_retriever_03896.jpg?raw=1\" width=\"200\"> | <img src=\"https://github.com/Berenice2018/dog-breed133-classifier/blob/master/images/American_water_spaniel_00648.jpg?raw=1\" width=\"200\">\n",
        "\n",
        "\n",
        "Likewise, recall that labradors come in yellow, chocolate, and black.  Your vision-based algorithm will have to conquer this high intra-class variation to determine how to classify all of these different shades as the same breed.  \n",
        "\n",
        "Yellow Labrador | Chocolate Labrador | Black Labrador\n",
        "- | -\n",
        "<img src=\"https://github.com/Berenice2018/dog-breed133-classifier/blob/master/images/Labrador_retriever_06457.jpg?raw=1\" width=\"150\"> | <img src=\"https://github.com/Berenice2018/dog-breed133-classifier/blob/master/images/Labrador_retriever_06455.jpg?raw=1\" width=\"240\"> | <img src=\"https://github.com/Berenice2018/dog-breed133-classifier/blob/master/images/Labrador_retriever_06449.jpg?raw=1\" width=\"220\">\n",
        "\n",
        "We also mention that random chance presents an exceptionally low bar: setting aside the fact that the classes are slightly imabalanced, a random guess will provide a correct answer roughly 1 in 133 times, which corresponds to an accuracy of less than 1%.  \n",
        "\n",
        "Remember that the practice is far ahead of the theory in deep learning.  Experiment with many different architectures, and trust your intuition.  And, of course, have fun!\n",
        "\n",
        "### (IMPLEMENTATION) Specify Data Loaders for the Dog Dataset\n",
        "\n",
        "Use the code cell below to write three separate [data loaders](http://pytorch.org/docs/stable/data.html#torch.utils.data.DataLoader) for the training, validation, and test datasets of dog images (located at `dog_images/train`, `dog_images/valid`, and `dog_images/test`, respectively).  You may find [this documentation on custom datasets](http://pytorch.org/docs/stable/torchvision/datasets.html) to be a useful resource.  If you are interested in augmenting your training and/or validation data, check out the wide variety of [transforms](http://pytorch.org/docs/stable/torchvision/transforms.html?highlight=transform)!"
      ]
    },
    {
      "cell_type": "code",
      "metadata": {
        "id": "Cro_sFHv-U7w",
        "colab_type": "code",
        "outputId": "68c6ef1a-89c6-499f-aeb0-d478d8d4a914",
        "colab": {
          "base_uri": "https://localhost:8080/",
          "height": 51
        }
      },
      "source": [
        "import os\n",
        "from torchvision import datasets\n",
        "import torchvision.transforms as transforms\n",
        "import torch.utils.data\n",
        "\n",
        "\n",
        "train_dir = os.path.join(data_dir, 'dogImages/train')\n",
        "valid_dir = os.path.join(data_dir, 'dogImages/valid')\n",
        "test_dir = os.path.join(data_dir, 'dogImages/test')\n",
        "\n",
        "### TODO: Write data loaders for training, validation, and test sets\n",
        "## Specify appropriate transforms, and batch_sizes\n",
        "\n",
        "batch_size = 64\n",
        "num_workers = 0\n",
        "img_size = 224\n",
        "\n",
        "mean = [0.485, 0.456, 0.406]\n",
        "std=[0.229, 0.224, 0.225]\n",
        "    \n",
        "my_transform = transforms.Compose([#p.torch_transform(),\n",
        "    transforms.RandomHorizontalFlip(),\n",
        "    transforms.RandomRotation(16),\n",
        "    transforms.RandomResizedCrop(img_size),\n",
        "    transforms.ToTensor(),\n",
        "    transforms.Normalize(mean, std)\n",
        "      ])\n",
        "\n",
        "valid_transform = transforms.Compose([\n",
        "    transforms.Resize(320),\n",
        "    transforms.CenterCrop(img_size),\n",
        "    transforms.ToTensor(),\n",
        "    transforms.Normalize(mean, std)\n",
        "])\n",
        "train_data = datasets.ImageFolder(train_dir, transform=my_transform)\n",
        "valid_data = datasets.ImageFolder(valid_dir, transform = valid_transform)\n",
        "test_data = datasets.ImageFolder(test_dir, transform = valid_transform)\n",
        "\n",
        "print('length of train_data = {} |valid_data= {} | test_data= {}'.format(len(train_data), len(valid_data), len(test_data)))\n",
        "\n",
        "train_loader = torch.utils.data.DataLoader(train_data, batch_size=batch_size, num_workers=num_workers, shuffle=True)\n",
        "valid_loader = torch.utils.data.DataLoader(valid_data, batch_size=batch_size, num_workers=num_workers)\n",
        "test_loader = torch.utils.data.DataLoader(test_data, batch_size=batch_size, num_workers=num_workers)\n",
        "\n",
        "loaders_scratch = [train_loader, valid_loader, test_loader]\n",
        "\n",
        "device = torch.device(\"cuda\" if torch.cuda.is_available() else \"cpu\")\n",
        "print('device: ', device)"
      ],
      "execution_count": 5,
      "outputs": [
        {
          "output_type": "stream",
          "text": [
            "length of train_data = 6680 |valid_data= 835 | test_data= 836\n",
            "device:  cuda\n"
          ],
          "name": "stdout"
        }
      ]
    },
    {
      "cell_type": "markdown",
      "metadata": {
        "id": "_n6IQTl3-U7y",
        "colab_type": "text"
      },
      "source": [
        "**Question 3:** Describe your chosen procedure for preprocessing the data. \n",
        "- How does your code resize the images (by cropping, stretching, etc)?  What size did you pick for the input tensor, and why?\n",
        "- Did you decide to augment the dataset?  If so, how (through translations, flips, rotations, etc)?  If not, why not?\n",
        "\n",
        "\n",
        "**Answer:**\n",
        "I did some data augmentation by \n",
        "\n",
        "1.   randomly flipping the image with a 50% probability for the image being flipped\n",
        "2.   randomly rotating by 16 degrees\n",
        "\n",
        "3. resizing and cropping the images to 320 px and 224 px respectively. I chose 224 px as final image size, since I knew that ResNet and other well-known pre-trained models request this size, too. \n",
        "\n",
        "4. normalizing the images by the values which are also special to ImageNet. \n",
        "\n",
        "\n",
        "The given data set of 6,500 images is quite small in regards to 133 classes. Data augmentation helps in enlarging the data set, so that the network gets more input to learn from. \n",
        "\n",
        "\n"
      ]
    },
    {
      "cell_type": "code",
      "metadata": {
        "id": "bDGv3DV6uDB0",
        "colab_type": "code",
        "colab": {}
      },
      "source": [
        "\n",
        "# function to un-normalize and display an image\n",
        "def imshow(img):\n",
        "    img = img / 2 + 0.5  # unnormalize\n",
        "    plt.imshow(np.transpose(img, (1, 2, 0)))  # convert from Tensor image"
      ],
      "execution_count": 0,
      "outputs": []
    },
    {
      "cell_type": "code",
      "metadata": {
        "id": "mHisHNcjuKxx",
        "colab_type": "code",
        "colab": {}
      },
      "source": [
        "# get a batch of training images\n",
        "dataiter = iter(train_loader)\n",
        "images, _ = dataiter.next()\n",
        "images = images.numpy() # convert images to numpy\n",
        "\n",
        "# plot the images of the batch, along with the corresponding labels\n",
        "fig = plt.figure(figsize=(25, 4))\n",
        "\n",
        "for idx in np.arange(20):\n",
        "    ax = fig.add_subplot(2, 20/2, idx+1, xticks=[], yticks=[])\n",
        "    imshow(images[idx])\n"
      ],
      "execution_count": 0,
      "outputs": []
    },
    {
      "cell_type": "markdown",
      "metadata": {
        "id": "JuaIAYfX-U7y",
        "colab_type": "text"
      },
      "source": [
        "**Answer**:"
      ]
    },
    {
      "cell_type": "markdown",
      "metadata": {
        "id": "417PiDHM-U7z",
        "colab_type": "text"
      },
      "source": [
        "### (IMPLEMENTATION) Model Architecture\n",
        "\n",
        "Create a CNN to classify dog breed.  Use the template in the code cell below."
      ]
    },
    {
      "cell_type": "code",
      "metadata": {
        "id": "-v5ZoKlu-U70",
        "colab_type": "code",
        "outputId": "367683c8-7815-413a-c903-a210c5098b37",
        "colab": {
          "base_uri": "https://localhost:8080/",
          "height": 1000
        }
      },
      "source": [
        "import torch.nn as nn\n",
        "import torch.nn.functional as F\n",
        "\n",
        "def weights_init_normal(m):\n",
        "    '''Takes in a module and initializes all linear layers with weight\n",
        "       values taken from a normal distribution.'''\n",
        "    classname = m.__class__.__name__\n",
        "    # for every Linear layer in a model\n",
        "    if classname.find('Linear') != -1:\n",
        "        n = m.in_features\n",
        "        # m.weight.data shoud be taken from a normal distribution\n",
        "        m.weight.data.normal_(0, 1/np.sqrt(n))\n",
        "        # m.bias.data should be 0\n",
        "        m.bias.data.fill_(0)\n",
        "        \n",
        "        \n",
        "# normalize each layer:\n",
        "class MyBatchNormLayer(nn.Module):\n",
        "    def __init__(self, input_number, filter_number, stride=2, kernel_size=3, padding=1):\n",
        "        super().__init__()\n",
        "        self.conv = nn.Conv2d(input_number, filter_number, kernel_size=kernel_size,\n",
        "                             stride=stride, bias=False, padding=1)\n",
        "        self.normalized = nn.BatchNorm2d(filter_number)\n",
        "    \n",
        "    def forward(self,x):\n",
        "        x = F.relu(self.conv(x))\n",
        "        #print('MyBatchNormLayer x.shape= ', x.shape)\n",
        "        return self.normalized(x)\n",
        "\n",
        "    \n",
        "class ResnetLayer(MyBatchNormLayer):\n",
        "    def forward(self, x): return x + super().forward(x)\n",
        "    \n",
        "    \n",
        "class MyConvBnNet(nn.Module):\n",
        "    def __init__(self, layers, classes_number, dropout=0):\n",
        "        super().__init__()\n",
        "        # define the first convolutional layer manually\n",
        "        self.conv1 = MyBatchNormLayer(3, 64,kernel_size=7, stride=2, padding=1)\n",
        "        self.pool1 = nn.MaxPool2d(3,2)\n",
        "        \n",
        "        self.layers1 = nn.ModuleList([MyBatchNormLayer(layers[i], layers[i+1]) for i in range(len(layers)-1)])\n",
        "        self.layers2 = nn.ModuleList([ResnetLayer(layers[i+1], layers[i+1], 1) for i in range(len(layers) - 1)])\n",
        "        self.layers3 = nn.ModuleList([ResnetLayer(layers[i+1], layers[i+1], 1) for i in range(len(layers) - 1)])\n",
        "        self.layers4 = nn.ModuleList([ResnetLayer(layers[i+1], layers[i+1], 1) for i in range(len(layers) - 1)])\n",
        "        self.layers5 = nn.ModuleList([ResnetLayer(layers[i+1], layers[i+1], 1) for i in range(len(layers) - 1)])\n",
        "        self.layers6 = nn.ModuleList([ResnetLayer(layers[i+1], layers[i+1], 1) for i in range(len(layers) - 1)])\n",
        "        self.layers7 = nn.ModuleList([ResnetLayer(layers[i+1], layers[i+1], 1) for i in range(len(layers) - 1)])\n",
        "        self.layers8 = nn.ModuleList([ResnetLayer(layers[i+1], layers[i+1], 1) for i in range(len(layers) - 1)])\n",
        "        \n",
        "        #self.linear1 = nn.Linear(layers[-1], 512)\n",
        "        self.outlayer = nn.Linear(layers[-1], classes_number)\n",
        "        self.dropout = nn.Dropout(dropout)\n",
        "        \n",
        "    def forward(self,x):\n",
        "        x = F.relu(self.conv1(x))\n",
        "        x = self.pool1(x)\n",
        "        for lyr1 ,lyr2, lyr3, lyr4, lyr5, lyr6 in zip(\n",
        "            self.layers1, self.layers2, self.layers3, self.layers4, self.layers5, self.layers6): \n",
        "            x = lyr4(lyr3(lyr2(lyr1(x))))\n",
        "            x =  lyr6(lyr5(x)) # lyr8(lyr7(lyr6(lyr5(x))))\n",
        "        x = F.adaptive_max_pool2d(x,1)\n",
        "        #print('MyConvBnNet after adaptive_max_pool2d, x.shape=', x.shape)\n",
        "        x = x.view(x.size(0), -1)\n",
        "        x = self.dropout(x)\n",
        "        #x = self.linear1(x)\n",
        "        x = self.outlayer(x)\n",
        "        return F.log_softmax(x, dim= -1)\n",
        "\n",
        "\n",
        "# check if CUDA is available\n",
        "use_cuda = torch.cuda.is_available()\n",
        "print('cuda available: ', use_cuda)\n",
        "\n",
        "# instantiate the CNN\n",
        "#model_scratch = MyConvBnNet([10, 20, 40], 133)\n",
        "model_scratch = MyConvBnNet([64, 128, 256, 512, 1024], 133, 0.1)\n",
        "print(model_scratch)\n",
        "\n",
        "model_scratch.apply(weights_init_normal)\n",
        "\n",
        "# move tensors to GPU if CUDA is available\n",
        "if use_cuda:\n",
        "    model_scratch.cuda()\n",
        "print('model is on cuda: ', next(model_scratch.parameters()).is_cuda)"
      ],
      "execution_count": 6,
      "outputs": [
        {
          "output_type": "stream",
          "text": [
            "cuda available:  True\n",
            "MyConvBnNet(\n",
            "  (conv1): MyBatchNormLayer(\n",
            "    (conv): Conv2d(3, 64, kernel_size=(7, 7), stride=(2, 2), padding=(1, 1), bias=False)\n",
            "    (normalized): BatchNorm2d(64, eps=1e-05, momentum=0.1, affine=True, track_running_stats=True)\n",
            "  )\n",
            "  (pool1): MaxPool2d(kernel_size=3, stride=2, padding=0, dilation=1, ceil_mode=False)\n",
            "  (layers1): ModuleList(\n",
            "    (0): MyBatchNormLayer(\n",
            "      (conv): Conv2d(64, 128, kernel_size=(3, 3), stride=(2, 2), padding=(1, 1), bias=False)\n",
            "      (normalized): BatchNorm2d(128, eps=1e-05, momentum=0.1, affine=True, track_running_stats=True)\n",
            "    )\n",
            "    (1): MyBatchNormLayer(\n",
            "      (conv): Conv2d(128, 256, kernel_size=(3, 3), stride=(2, 2), padding=(1, 1), bias=False)\n",
            "      (normalized): BatchNorm2d(256, eps=1e-05, momentum=0.1, affine=True, track_running_stats=True)\n",
            "    )\n",
            "    (2): MyBatchNormLayer(\n",
            "      (conv): Conv2d(256, 512, kernel_size=(3, 3), stride=(2, 2), padding=(1, 1), bias=False)\n",
            "      (normalized): BatchNorm2d(512, eps=1e-05, momentum=0.1, affine=True, track_running_stats=True)\n",
            "    )\n",
            "    (3): MyBatchNormLayer(\n",
            "      (conv): Conv2d(512, 1024, kernel_size=(3, 3), stride=(2, 2), padding=(1, 1), bias=False)\n",
            "      (normalized): BatchNorm2d(1024, eps=1e-05, momentum=0.1, affine=True, track_running_stats=True)\n",
            "    )\n",
            "  )\n",
            "  (layers2): ModuleList(\n",
            "    (0): ResnetLayer(\n",
            "      (conv): Conv2d(128, 128, kernel_size=(3, 3), stride=(1, 1), padding=(1, 1), bias=False)\n",
            "      (normalized): BatchNorm2d(128, eps=1e-05, momentum=0.1, affine=True, track_running_stats=True)\n",
            "    )\n",
            "    (1): ResnetLayer(\n",
            "      (conv): Conv2d(256, 256, kernel_size=(3, 3), stride=(1, 1), padding=(1, 1), bias=False)\n",
            "      (normalized): BatchNorm2d(256, eps=1e-05, momentum=0.1, affine=True, track_running_stats=True)\n",
            "    )\n",
            "    (2): ResnetLayer(\n",
            "      (conv): Conv2d(512, 512, kernel_size=(3, 3), stride=(1, 1), padding=(1, 1), bias=False)\n",
            "      (normalized): BatchNorm2d(512, eps=1e-05, momentum=0.1, affine=True, track_running_stats=True)\n",
            "    )\n",
            "    (3): ResnetLayer(\n",
            "      (conv): Conv2d(1024, 1024, kernel_size=(3, 3), stride=(1, 1), padding=(1, 1), bias=False)\n",
            "      (normalized): BatchNorm2d(1024, eps=1e-05, momentum=0.1, affine=True, track_running_stats=True)\n",
            "    )\n",
            "  )\n",
            "  (layers3): ModuleList(\n",
            "    (0): ResnetLayer(\n",
            "      (conv): Conv2d(128, 128, kernel_size=(3, 3), stride=(1, 1), padding=(1, 1), bias=False)\n",
            "      (normalized): BatchNorm2d(128, eps=1e-05, momentum=0.1, affine=True, track_running_stats=True)\n",
            "    )\n",
            "    (1): ResnetLayer(\n",
            "      (conv): Conv2d(256, 256, kernel_size=(3, 3), stride=(1, 1), padding=(1, 1), bias=False)\n",
            "      (normalized): BatchNorm2d(256, eps=1e-05, momentum=0.1, affine=True, track_running_stats=True)\n",
            "    )\n",
            "    (2): ResnetLayer(\n",
            "      (conv): Conv2d(512, 512, kernel_size=(3, 3), stride=(1, 1), padding=(1, 1), bias=False)\n",
            "      (normalized): BatchNorm2d(512, eps=1e-05, momentum=0.1, affine=True, track_running_stats=True)\n",
            "    )\n",
            "    (3): ResnetLayer(\n",
            "      (conv): Conv2d(1024, 1024, kernel_size=(3, 3), stride=(1, 1), padding=(1, 1), bias=False)\n",
            "      (normalized): BatchNorm2d(1024, eps=1e-05, momentum=0.1, affine=True, track_running_stats=True)\n",
            "    )\n",
            "  )\n",
            "  (layers4): ModuleList(\n",
            "    (0): ResnetLayer(\n",
            "      (conv): Conv2d(128, 128, kernel_size=(3, 3), stride=(1, 1), padding=(1, 1), bias=False)\n",
            "      (normalized): BatchNorm2d(128, eps=1e-05, momentum=0.1, affine=True, track_running_stats=True)\n",
            "    )\n",
            "    (1): ResnetLayer(\n",
            "      (conv): Conv2d(256, 256, kernel_size=(3, 3), stride=(1, 1), padding=(1, 1), bias=False)\n",
            "      (normalized): BatchNorm2d(256, eps=1e-05, momentum=0.1, affine=True, track_running_stats=True)\n",
            "    )\n",
            "    (2): ResnetLayer(\n",
            "      (conv): Conv2d(512, 512, kernel_size=(3, 3), stride=(1, 1), padding=(1, 1), bias=False)\n",
            "      (normalized): BatchNorm2d(512, eps=1e-05, momentum=0.1, affine=True, track_running_stats=True)\n",
            "    )\n",
            "    (3): ResnetLayer(\n",
            "      (conv): Conv2d(1024, 1024, kernel_size=(3, 3), stride=(1, 1), padding=(1, 1), bias=False)\n",
            "      (normalized): BatchNorm2d(1024, eps=1e-05, momentum=0.1, affine=True, track_running_stats=True)\n",
            "    )\n",
            "  )\n",
            "  (layers5): ModuleList(\n",
            "    (0): ResnetLayer(\n",
            "      (conv): Conv2d(128, 128, kernel_size=(3, 3), stride=(1, 1), padding=(1, 1), bias=False)\n",
            "      (normalized): BatchNorm2d(128, eps=1e-05, momentum=0.1, affine=True, track_running_stats=True)\n",
            "    )\n",
            "    (1): ResnetLayer(\n",
            "      (conv): Conv2d(256, 256, kernel_size=(3, 3), stride=(1, 1), padding=(1, 1), bias=False)\n",
            "      (normalized): BatchNorm2d(256, eps=1e-05, momentum=0.1, affine=True, track_running_stats=True)\n",
            "    )\n",
            "    (2): ResnetLayer(\n",
            "      (conv): Conv2d(512, 512, kernel_size=(3, 3), stride=(1, 1), padding=(1, 1), bias=False)\n",
            "      (normalized): BatchNorm2d(512, eps=1e-05, momentum=0.1, affine=True, track_running_stats=True)\n",
            "    )\n",
            "    (3): ResnetLayer(\n",
            "      (conv): Conv2d(1024, 1024, kernel_size=(3, 3), stride=(1, 1), padding=(1, 1), bias=False)\n",
            "      (normalized): BatchNorm2d(1024, eps=1e-05, momentum=0.1, affine=True, track_running_stats=True)\n",
            "    )\n",
            "  )\n",
            "  (layers6): ModuleList(\n",
            "    (0): ResnetLayer(\n",
            "      (conv): Conv2d(128, 128, kernel_size=(3, 3), stride=(1, 1), padding=(1, 1), bias=False)\n",
            "      (normalized): BatchNorm2d(128, eps=1e-05, momentum=0.1, affine=True, track_running_stats=True)\n",
            "    )\n",
            "    (1): ResnetLayer(\n",
            "      (conv): Conv2d(256, 256, kernel_size=(3, 3), stride=(1, 1), padding=(1, 1), bias=False)\n",
            "      (normalized): BatchNorm2d(256, eps=1e-05, momentum=0.1, affine=True, track_running_stats=True)\n",
            "    )\n",
            "    (2): ResnetLayer(\n",
            "      (conv): Conv2d(512, 512, kernel_size=(3, 3), stride=(1, 1), padding=(1, 1), bias=False)\n",
            "      (normalized): BatchNorm2d(512, eps=1e-05, momentum=0.1, affine=True, track_running_stats=True)\n",
            "    )\n",
            "    (3): ResnetLayer(\n",
            "      (conv): Conv2d(1024, 1024, kernel_size=(3, 3), stride=(1, 1), padding=(1, 1), bias=False)\n",
            "      (normalized): BatchNorm2d(1024, eps=1e-05, momentum=0.1, affine=True, track_running_stats=True)\n",
            "    )\n",
            "  )\n",
            "  (layers7): ModuleList(\n",
            "    (0): ResnetLayer(\n",
            "      (conv): Conv2d(128, 128, kernel_size=(3, 3), stride=(1, 1), padding=(1, 1), bias=False)\n",
            "      (normalized): BatchNorm2d(128, eps=1e-05, momentum=0.1, affine=True, track_running_stats=True)\n",
            "    )\n",
            "    (1): ResnetLayer(\n",
            "      (conv): Conv2d(256, 256, kernel_size=(3, 3), stride=(1, 1), padding=(1, 1), bias=False)\n",
            "      (normalized): BatchNorm2d(256, eps=1e-05, momentum=0.1, affine=True, track_running_stats=True)\n",
            "    )\n",
            "    (2): ResnetLayer(\n",
            "      (conv): Conv2d(512, 512, kernel_size=(3, 3), stride=(1, 1), padding=(1, 1), bias=False)\n",
            "      (normalized): BatchNorm2d(512, eps=1e-05, momentum=0.1, affine=True, track_running_stats=True)\n",
            "    )\n",
            "    (3): ResnetLayer(\n",
            "      (conv): Conv2d(1024, 1024, kernel_size=(3, 3), stride=(1, 1), padding=(1, 1), bias=False)\n",
            "      (normalized): BatchNorm2d(1024, eps=1e-05, momentum=0.1, affine=True, track_running_stats=True)\n",
            "    )\n",
            "  )\n",
            "  (layers8): ModuleList(\n",
            "    (0): ResnetLayer(\n",
            "      (conv): Conv2d(128, 128, kernel_size=(3, 3), stride=(1, 1), padding=(1, 1), bias=False)\n",
            "      (normalized): BatchNorm2d(128, eps=1e-05, momentum=0.1, affine=True, track_running_stats=True)\n",
            "    )\n",
            "    (1): ResnetLayer(\n",
            "      (conv): Conv2d(256, 256, kernel_size=(3, 3), stride=(1, 1), padding=(1, 1), bias=False)\n",
            "      (normalized): BatchNorm2d(256, eps=1e-05, momentum=0.1, affine=True, track_running_stats=True)\n",
            "    )\n",
            "    (2): ResnetLayer(\n",
            "      (conv): Conv2d(512, 512, kernel_size=(3, 3), stride=(1, 1), padding=(1, 1), bias=False)\n",
            "      (normalized): BatchNorm2d(512, eps=1e-05, momentum=0.1, affine=True, track_running_stats=True)\n",
            "    )\n",
            "    (3): ResnetLayer(\n",
            "      (conv): Conv2d(1024, 1024, kernel_size=(3, 3), stride=(1, 1), padding=(1, 1), bias=False)\n",
            "      (normalized): BatchNorm2d(1024, eps=1e-05, momentum=0.1, affine=True, track_running_stats=True)\n",
            "    )\n",
            "  )\n",
            "  (outlayer): Linear(in_features=1024, out_features=133, bias=True)\n",
            "  (dropout): Dropout(p=0.1)\n",
            ")\n",
            "model is on cuda:  True\n"
          ],
          "name": "stdout"
        }
      ]
    },
    {
      "cell_type": "markdown",
      "metadata": {
        "id": "nVYY5Smg-U73",
        "colab_type": "text"
      },
      "source": [
        "__Question 4:__ Outline the steps you took to get to your final CNN architecture and your reasoning at each step.  \n",
        "\n",
        "\n",
        "\n"
      ]
    },
    {
      "cell_type": "markdown",
      "metadata": {
        "id": "scUhCkDJ-U74",
        "colab_type": "text"
      },
      "source": [
        "__Answer:__ \n",
        "\n",
        "I started with a basic network architecture consisting of just a few Conv layers with MaxPooling  and 2 linear layers on top. I only achieved an accuracy of 2-3 %. \n",
        "\n",
        "I concluded that my architecture was not deep enough. After some research, I decided to build some basic and normalized ResNet blocks. Normalizing each layer helped much. I followed a webinar by Jeremy Howard (fast.ai) \n",
        "\n",
        "I also applied the technique to initialize the weights of the linear layers, we had learnt in one lesson. \n",
        "\n",
        "Using *MyBatchNormLayer* speeds up the training, and helps avoiding vanishing gradients\n",
        "\n",
        "*ResnetLayer* s can be stacked to deep neural networks without making the input too small by using \"usual\"  Convolutional layers mith MaxPooling. \n",
        "\n",
        "*MyConvBnNet* finally stacks module layers to a deep residual neural network. \n",
        "\n",
        "\n",
        "\n"
      ]
    },
    {
      "cell_type": "markdown",
      "metadata": {
        "id": "8HEWHoBO-U74",
        "colab_type": "text"
      },
      "source": [
        "### (IMPLEMENTATION) Specify Loss Function and Optimizer\n",
        "\n",
        "Use the next code cell to specify a [loss function](http://pytorch.org/docs/stable/nn.html#loss-functions) and [optimizer](http://pytorch.org/docs/stable/optim.html).  Save the chosen loss function as `criterion_scratch`, and the optimizer as `optimizer_scratch` below."
      ]
    },
    {
      "cell_type": "code",
      "metadata": {
        "id": "tYeTbjyo-U75",
        "colab_type": "code",
        "colab": {}
      },
      "source": [
        "import torch.optim as optim\n",
        "\n",
        "### TODO: select loss function\n",
        "criterion_scratch = nn.NLLLoss()\n",
        "\n",
        "### TODO: select optimizer\n",
        "#optimizer_scratch = optim.SGD(model_scratch.parameters(), lr=0.001, momentum=0.9)\n",
        "optimizer_scratch = optim.Adam(model_scratch.parameters(), lr=1e-4)\n",
        "######### change the position of optim.step() in the train section\n",
        "#scheduler = optim.lr_scheduler.ReduceLROnPlateau(optimizer_scratch, patience = 3, factor=0.1)\n",
        "\n",
        "scheduler_scratch = optim.lr_scheduler.MultiStepLR(optimizer_scratch, [10, 18, 26, 32], 0.2)"
      ],
      "execution_count": 0,
      "outputs": []
    },
    {
      "cell_type": "code",
      "metadata": {
        "id": "tlxQOoCe3AH-",
        "colab_type": "code",
        "colab": {}
      },
      "source": [
        "# Visualize plot\n",
        "def plot_loss_acc(n_epochs, train_losses, valid_losses, valid_accuracies):\n",
        "    fig, (ax1, ax2) = plt.subplots(figsize=(14,6), ncols=2)\n",
        "    ax1.plot(valid_losses, label='Validation loss')\n",
        "    ax1.plot(train_losses, label='Training loss')\n",
        "    ax1.legend(frameon=False)\n",
        "    ax1.set_xlabel('Epochs')\n",
        "    ax1.set_ylabel('Loss')\n",
        "    #x_ticks = [x for x in range(0,n_epochs,2)]\n",
        "    #plt.xticks(x_ticks)\n",
        "    \n",
        "    ax2.plot(valid_accuracies, label = 'Validation accuracy')\n",
        "    ax2.legend(frameon=False)\n",
        "    ax2.set_xlabel('Epochs')\n",
        "    \n",
        "    plt.tight_layout()"
      ],
      "execution_count": 0,
      "outputs": []
    },
    {
      "cell_type": "markdown",
      "metadata": {
        "id": "gX3Zf6jl-U7_",
        "colab_type": "text"
      },
      "source": [
        "### (IMPLEMENTATION) Train and Validate the Model\n",
        "\n",
        "Train and validate your model in the code cell below.  [Save the final model parameters](http://pytorch.org/docs/master/notes/serialization.html) at filepath `'model_scratch.pt'`."
      ]
    },
    {
      "cell_type": "code",
      "metadata": {
        "id": "YWbG7Cmqu1u3",
        "colab_type": "code",
        "colab": {}
      },
      "source": [
        "# helper functions\n",
        "import datetime\n",
        "\n",
        "def get_time():\n",
        "      hour = datetime.datetime.today().hour +2\n",
        "      minute = datetime.datetime.today().minute\n",
        "      second = datetime.datetime.today().second\n",
        "      return hour, minute, second\n",
        "\n",
        "def train_epoch(model, dataloader, criterion, optimizer, train_on_gpu):\n",
        "    # initialize variables to monitor training and validation loss\n",
        "    train_loss = 0.0\n",
        "    train_accuracy = 0.0\n",
        "    correct = 0.0\n",
        "    total = 0.0\n",
        "    \n",
        "    for batch_idx, (data, target) in enumerate(dataloader):\n",
        "        # move to GPU\n",
        "        if train_on_gpu:\n",
        "            data, target = data.cuda(), target.cuda()\n",
        "            \n",
        "        # clear the gradients of all optimized variables\n",
        "        optimizer.zero_grad()\n",
        "        \n",
        "        ## find the loss and update the model parameters accordingly\n",
        "        output = model(data)\n",
        "        loss = criterion(output, target)\n",
        "        loss.backward()\n",
        "        optimizer.step()\n",
        "        # get the loss per batch and accumulate\n",
        "        train_loss += loss.item()\n",
        "        \n",
        "        # get the class, highest probability\n",
        "        probabilities = torch.exp(output)\n",
        "        _, top_class = probabilities.topk(1, dim=1)\n",
        "        # The following line is equivalent to the previous (?)\n",
        "        #_, top_class = torch.max(probabilities, dim=1)\n",
        "        \n",
        "        # check if the predicted class is correct\n",
        "        equals = top_class == target.view(*top_class.shape)\n",
        "        # \n",
        "        train_accuracy += torch.mean(equals.type(torch.FloatTensor))\n",
        "\n",
        "    return train_loss, train_accuracy\n",
        "\n",
        "\n",
        "def validate_epoch(model, dataloader, criterion, train_on_gpu):\n",
        "    valid_loss = 0.0\n",
        "    valid_accuracy = 0.0\n",
        "    correct = 0.0\n",
        "    total = 0.0\n",
        "    \n",
        "    with torch.no_grad():\n",
        "        for batch_idx, (data, target) in enumerate(dataloader):\n",
        "            # move to GPU\n",
        "            if train_on_gpu:\n",
        "                data, target = data.cuda(), target.cuda()\n",
        "            ## update the average validation loss\n",
        "            output = model(data)\n",
        "            loss = criterion(output,target)\n",
        "            \n",
        "            valid_loss += loss.item()\n",
        "\n",
        "            ps = torch.exp(output)\n",
        "            _ , top_class = ps.topk(1,dim = 1)\n",
        "            #_, top_class = torch.max(ps, dim=1)\n",
        "            equals = top_class == target.view(*top_class.shape) # shape is (batch size x 1)\n",
        "            valid_accuracy += torch.mean(equals.type(torch.FloatTensor))\n",
        "\n",
        "    return valid_loss, valid_accuracy"
      ],
      "execution_count": 0,
      "outputs": []
    },
    {
      "cell_type": "code",
      "metadata": {
        "id": "lanRRZVB-U8A",
        "colab_type": "code",
        "colab": {}
      },
      "source": [
        "\n",
        "def train(n_epochs, loaders, model, optimizer, criterion, scheduler, use_cuda, save_path):\n",
        "    print('Training started at ', get_time())\n",
        "    \n",
        "    valid_losses = []\n",
        "    train_losses = []\n",
        "    valid_accuracies = []\n",
        "    \n",
        "    # initialize tracker for minimum validation loss\n",
        "    valid_loss_min = np.Inf \n",
        "    \n",
        "    for epoch in range(n_epochs):\n",
        "        \n",
        "         # initialize variables to monitor training and validation loss\n",
        "        training_loss = 0.0\n",
        "        training_accuracy = 0.0\n",
        "    \n",
        "        if scheduler is not None:\n",
        "          scheduler.step()\n",
        "        \n",
        "        ###################\n",
        "        # train the model #\n",
        "        model.train()\n",
        "        training_loss, training_accuracy = train_epoch(model, loaders[0], criterion, optimizer, use_cuda)\n",
        "    \n",
        "        \n",
        "        ######################    \n",
        "        # validate the model #\n",
        "        model.eval()\n",
        "        validation_loss, validation_accuracy = validate_epoch(model, loaders[1], criterion, use_cuda)\n",
        "        \n",
        "        #if scheduler is not None:\n",
        "          #scheduler.step(validation_loss)\n",
        "        \n",
        "        ###### print training/validation statistics \n",
        "        # calculate the average loss per epoch\n",
        "        training_loss = training_loss/len(loaders[0])\n",
        "        train_losses.append(training_loss)\n",
        "        \n",
        "        training_accuracy = training_accuracy/len(loaders[0])\n",
        "        \n",
        "        validation_loss = validation_loss/len(loaders[1])\n",
        "        valid_losses.append(validation_loss)\n",
        "        \n",
        "        validation_accuracy = validation_accuracy/len(loaders[1])\n",
        "        valid_accuracies.append(validation_accuracy)\n",
        "        \n",
        "        hour, minute, second = get_time()\n",
        "        print('Epoch: {} at {}:{}:{} \\tTrain. Loss: {:.6f} \\tValid. Loss: {:.6f} \\t Accur.: {:.10f}'.format(\n",
        "                  epoch,\n",
        "                  hour, minute, second,\n",
        "                  training_loss,\n",
        "                  #training_accuracy, \n",
        "                  validation_loss,\n",
        "                  validation_accuracy ))\n",
        "        \n",
        "        ###### TODO: save the model if validation loss has decreased\n",
        "        if validation_loss <= valid_loss_min:\n",
        "            '''print('Validation loss decreased ({:.6f} --> {:.6f}).  Saving model ...'.format(\n",
        "                valid_loss_min,\n",
        "                validation_loss))'''\n",
        "            print('Validation loss decreased by {:.6f}'.format(validation_loss - valid_loss_min))\n",
        "            torch.save(model.state_dict(), save_path)\n",
        "            valid_loss_min = validation_loss\n",
        "            \n",
        "            \n",
        "    ##### visualize\n",
        "    plot_loss_acc(n_epochs, train_losses, valid_losses, valid_accuracies)\n",
        "    \n",
        "    return model\n"
      ],
      "execution_count": 0,
      "outputs": []
    },
    {
      "cell_type": "code",
      "metadata": {
        "id": "7qLTwlmF-TOo",
        "colab_type": "code",
        "outputId": "6ae212b5-23ca-468a-a238-449019fb0343",
        "colab": {
          "base_uri": "https://localhost:8080/",
          "height": 1532
        }
      },
      "source": [
        "from PIL import ImageFile\n",
        "ImageFile.LOAD_TRUNCATED_IMAGES = True\n",
        "\n",
        "# train the model\n",
        "model_scratch = train(50, loaders_scratch, model_scratch, optimizer_scratch, \n",
        "                      criterion_scratch, use_cuda, 'model_scratch.pt')\n",
        "\n",
        "# load the model that got the best validation accuracy\n",
        "model_scratch.load_state_dict(torch.load('model_scratch.pt'))"
      ],
      "execution_count": 0,
      "outputs": [
        {
          "output_type": "stream",
          "text": [
            "Training started at  (14, 20, 50)\n",
            "Epoch: 0 at 14:20:50 \tTrain. Loss: 4.086024 \tValid. Loss: 3.662756 \t Accur.: 0.1633184403\n",
            "Validation loss decreased by -inf\n",
            "Epoch: 1 at 14:24:37 \tTrain. Loss: 3.979528 \tValid. Loss: 3.929882 \t Accur.: 0.1517857164\n",
            "Epoch: 2 at 14:28:25 \tTrain. Loss: 3.821782 \tValid. Loss: 3.469462 \t Accur.: 0.1662946492\n",
            "Validation loss decreased by -0.193294\n",
            "Epoch: 3 at 14:32:14 \tTrain. Loss: 3.740591 \tValid. Loss: 4.690178 \t Accur.: 0.1718750000\n",
            "Epoch: 4 at 14:36:2 \tTrain. Loss: 3.569861 \tValid. Loss: 4.663328 \t Accur.: 0.2124255896\n",
            "Epoch: 5 at 14:39:54 \tTrain. Loss: 3.562402 \tValid. Loss: 4.200979 \t Accur.: 0.1774553508\n",
            "Epoch: 6 at 14:43:42 \tTrain. Loss: 3.503059 \tValid. Loss: 3.429696 \t Accur.: 0.2064732164\n",
            "Validation loss decreased by -0.039766\n",
            "Epoch: 7 at 14:47:33 \tTrain. Loss: 3.408412 \tValid. Loss: 3.453786 \t Accur.: 0.2280505896\n",
            "Epoch: 8 at 14:51:24 \tTrain. Loss: 3.333300 \tValid. Loss: 3.051708 \t Accur.: 0.2377232164\n",
            "Validation loss decreased by -0.377988\n",
            "Epoch: 9 at 14:55:15 \tTrain. Loss: 2.890916 \tValid. Loss: 2.824602 \t Accur.: 0.3218006194\n",
            "Validation loss decreased by -0.227106\n",
            "Epoch: 10 at 14:59:8 \tTrain. Loss: 2.705776 \tValid. Loss: 2.867081 \t Accur.: 0.3195684552\n",
            "Epoch: 11 at 15:2:55 \tTrain. Loss: 2.600426 \tValid. Loss: 2.695702 \t Accur.: 0.3195684552\n",
            "Validation loss decreased by -0.128900\n",
            "Epoch: 12 at 15:6:48 \tTrain. Loss: 2.565115 \tValid. Loss: 3.137440 \t Accur.: 0.3273809552\n",
            "Epoch: 13 at 15:10:37 \tTrain. Loss: 2.501064 \tValid. Loss: 2.715189 \t Accur.: 0.3136160672\n",
            "Epoch: 14 at 15:14:24 \tTrain. Loss: 2.429667 \tValid. Loss: 3.610400 \t Accur.: 0.3363095224\n",
            "Epoch: 15 at 15:18:13 \tTrain. Loss: 2.429676 \tValid. Loss: 2.662226 \t Accur.: 0.3363095224\n",
            "Validation loss decreased by -0.033476\n",
            "Epoch: 16 at 15:22:7 \tTrain. Loss: 2.338915 \tValid. Loss: 2.698698 \t Accur.: 0.3519345224\n",
            "Epoch: 17 at 15:25:56 \tTrain. Loss: 2.267363 \tValid. Loss: 2.578116 \t Accur.: 0.3664434552\n",
            "Validation loss decreased by -0.084110\n",
            "Epoch: 18 at 15:29:48 \tTrain. Loss: 2.162793 \tValid. Loss: 2.710994 \t Accur.: 0.3675595224\n",
            "Epoch: 19 at 15:33:37 \tTrain. Loss: 2.202932 \tValid. Loss: 2.749586 \t Accur.: 0.3630952537\n",
            "Epoch: 20 at 15:37:27 \tTrain. Loss: 2.163009 \tValid. Loss: 2.696064 \t Accur.: 0.3742559552\n",
            "Epoch: 21 at 15:41:14 \tTrain. Loss: 2.151365 \tValid. Loss: 2.564093 \t Accur.: 0.3653273880\n",
            "Validation loss decreased by -0.014023\n",
            "Epoch: 22 at 15:45:5 \tTrain. Loss: 2.151999 \tValid. Loss: 2.687275 \t Accur.: 0.3720238209\n",
            "Epoch: 23 at 15:48:55 \tTrain. Loss: 2.082529 \tValid. Loss: 2.660053 \t Accur.: 0.3642113209\n",
            "Epoch: 24 at 15:52:44 \tTrain. Loss: 2.096639 \tValid. Loss: 2.601488 \t Accur.: 0.3753720224\n",
            "Epoch: 25 at 15:56:34 \tTrain. Loss: 2.087221 \tValid. Loss: 2.619355 \t Accur.: 0.3709077537\n",
            "Epoch: 26 at 16:0:22 \tTrain. Loss: 2.054966 \tValid. Loss: 2.658169 \t Accur.: 0.3709077537\n",
            "Epoch: 27 at 16:4:10 \tTrain. Loss: 2.051734 \tValid. Loss: 2.710332 \t Accur.: 0.3709077537\n",
            "Epoch: 28 at 16:7:59 \tTrain. Loss: 2.084544 \tValid. Loss: 2.550859 \t Accur.: 0.3731398880\n",
            "Validation loss decreased by -0.013234\n",
            "Epoch: 29 at 16:11:50 \tTrain. Loss: 2.078105 \tValid. Loss: 2.566592 \t Accur.: 0.3809523880\n",
            "Epoch: 30 at 16:15:37 \tTrain. Loss: 2.050696 \tValid. Loss: 2.602016 \t Accur.: 0.3742559552\n",
            "Epoch: 31 at 16:19:24 \tTrain. Loss: 2.055440 \tValid. Loss: 2.556441 \t Accur.: 0.3664434552\n",
            "Epoch: 32 at 16:23:12 \tTrain. Loss: 2.058280 \tValid. Loss: 2.710874 \t Accur.: 0.3764881194\n",
            "Epoch: 33 at 16:26:57 \tTrain. Loss: 2.059054 \tValid. Loss: 2.883438 \t Accur.: 0.3720238209\n",
            "Epoch: 34 at 16:30:43 \tTrain. Loss: 2.025278 \tValid. Loss: 2.757902 \t Accur.: 0.3731398880\n",
            "Epoch: 35 at 16:34:30 \tTrain. Loss: 2.052047 \tValid. Loss: 2.510484 \t Accur.: 0.3709077537\n",
            "Validation loss decreased by -0.040375\n",
            "Epoch: 36 at 16:38:16 \tTrain. Loss: 2.095771 \tValid. Loss: 2.875218 \t Accur.: 0.3753720224\n",
            "Epoch: 37 at 16:42:4 \tTrain. Loss: 2.068277 \tValid. Loss: 2.547173 \t Accur.: 0.3686756194\n",
            "Epoch: 38 at 16:45:52 \tTrain. Loss: 2.057049 \tValid. Loss: 2.594881 \t Accur.: 0.3709077537\n",
            "Epoch: 39 at 16:49:39 \tTrain. Loss: 2.030013 \tValid. Loss: 2.505210 \t Accur.: 0.3720238209\n",
            "Validation loss decreased by -0.005274\n",
            "Epoch: 40 at 16:53:27 \tTrain. Loss: 2.061572 \tValid. Loss: 2.545520 \t Accur.: 0.3709077537\n",
            "Epoch: 41 at 16:57:14 \tTrain. Loss: 2.055783 \tValid. Loss: 2.820235 \t Accur.: 0.3753720224\n",
            "Epoch: 42 at 17:1:1 \tTrain. Loss: 2.066536 \tValid. Loss: 2.829335 \t Accur.: 0.3675595224\n",
            "Epoch: 43 at 17:4:49 \tTrain. Loss: 2.047249 \tValid. Loss: 2.656204 \t Accur.: 0.3709077537\n",
            "Epoch: 44 at 17:8:37 \tTrain. Loss: 2.058394 \tValid. Loss: 2.637581 \t Accur.: 0.3753720224\n",
            "Epoch: 45 at 17:12:24 \tTrain. Loss: 2.071462 \tValid. Loss: 2.600379 \t Accur.: 0.3720238209\n",
            "Epoch: 46 at 17:16:10 \tTrain. Loss: 2.054529 \tValid. Loss: 2.802769 \t Accur.: 0.3720238209\n",
            "Epoch: 47 at 17:20:0 \tTrain. Loss: 2.051983 \tValid. Loss: 2.560971 \t Accur.: 0.3731398880\n",
            "Epoch: 48 at 17:23:48 \tTrain. Loss: 2.034189 \tValid. Loss: 2.643401 \t Accur.: 0.3787202537\n",
            "Epoch: 49 at 17:27:36 \tTrain. Loss: 2.070444 \tValid. Loss: 2.623776 \t Accur.: 0.3809523880\n"
          ],
          "name": "stdout"
        },
        {
          "output_type": "display_data",
          "data": {
            "image/png": "[encoded data removed]",
            "text/plain": [
              "<Figure size 1008x432 with 2 Axes>"
            ]
          },
          "metadata": {
            "tags": []
          }
        }
      ]
    },
    {
      "cell_type": "code",
      "metadata": {
        "id": "_mbxIik5ry95",
        "colab_type": "code",
        "colab": {}
      },
      "source": [
        ""
      ],
      "execution_count": 0,
      "outputs": []
    },
    {
      "cell_type": "markdown",
      "metadata": {
        "id": "BsM5LlSk-U8C",
        "colab_type": "text"
      },
      "source": [
        "### (IMPLEMENTATION) Test the Model\n",
        "\n",
        "Try out your model on the test dataset of dog images.  Use the code cell below to calculate and print the test loss and accuracy.  Ensure that your test accuracy is greater than 10%."
      ]
    },
    {
      "cell_type": "code",
      "metadata": {
        "id": "Esiu0FT_-U8D",
        "colab_type": "code",
        "outputId": "aae3a6cc-8a6f-417c-e9c2-4b4374c079da",
        "colab": {
          "base_uri": "https://localhost:8080/",
          "height": 198
        }
      },
      "source": [
        "def test(loaders, model, criterion, use_cuda):\n",
        "\n",
        "    # monitor test loss and accuracy\n",
        "    test_loss = 0.\n",
        "    correct = 0.\n",
        "    total = 0.\n",
        "\n",
        "    model.eval()\n",
        "    for batch_idx, (data, target) in enumerate(loaders[2]):\n",
        "        # move to GPU\n",
        "        if use_cuda:\n",
        "            data, target = data.cuda(), target.cuda()\n",
        "        # forward pass: compute predicted outputs by passing inputs to the model\n",
        "        output = model(data)\n",
        "        # calculate the loss\n",
        "        loss = criterion(output, target)\n",
        "        # update average test loss \n",
        "        test_loss = test_loss + ((1 / (batch_idx + 1)) * (loss.data - test_loss))\n",
        "        # convert output probabilities to predicted class\n",
        "        pred = output.data.max(1, keepdim=True)[1]\n",
        "        # compare predictions to true label\n",
        "        correct += np.sum(np.squeeze(pred.eq(target.data.view_as(pred))).cpu().numpy())\n",
        "        total += data.size(0)\n",
        "            \n",
        "    print('Test Loss: {:.6f}\\n'.format(test_loss))\n",
        "\n",
        "    print('\\nTest Accuracy: %2d%% (%2d/%2d)' % (\n",
        "        100. * correct / total, correct, total))\n",
        "\n"
      ],
      "execution_count": 0,
      "outputs": [
        {
          "output_type": "error",
          "ename": "NameError",
          "evalue": "ignored",
          "traceback": [
            "\u001b[0;31m---------------------------------------------------------------------------\u001b[0m",
            "\u001b[0;31mNameError\u001b[0m                                 Traceback (most recent call last)",
            "\u001b[0;32m<ipython-input-15-cf4978946c3b>\u001b[0m in \u001b[0;36m<module>\u001b[0;34m()\u001b[0m\n\u001b[1;32m     29\u001b[0m \u001b[0;34m\u001b[0m\u001b[0m\n\u001b[1;32m     30\u001b[0m \u001b[0;31m# call test function\u001b[0m\u001b[0;34m\u001b[0m\u001b[0;34m\u001b[0m\u001b[0;34m\u001b[0m\u001b[0m\n\u001b[0;32m---> 31\u001b[0;31m \u001b[0mtest\u001b[0m\u001b[0;34m(\u001b[0m\u001b[0mloaders_scratch\u001b[0m\u001b[0;34m,\u001b[0m \u001b[0mmodel_scratch\u001b[0m\u001b[0;34m,\u001b[0m \u001b[0mcriterion_scratch\u001b[0m\u001b[0;34m,\u001b[0m \u001b[0muse_cuda\u001b[0m\u001b[0;34m)\u001b[0m\u001b[0;34m\u001b[0m\u001b[0;34m\u001b[0m\u001b[0m\n\u001b[0m",
            "\u001b[0;31mNameError\u001b[0m: name 'criterion_scratch' is not defined"
          ]
        }
      ]
    },
    {
      "cell_type": "markdown",
      "metadata": {
        "id": "bJbjZS8d-U8G",
        "colab_type": "text"
      },
      "source": [
        "---\n",
        "<a id='step4'></a>\n",
        "## Step 4: Create a CNN to Classify Dog Breeds (using Transfer Learning)\n",
        "\n",
        "You will now use transfer learning to create a CNN that can identify dog breed from images.  Your CNN must attain at least 60% accuracy on the test set.\n",
        "\n",
        "### (IMPLEMENTATION) Specify Data Loaders for the Dog Dataset\n",
        "\n",
        "Use the code cell below to write three separate [data loaders](http://pytorch.org/docs/master/data.html#torch.utils.data.DataLoader) for the training, validation, and test datasets of dog images (located at `dogImages/train`, `dogImages/valid`, and `dogImages/test`, respectively). \n",
        "\n",
        "If you like, **you are welcome to use the same data loaders from the previous step**, when you created a CNN from scratch."
      ]
    },
    {
      "cell_type": "code",
      "metadata": {
        "id": "OSUi0t5v-U8G",
        "colab_type": "code",
        "colab": {}
      },
      "source": [
        "## TODO: Specify data loaders\n",
        "# same as in part 2"
      ],
      "execution_count": 0,
      "outputs": []
    },
    {
      "cell_type": "markdown",
      "metadata": {
        "id": "1GIgX0HR-U8J",
        "colab_type": "text"
      },
      "source": [
        "### (IMPLEMENTATION) Model Architecture\n",
        "\n",
        "Use transfer learning to create a CNN to classify dog breed.  Use the code cell below, and save your initialized model as the variable `model_transfer`."
      ]
    },
    {
      "cell_type": "code",
      "metadata": {
        "id": "6Kdlw8wf-U8K",
        "colab_type": "code",
        "outputId": "819e967a-93f1-4866-c61e-59c59d1aba4b",
        "colab": {
          "base_uri": "https://localhost:8080/",
          "height": 34
        }
      },
      "source": [
        "\n",
        "## TODO: Specify model architecture \n",
        "#transfermodel = models.resnet152(pretrained=True)\n",
        "#transfermodel.fc\n",
        "transfermodel = models.densenet161(pretrained=True)\n",
        "transfermodel.classifier"
      ],
      "execution_count": 0,
      "outputs": [
        {
          "output_type": "execute_result",
          "data": {
            "text/plain": [
              "Linear(in_features=2208, out_features=1000, bias=True)"
            ]
          },
          "metadata": {
            "tags": []
          },
          "execution_count": 9
        }
      ]
    },
    {
      "cell_type": "code",
      "metadata": {
        "id": "exodhsgBrUjk",
        "colab_type": "code",
        "colab": {}
      },
      "source": [
        "for param in transfermodel.parameters():\n",
        "    param.requires_grad = False\n",
        "    \n",
        "#fc_in = transfermodel.fc.in_features\n",
        "fc_in = transfermodel.classifier.in_features\n",
        "\n",
        "transferclassifier = nn.Sequential(\n",
        "                        nn.BatchNorm1d(fc_in),\n",
        "                        nn.Linear(fc_in, 133),\n",
        "                        #nn.ReLU(),\n",
        "                        #nn.Linear(1024, 133)\n",
        "                        )\n",
        "\n",
        "#transfermodel.fc = transferclassifier # ifusing ResNet\n",
        "transfermodel.classifier = transferclassifier\n",
        "\n",
        "transfermodel.apply(weights_init_normal)\n",
        "\n",
        "if use_cuda:\n",
        "    transfermodel.cuda()\n",
        "    \n"
      ],
      "execution_count": 0,
      "outputs": []
    },
    {
      "cell_type": "markdown",
      "metadata": {
        "id": "xYyc9nxe-U8M",
        "colab_type": "text"
      },
      "source": [
        "__Question 5:__ Outline the steps you took to get to your final CNN architecture and your reasoning at each step.  Describe why you think the architecture is suitable for the current problem."
      ]
    },
    {
      "cell_type": "markdown",
      "metadata": {
        "id": "Czd_o3wQ-U8N",
        "colab_type": "text"
      },
      "source": [
        "__Answer:__ \n",
        "\n",
        "Given the small data set which has approx. 40-50 images per category, I decided for a pre-trained deep model like of the ResNet and DenseNet family, which achieve good accuracy results on image classification tasks. They were trained on millions of images and are able to extract as many  features as possible. \n",
        "\n",
        "Again, I initialized the weights for the linear layers, so no random weight initialization."
      ]
    },
    {
      "cell_type": "markdown",
      "metadata": {
        "id": "ZIs6dN66-U8O",
        "colab_type": "text"
      },
      "source": [
        "### (IMPLEMENTATION) Specify Loss Function and Optimizer\n",
        "\n",
        "Use the next code cell to specify a [loss function](http://pytorch.org/docs/master/nn.html#loss-functions) and [optimizer](http://pytorch.org/docs/master/optim.html).  Save the chosen loss function as `criterion_transfer`, and the optimizer as `optimizer_transfer` below."
      ]
    },
    {
      "cell_type": "code",
      "metadata": {
        "id": "V9G7pfEl-U8P",
        "colab_type": "code",
        "colab": {}
      },
      "source": [
        "import torch.optim as optim\n",
        "\n",
        "transfer_criterion = nn.CrossEntropyLoss()\n",
        "transfer_optim = optim.Adam(transfermodel.parameters(), lr=2e-3)\n",
        "#transfer_scheduler = optim.lr_scheduler.MultiStepLR(transfer_optim, [5,10,14,17], 0.1)\n",
        "transfer_scheduler = optim.lr_scheduler.StepLR(transfer_optim, 4, 0.1)"
      ],
      "execution_count": 0,
      "outputs": []
    },
    {
      "cell_type": "markdown",
      "metadata": {
        "id": "tpdt7ecP-U8R",
        "colab_type": "text"
      },
      "source": [
        "### (IMPLEMENTATION) Train and Validate the Model\n",
        "\n",
        "Train and validate your model in the code cell below.  [Save the final model parameters](http://pytorch.org/docs/master/notes/serialization.html) at filepath `'model_transfer.pt'`."
      ]
    },
    {
      "cell_type": "code",
      "metadata": {
        "id": "UZfQLk6P-U8R",
        "colab_type": "code",
        "outputId": "c6591cb5-4c92-4cab-ea5a-175b0b7cfd78",
        "colab": {
          "base_uri": "https://localhost:8080/",
          "height": 759
        }
      },
      "source": [
        "# train the model\n",
        "from PIL import ImageFile\n",
        "ImageFile.LOAD_TRUNCATED_IMAGES = True\n",
        "\n",
        "#n_epochs, loaders, model, optimizer, criterion, scheduler,use_cuda, save_path\n",
        "transfermodel = train (15, \n",
        "                       [train_loader, valid_loader, test_loader],\n",
        "                      transfermodel,\n",
        "                      transfer_optim,\n",
        "                      transfer_criterion,\n",
        "                       transfer_scheduler,\n",
        "                       use_cuda,\n",
        "                       'model_transfer.pt'\n",
        "                      )\n",
        "\n",
        "# load the model that got the best validation accuracy (uncomment the line below)\n",
        "model_transfer.load_state_dict(torch.load('model_transfer.pt'))"
      ],
      "execution_count": 0,
      "outputs": [
        {
          "output_type": "stream",
          "text": [
            "Training started at  (18, 44, 2)\n",
            "Epoch: 0 at 19:0:8 \tTrain. Loss: 2.010150 \tValid. Loss: 0.549174 \t Accur.: 0.8716517687\n",
            "Validation loss decreased by -inf\n",
            "Epoch: 1 at 19:4:10 \tTrain. Loss: 0.735486 \tValid. Loss: 0.427520 \t Accur.: 0.8500744104\n",
            "Validation loss decreased by -0.121655\n",
            "Epoch: 2 at 19:8:13 \tTrain. Loss: 0.600276 \tValid. Loss: 0.414641 \t Accur.: 0.8779762387\n",
            "Validation loss decreased by -0.012879\n",
            "Epoch: 3 at 19:12:15 \tTrain. Loss: 0.525415 \tValid. Loss: 0.347532 \t Accur.: 0.8872767687\n",
            "Validation loss decreased by -0.067108\n",
            "Epoch: 4 at 19:16:18 \tTrain. Loss: 0.463462 \tValid. Loss: 0.328812 \t Accur.: 0.8973214030\n",
            "Validation loss decreased by -0.018720\n",
            "Epoch: 5 at 19:20:20 \tTrain. Loss: 0.449927 \tValid. Loss: 0.324676 \t Accur.: 0.8962053657\n",
            "Validation loss decreased by -0.004137\n",
            "Epoch: 6 at 19:24:24 \tTrain. Loss: 0.417653 \tValid. Loss: 0.314640 \t Accur.: 0.8973214030\n",
            "Validation loss decreased by -0.010035\n",
            "Epoch: 7 at 19:28:26 \tTrain. Loss: 0.410290 \tValid. Loss: 0.316541 \t Accur.: 0.8995535970\n",
            "Epoch: 8 at 19:32:29 \tTrain. Loss: 0.393038 \tValid. Loss: 0.314859 \t Accur.: 0.8962053657\n",
            "Epoch: 9 at 19:36:31 \tTrain. Loss: 0.403614 \tValid. Loss: 0.316466 \t Accur.: 0.8950892687\n",
            "Epoch: 10 at 19:40:34 \tTrain. Loss: 0.405327 \tValid. Loss: 0.316315 \t Accur.: 0.8962053657\n",
            "Epoch: 11 at 19:44:36 \tTrain. Loss: 0.414787 \tValid. Loss: 0.315369 \t Accur.: 0.8962053657\n",
            "Epoch: 12 at 19:48:38 \tTrain. Loss: 0.429261 \tValid. Loss: 0.314218 \t Accur.: 0.8984375000\n",
            "Validation loss decreased by -0.000422\n",
            "Epoch: 13 at 19:52:40 \tTrain. Loss: 0.402085 \tValid. Loss: 0.315776 \t Accur.: 0.8973214030\n",
            "Epoch: 14 at 19:56:43 \tTrain. Loss: 0.433294 \tValid. Loss: 0.314996 \t Accur.: 0.8973214030\n"
          ],
          "name": "stdout"
        },
        {
          "output_type": "error",
          "ename": "NameError",
          "evalue": "ignored",
          "traceback": [
            "\u001b[0;31m---------------------------------------------------------------------------\u001b[0m",
            "\u001b[0;31mNameError\u001b[0m                                 Traceback (most recent call last)",
            "\u001b[0;32m<ipython-input-12-49cc63b21922>\u001b[0m in \u001b[0;36m<module>\u001b[0;34m()\u001b[0m\n\u001b[1;32m     10\u001b[0m                        \u001b[0mtransfer_scheduler\u001b[0m\u001b[0;34m,\u001b[0m\u001b[0;34m\u001b[0m\u001b[0;34m\u001b[0m\u001b[0m\n\u001b[1;32m     11\u001b[0m                        \u001b[0muse_cuda\u001b[0m\u001b[0;34m,\u001b[0m\u001b[0;34m\u001b[0m\u001b[0;34m\u001b[0m\u001b[0m\n\u001b[0;32m---> 12\u001b[0;31m                        \u001b[0;34m'model_transfer.pt'\u001b[0m\u001b[0;34m\u001b[0m\u001b[0;34m\u001b[0m\u001b[0m\n\u001b[0m\u001b[1;32m     13\u001b[0m                       )\n\u001b[1;32m     14\u001b[0m \u001b[0;34m\u001b[0m\u001b[0m\n",
            "\u001b[0;32m<ipython-input-8-89572dfa3373>\u001b[0m in \u001b[0;36mtrain\u001b[0;34m(n_epochs, loaders, model, optimizer, criterion, scheduler, use_cuda, save_path)\u001b[0m\n\u001b[1;32m     66\u001b[0m \u001b[0;34m\u001b[0m\u001b[0m\n\u001b[1;32m     67\u001b[0m     \u001b[0;31m##### visualize\u001b[0m\u001b[0;34m\u001b[0m\u001b[0;34m\u001b[0m\u001b[0;34m\u001b[0m\u001b[0m\n\u001b[0;32m---> 68\u001b[0;31m     \u001b[0mplot_loss_acc\u001b[0m\u001b[0;34m(\u001b[0m\u001b[0mn_epochs\u001b[0m\u001b[0;34m,\u001b[0m \u001b[0mtrain_losses\u001b[0m\u001b[0;34m,\u001b[0m \u001b[0mvalid_losses\u001b[0m\u001b[0;34m,\u001b[0m \u001b[0mvalid_accuracies\u001b[0m\u001b[0;34m)\u001b[0m\u001b[0;34m\u001b[0m\u001b[0;34m\u001b[0m\u001b[0m\n\u001b[0m\u001b[1;32m     69\u001b[0m \u001b[0;34m\u001b[0m\u001b[0m\n\u001b[1;32m     70\u001b[0m     \u001b[0;32mreturn\u001b[0m \u001b[0mmodel\u001b[0m\u001b[0;34m\u001b[0m\u001b[0;34m\u001b[0m\u001b[0m\n",
            "\u001b[0;31mNameError\u001b[0m: name 'plot_loss_acc' is not defined"
          ]
        }
      ]
    },
    {
      "cell_type": "markdown",
      "metadata": {
        "id": "IVEVI0YY-U8T",
        "colab_type": "text"
      },
      "source": [
        "### (IMPLEMENTATION) Test the Model\n",
        "\n",
        "Try out your model on the test dataset of dog images. Use the code cell below to calculate and print the test loss and accuracy.  Ensure that your test accuracy is greater than 60%."
      ]
    },
    {
      "cell_type": "code",
      "metadata": {
        "id": "7UWOdp9r-U8U",
        "colab_type": "code",
        "outputId": "8a8d21f6-85d5-43b3-eea5-2320c9cccf59",
        "colab": {
          "base_uri": "https://localhost:8080/",
          "height": 164
        }
      },
      "source": [
        "test(loaders_transfer, model_transfer, criterion_transfer, use_cuda)"
      ],
      "execution_count": 0,
      "outputs": [
        {
          "output_type": "error",
          "ename": "NameError",
          "evalue": "ignored",
          "traceback": [
            "\u001b[0;31m---------------------------------------------------------------------------\u001b[0m",
            "\u001b[0;31mNameError\u001b[0m                                 Traceback (most recent call last)",
            "\u001b[0;32m<ipython-input-13-181b5cf17149>\u001b[0m in \u001b[0;36m<module>\u001b[0;34m()\u001b[0m\n\u001b[0;32m----> 1\u001b[0;31m \u001b[0mtest\u001b[0m\u001b[0;34m(\u001b[0m\u001b[0mloaders_transfer\u001b[0m\u001b[0;34m,\u001b[0m \u001b[0mmodel_transfer\u001b[0m\u001b[0;34m,\u001b[0m \u001b[0mcriterion_transfer\u001b[0m\u001b[0;34m,\u001b[0m \u001b[0muse_cuda\u001b[0m\u001b[0;34m)\u001b[0m\u001b[0;34m\u001b[0m\u001b[0;34m\u001b[0m\u001b[0m\n\u001b[0m",
            "\u001b[0;31mNameError\u001b[0m: name 'test' is not defined"
          ]
        }
      ]
    },
    {
      "cell_type": "markdown",
      "metadata": {
        "id": "ZBM5Zq4y-U8W",
        "colab_type": "text"
      },
      "source": [
        "### (IMPLEMENTATION) Predict Dog Breed with the Model\n",
        "\n",
        "Write a function that takes an image path as input and returns the dog breed (`Affenpinscher`, `Afghan hound`, etc) that is predicted by your model.  "
      ]
    },
    {
      "cell_type": "code",
      "metadata": {
        "id": "GM5P_QAW-U8X",
        "colab_type": "code",
        "outputId": "f03015eb-58ed-4664-8c91-59ae4c2cb3e3",
        "colab": {
          "base_uri": "https://localhost:8080/",
          "height": 232
        }
      },
      "source": [
        "### TODO: Write a function that takes a path to an image as input\n",
        "### and returns the dog breed that is predicted by the model.\n",
        "\n",
        "# list of class names by index, i.e. a name can be accessed like class_names[0]\n",
        "class_names = [item[4:].replace(\"_\", \" \") for item in loaders_transfer[0].classes]\n",
        "\n",
        "def predict_breed_transfer(img_path):\n",
        "    transfermodel.eval()\n",
        "    with torch.no_grad():\n",
        "      # load the image and return the predicted breed\n",
        "      img = process_image(img_path)\n",
        "      if torch.is_cuda_available():\n",
        "        img.cuda()\n",
        "      output = transfermodel(img)\n",
        "      probabilities = torch.exp(output)\n",
        "      _, top_class = probabilities.topk(1, dim=1)\n",
        "      return class_names[top_class]"
      ],
      "execution_count": 0,
      "outputs": [
        {
          "output_type": "error",
          "ename": "NameError",
          "evalue": "ignored",
          "traceback": [
            "\u001b[0;31m---------------------------------------------------------------------------\u001b[0m",
            "\u001b[0;31mNameError\u001b[0m                                 Traceback (most recent call last)",
            "\u001b[0;32m<ipython-input-3-c5c900e505d0>\u001b[0m in \u001b[0;36m<module>\u001b[0;34m()\u001b[0m\n\u001b[0;32m----> 1\u001b[0;31m \u001b[0mclass_names\u001b[0m \u001b[0;34m=\u001b[0m \u001b[0;34m[\u001b[0m\u001b[0mitem\u001b[0m\u001b[0;34m[\u001b[0m\u001b[0;36m4\u001b[0m\u001b[0;34m:\u001b[0m\u001b[0;34m]\u001b[0m\u001b[0;34m.\u001b[0m\u001b[0mreplace\u001b[0m\u001b[0;34m(\u001b[0m\u001b[0;34m\"_\"\u001b[0m\u001b[0;34m,\u001b[0m \u001b[0;34m\" \"\u001b[0m\u001b[0;34m)\u001b[0m \u001b[0;32mfor\u001b[0m \u001b[0mitem\u001b[0m \u001b[0;32min\u001b[0m \u001b[0mloaders_transfer\u001b[0m\u001b[0;34m[\u001b[0m\u001b[0;36m0\u001b[0m\u001b[0;34m]\u001b[0m\u001b[0;34m.\u001b[0m\u001b[0mclasses\u001b[0m\u001b[0;34m]\u001b[0m\u001b[0;34m\u001b[0m\u001b[0;34m\u001b[0m\u001b[0m\n\u001b[0m\u001b[1;32m      2\u001b[0m \u001b[0;34m\u001b[0m\u001b[0m\n\u001b[1;32m      3\u001b[0m \u001b[0;32mdef\u001b[0m \u001b[0mpredict_breed_transfer\u001b[0m\u001b[0;34m(\u001b[0m\u001b[0mimg_path\u001b[0m\u001b[0;34m)\u001b[0m\u001b[0;34m:\u001b[0m\u001b[0;34m\u001b[0m\u001b[0;34m\u001b[0m\u001b[0m\n\u001b[1;32m      4\u001b[0m     \u001b[0mtransfermodel\u001b[0m\u001b[0;34m.\u001b[0m\u001b[0meval\u001b[0m\u001b[0;34m(\u001b[0m\u001b[0;34m)\u001b[0m\u001b[0;34m\u001b[0m\u001b[0;34m\u001b[0m\u001b[0m\n\u001b[1;32m      5\u001b[0m     \u001b[0;32mwith\u001b[0m \u001b[0mtorch\u001b[0m\u001b[0;34m.\u001b[0m\u001b[0mno_grad\u001b[0m\u001b[0;34m(\u001b[0m\u001b[0;34m)\u001b[0m\u001b[0;34m:\u001b[0m\u001b[0;34m\u001b[0m\u001b[0;34m\u001b[0m\u001b[0m\n",
            "\u001b[0;31mNameError\u001b[0m: name 'loaders_transfer' is not defined"
          ]
        }
      ]
    },
    {
      "cell_type": "markdown",
      "metadata": {
        "id": "2CHNwuOF-U8Z",
        "colab_type": "text"
      },
      "source": [
        "---\n",
        "<a id='step5'></a>\n",
        "## Step 5: Write your Algorithm\n",
        "\n",
        "Write an algorithm that accepts a file path to an image and first determines whether the image contains a human, dog, or neither.  Then,\n",
        "- if a __dog__ is detected in the image, return the predicted breed.\n",
        "- if a __human__ is detected in the image, return the resembling dog breed.\n",
        "- if __neither__ is detected in the image, provide output that indicates an error.\n",
        "\n",
        "You are welcome to write your own functions for detecting humans and dogs in images, but feel free to use the `face_detector` and `human_detector` functions developed above.  You are __required__ to use your CNN from Step 4 to predict dog breed.  \n",
        "\n",
        "Some sample output for our algorithm is provided below, but feel free to design your own user experience!\n",
        "\n",
        "![Sample Human Output](https://github.com/Berenice2018/dog-breed133-classifier/blob/master/images/sample_human_output.png?raw=1)\n",
        "\n",
        "\n",
        "### (IMPLEMENTATION) Write your Algorithm"
      ]
    },
    {
      "cell_type": "code",
      "metadata": {
        "id": "Gieq0IAE-U8c",
        "colab_type": "code",
        "colab": {}
      },
      "source": [
        "### TODO: Write your algorithm.\n",
        "### Feel free to use as many code cells as needed.\n",
        "\n",
        "def run_app(img_path):\n",
        "    print(img_path)\n",
        "    show_image(img_path)\n",
        "    ## handle cases for a human face, dog, and neither\n",
        "    dog = dog_detector(img_path)\n",
        "    if dog:\n",
        "      print('It is a dog')\n",
        "    else:\n",
        "      if face_detector(img_path):\n",
        "        print('Hi there')\n",
        "      else:\n",
        "        print('What is this')\n",
        "    print('You look like ', predict_breed_transfer(img_path))\n"
      ],
      "execution_count": 0,
      "outputs": []
    },
    {
      "cell_type": "markdown",
      "metadata": {
        "id": "uXK8p9EY-U8e",
        "colab_type": "text"
      },
      "source": [
        "---\n",
        "<a id='step6'></a>\n",
        "## Step 6: Test Your Algorithm\n",
        "\n",
        "In this section, you will take your new algorithm for a spin!  What kind of dog does the algorithm think that _you_ look like?  If you have a dog, does it predict your dog's breed accurately?  If you have a cat, does it mistakenly think that your cat is a dog?\n",
        "\n",
        "### (IMPLEMENTATION) Test Your Algorithm on Sample Images!\n",
        "\n",
        "Test your algorithm at least six images on your computer.  Feel free to use any images you like.  Use at least two human and two dog images.  \n",
        "\n",
        "__Question 6:__ Is the output better than you expected :) ?  Or worse :( ?  Provide at least three possible points of improvement for your algorithm."
      ]
    },
    {
      "cell_type": "markdown",
      "metadata": {
        "id": "ClrrWL0k-U8j",
        "colab_type": "text"
      },
      "source": [
        "__Answer:__ (Three possible points for improvement)"
      ]
    },
    {
      "cell_type": "code",
      "metadata": {
        "id": "2jKYLzqX-U8r",
        "colab_type": "code",
        "colab": {}
      },
      "source": [
        "## TODO: Execute your algorithm from Step 6 on\n",
        "## at least 6 images on your computer.\n",
        "## Feel free to use as many code cells as needed.\n",
        "\n",
        "## suggested code, below\n",
        "for file in np.hstack((human_files[:3], dog_files[:3])):\n",
        "    run_app(file)"
      ],
      "execution_count": 0,
      "outputs": []
    }
  ]
}