{
  "nbformat": 4,
  "nbformat_minor": 0,
  "metadata": {
    "kernelspec": {
      "display_name": "Python 3",
      "language": "python",
      "name": "python3"
    },
    "language_info": {
      "codemirror_mode": {
        "name": "ipython",
        "version": 3
      },
      "file_extension": ".py",
      "mimetype": "text/x-python",
      "name": "python",
      "nbconvert_exporter": "python",
      "pygments_lexer": "ipython3",
      "version": "3.6.1"
    },
    "colab": {
      "name": "Section 4 - Encrypted Deep Learning.ipynb",
      "version": "0.3.2",
      "provenance": [],
      "collapsed_sections": [
        "GSsJQz6M0q_1",
        "L8upJ2Dq0q_2",
        "XcLJQPjM0q_4",
        "_oUlKwiX0rAC",
        "WeTAXXa20rAC",
        "MhE51vZs0rAD",
        "zmq6evSl0rAG",
        "8geIVfOk0rAI",
        "v9R-ARHe0rAK",
        "kG9vFy0d0rAM",
        "Q55dpurR0rAO",
        "4vFiaw2L0rAP",
        "94-th5mh0rAP",
        "57PInvml0rAR",
        "grzSOaOX0rAR",
        "UXJP6FOb0rAT"
      ],
      "include_colab_link": true
    }
  },
  "cells": [
    {
      "cell_type": "markdown",
      "metadata": {
        "id": "view-in-github",
        "colab_type": "text"
      },
      "source": [
        "<a href=\"https://colab.research.google.com/github/Berenice2018/DeepLearning/blob/master/Section_4_Encrypted_Deep_Learning.ipynb\" target=\"_parent\"><img src=\"https://colab.research.google.com/assets/colab-badge.svg\" alt=\"Open In Colab\"/></a>"
      ]
    },
    {
      "cell_type": "markdown",
      "metadata": {
        "id": "RGZRtYvy0q-P",
        "colab_type": "text"
      },
      "source": [
        "# Section: Encrypted Deep Learning\n",
        "\n",
        "- Lesson: Reviewing Additive Secret Sharing\n",
        "- Lesson: Encrypted Subtraction and Public/Scalar Multiplication\n",
        "- Lesson: Encrypted Computation in PySyft\n",
        "- Project: Build an Encrypted Database\n",
        "- Lesson: Encrypted Deep Learning in PyTorch\n",
        "- Lesson: Encrypted Deep Learning in Keras\n",
        "- Final Project"
      ]
    },
    {
      "cell_type": "markdown",
      "metadata": {
        "id": "_XbW6MKn0q-Q",
        "colab_type": "text"
      },
      "source": [
        "# Lesson: Reviewing Additive Secret Sharing\n",
        "\n",
        "_For more great information about SMPC protocols like this one, visit https://mortendahl.github.io. With permission, Morten's work directly inspired this first teaching segment._"
      ]
    },
    {
      "cell_type": "code",
      "metadata": {
        "id": "LuLqsgAO0q-R",
        "colab_type": "code",
        "colab": {}
      },
      "source": [
        "import random\n",
        "import numpy as np\n",
        "\n",
        "BASE = 10\n",
        "\n",
        "PRECISION_INTEGRAL = 8\n",
        "PRECISION_FRACTIONAL = 8\n",
        "Q = 293973345475167247070445277780365744413\n",
        "\n",
        "PRECISION = PRECISION_INTEGRAL + PRECISION_FRACTIONAL\n",
        "\n",
        "assert(Q > BASE**PRECISION)\n",
        "\n",
        "def encode(rational):\n",
        "    upscaled = int(rational * BASE**PRECISION_FRACTIONAL)\n",
        "    field_element = upscaled % Q\n",
        "    return field_element\n",
        "\n",
        "def decode(field_element):\n",
        "    upscaled = field_element if field_element <= Q/2 else field_element - Q\n",
        "    rational = upscaled / BASE**PRECISION_FRACTIONAL\n",
        "    return rational\n",
        "\n",
        "def encrypt(secret):\n",
        "    first  = random.randrange(Q)\n",
        "    second = random.randrange(Q)\n",
        "    third  = (secret - first - second) % Q\n",
        "    return [first, second, third]\n",
        "\n",
        "def decrypt(sharing):\n",
        "    return sum(sharing) % Q\n",
        "\n",
        "def add(a, b):\n",
        "    c = list()\n",
        "    for i in range(len(a)):\n",
        "        c.append((a[i] + b[i]) % Q)\n",
        "    return tuple(c)"
      ],
      "execution_count": 0,
      "outputs": []
    },
    {
      "cell_type": "code",
      "metadata": {
        "id": "1ReI5Z2p0q-T",
        "colab_type": "code",
        "colab": {
          "base_uri": "https://localhost:8080/",
          "height": 68
        },
        "outputId": "f591e1a9-9a11-4564-c3e2-7083dc3e1d08"
      },
      "source": [
        "x = encrypt(encode(5.5))\n",
        "x"
      ],
      "execution_count": 2,
      "outputs": [
        {
          "output_type": "execute_result",
          "data": {
            "text/plain": [
              "[122499370926441864357668295218950766164,\n",
              " 36335830530687228332906762037362640903,\n",
              " 135138144018038154379870220524602337346]"
            ]
          },
          "metadata": {
            "tags": []
          },
          "execution_count": 2
        }
      ]
    },
    {
      "cell_type": "code",
      "metadata": {
        "id": "VdnQFRNS0q-W",
        "colab_type": "code",
        "colab": {
          "base_uri": "https://localhost:8080/",
          "height": 68
        },
        "outputId": "47693bc6-e27e-42d0-ac9c-11e0b687d2f5"
      },
      "source": [
        "y = encrypt(encode(2.3))\n",
        "y"
      ],
      "execution_count": 3,
      "outputs": [
        {
          "output_type": "execute_result",
          "data": {
            "text/plain": [
              "[211464466680255055008896023437670865095,\n",
              " 100081996980587280859765548296590891358,\n",
              " 276400227289492158272228983826699732372]"
            ]
          },
          "metadata": {
            "tags": []
          },
          "execution_count": 3
        }
      ]
    },
    {
      "cell_type": "code",
      "metadata": {
        "id": "84t7ApUF0q-Y",
        "colab_type": "code",
        "colab": {
          "base_uri": "https://localhost:8080/",
          "height": 68
        },
        "outputId": "32950b86-eebc-46ad-d4f7-81b3973f51b9"
      },
      "source": [
        "z = add(x,y)\n",
        "z"
      ],
      "execution_count": 4,
      "outputs": [
        {
          "output_type": "execute_result",
          "data": {
            "text/plain": [
              "(39990492131529672296119040876255886846,\n",
              " 136417827511274509192672310333953532261,\n",
              " 117565025832363065581653926570936325305)"
            ]
          },
          "metadata": {
            "tags": []
          },
          "execution_count": 4
        }
      ]
    },
    {
      "cell_type": "code",
      "metadata": {
        "id": "A68xL1AN0q-a",
        "colab_type": "code",
        "colab": {
          "base_uri": "https://localhost:8080/",
          "height": 34
        },
        "outputId": "36dc1413-d174-4827-f0ff-c9352426775e"
      },
      "source": [
        "decode(decrypt(z))"
      ],
      "execution_count": 5,
      "outputs": [
        {
          "output_type": "execute_result",
          "data": {
            "text/plain": [
              "7.79999999"
            ]
          },
          "metadata": {
            "tags": []
          },
          "execution_count": 5
        }
      ]
    },
    {
      "cell_type": "markdown",
      "metadata": {
        "id": "77nO1CGD0q-c",
        "colab_type": "text"
      },
      "source": [
        "# Lesson: Encrypted Subtraction and Public/Scalar Multiplication"
      ]
    },
    {
      "cell_type": "code",
      "metadata": {
        "id": "RTVV6okb0q-e",
        "colab_type": "code",
        "colab": {}
      },
      "source": [
        "field = 23740629843760239486723"
      ],
      "execution_count": 0,
      "outputs": []
    },
    {
      "cell_type": "code",
      "metadata": {
        "id": "mqAzosi50q-g",
        "colab_type": "code",
        "colab": {}
      },
      "source": [
        "x = 5\n",
        "\n",
        "bob_x_share = 2372385723 # random number\n",
        "alices_x_share = field - bob_x_share + x"
      ],
      "execution_count": 0,
      "outputs": []
    },
    {
      "cell_type": "code",
      "metadata": {
        "id": "CtFdjna30q-i",
        "colab_type": "code",
        "colab": {
          "base_uri": "https://localhost:8080/",
          "height": 34
        },
        "outputId": "79e4ab4c-bee7-4a7d-d2a9-03884db663f5"
      },
      "source": [
        "(bob_x_share + alices_x_share) % field"
      ],
      "execution_count": 8,
      "outputs": [
        {
          "output_type": "execute_result",
          "data": {
            "text/plain": [
              "5"
            ]
          },
          "metadata": {
            "tags": []
          },
          "execution_count": 8
        }
      ]
    },
    {
      "cell_type": "code",
      "metadata": {
        "id": "8CVfdPnv0q-k",
        "colab_type": "code",
        "colab": {}
      },
      "source": [
        "field = 10\n",
        "\n",
        "x = 5\n",
        "\n",
        "bob_x_share = 8\n",
        "alice_x_share = field - bob_x_share + x\n",
        "\n",
        "y = 1\n",
        "\n",
        "bob_y_share = 9\n",
        "alice_y_share = field - bob_y_share + y"
      ],
      "execution_count": 0,
      "outputs": []
    },
    {
      "cell_type": "code",
      "metadata": {
        "id": "uZ2g4W5i0q-o",
        "colab_type": "code",
        "colab": {
          "base_uri": "https://localhost:8080/",
          "height": 34
        },
        "outputId": "2eac9b81-9801-4120-cf60-3675e3c5b233"
      },
      "source": [
        "((bob_x_share + alice_x_share) - (bob_y_share + alice_y_share)) % field"
      ],
      "execution_count": 10,
      "outputs": [
        {
          "output_type": "execute_result",
          "data": {
            "text/plain": [
              "4"
            ]
          },
          "metadata": {
            "tags": []
          },
          "execution_count": 10
        }
      ]
    },
    {
      "cell_type": "code",
      "metadata": {
        "id": "pKCAu1Tw0q-r",
        "colab_type": "code",
        "colab": {
          "base_uri": "https://localhost:8080/",
          "height": 34
        },
        "outputId": "3852494c-d14c-4e75-e657-03fd0f53833e"
      },
      "source": [
        "((bob_x_share - bob_y_share) + (alice_x_share - alice_y_share)) % field"
      ],
      "execution_count": 11,
      "outputs": [
        {
          "output_type": "execute_result",
          "data": {
            "text/plain": [
              "4"
            ]
          },
          "metadata": {
            "tags": []
          },
          "execution_count": 11
        }
      ]
    },
    {
      "cell_type": "code",
      "metadata": {
        "id": "YRNGZwg50q-s",
        "colab_type": "code",
        "colab": {
          "base_uri": "https://localhost:8080/",
          "height": 34
        },
        "outputId": "d6283275-6f6c-4304-8c1d-bdde2b05676e"
      },
      "source": [
        "bob_x_share + alice_x_share + bob_y_share + alice_y_share"
      ],
      "execution_count": 12,
      "outputs": [
        {
          "output_type": "execute_result",
          "data": {
            "text/plain": [
              "26"
            ]
          },
          "metadata": {
            "tags": []
          },
          "execution_count": 12
        }
      ]
    },
    {
      "cell_type": "code",
      "metadata": {
        "id": "Ehsjqdbx0q-u",
        "colab_type": "code",
        "colab": {}
      },
      "source": [
        "bob_z_share = (bob_x_share - bob_y_share)\n",
        "alice_z_share = (alice_x_share - alice_y_share)"
      ],
      "execution_count": 0,
      "outputs": []
    },
    {
      "cell_type": "code",
      "metadata": {
        "id": "7wUz3x5T0q-v",
        "colab_type": "code",
        "colab": {
          "base_uri": "https://localhost:8080/",
          "height": 34
        },
        "outputId": "3b53b9e4-4d64-40a1-c7c8-53c632901194"
      },
      "source": [
        "(bob_z_share + alice_z_share) % field"
      ],
      "execution_count": 14,
      "outputs": [
        {
          "output_type": "execute_result",
          "data": {
            "text/plain": [
              "4"
            ]
          },
          "metadata": {
            "tags": []
          },
          "execution_count": 14
        }
      ]
    },
    {
      "cell_type": "code",
      "metadata": {
        "id": "kVlpxW-C0q-x",
        "colab_type": "code",
        "colab": {}
      },
      "source": [
        "def sub(a, b):\n",
        "    c = list()\n",
        "    for i in range(len(a)):\n",
        "        c.append((a[i] - b[i]) % Q)\n",
        "    return tuple(c)"
      ],
      "execution_count": 0,
      "outputs": []
    },
    {
      "cell_type": "code",
      "metadata": {
        "id": "V4T4Pzjj0q-z",
        "colab_type": "code",
        "colab": {}
      },
      "source": [
        "field = 10\n",
        "\n",
        "x = 5\n",
        "\n",
        "bob_x_share = 8\n",
        "alice_x_share = field - bob_x_share + x\n",
        "\n",
        "y = 1\n",
        "\n",
        "bob_y_share = 9\n",
        "alice_y_share = field - bob_y_share + y"
      ],
      "execution_count": 0,
      "outputs": []
    },
    {
      "cell_type": "code",
      "metadata": {
        "id": "lD7Z1f2p0q-0",
        "colab_type": "code",
        "colab": {
          "base_uri": "https://localhost:8080/",
          "height": 34
        },
        "outputId": "873db668-9ccd-48b0-873a-389f71d787d4"
      },
      "source": [
        "bob_x_share + alice_x_share"
      ],
      "execution_count": 17,
      "outputs": [
        {
          "output_type": "execute_result",
          "data": {
            "text/plain": [
              "15"
            ]
          },
          "metadata": {
            "tags": []
          },
          "execution_count": 17
        }
      ]
    },
    {
      "cell_type": "code",
      "metadata": {
        "id": "_9uu31xM0q-3",
        "colab_type": "code",
        "colab": {
          "base_uri": "https://localhost:8080/",
          "height": 34
        },
        "outputId": "0555cc3e-5d3f-4252-fb15-3f1a402892fd"
      },
      "source": [
        "bob_y_share + alice_y_share"
      ],
      "execution_count": 18,
      "outputs": [
        {
          "output_type": "execute_result",
          "data": {
            "text/plain": [
              "11"
            ]
          },
          "metadata": {
            "tags": []
          },
          "execution_count": 18
        }
      ]
    },
    {
      "cell_type": "code",
      "metadata": {
        "id": "9kzFeiCR0q-6",
        "colab_type": "code",
        "colab": {
          "base_uri": "https://localhost:8080/",
          "height": 34
        },
        "outputId": "6aa4fe2e-4465-4f68-c0e7-936c30054d58"
      },
      "source": [
        "((bob_y_share * 3) + (alice_y_share * 3)) % field"
      ],
      "execution_count": 19,
      "outputs": [
        {
          "output_type": "execute_result",
          "data": {
            "text/plain": [
              "3"
            ]
          },
          "metadata": {
            "tags": []
          },
          "execution_count": 19
        }
      ]
    },
    {
      "cell_type": "code",
      "metadata": {
        "id": "cyf0Iqoz0q-8",
        "colab_type": "code",
        "colab": {}
      },
      "source": [
        "def imul(a, scalar):\n",
        "    \n",
        "    # logic here which can multiply by a public scalar\n",
        "    \n",
        "    c = list()\n",
        "    \n",
        "    for i in range(len(a)):\n",
        "        c.append((a[i] * scalar) % Q)\n",
        "        \n",
        "    return tuple(c)"
      ],
      "execution_count": 0,
      "outputs": []
    },
    {
      "cell_type": "code",
      "metadata": {
        "id": "cBfA2inq0q--",
        "colab_type": "code",
        "colab": {
          "base_uri": "https://localhost:8080/",
          "height": 68
        },
        "outputId": "846100b2-c87f-4e23-ddc8-63f9bc10e761"
      },
      "source": [
        "x = encrypt(encode(5.5))\n",
        "x"
      ],
      "execution_count": 21,
      "outputs": [
        {
          "output_type": "execute_result",
          "data": {
            "text/plain": [
              "[31389271440665926845632888609597341349,\n",
              " 20730175617168283566680174143999967927,\n",
              " 241853898417333036658132215027318435137]"
            ]
          },
          "metadata": {
            "tags": []
          },
          "execution_count": 21
        }
      ]
    },
    {
      "cell_type": "code",
      "metadata": {
        "id": "qtBACQiM0q_A",
        "colab_type": "code",
        "colab": {}
      },
      "source": [
        "z = imul(x, 3)"
      ],
      "execution_count": 0,
      "outputs": []
    },
    {
      "cell_type": "code",
      "metadata": {
        "id": "GsNTFbm60q_B",
        "colab_type": "code",
        "colab": {
          "base_uri": "https://localhost:8080/",
          "height": 34
        },
        "outputId": "d2df93ea-4b0c-4789-8bf6-5c652d6ce87d"
      },
      "source": [
        "decode(decrypt(z))"
      ],
      "execution_count": 23,
      "outputs": [
        {
          "output_type": "execute_result",
          "data": {
            "text/plain": [
              "16.5"
            ]
          },
          "metadata": {
            "tags": []
          },
          "execution_count": 23
        }
      ]
    },
    {
      "cell_type": "markdown",
      "metadata": {
        "id": "d-NoJrle0q_E",
        "colab_type": "text"
      },
      "source": [
        "# Lesson: Encrypted Computation in PySyft"
      ]
    },
    {
      "cell_type": "code",
      "metadata": {
        "id": "snsBX52H0q_E",
        "colab_type": "code",
        "colab": {
          "base_uri": "https://localhost:8080/",
          "height": 105
        },
        "outputId": "9a6e347b-de7b-4568-9999-1b34a429df2b"
      },
      "source": [
        "import syft as sy\n",
        "import torch as th\n",
        "hook = sy.TorchHook(th)\n",
        "from torch import nn, optim"
      ],
      "execution_count": 24,
      "outputs": [
        {
          "output_type": "stream",
          "text": [
            "WARNING: Logging before flag parsing goes to stderr.\n",
            "W0806 16:47:24.434172 140137470146432 secure_random.py:26] Falling back to insecure randomness since the required custom op could not be found for the installed version of TensorFlow. Fix this by compiling custom ops. Missing file was '/usr/local/lib/python3.6/dist-packages/tf_encrypted/operations/secure_random/secure_random_module_tf_1.14.0.so'\n",
            "W0806 16:47:24.449913 140137470146432 deprecation_wrapper.py:119] From /usr/local/lib/python3.6/dist-packages/tf_encrypted/session.py:26: The name tf.Session is deprecated. Please use tf.compat.v1.Session instead.\n",
            "\n"
          ],
          "name": "stderr"
        }
      ]
    },
    {
      "cell_type": "code",
      "metadata": {
        "id": "cgDD4kYL0q_G",
        "colab_type": "code",
        "colab": {}
      },
      "source": [
        "bob = sy.VirtualWorker(hook, id=\"bob\").add_worker(sy.local_worker)\n",
        "alice = sy.VirtualWorker(hook, id=\"alice\").add_worker(sy.local_worker)\n",
        "secure_worker = sy.VirtualWorker(hook, id=\"secure_worker\").add_worker(sy.local_worker)"
      ],
      "execution_count": 0,
      "outputs": []
    },
    {
      "cell_type": "code",
      "metadata": {
        "id": "G3R2rTWb0q_H",
        "colab_type": "code",
        "colab": {}
      },
      "source": [
        "x = th.tensor([1,2,3,4])\n",
        "y = th.tensor([2,-1,1,0])"
      ],
      "execution_count": 0,
      "outputs": []
    },
    {
      "cell_type": "code",
      "metadata": {
        "id": "QjnqVzsi0q_I",
        "colab_type": "code",
        "colab": {}
      },
      "source": [
        "x = x.share(bob, alice, crypto_provider=secure_worker)"
      ],
      "execution_count": 0,
      "outputs": []
    },
    {
      "cell_type": "code",
      "metadata": {
        "id": "4M9Z81oP0q_K",
        "colab_type": "code",
        "colab": {}
      },
      "source": [
        "y = y.share(bob, alice, crypto_provider=secure_worker)"
      ],
      "execution_count": 0,
      "outputs": []
    },
    {
      "cell_type": "code",
      "metadata": {
        "id": "gSLwblDh0q_M",
        "colab_type": "code",
        "colab": {
          "base_uri": "https://localhost:8080/",
          "height": 34
        },
        "outputId": "1b53a3f7-c2f9-4f9b-c230-1fe71a248541"
      },
      "source": [
        "z = x + y\n",
        "z.get()"
      ],
      "execution_count": 29,
      "outputs": [
        {
          "output_type": "execute_result",
          "data": {
            "text/plain": [
              "tensor([3, 1, 4, 4])"
            ]
          },
          "metadata": {
            "tags": []
          },
          "execution_count": 29
        }
      ]
    },
    {
      "cell_type": "code",
      "metadata": {
        "id": "WOZiMRKF0q_O",
        "colab_type": "code",
        "colab": {
          "base_uri": "https://localhost:8080/",
          "height": 34
        },
        "outputId": "6e1459df-2ea0-49d9-fcd0-c682dc853158"
      },
      "source": [
        "z = x - y\n",
        "z.get()"
      ],
      "execution_count": 30,
      "outputs": [
        {
          "output_type": "execute_result",
          "data": {
            "text/plain": [
              "tensor([-1,  3,  2,  4])"
            ]
          },
          "metadata": {
            "tags": []
          },
          "execution_count": 30
        }
      ]
    },
    {
      "cell_type": "code",
      "metadata": {
        "id": "Nfne2IV60q_Q",
        "colab_type": "code",
        "colab": {
          "base_uri": "https://localhost:8080/",
          "height": 34
        },
        "outputId": "1d3807eb-877a-4cb5-8199-1627742f19e4"
      },
      "source": [
        "z = x * y\n",
        "z.get()"
      ],
      "execution_count": 31,
      "outputs": [
        {
          "output_type": "execute_result",
          "data": {
            "text/plain": [
              "tensor([ 2, -2,  3,  0])"
            ]
          },
          "metadata": {
            "tags": []
          },
          "execution_count": 31
        }
      ]
    },
    {
      "cell_type": "code",
      "metadata": {
        "id": "49aJ7lrq0q_S",
        "colab_type": "code",
        "colab": {
          "base_uri": "https://localhost:8080/",
          "height": 34
        },
        "outputId": "fc8a053a-1d3b-4f13-d1a4-738be7949a41"
      },
      "source": [
        "z = x > y\n",
        "z.get()"
      ],
      "execution_count": 32,
      "outputs": [
        {
          "output_type": "execute_result",
          "data": {
            "text/plain": [
              "tensor([0, 1, 1, 1])"
            ]
          },
          "metadata": {
            "tags": []
          },
          "execution_count": 32
        }
      ]
    },
    {
      "cell_type": "code",
      "metadata": {
        "id": "uNLUI7jE0q_U",
        "colab_type": "code",
        "colab": {
          "base_uri": "https://localhost:8080/",
          "height": 34
        },
        "outputId": "672cc534-9c59-477b-a53a-02226c31416e"
      },
      "source": [
        "z = x < y\n",
        "z.get()"
      ],
      "execution_count": 33,
      "outputs": [
        {
          "output_type": "execute_result",
          "data": {
            "text/plain": [
              "tensor([1, 0, 0, 0])"
            ]
          },
          "metadata": {
            "tags": []
          },
          "execution_count": 33
        }
      ]
    },
    {
      "cell_type": "code",
      "metadata": {
        "id": "iKwbfRpt0q_W",
        "colab_type": "code",
        "colab": {
          "base_uri": "https://localhost:8080/",
          "height": 34
        },
        "outputId": "e6770c16-f6ce-41ad-e7b7-2dd5ec37f7a8"
      },
      "source": [
        "z = x == y\n",
        "z.get()"
      ],
      "execution_count": 34,
      "outputs": [
        {
          "output_type": "execute_result",
          "data": {
            "text/plain": [
              "tensor([0, 0, 0, 0])"
            ]
          },
          "metadata": {
            "tags": []
          },
          "execution_count": 34
        }
      ]
    },
    {
      "cell_type": "code",
      "metadata": {
        "id": "zpDx3nQ80q_X",
        "colab_type": "code",
        "colab": {}
      },
      "source": [
        ""
      ],
      "execution_count": 0,
      "outputs": []
    },
    {
      "cell_type": "code",
      "metadata": {
        "id": "4emXst9t0q_Z",
        "colab_type": "code",
        "colab": {}
      },
      "source": [
        "x = th.tensor([1,2,3,4])\n",
        "y = th.tensor([2,-1,1,0])\n",
        "\n",
        "x = x.fix_precision().share(bob, alice, crypto_provider=secure_worker)\n",
        "y = y.fix_precision().share(bob, alice, crypto_provider=secure_worker)"
      ],
      "execution_count": 0,
      "outputs": []
    },
    {
      "cell_type": "code",
      "metadata": {
        "id": "itv31Gxi0q_a",
        "colab_type": "code",
        "colab": {
          "base_uri": "https://localhost:8080/",
          "height": 34
        },
        "outputId": "a8f1a2d0-a87a-45bd-9761-597df3d4f2e6"
      },
      "source": [
        "z = x + y\n",
        "z.get().float_precision()"
      ],
      "execution_count": 36,
      "outputs": [
        {
          "output_type": "execute_result",
          "data": {
            "text/plain": [
              "tensor([3., 1., 4., 4.])"
            ]
          },
          "metadata": {
            "tags": []
          },
          "execution_count": 36
        }
      ]
    },
    {
      "cell_type": "code",
      "metadata": {
        "id": "jOSbn0t70q_c",
        "colab_type": "code",
        "colab": {
          "base_uri": "https://localhost:8080/",
          "height": 34
        },
        "outputId": "ecfc2ce9-c1bc-45eb-9b33-219bc5fcc532"
      },
      "source": [
        "z = x - y\n",
        "z.get().float_precision()"
      ],
      "execution_count": 37,
      "outputs": [
        {
          "output_type": "execute_result",
          "data": {
            "text/plain": [
              "tensor([-1.,  3.,  2.,  4.])"
            ]
          },
          "metadata": {
            "tags": []
          },
          "execution_count": 37
        }
      ]
    },
    {
      "cell_type": "code",
      "metadata": {
        "id": "Nf0Z_0x10q_e",
        "colab_type": "code",
        "colab": {
          "base_uri": "https://localhost:8080/",
          "height": 34
        },
        "outputId": "baf68b36-aa32-451a-b3f5-07b79d1ba2b0"
      },
      "source": [
        "z = x * y\n",
        "z.get().float_precision()"
      ],
      "execution_count": 38,
      "outputs": [
        {
          "output_type": "execute_result",
          "data": {
            "text/plain": [
              "tensor([ 2., -2.,  3.,  0.])"
            ]
          },
          "metadata": {
            "tags": []
          },
          "execution_count": 38
        }
      ]
    },
    {
      "cell_type": "code",
      "metadata": {
        "id": "q5C1JM_O0q_f",
        "colab_type": "code",
        "colab": {
          "base_uri": "https://localhost:8080/",
          "height": 34
        },
        "outputId": "96bb0d7c-9257-4ef0-c7e1-b245e72092df"
      },
      "source": [
        "z = x > y\n",
        "z.get().float_precision()"
      ],
      "execution_count": 39,
      "outputs": [
        {
          "output_type": "execute_result",
          "data": {
            "text/plain": [
              "tensor([0., 1., 1., 1.])"
            ]
          },
          "metadata": {
            "tags": []
          },
          "execution_count": 39
        }
      ]
    },
    {
      "cell_type": "code",
      "metadata": {
        "id": "9Bk1yc8n0q_g",
        "colab_type": "code",
        "colab": {
          "base_uri": "https://localhost:8080/",
          "height": 34
        },
        "outputId": "02cfb194-1843-4bb1-954b-f619adf6846b"
      },
      "source": [
        "z = x < y\n",
        "z.get().float_precision()"
      ],
      "execution_count": 40,
      "outputs": [
        {
          "output_type": "execute_result",
          "data": {
            "text/plain": [
              "tensor([1., 0., 0., 0.])"
            ]
          },
          "metadata": {
            "tags": []
          },
          "execution_count": 40
        }
      ]
    },
    {
      "cell_type": "code",
      "metadata": {
        "id": "nBTtt7w90q_i",
        "colab_type": "code",
        "colab": {},
        "outputId": "eda53851-0706-45d8-81b2-954b3512b297"
      },
      "source": [
        "z = x == y\n",
        "z.get().float_precision()"
      ],
      "execution_count": 0,
      "outputs": [
        {
          "output_type": "execute_result",
          "data": {
            "text/plain": [
              "tensor([0., 0., 0., 0.])"
            ]
          },
          "metadata": {
            "tags": []
          },
          "execution_count": 41
        }
      ]
    },
    {
      "cell_type": "markdown",
      "metadata": {
        "id": "ihHx9vpx0q_k",
        "colab_type": "text"
      },
      "source": [
        "# Project: Build an Encrypted Database"
      ]
    },
    {
      "cell_type": "code",
      "metadata": {
        "id": "odEJHPJ70q_l",
        "colab_type": "code",
        "colab": {}
      },
      "source": [
        "# try this project here!\n",
        "import string\n",
        "\n",
        "char2index = {}\n",
        "index2char = {}"
      ],
      "execution_count": 0,
      "outputs": []
    },
    {
      "cell_type": "code",
      "metadata": {
        "id": "rXFQI7vH0q_p",
        "colab_type": "code",
        "colab": {}
      },
      "source": [
        "for i, ch in enumerate(' ' + string.ascii_lowercase + '0123456789' + string.punctuation):\n",
        "    char2index[ch] = i\n",
        "    index2char[i] = ch"
      ],
      "execution_count": 0,
      "outputs": []
    },
    {
      "cell_type": "code",
      "metadata": {
        "id": "HOiYWx9h0q_t",
        "colab_type": "code",
        "colab": {}
      },
      "source": [
        "test_string = \"Berenice\"\n",
        "max_len = 8"
      ],
      "execution_count": 0,
      "outputs": []
    },
    {
      "cell_type": "code",
      "metadata": {
        "id": "AlizAC6l0q_v",
        "colab_type": "code",
        "colab": {}
      },
      "source": [
        "def string2values(str_input, max_len=8):\n",
        "\n",
        "    str_input = str_input[:max_len].lower()\n",
        "\n",
        "    # pad strings shorter than max len\n",
        "    if(len(str_input) < max_len):\n",
        "        str_input = str_input + \".\" * (max_len - len(str_input))\n",
        "\n",
        "    values = list()\n",
        "    for char in str_input:\n",
        "        values.append(char2index[char])\n",
        "\n",
        "    return th.tensor(values).long()\n",
        "  \n",
        "  \n",
        "\n",
        "def values2string(input_values):\n",
        "    s = \"\"\n",
        "    for value in input_values:\n",
        "        s += index2char[int(value)]\n",
        "    return s\n",
        "  \n",
        "  \n",
        "\n",
        "def strings_equal(str_a, str_b):\n",
        "\n",
        "    vect = (str_a * str_b).sum(1)\n",
        "\n",
        "    x = vect[0]\n",
        "\n",
        "    for i in range(vect.shape[0] - 1):\n",
        "        x = x * vect[i + 1]    \n",
        "\n",
        "    return x\n",
        "\n",
        "  \n",
        "  \n",
        "def one_hot(index, length):\n",
        "    vect = th.zeros(length).long()\n",
        "    vect[index] = 1\n",
        "    return vect\n",
        "\n",
        "  \n",
        "  \n",
        "def string2one_hot(str_input, max_len=8):\n",
        "\n",
        "    str_input = str_input[:max_len].lower()\n",
        "\n",
        "    # pad strings shorter than max len\n",
        "    if(len(str_input) < max_len):\n",
        "        str_input = str_input + \".\" * (max_len - len(str_input))\n",
        "\n",
        "    char_vectors = list()\n",
        "    for char in str_input:\n",
        "        char_v = one_hot(char2index[char], len(char2index)).unsqueeze(0)\n",
        "        char_vectors.append(char_v)\n",
        "        \n",
        "    return th.cat(char_vectors, dim=0)"
      ],
      "execution_count": 0,
      "outputs": []
    },
    {
      "cell_type": "code",
      "metadata": {
        "id": "wUc5D_EA0q_y",
        "colab_type": "code",
        "colab": {}
      },
      "source": [
        "class MyEncryptedDB():\n",
        "    \n",
        "    def __init__(self, *owners, max_key_len=16, max_val_len=16):\n",
        "        self.max_key_len = max_key_len\n",
        "        self.max_val_len = max_val_len\n",
        "        \n",
        "        self.owners = owners\n",
        "        self.keys = list()\n",
        "        self.values = list()\n",
        "        \n",
        "        \n",
        "    def add_entry(self, key, value):\n",
        "        key = string2one_hot(key)\n",
        "        key = key.share(*self.owners)\n",
        "        self.keys.append(key)\n",
        "        \n",
        "        value = string2values(value, max_len=self.max_val_len)\n",
        "        value = value.share(*self.owners)\n",
        "        self.values.append(value)\n",
        "        \n",
        "        \n",
        "    def query(self, query_str):\n",
        "        query_matrix = string2one_hot(query_str)\n",
        "        \n",
        "        query_matrix = query_matrix.share(*self.owners)\n",
        "\n",
        "        key_matches = list()\n",
        "        for key in self.keys:\n",
        "\n",
        "            key_match = strings_equal(key, query_matrix)\n",
        "            key_matches.append(key_match)\n",
        "\n",
        "        result = self.values[0] * key_matches[0]\n",
        "\n",
        "        for i in range(len(self.values) - 1):\n",
        "            result += self.values[i+1] * key_matches[i+1]\n",
        "            \n",
        "        result = result.get()\n",
        "\n",
        "        return values2string(result).replace(\".\",\"\")"
      ],
      "execution_count": 0,
      "outputs": []
    },
    {
      "cell_type": "code",
      "metadata": {
        "id": "i77VlSmi0q_z",
        "colab_type": "code",
        "colab": {
          "base_uri": "https://localhost:8080/",
          "height": 85
        },
        "outputId": "3491727c-1bb9-47fc-9e9b-d5ecb43923ef"
      },
      "source": [
        "\n",
        "db = MyEncryptedDB(bob, alice, secure_worker, max_val_len=128)\n",
        "\n",
        "db.add_entry(\"Abc\",\"William Shakespeare\")\n",
        "db.add_entry(\"Def\", \"Johann Wolfgang von Goethe\")\n",
        "db.add_entry(\"Ghi\",\"Arthur Rimbaud\")\n",
        "db.add_entry(\"Jkl\",'Edgar. Alan Poe')\n",
        "\n",
        "print(db.query('Abc'))\n",
        "print(db.query('Def'))\n",
        "print(db.query('Ghi'))\n",
        "print(db.query('Jkl'))\n"
      ],
      "execution_count": 61,
      "outputs": [
        {
          "output_type": "stream",
          "text": [
            "william shakespeare\n",
            "johann wolfgang von goethe\n",
            "arthur rimbaud\n",
            "edgar alan poe\n"
          ],
          "name": "stdout"
        }
      ]
    },
    {
      "cell_type": "code",
      "metadata": {
        "id": "zImfHz5W0q_0",
        "colab_type": "code",
        "colab": {}
      },
      "source": [
        ""
      ],
      "execution_count": 0,
      "outputs": []
    },
    {
      "cell_type": "markdown",
      "metadata": {
        "id": "GSsJQz6M0q_1",
        "colab_type": "text"
      },
      "source": [
        "# Lesson: Encrypted Deep Learning in PyTorch"
      ]
    },
    {
      "cell_type": "markdown",
      "metadata": {
        "id": "L8upJ2Dq0q_2",
        "colab_type": "text"
      },
      "source": [
        "### Train a Model"
      ]
    },
    {
      "cell_type": "code",
      "metadata": {
        "id": "ox6sxb6v0q_2",
        "colab_type": "code",
        "colab": {},
        "outputId": "31ad54bb-c881-4ebf-e6a0-a1de68d75a47"
      },
      "source": [
        "from torch import nn\n",
        "from torch import optim\n",
        "import torch.nn.functional as F\n",
        "\n",
        "# A Toy Dataset\n",
        "data = th.tensor([[0,0],[0,1],[1,0],[1,1.]], requires_grad=True)\n",
        "target = th.tensor([[0],[0],[1],[1.]], requires_grad=True)\n",
        "\n",
        "class Net(nn.Module):\n",
        "    def __init__(self):\n",
        "        super(Net, self).__init__()\n",
        "        self.fc1 = nn.Linear(2, 20)\n",
        "        self.fc2 = nn.Linear(20, 1)\n",
        "\n",
        "    def forward(self, x):\n",
        "        x = self.fc1(x)\n",
        "        x = F.relu(x)\n",
        "        x = self.fc2(x)\n",
        "        return x\n",
        "\n",
        "# A Toy Model\n",
        "model = Net()\n",
        "\n",
        "def train():\n",
        "    # Training Logic\n",
        "    opt = optim.SGD(params=model.parameters(),lr=0.1)\n",
        "    for iter in range(20):\n",
        "\n",
        "        # 1) erase previous gradients (if they exist)\n",
        "        opt.zero_grad()\n",
        "\n",
        "        # 2) make a prediction\n",
        "        pred = model(data)\n",
        "\n",
        "        # 3) calculate how much we missed\n",
        "        loss = ((pred - target)**2).sum()\n",
        "\n",
        "        # 4) figure out which weights caused us to miss\n",
        "        loss.backward()\n",
        "\n",
        "        # 5) change those weights\n",
        "        opt.step()\n",
        "\n",
        "        # 6) print our progress\n",
        "        print(loss.data)\n",
        "        \n",
        "train()"
      ],
      "execution_count": 0,
      "outputs": [
        {
          "output_type": "stream",
          "text": [
            "tensor(0.9531)\n",
            "tensor(1.3878)\n",
            "tensor(5.8197)\n",
            "tensor(13.6372)\n",
            "tensor(7.8522)\n",
            "tensor(0.9594)\n",
            "tensor(0.7709)\n",
            "tensor(0.7118)\n",
            "tensor(0.6515)\n",
            "tensor(0.5745)\n",
            "tensor(0.4967)\n",
            "tensor(0.4161)\n",
            "tensor(0.3239)\n",
            "tensor(0.2526)\n",
            "tensor(0.1886)\n",
            "tensor(0.1267)\n",
            "tensor(0.0867)\n",
            "tensor(0.0532)\n",
            "tensor(0.0370)\n",
            "tensor(0.0223)\n"
          ],
          "name": "stdout"
        }
      ]
    },
    {
      "cell_type": "code",
      "metadata": {
        "id": "Fa10PAMC0q_3",
        "colab_type": "code",
        "colab": {},
        "outputId": "9175d1c9-b81d-4a43-b20d-3a60a87d8061"
      },
      "source": [
        "model(data)"
      ],
      "execution_count": 0,
      "outputs": [
        {
          "output_type": "execute_result",
          "data": {
            "text/plain": [
              "tensor([[ 0.0514],\n",
              "        [-0.0101],\n",
              "        [ 0.9566],\n",
              "        [ 0.8994]], grad_fn=<AddmmBackward>)"
            ]
          },
          "metadata": {
            "tags": []
          },
          "execution_count": 56
        }
      ]
    },
    {
      "cell_type": "markdown",
      "metadata": {
        "id": "XcLJQPjM0q_4",
        "colab_type": "text"
      },
      "source": [
        "## Encrypt the Model and Data"
      ]
    },
    {
      "cell_type": "code",
      "metadata": {
        "id": "xkaviecF0q_4",
        "colab_type": "code",
        "colab": {}
      },
      "source": [
        "encrypted_model = model.fix_precision().share(alice, bob, crypto_provider=secure_worker)"
      ],
      "execution_count": 0,
      "outputs": []
    },
    {
      "cell_type": "code",
      "metadata": {
        "id": "BQkRaMN30q_6",
        "colab_type": "code",
        "colab": {},
        "outputId": "09f842b7-f38a-41a2-91d3-ec25dfb3e786"
      },
      "source": [
        "list(encrypted_model.parameters())"
      ],
      "execution_count": 0,
      "outputs": [
        {
          "output_type": "execute_result",
          "data": {
            "text/plain": [
              "[Parameter containing:\n",
              " Parameter>FixedPrecisionTensor>(Wrapper)>[AdditiveSharingTensor]\n",
              " \t-> (Wrapper)>[PointerTensor | me:90270312706 -> alice:64621591736]\n",
              " \t-> (Wrapper)>[PointerTensor | me:26346950071 -> bob:21579874363]\n",
              " \t*crypto provider: secure_worker*, Parameter containing:\n",
              " Parameter>FixedPrecisionTensor>(Wrapper)>[AdditiveSharingTensor]\n",
              " \t-> (Wrapper)>[PointerTensor | me:5156179829 -> alice:87001562796]\n",
              " \t-> (Wrapper)>[PointerTensor | me:16697713904 -> bob:74982329939]\n",
              " \t*crypto provider: secure_worker*, Parameter containing:\n",
              " Parameter>FixedPrecisionTensor>(Wrapper)>[AdditiveSharingTensor]\n",
              " \t-> (Wrapper)>[PointerTensor | me:96063569101 -> alice:60924746524]\n",
              " \t-> (Wrapper)>[PointerTensor | me:7997403527 -> bob:91730833656]\n",
              " \t*crypto provider: secure_worker*, Parameter containing:\n",
              " Parameter>FixedPrecisionTensor>(Wrapper)>[AdditiveSharingTensor]\n",
              " \t-> (Wrapper)>[PointerTensor | me:36221792128 -> alice:18267234054]\n",
              " \t-> (Wrapper)>[PointerTensor | me:61423632792 -> bob:81628206598]\n",
              " \t*crypto provider: secure_worker*]"
            ]
          },
          "metadata": {
            "tags": []
          },
          "execution_count": 58
        }
      ]
    },
    {
      "cell_type": "code",
      "metadata": {
        "id": "xL5ZlMwc0q_8",
        "colab_type": "code",
        "colab": {}
      },
      "source": [
        "encrypted_data = data.fix_precision().share(alice, bob, crypto_provider=secure_worker)"
      ],
      "execution_count": 0,
      "outputs": []
    },
    {
      "cell_type": "code",
      "metadata": {
        "id": "mJjszJwM0q_-",
        "colab_type": "code",
        "colab": {},
        "outputId": "569ca06e-db4a-437e-d31c-283b9e75db8d"
      },
      "source": [
        "encrypted_data"
      ],
      "execution_count": 0,
      "outputs": [
        {
          "output_type": "execute_result",
          "data": {
            "text/plain": [
              "(Wrapper)>FixedPrecisionTensor>(Wrapper)>[AdditiveSharingTensor]\n",
              "\t-> (Wrapper)>[PointerTensor | me:48419950975 -> alice:61588180745]\n",
              "\t-> (Wrapper)>[PointerTensor | me:24805025079 -> bob:2592329358]\n",
              "\t*crypto provider: secure_worker*"
            ]
          },
          "metadata": {
            "tags": []
          },
          "execution_count": 60
        }
      ]
    },
    {
      "cell_type": "code",
      "metadata": {
        "id": "3AUtTgWT0q__",
        "colab_type": "code",
        "colab": {}
      },
      "source": [
        "encrypted_prediction = encrypted_model(encrypted_data)"
      ],
      "execution_count": 0,
      "outputs": []
    },
    {
      "cell_type": "code",
      "metadata": {
        "id": "zXOMo_4B0rAB",
        "colab_type": "code",
        "colab": {},
        "outputId": "7ddde4b3-25be-4e90-c424-a82e475a0a19"
      },
      "source": [
        "encrypted_prediction.get().float_precision()"
      ],
      "execution_count": 0,
      "outputs": [
        {
          "output_type": "execute_result",
          "data": {
            "text/plain": [
              "tensor([[ 0.0520],\n",
              "        [-0.0100],\n",
              "        [ 0.9560],\n",
              "        [ 0.8990]])"
            ]
          },
          "metadata": {
            "tags": []
          },
          "execution_count": 62
        }
      ]
    },
    {
      "cell_type": "markdown",
      "metadata": {
        "id": "_oUlKwiX0rAC",
        "colab_type": "text"
      },
      "source": [
        "# Lesson: Encrypted Deep Learning in Keras\n"
      ]
    },
    {
      "cell_type": "markdown",
      "metadata": {
        "id": "WeTAXXa20rAC",
        "colab_type": "text"
      },
      "source": [
        "## Step 1: Public Training\n",
        "\n",
        "Welcome to this tutorial! In the following notebooks you will learn how to provide private predictions. By private predictions, we mean that the data is constantly encrypted throughout the entire process. At no point is the user sharing raw data, only encrypted (that is, secret shared) data. In order to provide these private predictions, Syft Keras uses a library called [TF Encrypted](https://github.com/tf-encrypted/tf-encrypted) under the hood. TF Encrypted combines cutting-edge cryptographic and machine learning techniques, but you don't have to worry about this and can focus on your machine learning application.\n",
        "\n",
        "You can start serving private predictions with only three steps:\n",
        "- **Step 1**: train your model with normal Keras.\n",
        "- **Step 2**: secure and serve your machine learning model (server).\n",
        "- **Step 3**: query the secured model to receive private predictions (client). \n",
        "\n",
        "Alright, let's go through these three steps so you can deploy impactful machine learning services without sacrificing user privacy or model security.\n",
        "\n",
        "Huge shoutout to the Dropout Labs ([@dropoutlabs](https://twitter.com/dropoutlabs)) and TF Encrypted ([@tf_encrypted](https://twitter.com/tf_encrypted)) teams for their great work which makes this demo possible, especially: Jason Mancuso ([@jvmancuso](https://twitter.com/jvmancuso)), Yann Dupis ([@YannDupis](https://twitter.com/YannDupis)), and Morten Dahl ([@mortendahlcs](https://github.com/mortendahlcs)). \n",
        "\n",
        "_Demo Ref: https://github.com/OpenMined/PySyft/tree/dev/examples/tutorials_"
      ]
    },
    {
      "cell_type": "markdown",
      "metadata": {
        "id": "MhE51vZs0rAD",
        "colab_type": "text"
      },
      "source": [
        "## Train Your Model in Keras\n",
        "\n",
        "To use privacy-preserving machine learning techniques for your projects you should not have to learn a new machine learning framework. If you have basic [Keras](https://keras.io/) knowledge, you can start using these techniques with Syft Keras. If you have never used Keras before, you can learn a bit more about it through the [Keras documentation](https://keras.io). \n",
        "\n",
        "Before serving private predictions, the first step is to train your model with normal Keras. As an example, we will train a model to classify handwritten digits. To train this model we will use the canonical [MNIST dataset](http://yann.lecun.com/exdb/mnist/).\n",
        "\n",
        "We borrow [this example](https://github.com/keras-team/keras/blob/master/examples/mnist_cnn.py) from the reference Keras repository.  To train your classification model, you just run the cell below."
      ]
    },
    {
      "cell_type": "code",
      "metadata": {
        "id": "SmT7tnHo0rAD",
        "colab_type": "code",
        "colab": {},
        "outputId": "2b8d04e8-53bb-4f29-b5c2-ca7ed460f9f9"
      },
      "source": [
        "from __future__ import print_function\n",
        "import tensorflow.keras as keras\n",
        "from tensorflow.keras.datasets import mnist\n",
        "from tensorflow.keras.models import Sequential\n",
        "from tensorflow.keras.layers import Dense, Dropout, Flatten\n",
        "from tensorflow.keras.layers import Conv2D, AveragePooling2D\n",
        "from tensorflow.keras.layers import Activation\n",
        "\n",
        "batch_size = 128\n",
        "num_classes = 10\n",
        "epochs = 2\n",
        "\n",
        "# input image dimensions\n",
        "img_rows, img_cols = 28, 28\n",
        "\n",
        "# the data, split between train and test sets\n",
        "(x_train, y_train), (x_test, y_test) = mnist.load_data()\n",
        "\n",
        "x_train = x_train.reshape(x_train.shape[0], img_rows, img_cols, 1)\n",
        "x_test = x_test.reshape(x_test.shape[0], img_rows, img_cols, 1)\n",
        "input_shape = (img_rows, img_cols, 1)\n",
        "\n",
        "x_train = x_train.astype('float32')\n",
        "x_test = x_test.astype('float32')\n",
        "x_train /= 255\n",
        "x_test /= 255\n",
        "print('x_train shape:', x_train.shape)\n",
        "print(x_train.shape[0], 'train samples')\n",
        "print(x_test.shape[0], 'test samples')\n",
        "\n",
        "# convert class vectors to binary class matrices\n",
        "y_train = keras.utils.to_categorical(y_train, num_classes)\n",
        "y_test = keras.utils.to_categorical(y_test, num_classes)\n",
        "\n",
        "model = Sequential()\n",
        "\n",
        "model.add(Conv2D(10, (3, 3), input_shape=input_shape))\n",
        "model.add(AveragePooling2D((2, 2)))\n",
        "model.add(Activation('relu'))\n",
        "model.add(Conv2D(32, (3, 3)))\n",
        "model.add(AveragePooling2D((2, 2)))\n",
        "model.add(Activation('relu'))\n",
        "model.add(Conv2D(64, (3, 3)))\n",
        "model.add(AveragePooling2D((2, 2)))\n",
        "model.add(Activation('relu'))\n",
        "model.add(Flatten())\n",
        "model.add(Dense(num_classes, activation='softmax'))\n",
        "\n",
        "model.compile(loss=keras.losses.categorical_crossentropy,\n",
        "              optimizer=keras.optimizers.Adadelta(),\n",
        "              metrics=['accuracy'])\n",
        "\n",
        "model.fit(x_train, y_train,\n",
        "          batch_size=batch_size,\n",
        "          epochs=epochs,\n",
        "          verbose=1,\n",
        "          validation_data=(x_test, y_test))\n",
        "score = model.evaluate(x_test, y_test, verbose=0)\n",
        "print('Test loss:', score[0])\n",
        "print('Test accuracy:', score[1])"
      ],
      "execution_count": 0,
      "outputs": [
        {
          "output_type": "stream",
          "text": [
            "x_train shape: (60000, 28, 28, 1)\n",
            "60000 train samples\n",
            "10000 test samples\n",
            "WARNING:tensorflow:From /Users/atrask/anaconda/lib/python3.6/site-packages/tensorflow/python/ops/resource_variable_ops.py:435: colocate_with (from tensorflow.python.framework.ops) is deprecated and will be removed in a future version.\n",
            "Instructions for updating:\n",
            "Colocations handled automatically by placer.\n"
          ],
          "name": "stdout"
        },
        {
          "output_type": "stream",
          "text": [
            "WARNING:tensorflow:From /Users/atrask/anaconda/lib/python3.6/site-packages/tensorflow/python/ops/resource_variable_ops.py:435: colocate_with (from tensorflow.python.framework.ops) is deprecated and will be removed in a future version.\n",
            "Instructions for updating:\n",
            "Colocations handled automatically by placer.\n"
          ],
          "name": "stderr"
        },
        {
          "output_type": "stream",
          "text": [
            "Train on 60000 samples, validate on 10000 samples\n",
            "WARNING:tensorflow:From /Users/atrask/anaconda/lib/python3.6/site-packages/tensorflow/python/ops/math_ops.py:3066: to_int32 (from tensorflow.python.ops.math_ops) is deprecated and will be removed in a future version.\n",
            "Instructions for updating:\n",
            "Use tf.cast instead.\n"
          ],
          "name": "stdout"
        },
        {
          "output_type": "stream",
          "text": [
            "WARNING:tensorflow:From /Users/atrask/anaconda/lib/python3.6/site-packages/tensorflow/python/ops/math_ops.py:3066: to_int32 (from tensorflow.python.ops.math_ops) is deprecated and will be removed in a future version.\n",
            "Instructions for updating:\n",
            "Use tf.cast instead.\n"
          ],
          "name": "stderr"
        },
        {
          "output_type": "stream",
          "text": [
            "Epoch 1/2\n",
            "60000/60000 [==============================] - 7s 119us/sample - loss: 0.6739 - acc: 0.7855 - val_loss: 0.2742 - val_acc: 0.9135\n",
            "Epoch 2/2\n",
            "60000/60000 [==============================] - 7s 122us/sample - loss: 0.2181 - acc: 0.9341 - val_loss: 0.1549 - val_acc: 0.9517\n",
            "Test loss: 0.1548735132828355\n",
            "Test accuracy: 0.9517\n"
          ],
          "name": "stdout"
        }
      ]
    },
    {
      "cell_type": "code",
      "metadata": {
        "id": "M7OjK-W_0rAF",
        "colab_type": "code",
        "colab": {}
      },
      "source": [
        "## Save your model's weights for future private prediction\n",
        "model.save('short-conv-mnist.h5')"
      ],
      "execution_count": 0,
      "outputs": []
    },
    {
      "cell_type": "markdown",
      "metadata": {
        "id": "zmq6evSl0rAG",
        "colab_type": "text"
      },
      "source": [
        "## Step 2: Load and Serve the Model"
      ]
    },
    {
      "cell_type": "markdown",
      "metadata": {
        "id": "lRKUevGt0rAG",
        "colab_type": "text"
      },
      "source": [
        "Now that you have a trained model with normal Keras, you are ready to serve some private predictions. We can do that using Syft Keras.\n",
        "\n",
        "To secure and serve this model, we will need three TFEWorkers (servers). This is because TF Encrypted under the hood uses an encryption technique called [multi-party computation (MPC)](https://en.wikipedia.org/wiki/Secure_multi-party_computation). The idea is to split the model weights and input data into shares, then send a share of each value to the different servers. The key property is that if you look at the share on one server, it reveals nothing about the original value (input data or model weights).\n",
        "\n",
        "We'll define a Syft Keras model like we did in the previous notebook. However, there is a trick: before instantiating this model, we'll run `hook = sy.KerasHook(tf.keras)`. This will add three important new methods to the Keras Sequential class:\n",
        " - `share`: will secure your model via secret sharing; by default, it will use the SecureNN protocol from TF Encrypted to secret share your model between each of the three TFEWorkers. Most importantly, this will add the capability of providing predictions on encrypted data.\n",
        " - `serve`: this function will launch a serving queue, so that the TFEWorkers can can accept prediction requests on the secured model from external clients.\n",
        " - `shutdown_workers`: once you are done providing private predictions, you can shut down your model by running this function. It will direct you to shutdown the server processes manually if you've opted to manually manage each worker.\n",
        "\n",
        "If you want learn more about MPC, you can read this excellent [blog](https://mortendahl.github.io/2017/04/17/private-deep-learning-with-mpc/)."
      ]
    },
    {
      "cell_type": "code",
      "metadata": {
        "id": "PX5Xf4SD0rAH",
        "colab_type": "code",
        "colab": {}
      },
      "source": [
        "import numpy as np\n",
        "import tensorflow as tf\n",
        "from tensorflow.keras import Sequential\n",
        "from tensorflow.keras.layers import AveragePooling2D, Conv2D, Dense, Activation, Flatten, ReLU, Activation\n",
        "\n",
        "import syft as sy\n",
        "hook = sy.KerasHook(tf.keras)"
      ],
      "execution_count": 0,
      "outputs": []
    },
    {
      "cell_type": "markdown",
      "metadata": {
        "id": "8geIVfOk0rAI",
        "colab_type": "text"
      },
      "source": [
        "## Model\n",
        "\n",
        "As you can see, we define almost the exact same model as before, except we provide a `batch_input_shape`. This allows TF Encrypted to better optimize the secure computations via predefined tensor shapes. For this MNIST demo, we'll send input data with the shape of (1, 28, 28, 1). \n",
        "We also return the logit instead of softmax because this operation is complex to perform using MPC, and we don't need it to serve prediction requests."
      ]
    },
    {
      "cell_type": "code",
      "metadata": {
        "id": "ODj36eV_0rAJ",
        "colab_type": "code",
        "colab": {}
      },
      "source": [
        "num_classes = 10\n",
        "input_shape = (1, 28, 28, 1)\n",
        "\n",
        "model = Sequential()\n",
        "\n",
        "model.add(Conv2D(10, (3, 3), batch_input_shape=input_shape))\n",
        "model.add(AveragePooling2D((2, 2)))\n",
        "model.add(Activation('relu'))\n",
        "model.add(Conv2D(32, (3, 3)))\n",
        "model.add(AveragePooling2D((2, 2)))\n",
        "model.add(Activation('relu'))\n",
        "model.add(Conv2D(64, (3, 3)))\n",
        "model.add(AveragePooling2D((2, 2)))\n",
        "model.add(Activation('relu'))\n",
        "model.add(Flatten())\n",
        "model.add(Dense(num_classes, name=\"logit\"))"
      ],
      "execution_count": 0,
      "outputs": []
    },
    {
      "cell_type": "markdown",
      "metadata": {
        "id": "v9R-ARHe0rAK",
        "colab_type": "text"
      },
      "source": [
        "### Load Pre-trained Weights\n",
        "\n",
        "With `load_weights` you can easily load the weights you have saved previously after training your model."
      ]
    },
    {
      "cell_type": "code",
      "metadata": {
        "id": "dabYhsX-0rAK",
        "colab_type": "code",
        "colab": {}
      },
      "source": [
        "pre_trained_weights = 'short-conv-mnist.h5'\n",
        "model.load_weights(pre_trained_weights)"
      ],
      "execution_count": 0,
      "outputs": []
    },
    {
      "cell_type": "markdown",
      "metadata": {
        "id": "kG9vFy0d0rAM",
        "colab_type": "text"
      },
      "source": [
        "## Step 3: Setup Your Worker Connectors\n",
        "\n",
        "Let's now connect to the TFEWorkers (`alice`, `bob`, and `carol`) required by TF Encrypted to perform private predictions. For each TFEWorker, you just have to specify a host.\n",
        "\n",
        "These workers run a [TensorFlow server](https://www.tensorflow.org/api_docs/python/tf/distribute/Server), which you can either manage manually (`AUTO = False`) or ask the workers to manage for you (`AUTO = True`). If choosing to manually manage them, you will be instructed to execute a terminal command on each worker's host device after calling `model.share()` below.  If all workers are hosted on a single device (e.g. `localhost`), you can choose to have Syft automatically manage the worker's TensorFlow server."
      ]
    },
    {
      "cell_type": "code",
      "metadata": {
        "id": "0Iq2jbH40rAM",
        "colab_type": "code",
        "colab": {}
      },
      "source": [
        "AUTO = False\n",
        "\n",
        "alice = sy.TFEWorker(host='localhost:4000', auto_managed=AUTO)\n",
        "bob = sy.TFEWorker(host='localhost:4001', auto_managed=AUTO)\n",
        "carol = sy.TFEWorker(host='localhost:4002', auto_managed=AUTO)"
      ],
      "execution_count": 0,
      "outputs": []
    },
    {
      "cell_type": "markdown",
      "metadata": {
        "id": "Q55dpurR0rAO",
        "colab_type": "text"
      },
      "source": [
        "## Step 4: Split the Model Into Shares\n",
        "\n",
        "Thanks to `sy.KerasHook(tf.keras)` you can call the `share` method to transform your model into a TF Encrypted Keras model.\n",
        "\n",
        "If you have asked to manually manage servers above then this step will not complete until they have all been launched. Note that your firewall may ask for Python to accept incoming connection."
      ]
    },
    {
      "cell_type": "code",
      "metadata": {
        "id": "FScVgUbZ0rAO",
        "colab_type": "code",
        "colab": {},
        "outputId": "a1418e76-cf61-4312-ad4e-28142d2c476d"
      },
      "source": [
        "model.share(alice, bob, carol)"
      ],
      "execution_count": 0,
      "outputs": [
        {
          "output_type": "stream",
          "text": [
            "INFO:tf_encrypted:If not done already, please launch the following command in a terminal on host 'localhost:4000':\n",
            "'python -m tf_encrypted.player --config /tmp/tfe.config server0'\n",
            "This can be done automatically in a local subprocess by setting `auto_managed=True` when instantiating a TFEWorker.\n",
            "INFO:tf_encrypted:If not done already, please launch the following command in a terminal on host 'localhost:4001':\n",
            "'python -m tf_encrypted.player --config /tmp/tfe.config server1'\n",
            "This can be done automatically in a local subprocess by setting `auto_managed=True` when instantiating a TFEWorker.\n",
            "INFO:tf_encrypted:If not done already, please launch the following command in a terminal on host 'localhost:4002':\n",
            "'python -m tf_encrypted.player --config /tmp/tfe.config server2'\n",
            "This can be done automatically in a local subprocess by setting `auto_managed=True` when instantiating a TFEWorker.\n",
            "INFO:tf_encrypted:Starting session on target 'grpc://localhost:4000' using config graph_options {\n",
            "}\n",
            "\n"
          ],
          "name": "stderr"
        }
      ]
    },
    {
      "cell_type": "markdown",
      "metadata": {
        "id": "4vFiaw2L0rAP",
        "colab_type": "text"
      },
      "source": [
        "## Step 5: Launch 3 Servers\n",
        "\n",
        "```\n",
        "python -m tf_encrypted.player --config /tmp/tfe.config server0\n",
        "python -m tf_encrypted.player --config /tmp/tfe.config server1\n",
        "python -m tf_encrypted.player --config /tmp/tfe.config server2```"
      ]
    },
    {
      "cell_type": "markdown",
      "metadata": {
        "id": "94-th5mh0rAP",
        "colab_type": "text"
      },
      "source": [
        "## Step 6: Serve the Model\n",
        "\n",
        "Perfect! Now by calling `model.serve`, your model is ready to provide some private predictions. You can set `num_requests` to set a limit on the number of predictions requests served by the model; if not specified then the model will be served until interrupted."
      ]
    },
    {
      "cell_type": "code",
      "metadata": {
        "id": "lZR5AaeL0rAQ",
        "colab_type": "code",
        "colab": {},
        "outputId": "1d303c5b-ae58-4961-9981-b5a15b6ea684"
      },
      "source": [
        "model.serve(num_requests=3)"
      ],
      "execution_count": 0,
      "outputs": [
        {
          "output_type": "stream",
          "text": [
            "Served encrypted prediction 1 to client.\n",
            "Served encrypted prediction 2 to client.\n",
            "Served encrypted prediction 3 to client.\n"
          ],
          "name": "stdout"
        }
      ]
    },
    {
      "cell_type": "markdown",
      "metadata": {
        "id": "57PInvml0rAR",
        "colab_type": "text"
      },
      "source": [
        "## Step 7: Run the Client\n",
        "\n",
        "At this point open up and run the companion notebook: Section 4b - Encrytped Keras Client"
      ]
    },
    {
      "cell_type": "markdown",
      "metadata": {
        "id": "grzSOaOX0rAR",
        "colab_type": "text"
      },
      "source": [
        "## Step 8: Shutdown the Servers\n",
        "\n",
        "Once your request limit above, the model will no longer be available for serving requests, but it's still secret shared between the three workers above. You can kill the workers by executing the cell below.\n",
        "\n",
        "**Congratulations** on finishing Part 12: Secure Classification with Syft Keras and TFE!"
      ]
    },
    {
      "cell_type": "code",
      "metadata": {
        "id": "Ixu9-meL0rAR",
        "colab_type": "code",
        "colab": {}
      },
      "source": [
        "model.shutdown_workers()\n",
        "\n",
        "if not AUTO:\n",
        "    process_ids = !ps aux | grep '[p]ython -m tf_encrypted.player --config /tmp/tfe.config' | awk '{print $2}'\n",
        "    for process_id in process_ids:\n",
        "        !kill {process_id}\n",
        "        print(\"Process ID {id} has been killed.\".format(id=process_id))"
      ],
      "execution_count": 0,
      "outputs": []
    },
    {
      "cell_type": "code",
      "metadata": {
        "id": "cMxiquNu0rAS",
        "colab_type": "code",
        "colab": {}
      },
      "source": [
        ""
      ],
      "execution_count": 0,
      "outputs": []
    },
    {
      "cell_type": "markdown",
      "metadata": {
        "id": "UXJP6FOb0rAT",
        "colab_type": "text"
      },
      "source": [
        "# Keystone Project - Mix and Match What You've Learned\n",
        "\n",
        "Description: Take two of the concepts you've learned about in this course (Encrypted Computation, Federated Learning, Differential Privacy) and combine them for a use case of your own design. Extra credit if you can get your demo working with [WebSocketWorkers](https://github.com/OpenMined/PySyft/tree/dev/examples/tutorials/advanced/websockets-example-MNIST) instead of VirtualWorkers! Then take your demo or example application, write a blogpost, and share that blogpost in #general-discussion on OpenMined's slack!!!\n",
        "\n",
        "Inspiration:\n",
        "- This Course's Code: https://github.com/Udacity/private-ai\n",
        "- OpenMined's Tutorials: https://github.com/OpenMined/PySyft/tree/dev/examples/tutorials\n",
        "- OpenMined's Blog: https://blog.openmined.org"
      ]
    },
    {
      "cell_type": "code",
      "metadata": {
        "id": "47pw3y7Y0rAU",
        "colab_type": "code",
        "colab": {}
      },
      "source": [
        ""
      ],
      "execution_count": 0,
      "outputs": []
    },
    {
      "cell_type": "code",
      "metadata": {
        "id": "5YzOW3dy0rAW",
        "colab_type": "code",
        "colab": {}
      },
      "source": [
        ""
      ],
      "execution_count": 0,
      "outputs": []
    },
    {
      "cell_type": "code",
      "metadata": {
        "id": "UX3h9jJ90rAX",
        "colab_type": "code",
        "colab": {}
      },
      "source": [
        ""
      ],
      "execution_count": 0,
      "outputs": []
    },
    {
      "cell_type": "code",
      "metadata": {
        "id": "vCwuZPx90rAY",
        "colab_type": "code",
        "colab": {}
      },
      "source": [
        ""
      ],
      "execution_count": 0,
      "outputs": []
    },
    {
      "cell_type": "code",
      "metadata": {
        "id": "wjrmS4mu0rAZ",
        "colab_type": "code",
        "colab": {}
      },
      "source": [
        ""
      ],
      "execution_count": 0,
      "outputs": []
    },
    {
      "cell_type": "code",
      "metadata": {
        "id": "MVmrjckI0rAa",
        "colab_type": "code",
        "colab": {}
      },
      "source": [
        ""
      ],
      "execution_count": 0,
      "outputs": []
    },
    {
      "cell_type": "code",
      "metadata": {
        "id": "_xuYSECJ0rAb",
        "colab_type": "code",
        "colab": {}
      },
      "source": [
        ""
      ],
      "execution_count": 0,
      "outputs": []
    },
    {
      "cell_type": "code",
      "metadata": {
        "id": "DD1ojoHg0rAc",
        "colab_type": "code",
        "colab": {}
      },
      "source": [
        ""
      ],
      "execution_count": 0,
      "outputs": []
    },
    {
      "cell_type": "code",
      "metadata": {
        "id": "_TnTPKgd0rAd",
        "colab_type": "code",
        "colab": {}
      },
      "source": [
        ""
      ],
      "execution_count": 0,
      "outputs": []
    },
    {
      "cell_type": "code",
      "metadata": {
        "id": "SaYoop0U0rAe",
        "colab_type": "code",
        "colab": {}
      },
      "source": [
        ""
      ],
      "execution_count": 0,
      "outputs": []
    },
    {
      "cell_type": "code",
      "metadata": {
        "id": "_5-FTaWC0rAf",
        "colab_type": "code",
        "colab": {}
      },
      "source": [
        ""
      ],
      "execution_count": 0,
      "outputs": []
    },
    {
      "cell_type": "code",
      "metadata": {
        "id": "nFD4xb6a0rAg",
        "colab_type": "code",
        "colab": {}
      },
      "source": [
        ""
      ],
      "execution_count": 0,
      "outputs": []
    },
    {
      "cell_type": "code",
      "metadata": {
        "id": "Ns3qA5Zu0rAi",
        "colab_type": "code",
        "colab": {}
      },
      "source": [
        ""
      ],
      "execution_count": 0,
      "outputs": []
    },
    {
      "cell_type": "code",
      "metadata": {
        "id": "RlyjFkz-0rAj",
        "colab_type": "code",
        "colab": {}
      },
      "source": [
        ""
      ],
      "execution_count": 0,
      "outputs": []
    },
    {
      "cell_type": "code",
      "metadata": {
        "id": "BhtaG1kI0rAk",
        "colab_type": "code",
        "colab": {}
      },
      "source": [
        ""
      ],
      "execution_count": 0,
      "outputs": []
    },
    {
      "cell_type": "code",
      "metadata": {
        "id": "7tJVitpO0rAl",
        "colab_type": "code",
        "colab": {}
      },
      "source": [
        ""
      ],
      "execution_count": 0,
      "outputs": []
    },
    {
      "cell_type": "code",
      "metadata": {
        "id": "YVz1N-dG0rAn",
        "colab_type": "code",
        "colab": {}
      },
      "source": [
        ""
      ],
      "execution_count": 0,
      "outputs": []
    },
    {
      "cell_type": "code",
      "metadata": {
        "id": "WvEkOpqs0rAn",
        "colab_type": "code",
        "colab": {}
      },
      "source": [
        ""
      ],
      "execution_count": 0,
      "outputs": []
    },
    {
      "cell_type": "code",
      "metadata": {
        "id": "QpWcmupS0rAo",
        "colab_type": "code",
        "colab": {}
      },
      "source": [
        ""
      ],
      "execution_count": 0,
      "outputs": []
    }
  ]
}