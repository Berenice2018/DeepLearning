{
  "nbformat": 4,
  "nbformat_minor": 0,
  "metadata": {
    "kernelspec": {
      "display_name": "Python 3",
      "language": "python",
      "name": "python3"
    },
    "language_info": {
      "codemirror_mode": {
        "name": "ipython",
        "version": 3
      },
      "file_extension": ".py",
      "mimetype": "text/x-python",
      "name": "python",
      "nbconvert_exporter": "python",
      "pygments_lexer": "ipython3",
      "version": "3.6.6"
    },
    "colab": {
      "name": "pysyft-secure-dl-cifar10.ipynb",
      "version": "0.3.2",
      "provenance": [],
      "collapsed_sections": [],
      "include_colab_link": true
    }
  },
  "cells": [
    {
      "cell_type": "markdown",
      "metadata": {
        "id": "view-in-github",
        "colab_type": "text"
      },
      "source": [
        "<a href=\"https://colab.research.google.com/github/Berenice2018/DeepLearning/blob/master/pysyft_secure_dl_cifar10.ipynb\" target=\"_parent\"><img src=\"https://colab.research.google.com/assets/colab-badge.svg\" alt=\"Open In Colab\"/></a>"
      ]
    },
    {
      "cell_type": "markdown",
      "metadata": {
        "id": "QXq86KKJwCY-",
        "colab_type": "text"
      },
      "source": [
        "(notebook copy from Kaggle)\n",
        "\n",
        "Data is shared in an encrypted way across multiple end devices via workers\n",
        "```(data.fix_precision().share(ada, bob, crypto_provider= crypto_provdr)```\n",
        "\n",
        "The end device downloads the current model, i.e. the model is shared with the end devices: \n",
        "``` model.fix_precision().share(ada,bob, crypto_provider=crypto_provdr)```\n",
        "\n",
        "\n",
        "The end device improves the model by learning from data on that end device, \n",
        "and then summarizes the changes as a small focused update. \n",
        "\n",
        "It is just this update to the model that is sent to the cloud (secure worker), using encryption, where it is averaged with other updates (coming from end devices) to improve the shared model. \n",
        "\n",
        "All the training data remains on the end devices. The model, the inputs, the model outputs, the weights, etc. will be encrypted as well. "
      ]
    },
    {
      "cell_type": "code",
      "metadata": {
        "id": "mnHVyncKwL0C",
        "colab_type": "code",
        "colab": {}
      },
      "source": [
        "!pip install syft"
      ],
      "execution_count": 0,
      "outputs": []
    },
    {
      "cell_type": "code",
      "metadata": {
        "_cell_guid": "b1076dfc-b9ad-4769-8c92-a6c4dae69d19",
        "_uuid": "8f2839f25d086af736a60e9eeb907d3b93b6e0e5",
        "id": "vwimUBHgv-jV",
        "colab_type": "code",
        "outputId": "7bc442da-e895-4290-fa65-2ad739ba0b88",
        "colab": {
          "base_uri": "https://localhost:8080/",
          "height": 105
        }
      },
      "source": [
        "# This Python 3 environment comes with many helpful analytics libraries installed\n",
        "# It is defined by the kaggle/python docker image: https://github.com/kaggle/docker-python\n",
        "# For example, here's several helpful packages to load in \n",
        "\n",
        "import numpy as np # linear algebra\n",
        "#import pandas as pd # data processing, CSV file I/O (e.g. pd.read_csv)\n",
        "from glob import glob\n",
        "from PIL import Image\n",
        "import matplotlib.pyplot as plt\n",
        "%matplotlib inline\n",
        "\n",
        "import torch\n",
        "import torch.nn as nn\n",
        "import torch.nn.functional as F\n",
        "import torch.optim as optim\n",
        "import torchvision\n",
        "from torchvision import datasets, transforms\n",
        "from torch.utils.data.sampler import SubsetRandomSampler\n",
        "\n",
        "import syft as sy\n",
        "\n",
        "import os\n",
        "\n"
      ],
      "execution_count": 0,
      "outputs": [
        {
          "output_type": "stream",
          "text": [
            "WARNING: Logging before flag parsing goes to stderr.\n",
            "W0730 12:02:31.491908 140642365200256 secure_random.py:26] Falling back to insecure randomness since the required custom op could not be found for the installed version of TensorFlow. Fix this by compiling custom ops. Missing file was '/usr/local/lib/python3.6/dist-packages/tf_encrypted/operations/secure_random/secure_random_module_tf_1.14.0.so'\n",
            "W0730 12:02:31.632930 140642365200256 deprecation_wrapper.py:119] From /usr/local/lib/python3.6/dist-packages/tf_encrypted/session.py:26: The name tf.Session is deprecated. Please use tf.compat.v1.Session instead.\n",
            "\n"
          ],
          "name": "stderr"
        }
      ]
    },
    {
      "cell_type": "code",
      "metadata": {
        "id": "IZOOOvKCv-ja",
        "colab_type": "code",
        "colab": {}
      },
      "source": [
        "# Visualize plot\n",
        "def plot_loss_acc(n_epochs, train_losses, valid_losses, valid_accuracies):\n",
        "    fig, (ax1, ax2) = plt.subplots(figsize=(14,6), ncols=2)\n",
        "    ax1.plot(valid_losses, label='Validation loss')\n",
        "    ax1.plot(train_losses, label='Training loss')\n",
        "    ax1.legend(frameon=False)\n",
        "    ax1.set_xlabel('Epochs')\n",
        "    ax1.set_ylabel('Loss')\n",
        "    #x_ticks = [x for x in range(0,n_epochs,2)]\n",
        "    #plt.xticks(x_ticks)\n",
        "    \n",
        "    ax2.plot(valid_accuracies, label = 'Validation accuracy')\n",
        "    ax2.legend(frameon=False)\n",
        "    ax2.set_xlabel('Epochs')\n",
        "    \n",
        "    plt.tight_layout()"
      ],
      "execution_count": 0,
      "outputs": []
    },
    {
      "cell_type": "code",
      "metadata": {
        "_cell_guid": "79c7e3d0-c299-4dcb-8224-4455121ee9b0",
        "_uuid": "d629ff2d2480ee46fbb7e2d37f6b5fab8052498a",
        "id": "71BjQCVdv-jc",
        "colab_type": "code",
        "colab": {}
      },
      "source": [
        "# create workers, \n",
        "hook = sy.TorchHook(torch)\n",
        "\n",
        "ada = sy.VirtualWorker(hook, 'ada')\n",
        "bob = sy.VirtualWorker(hook, 'bob')\n",
        "#cyd = sy.VirtualWorker(hook, 'cyd')\n",
        "\n",
        "client = sy.VirtualWorker(hook, 'client')\n",
        "crypto_provdr = sy.VirtualWorker(hook, 'crypto_provdr') #gives crypto primitives we may need"
      ],
      "execution_count": 0,
      "outputs": []
    },
    {
      "cell_type": "code",
      "metadata": {
        "id": "Io0XB4kvv-jd",
        "colab_type": "code",
        "outputId": "673b99a0-79b6-4753-cc37-8462daed302b",
        "colab": {
          "base_uri": "https://localhost:8080/",
          "height": 51
        }
      },
      "source": [
        "# define the transform\n",
        "transform = transforms.Compose([\n",
        "    transforms.ToTensor(),\n",
        "    transforms.Normalize((0.5,0.5,0.5 ), (0.5,0.5,0.5 ))\n",
        "])\n",
        "\n",
        "# load the datasets\n",
        "#fulltrainset = datasets.FashionMNIST('~/.pytorch/F_MNIST_data/', download=True, train=True, transform=transform)\n",
        "fulltrainset = datasets.CIFAR10(root='./CIFAR10_data', train=True, download=True, transform=transform)\n",
        "testset = datasets.CIFAR10('~/.pytorch/CIFAR10_data', download=True, train=False, transform=transform)\n",
        "\n",
        "train_size = int(len(fulltrainset)* 0.8)\n",
        "valid_size = len(fulltrainset) - train_size\n",
        "\n",
        "# split the dataset\n",
        "trainset, validationset = torch.utils.data.random_split(fulltrainset, [train_size, valid_size])\n",
        "trainset = trainset.dataset\n",
        "validationset = validationset.dataset\n"
      ],
      "execution_count": 0,
      "outputs": [
        {
          "output_type": "stream",
          "text": [
            "Files already downloaded and verified\n",
            "Files already downloaded and verified\n"
          ],
          "name": "stdout"
        }
      ]
    },
    {
      "cell_type": "code",
      "metadata": {
        "id": "4LXZIkP6v-jg",
        "colab_type": "code",
        "outputId": "6fc9cc54-f97c-458d-b041-c9985060bbac",
        "colab": {
          "base_uri": "https://localhost:8080/",
          "height": 34
        }
      },
      "source": [
        "# we assume that the server has access to some data to first train its model\n",
        "train_loader = torch.utils.data.DataLoader(trainset, batch_size=64, shuffle=True)\n",
        "\n",
        "# The client has some data and gets predictions on it using the server's model. \n",
        "# The client encrypts its data by sharing it additively across the workers ada, bob, cyd.\n",
        "valid_loader = torch.utils.data.DataLoader(validationset, batch_size=64, shuffle=True)\n",
        "\n",
        "private_valid_loader = []\n",
        "for data, target in valid_loader:\n",
        "    private_valid_loader.append(\n",
        "        (data.fix_precision().share(ada, bob, crypto_provider= crypto_provdr),\n",
        "        target.fix_precision().share(ada, bob, crypto_provider=crypto_provdr)\n",
        "        ))\n",
        "\n",
        "    \n",
        "test_loader = torch.utils.data.DataLoader(testset, batch_size=64, shuffle=True)\n",
        "\n",
        "len_trainloader = len(train_loader)\n",
        "len_validloader = len(valid_loader)\n",
        "print('len_trainloader= {}, len_validloader={}'.format(len_trainloader, len_validloader))\n",
        "\n",
        "# Let's check that our trainloader returns a pointer to a batch, and that transformations are applied\n",
        "#data, labels = next(iter(train_loader))\n",
        "#data"
      ],
      "execution_count": 0,
      "outputs": [
        {
          "output_type": "stream",
          "text": [
            "len_trainloader= 782, len_validloader=782\n"
          ],
          "name": "stdout"
        }
      ]
    },
    {
      "cell_type": "markdown",
      "metadata": {
        "id": "noMgFoFbv-ji",
        "colab_type": "text"
      },
      "source": [
        "**Architecture**"
      ]
    },
    {
      "cell_type": "code",
      "metadata": {
        "id": "U_98_CKQv-jj",
        "colab_type": "code",
        "colab": {}
      },
      "source": [
        "class Model(nn.Module):\n",
        "    def __init__(self):\n",
        "        super(Model, self).__init__()\n",
        "        self.fc1 = nn.Linear(3*32*32, 512)\n",
        "        self.fc2 = nn.Linear(512, 10)\n",
        "\n",
        "    def forward(self, x):\n",
        "        x = x.view(-1, 3*32*32)\n",
        "        x = self.fc1(x)\n",
        "        x = F.relu(x)\n",
        "        x = self.fc2(x)\n",
        "        return x # F.log_softmax(x, dim=1)\n",
        "    \n",
        "    \n",
        "    # (in_channels, out_channels, kernel_size, stride=1, padding=0, dilation=1, groups=1, bias=True, padding_mode='zeros')\n",
        "class MyCifarNet(nn.Module):\n",
        "    def __init__(self):\n",
        "        super(MyCifarNet, self).__init__()\n",
        "        self.conv1 = nn.Conv2d(3, 6, 5)\n",
        "        self.pool = nn.MaxPool2d(2, 2)\n",
        "        self.conv2 = nn.Conv2d(6, 16, 5)\n",
        "        self.fc1 = nn.Linear(16 * 5 * 5, 120)\n",
        "        self.fc2 = nn.Linear(120, 84)\n",
        "        self.fc3 = nn.Linear(84, 10)\n",
        "\n",
        "    def forward(self, x):\n",
        "        #print('x {}, size {}'.format(x.shape, x.size(0))) # x torch.Size([64, 1, 28, 28]), size 0\n",
        "        x = self.pool(F.relu(self.conv1(x)))\n",
        "        x = self.pool(F.relu(self.conv2(x)))\n",
        "        x = x.view(-1, 16 * 5 * 5)\n",
        "        x = F.relu(self.fc1(x))\n",
        "        x = F.relu(self.fc2(x))\n",
        "        x = self.fc3(x)\n",
        "        return x # F.log_softmax(x, dim=1)\n",
        "    \n"
      ],
      "execution_count": 0,
      "outputs": []
    },
    {
      "cell_type": "markdown",
      "metadata": {
        "id": "H8nURlrPv-jk",
        "colab_type": "text"
      },
      "source": [
        "**Functions train, test**"
      ]
    },
    {
      "cell_type": "code",
      "metadata": {
        "id": "wws9hQW0v-jl",
        "colab_type": "code",
        "colab": {}
      },
      "source": [
        "def weights_init_normal(m):\n",
        "    '''Takes in a module and initializes all linear layers with weight\n",
        "       values taken from a normal distribution.'''\n",
        "    classname = m.__class__.__name__\n",
        "    # for every Linear layer in a model\n",
        "    if classname.find('Linear') != -1:\n",
        "        n = m.in_features\n",
        "        # m.weight.data shoud be taken from a normal distribution\n",
        "        m.weight.data.normal_(0, 1/np.sqrt(n))\n",
        "        # m.bias.data should be 0\n",
        "        m.bias.data.fill_(0)\n",
        "            \n",
        "\n",
        "def train(args, model, device, train_loader, optimizer, epoch):\n",
        "    # initialize variables to monitor training and validation loss\n",
        "    train_loss = 0.0\n",
        "    correct = 0.0\n",
        "    \n",
        "    model.train()\n",
        "    \n",
        "    for batch_idx, (data, target) in enumerate(train_loader): # <-- now it is a distributed dataset\n",
        "        data, target = data.to(device), target.to(device)\n",
        "        optimizer.zero_grad()\n",
        "        output = F.log_softmax(model(data), dim=1) \n",
        "        loss = F.nll_loss(output, target) \n",
        "        loss.backward()\n",
        "        optimizer.step()\n",
        "        #print(' \\tTrain. Loss: {:.6f}'.format(current_loss))    \n",
        "\n",
        "        # get the loss per batch and accumulate\n",
        "        train_loss += loss.item()\n",
        "        \n",
        "        \n",
        "    # calculate the average loss per epoch\n",
        "    train_loss = train_loss/len(train_loader)\n",
        "    #print('Epoch: {} \\tTrain. Loss: {:.6f}'.format(epoch, train_loss))    \n",
        "    return train_loss\n",
        "        \n",
        "    #    "
      ],
      "execution_count": 0,
      "outputs": []
    },
    {
      "cell_type": "code",
      "metadata": {
        "id": "w9wcYz8Av-jm",
        "colab_type": "code",
        "colab": {}
      },
      "source": [
        "def validate(args, model, device, loader):\n",
        "    model.eval()\n",
        "    test_loss = 0.\n",
        "    correct = 0.\n",
        "    \n",
        "    with torch.no_grad():\n",
        "        for data, target in loader:\n",
        "            data, target = data.to(device), target.to(device)\n",
        "            output = F.log_softmax(model(data), dim=1)\n",
        "            test_loss += F.nll_loss(output, target, reduction='sum').item() # sum up batch loss,  \n",
        "            pred = output.argmax(1, keepdim=True) # get the index of the max log-probability \n",
        "            correct += pred.eq(target.view_as(pred)).sum().item()\n",
        "\n",
        "    test_loss /= len(loader.dataset)\n",
        "    accuracy = 100. * correct/len(loader.dataset)\n",
        "    #print('Epoch: {} \\tValid. Loss: {:.6f}'.format(epoch, test_loss))    \n",
        "    return test_loss, accuracy\n",
        "        "
      ],
      "execution_count": 0,
      "outputs": []
    },
    {
      "cell_type": "code",
      "metadata": {
        "id": "_iaUbiS8v-jo",
        "colab_type": "code",
        "colab": {}
      },
      "source": [
        "class Arguments():\n",
        "    def __init__(self):\n",
        "        self.batch_size = 64\n",
        "        self.test_batch_size = 100\n",
        "        self.epochs = 5\n",
        "        self.lr = 0.001\n",
        "        self.momentum = 0.5\n",
        "        self.no_cuda = False\n",
        "        self.seed = 1\n",
        "        self.log_interval = 10\n",
        "        self.save_model = False\n",
        "\n",
        "args = Arguments()\n",
        "\n",
        "use_cuda = not args.no_cuda and torch.cuda.is_available()\n",
        "\n",
        "torch.manual_seed(args.seed)\n",
        "\n",
        "device = torch.device(\"cuda\" if use_cuda else \"cpu\")\n",
        "\n",
        "kwargs = {'num_workers': 1, 'pin_memory': True} if use_cuda else {}\n"
      ],
      "execution_count": 0,
      "outputs": []
    },
    {
      "cell_type": "markdown",
      "metadata": {
        "id": "rgV4YQuKv-jq",
        "colab_type": "text"
      },
      "source": [
        "**Start the training**"
      ]
    },
    {
      "cell_type": "code",
      "metadata": {
        "id": "EfNDP540v-jr",
        "colab_type": "code",
        "outputId": "d5baae88-b1f3-4964-b3f6-aa5caa6f4cfe",
        "colab": {
          "base_uri": "https://localhost:8080/",
          "height": 611
        }
      },
      "source": [
        "model = Model() # Do NOT use a CNN due to a PySyft bug\n",
        "model.apply(weights_init_normal)\n",
        "optimizer = optim.SGD(model.parameters(), lr=args.lr) # TODO momentum is not supported at the moment\n",
        "scheduler = optim.lr_scheduler.MultiStepLR(optimizer, [5, 10, 14], 0.1)\n",
        "\n",
        "valid_losses = []\n",
        "train_losses = []\n",
        "valid_accuracies = []\n",
        "valid_loss_min = np.Inf\n",
        "    \n",
        "for epoch in range(1, args.epochs + 1):\n",
        "    \n",
        "    # initialize variables to monitor training and validation loss\n",
        "    training_loss = 0.0\n",
        "    training_accuracy = 0.0\n",
        "\n",
        "    if scheduler is not None:\n",
        "        scheduler.step()\n",
        "        \n",
        "    training_loss =  train(args, model, device, train_loader, optimizer, epoch)\n",
        "    validation_loss, validation_accuracy = validate(args, model, device, valid_loader)\n",
        "\n",
        "    #if scheduler is not None:\n",
        "      #scheduler.step(validation_loss) # in case of ReduceOnPlateau \n",
        "\n",
        "    ###### print training/validation statistics \n",
        "    train_losses.append(training_loss)\n",
        "    valid_losses.append(validation_loss)\n",
        "    valid_accuracies.append(validation_accuracy)\n",
        "\n",
        "    #hour, minute, second = get_time()\n",
        "    print('Epoch: {} \\tTrain. Loss: {:.6f} \\tValid. Loss: {:.6f} \\t Accur.: {:.6f}'.format(\n",
        "              epoch,\n",
        "              training_loss,\n",
        "              validation_loss,\n",
        "              validation_accuracy ))\n",
        "\n",
        "    ###### TODO: save the model if validation loss has decreased\n",
        "    if validation_loss <= valid_loss_min:\n",
        "        print('Validation loss decreased by {:.6f}'.format(validation_loss - valid_loss_min))\n",
        "        #torch.save(model.state_dict(), save_path)\n",
        "        valid_loss_min = validation_loss\n",
        "    \n",
        "##### visualize\n",
        "plot_loss_acc(args.epochs, train_losses, valid_losses, valid_accuracies)"
      ],
      "execution_count": 0,
      "outputs": [
        {
          "output_type": "stream",
          "text": [
            "Epoch: 1 \tTrain. Loss: 2.079996 \tValid. Loss: 1.957426 \t Accur.: 31.742000\n",
            "Validation loss decreased by -inf\n",
            "Epoch: 2 \tTrain. Loss: 1.902061 \tValid. Loss: 1.853610 \t Accur.: 36.054000\n",
            "Validation loss decreased by -0.103816\n",
            "Epoch: 3 \tTrain. Loss: 1.823248 \tValid. Loss: 1.792838 \t Accur.: 38.180000\n",
            "Validation loss decreased by -0.060772\n",
            "Epoch: 4 \tTrain. Loss: 1.773315 \tValid. Loss: 1.751020 \t Accur.: 39.776000\n",
            "Validation loss decreased by -0.041819\n",
            "Epoch: 5 \tTrain. Loss: 1.749181 \tValid. Loss: 1.747156 \t Accur.: 39.870000\n",
            "Validation loss decreased by -0.003864\n"
          ],
          "name": "stdout"
        },
        {
          "output_type": "display_data",
          "data": {
            "image/png": "[encoded data removed]",
            "text/plain": [
              "<Figure size 1008x432 with 2 Axes>"
            ]
          },
          "metadata": {
            "tags": []
          }
        }
      ]
    },
    {
      "cell_type": "code",
      "metadata": {
        "id": "ms8CZwbsv-ju",
        "colab_type": "code",
        "outputId": "b43b8710-cce0-4852-8d18-4a424a638774",
        "colab": {
          "base_uri": "https://localhost:8080/",
          "height": 85
        }
      },
      "source": [
        "# As the server, send the model to the workers holding the data. The weights are not disclosed\n",
        "for param in model.parameters():\n",
        "    param.requires_grad = True\n",
        "    \n",
        "model.fix_precision().share(ada,bob, crypto_provider=crypto_provdr)"
      ],
      "execution_count": 0,
      "outputs": [
        {
          "output_type": "execute_result",
          "data": {
            "text/plain": [
              "Model(\n",
              "  (fc1): Linear(in_features=3072, out_features=512, bias=True)\n",
              "  (fc2): Linear(in_features=512, out_features=10, bias=True)\n",
              ")"
            ]
          },
          "metadata": {
            "tags": []
          },
          "execution_count": 12
        }
      ]
    },
    {
      "cell_type": "code",
      "metadata": {
        "id": "ZHfmHAGvv-jw",
        "colab_type": "code",
        "colab": {}
      },
      "source": [
        "# perform the encrypted evaluation. The model weights, the data inputs, the prediction and \n",
        "#  the target used for scoring are encrypted!\n",
        "\n",
        "def validate_encrypted(args, model, loader):\n",
        "    model.eval()\n",
        "    n_correct_private = 0\n",
        "    n_total = 0\n",
        "    \n",
        "    with torch.no_grad(): \n",
        "        for data, target in loader:\n",
        "            output = model(data)\n",
        "            prediction = output.argmax(dim=1)\n",
        "            n_correct_private += prediction.eq(target.view_as(prediction)).sum()\n",
        "            n_total += args.test_batch_size\n",
        "            \n",
        "            #decrypt from the server side the final score of the batch items, \n",
        "            # to verify if the predictions were on average good\n",
        "            n_correct = n_correct_private.copy().get().float_precision().long().item()\n",
        "            print('Valid. set: Accuracy: {}/{} ({:.0f}%)'.format(\n",
        "                n_correct, n_total,\n",
        "                100. * n_correct / n_total))"
      ],
      "execution_count": 0,
      "outputs": []
    },
    {
      "cell_type": "code",
      "metadata": {
        "id": "TdD0QRlfv-jy",
        "colab_type": "code",
        "outputId": "2484d7b6-6f72-48d3-cb5e-22719e2de57b",
        "colab": {
          "base_uri": "https://localhost:8080/",
          "height": 1000
        }
      },
      "source": [
        "validate_encrypted(args, model, private_valid_loader)"
      ],
      "execution_count": 0,
      "outputs": [
        {
          "output_type": "stream",
          "text": [
            "Valid. set: Accuracy: 30/100 (30%)\n",
            "Valid. set: Accuracy: 47/200 (24%)\n",
            "Valid. set: Accuracy: 80/300 (27%)\n",
            "Valid. set: Accuracy: 106/400 (26%)\n",
            "Valid. set: Accuracy: 137/500 (27%)\n",
            "Valid. set: Accuracy: 161/600 (27%)\n",
            "Valid. set: Accuracy: 179/700 (26%)\n",
            "Valid. set: Accuracy: 210/800 (26%)\n",
            "Valid. set: Accuracy: 239/900 (27%)\n",
            "Valid. set: Accuracy: 264/1000 (26%)\n",
            "Valid. set: Accuracy: 294/1100 (27%)\n",
            "Valid. set: Accuracy: 321/1200 (27%)\n",
            "Valid. set: Accuracy: 346/1300 (27%)\n",
            "Valid. set: Accuracy: 374/1400 (27%)\n",
            "Valid. set: Accuracy: 397/1500 (26%)\n",
            "Valid. set: Accuracy: 430/1600 (27%)\n",
            "Valid. set: Accuracy: 459/1700 (27%)\n",
            "Valid. set: Accuracy: 484/1800 (27%)\n",
            "Valid. set: Accuracy: 510/1900 (27%)\n",
            "Valid. set: Accuracy: 534/2000 (27%)\n",
            "Valid. set: Accuracy: 559/2100 (27%)\n",
            "Valid. set: Accuracy: 583/2200 (26%)\n",
            "Valid. set: Accuracy: 612/2300 (27%)\n",
            "Valid. set: Accuracy: 635/2400 (26%)\n",
            "Valid. set: Accuracy: 653/2500 (26%)\n",
            "Valid. set: Accuracy: 675/2600 (26%)\n",
            "Valid. set: Accuracy: 697/2700 (26%)\n",
            "Valid. set: Accuracy: 720/2800 (26%)\n",
            "Valid. set: Accuracy: 747/2900 (26%)\n",
            "Valid. set: Accuracy: 770/3000 (26%)\n",
            "Valid. set: Accuracy: 792/3100 (26%)\n",
            "Valid. set: Accuracy: 823/3200 (26%)\n",
            "Valid. set: Accuracy: 853/3300 (26%)\n",
            "Valid. set: Accuracy: 886/3400 (26%)\n",
            "Valid. set: Accuracy: 912/3500 (26%)\n",
            "Valid. set: Accuracy: 943/3600 (26%)\n",
            "Valid. set: Accuracy: 964/3700 (26%)\n",
            "Valid. set: Accuracy: 994/3800 (26%)\n",
            "Valid. set: Accuracy: 1012/3900 (26%)\n",
            "Valid. set: Accuracy: 1033/4000 (26%)\n",
            "Valid. set: Accuracy: 1056/4100 (26%)\n",
            "Valid. set: Accuracy: 1077/4200 (26%)\n",
            "Valid. set: Accuracy: 1115/4300 (26%)\n",
            "Valid. set: Accuracy: 1142/4400 (26%)\n",
            "Valid. set: Accuracy: 1168/4500 (26%)\n",
            "Valid. set: Accuracy: 1197/4600 (26%)\n",
            "Valid. set: Accuracy: 1220/4700 (26%)\n",
            "Valid. set: Accuracy: 1240/4800 (26%)\n",
            "Valid. set: Accuracy: 1262/4900 (26%)\n",
            "Valid. set: Accuracy: 1286/5000 (26%)\n",
            "Valid. set: Accuracy: 1311/5100 (26%)\n",
            "Valid. set: Accuracy: 1341/5200 (26%)\n",
            "Valid. set: Accuracy: 1367/5300 (26%)\n",
            "Valid. set: Accuracy: 1392/5400 (26%)\n",
            "Valid. set: Accuracy: 1414/5500 (26%)\n",
            "Valid. set: Accuracy: 1444/5600 (26%)\n",
            "Valid. set: Accuracy: 1463/5700 (26%)\n",
            "Valid. set: Accuracy: 1486/5800 (26%)\n",
            "Valid. set: Accuracy: 1512/5900 (26%)\n",
            "Valid. set: Accuracy: 1537/6000 (26%)\n",
            "Valid. set: Accuracy: 1567/6100 (26%)\n",
            "Valid. set: Accuracy: 1599/6200 (26%)\n",
            "Valid. set: Accuracy: 1629/6300 (26%)\n",
            "Valid. set: Accuracy: 1663/6400 (26%)\n",
            "Valid. set: Accuracy: 1686/6500 (26%)\n",
            "Valid. set: Accuracy: 1713/6600 (26%)\n",
            "Valid. set: Accuracy: 1736/6700 (26%)\n",
            "Valid. set: Accuracy: 1764/6800 (26%)\n",
            "Valid. set: Accuracy: 1790/6900 (26%)\n",
            "Valid. set: Accuracy: 1816/7000 (26%)\n",
            "Valid. set: Accuracy: 1843/7100 (26%)\n",
            "Valid. set: Accuracy: 1876/7200 (26%)\n",
            "Valid. set: Accuracy: 1903/7300 (26%)\n",
            "Valid. set: Accuracy: 1930/7400 (26%)\n",
            "Valid. set: Accuracy: 1957/7500 (26%)\n",
            "Valid. set: Accuracy: 1982/7600 (26%)\n",
            "Valid. set: Accuracy: 2010/7700 (26%)\n",
            "Valid. set: Accuracy: 2037/7800 (26%)\n",
            "Valid. set: Accuracy: 2068/7900 (26%)\n",
            "Valid. set: Accuracy: 2093/8000 (26%)\n",
            "Valid. set: Accuracy: 2118/8100 (26%)\n",
            "Valid. set: Accuracy: 2149/8200 (26%)\n",
            "Valid. set: Accuracy: 2181/8300 (26%)\n",
            "Valid. set: Accuracy: 2202/8400 (26%)\n",
            "Valid. set: Accuracy: 2227/8500 (26%)\n",
            "Valid. set: Accuracy: 2250/8600 (26%)\n",
            "Valid. set: Accuracy: 2280/8700 (26%)\n",
            "Valid. set: Accuracy: 2308/8800 (26%)\n",
            "Valid. set: Accuracy: 2340/8900 (26%)\n",
            "Valid. set: Accuracy: 2362/9000 (26%)\n",
            "Valid. set: Accuracy: 2384/9100 (26%)\n",
            "Valid. set: Accuracy: 2409/9200 (26%)\n",
            "Valid. set: Accuracy: 2435/9300 (26%)\n",
            "Valid. set: Accuracy: 2459/9400 (26%)\n",
            "Valid. set: Accuracy: 2487/9500 (26%)\n",
            "Valid. set: Accuracy: 2518/9600 (26%)\n",
            "Valid. set: Accuracy: 2546/9700 (26%)\n",
            "Valid. set: Accuracy: 2570/9800 (26%)\n",
            "Valid. set: Accuracy: 2592/9900 (26%)\n",
            "Valid. set: Accuracy: 2611/10000 (26%)\n",
            "Valid. set: Accuracy: 2638/10100 (26%)\n",
            "Valid. set: Accuracy: 2664/10200 (26%)\n",
            "Valid. set: Accuracy: 2691/10300 (26%)\n",
            "Valid. set: Accuracy: 2719/10400 (26%)\n",
            "Valid. set: Accuracy: 2746/10500 (26%)\n",
            "Valid. set: Accuracy: 2768/10600 (26%)\n",
            "Valid. set: Accuracy: 2791/10700 (26%)\n",
            "Valid. set: Accuracy: 2817/10800 (26%)\n",
            "Valid. set: Accuracy: 2842/10900 (26%)\n",
            "Valid. set: Accuracy: 2862/11000 (26%)\n",
            "Valid. set: Accuracy: 2891/11100 (26%)\n",
            "Valid. set: Accuracy: 2913/11200 (26%)\n",
            "Valid. set: Accuracy: 2931/11300 (26%)\n",
            "Valid. set: Accuracy: 2957/11400 (26%)\n",
            "Valid. set: Accuracy: 2976/11500 (26%)\n",
            "Valid. set: Accuracy: 2998/11600 (26%)\n",
            "Valid. set: Accuracy: 3030/11700 (26%)\n",
            "Valid. set: Accuracy: 3062/11800 (26%)\n",
            "Valid. set: Accuracy: 3086/11900 (26%)\n",
            "Valid. set: Accuracy: 3110/12000 (26%)\n",
            "Valid. set: Accuracy: 3128/12100 (26%)\n",
            "Valid. set: Accuracy: 3155/12200 (26%)\n",
            "Valid. set: Accuracy: 3183/12300 (26%)\n",
            "Valid. set: Accuracy: 3204/12400 (26%)\n",
            "Valid. set: Accuracy: 3234/12500 (26%)\n",
            "Valid. set: Accuracy: 3256/12600 (26%)\n",
            "Valid. set: Accuracy: 3290/12700 (26%)\n",
            "Valid. set: Accuracy: 3314/12800 (26%)\n",
            "Valid. set: Accuracy: 3340/12900 (26%)\n",
            "Valid. set: Accuracy: 3365/13000 (26%)\n",
            "Valid. set: Accuracy: 3389/13100 (26%)\n",
            "Valid. set: Accuracy: 3420/13200 (26%)\n",
            "Valid. set: Accuracy: 3445/13300 (26%)\n",
            "Valid. set: Accuracy: 3468/13400 (26%)\n",
            "Valid. set: Accuracy: 3495/13500 (26%)\n",
            "Valid. set: Accuracy: 3523/13600 (26%)\n",
            "Valid. set: Accuracy: 3546/13700 (26%)\n",
            "Valid. set: Accuracy: 3572/13800 (26%)\n",
            "Valid. set: Accuracy: 3598/13900 (26%)\n",
            "Valid. set: Accuracy: 3622/14000 (26%)\n",
            "Valid. set: Accuracy: 3644/14100 (26%)\n",
            "Valid. set: Accuracy: 3672/14200 (26%)\n",
            "Valid. set: Accuracy: 3698/14300 (26%)\n",
            "Valid. set: Accuracy: 3719/14400 (26%)\n",
            "Valid. set: Accuracy: 3744/14500 (26%)\n",
            "Valid. set: Accuracy: 3771/14600 (26%)\n",
            "Valid. set: Accuracy: 3798/14700 (26%)\n",
            "Valid. set: Accuracy: 3826/14800 (26%)\n",
            "Valid. set: Accuracy: 3857/14900 (26%)\n",
            "Valid. set: Accuracy: 3885/15000 (26%)\n",
            "Valid. set: Accuracy: 3913/15100 (26%)\n",
            "Valid. set: Accuracy: 3933/15200 (26%)\n",
            "Valid. set: Accuracy: 3960/15300 (26%)\n",
            "Valid. set: Accuracy: 3979/15400 (26%)\n",
            "Valid. set: Accuracy: 4005/15500 (26%)\n",
            "Valid. set: Accuracy: 4027/15600 (26%)\n",
            "Valid. set: Accuracy: 4057/15700 (26%)\n",
            "Valid. set: Accuracy: 4079/15800 (26%)\n",
            "Valid. set: Accuracy: 4105/15900 (26%)\n",
            "Valid. set: Accuracy: 4131/16000 (26%)\n",
            "Valid. set: Accuracy: 4160/16100 (26%)\n",
            "Valid. set: Accuracy: 4184/16200 (26%)\n",
            "Valid. set: Accuracy: 4212/16300 (26%)\n",
            "Valid. set: Accuracy: 4235/16400 (26%)\n",
            "Valid. set: Accuracy: 4258/16500 (26%)\n",
            "Valid. set: Accuracy: 4284/16600 (26%)\n",
            "Valid. set: Accuracy: 4314/16700 (26%)\n",
            "Valid. set: Accuracy: 4345/16800 (26%)\n",
            "Valid. set: Accuracy: 4375/16900 (26%)\n",
            "Valid. set: Accuracy: 4403/17000 (26%)\n",
            "Valid. set: Accuracy: 4426/17100 (26%)\n",
            "Valid. set: Accuracy: 4459/17200 (26%)\n",
            "Valid. set: Accuracy: 4480/17300 (26%)\n",
            "Valid. set: Accuracy: 4504/17400 (26%)\n",
            "Valid. set: Accuracy: 4529/17500 (26%)\n",
            "Valid. set: Accuracy: 4554/17600 (26%)\n",
            "Valid. set: Accuracy: 4581/17700 (26%)\n",
            "Valid. set: Accuracy: 4612/17800 (26%)\n",
            "Valid. set: Accuracy: 4629/17900 (26%)\n",
            "Valid. set: Accuracy: 4652/18000 (26%)\n",
            "Valid. set: Accuracy: 4679/18100 (26%)\n",
            "Valid. set: Accuracy: 4704/18200 (26%)\n",
            "Valid. set: Accuracy: 4731/18300 (26%)\n",
            "Valid. set: Accuracy: 4757/18400 (26%)\n",
            "Valid. set: Accuracy: 4784/18500 (26%)\n",
            "Valid. set: Accuracy: 4810/18600 (26%)\n",
            "Valid. set: Accuracy: 4838/18700 (26%)\n",
            "Valid. set: Accuracy: 4860/18800 (26%)\n",
            "Valid. set: Accuracy: 4887/18900 (26%)\n",
            "Valid. set: Accuracy: 4915/19000 (26%)\n",
            "Valid. set: Accuracy: 4948/19100 (26%)\n",
            "Valid. set: Accuracy: 4976/19200 (26%)\n",
            "Valid. set: Accuracy: 4999/19300 (26%)\n",
            "Valid. set: Accuracy: 5027/19400 (26%)\n",
            "Valid. set: Accuracy: 5049/19500 (26%)\n",
            "Valid. set: Accuracy: 5076/19600 (26%)\n",
            "Valid. set: Accuracy: 5098/19700 (26%)\n",
            "Valid. set: Accuracy: 5125/19800 (26%)\n",
            "Valid. set: Accuracy: 5147/19900 (26%)\n",
            "Valid. set: Accuracy: 5164/20000 (26%)\n",
            "Valid. set: Accuracy: 5190/20100 (26%)\n",
            "Valid. set: Accuracy: 5212/20200 (26%)\n",
            "Valid. set: Accuracy: 5242/20300 (26%)\n",
            "Valid. set: Accuracy: 5276/20400 (26%)\n",
            "Valid. set: Accuracy: 5307/20500 (26%)\n",
            "Valid. set: Accuracy: 5334/20600 (26%)\n",
            "Valid. set: Accuracy: 5365/20700 (26%)\n",
            "Valid. set: Accuracy: 5381/20800 (26%)\n",
            "Valid. set: Accuracy: 5410/20900 (26%)\n",
            "Valid. set: Accuracy: 5442/21000 (26%)\n",
            "Valid. set: Accuracy: 5458/21100 (26%)\n",
            "Valid. set: Accuracy: 5488/21200 (26%)\n",
            "Valid. set: Accuracy: 5513/21300 (26%)\n",
            "Valid. set: Accuracy: 5538/21400 (26%)\n",
            "Valid. set: Accuracy: 5562/21500 (26%)\n",
            "Valid. set: Accuracy: 5582/21600 (26%)\n",
            "Valid. set: Accuracy: 5611/21700 (26%)\n",
            "Valid. set: Accuracy: 5638/21800 (26%)\n",
            "Valid. set: Accuracy: 5667/21900 (26%)\n",
            "Valid. set: Accuracy: 5691/22000 (26%)\n",
            "Valid. set: Accuracy: 5715/22100 (26%)\n",
            "Valid. set: Accuracy: 5741/22200 (26%)\n",
            "Valid. set: Accuracy: 5769/22300 (26%)\n",
            "Valid. set: Accuracy: 5796/22400 (26%)\n",
            "Valid. set: Accuracy: 5813/22500 (26%)\n",
            "Valid. set: Accuracy: 5836/22600 (26%)\n",
            "Valid. set: Accuracy: 5865/22700 (26%)\n",
            "Valid. set: Accuracy: 5893/22800 (26%)\n",
            "Valid. set: Accuracy: 5918/22900 (26%)\n",
            "Valid. set: Accuracy: 5946/23000 (26%)\n",
            "Valid. set: Accuracy: 5975/23100 (26%)\n",
            "Valid. set: Accuracy: 5993/23200 (26%)\n",
            "Valid. set: Accuracy: 6012/23300 (26%)\n",
            "Valid. set: Accuracy: 6041/23400 (26%)\n",
            "Valid. set: Accuracy: 6070/23500 (26%)\n",
            "Valid. set: Accuracy: 6102/23600 (26%)\n",
            "Valid. set: Accuracy: 6128/23700 (26%)\n",
            "Valid. set: Accuracy: 6151/23800 (26%)\n",
            "Valid. set: Accuracy: 6183/23900 (26%)\n",
            "Valid. set: Accuracy: 6211/24000 (26%)\n",
            "Valid. set: Accuracy: 6235/24100 (26%)\n",
            "Valid. set: Accuracy: 6258/24200 (26%)\n",
            "Valid. set: Accuracy: 6284/24300 (26%)\n",
            "Valid. set: Accuracy: 6309/24400 (26%)\n",
            "Valid. set: Accuracy: 6338/24500 (26%)\n",
            "Valid. set: Accuracy: 6366/24600 (26%)\n",
            "Valid. set: Accuracy: 6392/24700 (26%)\n",
            "Valid. set: Accuracy: 6423/24800 (26%)\n",
            "Valid. set: Accuracy: 6445/24900 (26%)\n",
            "Valid. set: Accuracy: 6475/25000 (26%)\n",
            "Valid. set: Accuracy: 6502/25100 (26%)\n",
            "Valid. set: Accuracy: 6526/25200 (26%)\n",
            "Valid. set: Accuracy: 6549/25300 (26%)\n",
            "Valid. set: Accuracy: 6575/25400 (26%)\n",
            "Valid. set: Accuracy: 6604/25500 (26%)\n",
            "Valid. set: Accuracy: 6637/25600 (26%)\n",
            "Valid. set: Accuracy: 6658/25700 (26%)\n",
            "Valid. set: Accuracy: 6688/25800 (26%)\n",
            "Valid. set: Accuracy: 6715/25900 (26%)\n",
            "Valid. set: Accuracy: 6744/26000 (26%)\n",
            "Valid. set: Accuracy: 6773/26100 (26%)\n",
            "Valid. set: Accuracy: 6795/26200 (26%)\n",
            "Valid. set: Accuracy: 6818/26300 (26%)\n",
            "Valid. set: Accuracy: 6848/26400 (26%)\n",
            "Valid. set: Accuracy: 6870/26500 (26%)\n",
            "Valid. set: Accuracy: 6895/26600 (26%)\n",
            "Valid. set: Accuracy: 6922/26700 (26%)\n",
            "Valid. set: Accuracy: 6945/26800 (26%)\n",
            "Valid. set: Accuracy: 6973/26900 (26%)\n",
            "Valid. set: Accuracy: 6997/27000 (26%)\n",
            "Valid. set: Accuracy: 7023/27100 (26%)\n",
            "Valid. set: Accuracy: 7053/27200 (26%)\n",
            "Valid. set: Accuracy: 7083/27300 (26%)\n",
            "Valid. set: Accuracy: 7111/27400 (26%)\n",
            "Valid. set: Accuracy: 7141/27500 (26%)\n",
            "Valid. set: Accuracy: 7162/27600 (26%)\n",
            "Valid. set: Accuracy: 7187/27700 (26%)\n",
            "Valid. set: Accuracy: 7216/27800 (26%)\n",
            "Valid. set: Accuracy: 7245/27900 (26%)\n",
            "Valid. set: Accuracy: 7273/28000 (26%)\n",
            "Valid. set: Accuracy: 7300/28100 (26%)\n",
            "Valid. set: Accuracy: 7320/28200 (26%)\n",
            "Valid. set: Accuracy: 7342/28300 (26%)\n",
            "Valid. set: Accuracy: 7369/28400 (26%)\n",
            "Valid. set: Accuracy: 7394/28500 (26%)\n",
            "Valid. set: Accuracy: 7424/28600 (26%)\n",
            "Valid. set: Accuracy: 7456/28700 (26%)\n",
            "Valid. set: Accuracy: 7486/28800 (26%)\n",
            "Valid. set: Accuracy: 7510/28900 (26%)\n",
            "Valid. set: Accuracy: 7538/29000 (26%)\n"
          ],
          "name": "stdout"
        }
      ]
    },
    {
      "cell_type": "code",
      "metadata": {
        "id": "eOG9EzMQv-j0",
        "colab_type": "code",
        "colab": {}
      },
      "source": [
        "\n",
        "print(f'objects of ada= {len(ada._objects)}, bob= {len(bob._objects)}')\n",
        "\n",
        "#ada.clear_objects()\n",
        "#bob.clear_objects()\n",
        "#cyd.clear_objects()"
      ],
      "execution_count": 0,
      "outputs": []
    }
  ]
}