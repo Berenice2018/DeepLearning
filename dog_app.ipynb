{
  "nbformat": 4,
  "nbformat_minor": 0,
  "metadata": {
    "colab": {
      "name": "dog_app.ipynb",
      "version": "0.3.2",
      "provenance": [],
      "collapsed_sections": [
        "jTk_1aUd-U7I",
        "iwCCHJtf-U7M",
        "K_fgjPF_-U7O",
        "4Ehbw417-U7V",
        "xrlDLJcx-U7a",
        "t0TZJXIv-U7g",
        "g-cvVh2w-U7j",
        "BsM5LlSk-U8C",
        "1GIgX0HR-U8J",
        "ZIs6dN66-U8O",
        "tpdt7ecP-U8R",
        "IVEVI0YY-U8T",
        "ZBM5Zq4y-U8W"
      ],
      "include_colab_link": true
    },
    "kernelspec": {
      "name": "python3",
      "display_name": "Python 3"
    },
    "accelerator": "GPU"
  },
  "cells": [
    {
      "cell_type": "markdown",
      "metadata": {
        "id": "view-in-github",
        "colab_type": "text"
      },
      "source": [
        "<a href=\"https://colab.research.google.com/github/Berenice2018/DeepLearning/blob/master/dog_app.ipynb\" target=\"_parent\"><img src=\"https://colab.research.google.com/assets/colab-badge.svg\" alt=\"Open In Colab\"/></a>"
      ]
    },
    {
      "metadata": {
        "id": "B3veWORj-U7D",
        "colab_type": "text"
      },
      "cell_type": "markdown",
      "source": [
        "# Convolutional Neural Networks\n",
        "\n",
        "## Project: Write an Algorithm for a Dog Identification App \n",
        "\n",
        "---\n",
        "\n",
        "In this notebook, some template code has already been provided for you, and you will need to implement additional functionality to successfully complete this project. You will not need to modify the included code beyond what is requested. Sections that begin with **'(IMPLEMENTATION)'** in the header indicate that the following block of code will require additional functionality which you must provide. Instructions will be provided for each section, and the specifics of the implementation are marked in the code block with a 'TODO' statement. Please be sure to read the instructions carefully! \n",
        "\n",
        "> **Note**: Once you have completed all of the code implementations, you need to finalize your work by exporting the Jupyter Notebook as an HTML document. Before exporting the notebook to html, all of the code cells need to have been run so that reviewers can see the final implementation and output. You can then export the notebook by using the menu above and navigating to **File -> Download as -> HTML (.html)**. Include the finished document along with this notebook as your submission.\n",
        "\n",
        "In addition to implementing code, there will be questions that you must answer which relate to the project and your implementation. Each section where you will answer a question is preceded by a **'Question X'** header. Carefully read each question and provide thorough answers in the following text boxes that begin with **'Answer:'**. Your project submission will be evaluated based on your answers to each of the questions and the implementation you provide.\n",
        "\n",
        ">**Note:** Code and Markdown cells can be executed using the **Shift + Enter** keyboard shortcut.  Markdown cells can be edited by double-clicking the cell to enter edit mode.\n",
        "\n",
        "The rubric contains _optional_ \"Stand Out Suggestions\" for enhancing the project beyond the minimum requirements. If you decide to pursue the \"Stand Out Suggestions\", you should include the code in this Jupyter notebook.\n",
        "\n",
        "\n",
        "\n",
        "---\n",
        "### Why We're Here \n",
        "\n",
        "In this notebook, you will make the first steps towards developing an algorithm that could be used as part of a mobile or web app.  At the end of this project, your code will accept any user-supplied image as input.  If a dog is detected in the image, it will provide an estimate of the dog's breed.  If a human is detected, it will provide an estimate of the dog breed that is most resembling.  The image below displays potential sample output of your finished project (... but we expect that each student's algorithm will behave differently!). \n",
        "\n",
        "![Sample Dog Output](images/sample_dog_output.png)\n",
        "\n",
        "In this real-world setting, you will need to piece together a series of models to perform different tasks; for instance, the algorithm that detects humans in an image will be different from the CNN that infers dog breed.  There are many points of possible failure, and no perfect algorithm exists.  Your imperfect solution will nonetheless create a fun user experience!\n",
        "\n",
        "### The Road Ahead\n",
        "\n",
        "We break the notebook into separate steps.  Feel free to use the links below to navigate the notebook.\n",
        "\n",
        "* [Step 0](#step0): Import Datasets\n",
        "* [Step 1](#step1): Detect Humans\n",
        "* [Step 2](#step2): Detect Dogs\n",
        "* [Step 3](#step3): Create a CNN to Classify Dog Breeds (from Scratch)\n",
        "* [Step 4](#step4): Create a CNN to Classify Dog Breeds (using Transfer Learning)\n",
        "* [Step 5](#step5): Write your Algorithm\n",
        "* [Step 6](#step6): Test Your Algorithm\n",
        "\n",
        "---\n",
        "<a id='step0'></a>\n",
        "## Step 0: Import Datasets\n",
        "\n",
        "Make sure that you've downloaded the required human and dog datasets:\n",
        "* Download the [dog dataset](https://s3-us-west-1.amazonaws.com/udacity-aind/dog-project/dogImages.zip).  Unzip the folder and place it in this project's home directory, at the location `/dog_images`. \n",
        "\n",
        "* Download the [human dataset](https://s3-us-west-1.amazonaws.com/udacity-aind/dog-project/lfw.zip).  Unzip the folder and place it in the home directory, at location `/lfw`.  \n",
        "\n",
        "*Note: If you are using a Windows machine, you are encouraged to use [7zip](http://www.7-zip.org/) to extract the folder.*\n",
        "\n",
        "In the code cell below, we save the file paths for both the human (LFW) dataset and dog dataset in the numpy arrays `human_files` and `dog_files`."
      ]
    },
    {
      "metadata": {
        "id": "H2YkbQgL_Gcd",
        "colab_type": "code",
        "outputId": "a6b2c4ad-718f-49b6-ca8d-08f4480a8ae5",
        "colab": {
          "base_uri": "https://localhost:8080/",
          "height": 139
        }
      },
      "cell_type": "code",
      "source": [
        "# save the model on Google Drive, link Google drive to this notebook\n",
        "from google.colab import drive\n",
        "drive.mount('/content/gdrive')\n",
        "\n",
        "# After executing this cell above, Drive\n",
        "# files will be present in \"/content/drive/My Drive\".\n",
        "!ls \"/content/gdrive/My Drive/ColabUdacity/dog-breed-classifier/\""
      ],
      "execution_count": 1,
      "outputs": [
        {
          "output_type": "stream",
          "text": [
            "Go to this URL in a browser: https://accounts.google.com/o/oauth2/auth?client_id=947318989803-6bn6qk8qdgf4n4g3pfee6491hc0brc4i.apps.googleusercontent.com&redirect_uri=urn%3Aietf%3Awg%3Aoauth%3A2.0%3Aoob&scope=email%20https%3A%2F%2Fwww.googleapis.com%2Fauth%2Fdocs.test%20https%3A%2F%2Fwww.googleapis.com%2Fauth%2Fdrive%20https%3A%2F%2Fwww.googleapis.com%2Fauth%2Fdrive.photos.readonly%20https%3A%2F%2Fwww.googleapis.com%2Fauth%2Fpeopleapi.readonly&response_type=code\n",
            "\n",
            "Enter your authorization code:\n",
            "··········\n",
            "Mounted at /content/gdrive\n",
            "dog_app.ipynb  dogImages  haarcascades\timages\tlfw\n"
          ],
          "name": "stdout"
        }
      ]
    },
    {
      "metadata": {
        "id": "CFIxPfg9-U7E",
        "colab_type": "code",
        "colab": {}
      },
      "cell_type": "code",
      "source": [
        "import numpy as np\n",
        "from glob import glob\n",
        "from PIL import Image\n",
        "import torchvision.transforms as transforms\n",
        "\n",
        "import torch\n",
        "import torchvision.models as models\n",
        "\n",
        "# check if CUDA is available\n",
        "use_cuda = torch.cuda.is_available()\n",
        "\n",
        "data_dir = \"/content/gdrive/My Drive/ColabUdacity/dog-breed-classifier/\"\n"
      ],
      "execution_count": 0,
      "outputs": []
    },
    {
      "metadata": {
        "id": "vTffRnZUsIWM",
        "colab_type": "code",
        "outputId": "faf13bdc-f19d-4281-e62d-2022c3e03ccc",
        "colab": {
          "base_uri": "https://localhost:8080/",
          "height": 34
        }
      },
      "cell_type": "code",
      "source": [
        "# load filenames for human and dog images\n",
        "human_files = np.array(glob(data_dir + \"lfw/*/*\"))\n",
        "print('There are %d total human images.' % len(human_files))\n",
        "\n",
        "dog_files = np.array(glob(data_dir + \"dogImages/*/*/*\"))\n",
        "print('There are %d total dog images.' % len(dog_files))"
      ],
      "execution_count": 0,
      "outputs": [
        {
          "output_type": "stream",
          "text": [
            "There are 8351 total dog images.\n"
          ],
          "name": "stdout"
        }
      ]
    },
    {
      "metadata": {
        "id": "jTk_1aUd-U7I",
        "colab_type": "text"
      },
      "cell_type": "markdown",
      "source": [
        "<a id='step1'></a>\n",
        "## Step 1: Detect Humans\n",
        "\n",
        "In this section, we use OpenCV's implementation of [Haar feature-based cascade classifiers](http://docs.opencv.org/trunk/d7/d8b/tutorial_py_face_detection.html) to detect human faces in images.  \n",
        "\n",
        "OpenCV provides many pre-trained face detectors, stored as XML files on [github](https://github.com/opencv/opencv/tree/master/data/haarcascades).  We have downloaded one of these detectors and stored it in the `haarcascades` directory.  In the next code cell, we demonstrate how to use this detector to find human faces in a sample image."
      ]
    },
    {
      "metadata": {
        "id": "yNsE7S6k-U7J",
        "colab_type": "code",
        "outputId": "8e9427ac-bef8-4593-89fd-c6a1fbb07b36",
        "colab": {}
      },
      "cell_type": "code",
      "source": [
        "import cv2                \n",
        "import matplotlib.pyplot as plt                        \n",
        "%matplotlib inline                               \n",
        "\n",
        "# extract pre-trained face detector\n",
        "face_cascade = cv2.CascadeClassifier('haarcascades/haarcascade_frontalface_alt.xml')\n",
        "\n",
        "# load color (BGR) image\n",
        "img = cv2.imread(human_files[0])\n",
        "# convert BGR image to grayscale\n",
        "gray = cv2.cvtColor(img, cv2.COLOR_BGR2GRAY)\n",
        "\n",
        "# find faces in image\n",
        "faces = face_cascade.detectMultiScale(gray)\n",
        "\n",
        "# print number of faces detected in the image\n",
        "print('Number of faces detected:', len(faces))\n",
        "\n",
        "# get bounding box for each detected face\n",
        "for (x,y,w,h) in faces:\n",
        "    # add bounding box to color image\n",
        "    cv2.rectangle(img,(x,y),(x+w,y+h),(255,0,0),2)\n",
        "    \n",
        "# convert BGR image to RGB for plotting\n",
        "cv_rgb = cv2.cvtColor(img, cv2.COLOR_BGR2RGB)\n",
        "\n",
        "# display the image, along with bounding box\n",
        "plt.imshow(cv_rgb)\n",
        "plt.show()"
      ],
      "execution_count": 0,
      "outputs": [
        {
          "output_type": "stream",
          "text": [
            "Number of faces detected: 1\n"
          ],
          "name": "stdout"
        },
        {
          "output_type": "display_data",
          "data": {
            "image/png": "[encoded data removed]",
            "text/plain": [
              "<matplotlib.figure.Figure at 0x7f2beb2a6438>"
            ]
          },
          "metadata": {
            "tags": [],
            "needs_background": "light"
          }
        }
      ]
    },
    {
      "metadata": {
        "id": "iwCCHJtf-U7M",
        "colab_type": "text"
      },
      "cell_type": "markdown",
      "source": [
        "Before using any of the face detectors, it is standard procedure to convert the images to grayscale.  The `detectMultiScale` function executes the classifier stored in `face_cascade` and takes the grayscale image as a parameter.  \n",
        "\n",
        "In the above code, `faces` is a numpy array of detected faces, where each row corresponds to a detected face.  Each detected face is a 1D array with four entries that specifies the bounding box of the detected face.  The first two entries in the array (extracted in the above code as `x` and `y`) specify the horizontal and vertical positions of the top left corner of the bounding box.  The last two entries in the array (extracted here as `w` and `h`) specify the width and height of the box.\n",
        "\n",
        "### Write a Human Face Detector\n",
        "\n",
        "We can use this procedure to write a function that returns `True` if a human face is detected in an image and `False` otherwise.  This function, aptly named `face_detector`, takes a string-valued file path to an image as input and appears in the code block below."
      ]
    },
    {
      "metadata": {
        "id": "2HolbrqY-U7M",
        "colab_type": "code",
        "colab": {}
      },
      "cell_type": "code",
      "source": [
        "# returns \"True\" if face is detected in image stored at img_path\n",
        "def face_detector(img_path):\n",
        "    img = cv2.imread(img_path)\n",
        "    gray = cv2.cvtColor(img, cv2.COLOR_BGR2GRAY)\n",
        "    faces = face_cascade.detectMultiScale(gray)\n",
        "    return len(faces) > 0"
      ],
      "execution_count": 0,
      "outputs": []
    },
    {
      "metadata": {
        "id": "K_fgjPF_-U7O",
        "colab_type": "text"
      },
      "cell_type": "markdown",
      "source": [
        "### (IMPLEMENTATION) Assess the Human Face Detector\n",
        "\n",
        "__Question 1:__ Use the code cell below to test the performance of the `face_detector` function.  \n",
        "- What percentage of the first 100 images in `human_files` have a detected human face?  \n",
        "- What percentage of the first 100 images in `dog_files` have a detected human face? \n",
        "\n",
        "Ideally, we would like 100% of human images with a detected face and 0% of dog images with a detected face.  You will see that our algorithm falls short of this goal, but still gives acceptable performance.  We extract the file paths for the first 100 images from each of the datasets and store them in the numpy arrays `human_files_short` and `dog_files_short`."
      ]
    },
    {
      "metadata": {
        "id": "S6TD2mxX-U7O",
        "colab_type": "text"
      },
      "cell_type": "markdown",
      "source": [
        "__Answer:__ \n",
        "(You can print out your results and/or write your percentages in this cell)"
      ]
    },
    {
      "metadata": {
        "id": "WFX2hB_t-U7P",
        "colab_type": "code",
        "colab": {}
      },
      "cell_type": "code",
      "source": [
        "from tqdm import tqdm\n",
        "\n",
        "human_files_short = human_files[:100]\n",
        "dog_files_short = dog_files[:100]\n",
        "#-#-# Do NOT modify the code above this line. #-#-#"
      ],
      "execution_count": 0,
      "outputs": []
    },
    {
      "metadata": {
        "id": "tCOcJYU3-U7R",
        "colab_type": "code",
        "outputId": "a1067766-e3ff-4ec0-f666-6698f4d7b266",
        "colab": {}
      },
      "cell_type": "code",
      "source": [
        "\n",
        "\n",
        "\n",
        "## TODO: Test the performance of the face_detector algorithm \n",
        "## on the images in human_files_short and dog_files_short.\n",
        "\n",
        "counter = 0\n",
        "for i, img_path in enumerate(human_files_short):\n",
        "    if face_detector(img_path):\n",
        "        humans_test += 1\n",
        "\n",
        "print('Number of faces detected, in human_files:', counter)\n",
        "\n",
        "counter = 0\n",
        "for i, img_path in enumerate(dog_files_short):\n",
        "    if face_detector(img_path):\n",
        "        dogs_test += 1\n",
        "print('Number of faces detected in dog_files: ', counter)"
      ],
      "execution_count": 0,
      "outputs": [
        {
          "output_type": "stream",
          "text": [
            "Number of faces detected, in human_files: 0\n",
            "Number of faces detected in dog_files:  0\n"
          ],
          "name": "stdout"
        }
      ]
    },
    {
      "metadata": {
        "id": "QU4i760F-U7T",
        "colab_type": "text"
      },
      "cell_type": "markdown",
      "source": [
        "We suggest the face detector from OpenCV as a potential way to detect human images in your algorithm, but you are free to explore other approaches, especially approaches that make use of deep learning :).  Please use the code cell below to design and test your own face detection algorithm.  If you decide to pursue this _optional_ task, report performance on `human_files_short` and `dog_files_short`."
      ]
    },
    {
      "metadata": {
        "id": "iR6r7_9H-U7U",
        "colab_type": "code",
        "colab": {}
      },
      "cell_type": "code",
      "source": [
        "### (Optional) \n",
        "### TODO: Test performance of anotherface detection algorithm.\n",
        "### Feel free to use as many code cells as needed."
      ],
      "execution_count": 0,
      "outputs": []
    },
    {
      "metadata": {
        "id": "4Ehbw417-U7V",
        "colab_type": "text"
      },
      "cell_type": "markdown",
      "source": [
        "---\n",
        "<a id='step2'></a>\n",
        "## Step 2: Detect Dogs\n",
        "\n",
        "In this section, we use a [pre-trained model](http://pytorch.org/docs/master/torchvision/models.html) to detect dogs in images.  \n",
        "\n",
        "### Obtain Pre-trained VGG-16 Model\n",
        "\n",
        "The code cell below downloads the VGG-16 model, along with weights that have been trained on [ImageNet](http://www.image-net.org/), a very large, very popular dataset used for image classification and other vision tasks.  ImageNet contains over 10 million URLs, each linking to an image containing an object from one of [1000 categories](https://gist.github.com/yrevar/942d3a0ac09ec9e5eb3a).  "
      ]
    },
    {
      "metadata": {
        "id": "OutcH5X7-U7W",
        "colab_type": "code",
        "outputId": "0c6f0788-1f81-47c3-d756-e10bbfe5bd5c",
        "colab": {
          "base_uri": "https://localhost:8080/",
          "height": 51
        }
      },
      "cell_type": "code",
      "source": [
        "\n",
        "\n",
        "# define VGG16 model\n",
        "VGG16 = models.vgg16(pretrained=True)\n",
        "\n",
        "# move model to GPU if CUDA is available\n",
        "if use_cuda:\n",
        "    VGG16 = VGG16.cuda()"
      ],
      "execution_count": 4,
      "outputs": [
        {
          "output_type": "stream",
          "text": [
            "Downloading: \"https://download.pytorch.org/models/vgg16-397923af.pth\" to /root/.torch/models/vgg16-397923af.pth\n",
            "553433881it [00:06, 91140548.88it/s]\n"
          ],
          "name": "stderr"
        }
      ]
    },
    {
      "metadata": {
        "id": "FzsTVdZz-U7Y",
        "colab_type": "text"
      },
      "cell_type": "markdown",
      "source": [
        "Given an image, this pre-trained VGG-16 model returns a prediction (derived from the 1000 possible categories in ImageNet) for the object that is contained in the image."
      ]
    },
    {
      "metadata": {
        "id": "xrlDLJcx-U7a",
        "colab_type": "text"
      },
      "cell_type": "markdown",
      "source": [
        "### (IMPLEMENTATION) Making Predictions with a Pre-trained Model\n",
        "\n",
        "In the next code cell, you will write a function that accepts a path to an image (such as `'dogImages/train/001.Affenpinscher/Affenpinscher_00001.jpg'`) as input and returns the index corresponding to the ImageNet class that is predicted by the pre-trained VGG-16 model.  The output should always be an integer between 0 and 999, inclusive.\n",
        "\n",
        "Before writing the function, make sure that you take the time to learn  how to appropriately pre-process tensors for pre-trained models in the [PyTorch documentation](http://pytorch.org/docs/stable/torchvision/models.html)."
      ]
    },
    {
      "metadata": {
        "id": "_0ECEF74-U7c",
        "colab_type": "code",
        "colab": {}
      },
      "cell_type": "code",
      "source": [
        "#test = 'images/American_water_spaniel_00648.jpg'\n",
        "\n",
        "# My helper function for pre-processing a PIL image\n",
        "def prepocess_img(img_path):\n",
        "    ## Load and pre-process an image from the given img_path\n",
        "    pil_image = Image.open(img_path)\n",
        "                     \n",
        "    my_normalize = transforms.Normalize(mean=[0.485, 0.456, 0.406],\n",
        "                                 std=[0.229, 0.224, 0.225])\n",
        "    my_transforms = transforms.Compose([\n",
        "                       transforms.Resize(256),\n",
        "                       transforms.CenterCrop(224),\n",
        "                       transforms.ToTensor(),\n",
        "                       my_normalize])\n",
        "    \n",
        "    image = my_transforms(pil_image)\n",
        "    image = image.unsqueeze_(0)\n",
        "    #print('img was pre-processed. ', image.shape)\n",
        "    \n",
        "    return image"
      ],
      "execution_count": 0,
      "outputs": []
    },
    {
      "metadata": {
        "id": "vWzRr9q6-U7e",
        "colab_type": "code",
        "colab": {}
      },
      "cell_type": "code",
      "source": [
        "\n",
        "def VGG16_predict(img_path):\n",
        "    '''\n",
        "    Use pre-trained VGG-16 model to obtain index corresponding to \n",
        "    predicted ImageNet class for image at specified path\n",
        "    \n",
        "    Args:\n",
        "        img_path: path to an image\n",
        "        \n",
        "    Returns:\n",
        "        Index corresponding to VGG-16 model's prediction\n",
        "    '''\n",
        "    \n",
        "    ## TODO: Complete the function.\n",
        "    img_as_tensor = prepocess_img(img_path)\n",
        "    if use_cuda:\n",
        "        img_as_tensor.cuda()\n",
        "        \n",
        "    output = VGG16(img_as_tensor)\n",
        "    #print('output:', output.shape)\n",
        "    \n",
        "    ## Return the *index* of the predicted class for that image\n",
        "    probabilities = torch.exp(output)\n",
        "    _, top = probabilities.topk(1, dim=1)\n",
        "    #print('top class: ', top)\n",
        "    return top # predicted class index\n",
        "\n",
        "#test = 'images/American_water_spaniel_00648.jpg'\n",
        "#VGG16_predict(test)"
      ],
      "execution_count": 0,
      "outputs": []
    },
    {
      "metadata": {
        "id": "t0TZJXIv-U7g",
        "colab_type": "text"
      },
      "cell_type": "markdown",
      "source": [
        "### (IMPLEMENTATION) Write a Dog Detector\n",
        "\n",
        "While looking at the [dictionary](https://gist.github.com/yrevar/942d3a0ac09ec9e5eb3a), you will notice that the categories corresponding to dogs appear in an uninterrupted sequence and correspond to dictionary keys 151-268, inclusive, to include all categories from `'Chihuahua'` to `'Mexican hairless'`.  Thus, in order to check to see if an image is predicted to contain a dog by the pre-trained VGG-16 model, we need only check if the pre-trained model predicts an index between 151 and 268 (inclusive).\n",
        "\n",
        "Use these ideas to complete the `dog_detector` function below, which returns `True` if a dog is detected in an image (and `False` if not)."
      ]
    },
    {
      "metadata": {
        "id": "yU1rwLCo-U7h",
        "colab_type": "code",
        "colab": {}
      },
      "cell_type": "code",
      "source": [
        "### returns \"True\" if a dog is detected in the image stored at img_path\n",
        "def dog_detector(img_path):\n",
        "    ## TODO: Complete the function.\n",
        "    index = VGG16_predict(img_path)\n",
        "    #print('index: ', index[0])\n",
        "    return (index > 150) and (index < 269)"
      ],
      "execution_count": 0,
      "outputs": []
    },
    {
      "metadata": {
        "id": "g-cvVh2w-U7j",
        "colab_type": "text"
      },
      "cell_type": "markdown",
      "source": [
        "### (IMPLEMENTATION) Assess the Dog Detector\n",
        "\n",
        "__Question 2:__ Use the code cell below to test the performance of your `dog_detector` function.  \n",
        "- What percentage of the images in `human_files_short` have a detected dog?  \n",
        "- What percentage of the images in `dog_files_short` have a detected dog?"
      ]
    },
    {
      "metadata": {
        "id": "1mGHDLU9-U7j",
        "colab_type": "text"
      },
      "cell_type": "markdown",
      "source": [
        "__Answer:__ \n",
        "\n",
        "With VGG16 as pre-trained model, \n",
        "0% of the files in human_files_short were classified as dogs. \n",
        "100% of the files in dog_files_short were classified as dogs. \n"
      ]
    },
    {
      "metadata": {
        "id": "pFEPF0Zs-U7k",
        "colab_type": "code",
        "outputId": "2399c8af-b754-4f5b-ba3b-d695ec2505c9",
        "colab": {}
      },
      "cell_type": "code",
      "source": [
        "### TODO: Test the performance of the dog_detector function\n",
        "### on the images in human_files_short and dog_files_short.\n",
        "\n",
        "def test_performance(detector, *args):\n",
        "    print('test_performance with {} started'.format(detector))\n",
        "    counter = 0\n",
        "    for img_path in human_files_short:\n",
        "        if detector(img_path):\n",
        "            counter += 1\n",
        "\n",
        "    print('{}/{} of detected dogs, in human_files:'.format(counter, len(human_files_short)))\n",
        "\n",
        "    counter = 0\n",
        "    for img_path in dog_files_short:\n",
        "        if detector(img_path):\n",
        "            counter += 1\n",
        "    print('{}/{} of detected dogs, in dog_files: '.format(counter, len(human_files_short)))\n",
        "\n",
        "    \n",
        "test_performance(dog_detector)\n"
      ],
      "execution_count": 0,
      "outputs": [
        {
          "output_type": "stream",
          "text": [
            "test_performance with <function dog_detector at 0x7f2b91409f28> started\n",
            "0/100 of detected dogs, in human_files:\n",
            "100/100 of detected dogs, in dog_files: \n"
          ],
          "name": "stdout"
        }
      ]
    },
    {
      "metadata": {
        "id": "W6ZMjUqt-U7o",
        "colab_type": "text"
      },
      "cell_type": "markdown",
      "source": [
        "We suggest VGG-16 as a potential network to detect dog images in your algorithm, but you are free to explore other pre-trained networks (such as [Inception-v3](http://pytorch.org/docs/master/torchvision/models.html#inception-v3), [ResNet-50](http://pytorch.org/docs/master/torchvision/models.html#id3), etc).  Please use the code cell below to test other pre-trained PyTorch models.  If you decide to pursue this _optional_ task, report performance on `human_files_short` and `dog_files_short`."
      ]
    },
    {
      "metadata": {
        "id": "SQl-0nEk-U7o",
        "colab_type": "code",
        "outputId": "e35f54d9-227d-4353-9f85-f545b1587604",
        "colab": {}
      },
      "cell_type": "code",
      "source": [
        "### (Optional) \n",
        "### TODO: Report the performance of another pre-trained network.\n",
        "### Feel free to use as many code cells as needed.\n",
        "\n",
        "resnet = models.resnet50(pretrained=True)\n",
        "if use_cuda:\n",
        "    resnet.cuda()"
      ],
      "execution_count": 0,
      "outputs": [
        {
          "output_type": "stream",
          "text": [
            "Downloading: \"https://download.pytorch.org/models/resnet50-19c8e357.pth\" to /root/.torch/models/resnet50-19c8e357.pth\n",
            "100%|██████████| 102502400/102502400 [00:04<00:00, 20941711.96it/s]\n"
          ],
          "name": "stderr"
        }
      ]
    },
    {
      "metadata": {
        "id": "dyu_n2IJ-U7s",
        "colab_type": "text"
      },
      "cell_type": "markdown",
      "source": [
        "With ResNet50 as pre-trained model, 0% of the files in human_files_short were classified as dogs. 0% of the files in dog_files_short were classified as dogs."
      ]
    },
    {
      "metadata": {
        "id": "Zwg3_AOe-U7s",
        "colab_type": "code",
        "outputId": "09f0e5b3-2efa-4d8b-8619-1871fefdfe20",
        "colab": {}
      },
      "cell_type": "code",
      "source": [
        "\n",
        "def resnet_predict(img_path):\n",
        "    imgtensor = prepocess_img(img_path)\n",
        "    if use_cuda:\n",
        "        imgtensor.cuda()\n",
        "    \n",
        "    output = resnet(imgtensor)\n",
        "    probs = torch.exp(output)\n",
        "    _, top_classes = probs.topk(1, dim=1)\n",
        "    return top_classes\n",
        "\n",
        "\n",
        "def resnet_dog_detector(path):\n",
        "    index = resnet_predict(path)\n",
        "    print(index)\n",
        "    return (index > 150) and (index < 269)\n",
        "\n",
        "# test the performance with ResNet18\n",
        "test_performance(resnet_dog_detector)"
      ],
      "execution_count": 0,
      "outputs": [
        {
          "output_type": "stream",
          "text": [
            "test_performance with <function resnet_dog_detector at 0x7f2b91409bf8> started\n",
            "tensor([[ 463]])\n",
            "tensor([[ 600]])\n",
            "tensor([[ 463]])\n",
            "tensor([[ 463]])\n",
            "tensor([[ 731]])\n",
            "tensor([[ 731]])\n",
            "tensor([[ 600]])\n",
            "tensor([[ 600]])\n",
            "tensor([[ 600]])\n",
            "tensor([[ 731]])\n",
            "tensor([[ 463]])\n",
            "tensor([[ 463]])\n",
            "tensor([[ 600]])\n",
            "tensor([[ 731]])\n",
            "tensor([[ 463]])\n",
            "tensor([[ 600]])\n",
            "tensor([[ 463]])\n",
            "tensor([[ 463]])\n",
            "tensor([[ 463]])\n",
            "tensor([[ 463]])\n",
            "tensor([[ 463]])\n",
            "tensor([[ 463]])\n",
            "tensor([[ 463]])\n",
            "tensor([[ 600]])\n",
            "tensor([[ 463]])\n",
            "tensor([[ 463]])\n",
            "tensor([[ 463]])\n",
            "tensor([[ 600]])\n",
            "tensor([[ 731]])\n",
            "tensor([[ 731]])\n",
            "tensor([[ 731]])\n",
            "tensor([[ 731]])\n",
            "tensor([[ 463]])\n",
            "tensor([[ 463]])\n",
            "tensor([[ 463]])\n",
            "tensor([[ 600]])\n",
            "tensor([[ 463]])\n",
            "tensor([[ 463]])\n",
            "tensor([[ 463]])\n",
            "tensor([[ 731]])\n",
            "tensor([[ 463]])\n",
            "tensor([[ 463]])\n",
            "tensor([[ 463]])\n",
            "tensor([[ 463]])\n",
            "tensor([[ 463]])\n",
            "tensor([[ 463]])\n",
            "tensor([[ 463]])\n",
            "tensor([[ 463]])\n",
            "tensor([[ 463]])\n",
            "tensor([[ 600]])\n",
            "tensor([[ 600]])\n",
            "tensor([[ 463]])\n",
            "tensor([[ 463]])\n",
            "tensor([[ 463]])\n",
            "tensor([[ 463]])\n",
            "tensor([[ 463]])\n",
            "tensor([[ 463]])\n",
            "tensor([[ 463]])\n",
            "tensor([[ 463]])\n",
            "tensor([[ 600]])\n",
            "tensor([[ 731]])\n",
            "tensor([[ 463]])\n",
            "tensor([[ 731]])\n",
            "tensor([[ 731]])\n",
            "tensor([[ 600]])\n",
            "tensor([[ 731]])\n",
            "tensor([[ 600]])\n",
            "tensor([[ 731]])\n",
            "tensor([[ 600]])\n",
            "tensor([[ 600]])\n",
            "tensor([[ 463]])\n",
            "tensor([[ 463]])\n",
            "tensor([[ 463]])\n",
            "tensor([[ 731]])\n",
            "tensor([[ 463]])\n",
            "tensor([[ 600]])\n",
            "tensor([[ 600]])\n",
            "tensor([[ 731]])\n",
            "tensor([[ 463]])\n",
            "tensor([[ 731]])\n",
            "tensor([[ 463]])\n",
            "tensor([[ 600]])\n",
            "tensor([[ 463]])\n",
            "tensor([[ 731]])\n",
            "tensor([[ 600]])\n",
            "tensor([[ 731]])\n",
            "tensor([[ 600]])\n",
            "tensor([[ 600]])\n",
            "tensor([[ 463]])\n",
            "tensor([[ 731]])\n",
            "tensor([[ 463]])\n",
            "tensor([[ 600]])\n",
            "tensor([[ 600]])\n",
            "tensor([[ 463]])\n",
            "tensor([[ 463]])\n",
            "tensor([[ 731]])\n",
            "tensor([[ 600]])\n",
            "tensor([[ 731]])\n",
            "tensor([[ 463]])\n",
            "tensor([[ 463]])\n",
            "0/100 of detected dogs, in human_files:\n",
            "tensor([[ 463]])\n",
            "tensor([[ 463]])\n",
            "tensor([[ 463]])\n",
            "tensor([[ 852]])\n",
            "tensor([[ 463]])\n",
            "tensor([[ 463]])\n",
            "tensor([[ 463]])\n",
            "tensor([[ 463]])\n",
            "tensor([[ 463]])\n",
            "tensor([[ 600]])\n",
            "tensor([[ 463]])\n",
            "tensor([[ 463]])\n",
            "tensor([[ 463]])\n",
            "tensor([[ 852]])\n",
            "tensor([[ 463]])\n",
            "tensor([[ 463]])\n",
            "tensor([[ 463]])\n",
            "tensor([[ 463]])\n",
            "tensor([[ 463]])\n",
            "tensor([[ 463]])\n",
            "tensor([[ 600]])\n",
            "tensor([[ 600]])\n",
            "tensor([[ 463]])\n",
            "tensor([[ 463]])\n",
            "tensor([[ 463]])\n",
            "tensor([[ 463]])\n",
            "tensor([[ 463]])\n",
            "tensor([[ 463]])\n",
            "tensor([[ 852]])\n",
            "tensor([[ 463]])\n",
            "tensor([[ 852]])\n",
            "tensor([[ 600]])\n",
            "tensor([[ 463]])\n",
            "tensor([[ 463]])\n",
            "tensor([[ 852]])\n",
            "tensor([[ 463]])\n",
            "tensor([[ 463]])\n",
            "tensor([[ 600]])\n",
            "tensor([[ 600]])\n",
            "tensor([[ 463]])\n",
            "tensor([[ 600]])\n",
            "tensor([[ 463]])\n",
            "tensor([[ 463]])\n",
            "tensor([[ 463]])\n",
            "tensor([[ 463]])\n",
            "tensor([[ 463]])\n",
            "tensor([[ 852]])\n",
            "tensor([[ 463]])\n",
            "tensor([[ 600]])\n",
            "tensor([[ 463]])\n",
            "tensor([[ 463]])\n",
            "tensor([[ 463]])\n",
            "tensor([[ 463]])\n",
            "tensor([[ 463]])\n",
            "tensor([[ 463]])\n",
            "tensor([[ 600]])\n",
            "tensor([[ 463]])\n",
            "tensor([[ 463]])\n",
            "tensor([[ 600]])\n",
            "tensor([[ 600]])\n",
            "tensor([[ 463]])\n",
            "tensor([[ 600]])\n",
            "tensor([[ 600]])\n",
            "tensor([[ 600]])\n",
            "tensor([[ 600]])\n",
            "tensor([[ 463]])\n",
            "tensor([[ 600]])\n",
            "tensor([[ 600]])\n",
            "tensor([[ 600]])\n",
            "tensor([[ 852]])\n",
            "tensor([[ 600]])\n",
            "tensor([[ 600]])\n",
            "tensor([[ 731]])\n",
            "tensor([[ 463]])\n",
            "tensor([[ 600]])\n",
            "tensor([[ 463]])\n",
            "tensor([[ 852]])\n",
            "tensor([[ 600]])\n",
            "tensor([[ 852]])\n",
            "tensor([[ 463]])\n",
            "tensor([[ 463]])\n",
            "tensor([[ 600]])\n",
            "tensor([[ 600]])\n",
            "tensor([[ 463]])\n",
            "tensor([[ 600]])\n",
            "tensor([[ 600]])\n",
            "tensor([[ 463]])\n",
            "tensor([[ 600]])\n",
            "tensor([[ 463]])\n",
            "tensor([[ 600]])\n",
            "tensor([[ 600]])\n",
            "tensor([[ 600]])\n",
            "tensor([[ 600]])\n",
            "tensor([[ 463]])\n",
            "tensor([[ 463]])\n",
            "tensor([[ 600]])\n",
            "tensor([[ 852]])\n",
            "tensor([[ 600]])\n",
            "tensor([[ 600]])\n",
            "tensor([[ 852]])\n",
            "0/100 of detected dogs, in dog_files: \n"
          ],
          "name": "stdout"
        }
      ]
    },
    {
      "metadata": {
        "id": "nLRrtX5i-U7v",
        "colab_type": "code",
        "colab": {}
      },
      "cell_type": "code",
      "source": [
        ""
      ],
      "execution_count": 0,
      "outputs": []
    },
    {
      "metadata": {
        "id": "aHQKpSZw-U7w",
        "colab_type": "text"
      },
      "cell_type": "markdown",
      "source": [
        "---\n",
        "<a id='step3'></a>\n",
        "## Step 3: Create a CNN to Classify Dog Breeds (from Scratch)\n",
        "\n",
        "Now that we have functions for detecting humans and dogs in images, we need a way to predict breed from images.  In this step, you will create a CNN that classifies dog breeds.  You must create your CNN _from scratch_ (so, you can't use transfer learning _yet_!), and you must attain a test accuracy of at least 10%.  In Step 4 of this notebook, you will have the opportunity to use transfer learning to create a CNN that attains greatly improved accuracy.\n",
        "\n",
        "We mention that the task of assigning breed to dogs from images is considered exceptionally challenging.  To see why, consider that *even a human* would have trouble distinguishing between a Brittany and a Welsh Springer Spaniel.  \n",
        "\n",
        "Brittany | Welsh Springer Spaniel\n",
        "- | - \n",
        "<img src=\"images/Brittany_02625.jpg\" width=\"100\"> | <img src=\"images/Welsh_springer_spaniel_08203.jpg\" width=\"200\">\n",
        "\n",
        "It is not difficult to find other dog breed pairs with minimal inter-class variation (for instance, Curly-Coated Retrievers and American Water Spaniels).  \n",
        "\n",
        "Curly-Coated Retriever | American Water Spaniel\n",
        "- | -\n",
        "<img src=\"images/Curly-coated_retriever_03896.jpg\" width=\"200\"> | <img src=\"images/American_water_spaniel_00648.jpg\" width=\"200\">\n",
        "\n",
        "\n",
        "Likewise, recall that labradors come in yellow, chocolate, and black.  Your vision-based algorithm will have to conquer this high intra-class variation to determine how to classify all of these different shades as the same breed.  \n",
        "\n",
        "Yellow Labrador | Chocolate Labrador | Black Labrador\n",
        "- | -\n",
        "<img src=\"images/Labrador_retriever_06457.jpg\" width=\"150\"> | <img src=\"images/Labrador_retriever_06455.jpg\" width=\"240\"> | <img src=\"images/Labrador_retriever_06449.jpg\" width=\"220\">\n",
        "\n",
        "We also mention that random chance presents an exceptionally low bar: setting aside the fact that the classes are slightly imabalanced, a random guess will provide a correct answer roughly 1 in 133 times, which corresponds to an accuracy of less than 1%.  \n",
        "\n",
        "Remember that the practice is far ahead of the theory in deep learning.  Experiment with many different architectures, and trust your intuition.  And, of course, have fun!\n",
        "\n",
        "### (IMPLEMENTATION) Specify Data Loaders for the Dog Dataset\n",
        "\n",
        "Use the code cell below to write three separate [data loaders](http://pytorch.org/docs/stable/data.html#torch.utils.data.DataLoader) for the training, validation, and test datasets of dog images (located at `dog_images/train`, `dog_images/valid`, and `dog_images/test`, respectively).  You may find [this documentation on custom datasets](http://pytorch.org/docs/stable/torchvision/datasets.html) to be a useful resource.  If you are interested in augmenting your training and/or validation data, check out the wide variety of [transforms](http://pytorch.org/docs/stable/torchvision/transforms.html?highlight=transform)!"
      ]
    },
    {
      "metadata": {
        "id": "Cro_sFHv-U7w",
        "colab_type": "code",
        "outputId": "1b27e771-794f-409c-d34b-762a8c2880ef",
        "colab": {
          "base_uri": "https://localhost:8080/",
          "height": 34
        }
      },
      "cell_type": "code",
      "source": [
        "import os\n",
        "from torchvision import datasets\n",
        "import torchvision.transforms as transforms\n",
        "import torch.utils.data\n",
        "\n",
        "\n",
        "train_dir = os.path.join(data_dir, 'dogImages/train')\n",
        "valid_dir = os.path.join(data_dir, 'dogImages/valid')\n",
        "test_dir = os.path.join(data_dir, 'dogImages/test')\n",
        "\n",
        "### TODO: Write data loaders for training, validation, and test sets\n",
        "## Specify appropriate transforms, and batch_sizes\n",
        "\n",
        "batch_size = 20\n",
        "num_workers = 0\n",
        "\n",
        "my_transform = transforms.Compose([transforms.RandomResizedCrop(224),\n",
        "                                   transforms.Resize(32),\n",
        "                                 transforms.ToTensor(),\n",
        "                                  transforms.Normalize((0.5, 0.5, 0.5), (0.5, 0.5, 0.5))\n",
        "                                  ])\n",
        "\n",
        "train_data = datasets.ImageFolder(train_dir, transform=my_transform)\n",
        "valid_data = datasets.ImageFolder(valid_dir, transform = my_transform)\n",
        "test_data = datasets.ImageFolder(test_dir, transform = my_transform)\n",
        "\n",
        "print('length of train_data = {} |valid_data= {} | test_data= {}'.format(len(train_data), len(valid_data), len(test_data)))\n",
        "\n",
        "train_loader = torch.utils.data.DataLoader(train_data, batch_size=batch_size, num_workers=num_workers, shuffle=True)\n",
        "valid_loader = torch.utils.data.DataLoader(valid_data, batch_size=batch_size, num_workers=num_workers, shuffle=True)\n",
        "test_loader = torch.utils.data.DataLoader(test_data, batch_size=batch_size, num_workers=num_workers, shuffle=True)\n",
        "\n",
        "loaders_scratch = [train_loader, valid_loader, test_loader]"
      ],
      "execution_count": 7,
      "outputs": [
        {
          "output_type": "stream",
          "text": [
            "length of train_data = 6680 |valid_data= 835 | test_data= 836\n"
          ],
          "name": "stdout"
        }
      ]
    },
    {
      "metadata": {
        "id": "_n6IQTl3-U7y",
        "colab_type": "text"
      },
      "cell_type": "markdown",
      "source": [
        "**Question 3:** Describe your chosen procedure for preprocessing the data. \n",
        "- How does your code resize the images (by cropping, stretching, etc)?  What size did you pick for the input tensor, and why?\n",
        "- Did you decide to augment the dataset?  If so, how (through translations, flips, rotations, etc)?  If not, why not?\n"
      ]
    },
    {
      "metadata": {
        "id": "bDGv3DV6uDB0",
        "colab_type": "code",
        "colab": {}
      },
      "cell_type": "code",
      "source": [
        "\n",
        "import matplotlib.pyplot as plt\n",
        "%matplotlib inline\n",
        "\n",
        "# function to un-normalize and display an image\n",
        "def imshow(img):\n",
        "    img = img / 2 + 0.5  # unnormalize\n",
        "    plt.imshow(np.transpose(img, (1, 2, 0)))  # convert from Tensor image"
      ],
      "execution_count": 0,
      "outputs": []
    },
    {
      "metadata": {
        "id": "mHisHNcjuKxx",
        "colab_type": "code",
        "outputId": "2bd6e1f3-9a4e-47f3-885b-fb28581fca9b",
        "colab": {
          "base_uri": "https://localhost:8080/",
          "height": 268
        }
      },
      "cell_type": "code",
      "source": [
        "# get a batch of training images\n",
        "dataiter = iter(train_loader)\n",
        "images, _ = dataiter.next()\n",
        "images = images.numpy() # convert images to numpy\n",
        "\n",
        "# plot the images of the batch, along with the corresponding labels\n",
        "fig = plt.figure(figsize=(25, 4))\n",
        "\n",
        "for idx in np.arange(20):\n",
        "    ax = fig.add_subplot(2, 20/2, idx+1, xticks=[], yticks=[])\n",
        "    imshow(images[idx])\n"
      ],
      "execution_count": 9,
      "outputs": [
        {
          "output_type": "display_data",
          "data": {
            "image/png": "[encoded data removed]",
            "text/plain": [
              "<Figure size 1800x288 with 20 Axes>"
            ]
          },
          "metadata": {
            "tags": []
          }
        }
      ]
    },
    {
      "metadata": {
        "id": "JuaIAYfX-U7y",
        "colab_type": "text"
      },
      "cell_type": "markdown",
      "source": [
        "**Answer**:"
      ]
    },
    {
      "metadata": {
        "id": "417PiDHM-U7z",
        "colab_type": "text"
      },
      "cell_type": "markdown",
      "source": [
        "### (IMPLEMENTATION) Model Architecture\n",
        "\n",
        "Create a CNN to classify dog breed.  Use the template in the code cell below."
      ]
    },
    {
      "metadata": {
        "id": "-v5ZoKlu-U70",
        "colab_type": "code",
        "outputId": "b315d94f-995b-40d5-af0d-8fd2e356ced7",
        "colab": {
          "base_uri": "https://localhost:8080/",
          "height": 34
        }
      },
      "cell_type": "code",
      "source": [
        "import torch.nn as nn\n",
        "import torch.nn.functional as F\n",
        "\n",
        "# define the CNN architecture\n",
        "class Net(nn.Module):\n",
        "    \n",
        "    ### TODO: choose an architecture, and complete the class\n",
        "    def __init__(self):        \n",
        "        super(Net, self).__init__()\n",
        "        ## Define layers of a CNN\n",
        "        # conv layer sees a 32x32x3 image tensor\n",
        "        self.conv1 = nn.Conv2d(3, 16, 3, padding=1)\n",
        "        # sees a 16x16x16 tensor\n",
        "        self.conv2 = nn.Conv2d(16, 32, 3, padding=1)\n",
        "        self.pool = nn.MaxPool2d(2, 2)\n",
        "        # linear layer sees a 32x 8x 8 tensor\n",
        "        self.fc1 = nn.Linear(32*8*8, 512)\n",
        "        self.fc2 = nn.Linear(512, 133)\n",
        "        \n",
        "        self.dropout = nn.Dropout(0.2)\n",
        "    \n",
        "    def forward(self, x):\n",
        "        x = self.pool(F.relu(self.conv1(x)))\n",
        "        x = self.pool(F.relu(self.conv2(x)))\n",
        "        #print('x shape after conv2 and pool: ', x.shape)\n",
        "        # flatten the image input\n",
        "        x = x.view(-1, 32*8*8)\n",
        "        x = self.dropout(x)\n",
        "        x = F.relu(self.fc1(x))\n",
        "        x = self.dropout(x)\n",
        "        x = self.fc2(x)\n",
        "        return x\n",
        "\n",
        "# check if CUDA is available\n",
        "use_cuda = torch.cuda.is_available()\n",
        "print('cuda available: ', use_cuda)\n",
        "\n",
        "#-#-# You so NOT have to modify the code below this line. #-#-#\n",
        "\n",
        "# instantiate the CNN\n",
        "model_scratch = Net()\n",
        "\n",
        "# move tensors to GPU if CUDA is available\n",
        "if use_cuda:\n",
        "    model_scratch.cuda()"
      ],
      "execution_count": 11,
      "outputs": [
        {
          "output_type": "stream",
          "text": [
            "cuda available:  True\n"
          ],
          "name": "stdout"
        }
      ]
    },
    {
      "metadata": {
        "id": "nVYY5Smg-U73",
        "colab_type": "text"
      },
      "cell_type": "markdown",
      "source": [
        "__Question 4:__ Outline the steps you took to get to your final CNN architecture and your reasoning at each step.  "
      ]
    },
    {
      "metadata": {
        "id": "scUhCkDJ-U74",
        "colab_type": "text"
      },
      "cell_type": "markdown",
      "source": [
        "__Answer:__ "
      ]
    },
    {
      "metadata": {
        "id": "8HEWHoBO-U74",
        "colab_type": "text"
      },
      "cell_type": "markdown",
      "source": [
        "### (IMPLEMENTATION) Specify Loss Function and Optimizer\n",
        "\n",
        "Use the next code cell to specify a [loss function](http://pytorch.org/docs/stable/nn.html#loss-functions) and [optimizer](http://pytorch.org/docs/stable/optim.html).  Save the chosen loss function as `criterion_scratch`, and the optimizer as `optimizer_scratch` below."
      ]
    },
    {
      "metadata": {
        "id": "tYeTbjyo-U75",
        "colab_type": "code",
        "colab": {}
      },
      "cell_type": "code",
      "source": [
        "import torch.optim as optim\n",
        "\n",
        "### TODO: select loss function\n",
        "criterion_scratch = nn.CrossEntropyLoss()\n",
        "\n",
        "### TODO: select optimizer\n",
        "optimizer_scratch = optim.SGD(model_scratch.parameters(), lr=0.01)"
      ],
      "execution_count": 0,
      "outputs": []
    },
    {
      "metadata": {
        "id": "gX3Zf6jl-U7_",
        "colab_type": "text"
      },
      "cell_type": "markdown",
      "source": [
        "### (IMPLEMENTATION) Train and Validate the Model\n",
        "\n",
        "Train and validate your model in the code cell below.  [Save the final model parameters](http://pytorch.org/docs/master/notes/serialization.html) at filepath `'model_scratch.pt'`."
      ]
    },
    {
      "metadata": {
        "id": "lanRRZVB-U8A",
        "colab_type": "code",
        "colab": {}
      },
      "cell_type": "code",
      "source": [
        "import datetime\n",
        "import time\n",
        "\n",
        "\n",
        "def train(n_epochs, loaders, model, optimizer, criterion, use_cuda, save_path):\n",
        "    print('starting training at ', time.time())\n",
        "    \"\"\"returns trained model\"\"\"\n",
        "    \n",
        "    valid_losses = []\n",
        "    train_losses = []\n",
        "    \n",
        "    # initialize tracker for minimum validation loss\n",
        "    valid_loss_min = np.Inf \n",
        "    \n",
        "    for epoch in range(1, n_epochs+1):\n",
        "        # initialize variables to monitor training and validation loss\n",
        "        train_loss = 0.0\n",
        "        valid_loss = 0.0\n",
        "        train_accuracy = 0.0\n",
        "        valid_accuracy = 0.0\n",
        "        \n",
        "        hour = datetime.datetime.today().hour\n",
        "        minute = datetime.datetime.today().minute\n",
        "        second = datetime.datetime.today().second\n",
        "          \n",
        "        ###################\n",
        "        # train the model #\n",
        "        ###################\n",
        "        model.train()\n",
        "        for batch_idx, (data, target) in enumerate(loaders[0]):\n",
        "            # move to GPU\n",
        "            if use_cuda:\n",
        "                data, target = data.cuda(), target.cuda()\n",
        "            ## find the loss and update the model parameters accordingly\n",
        "            output = model(data)\n",
        "            loss = criterion(output, target)\n",
        "            loss.backward()\n",
        "            optimizer.step()\n",
        "            ## record the average training loss, using something like\n",
        "            ## train_loss = train_loss + ((1 / (batch_idx + 1)) * (loss.data - train_loss))\n",
        "\n",
        "            train_loss += loss.item()\n",
        "\n",
        "            ps = torch.exp(output)\n",
        "            top_p, top_class = ps.topk(1,dim = 1)\n",
        "            equals = top_class == target.view(*top_class.shape)\n",
        "            train_accuracy += torch.mean(equals.type(torch.FloatTensor))\n",
        "            \n",
        "        ######################    \n",
        "        # validate the model #\n",
        "        ######################\n",
        "        model.eval()\n",
        "        for batch_idx, (data, target) in enumerate(loaders[1]):\n",
        "            # move to GPU\n",
        "            if use_cuda:\n",
        "                data, target = data.cuda(), target.cuda()\n",
        "            ## update the average validation loss\n",
        "            output = model(data)\n",
        "            loss = criterion(output,target)\n",
        "            valid_loss = loss.item()\n",
        "            \n",
        "            ps = torch.exp(output)\n",
        "            top_p, top_class = ps.topk(1,dim = 1)\n",
        "            equals = top_class == target.view(*top_class.shape)\n",
        "            valid_accuracy += torch.mean(equals.type(torch.FloatTensor))\n",
        "            \n",
        "        # print training/validation statistics \n",
        "        train_loss = train_loss/len(train_loader)\n",
        "        train_accuracy = train_accuracy/len(train_loader)\n",
        "        train_losses.append(train_loss)\n",
        "        \n",
        "        valid_loss = valid_loss/len(valid_loader)\n",
        "        valid_losses.append(valid_loss)\n",
        "        valid_accuracy = valid_accuracy/len(valid_loader)\n",
        "        \n",
        "        print('Epoch: {} at {}:{}:{} \\tTraining Loss: {:.6f} \\t Accuracy: {:.6f}'\n",
        "              ' \\tValidation Loss: {:.6f} \\t Accuracy: {:.6f}'.format(\n",
        "                  epoch,\n",
        "                  hour, minute, second,\n",
        "                  train_loss,\n",
        "                  train_accuracy, \n",
        "                  valid_loss,\n",
        "                  valid_accuracy ))\n",
        "        \n",
        "        ## TODO: save the model if validation loss has decreased\n",
        "        if valid_loss <= valid_loss_min:\n",
        "            print('Validation loss decreased ({:.6f} --> {:.6f}).  Saving model ...'.format(\n",
        "            valid_loss_min,\n",
        "            valid_loss))\n",
        "            torch.save(model.state_dict(), save_path)\n",
        "            valid_loss_min = valid_loss\n",
        "            \n",
        "\n",
        "    plt.plot(valid_losses,label = 'Validation loss')\n",
        "    plt.plot(train_losses,label = 'Training loss')\n",
        "    plt.xlabel('epochs')\n",
        "    plt.ylabel('loss')\n",
        "    x_ticks = [x for x in range(0,n_epochs,2)]\n",
        "    plt.xticks(x_ticks)\n",
        "    plt.show()\n",
        "    # return trained model\n",
        "    return model\n",
        "\n",
        "\n"
      ],
      "execution_count": 0,
      "outputs": []
    },
    {
      "metadata": {
        "id": "PH9erOP4rwlJ",
        "colab_type": "code",
        "colab": {}
      },
      "cell_type": "code",
      "source": [
        "from PIL import ImageFile\n",
        "ImageFile.LOAD_TRUNCATED_IMAGES = True"
      ],
      "execution_count": 0,
      "outputs": []
    },
    {
      "metadata": {
        "id": "7qLTwlmF-TOo",
        "colab_type": "code",
        "outputId": "f84634fc-b24b-408c-e064-7edb2d70e1bc",
        "colab": {
          "base_uri": "https://localhost:8080/",
          "height": 432
        }
      },
      "cell_type": "code",
      "source": [
        "# train the model\n",
        "model_scratch = train(3, loaders_scratch, model_scratch, optimizer_scratch, \n",
        "                      criterion_scratch, use_cuda, 'model_scratch.pt')\n",
        "\n",
        "# load the model that got the best validation accuracy\n",
        "model_scratch.load_state_dict(torch.load('model_scratch.pt'))"
      ],
      "execution_count": 17,
      "outputs": [
        {
          "output_type": "stream",
          "text": [
            "starting training at  <built-in function time>\n",
            "Epoch: 1 started at 11:26:18\n",
            "Epoch: 1 \tTraining Loss: 4.901885 \t Accuracy: 0.009731 \tValidation Loss: 0.115342 \t Accuracy: 0.010714\n",
            "Validation loss decreased (inf --> 0.115342).  Saving model ...\n",
            "Epoch: 2 started at 11:28:18\n",
            "Epoch: 2 \tTraining Loss: 4.920236 \t Accuracy: 0.010030 \tValidation Loss: 0.115327 \t Accuracy: 0.009524\n",
            "Validation loss decreased (0.115342 --> 0.115327).  Saving model ...\n",
            "Epoch: 3 started at 11:30:20\n",
            "Epoch: 3 \tTraining Loss: 4.937203 \t Accuracy: 0.007335 \tValidation Loss: 0.118783 \t Accuracy: 0.009524\n"
          ],
          "name": "stdout"
        },
        {
          "output_type": "display_data",
          "data": {
            "image/png": "[encoded data removed]",
            "text/plain": [
              "<Figure size 432x288 with 1 Axes>"
            ]
          },
          "metadata": {
            "tags": []
          }
        }
      ]
    },
    {
      "metadata": {
        "id": "BsM5LlSk-U8C",
        "colab_type": "text"
      },
      "cell_type": "markdown",
      "source": [
        "### (IMPLEMENTATION) Test the Model\n",
        "\n",
        "Try out your model on the test dataset of dog images.  Use the code cell below to calculate and print the test loss and accuracy.  Ensure that your test accuracy is greater than 10%."
      ]
    },
    {
      "metadata": {
        "id": "Esiu0FT_-U8D",
        "colab_type": "code",
        "colab": {}
      },
      "cell_type": "code",
      "source": [
        "def test(loaders, model, criterion, use_cuda):\n",
        "\n",
        "    # monitor test loss and accuracy\n",
        "    test_loss = 0.\n",
        "    correct = 0.\n",
        "    total = 0.\n",
        "\n",
        "    model.eval()\n",
        "    for batch_idx, (data, target) in enumerate(loaders['test']):\n",
        "        # move to GPU\n",
        "        if use_cuda:\n",
        "            data, target = data.cuda(), target.cuda()\n",
        "        # forward pass: compute predicted outputs by passing inputs to the model\n",
        "        output = model(data)\n",
        "        # calculate the loss\n",
        "        loss = criterion(output, target)\n",
        "        # update average test loss \n",
        "        test_loss = test_loss + ((1 / (batch_idx + 1)) * (loss.data - test_loss))\n",
        "        # convert output probabilities to predicted class\n",
        "        pred = output.data.max(1, keepdim=True)[1]\n",
        "        # compare predictions to true label\n",
        "        correct += np.sum(np.squeeze(pred.eq(target.data.view_as(pred))).cpu().numpy())\n",
        "        total += data.size(0)\n",
        "            \n",
        "    print('Test Loss: {:.6f}\\n'.format(test_loss))\n",
        "\n",
        "    print('\\nTest Accuracy: %2d%% (%2d/%2d)' % (\n",
        "        100. * correct / total, correct, total))\n",
        "\n",
        "# call test function    \n",
        "test(loaders_scratch, model_scratch, criterion_scratch, use_cuda)"
      ],
      "execution_count": 0,
      "outputs": []
    },
    {
      "metadata": {
        "id": "bJbjZS8d-U8G",
        "colab_type": "text"
      },
      "cell_type": "markdown",
      "source": [
        "---\n",
        "<a id='step4'></a>\n",
        "## Step 4: Create a CNN to Classify Dog Breeds (using Transfer Learning)\n",
        "\n",
        "You will now use transfer learning to create a CNN that can identify dog breed from images.  Your CNN must attain at least 60% accuracy on the test set.\n",
        "\n",
        "### (IMPLEMENTATION) Specify Data Loaders for the Dog Dataset\n",
        "\n",
        "Use the code cell below to write three separate [data loaders](http://pytorch.org/docs/master/data.html#torch.utils.data.DataLoader) for the training, validation, and test datasets of dog images (located at `dogImages/train`, `dogImages/valid`, and `dogImages/test`, respectively). \n",
        "\n",
        "If you like, **you are welcome to use the same data loaders from the previous step**, when you created a CNN from scratch."
      ]
    },
    {
      "metadata": {
        "id": "OSUi0t5v-U8G",
        "colab_type": "code",
        "colab": {}
      },
      "cell_type": "code",
      "source": [
        "## TODO: Specify data loaders\n"
      ],
      "execution_count": 0,
      "outputs": []
    },
    {
      "metadata": {
        "id": "1GIgX0HR-U8J",
        "colab_type": "text"
      },
      "cell_type": "markdown",
      "source": [
        "### (IMPLEMENTATION) Model Architecture\n",
        "\n",
        "Use transfer learning to create a CNN to classify dog breed.  Use the code cell below, and save your initialized model as the variable `model_transfer`."
      ]
    },
    {
      "metadata": {
        "id": "6Kdlw8wf-U8K",
        "colab_type": "code",
        "colab": {}
      },
      "cell_type": "code",
      "source": [
        "import torchvision.models as models\n",
        "import torch.nn as nn\n",
        "\n",
        "## TODO: Specify model architecture \n",
        "\n",
        "\n",
        "if use_cuda:\n",
        "    model_transfer = model_transfer.cuda()"
      ],
      "execution_count": 0,
      "outputs": []
    },
    {
      "metadata": {
        "id": "xYyc9nxe-U8M",
        "colab_type": "text"
      },
      "cell_type": "markdown",
      "source": [
        "__Question 5:__ Outline the steps you took to get to your final CNN architecture and your reasoning at each step.  Describe why you think the architecture is suitable for the current problem."
      ]
    },
    {
      "metadata": {
        "id": "Czd_o3wQ-U8N",
        "colab_type": "text"
      },
      "cell_type": "markdown",
      "source": [
        "__Answer:__ \n"
      ]
    },
    {
      "metadata": {
        "id": "ZIs6dN66-U8O",
        "colab_type": "text"
      },
      "cell_type": "markdown",
      "source": [
        "### (IMPLEMENTATION) Specify Loss Function and Optimizer\n",
        "\n",
        "Use the next code cell to specify a [loss function](http://pytorch.org/docs/master/nn.html#loss-functions) and [optimizer](http://pytorch.org/docs/master/optim.html).  Save the chosen loss function as `criterion_transfer`, and the optimizer as `optimizer_transfer` below."
      ]
    },
    {
      "metadata": {
        "id": "V9G7pfEl-U8P",
        "colab_type": "code",
        "colab": {}
      },
      "cell_type": "code",
      "source": [
        "criterion_transfer = None\n",
        "optimizer_transfer = None"
      ],
      "execution_count": 0,
      "outputs": []
    },
    {
      "metadata": {
        "id": "tpdt7ecP-U8R",
        "colab_type": "text"
      },
      "cell_type": "markdown",
      "source": [
        "### (IMPLEMENTATION) Train and Validate the Model\n",
        "\n",
        "Train and validate your model in the code cell below.  [Save the final model parameters](http://pytorch.org/docs/master/notes/serialization.html) at filepath `'model_transfer.pt'`."
      ]
    },
    {
      "metadata": {
        "id": "UZfQLk6P-U8R",
        "colab_type": "code",
        "colab": {}
      },
      "cell_type": "code",
      "source": [
        "# train the model\n",
        "model_transfer = # train(n_epochs, loaders_transfer, model_transfer, optimizer_transfer, criterion_transfer, use_cuda, 'model_transfer.pt')\n",
        "\n",
        "# load the model that got the best validation accuracy (uncomment the line below)\n",
        "#model_transfer.load_state_dict(torch.load('model_transfer.pt'))"
      ],
      "execution_count": 0,
      "outputs": []
    },
    {
      "metadata": {
        "id": "IVEVI0YY-U8T",
        "colab_type": "text"
      },
      "cell_type": "markdown",
      "source": [
        "### (IMPLEMENTATION) Test the Model\n",
        "\n",
        "Try out your model on the test dataset of dog images. Use the code cell below to calculate and print the test loss and accuracy.  Ensure that your test accuracy is greater than 60%."
      ]
    },
    {
      "metadata": {
        "id": "7UWOdp9r-U8U",
        "colab_type": "code",
        "colab": {}
      },
      "cell_type": "code",
      "source": [
        "test(loaders_transfer, model_transfer, criterion_transfer, use_cuda)"
      ],
      "execution_count": 0,
      "outputs": []
    },
    {
      "metadata": {
        "id": "ZBM5Zq4y-U8W",
        "colab_type": "text"
      },
      "cell_type": "markdown",
      "source": [
        "### (IMPLEMENTATION) Predict Dog Breed with the Model\n",
        "\n",
        "Write a function that takes an image path as input and returns the dog breed (`Affenpinscher`, `Afghan hound`, etc) that is predicted by your model.  "
      ]
    },
    {
      "metadata": {
        "id": "GM5P_QAW-U8X",
        "colab_type": "code",
        "colab": {}
      },
      "cell_type": "code",
      "source": [
        "### TODO: Write a function that takes a path to an image as input\n",
        "### and returns the dog breed that is predicted by the model.\n",
        "\n",
        "# list of class names by index, i.e. a name can be accessed like class_names[0]\n",
        "class_names = [item[4:].replace(\"_\", \" \") for item in data_transfer['train'].classes]\n",
        "\n",
        "def predict_breed_transfer(img_path):\n",
        "    # load the image and return the predicted breed\n",
        "    return None"
      ],
      "execution_count": 0,
      "outputs": []
    },
    {
      "metadata": {
        "id": "2CHNwuOF-U8Z",
        "colab_type": "text"
      },
      "cell_type": "markdown",
      "source": [
        "---\n",
        "<a id='step5'></a>\n",
        "## Step 5: Write your Algorithm\n",
        "\n",
        "Write an algorithm that accepts a file path to an image and first determines whether the image contains a human, dog, or neither.  Then,\n",
        "- if a __dog__ is detected in the image, return the predicted breed.\n",
        "- if a __human__ is detected in the image, return the resembling dog breed.\n",
        "- if __neither__ is detected in the image, provide output that indicates an error.\n",
        "\n",
        "You are welcome to write your own functions for detecting humans and dogs in images, but feel free to use the `face_detector` and `human_detector` functions developed above.  You are __required__ to use your CNN from Step 4 to predict dog breed.  \n",
        "\n",
        "Some sample output for our algorithm is provided below, but feel free to design your own user experience!\n",
        "\n",
        "![Sample Human Output](images/sample_human_output.png)\n",
        "\n",
        "\n",
        "### (IMPLEMENTATION) Write your Algorithm"
      ]
    },
    {
      "metadata": {
        "id": "Gieq0IAE-U8c",
        "colab_type": "code",
        "colab": {}
      },
      "cell_type": "code",
      "source": [
        "### TODO: Write your algorithm.\n",
        "### Feel free to use as many code cells as needed.\n",
        "\n",
        "def run_app(img_path):\n",
        "    ## handle cases for a human face, dog, and neither\n",
        "    \n"
      ],
      "execution_count": 0,
      "outputs": []
    },
    {
      "metadata": {
        "id": "uXK8p9EY-U8e",
        "colab_type": "text"
      },
      "cell_type": "markdown",
      "source": [
        "---\n",
        "<a id='step6'></a>\n",
        "## Step 6: Test Your Algorithm\n",
        "\n",
        "In this section, you will take your new algorithm for a spin!  What kind of dog does the algorithm think that _you_ look like?  If you have a dog, does it predict your dog's breed accurately?  If you have a cat, does it mistakenly think that your cat is a dog?\n",
        "\n",
        "### (IMPLEMENTATION) Test Your Algorithm on Sample Images!\n",
        "\n",
        "Test your algorithm at least six images on your computer.  Feel free to use any images you like.  Use at least two human and two dog images.  \n",
        "\n",
        "__Question 6:__ Is the output better than you expected :) ?  Or worse :( ?  Provide at least three possible points of improvement for your algorithm."
      ]
    },
    {
      "metadata": {
        "id": "ClrrWL0k-U8j",
        "colab_type": "text"
      },
      "cell_type": "markdown",
      "source": [
        "__Answer:__ (Three possible points for improvement)"
      ]
    },
    {
      "metadata": {
        "id": "2jKYLzqX-U8r",
        "colab_type": "code",
        "colab": {}
      },
      "cell_type": "code",
      "source": [
        "## TODO: Execute your algorithm from Step 6 on\n",
        "## at least 6 images on your computer.\n",
        "## Feel free to use as many code cells as needed.\n",
        "\n",
        "## suggested code, below\n",
        "for file in np.hstack((human_files[:3], dog_files[:3])):\n",
        "    run_app(file)"
      ],
      "execution_count": 0,
      "outputs": []
    }
  ]
}