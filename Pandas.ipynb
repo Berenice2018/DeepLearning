{
  "nbformat": 4,
  "nbformat_minor": 0,
  "metadata": {
    "colab": {
      "name": "Pandas.ipynb",
      "version": "0.3.2",
      "provenance": [],
      "collapsed_sections": [
        "Ym6eWpBLh4Tv",
        "l2Vlbg9ZkvPZ"
      ],
      "toc_visible": true,
      "include_colab_link": true
    },
    "kernelspec": {
      "name": "python3",
      "display_name": "Python 3"
    }
  },
  "cells": [
    {
      "cell_type": "markdown",
      "metadata": {
        "id": "view-in-github",
        "colab_type": "text"
      },
      "source": [
        "<a href=\"https://colab.research.google.com/github/Berenice2018/DeepLearning/blob/master/Pandas.ipynb\" target=\"_parent\"><img src=\"https://colab.research.google.com/assets/colab-badge.svg\" alt=\"Open In Colab\"/></a>"
      ]
    },
    {
      "metadata": {
        "id": "NvTAmgPIhoB4",
        "colab_type": "text"
      },
      "cell_type": "markdown",
      "source": [
        "**Notes about Pandas**"
      ]
    },
    {
      "metadata": {
        "id": "XOAwci7mhb8H",
        "colab_type": "code",
        "colab": {}
      },
      "cell_type": "code",
      "source": [
        "import numpy as np\n",
        "import pandas as pd"
      ],
      "execution_count": 0,
      "outputs": []
    },
    {
      "metadata": {
        "id": "Ym6eWpBLh4Tv",
        "colab_type": "text"
      },
      "cell_type": "markdown",
      "source": [
        "# Creating pandas Series"
      ]
    },
    {
      "metadata": {
        "id": "SQ0Vvdfvh7w1",
        "colab_type": "text"
      },
      "cell_type": "markdown",
      "source": [
        "A Pandas series is a one-dimensional array-like object that can hold many data types\n",
        "\n",
        "| Pandas Series | NumPy ndarray |\n",
        "| --- | --- | \n",
        "| you can assign an index label to each element | cannot | \n",
        "| can hold data of different data types | cannot |\n",
        "| data is not indexed with the label names |  indexed with numbers\n",
        "\n"
      ]
    },
    {
      "metadata": {
        "id": "p_ynxK9djFiI",
        "colab_type": "code",
        "outputId": "383403b5-46b4-455b-e7cf-e1e17559dac2",
        "colab": {
          "base_uri": "https://localhost:8080/",
          "height": 170
        }
      },
      "cell_type": "code",
      "source": [
        "# create a Pandas Series that stores a grocery list\n",
        "groceries = pd.Series(data = [30, 6, 'Yes', 'No'], index = ['eggs', 'apples', 'milk', 'bread'])\n",
        "\n",
        "# We display the Groceries Pandas Series\n",
        "print(groceries)\n",
        "\n",
        "print('\\nGroceries has shape:', groceries.shape)\n",
        "print('Groceries has dimension:', groceries.ndim)\n",
        "print('Groceries has a total of', groceries.size, 'elements')"
      ],
      "execution_count": 2,
      "outputs": [
        {
          "output_type": "stream",
          "text": [
            "eggs       30\n",
            "apples      6\n",
            "milk      Yes\n",
            "bread      No\n",
            "dtype: object\n",
            "\n",
            "Groceries has shape: (4,)\n",
            "Groceries has dimension: 1\n",
            "Groceries has a total of 4 elements\n"
          ],
          "name": "stdout"
        }
      ]
    },
    {
      "metadata": {
        "id": "tl_ndEEZkANA",
        "colab_type": "code",
        "outputId": "68aacb5d-a317-4ec5-f36c-723c1bcb40b5",
        "colab": {
          "base_uri": "https://localhost:8080/",
          "height": 51
        }
      },
      "cell_type": "code",
      "source": [
        "# print the index and data of the series\n",
        "print('The data in Groceries is:', groceries.values)\n",
        "print('The index of Groceries is:', groceries.index)"
      ],
      "execution_count": 3,
      "outputs": [
        {
          "output_type": "stream",
          "text": [
            "The data in Groceries is: [30 6 'Yes' 'No']\n",
            "The index of Groceries is: Index(['eggs', 'apples', 'milk', 'bread'], dtype='object')\n"
          ],
          "name": "stdout"
        }
      ]
    },
    {
      "metadata": {
        "id": "179vI1-fkRQc",
        "colab_type": "code",
        "outputId": "6eab3cc5-3511-40eb-92f9-c28d0d4a284c",
        "colab": {
          "base_uri": "https://localhost:8080/",
          "height": 34
        }
      },
      "cell_type": "code",
      "source": [
        "# Check if a label exists in the series\n",
        "x = 'apples' in groceries\n",
        "y = 'elephant' in groceries\n",
        "print(x, y)"
      ],
      "execution_count": 4,
      "outputs": [
        {
          "output_type": "stream",
          "text": [
            "True False\n"
          ],
          "name": "stdout"
        }
      ]
    },
    {
      "metadata": {
        "id": "l2Vlbg9ZkvPZ",
        "colab_type": "text"
      },
      "cell_type": "markdown",
      "source": [
        "# Accessing and Deleting Elements in pandas Series"
      ]
    },
    {
      "metadata": {
        "id": "1O3PGMtckxQS",
        "colab_type": "text"
      },
      "cell_type": "markdown",
      "source": [
        "The attribute *.loc* stands for location, it states that we are using a **labeled** index. \n",
        "\n",
        "The attribute .*iloc* stands for integer location, it states that we are using a **numerical** index."
      ]
    },
    {
      "metadata": {
        "id": "1MkCKuYblEaE",
        "colab_type": "code",
        "colab": {
          "base_uri": "https://localhost:8080/",
          "height": 411
        },
        "outputId": "43f14c47-1158-435e-e4c0-e72583e14b03"
      },
      "cell_type": "code",
      "source": [
        "# single index label\n",
        "print('How many eggs do we need to buy:', groceries['eggs'])\n",
        "# access multiple index labels\n",
        "print('Do we need milk and bread:\\n', groceries[['milk', 'bread']]) \n",
        "# use loc to access multiple index labels\n",
        "print('How many eggs and apples do we need to buy:\\n', groceries.loc[['eggs', 'apples']]) \n",
        "print()\n",
        "\n",
        "# use multiple numerical indices\n",
        "print('How many eggs and apples do we need to buy:\\n',  groceries[[0, 1]]) \n",
        "# use a negative numerical index\n",
        "print('Do we need bread:\\n', groceries[[-1]]) \n",
        "# use a single numerical index\n",
        "print('How many eggs do we need to buy:', groceries[0]) \n",
        "# access multiple numerical indices\n",
        "print('Do we need milk and bread:\\n', groceries.iloc[[2, 3]]) "
      ],
      "execution_count": 5,
      "outputs": [
        {
          "output_type": "stream",
          "text": [
            "How many eggs do we need to buy: 30\n",
            "Do we need milk and bread:\n",
            " milk     Yes\n",
            "bread     No\n",
            "dtype: object\n",
            "How many eggs and apples do we need to buy:\n",
            " eggs      30\n",
            "apples     6\n",
            "dtype: object\n",
            "\n",
            "How many eggs and apples do we need to buy:\n",
            " eggs      30\n",
            "apples     6\n",
            "dtype: object\n",
            "Do we need bread:\n",
            " bread    No\n",
            "dtype: object\n",
            "How many eggs do we need to buy: 30\n",
            "Do we need milk and bread:\n",
            " milk     Yes\n",
            "bread     No\n",
            "dtype: object\n"
          ],
          "name": "stdout"
        }
      ]
    },
    {
      "metadata": {
        "id": "QzVXsnozl-iy",
        "colab_type": "text"
      },
      "cell_type": "markdown",
      "source": [
        "The `Series.drop(label)`  method drops elements from the Series out of place, it doesn't change the original Series being modified\n",
        "\n",
        "Delete items from a Pandas Series in place by setting the keyword  `inplace` to `True` in the `.drop()`"
      ]
    },
    {
      "metadata": {
        "id": "ELE98UgdmGJe",
        "colab_type": "code",
        "colab": {
          "base_uri": "https://localhost:8080/",
          "height": 445
        },
        "outputId": "00f4671d-2f98-494c-9b72-c5a49980f886"
      },
      "cell_type": "code",
      "source": [
        "print('Original Grocery List:\\n', groceries)\n",
        "\n",
        "# remove apples from our grocery list. The drop function removes elements out of place\n",
        "print('\\nWe remove apples (out of place):\\n', groceries.drop('apples'))\n",
        "\n",
        "print('\\nOriginal grocery List after removing apples out of place:\\n', groceries)\n",
        "\n",
        "groceries.drop(['apples', 'eggs'], inplace = True)\n",
        "print('\\nRemoved apples and eggs in place:\\n', groceries )"
      ],
      "execution_count": 6,
      "outputs": [
        {
          "output_type": "stream",
          "text": [
            "Original Grocery List:\n",
            " eggs       30\n",
            "apples      6\n",
            "milk      Yes\n",
            "bread      No\n",
            "dtype: object\n",
            "\n",
            "We remove apples (out of place):\n",
            " eggs      30\n",
            "milk     Yes\n",
            "bread     No\n",
            "dtype: object\n",
            "\n",
            "Original grocery List after removing apples out of place:\n",
            " eggs       30\n",
            "apples      6\n",
            "milk      Yes\n",
            "bread      No\n",
            "dtype: object\n",
            "\n",
            "Removed apples and eggs in place:\n",
            " milk     Yes\n",
            "bread     No\n",
            "dtype: object\n"
          ],
          "name": "stdout"
        }
      ]
    },
    {
      "metadata": {
        "id": "-I0kDuhBo8wA",
        "colab_type": "text"
      },
      "cell_type": "markdown",
      "source": [
        "# Arithmetic operations"
      ]
    },
    {
      "metadata": {
        "id": "vLPvy_pgpACZ",
        "colab_type": "code",
        "colab": {
          "base_uri": "https://localhost:8080/",
          "height": 85
        },
        "outputId": "d9a25f96-b6c4-4294-85e3-074f6e703638"
      },
      "cell_type": "code",
      "source": [
        "# a Pandas Series that stores a grocery list of just fruits\n",
        "fruits= pd.Series(data = [10, 6, 3,], index = ['apples', 'oranges', 'bananas'])\n",
        "\n",
        "fruits"
      ],
      "execution_count": 14,
      "outputs": [
        {
          "output_type": "execute_result",
          "data": {
            "text/plain": [
              "apples     10\n",
              "oranges     6\n",
              "bananas     3\n",
              "dtype: int64"
            ]
          },
          "metadata": {
            "tags": []
          },
          "execution_count": 14
        }
      ]
    },
    {
      "metadata": {
        "id": "G9gBVxMGpKcY",
        "colab_type": "code",
        "colab": {
          "base_uri": "https://localhost:8080/",
          "height": 408
        },
        "outputId": "1efc698e-76ae-42be-ce5b-e5529c7a2058"
      },
      "cell_type": "code",
      "source": [
        "# apply arithmetic operations to each item in fruits\n",
        "print('fruits + 2:\\n', fruits + 2)\n",
        "print('\\nfruits - 2:\\n', fruits - 2)\n",
        "print('\\nfruits * 2:\\n', fruits * 2) \n",
        "print('\\nfruits / 2:\\n', fruits / 2) # results in dtype float64"
      ],
      "execution_count": 8,
      "outputs": [
        {
          "output_type": "stream",
          "text": [
            "fruits + 2:\n",
            " apples     12\n",
            "oranges     8\n",
            "bananas     5\n",
            "dtype: int64\n",
            "\n",
            "fruits - 2:\n",
            " apples     8\n",
            "oranges    4\n",
            "bananas    1\n",
            "dtype: int64\n",
            "\n",
            "fruits * 2:\n",
            " apples     20\n",
            "oranges    12\n",
            "bananas     6\n",
            "dtype: int64\n",
            "\n",
            "fruits / 2:\n",
            " apples     5.0\n",
            "oranges    3.0\n",
            "bananas    1.5\n",
            "dtype: float64\n"
          ],
          "name": "stdout"
        }
      ]
    },
    {
      "metadata": {
        "id": "tlS_TDjzpzb6",
        "colab_type": "code",
        "colab": {
          "base_uri": "https://localhost:8080/",
          "height": 323
        },
        "outputId": "3a9fbd37-9817-4489-ffa2-1f601f72cf41"
      },
      "cell_type": "code",
      "source": [
        "# apply different mathematical functions to all elements of fruits\n",
        "print('\\nEXP(X) = \\n', np.exp(fruits))\n",
        "print('\\nSQRT(X) =\\n', np.sqrt(fruits))\n",
        "print('\\nPOW(X,2) =\\n',np.power(fruits,2)) # raise to the power of 2"
      ],
      "execution_count": 13,
      "outputs": [
        {
          "output_type": "stream",
          "text": [
            "\n",
            "EXP(X) = \n",
            " apples     22026.465795\n",
            "oranges      403.428793\n",
            "bananas       33.115452\n",
            "dtype: float64\n",
            "\n",
            "SQRT(X) =\n",
            " apples     3.162278\n",
            "oranges    2.449490\n",
            "bananas    1.870829\n",
            "dtype: float64\n",
            "\n",
            "POW(X,2) =\n",
            " apples     100.00\n",
            "oranges     36.00\n",
            "bananas     12.25\n",
            "dtype: float64\n"
          ],
          "name": "stdout"
        }
      ]
    },
    {
      "metadata": {
        "id": "Xia5s4Taqqhn",
        "colab_type": "text"
      },
      "cell_type": "markdown",
      "source": [
        "Apply arithmetic operations on Pandas Series of mixed data type provided that the **arithmetic operation is defined for all data types** in the Series\n",
        "\n",
        "When you have mixed data types in your Pandas Series make sure the arithmetic operations are valid on all the data types of your elements."
      ]
    },
    {
      "metadata": {
        "id": "ll_R8G4UrMeh",
        "colab_type": "code",
        "colab": {
          "base_uri": "https://localhost:8080/",
          "height": 153
        },
        "outputId": "155cdfd7-4749-4894-9458-574de5c00731"
      },
      "cell_type": "code",
      "source": [
        "series2 = pd.Series([100], index=['cherries'])\n",
        "\n",
        "print(groceries.append(series2) *2)\n",
        "print()\n",
        "groceries * 2"
      ],
      "execution_count": 28,
      "outputs": [
        {
          "output_type": "stream",
          "text": [
            "milk        YesYes\n",
            "bread         NoNo\n",
            "cherries       200\n",
            "dtype: object\n",
            "\n"
          ],
          "name": "stdout"
        },
        {
          "output_type": "execute_result",
          "data": {
            "text/plain": [
              "milk     YesYes\n",
              "bread      NoNo\n",
              "dtype: object"
            ]
          },
          "metadata": {
            "tags": []
          },
          "execution_count": 28
        }
      ]
    }
  ]
}