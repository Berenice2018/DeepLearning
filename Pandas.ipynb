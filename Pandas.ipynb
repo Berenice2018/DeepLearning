{
  "nbformat": 4,
  "nbformat_minor": 0,
  "metadata": {
    "colab": {
      "name": "Pandas.ipynb",
      "version": "0.3.2",
      "provenance": [],
      "collapsed_sections": [
        "Ym6eWpBLh4Tv",
        "_hJkk93S6McD",
        "xnsmgNGhI151",
        "8nepgNyOLSPa"
      ],
      "toc_visible": true,
      "include_colab_link": true
    },
    "kernelspec": {
      "name": "python3",
      "display_name": "Python 3"
    }
  },
  "cells": [
    {
      "cell_type": "markdown",
      "metadata": {
        "id": "view-in-github",
        "colab_type": "text"
      },
      "source": [
        "<a href=\"https://colab.research.google.com/github/Berenice2018/DeepLearning/blob/master/Pandas.ipynb\" target=\"_parent\"><img src=\"https://colab.research.google.com/assets/colab-badge.svg\" alt=\"Open In Colab\"/></a>"
      ]
    },
    {
      "metadata": {
        "id": "NvTAmgPIhoB4",
        "colab_type": "text"
      },
      "cell_type": "markdown",
      "source": [
        "**Notes about Pandas**"
      ]
    },
    {
      "metadata": {
        "id": "XOAwci7mhb8H",
        "colab_type": "code",
        "colab": {}
      },
      "cell_type": "code",
      "source": [
        "import numpy as np\n",
        "import pandas as pd"
      ],
      "execution_count": 0,
      "outputs": []
    },
    {
      "metadata": {
        "id": "Ym6eWpBLh4Tv",
        "colab_type": "text"
      },
      "cell_type": "markdown",
      "source": [
        "# Creating pandas Series"
      ]
    },
    {
      "metadata": {
        "id": "SQ0Vvdfvh7w1",
        "colab_type": "text"
      },
      "cell_type": "markdown",
      "source": [
        "A Pandas series is a one-dimensional array-like object that can hold many data types\n",
        "\n",
        "| Pandas Series | NumPy ndarray |\n",
        "| --- | --- | \n",
        "| you can assign an index label to each element | cannot | \n",
        "| can hold data of different data types | cannot |\n",
        "| data is not indexed with the label names |  indexed with numbers\n",
        "\n"
      ]
    },
    {
      "metadata": {
        "id": "p_ynxK9djFiI",
        "colab_type": "code",
        "outputId": "dbd2bcaf-f1de-4510-c875-5ff21ebde680",
        "colab": {
          "base_uri": "https://localhost:8080/",
          "height": 190
        }
      },
      "cell_type": "code",
      "source": [
        "# create a Pandas Series that stores a grocery list\n",
        "groceries = pd.Series(data = [30, 6, 'Yes', 'No'], index = ['eggs', 'apples', 'milk', 'bread'])\n",
        "\n",
        "# We display the Groceries Pandas Series\n",
        "print(groceries)\n",
        "\n",
        "print('\\nGroceries has shape:', groceries.shape)\n",
        "print('Groceries has dimension:', groceries.ndim)\n",
        "print('Groceries has a total of', groceries.size, 'elements')"
      ],
      "execution_count": 120,
      "outputs": [
        {
          "output_type": "stream",
          "text": [
            "eggs       30\n",
            "apples      6\n",
            "milk      Yes\n",
            "bread      No\n",
            "dtype: object\n",
            "\n",
            "Groceries has shape: (4,)\n",
            "Groceries has dimension: 1\n",
            "Groceries has a total of 4 elements\n"
          ],
          "name": "stdout"
        }
      ]
    },
    {
      "metadata": {
        "id": "tl_ndEEZkANA",
        "colab_type": "code",
        "outputId": "b68bd07d-0f88-439f-a23a-c66ab9a16a3c",
        "colab": {
          "base_uri": "https://localhost:8080/",
          "height": 71
        }
      },
      "cell_type": "code",
      "source": [
        "# print the index and data of the series\n",
        "print('The data in Groceries is:', groceries.values)\n",
        "print('The index of Groceries is:', groceries.index)"
      ],
      "execution_count": 121,
      "outputs": [
        {
          "output_type": "stream",
          "text": [
            "The data in Groceries is: [30 6 'Yes' 'No']\n",
            "The index of Groceries is: Index(['eggs', 'apples', 'milk', 'bread'], dtype='object')\n"
          ],
          "name": "stdout"
        }
      ]
    },
    {
      "metadata": {
        "id": "179vI1-fkRQc",
        "colab_type": "code",
        "outputId": "8cf9adae-ad39-4e75-a9ff-69d5fb492623",
        "colab": {
          "base_uri": "https://localhost:8080/",
          "height": 54
        }
      },
      "cell_type": "code",
      "source": [
        "# Check if a label exists in the series\n",
        "x = 'apples' in groceries\n",
        "y = 'elephant' in groceries\n",
        "print(x, y)"
      ],
      "execution_count": 122,
      "outputs": [
        {
          "output_type": "stream",
          "text": [
            "True False\n"
          ],
          "name": "stdout"
        }
      ]
    },
    {
      "metadata": {
        "id": "l2Vlbg9ZkvPZ",
        "colab_type": "text"
      },
      "cell_type": "markdown",
      "source": [
        "# Accessing and Deleting Elements in pandas Series"
      ]
    },
    {
      "metadata": {
        "id": "1O3PGMtckxQS",
        "colab_type": "text"
      },
      "cell_type": "markdown",
      "source": [
        "The attribute *.loc* stands for location, it states that we are using a **labeled** index. \n",
        "\n",
        "The attribute .*iloc* stands for integer location, it states that we are using a **numerical** index."
      ]
    },
    {
      "metadata": {
        "id": "1MkCKuYblEaE",
        "colab_type": "code",
        "outputId": "f7fd9bcb-566d-4f5e-8e71-94750599bd21",
        "colab": {
          "base_uri": "https://localhost:8080/",
          "height": 391
        }
      },
      "cell_type": "code",
      "source": [
        "# single index label\n",
        "print('How many eggs do we need to buy:', groceries['eggs'])\n",
        "# access multiple index labels\n",
        "print('Do we need milk and bread:\\n', groceries[['milk', 'bread']]) \n",
        "# use loc to access multiple index labels\n",
        "print('How many eggs and apples do we need to buy:\\n', groceries.loc[['eggs', 'apples']]) \n",
        "print()\n",
        "\n",
        "# use multiple numerical indices\n",
        "print('How many eggs and apples do we need to buy:\\n',  groceries[[0, 1]]) \n",
        "# use a negative numerical index\n",
        "print('Do we need bread:\\n', groceries[[-1]]) \n",
        "# use a single numerical index\n",
        "print('How many eggs do we need to buy:', groceries[0]) \n",
        "# access multiple numerical indices\n",
        "print('Do we need milk and bread:\\n', groceries.iloc[[2, 3]]) "
      ],
      "execution_count": 123,
      "outputs": [
        {
          "output_type": "stream",
          "text": [
            "How many eggs do we need to buy: 30\n",
            "Do we need milk and bread:\n",
            " milk     Yes\n",
            "bread     No\n",
            "dtype: object\n",
            "How many eggs and apples do we need to buy:\n",
            " eggs      30\n",
            "apples     6\n",
            "dtype: object\n",
            "\n",
            "How many eggs and apples do we need to buy:\n",
            " eggs      30\n",
            "apples     6\n",
            "dtype: object\n",
            "Do we need bread:\n",
            " bread    No\n",
            "dtype: object\n",
            "How many eggs do we need to buy: 30\n",
            "Do we need milk and bread:\n",
            " milk     Yes\n",
            "bread     No\n",
            "dtype: object\n"
          ],
          "name": "stdout"
        }
      ]
    },
    {
      "metadata": {
        "id": "QzVXsnozl-iy",
        "colab_type": "text"
      },
      "cell_type": "markdown",
      "source": [
        "`Series.drop(label)`  \n",
        "\n",
        "drops elements from the Series out of place, it doesn't change the original Series being modified\n",
        "\n",
        "Delete items from a Pandas Series in place by setting the keyword  `inplace` to `True` in the `.drop()`"
      ]
    },
    {
      "metadata": {
        "id": "ELE98UgdmGJe",
        "colab_type": "code",
        "outputId": "a3fb8ab5-ca43-4ac9-aa24-f823d51cde0f",
        "colab": {
          "base_uri": "https://localhost:8080/",
          "height": 425
        }
      },
      "cell_type": "code",
      "source": [
        "print('Original Grocery List:\\n', groceries)\n",
        "\n",
        "# remove apples from our grocery list. The drop function removes elements out of place\n",
        "print('\\nWe remove apples (out of place):\\n', groceries.drop('apples'))\n",
        "\n",
        "print('\\nOriginal grocery List after removing apples out of place:\\n', groceries)\n",
        "\n",
        "groceries.drop(['apples', 'eggs'], inplace = True)\n",
        "print('\\nRemoved apples and eggs in place:\\n', groceries )"
      ],
      "execution_count": 124,
      "outputs": [
        {
          "output_type": "stream",
          "text": [
            "Original Grocery List:\n",
            " eggs       30\n",
            "apples      6\n",
            "milk      Yes\n",
            "bread      No\n",
            "dtype: object\n",
            "\n",
            "We remove apples (out of place):\n",
            " eggs      30\n",
            "milk     Yes\n",
            "bread     No\n",
            "dtype: object\n",
            "\n",
            "Original grocery List after removing apples out of place:\n",
            " eggs       30\n",
            "apples      6\n",
            "milk      Yes\n",
            "bread      No\n",
            "dtype: object\n",
            "\n",
            "Removed apples and eggs in place:\n",
            " milk     Yes\n",
            "bread     No\n",
            "dtype: object\n"
          ],
          "name": "stdout"
        }
      ]
    },
    {
      "metadata": {
        "id": "-I0kDuhBo8wA",
        "colab_type": "text"
      },
      "cell_type": "markdown",
      "source": [
        "# Arithmetic operations"
      ]
    },
    {
      "metadata": {
        "id": "vLPvy_pgpACZ",
        "colab_type": "code",
        "outputId": "0279537a-4faa-4889-9786-0e96488bf0d1",
        "colab": {
          "base_uri": "https://localhost:8080/",
          "height": 85
        }
      },
      "cell_type": "code",
      "source": [
        "# a Pandas Series that stores a grocery list of just fruits\n",
        "fruits= pd.Series(data = [10, 6, 3,], index = ['apples', 'oranges', 'bananas'])\n",
        "\n",
        "fruits"
      ],
      "execution_count": 125,
      "outputs": [
        {
          "output_type": "execute_result",
          "data": {
            "text/plain": [
              "apples     10\n",
              "oranges     6\n",
              "bananas     3\n",
              "dtype: int64"
            ]
          },
          "metadata": {
            "tags": []
          },
          "execution_count": 125
        }
      ]
    },
    {
      "metadata": {
        "id": "G9gBVxMGpKcY",
        "colab_type": "code",
        "outputId": "5b793bde-74f1-4a2a-e6fc-850fe7af689f",
        "colab": {
          "base_uri": "https://localhost:8080/",
          "height": 408
        }
      },
      "cell_type": "code",
      "source": [
        "# apply arithmetic operations to each item in fruits\n",
        "print('fruits + 2:\\n', fruits + 2)\n",
        "print('\\nfruits - 2:\\n', fruits - 2)\n",
        "print('\\nfruits * 2:\\n', fruits * 2) \n",
        "print('\\nfruits / 2:\\n', fruits / 2) # results in dtype float64"
      ],
      "execution_count": 126,
      "outputs": [
        {
          "output_type": "stream",
          "text": [
            "fruits + 2:\n",
            " apples     12\n",
            "oranges     8\n",
            "bananas     5\n",
            "dtype: int64\n",
            "\n",
            "fruits - 2:\n",
            " apples     8\n",
            "oranges    4\n",
            "bananas    1\n",
            "dtype: int64\n",
            "\n",
            "fruits * 2:\n",
            " apples     20\n",
            "oranges    12\n",
            "bananas     6\n",
            "dtype: int64\n",
            "\n",
            "fruits / 2:\n",
            " apples     5.0\n",
            "oranges    3.0\n",
            "bananas    1.5\n",
            "dtype: float64\n"
          ],
          "name": "stdout"
        }
      ]
    },
    {
      "metadata": {
        "id": "tlS_TDjzpzb6",
        "colab_type": "code",
        "outputId": "2b8b3abd-0e24-4aa0-8646-c99f6f9c69be",
        "colab": {
          "base_uri": "https://localhost:8080/",
          "height": 323
        }
      },
      "cell_type": "code",
      "source": [
        "# apply different mathematical functions to all elements of fruits\n",
        "print('\\nEXP(X) = \\n', np.exp(fruits))\n",
        "print('\\nSQRT(X) =\\n', np.sqrt(fruits))\n",
        "print('\\nPOW(X,2) =\\n',np.power(fruits,2)) # raise to the power of 2"
      ],
      "execution_count": 127,
      "outputs": [
        {
          "output_type": "stream",
          "text": [
            "\n",
            "EXP(X) = \n",
            " apples     22026.5\n",
            "oranges      403.4\n",
            "bananas       20.1\n",
            "dtype: float64\n",
            "\n",
            "SQRT(X) =\n",
            " apples     3.2\n",
            "oranges    2.4\n",
            "bananas    1.7\n",
            "dtype: float64\n",
            "\n",
            "POW(X,2) =\n",
            " apples     100\n",
            "oranges     36\n",
            "bananas      9\n",
            "dtype: int64\n"
          ],
          "name": "stdout"
        }
      ]
    },
    {
      "metadata": {
        "id": "Xia5s4Taqqhn",
        "colab_type": "text"
      },
      "cell_type": "markdown",
      "source": [
        "Apply arithmetic operations on Pandas Series of mixed data type provided that the **arithmetic operation is defined for all data types** in the Series\n",
        "\n",
        "When you have mixed data types in your Pandas Series make sure the arithmetic operations are valid on all the data types of your elements."
      ]
    },
    {
      "metadata": {
        "id": "ll_R8G4UrMeh",
        "colab_type": "code",
        "outputId": "ad6acd40-f9fc-43be-9d2e-3962bc60377f",
        "colab": {
          "base_uri": "https://localhost:8080/",
          "height": 153
        }
      },
      "cell_type": "code",
      "source": [
        "series2 = pd.Series([100], index=['cherries'])\n",
        "\n",
        "print(groceries.append(series2) *2)\n",
        "print()\n",
        "groceries * 2"
      ],
      "execution_count": 128,
      "outputs": [
        {
          "output_type": "stream",
          "text": [
            "milk        YesYes\n",
            "bread         NoNo\n",
            "cherries       200\n",
            "dtype: object\n",
            "\n"
          ],
          "name": "stdout"
        },
        {
          "output_type": "execute_result",
          "data": {
            "text/plain": [
              "milk     YesYes\n",
              "bread      NoNo\n",
              "dtype: object"
            ]
          },
          "metadata": {
            "tags": []
          },
          "execution_count": 128
        }
      ]
    },
    {
      "metadata": {
        "id": "6H2VNEY9tj08",
        "colab_type": "code",
        "outputId": "24d4635d-a043-462e-a9bf-e94caa537642",
        "colab": {
          "base_uri": "https://localhost:8080/",
          "height": 357
        }
      },
      "cell_type": "code",
      "source": [
        "# Create a Pandas Series that contains the distance of some planets from the Sun.\n",
        "# Use the name of the planets as the index to your Pandas Series, and the distance\n",
        "# from the Sun as your data. The distance from the Sun is in units of 10^6 km\n",
        "\n",
        "distance_from_sun = [149.6, 1433.5, 227.9, 108.2, 778.6]\n",
        "\n",
        "planets = ['Earth','Saturn', 'Mars','Venus', 'Jupiter'] \n",
        "\n",
        "# Create a Pandas Series using the above data, with the name of the planets as\n",
        "# the index and the distance from the Sun as your data.\n",
        "dist_planets = pd.Series(data = distance_from_sun, index = planets)\n",
        "print(dist_planets)\n",
        "\n",
        "# Calculate the number of minutes it takes sunlight to reach each planet. You can\n",
        "# do this by dividing the distance from the Sun for each planet by the speed of light.\n",
        "# Since in the data above the distance from the Sun is in units of 10^6 km, you can\n",
        "# use a value for the speed of light of c = 18, since light travels 18 x 10^6 km/minute.\n",
        "time_light = dist_planets / 18\n",
        "print('\\ntime_light:\\n', time_light)\n",
        "\n",
        "# Use Boolean indexing to select only those planets for which sunlight takes less\n",
        "# than 40 minutes to reach them.\n",
        "close_planets = time_light[time_light < 40] \n",
        "print('\\nclose_planets:\\n', close_planets)"
      ],
      "execution_count": 129,
      "outputs": [
        {
          "output_type": "stream",
          "text": [
            "Earth       149.6\n",
            "Saturn     1433.5\n",
            "Mars        227.9\n",
            "Venus       108.2\n",
            "Jupiter     778.6\n",
            "dtype: float64\n",
            "\n",
            "time_light:\n",
            " Earth       8.3\n",
            "Saturn     79.6\n",
            "Mars       12.7\n",
            "Venus       6.0\n",
            "Jupiter    43.3\n",
            "dtype: float64\n",
            "\n",
            "close_planets:\n",
            " Earth     8.3\n",
            "Mars     12.7\n",
            "Venus     6.0\n",
            "dtype: float64\n"
          ],
          "name": "stdout"
        }
      ]
    },
    {
      "metadata": {
        "id": "E67BhDHhvZ3P",
        "colab_type": "text"
      },
      "cell_type": "markdown",
      "source": [
        "# Creating Pandas DataFrames"
      ]
    },
    {
      "metadata": {
        "id": "X8KUJNOovdfH",
        "colab_type": "text"
      },
      "cell_type": "markdown",
      "source": [
        "Pandas DataFrames are 2-dimensional data structures with labeled rows and columns, that can hold many data types. (Like an Excel spreadsheet)\n",
        "\n",
        "Create Pandas DataFrames manually or by loading data from a file. \n",
        "\n"
      ]
    },
    {
      "metadata": {
        "id": "JgAOFQHkvvEJ",
        "colab_type": "code",
        "outputId": "b3c729bb-ef5b-4972-f584-4cbcc6a7062b",
        "colab": {
          "base_uri": "https://localhost:8080/",
          "height": 221
        }
      },
      "cell_type": "code",
      "source": [
        "\n",
        "# create a dictionary of Pandas Series \n",
        "items = {'Bob' : pd.Series(data = [245, 25, 55], index = ['bike', 'pants', 'watch']),\n",
        "         'Alice' : pd.Series(data = [40, 110, 500, 45], index = ['book', 'glasses', 'bike', 'pants'])}\n",
        "\n",
        "# print the type of items to see that it is a dictionary\n",
        "print(type(items))\n",
        "\n",
        "\n",
        "# create a Pandas DataFrame by passing it a dictionary of Pandas Series\n",
        "shopping_carts = pd.DataFrame(items)\n",
        "\n",
        "shopping_carts"
      ],
      "execution_count": 130,
      "outputs": [
        {
          "output_type": "stream",
          "text": [
            "<class 'dict'>\n"
          ],
          "name": "stdout"
        },
        {
          "output_type": "execute_result",
          "data": {
            "text/html": [
              "<div>\n",
              "<style scoped>\n",
              "    .dataframe tbody tr th:only-of-type {\n",
              "        vertical-align: middle;\n",
              "    }\n",
              "\n",
              "    .dataframe tbody tr th {\n",
              "        vertical-align: top;\n",
              "    }\n",
              "\n",
              "    .dataframe thead th {\n",
              "        text-align: right;\n",
              "    }\n",
              "</style>\n",
              "<table border=\"1\" class=\"dataframe\">\n",
              "  <thead>\n",
              "    <tr style=\"text-align: right;\">\n",
              "      <th></th>\n",
              "      <th>Alice</th>\n",
              "      <th>Bob</th>\n",
              "    </tr>\n",
              "  </thead>\n",
              "  <tbody>\n",
              "    <tr>\n",
              "      <th>bike</th>\n",
              "      <td>500.0</td>\n",
              "      <td>245.0</td>\n",
              "    </tr>\n",
              "    <tr>\n",
              "      <th>book</th>\n",
              "      <td>40.0</td>\n",
              "      <td>NaN</td>\n",
              "    </tr>\n",
              "    <tr>\n",
              "      <th>glasses</th>\n",
              "      <td>110.0</td>\n",
              "      <td>NaN</td>\n",
              "    </tr>\n",
              "    <tr>\n",
              "      <th>pants</th>\n",
              "      <td>45.0</td>\n",
              "      <td>25.0</td>\n",
              "    </tr>\n",
              "    <tr>\n",
              "      <th>watch</th>\n",
              "      <td>NaN</td>\n",
              "      <td>55.0</td>\n",
              "    </tr>\n",
              "  </tbody>\n",
              "</table>\n",
              "</div>"
            ],
            "text/plain": [
              "         Alice    Bob\n",
              "bike     500.0  245.0\n",
              "book      40.0    NaN\n",
              "glasses  110.0    NaN\n",
              "pants     45.0   25.0\n",
              "watch      NaN   55.0"
            ]
          },
          "metadata": {
            "tags": []
          },
          "execution_count": 130
        }
      ]
    },
    {
      "metadata": {
        "id": "VArA7fUlyHX8",
        "colab_type": "text"
      },
      "cell_type": "markdown",
      "source": [
        "So whenever a DataFrame is created, if a particular column doesn't have values for a particular row index, Pandas will put a NaN value there. \n",
        "\n",
        "If we were to feed this data into a machine learning algorithm we will have to remove these NaN values first.\n",
        "\n",
        "If we don't provide index labels to the Pandas Series, Pandas will use numerical row indexes when it creates the DataFrame:\n",
        "Example:\n"
      ]
    },
    {
      "metadata": {
        "id": "pEkqeQcLyhUE",
        "colab_type": "code",
        "outputId": "eafbb4da-ea2d-40df-fa31-e274fb5ed7d2",
        "colab": {
          "base_uri": "https://localhost:8080/",
          "height": 173
        }
      },
      "cell_type": "code",
      "source": [
        "# Create a dictionary of Pandas Series without indices\n",
        "data = {'Bob' : pd.Series([245, 25, 55]),\n",
        "        'Alice' : pd.Series([40, 110, 500, 45])}\n",
        "\n",
        "# create a DataFrame\n",
        "df = pd.DataFrame(data)\n",
        "df"
      ],
      "execution_count": 131,
      "outputs": [
        {
          "output_type": "execute_result",
          "data": {
            "text/html": [
              "<div>\n",
              "<style scoped>\n",
              "    .dataframe tbody tr th:only-of-type {\n",
              "        vertical-align: middle;\n",
              "    }\n",
              "\n",
              "    .dataframe tbody tr th {\n",
              "        vertical-align: top;\n",
              "    }\n",
              "\n",
              "    .dataframe thead th {\n",
              "        text-align: right;\n",
              "    }\n",
              "</style>\n",
              "<table border=\"1\" class=\"dataframe\">\n",
              "  <thead>\n",
              "    <tr style=\"text-align: right;\">\n",
              "      <th></th>\n",
              "      <th>Alice</th>\n",
              "      <th>Bob</th>\n",
              "    </tr>\n",
              "  </thead>\n",
              "  <tbody>\n",
              "    <tr>\n",
              "      <th>0</th>\n",
              "      <td>40</td>\n",
              "      <td>245.0</td>\n",
              "    </tr>\n",
              "    <tr>\n",
              "      <th>1</th>\n",
              "      <td>110</td>\n",
              "      <td>25.0</td>\n",
              "    </tr>\n",
              "    <tr>\n",
              "      <th>2</th>\n",
              "      <td>500</td>\n",
              "      <td>55.0</td>\n",
              "    </tr>\n",
              "    <tr>\n",
              "      <th>3</th>\n",
              "      <td>45</td>\n",
              "      <td>NaN</td>\n",
              "    </tr>\n",
              "  </tbody>\n",
              "</table>\n",
              "</div>"
            ],
            "text/plain": [
              "   Alice    Bob\n",
              "0     40  245.0\n",
              "1    110   25.0\n",
              "2    500   55.0\n",
              "3     45    NaN"
            ]
          },
          "metadata": {
            "tags": []
          },
          "execution_count": 131
        }
      ]
    },
    {
      "metadata": {
        "id": "8GzCDrrvy0wP",
        "colab_type": "code",
        "outputId": "b16eab7d-b2b7-43f4-89d2-b2120db1c33b",
        "colab": {
          "base_uri": "https://localhost:8080/",
          "height": 255
        }
      },
      "cell_type": "code",
      "source": [
        "# print some information about shopping_carts\n",
        "print('shopping_carts has shape:', shopping_carts.shape)\n",
        "print('shopping_carts has dimension:', shopping_carts.ndim)\n",
        "print('shopping_carts has a total of:', shopping_carts.size, 'elements')\n",
        "print()\n",
        "print('The values in shopping_carts is:\\n', shopping_carts.values)\n",
        "print()\n",
        "print('The row indices in shopping_carts are:', shopping_carts.index)\n",
        "print()\n",
        "print('The column index in shopping_carts is:', shopping_carts.columns)"
      ],
      "execution_count": 132,
      "outputs": [
        {
          "output_type": "stream",
          "text": [
            "shopping_carts has shape: (5, 2)\n",
            "shopping_carts has dimension: 2\n",
            "shopping_carts has a total of: 10 elements\n",
            "\n",
            "The values in shopping_carts is:\n",
            " [[500. 245.]\n",
            " [ 40.  nan]\n",
            " [110.  nan]\n",
            " [ 45.  25.]\n",
            " [ nan  55.]]\n",
            "\n",
            "The row indices in shopping_carts are: Index(['bike', 'book', 'glasses', 'pants', 'watch'], dtype='object')\n",
            "\n",
            "The column index in shopping_carts is: Index(['Alice', 'Bob'], dtype='object')\n"
          ],
          "name": "stdout"
        }
      ]
    },
    {
      "metadata": {
        "id": "whrO0GDY4TkK",
        "colab_type": "text"
      },
      "cell_type": "markdown",
      "source": [
        "Select which data we want to put into our DataFrame by means of the keywords columns and index"
      ]
    },
    {
      "metadata": {
        "id": "c9DLwkRY4a11",
        "colab_type": "code",
        "outputId": "df2590f2-0943-4c6f-9a2d-f3cd65d7b72a",
        "colab": {
          "base_uri": "https://localhost:8080/",
          "height": 247
        }
      },
      "cell_type": "code",
      "source": [
        "# Create a DataFrame that only has Bob's data\n",
        "bob_shopping_cart = pd.DataFrame(items, columns=['Bob'])\n",
        "print(bob_shopping_cart)\n",
        "\n",
        "\n",
        "# Create a DataFrame that only has selected items for both Alice and Bob\n",
        "sel_shopping_cart = pd.DataFrame(items, index = ['pants', 'book'])\n",
        "print('\\n', sel_shopping_cart)\n",
        "\n",
        "# Create a DataFrame that only has selected items for Alice\n",
        "alice_sel_shopping_cart = pd.DataFrame(items, index = ['glasses', 'bike'], columns = ['Alice'])\n",
        "alice_sel_shopping_cart"
      ],
      "execution_count": 133,
      "outputs": [
        {
          "output_type": "stream",
          "text": [
            "       Bob\n",
            "bike   245\n",
            "pants   25\n",
            "watch   55\n",
            "\n",
            "        Alice   Bob\n",
            "pants     45  25.0\n",
            "book      40   NaN\n"
          ],
          "name": "stdout"
        },
        {
          "output_type": "execute_result",
          "data": {
            "text/html": [
              "<div>\n",
              "<style scoped>\n",
              "    .dataframe tbody tr th:only-of-type {\n",
              "        vertical-align: middle;\n",
              "    }\n",
              "\n",
              "    .dataframe tbody tr th {\n",
              "        vertical-align: top;\n",
              "    }\n",
              "\n",
              "    .dataframe thead th {\n",
              "        text-align: right;\n",
              "    }\n",
              "</style>\n",
              "<table border=\"1\" class=\"dataframe\">\n",
              "  <thead>\n",
              "    <tr style=\"text-align: right;\">\n",
              "      <th></th>\n",
              "      <th>Alice</th>\n",
              "    </tr>\n",
              "  </thead>\n",
              "  <tbody>\n",
              "    <tr>\n",
              "      <th>glasses</th>\n",
              "      <td>110</td>\n",
              "    </tr>\n",
              "    <tr>\n",
              "      <th>bike</th>\n",
              "      <td>500</td>\n",
              "    </tr>\n",
              "  </tbody>\n",
              "</table>\n",
              "</div>"
            ],
            "text/plain": [
              "         Alice\n",
              "glasses    110\n",
              "bike       500"
            ]
          },
          "metadata": {
            "tags": []
          },
          "execution_count": 133
        }
      ]
    },
    {
      "metadata": {
        "id": "JxpcsYQR43Np",
        "colab_type": "text"
      },
      "cell_type": "markdown",
      "source": [
        "Create DataFrames **from a dictionary of lists** (arrays). \n",
        "All the lists (arrays) in the dictionary must be of the same length. "
      ]
    },
    {
      "metadata": {
        "id": "Tjxi_kRL5WfF",
        "colab_type": "code",
        "outputId": "4ff9dc91-4e8d-4c89-a23e-4c043fa562a3",
        "colab": {
          "base_uri": "https://localhost:8080/",
          "height": 142
        }
      },
      "cell_type": "code",
      "source": [
        "# create a dictionary of lists (arrays)\n",
        "data = {'Integers' : [1,2,3],\n",
        "        'Floats' : [4.5, 8.2, 9.6]}\n",
        "\n",
        "# create a DataFrame and provide the row index\n",
        "df = pd.DataFrame(data, index = ['label 1', 'label 2', 'label 3'])\n",
        "df"
      ],
      "execution_count": 134,
      "outputs": [
        {
          "output_type": "execute_result",
          "data": {
            "text/html": [
              "<div>\n",
              "<style scoped>\n",
              "    .dataframe tbody tr th:only-of-type {\n",
              "        vertical-align: middle;\n",
              "    }\n",
              "\n",
              "    .dataframe tbody tr th {\n",
              "        vertical-align: top;\n",
              "    }\n",
              "\n",
              "    .dataframe thead th {\n",
              "        text-align: right;\n",
              "    }\n",
              "</style>\n",
              "<table border=\"1\" class=\"dataframe\">\n",
              "  <thead>\n",
              "    <tr style=\"text-align: right;\">\n",
              "      <th></th>\n",
              "      <th>Floats</th>\n",
              "      <th>Integers</th>\n",
              "    </tr>\n",
              "  </thead>\n",
              "  <tbody>\n",
              "    <tr>\n",
              "      <th>label 1</th>\n",
              "      <td>4.5</td>\n",
              "      <td>1</td>\n",
              "    </tr>\n",
              "    <tr>\n",
              "      <th>label 2</th>\n",
              "      <td>8.2</td>\n",
              "      <td>2</td>\n",
              "    </tr>\n",
              "    <tr>\n",
              "      <th>label 3</th>\n",
              "      <td>9.6</td>\n",
              "      <td>3</td>\n",
              "    </tr>\n",
              "  </tbody>\n",
              "</table>\n",
              "</div>"
            ],
            "text/plain": [
              "         Floats  Integers\n",
              "label 1     4.5         1\n",
              "label 2     8.2         2\n",
              "label 3     9.6         3"
            ]
          },
          "metadata": {
            "tags": []
          },
          "execution_count": 134
        }
      ]
    },
    {
      "metadata": {
        "id": "hZYVh4q45r95",
        "colab_type": "text"
      },
      "cell_type": "markdown",
      "source": [
        "**using a list of Python dictionaries**"
      ]
    },
    {
      "metadata": {
        "id": "ZtiGSq4b5tv7",
        "colab_type": "code",
        "outputId": "d91a7a1f-c7b3-4198-d6a1-00ae1e6cd712",
        "colab": {
          "base_uri": "https://localhost:8080/",
          "height": 111
        }
      },
      "cell_type": "code",
      "source": [
        "# We create a list of Python dictionaries\n",
        "items2 = [{'bikes': 20, 'pants': 30, 'watches': 35}, \n",
        "          {'watches': 10, 'glasses': 50, 'bikes': 15, 'pants':5}]\n",
        "\n",
        "# create a DataFrame \n",
        "# store_items = pd.DataFrame(items2)\n",
        "store_items = pd.DataFrame(items2, index = ['store 1', 'store 2'])\n",
        "store_items"
      ],
      "execution_count": 135,
      "outputs": [
        {
          "output_type": "execute_result",
          "data": {
            "text/html": [
              "<div>\n",
              "<style scoped>\n",
              "    .dataframe tbody tr th:only-of-type {\n",
              "        vertical-align: middle;\n",
              "    }\n",
              "\n",
              "    .dataframe tbody tr th {\n",
              "        vertical-align: top;\n",
              "    }\n",
              "\n",
              "    .dataframe thead th {\n",
              "        text-align: right;\n",
              "    }\n",
              "</style>\n",
              "<table border=\"1\" class=\"dataframe\">\n",
              "  <thead>\n",
              "    <tr style=\"text-align: right;\">\n",
              "      <th></th>\n",
              "      <th>bikes</th>\n",
              "      <th>glasses</th>\n",
              "      <th>pants</th>\n",
              "      <th>watches</th>\n",
              "    </tr>\n",
              "  </thead>\n",
              "  <tbody>\n",
              "    <tr>\n",
              "      <th>store 1</th>\n",
              "      <td>20</td>\n",
              "      <td>NaN</td>\n",
              "      <td>30</td>\n",
              "      <td>35</td>\n",
              "    </tr>\n",
              "    <tr>\n",
              "      <th>store 2</th>\n",
              "      <td>15</td>\n",
              "      <td>50.0</td>\n",
              "      <td>5</td>\n",
              "      <td>10</td>\n",
              "    </tr>\n",
              "  </tbody>\n",
              "</table>\n",
              "</div>"
            ],
            "text/plain": [
              "         bikes  glasses  pants  watches\n",
              "store 1     20      NaN     30       35\n",
              "store 2     15     50.0      5       10"
            ]
          },
          "metadata": {
            "tags": []
          },
          "execution_count": 135
        }
      ]
    },
    {
      "metadata": {
        "id": "_hJkk93S6McD",
        "colab_type": "text"
      },
      "cell_type": "markdown",
      "source": [
        "# Accessing elements in DataFrames"
      ]
    },
    {
      "metadata": {
        "id": "lf8Qts4Q6QC-",
        "colab_type": "text"
      },
      "cell_type": "markdown",
      "source": [
        "Access rows, columns, or individual elements of the DataFrame by using the row and column labels"
      ]
    },
    {
      "metadata": {
        "id": "3adRylvl6Psb",
        "colab_type": "code",
        "outputId": "3f86271e-fc58-41f3-a35a-17e34da268e7",
        "colab": {
          "base_uri": "https://localhost:8080/",
          "height": 360
        }
      },
      "cell_type": "code",
      "source": [
        "print(store_items)\n",
        "\n",
        "# access rows, columns and elements using labels\n",
        "print()\n",
        "print('How many bikes are in each store:\\n', store_items[['bikes']])\n",
        "print()\n",
        "print('How many bikes and pants are in each store?\\n', store_items[['pants', 'bikes']])\n",
        "print()\n",
        "print('What items are in Store 1?\\n', store_items.loc[['store 1']])\n",
        "print()\n",
        "print('How many bikes are in Store 2?', store_items['bikes']['store 2']) # dataframe[column][row]"
      ],
      "execution_count": 136,
      "outputs": [
        {
          "output_type": "stream",
          "text": [
            "         bikes  glasses  pants  watches\n",
            "store 1     20      NaN     30       35\n",
            "store 2     15     50.0      5       10\n",
            "\n",
            "How many bikes are in each store:\n",
            "          bikes\n",
            "store 1     20\n",
            "store 2     15\n",
            "\n",
            "How many bikes and pants are in each store?\n",
            "          pants  bikes\n",
            "store 1     30     20\n",
            "store 2      5     15\n",
            "\n",
            "What items are in Store 1?\n",
            "          bikes  glasses  pants  watches\n",
            "store 1     20      NaN     30       35\n",
            "\n",
            "How many bikes are in Store 2? 15\n"
          ],
          "name": "stdout"
        }
      ]
    },
    {
      "metadata": {
        "id": "4_Tr41a76_0S",
        "colab_type": "text"
      },
      "cell_type": "markdown",
      "source": [
        "Add new columns to  DataFrames"
      ]
    },
    {
      "metadata": {
        "id": "om_sZoxk7JdM",
        "colab_type": "code",
        "outputId": "2895c504-63d7-4ffe-9c45-a9674e0175c1",
        "colab": {
          "base_uri": "https://localhost:8080/",
          "height": 165
        }
      },
      "cell_type": "code",
      "source": [
        "# add a new column named shirts to store_items DataFrame indicating the number of\n",
        "# shirts in stock at each store. We will put 15 shirts in store 1 and 2 shirts in store 2\n",
        "store_items['shirts'] = [15,2]\n",
        "store_items\n"
      ],
      "execution_count": 137,
      "outputs": [
        {
          "output_type": "execute_result",
          "data": {
            "text/html": [
              "<div>\n",
              "<style scoped>\n",
              "    .dataframe tbody tr th:only-of-type {\n",
              "        vertical-align: middle;\n",
              "    }\n",
              "\n",
              "    .dataframe tbody tr th {\n",
              "        vertical-align: top;\n",
              "    }\n",
              "\n",
              "    .dataframe thead th {\n",
              "        text-align: right;\n",
              "    }\n",
              "</style>\n",
              "<table border=\"1\" class=\"dataframe\">\n",
              "  <thead>\n",
              "    <tr style=\"text-align: right;\">\n",
              "      <th></th>\n",
              "      <th>bikes</th>\n",
              "      <th>glasses</th>\n",
              "      <th>pants</th>\n",
              "      <th>watches</th>\n",
              "      <th>shirts</th>\n",
              "    </tr>\n",
              "  </thead>\n",
              "  <tbody>\n",
              "    <tr>\n",
              "      <th>store 1</th>\n",
              "      <td>20</td>\n",
              "      <td>NaN</td>\n",
              "      <td>30</td>\n",
              "      <td>35</td>\n",
              "      <td>15</td>\n",
              "    </tr>\n",
              "    <tr>\n",
              "      <th>store 2</th>\n",
              "      <td>15</td>\n",
              "      <td>50.0</td>\n",
              "      <td>5</td>\n",
              "      <td>10</td>\n",
              "      <td>2</td>\n",
              "    </tr>\n",
              "  </tbody>\n",
              "</table>\n",
              "</div>"
            ],
            "text/plain": [
              "         bikes  glasses  pants  watches  shirts\n",
              "store 1     20      NaN     30       35      15\n",
              "store 2     15     50.0      5       10       2"
            ]
          },
          "metadata": {
            "tags": []
          },
          "execution_count": 137
        }
      ]
    },
    {
      "metadata": {
        "id": "KVCoeCTm8bHA",
        "colab_type": "text"
      },
      "cell_type": "markdown",
      "source": [
        "Add new columns to our DataFrame by using arithmetic operations between other columns"
      ]
    },
    {
      "metadata": {
        "id": "0b3hICOp72uP",
        "colab_type": "code",
        "outputId": "e8c3476e-4835-4a01-9af0-5f00092d61a2",
        "colab": {
          "base_uri": "https://localhost:8080/",
          "height": 165
        }
      },
      "cell_type": "code",
      "source": [
        "# make a new column called suits by adding the number of shirts and pants\n",
        "store_items['suits'] = store_items['pants'] + store_items['shirts']\n",
        "store_items"
      ],
      "execution_count": 138,
      "outputs": [
        {
          "output_type": "execute_result",
          "data": {
            "text/html": [
              "<div>\n",
              "<style scoped>\n",
              "    .dataframe tbody tr th:only-of-type {\n",
              "        vertical-align: middle;\n",
              "    }\n",
              "\n",
              "    .dataframe tbody tr th {\n",
              "        vertical-align: top;\n",
              "    }\n",
              "\n",
              "    .dataframe thead th {\n",
              "        text-align: right;\n",
              "    }\n",
              "</style>\n",
              "<table border=\"1\" class=\"dataframe\">\n",
              "  <thead>\n",
              "    <tr style=\"text-align: right;\">\n",
              "      <th></th>\n",
              "      <th>bikes</th>\n",
              "      <th>glasses</th>\n",
              "      <th>pants</th>\n",
              "      <th>watches</th>\n",
              "      <th>shirts</th>\n",
              "      <th>suits</th>\n",
              "    </tr>\n",
              "  </thead>\n",
              "  <tbody>\n",
              "    <tr>\n",
              "      <th>store 1</th>\n",
              "      <td>20</td>\n",
              "      <td>NaN</td>\n",
              "      <td>30</td>\n",
              "      <td>35</td>\n",
              "      <td>15</td>\n",
              "      <td>45</td>\n",
              "    </tr>\n",
              "    <tr>\n",
              "      <th>store 2</th>\n",
              "      <td>15</td>\n",
              "      <td>50.0</td>\n",
              "      <td>5</td>\n",
              "      <td>10</td>\n",
              "      <td>2</td>\n",
              "      <td>7</td>\n",
              "    </tr>\n",
              "  </tbody>\n",
              "</table>\n",
              "</div>"
            ],
            "text/plain": [
              "         bikes  glasses  pants  watches  shirts  suits\n",
              "store 1     20      NaN     30       35      15     45\n",
              "store 2     15     50.0      5       10       2      7"
            ]
          },
          "metadata": {
            "tags": []
          },
          "execution_count": 138
        }
      ]
    },
    {
      "metadata": {
        "id": "DaABFymq8K8r",
        "colab_type": "text"
      },
      "cell_type": "markdown",
      "source": [
        "Suppose now, that you opened a new store and you need to add the number of items in stock of that new store into your DataFrame. \n",
        "\n",
        "We can do this by adding a new row to the `store_items` Dataframe. \n",
        "\n",
        "To add rows to our DataFrame we first have to create a new Dataframe and then append it to the original DataFrame. \n",
        "\n",
        "By appending a new row to the DataFrame, the columns will be put in alphabetical order.\n"
      ]
    },
    {
      "metadata": {
        "id": "XJ6aH4JL8NA0",
        "colab_type": "code",
        "outputId": "a349f81a-7998-48ab-9e05-8f22128ec2a5",
        "colab": {
          "base_uri": "https://localhost:8080/",
          "height": 213
        }
      },
      "cell_type": "code",
      "source": [
        "# create a dictionary from a list of Python dictionaries that will number of items at the new store\n",
        "new_items = [{'bikes': 20, 'pants': 30, 'watches': 35, 'glasses': 4}]\n",
        "\n",
        "# create a new DataFrame with the new_items and provide and index labeled store 3\n",
        "new_store = pd.DataFrame(new_items, index = ['store 3'])\n",
        "#new_store\n",
        "\n",
        "# append store 3 to our store_items DataFrame\n",
        "store_items = store_items.append(new_store)\n",
        "store_items"
      ],
      "execution_count": 139,
      "outputs": [
        {
          "output_type": "execute_result",
          "data": {
            "text/html": [
              "<div>\n",
              "<style scoped>\n",
              "    .dataframe tbody tr th:only-of-type {\n",
              "        vertical-align: middle;\n",
              "    }\n",
              "\n",
              "    .dataframe tbody tr th {\n",
              "        vertical-align: top;\n",
              "    }\n",
              "\n",
              "    .dataframe thead th {\n",
              "        text-align: right;\n",
              "    }\n",
              "</style>\n",
              "<table border=\"1\" class=\"dataframe\">\n",
              "  <thead>\n",
              "    <tr style=\"text-align: right;\">\n",
              "      <th></th>\n",
              "      <th>bikes</th>\n",
              "      <th>glasses</th>\n",
              "      <th>pants</th>\n",
              "      <th>shirts</th>\n",
              "      <th>suits</th>\n",
              "      <th>watches</th>\n",
              "    </tr>\n",
              "  </thead>\n",
              "  <tbody>\n",
              "    <tr>\n",
              "      <th>store 1</th>\n",
              "      <td>20</td>\n",
              "      <td>NaN</td>\n",
              "      <td>30</td>\n",
              "      <td>15.0</td>\n",
              "      <td>45.0</td>\n",
              "      <td>35</td>\n",
              "    </tr>\n",
              "    <tr>\n",
              "      <th>store 2</th>\n",
              "      <td>15</td>\n",
              "      <td>50.0</td>\n",
              "      <td>5</td>\n",
              "      <td>2.0</td>\n",
              "      <td>7.0</td>\n",
              "      <td>10</td>\n",
              "    </tr>\n",
              "    <tr>\n",
              "      <th>store 3</th>\n",
              "      <td>20</td>\n",
              "      <td>4.0</td>\n",
              "      <td>30</td>\n",
              "      <td>NaN</td>\n",
              "      <td>NaN</td>\n",
              "      <td>35</td>\n",
              "    </tr>\n",
              "  </tbody>\n",
              "</table>\n",
              "</div>"
            ],
            "text/plain": [
              "         bikes  glasses  pants  shirts  suits  watches\n",
              "store 1     20      NaN     30    15.0   45.0       35\n",
              "store 2     15     50.0      5     2.0    7.0       10\n",
              "store 3     20      4.0     30     NaN    NaN       35"
            ]
          },
          "metadata": {
            "tags": []
          },
          "execution_count": 139
        }
      ]
    },
    {
      "metadata": {
        "id": "wU4s-0EZ-Bwt",
        "colab_type": "text"
      },
      "cell_type": "markdown",
      "source": [
        "Add new columns of our DataFrame by using only data from particular rows in particular columns. \n",
        "\n",
        "For example, suppose that you want to stock stores 2 and 3 with new watches and you want the quantity of the new watches to be the same as the watches already in stock for those stores"
      ]
    },
    {
      "metadata": {
        "id": "JFCIdcI1-BSB",
        "colab_type": "code",
        "outputId": "31c4eee2-a28b-422e-afef-3aaf1665129e",
        "colab": {
          "base_uri": "https://localhost:8080/",
          "height": 230
        }
      },
      "cell_type": "code",
      "source": [
        "# add a new column using data from particular rows in the watches column\n",
        "store_items['new watches'] = store_items['watches'][1:]\n",
        "store_items"
      ],
      "execution_count": 140,
      "outputs": [
        {
          "output_type": "execute_result",
          "data": {
            "text/html": [
              "<div>\n",
              "<style scoped>\n",
              "    .dataframe tbody tr th:only-of-type {\n",
              "        vertical-align: middle;\n",
              "    }\n",
              "\n",
              "    .dataframe tbody tr th {\n",
              "        vertical-align: top;\n",
              "    }\n",
              "\n",
              "    .dataframe thead th {\n",
              "        text-align: right;\n",
              "    }\n",
              "</style>\n",
              "<table border=\"1\" class=\"dataframe\">\n",
              "  <thead>\n",
              "    <tr style=\"text-align: right;\">\n",
              "      <th></th>\n",
              "      <th>bikes</th>\n",
              "      <th>glasses</th>\n",
              "      <th>pants</th>\n",
              "      <th>shirts</th>\n",
              "      <th>suits</th>\n",
              "      <th>watches</th>\n",
              "      <th>new watches</th>\n",
              "    </tr>\n",
              "  </thead>\n",
              "  <tbody>\n",
              "    <tr>\n",
              "      <th>store 1</th>\n",
              "      <td>20</td>\n",
              "      <td>NaN</td>\n",
              "      <td>30</td>\n",
              "      <td>15.0</td>\n",
              "      <td>45.0</td>\n",
              "      <td>35</td>\n",
              "      <td>NaN</td>\n",
              "    </tr>\n",
              "    <tr>\n",
              "      <th>store 2</th>\n",
              "      <td>15</td>\n",
              "      <td>50.0</td>\n",
              "      <td>5</td>\n",
              "      <td>2.0</td>\n",
              "      <td>7.0</td>\n",
              "      <td>10</td>\n",
              "      <td>10.0</td>\n",
              "    </tr>\n",
              "    <tr>\n",
              "      <th>store 3</th>\n",
              "      <td>20</td>\n",
              "      <td>4.0</td>\n",
              "      <td>30</td>\n",
              "      <td>NaN</td>\n",
              "      <td>NaN</td>\n",
              "      <td>35</td>\n",
              "      <td>35.0</td>\n",
              "    </tr>\n",
              "  </tbody>\n",
              "</table>\n",
              "</div>"
            ],
            "text/plain": [
              "         bikes  glasses  pants  shirts  suits  watches  new watches\n",
              "store 1     20      NaN     30    15.0   45.0       35          NaN\n",
              "store 2     15     50.0      5     2.0    7.0       10         10.0\n",
              "store 3     20      4.0     30     NaN    NaN       35         35.0"
            ]
          },
          "metadata": {
            "tags": []
          },
          "execution_count": 140
        }
      ]
    },
    {
      "metadata": {
        "id": "SgHeLw7j-iSP",
        "colab_type": "text"
      },
      "cell_type": "markdown",
      "source": [
        " `dataframe.insert(loc,label,data) `method allows us to insert a new column in the dataframe at location loc, with the given column label, and given data"
      ]
    },
    {
      "metadata": {
        "id": "7CwHRKRo-nom",
        "colab_type": "code",
        "outputId": "104968d1-4f18-4d33-bdc5-1bdb4003bd25",
        "colab": {
          "base_uri": "https://localhost:8080/",
          "height": 230
        }
      },
      "cell_type": "code",
      "source": [
        "# insert a new column with label shoes right before the column with numerical index 4\n",
        "store_items.insert(4, 'shoes', [8,5,0])\n",
        "store_items"
      ],
      "execution_count": 141,
      "outputs": [
        {
          "output_type": "execute_result",
          "data": {
            "text/html": [
              "<div>\n",
              "<style scoped>\n",
              "    .dataframe tbody tr th:only-of-type {\n",
              "        vertical-align: middle;\n",
              "    }\n",
              "\n",
              "    .dataframe tbody tr th {\n",
              "        vertical-align: top;\n",
              "    }\n",
              "\n",
              "    .dataframe thead th {\n",
              "        text-align: right;\n",
              "    }\n",
              "</style>\n",
              "<table border=\"1\" class=\"dataframe\">\n",
              "  <thead>\n",
              "    <tr style=\"text-align: right;\">\n",
              "      <th></th>\n",
              "      <th>bikes</th>\n",
              "      <th>glasses</th>\n",
              "      <th>pants</th>\n",
              "      <th>shirts</th>\n",
              "      <th>shoes</th>\n",
              "      <th>suits</th>\n",
              "      <th>watches</th>\n",
              "      <th>new watches</th>\n",
              "    </tr>\n",
              "  </thead>\n",
              "  <tbody>\n",
              "    <tr>\n",
              "      <th>store 1</th>\n",
              "      <td>20</td>\n",
              "      <td>NaN</td>\n",
              "      <td>30</td>\n",
              "      <td>15.0</td>\n",
              "      <td>8</td>\n",
              "      <td>45.0</td>\n",
              "      <td>35</td>\n",
              "      <td>NaN</td>\n",
              "    </tr>\n",
              "    <tr>\n",
              "      <th>store 2</th>\n",
              "      <td>15</td>\n",
              "      <td>50.0</td>\n",
              "      <td>5</td>\n",
              "      <td>2.0</td>\n",
              "      <td>5</td>\n",
              "      <td>7.0</td>\n",
              "      <td>10</td>\n",
              "      <td>10.0</td>\n",
              "    </tr>\n",
              "    <tr>\n",
              "      <th>store 3</th>\n",
              "      <td>20</td>\n",
              "      <td>4.0</td>\n",
              "      <td>30</td>\n",
              "      <td>NaN</td>\n",
              "      <td>0</td>\n",
              "      <td>NaN</td>\n",
              "      <td>35</td>\n",
              "      <td>35.0</td>\n",
              "    </tr>\n",
              "  </tbody>\n",
              "</table>\n",
              "</div>"
            ],
            "text/plain": [
              "         bikes  glasses  pants  shirts  shoes  suits  watches  new watches\n",
              "store 1     20      NaN     30    15.0      8   45.0       35          NaN\n",
              "store 2     15     50.0      5     2.0      5    7.0       10         10.0\n",
              "store 3     20      4.0     30     NaN      0    NaN       35         35.0"
            ]
          },
          "metadata": {
            "tags": []
          },
          "execution_count": 141
        }
      ]
    },
    {
      "metadata": {
        "id": "HDPkBPbo-4Oy",
        "colab_type": "text"
      },
      "cell_type": "markdown",
      "source": [
        "To delete rows and columns from our DataFrame we will use the `.pop() `and` .drop()` methods. \n",
        "\n",
        "`.pop()`:  delete columns\n",
        "\n",
        "`.drop()` delete both rows and columns by use of the axis keyword."
      ]
    },
    {
      "metadata": {
        "id": "ixsN8UCJ_VpO",
        "colab_type": "code",
        "outputId": "a710cc66-c9e4-460f-d750-7da03d7ee4a4",
        "colab": {
          "base_uri": "https://localhost:8080/",
          "height": 213
        }
      },
      "cell_type": "code",
      "source": [
        "# remove the new watches column\n",
        "store_items.pop('new watches')\n",
        "store_items"
      ],
      "execution_count": 142,
      "outputs": [
        {
          "output_type": "execute_result",
          "data": {
            "text/html": [
              "<div>\n",
              "<style scoped>\n",
              "    .dataframe tbody tr th:only-of-type {\n",
              "        vertical-align: middle;\n",
              "    }\n",
              "\n",
              "    .dataframe tbody tr th {\n",
              "        vertical-align: top;\n",
              "    }\n",
              "\n",
              "    .dataframe thead th {\n",
              "        text-align: right;\n",
              "    }\n",
              "</style>\n",
              "<table border=\"1\" class=\"dataframe\">\n",
              "  <thead>\n",
              "    <tr style=\"text-align: right;\">\n",
              "      <th></th>\n",
              "      <th>bikes</th>\n",
              "      <th>glasses</th>\n",
              "      <th>pants</th>\n",
              "      <th>shirts</th>\n",
              "      <th>shoes</th>\n",
              "      <th>suits</th>\n",
              "      <th>watches</th>\n",
              "    </tr>\n",
              "  </thead>\n",
              "  <tbody>\n",
              "    <tr>\n",
              "      <th>store 1</th>\n",
              "      <td>20</td>\n",
              "      <td>NaN</td>\n",
              "      <td>30</td>\n",
              "      <td>15.0</td>\n",
              "      <td>8</td>\n",
              "      <td>45.0</td>\n",
              "      <td>35</td>\n",
              "    </tr>\n",
              "    <tr>\n",
              "      <th>store 2</th>\n",
              "      <td>15</td>\n",
              "      <td>50.0</td>\n",
              "      <td>5</td>\n",
              "      <td>2.0</td>\n",
              "      <td>5</td>\n",
              "      <td>7.0</td>\n",
              "      <td>10</td>\n",
              "    </tr>\n",
              "    <tr>\n",
              "      <th>store 3</th>\n",
              "      <td>20</td>\n",
              "      <td>4.0</td>\n",
              "      <td>30</td>\n",
              "      <td>NaN</td>\n",
              "      <td>0</td>\n",
              "      <td>NaN</td>\n",
              "      <td>35</td>\n",
              "    </tr>\n",
              "  </tbody>\n",
              "</table>\n",
              "</div>"
            ],
            "text/plain": [
              "         bikes  glasses  pants  shirts  shoes  suits  watches\n",
              "store 1     20      NaN     30    15.0      8   45.0       35\n",
              "store 2     15     50.0      5     2.0      5    7.0       10\n",
              "store 3     20      4.0     30     NaN      0    NaN       35"
            ]
          },
          "metadata": {
            "tags": []
          },
          "execution_count": 142
        }
      ]
    },
    {
      "metadata": {
        "id": "DWYTJ-Ri_aTp",
        "colab_type": "code",
        "outputId": "816c31e3-0633-4ea8-b939-f11a3dabcd0f",
        "colab": {
          "base_uri": "https://localhost:8080/",
          "height": 117
        }
      },
      "cell_type": "code",
      "source": [
        "# remove columns\n",
        "store_items = store_items.drop(['watches', 'shoes'], axis = 1)\n",
        "#store_items\n",
        "\n",
        "# remove rows\n",
        "store_items = store_items.drop(['store 2', 'store 1'], axis = 0)\n",
        "\n",
        "# we display the modified DataFrame\n",
        "store_items"
      ],
      "execution_count": 143,
      "outputs": [
        {
          "output_type": "execute_result",
          "data": {
            "text/html": [
              "<div>\n",
              "<style scoped>\n",
              "    .dataframe tbody tr th:only-of-type {\n",
              "        vertical-align: middle;\n",
              "    }\n",
              "\n",
              "    .dataframe tbody tr th {\n",
              "        vertical-align: top;\n",
              "    }\n",
              "\n",
              "    .dataframe thead th {\n",
              "        text-align: right;\n",
              "    }\n",
              "</style>\n",
              "<table border=\"1\" class=\"dataframe\">\n",
              "  <thead>\n",
              "    <tr style=\"text-align: right;\">\n",
              "      <th></th>\n",
              "      <th>bikes</th>\n",
              "      <th>glasses</th>\n",
              "      <th>pants</th>\n",
              "      <th>shirts</th>\n",
              "      <th>suits</th>\n",
              "    </tr>\n",
              "  </thead>\n",
              "  <tbody>\n",
              "    <tr>\n",
              "      <th>store 3</th>\n",
              "      <td>20</td>\n",
              "      <td>4.0</td>\n",
              "      <td>30</td>\n",
              "      <td>NaN</td>\n",
              "      <td>NaN</td>\n",
              "    </tr>\n",
              "  </tbody>\n",
              "</table>\n",
              "</div>"
            ],
            "text/plain": [
              "         bikes  glasses  pants  shirts  suits\n",
              "store 3     20      4.0     30     NaN    NaN"
            ]
          },
          "metadata": {
            "tags": []
          },
          "execution_count": 143
        }
      ]
    },
    {
      "metadata": {
        "id": "DducH5iTAl6z",
        "colab_type": "text"
      },
      "cell_type": "markdown",
      "source": [
        "`.rename()`\n",
        "\n",
        "change the row and column labels"
      ]
    },
    {
      "metadata": {
        "id": "c8NoZcoqAo2u",
        "colab_type": "code",
        "outputId": "3811dff1-a439-44d5-d50c-e33d57215327",
        "colab": {
          "base_uri": "https://localhost:8080/",
          "height": 117
        }
      },
      "cell_type": "code",
      "source": [
        "# change the column label bikes to hats\n",
        "store_items = store_items.rename(columns = {'bikes': 'hats'})\n",
        "\n",
        "store_items = store_items.rename(index = {'store 3': 'last store'})\n",
        "\n",
        "# we display the modified DataFrame\n",
        "store_items"
      ],
      "execution_count": 144,
      "outputs": [
        {
          "output_type": "execute_result",
          "data": {
            "text/html": [
              "<div>\n",
              "<style scoped>\n",
              "    .dataframe tbody tr th:only-of-type {\n",
              "        vertical-align: middle;\n",
              "    }\n",
              "\n",
              "    .dataframe tbody tr th {\n",
              "        vertical-align: top;\n",
              "    }\n",
              "\n",
              "    .dataframe thead th {\n",
              "        text-align: right;\n",
              "    }\n",
              "</style>\n",
              "<table border=\"1\" class=\"dataframe\">\n",
              "  <thead>\n",
              "    <tr style=\"text-align: right;\">\n",
              "      <th></th>\n",
              "      <th>hats</th>\n",
              "      <th>glasses</th>\n",
              "      <th>pants</th>\n",
              "      <th>shirts</th>\n",
              "      <th>suits</th>\n",
              "    </tr>\n",
              "  </thead>\n",
              "  <tbody>\n",
              "    <tr>\n",
              "      <th>last store</th>\n",
              "      <td>20</td>\n",
              "      <td>4.0</td>\n",
              "      <td>30</td>\n",
              "      <td>NaN</td>\n",
              "      <td>NaN</td>\n",
              "    </tr>\n",
              "  </tbody>\n",
              "</table>\n",
              "</div>"
            ],
            "text/plain": [
              "            hats  glasses  pants  shirts  suits\n",
              "last store    20      4.0     30     NaN    NaN"
            ]
          },
          "metadata": {
            "tags": []
          },
          "execution_count": 144
        }
      ]
    },
    {
      "metadata": {
        "id": "MD46QW81TNMx",
        "colab_type": "text"
      },
      "cell_type": "markdown",
      "source": [
        "`.set_index()` \n"
      ]
    },
    {
      "metadata": {
        "id": "hJBpEfLSBV1z",
        "colab_type": "code",
        "outputId": "9430dd5a-cc25-4999-f81d-3cf7f8d5cbb9",
        "colab": {
          "base_uri": "https://localhost:8080/",
          "height": 131
        }
      },
      "cell_type": "code",
      "source": [
        "# We change the row index to be the data in the pants column\n",
        "store_items = store_items.set_index('pants')\n",
        "\n",
        "# we display the modified DataFrame\n",
        "store_items"
      ],
      "execution_count": 145,
      "outputs": [
        {
          "output_type": "execute_result",
          "data": {
            "text/html": [
              "<div>\n",
              "<style scoped>\n",
              "    .dataframe tbody tr th:only-of-type {\n",
              "        vertical-align: middle;\n",
              "    }\n",
              "\n",
              "    .dataframe tbody tr th {\n",
              "        vertical-align: top;\n",
              "    }\n",
              "\n",
              "    .dataframe thead th {\n",
              "        text-align: right;\n",
              "    }\n",
              "</style>\n",
              "<table border=\"1\" class=\"dataframe\">\n",
              "  <thead>\n",
              "    <tr style=\"text-align: right;\">\n",
              "      <th></th>\n",
              "      <th>hats</th>\n",
              "      <th>glasses</th>\n",
              "      <th>shirts</th>\n",
              "      <th>suits</th>\n",
              "    </tr>\n",
              "    <tr>\n",
              "      <th>pants</th>\n",
              "      <th></th>\n",
              "      <th></th>\n",
              "      <th></th>\n",
              "      <th></th>\n",
              "    </tr>\n",
              "  </thead>\n",
              "  <tbody>\n",
              "    <tr>\n",
              "      <th>30</th>\n",
              "      <td>20</td>\n",
              "      <td>4.0</td>\n",
              "      <td>NaN</td>\n",
              "      <td>NaN</td>\n",
              "    </tr>\n",
              "  </tbody>\n",
              "</table>\n",
              "</div>"
            ],
            "text/plain": [
              "       hats  glasses  shirts  suits\n",
              "pants                              \n",
              "30       20      4.0     NaN    NaN"
            ]
          },
          "metadata": {
            "tags": []
          },
          "execution_count": 145
        }
      ]
    },
    {
      "metadata": {
        "id": "tNHpwqWjBui3",
        "colab_type": "text"
      },
      "cell_type": "markdown",
      "source": [
        "# Dealing with NaN"
      ]
    },
    {
      "metadata": {
        "id": "WqWsUWvjB1YA",
        "colab_type": "code",
        "outputId": "beafb621-aaf5-4239-9b06-d903b7aed955",
        "colab": {
          "base_uri": "https://localhost:8080/",
          "height": 142
        }
      },
      "cell_type": "code",
      "source": [
        "# We create a list of Python dictionaries\n",
        "items2 = [{'bikes': 20, 'pants': 30, 'watches': 35, 'shirts': 15, 'shoes':8, 'suits':45},\n",
        "{'watches': 10, 'glasses': 50, 'bikes': 15, 'pants':5, 'shirts': 2, 'shoes':5, 'suits':7},\n",
        "{'bikes': 20, 'pants': 30, 'watches': 35, 'glasses': 4, 'shoes':10}]\n",
        "\n",
        "# We create a DataFrame  and provide the row index\n",
        "store_items = pd.DataFrame(items2, index = ['store 1', 'store 2', 'store 3'])\n",
        "\n",
        "# We display the DataFrame\n",
        "store_items"
      ],
      "execution_count": 146,
      "outputs": [
        {
          "output_type": "execute_result",
          "data": {
            "text/html": [
              "<div>\n",
              "<style scoped>\n",
              "    .dataframe tbody tr th:only-of-type {\n",
              "        vertical-align: middle;\n",
              "    }\n",
              "\n",
              "    .dataframe tbody tr th {\n",
              "        vertical-align: top;\n",
              "    }\n",
              "\n",
              "    .dataframe thead th {\n",
              "        text-align: right;\n",
              "    }\n",
              "</style>\n",
              "<table border=\"1\" class=\"dataframe\">\n",
              "  <thead>\n",
              "    <tr style=\"text-align: right;\">\n",
              "      <th></th>\n",
              "      <th>bikes</th>\n",
              "      <th>glasses</th>\n",
              "      <th>pants</th>\n",
              "      <th>shirts</th>\n",
              "      <th>shoes</th>\n",
              "      <th>suits</th>\n",
              "      <th>watches</th>\n",
              "    </tr>\n",
              "  </thead>\n",
              "  <tbody>\n",
              "    <tr>\n",
              "      <th>store 1</th>\n",
              "      <td>20</td>\n",
              "      <td>NaN</td>\n",
              "      <td>30</td>\n",
              "      <td>15.0</td>\n",
              "      <td>8</td>\n",
              "      <td>45.0</td>\n",
              "      <td>35</td>\n",
              "    </tr>\n",
              "    <tr>\n",
              "      <th>store 2</th>\n",
              "      <td>15</td>\n",
              "      <td>50.0</td>\n",
              "      <td>5</td>\n",
              "      <td>2.0</td>\n",
              "      <td>5</td>\n",
              "      <td>7.0</td>\n",
              "      <td>10</td>\n",
              "    </tr>\n",
              "    <tr>\n",
              "      <th>store 3</th>\n",
              "      <td>20</td>\n",
              "      <td>4.0</td>\n",
              "      <td>30</td>\n",
              "      <td>NaN</td>\n",
              "      <td>10</td>\n",
              "      <td>NaN</td>\n",
              "      <td>35</td>\n",
              "    </tr>\n",
              "  </tbody>\n",
              "</table>\n",
              "</div>"
            ],
            "text/plain": [
              "         bikes  glasses  pants  shirts  shoes  suits  watches\n",
              "store 1     20      NaN     30    15.0      8   45.0       35\n",
              "store 2     15     50.0      5     2.0      5    7.0       10\n",
              "store 3     20      4.0     30     NaN     10    NaN       35"
            ]
          },
          "metadata": {
            "tags": []
          },
          "execution_count": 146
        }
      ]
    },
    {
      "metadata": {
        "id": "PeFAph16B-yW",
        "colab_type": "code",
        "outputId": "9adbfe44-a4a8-4919-c1c5-9b2da30d5258",
        "colab": {
          "base_uri": "https://localhost:8080/",
          "height": 34
        }
      },
      "cell_type": "code",
      "source": [
        "# We count the number of NaN values in store_items\n",
        "x =  store_items.isnull().sum().sum()\n",
        "\n",
        "# We print x\n",
        "print('Number of NaN values in our DataFrame:', x)\n"
      ],
      "execution_count": 147,
      "outputs": [
        {
          "output_type": "stream",
          "text": [
            "Number of NaN values in our DataFrame: 3\n"
          ],
          "name": "stdout"
        }
      ]
    },
    {
      "metadata": {
        "id": "FJamnKeeB09K",
        "colab_type": "text"
      },
      "cell_type": "markdown",
      "source": [
        "`.sum() `\n",
        "\n",
        "In order to count the total number of logical True values we use the `.sum() ` method twice. \n",
        "\n",
        "We have to use it twice because the first sum returns a Pandas Series with the sums of logical True values along columns\n",
        "\n",
        "\n",
        "`.count()`\n",
        "\n",
        "Count the number of non-NaN values by using "
      ]
    },
    {
      "metadata": {
        "id": "UYmUmCO8C-vh",
        "colab_type": "code",
        "outputId": "35328302-4a51-481d-f4c0-34706c2622d9",
        "colab": {
          "base_uri": "https://localhost:8080/",
          "height": 170
        }
      },
      "cell_type": "code",
      "source": [
        "print('Number of non-NaN values in the columns of our DataFrame:\\n', store_items.count())"
      ],
      "execution_count": 148,
      "outputs": [
        {
          "output_type": "stream",
          "text": [
            "Number of non-NaN values in the columns of our DataFrame:\n",
            " bikes      3\n",
            "glasses    2\n",
            "pants      3\n",
            "shirts     2\n",
            "shoes      3\n",
            "suits      2\n",
            "watches    3\n",
            "dtype: int64\n"
          ],
          "name": "stdout"
        }
      ]
    },
    {
      "metadata": {
        "id": "IC6CJx82DL3A",
        "colab_type": "text"
      },
      "cell_type": "markdown",
      "source": [
        "`.dropna(axis)` \n",
        "\n",
        "eliminates any rows / columns with NaN values "
      ]
    },
    {
      "metadata": {
        "id": "JVP40FqZDRxS",
        "colab_type": "code",
        "outputId": "58e32fb0-b24c-4697-b385-e25842496ea8",
        "colab": {
          "base_uri": "https://localhost:8080/",
          "height": 142
        }
      },
      "cell_type": "code",
      "source": [
        "# drop any rows with NaN values\n",
        "store_items.dropna(axis = 0)\n",
        "store_items.dropna(axis = 1) # drop columns"
      ],
      "execution_count": 149,
      "outputs": [
        {
          "output_type": "execute_result",
          "data": {
            "text/html": [
              "<div>\n",
              "<style scoped>\n",
              "    .dataframe tbody tr th:only-of-type {\n",
              "        vertical-align: middle;\n",
              "    }\n",
              "\n",
              "    .dataframe tbody tr th {\n",
              "        vertical-align: top;\n",
              "    }\n",
              "\n",
              "    .dataframe thead th {\n",
              "        text-align: right;\n",
              "    }\n",
              "</style>\n",
              "<table border=\"1\" class=\"dataframe\">\n",
              "  <thead>\n",
              "    <tr style=\"text-align: right;\">\n",
              "      <th></th>\n",
              "      <th>bikes</th>\n",
              "      <th>pants</th>\n",
              "      <th>shoes</th>\n",
              "      <th>watches</th>\n",
              "    </tr>\n",
              "  </thead>\n",
              "  <tbody>\n",
              "    <tr>\n",
              "      <th>store 1</th>\n",
              "      <td>20</td>\n",
              "      <td>30</td>\n",
              "      <td>8</td>\n",
              "      <td>35</td>\n",
              "    </tr>\n",
              "    <tr>\n",
              "      <th>store 2</th>\n",
              "      <td>15</td>\n",
              "      <td>5</td>\n",
              "      <td>5</td>\n",
              "      <td>10</td>\n",
              "    </tr>\n",
              "    <tr>\n",
              "      <th>store 3</th>\n",
              "      <td>20</td>\n",
              "      <td>30</td>\n",
              "      <td>10</td>\n",
              "      <td>35</td>\n",
              "    </tr>\n",
              "  </tbody>\n",
              "</table>\n",
              "</div>"
            ],
            "text/plain": [
              "         bikes  pants  shoes  watches\n",
              "store 1     20     30      8       35\n",
              "store 2     15      5      5       10\n",
              "store 3     20     30     10       35"
            ]
          },
          "metadata": {
            "tags": []
          },
          "execution_count": 149
        }
      ]
    },
    {
      "metadata": {
        "id": "ce8n8Tn5HAEv",
        "colab_type": "text"
      },
      "cell_type": "markdown",
      "source": [
        "`.fillna() `\n",
        "\n",
        "replaces (fills) the NaN values out of place. \n",
        "\n",
        "Replace the NaN values in place by setting the keyword` inplace = True` inside the `fillna()` function."
      ]
    },
    {
      "metadata": {
        "id": "4ziY0pQzDjJo",
        "colab_type": "code",
        "outputId": "eec91a10-fb61-496a-c187-492885d11712",
        "colab": {
          "base_uri": "https://localhost:8080/",
          "height": 142
        }
      },
      "cell_type": "code",
      "source": [
        "# We replace all NaN values with 0\n",
        "store_items.fillna(0)"
      ],
      "execution_count": 150,
      "outputs": [
        {
          "output_type": "execute_result",
          "data": {
            "text/html": [
              "<div>\n",
              "<style scoped>\n",
              "    .dataframe tbody tr th:only-of-type {\n",
              "        vertical-align: middle;\n",
              "    }\n",
              "\n",
              "    .dataframe tbody tr th {\n",
              "        vertical-align: top;\n",
              "    }\n",
              "\n",
              "    .dataframe thead th {\n",
              "        text-align: right;\n",
              "    }\n",
              "</style>\n",
              "<table border=\"1\" class=\"dataframe\">\n",
              "  <thead>\n",
              "    <tr style=\"text-align: right;\">\n",
              "      <th></th>\n",
              "      <th>bikes</th>\n",
              "      <th>glasses</th>\n",
              "      <th>pants</th>\n",
              "      <th>shirts</th>\n",
              "      <th>shoes</th>\n",
              "      <th>suits</th>\n",
              "      <th>watches</th>\n",
              "    </tr>\n",
              "  </thead>\n",
              "  <tbody>\n",
              "    <tr>\n",
              "      <th>store 1</th>\n",
              "      <td>20</td>\n",
              "      <td>0.0</td>\n",
              "      <td>30</td>\n",
              "      <td>15.0</td>\n",
              "      <td>8</td>\n",
              "      <td>45.0</td>\n",
              "      <td>35</td>\n",
              "    </tr>\n",
              "    <tr>\n",
              "      <th>store 2</th>\n",
              "      <td>15</td>\n",
              "      <td>50.0</td>\n",
              "      <td>5</td>\n",
              "      <td>2.0</td>\n",
              "      <td>5</td>\n",
              "      <td>7.0</td>\n",
              "      <td>10</td>\n",
              "    </tr>\n",
              "    <tr>\n",
              "      <th>store 3</th>\n",
              "      <td>20</td>\n",
              "      <td>4.0</td>\n",
              "      <td>30</td>\n",
              "      <td>0.0</td>\n",
              "      <td>10</td>\n",
              "      <td>0.0</td>\n",
              "      <td>35</td>\n",
              "    </tr>\n",
              "  </tbody>\n",
              "</table>\n",
              "</div>"
            ],
            "text/plain": [
              "         bikes  glasses  pants  shirts  shoes  suits  watches\n",
              "store 1     20      0.0     30    15.0      8   45.0       35\n",
              "store 2     15     50.0      5     2.0      5    7.0       10\n",
              "store 3     20      4.0     30     0.0     10    0.0       35"
            ]
          },
          "metadata": {
            "tags": []
          },
          "execution_count": 150
        }
      ]
    },
    {
      "metadata": {
        "id": "0brj6a_DDveB",
        "colab_type": "text"
      },
      "cell_type": "markdown",
      "source": [
        "**Forward filling:**\n",
        " \n",
        " We can also use the` .fillna()` method \n",
        " \n",
        " to replace `NaN` values with previous values in the DataFrame.\n",
        "\n",
        "When replacing NaN values with forward filling, we can use previous values taken from columns or rows. \n",
        "\n",
        "The` .fillna(method = 'ffill', axis)` will use the forward filling (`ffill`) method to replace NaN values using the previous known value along the given axis."
      ]
    },
    {
      "metadata": {
        "id": "9eYrQ6YUEGre",
        "colab_type": "code",
        "outputId": "768c732b-f99b-4a6e-cb24-8ace1a58ed2a",
        "colab": {
          "base_uri": "https://localhost:8080/",
          "height": 142
        }
      },
      "cell_type": "code",
      "source": [
        "# replace NaN values with the previous value in the column\n",
        "store_items.fillna(method = 'ffill', axis = 0)\n",
        "# store1 NaN will not get replaced. That's because there are no previous values in this column. \n",
        "# forward fill using the previous row values, this won't happen"
      ],
      "execution_count": 151,
      "outputs": [
        {
          "output_type": "execute_result",
          "data": {
            "text/html": [
              "<div>\n",
              "<style scoped>\n",
              "    .dataframe tbody tr th:only-of-type {\n",
              "        vertical-align: middle;\n",
              "    }\n",
              "\n",
              "    .dataframe tbody tr th {\n",
              "        vertical-align: top;\n",
              "    }\n",
              "\n",
              "    .dataframe thead th {\n",
              "        text-align: right;\n",
              "    }\n",
              "</style>\n",
              "<table border=\"1\" class=\"dataframe\">\n",
              "  <thead>\n",
              "    <tr style=\"text-align: right;\">\n",
              "      <th></th>\n",
              "      <th>bikes</th>\n",
              "      <th>glasses</th>\n",
              "      <th>pants</th>\n",
              "      <th>shirts</th>\n",
              "      <th>shoes</th>\n",
              "      <th>suits</th>\n",
              "      <th>watches</th>\n",
              "    </tr>\n",
              "  </thead>\n",
              "  <tbody>\n",
              "    <tr>\n",
              "      <th>store 1</th>\n",
              "      <td>20</td>\n",
              "      <td>NaN</td>\n",
              "      <td>30</td>\n",
              "      <td>15.0</td>\n",
              "      <td>8</td>\n",
              "      <td>45.0</td>\n",
              "      <td>35</td>\n",
              "    </tr>\n",
              "    <tr>\n",
              "      <th>store 2</th>\n",
              "      <td>15</td>\n",
              "      <td>50.0</td>\n",
              "      <td>5</td>\n",
              "      <td>2.0</td>\n",
              "      <td>5</td>\n",
              "      <td>7.0</td>\n",
              "      <td>10</td>\n",
              "    </tr>\n",
              "    <tr>\n",
              "      <th>store 3</th>\n",
              "      <td>20</td>\n",
              "      <td>4.0</td>\n",
              "      <td>30</td>\n",
              "      <td>2.0</td>\n",
              "      <td>10</td>\n",
              "      <td>7.0</td>\n",
              "      <td>35</td>\n",
              "    </tr>\n",
              "  </tbody>\n",
              "</table>\n",
              "</div>"
            ],
            "text/plain": [
              "         bikes  glasses  pants  shirts  shoes  suits  watches\n",
              "store 1     20      NaN     30    15.0      8   45.0       35\n",
              "store 2     15     50.0      5     2.0      5    7.0       10\n",
              "store 3     20      4.0     30     2.0     10    7.0       35"
            ]
          },
          "metadata": {
            "tags": []
          },
          "execution_count": 151
        }
      ]
    },
    {
      "metadata": {
        "id": "aDT7z9h9FEdX",
        "colab_type": "code",
        "outputId": "011a0ae0-337f-472c-b6df-bce6d3e8ca95",
        "colab": {
          "base_uri": "https://localhost:8080/",
          "height": 142
        }
      },
      "cell_type": "code",
      "source": [
        "# replace NaN values with the previous value in the row\n",
        "store_items.fillna(method = 'ffill', axis = 1)"
      ],
      "execution_count": 152,
      "outputs": [
        {
          "output_type": "execute_result",
          "data": {
            "text/html": [
              "<div>\n",
              "<style scoped>\n",
              "    .dataframe tbody tr th:only-of-type {\n",
              "        vertical-align: middle;\n",
              "    }\n",
              "\n",
              "    .dataframe tbody tr th {\n",
              "        vertical-align: top;\n",
              "    }\n",
              "\n",
              "    .dataframe thead th {\n",
              "        text-align: right;\n",
              "    }\n",
              "</style>\n",
              "<table border=\"1\" class=\"dataframe\">\n",
              "  <thead>\n",
              "    <tr style=\"text-align: right;\">\n",
              "      <th></th>\n",
              "      <th>bikes</th>\n",
              "      <th>glasses</th>\n",
              "      <th>pants</th>\n",
              "      <th>shirts</th>\n",
              "      <th>shoes</th>\n",
              "      <th>suits</th>\n",
              "      <th>watches</th>\n",
              "    </tr>\n",
              "  </thead>\n",
              "  <tbody>\n",
              "    <tr>\n",
              "      <th>store 1</th>\n",
              "      <td>20.0</td>\n",
              "      <td>20.0</td>\n",
              "      <td>30.0</td>\n",
              "      <td>15.0</td>\n",
              "      <td>8.0</td>\n",
              "      <td>45.0</td>\n",
              "      <td>35.0</td>\n",
              "    </tr>\n",
              "    <tr>\n",
              "      <th>store 2</th>\n",
              "      <td>15.0</td>\n",
              "      <td>50.0</td>\n",
              "      <td>5.0</td>\n",
              "      <td>2.0</td>\n",
              "      <td>5.0</td>\n",
              "      <td>7.0</td>\n",
              "      <td>10.0</td>\n",
              "    </tr>\n",
              "    <tr>\n",
              "      <th>store 3</th>\n",
              "      <td>20.0</td>\n",
              "      <td>4.0</td>\n",
              "      <td>30.0</td>\n",
              "      <td>30.0</td>\n",
              "      <td>10.0</td>\n",
              "      <td>10.0</td>\n",
              "      <td>35.0</td>\n",
              "    </tr>\n",
              "  </tbody>\n",
              "</table>\n",
              "</div>"
            ],
            "text/plain": [
              "         bikes  glasses  pants  shirts  shoes  suits  watches\n",
              "store 1   20.0     20.0   30.0    15.0    8.0   45.0     35.0\n",
              "store 2   15.0     50.0    5.0     2.0    5.0    7.0     10.0\n",
              "store 3   20.0      4.0   30.0    30.0   10.0   10.0     35.0"
            ]
          },
          "metadata": {
            "tags": []
          },
          "execution_count": 152
        }
      ]
    },
    {
      "metadata": {
        "id": "X0rq3t6vGF1M",
        "colab_type": "text"
      },
      "cell_type": "markdown",
      "source": [
        "**Backward filling. **\n",
        "\n",
        "The `.fillna(method = 'backfill', axis)` \n",
        "\n",
        "will use the backward filling (backfill) method to replace NaN values using the next known value along the given axis. Just like with forward filling we can choose to use row or column values"
      ]
    },
    {
      "metadata": {
        "id": "GlHMprfCGWre",
        "colab_type": "code",
        "outputId": "104775cc-68de-4031-e42e-a2e11427cf6e",
        "colab": {
          "base_uri": "https://localhost:8080/",
          "height": 142
        }
      },
      "cell_type": "code",
      "source": [
        "# replace NaN values with the next value in the column\n",
        "store_items.fillna(method = 'backfill', axis = 0)"
      ],
      "execution_count": 153,
      "outputs": [
        {
          "output_type": "execute_result",
          "data": {
            "text/html": [
              "<div>\n",
              "<style scoped>\n",
              "    .dataframe tbody tr th:only-of-type {\n",
              "        vertical-align: middle;\n",
              "    }\n",
              "\n",
              "    .dataframe tbody tr th {\n",
              "        vertical-align: top;\n",
              "    }\n",
              "\n",
              "    .dataframe thead th {\n",
              "        text-align: right;\n",
              "    }\n",
              "</style>\n",
              "<table border=\"1\" class=\"dataframe\">\n",
              "  <thead>\n",
              "    <tr style=\"text-align: right;\">\n",
              "      <th></th>\n",
              "      <th>bikes</th>\n",
              "      <th>glasses</th>\n",
              "      <th>pants</th>\n",
              "      <th>shirts</th>\n",
              "      <th>shoes</th>\n",
              "      <th>suits</th>\n",
              "      <th>watches</th>\n",
              "    </tr>\n",
              "  </thead>\n",
              "  <tbody>\n",
              "    <tr>\n",
              "      <th>store 1</th>\n",
              "      <td>20</td>\n",
              "      <td>50.0</td>\n",
              "      <td>30</td>\n",
              "      <td>15.0</td>\n",
              "      <td>8</td>\n",
              "      <td>45.0</td>\n",
              "      <td>35</td>\n",
              "    </tr>\n",
              "    <tr>\n",
              "      <th>store 2</th>\n",
              "      <td>15</td>\n",
              "      <td>50.0</td>\n",
              "      <td>5</td>\n",
              "      <td>2.0</td>\n",
              "      <td>5</td>\n",
              "      <td>7.0</td>\n",
              "      <td>10</td>\n",
              "    </tr>\n",
              "    <tr>\n",
              "      <th>store 3</th>\n",
              "      <td>20</td>\n",
              "      <td>4.0</td>\n",
              "      <td>30</td>\n",
              "      <td>NaN</td>\n",
              "      <td>10</td>\n",
              "      <td>NaN</td>\n",
              "      <td>35</td>\n",
              "    </tr>\n",
              "  </tbody>\n",
              "</table>\n",
              "</div>"
            ],
            "text/plain": [
              "         bikes  glasses  pants  shirts  shoes  suits  watches\n",
              "store 1     20     50.0     30    15.0      8   45.0       35\n",
              "store 2     15     50.0      5     2.0      5    7.0       10\n",
              "store 3     20      4.0     30     NaN     10    NaN       35"
            ]
          },
          "metadata": {
            "tags": []
          },
          "execution_count": 153
        }
      ]
    },
    {
      "metadata": {
        "id": "x8RpeI7DGepI",
        "colab_type": "text"
      },
      "cell_type": "markdown",
      "source": [
        "Two NaN values in store 3 didn't get replaced, because there are no next values in these columns, \n",
        "\n",
        "If we do backward fill using the next row values, this won't happen"
      ]
    },
    {
      "metadata": {
        "id": "0L1kJmS1GnGW",
        "colab_type": "code",
        "outputId": "5c452eef-7a5e-433d-9604-b1791155116d",
        "colab": {
          "base_uri": "https://localhost:8080/",
          "height": 142
        }
      },
      "cell_type": "code",
      "source": [
        "# replace NaN values with the next value in the row\n",
        "store_items.fillna(method = 'backfill', axis = 1)"
      ],
      "execution_count": 154,
      "outputs": [
        {
          "output_type": "execute_result",
          "data": {
            "text/html": [
              "<div>\n",
              "<style scoped>\n",
              "    .dataframe tbody tr th:only-of-type {\n",
              "        vertical-align: middle;\n",
              "    }\n",
              "\n",
              "    .dataframe tbody tr th {\n",
              "        vertical-align: top;\n",
              "    }\n",
              "\n",
              "    .dataframe thead th {\n",
              "        text-align: right;\n",
              "    }\n",
              "</style>\n",
              "<table border=\"1\" class=\"dataframe\">\n",
              "  <thead>\n",
              "    <tr style=\"text-align: right;\">\n",
              "      <th></th>\n",
              "      <th>bikes</th>\n",
              "      <th>glasses</th>\n",
              "      <th>pants</th>\n",
              "      <th>shirts</th>\n",
              "      <th>shoes</th>\n",
              "      <th>suits</th>\n",
              "      <th>watches</th>\n",
              "    </tr>\n",
              "  </thead>\n",
              "  <tbody>\n",
              "    <tr>\n",
              "      <th>store 1</th>\n",
              "      <td>20.0</td>\n",
              "      <td>30.0</td>\n",
              "      <td>30.0</td>\n",
              "      <td>15.0</td>\n",
              "      <td>8.0</td>\n",
              "      <td>45.0</td>\n",
              "      <td>35.0</td>\n",
              "    </tr>\n",
              "    <tr>\n",
              "      <th>store 2</th>\n",
              "      <td>15.0</td>\n",
              "      <td>50.0</td>\n",
              "      <td>5.0</td>\n",
              "      <td>2.0</td>\n",
              "      <td>5.0</td>\n",
              "      <td>7.0</td>\n",
              "      <td>10.0</td>\n",
              "    </tr>\n",
              "    <tr>\n",
              "      <th>store 3</th>\n",
              "      <td>20.0</td>\n",
              "      <td>4.0</td>\n",
              "      <td>30.0</td>\n",
              "      <td>10.0</td>\n",
              "      <td>10.0</td>\n",
              "      <td>35.0</td>\n",
              "      <td>35.0</td>\n",
              "    </tr>\n",
              "  </tbody>\n",
              "</table>\n",
              "</div>"
            ],
            "text/plain": [
              "         bikes  glasses  pants  shirts  shoes  suits  watches\n",
              "store 1   20.0     30.0   30.0    15.0    8.0   45.0     35.0\n",
              "store 2   15.0     50.0    5.0     2.0    5.0    7.0     10.0\n",
              "store 3   20.0      4.0   30.0    10.0   10.0   35.0     35.0"
            ]
          },
          "metadata": {
            "tags": []
          },
          "execution_count": 154
        }
      ]
    },
    {
      "metadata": {
        "id": "aCpSZuxWHPwn",
        "colab_type": "text"
      },
      "cell_type": "markdown",
      "source": [
        "Replace `NaN` values by using different **interpolation methods. **\n",
        "\n",
        "For example, the\n",
        "\n",
        "` .interpolate(method = 'linear', axis)` \n",
        "\n",
        "method will use linear interpolation to replace NaN values using the values along the given axis."
      ]
    },
    {
      "metadata": {
        "id": "XCP3is6SHZn0",
        "colab_type": "code",
        "outputId": "6c6dfb3e-d523-4ee1-ede4-6849ea17792b",
        "colab": {
          "base_uri": "https://localhost:8080/",
          "height": 142
        }
      },
      "cell_type": "code",
      "source": [
        "# replace NaN values by using linear interpolation using column values\n",
        "store_items.interpolate(method = 'linear', axis = 0)"
      ],
      "execution_count": 155,
      "outputs": [
        {
          "output_type": "execute_result",
          "data": {
            "text/html": [
              "<div>\n",
              "<style scoped>\n",
              "    .dataframe tbody tr th:only-of-type {\n",
              "        vertical-align: middle;\n",
              "    }\n",
              "\n",
              "    .dataframe tbody tr th {\n",
              "        vertical-align: top;\n",
              "    }\n",
              "\n",
              "    .dataframe thead th {\n",
              "        text-align: right;\n",
              "    }\n",
              "</style>\n",
              "<table border=\"1\" class=\"dataframe\">\n",
              "  <thead>\n",
              "    <tr style=\"text-align: right;\">\n",
              "      <th></th>\n",
              "      <th>bikes</th>\n",
              "      <th>glasses</th>\n",
              "      <th>pants</th>\n",
              "      <th>shirts</th>\n",
              "      <th>shoes</th>\n",
              "      <th>suits</th>\n",
              "      <th>watches</th>\n",
              "    </tr>\n",
              "  </thead>\n",
              "  <tbody>\n",
              "    <tr>\n",
              "      <th>store 1</th>\n",
              "      <td>20</td>\n",
              "      <td>NaN</td>\n",
              "      <td>30</td>\n",
              "      <td>15.0</td>\n",
              "      <td>8</td>\n",
              "      <td>45.0</td>\n",
              "      <td>35</td>\n",
              "    </tr>\n",
              "    <tr>\n",
              "      <th>store 2</th>\n",
              "      <td>15</td>\n",
              "      <td>50.0</td>\n",
              "      <td>5</td>\n",
              "      <td>2.0</td>\n",
              "      <td>5</td>\n",
              "      <td>7.0</td>\n",
              "      <td>10</td>\n",
              "    </tr>\n",
              "    <tr>\n",
              "      <th>store 3</th>\n",
              "      <td>20</td>\n",
              "      <td>4.0</td>\n",
              "      <td>30</td>\n",
              "      <td>2.0</td>\n",
              "      <td>10</td>\n",
              "      <td>7.0</td>\n",
              "      <td>35</td>\n",
              "    </tr>\n",
              "  </tbody>\n",
              "</table>\n",
              "</div>"
            ],
            "text/plain": [
              "         bikes  glasses  pants  shirts  shoes  suits  watches\n",
              "store 1     20      NaN     30    15.0      8   45.0       35\n",
              "store 2     15     50.0      5     2.0      5    7.0       10\n",
              "store 3     20      4.0     30     2.0     10    7.0       35"
            ]
          },
          "metadata": {
            "tags": []
          },
          "execution_count": 155
        }
      ]
    },
    {
      "metadata": {
        "id": "-hZZz2JNHkOR",
        "colab_type": "code",
        "outputId": "6abcd7f7-23c9-4c33-bbdd-abde21e714e2",
        "colab": {
          "base_uri": "https://localhost:8080/",
          "height": 142
        }
      },
      "cell_type": "code",
      "source": [
        "# replace NaN values by using linear interpolation using row values\n",
        "store_items.interpolate(method = 'linear', axis = 1)"
      ],
      "execution_count": 156,
      "outputs": [
        {
          "output_type": "execute_result",
          "data": {
            "text/html": [
              "<div>\n",
              "<style scoped>\n",
              "    .dataframe tbody tr th:only-of-type {\n",
              "        vertical-align: middle;\n",
              "    }\n",
              "\n",
              "    .dataframe tbody tr th {\n",
              "        vertical-align: top;\n",
              "    }\n",
              "\n",
              "    .dataframe thead th {\n",
              "        text-align: right;\n",
              "    }\n",
              "</style>\n",
              "<table border=\"1\" class=\"dataframe\">\n",
              "  <thead>\n",
              "    <tr style=\"text-align: right;\">\n",
              "      <th></th>\n",
              "      <th>bikes</th>\n",
              "      <th>glasses</th>\n",
              "      <th>pants</th>\n",
              "      <th>shirts</th>\n",
              "      <th>shoes</th>\n",
              "      <th>suits</th>\n",
              "      <th>watches</th>\n",
              "    </tr>\n",
              "  </thead>\n",
              "  <tbody>\n",
              "    <tr>\n",
              "      <th>store 1</th>\n",
              "      <td>20.0</td>\n",
              "      <td>25.0</td>\n",
              "      <td>30.0</td>\n",
              "      <td>15.0</td>\n",
              "      <td>8.0</td>\n",
              "      <td>45.0</td>\n",
              "      <td>35.0</td>\n",
              "    </tr>\n",
              "    <tr>\n",
              "      <th>store 2</th>\n",
              "      <td>15.0</td>\n",
              "      <td>50.0</td>\n",
              "      <td>5.0</td>\n",
              "      <td>2.0</td>\n",
              "      <td>5.0</td>\n",
              "      <td>7.0</td>\n",
              "      <td>10.0</td>\n",
              "    </tr>\n",
              "    <tr>\n",
              "      <th>store 3</th>\n",
              "      <td>20.0</td>\n",
              "      <td>4.0</td>\n",
              "      <td>30.0</td>\n",
              "      <td>20.0</td>\n",
              "      <td>10.0</td>\n",
              "      <td>22.5</td>\n",
              "      <td>35.0</td>\n",
              "    </tr>\n",
              "  </tbody>\n",
              "</table>\n",
              "</div>"
            ],
            "text/plain": [
              "         bikes  glasses  pants  shirts  shoes  suits  watches\n",
              "store 1   20.0     25.0   30.0    15.0    8.0   45.0     35.0\n",
              "store 2   15.0     50.0    5.0     2.0    5.0    7.0     10.0\n",
              "store 3   20.0      4.0   30.0    20.0   10.0   22.5     35.0"
            ]
          },
          "metadata": {
            "tags": []
          },
          "execution_count": 156
        }
      ]
    },
    {
      "metadata": {
        "id": "xnsmgNGhI151",
        "colab_type": "text"
      },
      "cell_type": "markdown",
      "source": [
        "# Exercise"
      ]
    },
    {
      "metadata": {
        "id": "WKSaCWdVI4xM",
        "colab_type": "code",
        "outputId": "472c5500-9cfc-4202-a62b-5e03560e07fb",
        "colab": {
          "base_uri": "https://localhost:8080/",
          "height": 411
        }
      },
      "cell_type": "code",
      "source": [
        "# Since we will be working with ratings, we will set the precision of our \n",
        "# dataframes to one decimal place.\n",
        "pd.set_option('precision', 1)\n",
        "\n",
        "# Create a Pandas DataFrame that contains the ratings some users have given to a\n",
        "# series of books. The ratings given are in the range from 1 to 5, with 5 being\n",
        "# the best score. The names of the books, the authors, and the ratings of each user\n",
        "# are given below:\n",
        "\n",
        "books = pd.Series(data = ['Great Expectations', 'Of Mice and Men', 'Romeo and Juliet', 'The Time Machine', 'Alice in Wonderland' ])\n",
        "authors = pd.Series(data = ['Charles Dickens', 'John Steinbeck', 'William Shakespeare', ' H. G. Wells', 'Lewis Carroll' ])\n",
        "\n",
        "user_1 = pd.Series(data = [3.2, np.nan ,2.5])\n",
        "user_2 = pd.Series(data = [5., 1.3, 4.0, 3.8])\n",
        "user_3 = pd.Series(data = [2.0, 2.3, np.nan, 4])\n",
        "user_4 = pd.Series(data = [4, 3.5, 4, 5, 4.2])\n",
        "\n",
        "# Users that have np.nan values means that the user has not yet rated that book.\n",
        "# Use the data above to create a Pandas DataFrame that has the following column\n",
        "# labels: 'Author', 'Book Title', 'User 1', 'User 2', 'User 3', 'User 4'. Let Pandas\n",
        "# automatically assign numerical row indices to the DataFrame. \n",
        "\n",
        "# Create a dictionary with the data given above\n",
        "dat = {'Author': authors,\n",
        "      'Title': books,\n",
        "      'User1': user_1,\n",
        "      'User2': user_2,\n",
        "      'User3': user_3}\n",
        "\n",
        "# Use the dictionary to create a Pandas DataFrame\n",
        "book_ratings = pd.DataFrame(dat)\n",
        "\n",
        "# If you created the dictionary correctly you should have a Pandas DataFrame\n",
        "# that has column labels: 'Author', 'Book Title', 'User 1', 'User 2', 'User 3',\n",
        "# 'User 4' and row indices 0 through 4.\n",
        "print(book_ratings)\n",
        "\n",
        "# Now replace all the NaN values in your DataFrame with the average rating in\n",
        "# each column. Replace the NaN values in place. HINT: you can use the fillna()\n",
        "# function with the keyword inplace = True, to do this.\n",
        "\n",
        "#book_ratings.fillna(method='ffill', axis=0)\n",
        "#book_ratings.fillna(book_ratings.mean(), inplace=True)\n",
        "book_ratings.fillna(book_ratings.mean(), inplace=False)"
      ],
      "execution_count": 157,
      "outputs": [
        {
          "output_type": "stream",
          "text": [
            "                Author                Title  User1  User2  User3\n",
            "0      Charles Dickens   Great Expectations    3.2    5.0    2.0\n",
            "1       John Steinbeck      Of Mice and Men    NaN    1.3    2.3\n",
            "2  William Shakespeare     Romeo and Juliet    2.5    4.0    NaN\n",
            "3          H. G. Wells     The Time Machine    NaN    3.8    4.0\n",
            "4        Lewis Carroll  Alice in Wonderland    NaN    NaN    NaN\n"
          ],
          "name": "stdout"
        },
        {
          "output_type": "execute_result",
          "data": {
            "text/html": [
              "<div>\n",
              "<style scoped>\n",
              "    .dataframe tbody tr th:only-of-type {\n",
              "        vertical-align: middle;\n",
              "    }\n",
              "\n",
              "    .dataframe tbody tr th {\n",
              "        vertical-align: top;\n",
              "    }\n",
              "\n",
              "    .dataframe thead th {\n",
              "        text-align: right;\n",
              "    }\n",
              "</style>\n",
              "<table border=\"1\" class=\"dataframe\">\n",
              "  <thead>\n",
              "    <tr style=\"text-align: right;\">\n",
              "      <th></th>\n",
              "      <th>Author</th>\n",
              "      <th>Title</th>\n",
              "      <th>User1</th>\n",
              "      <th>User2</th>\n",
              "      <th>User3</th>\n",
              "    </tr>\n",
              "  </thead>\n",
              "  <tbody>\n",
              "    <tr>\n",
              "      <th>0</th>\n",
              "      <td>Charles Dickens</td>\n",
              "      <td>Great Expectations</td>\n",
              "      <td>3.2</td>\n",
              "      <td>5.0</td>\n",
              "      <td>2.0</td>\n",
              "    </tr>\n",
              "    <tr>\n",
              "      <th>1</th>\n",
              "      <td>John Steinbeck</td>\n",
              "      <td>Of Mice and Men</td>\n",
              "      <td>2.9</td>\n",
              "      <td>1.3</td>\n",
              "      <td>2.3</td>\n",
              "    </tr>\n",
              "    <tr>\n",
              "      <th>2</th>\n",
              "      <td>William Shakespeare</td>\n",
              "      <td>Romeo and Juliet</td>\n",
              "      <td>2.5</td>\n",
              "      <td>4.0</td>\n",
              "      <td>2.8</td>\n",
              "    </tr>\n",
              "    <tr>\n",
              "      <th>3</th>\n",
              "      <td>H. G. Wells</td>\n",
              "      <td>The Time Machine</td>\n",
              "      <td>2.9</td>\n",
              "      <td>3.8</td>\n",
              "      <td>4.0</td>\n",
              "    </tr>\n",
              "    <tr>\n",
              "      <th>4</th>\n",
              "      <td>Lewis Carroll</td>\n",
              "      <td>Alice in Wonderland</td>\n",
              "      <td>2.9</td>\n",
              "      <td>3.5</td>\n",
              "      <td>2.8</td>\n",
              "    </tr>\n",
              "  </tbody>\n",
              "</table>\n",
              "</div>"
            ],
            "text/plain": [
              "                Author                Title  User1  User2  User3\n",
              "0      Charles Dickens   Great Expectations    3.2    5.0    2.0\n",
              "1       John Steinbeck      Of Mice and Men    2.9    1.3    2.3\n",
              "2  William Shakespeare     Romeo and Juliet    2.5    4.0    2.8\n",
              "3          H. G. Wells     The Time Machine    2.9    3.8    4.0\n",
              "4        Lewis Carroll  Alice in Wonderland    2.9    3.5    2.8"
            ]
          },
          "metadata": {
            "tags": []
          },
          "execution_count": 157
        }
      ]
    },
    {
      "metadata": {
        "id": "8nepgNyOLSPa",
        "colab_type": "text"
      },
      "cell_type": "markdown",
      "source": [
        "# Loading Data into a pandas DataFrame"
      ]
    },
    {
      "metadata": {
        "id": "ZdpoFptJLhYi",
        "colab_type": "text"
      },
      "cell_type": "markdown",
      "source": [
        " load CSV files into Pandas DataFrames using the `pd.read_csv()` function.\n",
        " \n",
        " "
      ]
    },
    {
      "metadata": {
        "id": "Fzg7NXGqLxtf",
        "colab_type": "code",
        "outputId": "ae412e08-f8e2-4a6c-add1-3b2d1109a97b",
        "colab": {
          "base_uri": "https://localhost:8080/",
          "height": 71
        }
      },
      "cell_type": "code",
      "source": [
        "# We load Google stock data in a DataFrame\n",
        "test_stock = pd.read_csv('sample_data/california_housing_test.csv')\n",
        "\n",
        "# We print some information about Google_stock\n",
        "print('test_stock is of type:', type(test_stock))\n",
        "print('test_stock has shape:', test_stock.shape)\n"
      ],
      "execution_count": 158,
      "outputs": [
        {
          "output_type": "stream",
          "text": [
            "test_stock is of type: <class 'pandas.core.frame.DataFrame'>\n",
            "test_stock has shape: (3000, 9)\n"
          ],
          "name": "stdout"
        }
      ]
    },
    {
      "metadata": {
        "id": "8gVa0blWNmqD",
        "colab_type": "text"
      },
      "cell_type": "markdown",
      "source": [
        "  `.head() ` or  `.head(N)`\n",
        "  \n",
        "  take a look at the first 5 or N  rows of data\n",
        "  \n",
        "  `.tail()` or `.tail(N)`\n",
        "\n",
        " take a look at the last 5 or N rows of data\n",
        "  "
      ]
    },
    {
      "metadata": {
        "id": "h52PktGqNkD2",
        "colab_type": "code",
        "colab": {
          "base_uri": "https://localhost:8080/",
          "height": 162
        },
        "outputId": "4cbd4381-1236-4d69-aa86-5aa9211fcf62"
      },
      "cell_type": "code",
      "source": [
        "#  take a look at the first 5 rows of data using the .head() method\n",
        "test_stock.head()\n",
        "test_stock.tail(3)"
      ],
      "execution_count": 159,
      "outputs": [
        {
          "output_type": "execute_result",
          "data": {
            "text/html": [
              "<div>\n",
              "<style scoped>\n",
              "    .dataframe tbody tr th:only-of-type {\n",
              "        vertical-align: middle;\n",
              "    }\n",
              "\n",
              "    .dataframe tbody tr th {\n",
              "        vertical-align: top;\n",
              "    }\n",
              "\n",
              "    .dataframe thead th {\n",
              "        text-align: right;\n",
              "    }\n",
              "</style>\n",
              "<table border=\"1\" class=\"dataframe\">\n",
              "  <thead>\n",
              "    <tr style=\"text-align: right;\">\n",
              "      <th></th>\n",
              "      <th>longitude</th>\n",
              "      <th>latitude</th>\n",
              "      <th>housing_median_age</th>\n",
              "      <th>total_rooms</th>\n",
              "      <th>total_bedrooms</th>\n",
              "      <th>population</th>\n",
              "      <th>households</th>\n",
              "      <th>median_income</th>\n",
              "      <th>median_house_value</th>\n",
              "    </tr>\n",
              "  </thead>\n",
              "  <tbody>\n",
              "    <tr>\n",
              "      <th>2997</th>\n",
              "      <td>-119.7</td>\n",
              "      <td>36.3</td>\n",
              "      <td>10.0</td>\n",
              "      <td>956.0</td>\n",
              "      <td>201.0</td>\n",
              "      <td>693.0</td>\n",
              "      <td>220.0</td>\n",
              "      <td>2.3</td>\n",
              "      <td>62000.0</td>\n",
              "    </tr>\n",
              "    <tr>\n",
              "      <th>2998</th>\n",
              "      <td>-117.1</td>\n",
              "      <td>34.1</td>\n",
              "      <td>40.0</td>\n",
              "      <td>96.0</td>\n",
              "      <td>14.0</td>\n",
              "      <td>46.0</td>\n",
              "      <td>14.0</td>\n",
              "      <td>3.3</td>\n",
              "      <td>162500.0</td>\n",
              "    </tr>\n",
              "    <tr>\n",
              "      <th>2999</th>\n",
              "      <td>-119.6</td>\n",
              "      <td>34.4</td>\n",
              "      <td>42.0</td>\n",
              "      <td>1765.0</td>\n",
              "      <td>263.0</td>\n",
              "      <td>753.0</td>\n",
              "      <td>260.0</td>\n",
              "      <td>8.6</td>\n",
              "      <td>500001.0</td>\n",
              "    </tr>\n",
              "  </tbody>\n",
              "</table>\n",
              "</div>"
            ],
            "text/plain": [
              "      longitude  latitude  housing_median_age  total_rooms  total_bedrooms  \\\n",
              "2997     -119.7      36.3                10.0        956.0           201.0   \n",
              "2998     -117.1      34.1                40.0         96.0            14.0   \n",
              "2999     -119.6      34.4                42.0       1765.0           263.0   \n",
              "\n",
              "      population  households  median_income  median_house_value  \n",
              "2997       693.0       220.0            2.3             62000.0  \n",
              "2998        46.0        14.0            3.3            162500.0  \n",
              "2999       753.0       260.0            8.6            500001.0  "
            ]
          },
          "metadata": {
            "tags": []
          },
          "execution_count": 159
        }
      ]
    },
    {
      "metadata": {
        "id": "S8S-RI1pOXFy",
        "colab_type": "text"
      },
      "cell_type": "markdown",
      "source": [
        "` .isnull().any()` \n",
        "\n",
        "check whether any of the columns contain NaN values."
      ]
    },
    {
      "metadata": {
        "id": "mBqgjo4OOgLV",
        "colab_type": "code",
        "colab": {
          "base_uri": "https://localhost:8080/",
          "height": 207
        },
        "outputId": "91864ab2-8dae-4658-a4da-a4dc0189acd8"
      },
      "cell_type": "code",
      "source": [
        "test_stock.isnull().any()\n",
        "# we will have no NaN values."
      ],
      "execution_count": 160,
      "outputs": [
        {
          "output_type": "execute_result",
          "data": {
            "text/plain": [
              "longitude             False\n",
              "latitude              False\n",
              "housing_median_age    False\n",
              "total_rooms           False\n",
              "total_bedrooms        False\n",
              "population            False\n",
              "households            False\n",
              "median_income         False\n",
              "median_house_value    False\n",
              "dtype: bool"
            ]
          },
          "metadata": {
            "tags": []
          },
          "execution_count": 160
        }
      ]
    },
    {
      "metadata": {
        "id": "VnNoHZNaOtGx",
        "colab_type": "text"
      },
      "cell_type": "markdown",
      "source": [
        "` .describe() `\n",
        " \n",
        " get descriptive statistics on each column of the DataFrame\n",
        " \n",
        " or on a single column"
      ]
    },
    {
      "metadata": {
        "id": "ZpOhFm6-Ox2V",
        "colab_type": "code",
        "colab": {
          "base_uri": "https://localhost:8080/",
          "height": 317
        },
        "outputId": "8047766d-715d-4851-e02c-3504321d7107"
      },
      "cell_type": "code",
      "source": [
        "test_stock.describe()\n",
        "#test_stock['total_rooms'].describe()"
      ],
      "execution_count": 161,
      "outputs": [
        {
          "output_type": "execute_result",
          "data": {
            "text/html": [
              "<div>\n",
              "<style scoped>\n",
              "    .dataframe tbody tr th:only-of-type {\n",
              "        vertical-align: middle;\n",
              "    }\n",
              "\n",
              "    .dataframe tbody tr th {\n",
              "        vertical-align: top;\n",
              "    }\n",
              "\n",
              "    .dataframe thead th {\n",
              "        text-align: right;\n",
              "    }\n",
              "</style>\n",
              "<table border=\"1\" class=\"dataframe\">\n",
              "  <thead>\n",
              "    <tr style=\"text-align: right;\">\n",
              "      <th></th>\n",
              "      <th>longitude</th>\n",
              "      <th>latitude</th>\n",
              "      <th>housing_median_age</th>\n",
              "      <th>total_rooms</th>\n",
              "      <th>total_bedrooms</th>\n",
              "      <th>population</th>\n",
              "      <th>households</th>\n",
              "      <th>median_income</th>\n",
              "      <th>median_house_value</th>\n",
              "    </tr>\n",
              "  </thead>\n",
              "  <tbody>\n",
              "    <tr>\n",
              "      <th>count</th>\n",
              "      <td>3000.0</td>\n",
              "      <td>3000.0</td>\n",
              "      <td>3000.0</td>\n",
              "      <td>3000.0</td>\n",
              "      <td>3000.0</td>\n",
              "      <td>3000.0</td>\n",
              "      <td>3000.0</td>\n",
              "      <td>3000.0</td>\n",
              "      <td>3000.0</td>\n",
              "    </tr>\n",
              "    <tr>\n",
              "      <th>mean</th>\n",
              "      <td>-119.6</td>\n",
              "      <td>35.6</td>\n",
              "      <td>28.8</td>\n",
              "      <td>2599.6</td>\n",
              "      <td>530.0</td>\n",
              "      <td>1402.8</td>\n",
              "      <td>489.9</td>\n",
              "      <td>3.8</td>\n",
              "      <td>205846.3</td>\n",
              "    </tr>\n",
              "    <tr>\n",
              "      <th>std</th>\n",
              "      <td>2.0</td>\n",
              "      <td>2.1</td>\n",
              "      <td>12.6</td>\n",
              "      <td>2155.6</td>\n",
              "      <td>415.7</td>\n",
              "      <td>1030.5</td>\n",
              "      <td>365.4</td>\n",
              "      <td>1.9</td>\n",
              "      <td>113119.7</td>\n",
              "    </tr>\n",
              "    <tr>\n",
              "      <th>min</th>\n",
              "      <td>-124.2</td>\n",
              "      <td>32.6</td>\n",
              "      <td>1.0</td>\n",
              "      <td>6.0</td>\n",
              "      <td>2.0</td>\n",
              "      <td>5.0</td>\n",
              "      <td>2.0</td>\n",
              "      <td>0.5</td>\n",
              "      <td>22500.0</td>\n",
              "    </tr>\n",
              "    <tr>\n",
              "      <th>25%</th>\n",
              "      <td>-121.8</td>\n",
              "      <td>33.9</td>\n",
              "      <td>18.0</td>\n",
              "      <td>1401.0</td>\n",
              "      <td>291.0</td>\n",
              "      <td>780.0</td>\n",
              "      <td>273.0</td>\n",
              "      <td>2.5</td>\n",
              "      <td>121200.0</td>\n",
              "    </tr>\n",
              "    <tr>\n",
              "      <th>50%</th>\n",
              "      <td>-118.5</td>\n",
              "      <td>34.3</td>\n",
              "      <td>29.0</td>\n",
              "      <td>2106.0</td>\n",
              "      <td>437.0</td>\n",
              "      <td>1155.0</td>\n",
              "      <td>409.5</td>\n",
              "      <td>3.5</td>\n",
              "      <td>177650.0</td>\n",
              "    </tr>\n",
              "    <tr>\n",
              "      <th>75%</th>\n",
              "      <td>-118.0</td>\n",
              "      <td>37.7</td>\n",
              "      <td>37.0</td>\n",
              "      <td>3129.0</td>\n",
              "      <td>636.0</td>\n",
              "      <td>1742.8</td>\n",
              "      <td>597.2</td>\n",
              "      <td>4.7</td>\n",
              "      <td>263975.0</td>\n",
              "    </tr>\n",
              "    <tr>\n",
              "      <th>max</th>\n",
              "      <td>-114.5</td>\n",
              "      <td>41.9</td>\n",
              "      <td>52.0</td>\n",
              "      <td>30450.0</td>\n",
              "      <td>5419.0</td>\n",
              "      <td>11935.0</td>\n",
              "      <td>4930.0</td>\n",
              "      <td>15.0</td>\n",
              "      <td>500001.0</td>\n",
              "    </tr>\n",
              "  </tbody>\n",
              "</table>\n",
              "</div>"
            ],
            "text/plain": [
              "       longitude  latitude  housing_median_age  total_rooms  total_bedrooms  \\\n",
              "count     3000.0    3000.0              3000.0       3000.0          3000.0   \n",
              "mean      -119.6      35.6                28.8       2599.6           530.0   \n",
              "std          2.0       2.1                12.6       2155.6           415.7   \n",
              "min       -124.2      32.6                 1.0          6.0             2.0   \n",
              "25%       -121.8      33.9                18.0       1401.0           291.0   \n",
              "50%       -118.5      34.3                29.0       2106.0           437.0   \n",
              "75%       -118.0      37.7                37.0       3129.0           636.0   \n",
              "max       -114.5      41.9                52.0      30450.0          5419.0   \n",
              "\n",
              "       population  households  median_income  median_house_value  \n",
              "count      3000.0      3000.0         3000.0              3000.0  \n",
              "mean       1402.8       489.9            3.8            205846.3  \n",
              "std        1030.5       365.4            1.9            113119.7  \n",
              "min           5.0         2.0            0.5             22500.0  \n",
              "25%         780.0       273.0            2.5            121200.0  \n",
              "50%        1155.0       409.5            3.5            177650.0  \n",
              "75%        1742.8       597.2            4.7            263975.0  \n",
              "max       11935.0      4930.0           15.0            500001.0  "
            ]
          },
          "metadata": {
            "tags": []
          },
          "execution_count": 161
        }
      ]
    },
    {
      "metadata": {
        "id": "lkQebsR0PSut",
        "colab_type": "code",
        "colab": {
          "base_uri": "https://localhost:8080/",
          "height": 479
        },
        "outputId": "3dfe7a62-5006-4bfa-81f5-7737f080eb10"
      },
      "cell_type": "code",
      "source": [
        "# print information about our DataFrame  \n",
        "print()\n",
        "print('Maximum values of each column:\\n', test_stock.max())\n",
        "print()\n",
        "print('Minimum Close value:', test_stock['total_rooms'].min())\n",
        "print()\n",
        "print('Average value of each column:\\n', test_stock.mean())"
      ],
      "execution_count": 162,
      "outputs": [
        {
          "output_type": "stream",
          "text": [
            "\n",
            "Maximum values of each column:\n",
            " longitude               -114.5\n",
            "latitude                  41.9\n",
            "housing_median_age        52.0\n",
            "total_rooms            30450.0\n",
            "total_bedrooms          5419.0\n",
            "population             11935.0\n",
            "households              4930.0\n",
            "median_income             15.0\n",
            "median_house_value    500001.0\n",
            "dtype: float64\n",
            "\n",
            "Minimum Close value: 6.0\n",
            "\n",
            "Average value of each column:\n",
            " longitude               -119.6\n",
            "latitude                  35.6\n",
            "housing_median_age        28.8\n",
            "total_rooms             2599.6\n",
            "total_bedrooms           530.0\n",
            "population              1402.8\n",
            "households               489.9\n",
            "median_income              3.8\n",
            "median_house_value    205846.3\n",
            "dtype: float64\n"
          ],
          "name": "stdout"
        }
      ]
    },
    {
      "metadata": {
        "id": "PoHCML8HPhFn",
        "colab_type": "text"
      },
      "cell_type": "markdown",
      "source": [
        "` .corr() `\n",
        " \n",
        " to get the correlation between different columns\n",
        " \n",
        " A correlation value of 1 tells us there is a high correlation and a correlation of 0 tells us that the data is not correlated at all.\n"
      ]
    },
    {
      "metadata": {
        "id": "lEDRbG8aPj8I",
        "colab_type": "code",
        "colab": {
          "base_uri": "https://localhost:8080/",
          "height": 348
        },
        "outputId": "5cc4ee62-295b-44a1-bb90-c92d69800444"
      },
      "cell_type": "code",
      "source": [
        "test_stock.corr()"
      ],
      "execution_count": 163,
      "outputs": [
        {
          "output_type": "execute_result",
          "data": {
            "text/html": [
              "<div>\n",
              "<style scoped>\n",
              "    .dataframe tbody tr th:only-of-type {\n",
              "        vertical-align: middle;\n",
              "    }\n",
              "\n",
              "    .dataframe tbody tr th {\n",
              "        vertical-align: top;\n",
              "    }\n",
              "\n",
              "    .dataframe thead th {\n",
              "        text-align: right;\n",
              "    }\n",
              "</style>\n",
              "<table border=\"1\" class=\"dataframe\">\n",
              "  <thead>\n",
              "    <tr style=\"text-align: right;\">\n",
              "      <th></th>\n",
              "      <th>longitude</th>\n",
              "      <th>latitude</th>\n",
              "      <th>housing_median_age</th>\n",
              "      <th>total_rooms</th>\n",
              "      <th>total_bedrooms</th>\n",
              "      <th>population</th>\n",
              "      <th>households</th>\n",
              "      <th>median_income</th>\n",
              "      <th>median_house_value</th>\n",
              "    </tr>\n",
              "  </thead>\n",
              "  <tbody>\n",
              "    <tr>\n",
              "      <th>longitude</th>\n",
              "      <td>1.0e+00</td>\n",
              "      <td>-9.3e-01</td>\n",
              "      <td>-6.4e-02</td>\n",
              "      <td>5.0e-02</td>\n",
              "      <td>7.1e-02</td>\n",
              "      <td>1.1e-01</td>\n",
              "      <td>5.1e-02</td>\n",
              "      <td>-1.9e-02</td>\n",
              "      <td>-5.1e-02</td>\n",
              "    </tr>\n",
              "    <tr>\n",
              "      <th>latitude</th>\n",
              "      <td>-9.3e-01</td>\n",
              "      <td>1.0e+00</td>\n",
              "      <td>-2.5e-02</td>\n",
              "      <td>-4.0e-02</td>\n",
              "      <td>-6.8e-02</td>\n",
              "      <td>-1.2e-01</td>\n",
              "      <td>-6.8e-02</td>\n",
              "      <td>-7.2e-02</td>\n",
              "      <td>-1.4e-01</td>\n",
              "    </tr>\n",
              "    <tr>\n",
              "      <th>housing_median_age</th>\n",
              "      <td>-6.4e-02</td>\n",
              "      <td>-2.5e-02</td>\n",
              "      <td>1.0e+00</td>\n",
              "      <td>-3.7e-01</td>\n",
              "      <td>-3.2e-01</td>\n",
              "      <td>-3.0e-01</td>\n",
              "      <td>-3.1e-01</td>\n",
              "      <td>-1.4e-01</td>\n",
              "      <td>9.1e-02</td>\n",
              "    </tr>\n",
              "    <tr>\n",
              "      <th>total_rooms</th>\n",
              "      <td>5.0e-02</td>\n",
              "      <td>-4.0e-02</td>\n",
              "      <td>-3.7e-01</td>\n",
              "      <td>1.0e+00</td>\n",
              "      <td>9.4e-01</td>\n",
              "      <td>8.4e-01</td>\n",
              "      <td>9.1e-01</td>\n",
              "      <td>2.2e-01</td>\n",
              "      <td>1.6e-01</td>\n",
              "    </tr>\n",
              "    <tr>\n",
              "      <th>total_bedrooms</th>\n",
              "      <td>7.1e-02</td>\n",
              "      <td>-6.8e-02</td>\n",
              "      <td>-3.2e-01</td>\n",
              "      <td>9.4e-01</td>\n",
              "      <td>1.0e+00</td>\n",
              "      <td>8.6e-01</td>\n",
              "      <td>9.7e-01</td>\n",
              "      <td>2.4e-02</td>\n",
              "      <td>8.2e-02</td>\n",
              "    </tr>\n",
              "    <tr>\n",
              "      <th>population</th>\n",
              "      <td>1.1e-01</td>\n",
              "      <td>-1.2e-01</td>\n",
              "      <td>-3.0e-01</td>\n",
              "      <td>8.4e-01</td>\n",
              "      <td>8.6e-01</td>\n",
              "      <td>1.0e+00</td>\n",
              "      <td>9.0e-01</td>\n",
              "      <td>3.2e-02</td>\n",
              "      <td>-1.2e-03</td>\n",
              "    </tr>\n",
              "    <tr>\n",
              "      <th>households</th>\n",
              "      <td>5.1e-02</td>\n",
              "      <td>-6.8e-02</td>\n",
              "      <td>-3.1e-01</td>\n",
              "      <td>9.1e-01</td>\n",
              "      <td>9.7e-01</td>\n",
              "      <td>9.0e-01</td>\n",
              "      <td>1.0e+00</td>\n",
              "      <td>4.9e-02</td>\n",
              "      <td>1.0e-01</td>\n",
              "    </tr>\n",
              "    <tr>\n",
              "      <th>median_income</th>\n",
              "      <td>-1.9e-02</td>\n",
              "      <td>-7.2e-02</td>\n",
              "      <td>-1.4e-01</td>\n",
              "      <td>2.2e-01</td>\n",
              "      <td>2.4e-02</td>\n",
              "      <td>3.2e-02</td>\n",
              "      <td>4.9e-02</td>\n",
              "      <td>1.0e+00</td>\n",
              "      <td>6.7e-01</td>\n",
              "    </tr>\n",
              "    <tr>\n",
              "      <th>median_house_value</th>\n",
              "      <td>-5.1e-02</td>\n",
              "      <td>-1.4e-01</td>\n",
              "      <td>9.1e-02</td>\n",
              "      <td>1.6e-01</td>\n",
              "      <td>8.2e-02</td>\n",
              "      <td>-1.2e-03</td>\n",
              "      <td>1.0e-01</td>\n",
              "      <td>6.7e-01</td>\n",
              "      <td>1.0e+00</td>\n",
              "    </tr>\n",
              "  </tbody>\n",
              "</table>\n",
              "</div>"
            ],
            "text/plain": [
              "                    longitude  latitude  housing_median_age  total_rooms  \\\n",
              "longitude             1.0e+00  -9.3e-01            -6.4e-02      5.0e-02   \n",
              "latitude             -9.3e-01   1.0e+00            -2.5e-02     -4.0e-02   \n",
              "housing_median_age   -6.4e-02  -2.5e-02             1.0e+00     -3.7e-01   \n",
              "total_rooms           5.0e-02  -4.0e-02            -3.7e-01      1.0e+00   \n",
              "total_bedrooms        7.1e-02  -6.8e-02            -3.2e-01      9.4e-01   \n",
              "population            1.1e-01  -1.2e-01            -3.0e-01      8.4e-01   \n",
              "households            5.1e-02  -6.8e-02            -3.1e-01      9.1e-01   \n",
              "median_income        -1.9e-02  -7.2e-02            -1.4e-01      2.2e-01   \n",
              "median_house_value   -5.1e-02  -1.4e-01             9.1e-02      1.6e-01   \n",
              "\n",
              "                    total_bedrooms  population  households  median_income  \\\n",
              "longitude                  7.1e-02     1.1e-01     5.1e-02       -1.9e-02   \n",
              "latitude                  -6.8e-02    -1.2e-01    -6.8e-02       -7.2e-02   \n",
              "housing_median_age        -3.2e-01    -3.0e-01    -3.1e-01       -1.4e-01   \n",
              "total_rooms                9.4e-01     8.4e-01     9.1e-01        2.2e-01   \n",
              "total_bedrooms             1.0e+00     8.6e-01     9.7e-01        2.4e-02   \n",
              "population                 8.6e-01     1.0e+00     9.0e-01        3.2e-02   \n",
              "households                 9.7e-01     9.0e-01     1.0e+00        4.9e-02   \n",
              "median_income              2.4e-02     3.2e-02     4.9e-02        1.0e+00   \n",
              "median_house_value         8.2e-02    -1.2e-03     1.0e-01        6.7e-01   \n",
              "\n",
              "                    median_house_value  \n",
              "longitude                     -5.1e-02  \n",
              "latitude                      -1.4e-01  \n",
              "housing_median_age             9.1e-02  \n",
              "total_rooms                    1.6e-01  \n",
              "total_bedrooms                 8.2e-02  \n",
              "population                    -1.2e-03  \n",
              "households                     1.0e-01  \n",
              "median_income                  6.7e-01  \n",
              "median_house_value             1.0e+00  "
            ]
          },
          "metadata": {
            "tags": []
          },
          "execution_count": 163
        }
      ]
    },
    {
      "metadata": {
        "id": "TrPwwj7aPx__",
        "colab_type": "text"
      },
      "cell_type": "markdown",
      "source": [
        "` .groupby() `\n",
        " \n",
        " allows us to group data in different ways.\n",
        " \n",
        " group data to get different types of information"
      ]
    },
    {
      "metadata": {
        "id": "U6G7OjEUQJkd",
        "colab_type": "code",
        "colab": {
          "base_uri": "https://localhost:8080/",
          "height": 224
        },
        "outputId": "9d4276bc-7369-4164-ca79-0247680f55bb"
      },
      "cell_type": "code",
      "source": [
        "# We load fake data in a DataFrame\n",
        "fake_data = pd.read_csv('sample_data/california_housing_train.csv')\n",
        "fake_data.head()"
      ],
      "execution_count": 164,
      "outputs": [
        {
          "output_type": "execute_result",
          "data": {
            "text/html": [
              "<div>\n",
              "<style scoped>\n",
              "    .dataframe tbody tr th:only-of-type {\n",
              "        vertical-align: middle;\n",
              "    }\n",
              "\n",
              "    .dataframe tbody tr th {\n",
              "        vertical-align: top;\n",
              "    }\n",
              "\n",
              "    .dataframe thead th {\n",
              "        text-align: right;\n",
              "    }\n",
              "</style>\n",
              "<table border=\"1\" class=\"dataframe\">\n",
              "  <thead>\n",
              "    <tr style=\"text-align: right;\">\n",
              "      <th></th>\n",
              "      <th>longitude</th>\n",
              "      <th>latitude</th>\n",
              "      <th>housing_median_age</th>\n",
              "      <th>total_rooms</th>\n",
              "      <th>total_bedrooms</th>\n",
              "      <th>population</th>\n",
              "      <th>households</th>\n",
              "      <th>median_income</th>\n",
              "      <th>median_house_value</th>\n",
              "    </tr>\n",
              "  </thead>\n",
              "  <tbody>\n",
              "    <tr>\n",
              "      <th>0</th>\n",
              "      <td>-114.3</td>\n",
              "      <td>34.2</td>\n",
              "      <td>15.0</td>\n",
              "      <td>5612.0</td>\n",
              "      <td>1283.0</td>\n",
              "      <td>1015.0</td>\n",
              "      <td>472.0</td>\n",
              "      <td>1.5</td>\n",
              "      <td>66900.0</td>\n",
              "    </tr>\n",
              "    <tr>\n",
              "      <th>1</th>\n",
              "      <td>-114.5</td>\n",
              "      <td>34.4</td>\n",
              "      <td>19.0</td>\n",
              "      <td>7650.0</td>\n",
              "      <td>1901.0</td>\n",
              "      <td>1129.0</td>\n",
              "      <td>463.0</td>\n",
              "      <td>1.8</td>\n",
              "      <td>80100.0</td>\n",
              "    </tr>\n",
              "    <tr>\n",
              "      <th>2</th>\n",
              "      <td>-114.6</td>\n",
              "      <td>33.7</td>\n",
              "      <td>17.0</td>\n",
              "      <td>720.0</td>\n",
              "      <td>174.0</td>\n",
              "      <td>333.0</td>\n",
              "      <td>117.0</td>\n",
              "      <td>1.7</td>\n",
              "      <td>85700.0</td>\n",
              "    </tr>\n",
              "    <tr>\n",
              "      <th>3</th>\n",
              "      <td>-114.6</td>\n",
              "      <td>33.6</td>\n",
              "      <td>14.0</td>\n",
              "      <td>1501.0</td>\n",
              "      <td>337.0</td>\n",
              "      <td>515.0</td>\n",
              "      <td>226.0</td>\n",
              "      <td>3.2</td>\n",
              "      <td>73400.0</td>\n",
              "    </tr>\n",
              "    <tr>\n",
              "      <th>4</th>\n",
              "      <td>-114.6</td>\n",
              "      <td>33.6</td>\n",
              "      <td>20.0</td>\n",
              "      <td>1454.0</td>\n",
              "      <td>326.0</td>\n",
              "      <td>624.0</td>\n",
              "      <td>262.0</td>\n",
              "      <td>1.9</td>\n",
              "      <td>65500.0</td>\n",
              "    </tr>\n",
              "  </tbody>\n",
              "</table>\n",
              "</div>"
            ],
            "text/plain": [
              "   longitude  latitude  housing_median_age  total_rooms  total_bedrooms  \\\n",
              "0     -114.3      34.2                15.0       5612.0          1283.0   \n",
              "1     -114.5      34.4                19.0       7650.0          1901.0   \n",
              "2     -114.6      33.7                17.0        720.0           174.0   \n",
              "3     -114.6      33.6                14.0       1501.0           337.0   \n",
              "4     -114.6      33.6                20.0       1454.0           326.0   \n",
              "\n",
              "   population  households  median_income  median_house_value  \n",
              "0      1015.0       472.0            1.5             66900.0  \n",
              "1      1129.0       463.0            1.8             80100.0  \n",
              "2       333.0       117.0            1.7             85700.0  \n",
              "3       515.0       226.0            3.2             73400.0  \n",
              "4       624.0       262.0            1.9             65500.0  "
            ]
          },
          "metadata": {
            "tags": []
          },
          "execution_count": 164
        }
      ]
    },
    {
      "metadata": {
        "id": "Gfs-z7MwQ6Qh",
        "colab_type": "code",
        "colab": {
          "base_uri": "https://localhost:8080/",
          "height": 343
        },
        "outputId": "7014f7fb-48f4-4e71-d82d-308dafce6754"
      },
      "cell_type": "code",
      "source": [
        "fake_data.groupby(['longitude','latitude'])['households'].sum().head(16)"
      ],
      "execution_count": 165,
      "outputs": [
        {
          "output_type": "execute_result",
          "data": {
            "text/plain": [
              "longitude  latitude\n",
              "-124.3     40.5        270.0\n",
              "           41.8        478.0\n",
              "           41.8        456.0\n",
              "           40.7        465.0\n",
              "           40.6        369.0\n",
              "-124.2     40.3        187.0\n",
              "           40.5        435.0\n",
              "           40.8        172.0\n",
              "           41.8        479.0\n",
              "           41.7        653.0\n",
              "           40.8        268.0\n",
              "           41.8        721.0\n",
              "           41.8        647.0\n",
              "           40.7        972.0\n",
              "           40.8        583.0\n",
              "           40.8        260.0\n",
              "Name: households, dtype: float64"
            ]
          },
          "metadata": {
            "tags": []
          },
          "execution_count": 165
        }
      ]
    }
  ]
}