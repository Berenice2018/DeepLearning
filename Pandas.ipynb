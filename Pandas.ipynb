{
  "nbformat": 4,
  "nbformat_minor": 0,
  "metadata": {
    "colab": {
      "name": "Pandas.ipynb",
      "version": "0.3.2",
      "provenance": [],
      "collapsed_sections": [
        "Ym6eWpBLh4Tv",
        "l2Vlbg9ZkvPZ",
        "-I0kDuhBo8wA"
      ],
      "toc_visible": true,
      "include_colab_link": true
    },
    "kernelspec": {
      "name": "python3",
      "display_name": "Python 3"
    }
  },
  "cells": [
    {
      "cell_type": "markdown",
      "metadata": {
        "id": "view-in-github",
        "colab_type": "text"
      },
      "source": [
        "<a href=\"https://colab.research.google.com/github/Berenice2018/DeepLearning/blob/master/Pandas.ipynb\" target=\"_parent\"><img src=\"https://colab.research.google.com/assets/colab-badge.svg\" alt=\"Open In Colab\"/></a>"
      ]
    },
    {
      "metadata": {
        "id": "NvTAmgPIhoB4",
        "colab_type": "text"
      },
      "cell_type": "markdown",
      "source": [
        "**Notes about Pandas**"
      ]
    },
    {
      "metadata": {
        "id": "XOAwci7mhb8H",
        "colab_type": "code",
        "colab": {}
      },
      "cell_type": "code",
      "source": [
        "import numpy as np\n",
        "import pandas as pd"
      ],
      "execution_count": 0,
      "outputs": []
    },
    {
      "metadata": {
        "id": "Ym6eWpBLh4Tv",
        "colab_type": "text"
      },
      "cell_type": "markdown",
      "source": [
        "# Creating pandas Series"
      ]
    },
    {
      "metadata": {
        "id": "SQ0Vvdfvh7w1",
        "colab_type": "text"
      },
      "cell_type": "markdown",
      "source": [
        "A Pandas series is a one-dimensional array-like object that can hold many data types\n",
        "\n",
        "| Pandas Series | NumPy ndarray |\n",
        "| --- | --- | \n",
        "| you can assign an index label to each element | cannot | \n",
        "| can hold data of different data types | cannot |\n",
        "| data is not indexed with the label names |  indexed with numbers\n",
        "\n"
      ]
    },
    {
      "metadata": {
        "id": "p_ynxK9djFiI",
        "colab_type": "code",
        "outputId": "54e61f6d-210d-43c1-8172-4ca55817a0ce",
        "colab": {
          "base_uri": "https://localhost:8080/",
          "height": 190
        }
      },
      "cell_type": "code",
      "source": [
        "# create a Pandas Series that stores a grocery list\n",
        "groceries = pd.Series(data = [30, 6, 'Yes', 'No'], index = ['eggs', 'apples', 'milk', 'bread'])\n",
        "\n",
        "# We display the Groceries Pandas Series\n",
        "print(groceries)\n",
        "\n",
        "print('\\nGroceries has shape:', groceries.shape)\n",
        "print('Groceries has dimension:', groceries.ndim)\n",
        "print('Groceries has a total of', groceries.size, 'elements')"
      ],
      "execution_count": 2,
      "outputs": [
        {
          "output_type": "stream",
          "text": [
            "eggs       30\n",
            "apples      6\n",
            "milk      Yes\n",
            "bread      No\n",
            "dtype: object\n",
            "\n",
            "Groceries has shape: (4,)\n",
            "Groceries has dimension: 1\n",
            "Groceries has a total of 4 elements\n"
          ],
          "name": "stdout"
        }
      ]
    },
    {
      "metadata": {
        "id": "tl_ndEEZkANA",
        "colab_type": "code",
        "outputId": "d060a5ec-89da-47f0-a384-b3267fd3c81c",
        "colab": {
          "base_uri": "https://localhost:8080/",
          "height": 71
        }
      },
      "cell_type": "code",
      "source": [
        "# print the index and data of the series\n",
        "print('The data in Groceries is:', groceries.values)\n",
        "print('The index of Groceries is:', groceries.index)"
      ],
      "execution_count": 3,
      "outputs": [
        {
          "output_type": "stream",
          "text": [
            "The data in Groceries is: [30 6 'Yes' 'No']\n",
            "The index of Groceries is: Index(['eggs', 'apples', 'milk', 'bread'], dtype='object')\n"
          ],
          "name": "stdout"
        }
      ]
    },
    {
      "metadata": {
        "id": "179vI1-fkRQc",
        "colab_type": "code",
        "outputId": "0c95e935-d235-4df3-a830-09f70fcf9620",
        "colab": {
          "base_uri": "https://localhost:8080/",
          "height": 54
        }
      },
      "cell_type": "code",
      "source": [
        "# Check if a label exists in the series\n",
        "x = 'apples' in groceries\n",
        "y = 'elephant' in groceries\n",
        "print(x, y)"
      ],
      "execution_count": 4,
      "outputs": [
        {
          "output_type": "stream",
          "text": [
            "True False\n"
          ],
          "name": "stdout"
        }
      ]
    },
    {
      "metadata": {
        "id": "l2Vlbg9ZkvPZ",
        "colab_type": "text"
      },
      "cell_type": "markdown",
      "source": [
        "# Accessing and Deleting Elements in pandas Series"
      ]
    },
    {
      "metadata": {
        "id": "1O3PGMtckxQS",
        "colab_type": "text"
      },
      "cell_type": "markdown",
      "source": [
        "The attribute *.loc* stands for location, it states that we are using a **labeled** index. \n",
        "\n",
        "The attribute .*iloc* stands for integer location, it states that we are using a **numerical** index."
      ]
    },
    {
      "metadata": {
        "id": "1MkCKuYblEaE",
        "colab_type": "code",
        "outputId": "34b871f2-2aa0-4c43-b26e-3ff963927e15",
        "colab": {
          "base_uri": "https://localhost:8080/",
          "height": 411
        }
      },
      "cell_type": "code",
      "source": [
        "# single index label\n",
        "print('How many eggs do we need to buy:', groceries['eggs'])\n",
        "# access multiple index labels\n",
        "print('Do we need milk and bread:\\n', groceries[['milk', 'bread']]) \n",
        "# use loc to access multiple index labels\n",
        "print('How many eggs and apples do we need to buy:\\n', groceries.loc[['eggs', 'apples']]) \n",
        "print()\n",
        "\n",
        "# use multiple numerical indices\n",
        "print('How many eggs and apples do we need to buy:\\n',  groceries[[0, 1]]) \n",
        "# use a negative numerical index\n",
        "print('Do we need bread:\\n', groceries[[-1]]) \n",
        "# use a single numerical index\n",
        "print('How many eggs do we need to buy:', groceries[0]) \n",
        "# access multiple numerical indices\n",
        "print('Do we need milk and bread:\\n', groceries.iloc[[2, 3]]) "
      ],
      "execution_count": 5,
      "outputs": [
        {
          "output_type": "stream",
          "text": [
            "How many eggs do we need to buy: 30\n",
            "Do we need milk and bread:\n",
            " milk     Yes\n",
            "bread     No\n",
            "dtype: object\n",
            "How many eggs and apples do we need to buy:\n",
            " eggs      30\n",
            "apples     6\n",
            "dtype: object\n",
            "\n",
            "How many eggs and apples do we need to buy:\n",
            " eggs      30\n",
            "apples     6\n",
            "dtype: object\n",
            "Do we need bread:\n",
            " bread    No\n",
            "dtype: object\n",
            "How many eggs do we need to buy: 30\n",
            "Do we need milk and bread:\n",
            " milk     Yes\n",
            "bread     No\n",
            "dtype: object\n"
          ],
          "name": "stdout"
        }
      ]
    },
    {
      "metadata": {
        "id": "QzVXsnozl-iy",
        "colab_type": "text"
      },
      "cell_type": "markdown",
      "source": [
        "The `Series.drop(label)`  method drops elements from the Series out of place, it doesn't change the original Series being modified\n",
        "\n",
        "Delete items from a Pandas Series in place by setting the keyword  `inplace` to `True` in the `.drop()`"
      ]
    },
    {
      "metadata": {
        "id": "ELE98UgdmGJe",
        "colab_type": "code",
        "outputId": "6c2b0b0f-737c-417a-8e5b-c68cfde361c8",
        "colab": {
          "base_uri": "https://localhost:8080/",
          "height": 445
        }
      },
      "cell_type": "code",
      "source": [
        "print('Original Grocery List:\\n', groceries)\n",
        "\n",
        "# remove apples from our grocery list. The drop function removes elements out of place\n",
        "print('\\nWe remove apples (out of place):\\n', groceries.drop('apples'))\n",
        "\n",
        "print('\\nOriginal grocery List after removing apples out of place:\\n', groceries)\n",
        "\n",
        "groceries.drop(['apples', 'eggs'], inplace = True)\n",
        "print('\\nRemoved apples and eggs in place:\\n', groceries )"
      ],
      "execution_count": 6,
      "outputs": [
        {
          "output_type": "stream",
          "text": [
            "Original Grocery List:\n",
            " eggs       30\n",
            "apples      6\n",
            "milk      Yes\n",
            "bread      No\n",
            "dtype: object\n",
            "\n",
            "We remove apples (out of place):\n",
            " eggs      30\n",
            "milk     Yes\n",
            "bread     No\n",
            "dtype: object\n",
            "\n",
            "Original grocery List after removing apples out of place:\n",
            " eggs       30\n",
            "apples      6\n",
            "milk      Yes\n",
            "bread      No\n",
            "dtype: object\n",
            "\n",
            "Removed apples and eggs in place:\n",
            " milk     Yes\n",
            "bread     No\n",
            "dtype: object\n"
          ],
          "name": "stdout"
        }
      ]
    },
    {
      "metadata": {
        "id": "-I0kDuhBo8wA",
        "colab_type": "text"
      },
      "cell_type": "markdown",
      "source": [
        "# Arithmetic operations"
      ]
    },
    {
      "metadata": {
        "id": "vLPvy_pgpACZ",
        "colab_type": "code",
        "outputId": "94078bf5-0619-459d-a706-9573b5620516",
        "colab": {
          "base_uri": "https://localhost:8080/",
          "height": 105
        }
      },
      "cell_type": "code",
      "source": [
        "# a Pandas Series that stores a grocery list of just fruits\n",
        "fruits= pd.Series(data = [10, 6, 3,], index = ['apples', 'oranges', 'bananas'])\n",
        "\n",
        "fruits"
      ],
      "execution_count": 7,
      "outputs": [
        {
          "output_type": "execute_result",
          "data": {
            "text/plain": [
              "apples     10\n",
              "oranges     6\n",
              "bananas     3\n",
              "dtype: int64"
            ]
          },
          "metadata": {
            "tags": []
          },
          "execution_count": 7
        }
      ]
    },
    {
      "metadata": {
        "id": "G9gBVxMGpKcY",
        "colab_type": "code",
        "outputId": "112dd169-f600-4315-ee39-4f27f685082d",
        "colab": {
          "base_uri": "https://localhost:8080/",
          "height": 428
        }
      },
      "cell_type": "code",
      "source": [
        "# apply arithmetic operations to each item in fruits\n",
        "print('fruits + 2:\\n', fruits + 2)\n",
        "print('\\nfruits - 2:\\n', fruits - 2)\n",
        "print('\\nfruits * 2:\\n', fruits * 2) \n",
        "print('\\nfruits / 2:\\n', fruits / 2) # results in dtype float64"
      ],
      "execution_count": 8,
      "outputs": [
        {
          "output_type": "stream",
          "text": [
            "fruits + 2:\n",
            " apples     12\n",
            "oranges     8\n",
            "bananas     5\n",
            "dtype: int64\n",
            "\n",
            "fruits - 2:\n",
            " apples     8\n",
            "oranges    4\n",
            "bananas    1\n",
            "dtype: int64\n",
            "\n",
            "fruits * 2:\n",
            " apples     20\n",
            "oranges    12\n",
            "bananas     6\n",
            "dtype: int64\n",
            "\n",
            "fruits / 2:\n",
            " apples     5.0\n",
            "oranges    3.0\n",
            "bananas    1.5\n",
            "dtype: float64\n"
          ],
          "name": "stdout"
        }
      ]
    },
    {
      "metadata": {
        "id": "tlS_TDjzpzb6",
        "colab_type": "code",
        "outputId": "61ee7715-5e34-48db-d4e2-6f67995f72b5",
        "colab": {
          "base_uri": "https://localhost:8080/",
          "height": 343
        }
      },
      "cell_type": "code",
      "source": [
        "# apply different mathematical functions to all elements of fruits\n",
        "print('\\nEXP(X) = \\n', np.exp(fruits))\n",
        "print('\\nSQRT(X) =\\n', np.sqrt(fruits))\n",
        "print('\\nPOW(X,2) =\\n',np.power(fruits,2)) # raise to the power of 2"
      ],
      "execution_count": 9,
      "outputs": [
        {
          "output_type": "stream",
          "text": [
            "\n",
            "EXP(X) = \n",
            " apples     22026.465795\n",
            "oranges      403.428793\n",
            "bananas       20.085537\n",
            "dtype: float64\n",
            "\n",
            "SQRT(X) =\n",
            " apples     3.162278\n",
            "oranges    2.449490\n",
            "bananas    1.732051\n",
            "dtype: float64\n",
            "\n",
            "POW(X,2) =\n",
            " apples     100\n",
            "oranges     36\n",
            "bananas      9\n",
            "dtype: int64\n"
          ],
          "name": "stdout"
        }
      ]
    },
    {
      "metadata": {
        "id": "Xia5s4Taqqhn",
        "colab_type": "text"
      },
      "cell_type": "markdown",
      "source": [
        "Apply arithmetic operations on Pandas Series of mixed data type provided that the **arithmetic operation is defined for all data types** in the Series\n",
        "\n",
        "When you have mixed data types in your Pandas Series make sure the arithmetic operations are valid on all the data types of your elements."
      ]
    },
    {
      "metadata": {
        "id": "ll_R8G4UrMeh",
        "colab_type": "code",
        "outputId": "5fbf6967-f757-4549-f253-a5ea1dce7534",
        "colab": {
          "base_uri": "https://localhost:8080/",
          "height": 173
        }
      },
      "cell_type": "code",
      "source": [
        "series2 = pd.Series([100], index=['cherries'])\n",
        "\n",
        "print(groceries.append(series2) *2)\n",
        "print()\n",
        "groceries * 2"
      ],
      "execution_count": 10,
      "outputs": [
        {
          "output_type": "stream",
          "text": [
            "milk        YesYes\n",
            "bread         NoNo\n",
            "cherries       200\n",
            "dtype: object\n",
            "\n"
          ],
          "name": "stdout"
        },
        {
          "output_type": "execute_result",
          "data": {
            "text/plain": [
              "milk     YesYes\n",
              "bread      NoNo\n",
              "dtype: object"
            ]
          },
          "metadata": {
            "tags": []
          },
          "execution_count": 10
        }
      ]
    },
    {
      "metadata": {
        "id": "6H2VNEY9tj08",
        "colab_type": "code",
        "outputId": "723371f8-580f-4e56-898b-220a4937c661",
        "colab": {
          "base_uri": "https://localhost:8080/",
          "height": 377
        }
      },
      "cell_type": "code",
      "source": [
        "# Create a Pandas Series that contains the distance of some planets from the Sun.\n",
        "# Use the name of the planets as the index to your Pandas Series, and the distance\n",
        "# from the Sun as your data. The distance from the Sun is in units of 10^6 km\n",
        "\n",
        "distance_from_sun = [149.6, 1433.5, 227.9, 108.2, 778.6]\n",
        "\n",
        "planets = ['Earth','Saturn', 'Mars','Venus', 'Jupiter'] \n",
        "\n",
        "# Create a Pandas Series using the above data, with the name of the planets as\n",
        "# the index and the distance from the Sun as your data.\n",
        "dist_planets = pd.Series(data = distance_from_sun, index = planets)\n",
        "print(dist_planets)\n",
        "\n",
        "# Calculate the number of minutes it takes sunlight to reach each planet. You can\n",
        "# do this by dividing the distance from the Sun for each planet by the speed of light.\n",
        "# Since in the data above the distance from the Sun is in units of 10^6 km, you can\n",
        "# use a value for the speed of light of c = 18, since light travels 18 x 10^6 km/minute.\n",
        "time_light = dist_planets / 18\n",
        "print('\\ntime_light:\\n', time_light)\n",
        "\n",
        "# Use Boolean indexing to select only those planets for which sunlight takes less\n",
        "# than 40 minutes to reach them.\n",
        "close_planets = time_light[time_light < 40] \n",
        "print('\\nclose_planets:\\n', close_planets)"
      ],
      "execution_count": 11,
      "outputs": [
        {
          "output_type": "stream",
          "text": [
            "Earth       149.6\n",
            "Saturn     1433.5\n",
            "Mars        227.9\n",
            "Venus       108.2\n",
            "Jupiter     778.6\n",
            "dtype: float64\n",
            "\n",
            "time_light:\n",
            " Earth       8.311111\n",
            "Saturn     79.638889\n",
            "Mars       12.661111\n",
            "Venus       6.011111\n",
            "Jupiter    43.255556\n",
            "dtype: float64\n",
            "\n",
            "close_planets:\n",
            " Earth     8.311111\n",
            "Mars     12.661111\n",
            "Venus     6.011111\n",
            "dtype: float64\n"
          ],
          "name": "stdout"
        }
      ]
    },
    {
      "metadata": {
        "id": "E67BhDHhvZ3P",
        "colab_type": "text"
      },
      "cell_type": "markdown",
      "source": [
        "# Creating Pandas DataFrames"
      ]
    },
    {
      "metadata": {
        "id": "X8KUJNOovdfH",
        "colab_type": "text"
      },
      "cell_type": "markdown",
      "source": [
        "Pandas DataFrames are 2-dimensional data structures with labeled rows and columns, that can hold many data types. (Like an Excel spreadsheet)\n",
        "\n",
        "Create Pandas DataFrames manually or by loading data from a file. \n",
        "\n"
      ]
    },
    {
      "metadata": {
        "id": "JgAOFQHkvvEJ",
        "colab_type": "code",
        "outputId": "c1c591b7-cb2e-4de6-91c8-d2ae9d469aff",
        "colab": {
          "base_uri": "https://localhost:8080/",
          "height": 221
        }
      },
      "cell_type": "code",
      "source": [
        "\n",
        "# create a dictionary of Pandas Series \n",
        "items = {'Bob' : pd.Series(data = [245, 25, 55], index = ['bike', 'pants', 'watch']),\n",
        "         'Alice' : pd.Series(data = [40, 110, 500, 45], index = ['book', 'glasses', 'bike', 'pants'])}\n",
        "\n",
        "# print the type of items to see that it is a dictionary\n",
        "print(type(items))\n",
        "\n",
        "\n",
        "# create a Pandas DataFrame by passing it a dictionary of Pandas Series\n",
        "shopping_carts = pd.DataFrame(items)\n",
        "\n",
        "shopping_carts"
      ],
      "execution_count": 12,
      "outputs": [
        {
          "output_type": "stream",
          "text": [
            "<class 'dict'>\n"
          ],
          "name": "stdout"
        },
        {
          "output_type": "execute_result",
          "data": {
            "text/html": [
              "<div>\n",
              "<style scoped>\n",
              "    .dataframe tbody tr th:only-of-type {\n",
              "        vertical-align: middle;\n",
              "    }\n",
              "\n",
              "    .dataframe tbody tr th {\n",
              "        vertical-align: top;\n",
              "    }\n",
              "\n",
              "    .dataframe thead th {\n",
              "        text-align: right;\n",
              "    }\n",
              "</style>\n",
              "<table border=\"1\" class=\"dataframe\">\n",
              "  <thead>\n",
              "    <tr style=\"text-align: right;\">\n",
              "      <th></th>\n",
              "      <th>Alice</th>\n",
              "      <th>Bob</th>\n",
              "    </tr>\n",
              "  </thead>\n",
              "  <tbody>\n",
              "    <tr>\n",
              "      <th>bike</th>\n",
              "      <td>500.0</td>\n",
              "      <td>245.0</td>\n",
              "    </tr>\n",
              "    <tr>\n",
              "      <th>book</th>\n",
              "      <td>40.0</td>\n",
              "      <td>NaN</td>\n",
              "    </tr>\n",
              "    <tr>\n",
              "      <th>glasses</th>\n",
              "      <td>110.0</td>\n",
              "      <td>NaN</td>\n",
              "    </tr>\n",
              "    <tr>\n",
              "      <th>pants</th>\n",
              "      <td>45.0</td>\n",
              "      <td>25.0</td>\n",
              "    </tr>\n",
              "    <tr>\n",
              "      <th>watch</th>\n",
              "      <td>NaN</td>\n",
              "      <td>55.0</td>\n",
              "    </tr>\n",
              "  </tbody>\n",
              "</table>\n",
              "</div>"
            ],
            "text/plain": [
              "         Alice    Bob\n",
              "bike     500.0  245.0\n",
              "book      40.0    NaN\n",
              "glasses  110.0    NaN\n",
              "pants     45.0   25.0\n",
              "watch      NaN   55.0"
            ]
          },
          "metadata": {
            "tags": []
          },
          "execution_count": 12
        }
      ]
    },
    {
      "metadata": {
        "id": "VArA7fUlyHX8",
        "colab_type": "text"
      },
      "cell_type": "markdown",
      "source": [
        "So whenever a DataFrame is created, if a particular column doesn't have values for a particular row index, Pandas will put a NaN value there. \n",
        "\n",
        "If we were to feed this data into a machine learning algorithm we will have to remove these NaN values first.\n",
        "\n",
        "If we don't provide index labels to the Pandas Series, Pandas will use numerical row indexes when it creates the DataFrame:\n",
        "Example:\n"
      ]
    },
    {
      "metadata": {
        "id": "pEkqeQcLyhUE",
        "colab_type": "code",
        "outputId": "c863542c-7ec6-4980-ef63-2303ba70ca94",
        "colab": {
          "base_uri": "https://localhost:8080/",
          "height": 173
        }
      },
      "cell_type": "code",
      "source": [
        "# Create a dictionary of Pandas Series without indices\n",
        "data = {'Bob' : pd.Series([245, 25, 55]),\n",
        "        'Alice' : pd.Series([40, 110, 500, 45])}\n",
        "\n",
        "# create a DataFrame\n",
        "df = pd.DataFrame(data)\n",
        "df"
      ],
      "execution_count": 13,
      "outputs": [
        {
          "output_type": "execute_result",
          "data": {
            "text/html": [
              "<div>\n",
              "<style scoped>\n",
              "    .dataframe tbody tr th:only-of-type {\n",
              "        vertical-align: middle;\n",
              "    }\n",
              "\n",
              "    .dataframe tbody tr th {\n",
              "        vertical-align: top;\n",
              "    }\n",
              "\n",
              "    .dataframe thead th {\n",
              "        text-align: right;\n",
              "    }\n",
              "</style>\n",
              "<table border=\"1\" class=\"dataframe\">\n",
              "  <thead>\n",
              "    <tr style=\"text-align: right;\">\n",
              "      <th></th>\n",
              "      <th>Alice</th>\n",
              "      <th>Bob</th>\n",
              "    </tr>\n",
              "  </thead>\n",
              "  <tbody>\n",
              "    <tr>\n",
              "      <th>0</th>\n",
              "      <td>40</td>\n",
              "      <td>245.0</td>\n",
              "    </tr>\n",
              "    <tr>\n",
              "      <th>1</th>\n",
              "      <td>110</td>\n",
              "      <td>25.0</td>\n",
              "    </tr>\n",
              "    <tr>\n",
              "      <th>2</th>\n",
              "      <td>500</td>\n",
              "      <td>55.0</td>\n",
              "    </tr>\n",
              "    <tr>\n",
              "      <th>3</th>\n",
              "      <td>45</td>\n",
              "      <td>NaN</td>\n",
              "    </tr>\n",
              "  </tbody>\n",
              "</table>\n",
              "</div>"
            ],
            "text/plain": [
              "   Alice    Bob\n",
              "0     40  245.0\n",
              "1    110   25.0\n",
              "2    500   55.0\n",
              "3     45    NaN"
            ]
          },
          "metadata": {
            "tags": []
          },
          "execution_count": 13
        }
      ]
    },
    {
      "metadata": {
        "id": "8GzCDrrvy0wP",
        "colab_type": "code",
        "outputId": "a834aac2-4dec-48b4-a2ec-33b5b509141d",
        "colab": {
          "base_uri": "https://localhost:8080/",
          "height": 275
        }
      },
      "cell_type": "code",
      "source": [
        "# print some information about shopping_carts\n",
        "print('shopping_carts has shape:', shopping_carts.shape)\n",
        "print('shopping_carts has dimension:', shopping_carts.ndim)\n",
        "print('shopping_carts has a total of:', shopping_carts.size, 'elements')\n",
        "print()\n",
        "print('The values in shopping_carts is:\\n', shopping_carts.values)\n",
        "print()\n",
        "print('The row indices in shopping_carts are:', shopping_carts.index)\n",
        "print()\n",
        "print('The column index in shopping_carts is:', shopping_carts.columns)"
      ],
      "execution_count": 14,
      "outputs": [
        {
          "output_type": "stream",
          "text": [
            "shopping_carts has shape: (5, 2)\n",
            "shopping_carts has dimension: 2\n",
            "shopping_carts has a total of: 10 elements\n",
            "\n",
            "The values in shopping_carts is:\n",
            " [[500. 245.]\n",
            " [ 40.  nan]\n",
            " [110.  nan]\n",
            " [ 45.  25.]\n",
            " [ nan  55.]]\n",
            "\n",
            "The row indices in shopping_carts are: Index(['bike', 'book', 'glasses', 'pants', 'watch'], dtype='object')\n",
            "\n",
            "The column index in shopping_carts is: Index(['Alice', 'Bob'], dtype='object')\n"
          ],
          "name": "stdout"
        }
      ]
    },
    {
      "metadata": {
        "id": "whrO0GDY4TkK",
        "colab_type": "text"
      },
      "cell_type": "markdown",
      "source": [
        "Select which data we want to put into our DataFrame by means of the keywords columns and index"
      ]
    },
    {
      "metadata": {
        "id": "c9DLwkRY4a11",
        "colab_type": "code",
        "colab": {
          "base_uri": "https://localhost:8080/",
          "height": 247
        },
        "outputId": "eb7c6a95-ce99-4f24-a52d-95be1ba05250"
      },
      "cell_type": "code",
      "source": [
        "# Create a DataFrame that only has Bob's data\n",
        "bob_shopping_cart = pd.DataFrame(items, columns=['Bob'])\n",
        "print(bob_shopping_cart)\n",
        "\n",
        "\n",
        "# Create a DataFrame that only has selected items for both Alice and Bob\n",
        "sel_shopping_cart = pd.DataFrame(items, index = ['pants', 'book'])\n",
        "print('\\n', sel_shopping_cart)\n",
        "\n",
        "# Create a DataFrame that only has selected items for Alice\n",
        "alice_sel_shopping_cart = pd.DataFrame(items, index = ['glasses', 'bike'], columns = ['Alice'])\n",
        "alice_sel_shopping_cart"
      ],
      "execution_count": 15,
      "outputs": [
        {
          "output_type": "stream",
          "text": [
            "       Bob\n",
            "bike   245\n",
            "pants   25\n",
            "watch   55\n",
            "\n",
            "        Alice   Bob\n",
            "pants     45  25.0\n",
            "book      40   NaN\n"
          ],
          "name": "stdout"
        },
        {
          "output_type": "execute_result",
          "data": {
            "text/html": [
              "<div>\n",
              "<style scoped>\n",
              "    .dataframe tbody tr th:only-of-type {\n",
              "        vertical-align: middle;\n",
              "    }\n",
              "\n",
              "    .dataframe tbody tr th {\n",
              "        vertical-align: top;\n",
              "    }\n",
              "\n",
              "    .dataframe thead th {\n",
              "        text-align: right;\n",
              "    }\n",
              "</style>\n",
              "<table border=\"1\" class=\"dataframe\">\n",
              "  <thead>\n",
              "    <tr style=\"text-align: right;\">\n",
              "      <th></th>\n",
              "      <th>Alice</th>\n",
              "    </tr>\n",
              "  </thead>\n",
              "  <tbody>\n",
              "    <tr>\n",
              "      <th>glasses</th>\n",
              "      <td>110</td>\n",
              "    </tr>\n",
              "    <tr>\n",
              "      <th>bike</th>\n",
              "      <td>500</td>\n",
              "    </tr>\n",
              "  </tbody>\n",
              "</table>\n",
              "</div>"
            ],
            "text/plain": [
              "         Alice\n",
              "glasses    110\n",
              "bike       500"
            ]
          },
          "metadata": {
            "tags": []
          },
          "execution_count": 15
        }
      ]
    },
    {
      "metadata": {
        "id": "JxpcsYQR43Np",
        "colab_type": "text"
      },
      "cell_type": "markdown",
      "source": [
        "Create DataFrames **from a dictionary of lists** (arrays). \n",
        "All the lists (arrays) in the dictionary must be of the same length. "
      ]
    },
    {
      "metadata": {
        "id": "Tjxi_kRL5WfF",
        "colab_type": "code",
        "colab": {
          "base_uri": "https://localhost:8080/",
          "height": 142
        },
        "outputId": "5d18e825-65ed-4922-c83f-0db5c006c298"
      },
      "cell_type": "code",
      "source": [
        "# create a dictionary of lists (arrays)\n",
        "data = {'Integers' : [1,2,3],\n",
        "        'Floats' : [4.5, 8.2, 9.6]}\n",
        "\n",
        "# create a DataFrame and provide the row index\n",
        "df = pd.DataFrame(data, index = ['label 1', 'label 2', 'label 3'])\n",
        "df"
      ],
      "execution_count": 16,
      "outputs": [
        {
          "output_type": "execute_result",
          "data": {
            "text/html": [
              "<div>\n",
              "<style scoped>\n",
              "    .dataframe tbody tr th:only-of-type {\n",
              "        vertical-align: middle;\n",
              "    }\n",
              "\n",
              "    .dataframe tbody tr th {\n",
              "        vertical-align: top;\n",
              "    }\n",
              "\n",
              "    .dataframe thead th {\n",
              "        text-align: right;\n",
              "    }\n",
              "</style>\n",
              "<table border=\"1\" class=\"dataframe\">\n",
              "  <thead>\n",
              "    <tr style=\"text-align: right;\">\n",
              "      <th></th>\n",
              "      <th>Floats</th>\n",
              "      <th>Integers</th>\n",
              "    </tr>\n",
              "  </thead>\n",
              "  <tbody>\n",
              "    <tr>\n",
              "      <th>label 1</th>\n",
              "      <td>4.5</td>\n",
              "      <td>1</td>\n",
              "    </tr>\n",
              "    <tr>\n",
              "      <th>label 2</th>\n",
              "      <td>8.2</td>\n",
              "      <td>2</td>\n",
              "    </tr>\n",
              "    <tr>\n",
              "      <th>label 3</th>\n",
              "      <td>9.6</td>\n",
              "      <td>3</td>\n",
              "    </tr>\n",
              "  </tbody>\n",
              "</table>\n",
              "</div>"
            ],
            "text/plain": [
              "         Floats  Integers\n",
              "label 1     4.5         1\n",
              "label 2     8.2         2\n",
              "label 3     9.6         3"
            ]
          },
          "metadata": {
            "tags": []
          },
          "execution_count": 16
        }
      ]
    },
    {
      "metadata": {
        "id": "hZYVh4q45r95",
        "colab_type": "text"
      },
      "cell_type": "markdown",
      "source": [
        "**using a list of Python dictionaries**"
      ]
    },
    {
      "metadata": {
        "id": "ZtiGSq4b5tv7",
        "colab_type": "code",
        "colab": {
          "base_uri": "https://localhost:8080/",
          "height": 111
        },
        "outputId": "30717418-a38c-4f67-fba1-aff0e14ed062"
      },
      "cell_type": "code",
      "source": [
        "# We create a list of Python dictionaries\n",
        "items2 = [{'bikes': 20, 'pants': 30, 'watches': 35}, \n",
        "          {'watches': 10, 'glasses': 50, 'bikes': 15, 'pants':5}]\n",
        "\n",
        "# create a DataFrame \n",
        "# store_items = pd.DataFrame(items2)\n",
        "store_items = pd.DataFrame(items2, index = ['store 1', 'store 2'])\n",
        "store_items"
      ],
      "execution_count": 17,
      "outputs": [
        {
          "output_type": "execute_result",
          "data": {
            "text/html": [
              "<div>\n",
              "<style scoped>\n",
              "    .dataframe tbody tr th:only-of-type {\n",
              "        vertical-align: middle;\n",
              "    }\n",
              "\n",
              "    .dataframe tbody tr th {\n",
              "        vertical-align: top;\n",
              "    }\n",
              "\n",
              "    .dataframe thead th {\n",
              "        text-align: right;\n",
              "    }\n",
              "</style>\n",
              "<table border=\"1\" class=\"dataframe\">\n",
              "  <thead>\n",
              "    <tr style=\"text-align: right;\">\n",
              "      <th></th>\n",
              "      <th>bikes</th>\n",
              "      <th>glasses</th>\n",
              "      <th>pants</th>\n",
              "      <th>watches</th>\n",
              "    </tr>\n",
              "  </thead>\n",
              "  <tbody>\n",
              "    <tr>\n",
              "      <th>store 1</th>\n",
              "      <td>20</td>\n",
              "      <td>NaN</td>\n",
              "      <td>30</td>\n",
              "      <td>35</td>\n",
              "    </tr>\n",
              "    <tr>\n",
              "      <th>store 2</th>\n",
              "      <td>15</td>\n",
              "      <td>50.0</td>\n",
              "      <td>5</td>\n",
              "      <td>10</td>\n",
              "    </tr>\n",
              "  </tbody>\n",
              "</table>\n",
              "</div>"
            ],
            "text/plain": [
              "         bikes  glasses  pants  watches\n",
              "store 1     20      NaN     30       35\n",
              "store 2     15     50.0      5       10"
            ]
          },
          "metadata": {
            "tags": []
          },
          "execution_count": 17
        }
      ]
    },
    {
      "metadata": {
        "id": "_hJkk93S6McD",
        "colab_type": "text"
      },
      "cell_type": "markdown",
      "source": [
        "# Accessing elements in DataFrames"
      ]
    },
    {
      "metadata": {
        "id": "lf8Qts4Q6QC-",
        "colab_type": "text"
      },
      "cell_type": "markdown",
      "source": [
        "Access rows, columns, or individual elements of the DataFrame by using the row and column labels"
      ]
    },
    {
      "metadata": {
        "id": "3adRylvl6Psb",
        "colab_type": "code",
        "colab": {
          "base_uri": "https://localhost:8080/",
          "height": 340
        },
        "outputId": "81d74d11-79df-4c7c-d13d-d168bd58118e"
      },
      "cell_type": "code",
      "source": [
        "print(store_items)\n",
        "\n",
        "# access rows, columns and elements using labels\n",
        "print()\n",
        "print('How many bikes are in each store:\\n', store_items[['bikes']])\n",
        "print()\n",
        "print('How many bikes and pants are in each store?\\n', store_items[['pants', 'bikes']])\n",
        "print()\n",
        "print('What items are in Store 1?\\n', store_items.loc[['store 1']])\n",
        "print()\n",
        "print('How many bikes are in Store 2?', store_items['bikes']['store 2']) # dataframe[column][row]"
      ],
      "execution_count": 18,
      "outputs": [
        {
          "output_type": "stream",
          "text": [
            "         bikes  glasses  pants  watches\n",
            "store 1     20      NaN     30       35\n",
            "store 2     15     50.0      5       10\n",
            "\n",
            "How many bikes are in each store:\n",
            "          bikes\n",
            "store 1     20\n",
            "store 2     15\n",
            "\n",
            "How many bikes and pants are in each store?\n",
            "          pants  bikes\n",
            "store 1     30     20\n",
            "store 2      5     15\n",
            "\n",
            "What items are in Store 1?\n",
            "          bikes  glasses  pants  watches\n",
            "store 1     20      NaN     30       35\n",
            "\n",
            "How many bikes are in Store 2? 15\n"
          ],
          "name": "stdout"
        }
      ]
    },
    {
      "metadata": {
        "id": "4_Tr41a76_0S",
        "colab_type": "text"
      },
      "cell_type": "markdown",
      "source": [
        "add new columns to  DataFrames"
      ]
    },
    {
      "metadata": {
        "id": "om_sZoxk7JdM",
        "colab_type": "code",
        "colab": {
          "base_uri": "https://localhost:8080/",
          "height": 111
        },
        "outputId": "e0713f5c-b0fa-4e00-d667-b65338838fcc"
      },
      "cell_type": "code",
      "source": [
        "# add a new column named shirts to store_items DataFrame indicating the number of\n",
        "# shirts in stock at each store. We will put 15 shirts in store 1 and 2 shirts in store 2\n",
        "store_items['shirts'] = [15,2]\n",
        "store_items\n"
      ],
      "execution_count": 19,
      "outputs": [
        {
          "output_type": "execute_result",
          "data": {
            "text/html": [
              "<div>\n",
              "<style scoped>\n",
              "    .dataframe tbody tr th:only-of-type {\n",
              "        vertical-align: middle;\n",
              "    }\n",
              "\n",
              "    .dataframe tbody tr th {\n",
              "        vertical-align: top;\n",
              "    }\n",
              "\n",
              "    .dataframe thead th {\n",
              "        text-align: right;\n",
              "    }\n",
              "</style>\n",
              "<table border=\"1\" class=\"dataframe\">\n",
              "  <thead>\n",
              "    <tr style=\"text-align: right;\">\n",
              "      <th></th>\n",
              "      <th>bikes</th>\n",
              "      <th>glasses</th>\n",
              "      <th>pants</th>\n",
              "      <th>watches</th>\n",
              "      <th>shirts</th>\n",
              "    </tr>\n",
              "  </thead>\n",
              "  <tbody>\n",
              "    <tr>\n",
              "      <th>store 1</th>\n",
              "      <td>20</td>\n",
              "      <td>NaN</td>\n",
              "      <td>30</td>\n",
              "      <td>35</td>\n",
              "      <td>15</td>\n",
              "    </tr>\n",
              "    <tr>\n",
              "      <th>store 2</th>\n",
              "      <td>15</td>\n",
              "      <td>50.0</td>\n",
              "      <td>5</td>\n",
              "      <td>10</td>\n",
              "      <td>2</td>\n",
              "    </tr>\n",
              "  </tbody>\n",
              "</table>\n",
              "</div>"
            ],
            "text/plain": [
              "         bikes  glasses  pants  watches  shirts\n",
              "store 1     20      NaN     30       35      15\n",
              "store 2     15     50.0      5       10       2"
            ]
          },
          "metadata": {
            "tags": []
          },
          "execution_count": 19
        }
      ]
    },
    {
      "metadata": {
        "id": "KVCoeCTm8bHA",
        "colab_type": "text"
      },
      "cell_type": "markdown",
      "source": [
        "add new columns to our DataFrame by using arithmetic operations between other columns"
      ]
    },
    {
      "metadata": {
        "id": "0b3hICOp72uP",
        "colab_type": "code",
        "colab": {
          "base_uri": "https://localhost:8080/",
          "height": 111
        },
        "outputId": "bb903017-fc02-4d63-fce2-a4a7c627b54b"
      },
      "cell_type": "code",
      "source": [
        "# make a new column called suits by adding the number of shirts and pants\n",
        "store_items['suits'] = store_items['pants'] + store_items['shirts']\n",
        "store_items"
      ],
      "execution_count": 20,
      "outputs": [
        {
          "output_type": "execute_result",
          "data": {
            "text/html": [
              "<div>\n",
              "<style scoped>\n",
              "    .dataframe tbody tr th:only-of-type {\n",
              "        vertical-align: middle;\n",
              "    }\n",
              "\n",
              "    .dataframe tbody tr th {\n",
              "        vertical-align: top;\n",
              "    }\n",
              "\n",
              "    .dataframe thead th {\n",
              "        text-align: right;\n",
              "    }\n",
              "</style>\n",
              "<table border=\"1\" class=\"dataframe\">\n",
              "  <thead>\n",
              "    <tr style=\"text-align: right;\">\n",
              "      <th></th>\n",
              "      <th>bikes</th>\n",
              "      <th>glasses</th>\n",
              "      <th>pants</th>\n",
              "      <th>watches</th>\n",
              "      <th>shirts</th>\n",
              "      <th>suits</th>\n",
              "    </tr>\n",
              "  </thead>\n",
              "  <tbody>\n",
              "    <tr>\n",
              "      <th>store 1</th>\n",
              "      <td>20</td>\n",
              "      <td>NaN</td>\n",
              "      <td>30</td>\n",
              "      <td>35</td>\n",
              "      <td>15</td>\n",
              "      <td>45</td>\n",
              "    </tr>\n",
              "    <tr>\n",
              "      <th>store 2</th>\n",
              "      <td>15</td>\n",
              "      <td>50.0</td>\n",
              "      <td>5</td>\n",
              "      <td>10</td>\n",
              "      <td>2</td>\n",
              "      <td>7</td>\n",
              "    </tr>\n",
              "  </tbody>\n",
              "</table>\n",
              "</div>"
            ],
            "text/plain": [
              "         bikes  glasses  pants  watches  shirts  suits\n",
              "store 1     20      NaN     30       35      15     45\n",
              "store 2     15     50.0      5       10       2      7"
            ]
          },
          "metadata": {
            "tags": []
          },
          "execution_count": 20
        }
      ]
    },
    {
      "metadata": {
        "id": "DaABFymq8K8r",
        "colab_type": "text"
      },
      "cell_type": "markdown",
      "source": [
        "Suppose now, that you opened a new store and you need to add the number of items in stock of that new store into your DataFrame. \n",
        "\n",
        "We can do this by adding a new row to the `store_items` Dataframe. \n",
        "\n",
        "To add rows to our DataFrame we first have to create a new Dataframe and then append it to the original DataFrame. \n",
        "\n",
        "By appending a new row to the DataFrame, the columns will be put in alphabetical order.\n"
      ]
    },
    {
      "metadata": {
        "id": "XJ6aH4JL8NA0",
        "colab_type": "code",
        "colab": {
          "base_uri": "https://localhost:8080/",
          "height": 142
        },
        "outputId": "0c54b851-0c07-4319-a5d0-8494054ad7fa"
      },
      "cell_type": "code",
      "source": [
        "# create a dictionary from a list of Python dictionaries that will number of items at the new store\n",
        "new_items = [{'bikes': 20, 'pants': 30, 'watches': 35, 'glasses': 4}]\n",
        "\n",
        "# create a new DataFrame with the new_items and provide and index labeled store 3\n",
        "new_store = pd.DataFrame(new_items, index = ['store 3'])\n",
        "#new_store\n",
        "\n",
        "# append store 3 to our store_items DataFrame\n",
        "store_items = store_items.append(new_store)\n",
        "store_items"
      ],
      "execution_count": 21,
      "outputs": [
        {
          "output_type": "execute_result",
          "data": {
            "text/html": [
              "<div>\n",
              "<style scoped>\n",
              "    .dataframe tbody tr th:only-of-type {\n",
              "        vertical-align: middle;\n",
              "    }\n",
              "\n",
              "    .dataframe tbody tr th {\n",
              "        vertical-align: top;\n",
              "    }\n",
              "\n",
              "    .dataframe thead th {\n",
              "        text-align: right;\n",
              "    }\n",
              "</style>\n",
              "<table border=\"1\" class=\"dataframe\">\n",
              "  <thead>\n",
              "    <tr style=\"text-align: right;\">\n",
              "      <th></th>\n",
              "      <th>bikes</th>\n",
              "      <th>glasses</th>\n",
              "      <th>pants</th>\n",
              "      <th>shirts</th>\n",
              "      <th>suits</th>\n",
              "      <th>watches</th>\n",
              "    </tr>\n",
              "  </thead>\n",
              "  <tbody>\n",
              "    <tr>\n",
              "      <th>store 1</th>\n",
              "      <td>20</td>\n",
              "      <td>NaN</td>\n",
              "      <td>30</td>\n",
              "      <td>15.0</td>\n",
              "      <td>45.0</td>\n",
              "      <td>35</td>\n",
              "    </tr>\n",
              "    <tr>\n",
              "      <th>store 2</th>\n",
              "      <td>15</td>\n",
              "      <td>50.0</td>\n",
              "      <td>5</td>\n",
              "      <td>2.0</td>\n",
              "      <td>7.0</td>\n",
              "      <td>10</td>\n",
              "    </tr>\n",
              "    <tr>\n",
              "      <th>store 3</th>\n",
              "      <td>20</td>\n",
              "      <td>4.0</td>\n",
              "      <td>30</td>\n",
              "      <td>NaN</td>\n",
              "      <td>NaN</td>\n",
              "      <td>35</td>\n",
              "    </tr>\n",
              "  </tbody>\n",
              "</table>\n",
              "</div>"
            ],
            "text/plain": [
              "         bikes  glasses  pants  shirts  suits  watches\n",
              "store 1     20      NaN     30    15.0   45.0       35\n",
              "store 2     15     50.0      5     2.0    7.0       10\n",
              "store 3     20      4.0     30     NaN    NaN       35"
            ]
          },
          "metadata": {
            "tags": []
          },
          "execution_count": 21
        }
      ]
    },
    {
      "metadata": {
        "id": "wU4s-0EZ-Bwt",
        "colab_type": "text"
      },
      "cell_type": "markdown",
      "source": [
        "Add new columns of our DataFrame by using only data from particular rows in particular columns. \n",
        "\n",
        "For example, suppose that you want to stock stores 2 and 3 with new watches and you want the quantity of the new watches to be the same as the watches already in stock for those stores"
      ]
    },
    {
      "metadata": {
        "id": "JFCIdcI1-BSB",
        "colab_type": "code",
        "colab": {
          "base_uri": "https://localhost:8080/",
          "height": 142
        },
        "outputId": "b92a9718-8af0-4e8b-b2ef-4df61168e154"
      },
      "cell_type": "code",
      "source": [
        "# add a new column using data from particular rows in the watches column\n",
        "store_items['new watches'] = store_items['watches'][1:]\n",
        "store_items"
      ],
      "execution_count": 22,
      "outputs": [
        {
          "output_type": "execute_result",
          "data": {
            "text/html": [
              "<div>\n",
              "<style scoped>\n",
              "    .dataframe tbody tr th:only-of-type {\n",
              "        vertical-align: middle;\n",
              "    }\n",
              "\n",
              "    .dataframe tbody tr th {\n",
              "        vertical-align: top;\n",
              "    }\n",
              "\n",
              "    .dataframe thead th {\n",
              "        text-align: right;\n",
              "    }\n",
              "</style>\n",
              "<table border=\"1\" class=\"dataframe\">\n",
              "  <thead>\n",
              "    <tr style=\"text-align: right;\">\n",
              "      <th></th>\n",
              "      <th>bikes</th>\n",
              "      <th>glasses</th>\n",
              "      <th>pants</th>\n",
              "      <th>shirts</th>\n",
              "      <th>suits</th>\n",
              "      <th>watches</th>\n",
              "      <th>new watches</th>\n",
              "    </tr>\n",
              "  </thead>\n",
              "  <tbody>\n",
              "    <tr>\n",
              "      <th>store 1</th>\n",
              "      <td>20</td>\n",
              "      <td>NaN</td>\n",
              "      <td>30</td>\n",
              "      <td>15.0</td>\n",
              "      <td>45.0</td>\n",
              "      <td>35</td>\n",
              "      <td>NaN</td>\n",
              "    </tr>\n",
              "    <tr>\n",
              "      <th>store 2</th>\n",
              "      <td>15</td>\n",
              "      <td>50.0</td>\n",
              "      <td>5</td>\n",
              "      <td>2.0</td>\n",
              "      <td>7.0</td>\n",
              "      <td>10</td>\n",
              "      <td>10.0</td>\n",
              "    </tr>\n",
              "    <tr>\n",
              "      <th>store 3</th>\n",
              "      <td>20</td>\n",
              "      <td>4.0</td>\n",
              "      <td>30</td>\n",
              "      <td>NaN</td>\n",
              "      <td>NaN</td>\n",
              "      <td>35</td>\n",
              "      <td>35.0</td>\n",
              "    </tr>\n",
              "  </tbody>\n",
              "</table>\n",
              "</div>"
            ],
            "text/plain": [
              "         bikes  glasses  pants  shirts  suits  watches  new watches\n",
              "store 1     20      NaN     30    15.0   45.0       35          NaN\n",
              "store 2     15     50.0      5     2.0    7.0       10         10.0\n",
              "store 3     20      4.0     30     NaN    NaN       35         35.0"
            ]
          },
          "metadata": {
            "tags": []
          },
          "execution_count": 22
        }
      ]
    },
    {
      "metadata": {
        "id": "SgHeLw7j-iSP",
        "colab_type": "text"
      },
      "cell_type": "markdown",
      "source": [
        " `dataframe.insert(loc,label,data) `method allows us to insert a new column in the dataframe at location loc, with the given column label, and given data"
      ]
    },
    {
      "metadata": {
        "id": "7CwHRKRo-nom",
        "colab_type": "code",
        "colab": {
          "base_uri": "https://localhost:8080/",
          "height": 142
        },
        "outputId": "a043df2d-f3ae-4664-92dd-1d197d2b55b1"
      },
      "cell_type": "code",
      "source": [
        "# insert a new column with label shoes right before the column with numerical index 4\n",
        "store_items.insert(4, 'shoes', [8,5,0])\n",
        "store_items"
      ],
      "execution_count": 23,
      "outputs": [
        {
          "output_type": "execute_result",
          "data": {
            "text/html": [
              "<div>\n",
              "<style scoped>\n",
              "    .dataframe tbody tr th:only-of-type {\n",
              "        vertical-align: middle;\n",
              "    }\n",
              "\n",
              "    .dataframe tbody tr th {\n",
              "        vertical-align: top;\n",
              "    }\n",
              "\n",
              "    .dataframe thead th {\n",
              "        text-align: right;\n",
              "    }\n",
              "</style>\n",
              "<table border=\"1\" class=\"dataframe\">\n",
              "  <thead>\n",
              "    <tr style=\"text-align: right;\">\n",
              "      <th></th>\n",
              "      <th>bikes</th>\n",
              "      <th>glasses</th>\n",
              "      <th>pants</th>\n",
              "      <th>shirts</th>\n",
              "      <th>shoes</th>\n",
              "      <th>suits</th>\n",
              "      <th>watches</th>\n",
              "      <th>new watches</th>\n",
              "    </tr>\n",
              "  </thead>\n",
              "  <tbody>\n",
              "    <tr>\n",
              "      <th>store 1</th>\n",
              "      <td>20</td>\n",
              "      <td>NaN</td>\n",
              "      <td>30</td>\n",
              "      <td>15.0</td>\n",
              "      <td>8</td>\n",
              "      <td>45.0</td>\n",
              "      <td>35</td>\n",
              "      <td>NaN</td>\n",
              "    </tr>\n",
              "    <tr>\n",
              "      <th>store 2</th>\n",
              "      <td>15</td>\n",
              "      <td>50.0</td>\n",
              "      <td>5</td>\n",
              "      <td>2.0</td>\n",
              "      <td>5</td>\n",
              "      <td>7.0</td>\n",
              "      <td>10</td>\n",
              "      <td>10.0</td>\n",
              "    </tr>\n",
              "    <tr>\n",
              "      <th>store 3</th>\n",
              "      <td>20</td>\n",
              "      <td>4.0</td>\n",
              "      <td>30</td>\n",
              "      <td>NaN</td>\n",
              "      <td>0</td>\n",
              "      <td>NaN</td>\n",
              "      <td>35</td>\n",
              "      <td>35.0</td>\n",
              "    </tr>\n",
              "  </tbody>\n",
              "</table>\n",
              "</div>"
            ],
            "text/plain": [
              "         bikes  glasses  pants  shirts  shoes  suits  watches  new watches\n",
              "store 1     20      NaN     30    15.0      8   45.0       35          NaN\n",
              "store 2     15     50.0      5     2.0      5    7.0       10         10.0\n",
              "store 3     20      4.0     30     NaN      0    NaN       35         35.0"
            ]
          },
          "metadata": {
            "tags": []
          },
          "execution_count": 23
        }
      ]
    },
    {
      "metadata": {
        "id": "HDPkBPbo-4Oy",
        "colab_type": "text"
      },
      "cell_type": "markdown",
      "source": [
        "To delete rows and columns from our DataFrame we will use the `.pop() `and` .drop()` methods. \n",
        "\n",
        "`.pop()`:  delete columns\n",
        "`.drop()` delete both rows and columns by use of the axis keyword."
      ]
    },
    {
      "metadata": {
        "id": "ixsN8UCJ_VpO",
        "colab_type": "code",
        "colab": {
          "base_uri": "https://localhost:8080/",
          "height": 142
        },
        "outputId": "d5591738-9a0f-47ee-ab2a-ffe6f51827c0"
      },
      "cell_type": "code",
      "source": [
        "# remove the new watches column\n",
        "store_items.pop('new watches')\n",
        "store_items"
      ],
      "execution_count": 27,
      "outputs": [
        {
          "output_type": "execute_result",
          "data": {
            "text/html": [
              "<div>\n",
              "<style scoped>\n",
              "    .dataframe tbody tr th:only-of-type {\n",
              "        vertical-align: middle;\n",
              "    }\n",
              "\n",
              "    .dataframe tbody tr th {\n",
              "        vertical-align: top;\n",
              "    }\n",
              "\n",
              "    .dataframe thead th {\n",
              "        text-align: right;\n",
              "    }\n",
              "</style>\n",
              "<table border=\"1\" class=\"dataframe\">\n",
              "  <thead>\n",
              "    <tr style=\"text-align: right;\">\n",
              "      <th></th>\n",
              "      <th>bikes</th>\n",
              "      <th>glasses</th>\n",
              "      <th>pants</th>\n",
              "      <th>shirts</th>\n",
              "      <th>shoes</th>\n",
              "      <th>suits</th>\n",
              "      <th>watches</th>\n",
              "    </tr>\n",
              "  </thead>\n",
              "  <tbody>\n",
              "    <tr>\n",
              "      <th>store 1</th>\n",
              "      <td>20</td>\n",
              "      <td>NaN</td>\n",
              "      <td>30</td>\n",
              "      <td>15.0</td>\n",
              "      <td>8</td>\n",
              "      <td>45.0</td>\n",
              "      <td>35</td>\n",
              "    </tr>\n",
              "    <tr>\n",
              "      <th>store 2</th>\n",
              "      <td>15</td>\n",
              "      <td>50.0</td>\n",
              "      <td>5</td>\n",
              "      <td>2.0</td>\n",
              "      <td>5</td>\n",
              "      <td>7.0</td>\n",
              "      <td>10</td>\n",
              "    </tr>\n",
              "    <tr>\n",
              "      <th>store 3</th>\n",
              "      <td>20</td>\n",
              "      <td>4.0</td>\n",
              "      <td>30</td>\n",
              "      <td>NaN</td>\n",
              "      <td>0</td>\n",
              "      <td>NaN</td>\n",
              "      <td>35</td>\n",
              "    </tr>\n",
              "  </tbody>\n",
              "</table>\n",
              "</div>"
            ],
            "text/plain": [
              "         bikes  glasses  pants  shirts  shoes  suits  watches\n",
              "store 1     20      NaN     30    15.0      8   45.0       35\n",
              "store 2     15     50.0      5     2.0      5    7.0       10\n",
              "store 3     20      4.0     30     NaN      0    NaN       35"
            ]
          },
          "metadata": {
            "tags": []
          },
          "execution_count": 27
        }
      ]
    },
    {
      "metadata": {
        "id": "DWYTJ-Ri_aTp",
        "colab_type": "code",
        "colab": {
          "base_uri": "https://localhost:8080/",
          "height": 80
        },
        "outputId": "c9eb6939-1c7d-45cc-e557-57d6bce316d5"
      },
      "cell_type": "code",
      "source": [
        "# remove columns\n",
        "store_items = store_items.drop(['watches', 'shoes'], axis = 1)\n",
        "#store_items\n",
        "\n",
        "# remove rows\n",
        "store_items = store_items.drop(['store 2', 'store 1'], axis = 0)\n",
        "\n",
        "# we display the modified DataFrame\n",
        "store_items"
      ],
      "execution_count": 28,
      "outputs": [
        {
          "output_type": "execute_result",
          "data": {
            "text/html": [
              "<div>\n",
              "<style scoped>\n",
              "    .dataframe tbody tr th:only-of-type {\n",
              "        vertical-align: middle;\n",
              "    }\n",
              "\n",
              "    .dataframe tbody tr th {\n",
              "        vertical-align: top;\n",
              "    }\n",
              "\n",
              "    .dataframe thead th {\n",
              "        text-align: right;\n",
              "    }\n",
              "</style>\n",
              "<table border=\"1\" class=\"dataframe\">\n",
              "  <thead>\n",
              "    <tr style=\"text-align: right;\">\n",
              "      <th></th>\n",
              "      <th>bikes</th>\n",
              "      <th>glasses</th>\n",
              "      <th>pants</th>\n",
              "      <th>shirts</th>\n",
              "      <th>suits</th>\n",
              "    </tr>\n",
              "  </thead>\n",
              "  <tbody>\n",
              "    <tr>\n",
              "      <th>store 3</th>\n",
              "      <td>20</td>\n",
              "      <td>4.0</td>\n",
              "      <td>30</td>\n",
              "      <td>NaN</td>\n",
              "      <td>NaN</td>\n",
              "    </tr>\n",
              "  </tbody>\n",
              "</table>\n",
              "</div>"
            ],
            "text/plain": [
              "         bikes  glasses  pants  shirts  suits\n",
              "store 3     20      4.0     30     NaN    NaN"
            ]
          },
          "metadata": {
            "tags": []
          },
          "execution_count": 28
        }
      ]
    },
    {
      "metadata": {
        "id": "DducH5iTAl6z",
        "colab_type": "text"
      },
      "cell_type": "markdown",
      "source": [
        "change the row and column labels"
      ]
    },
    {
      "metadata": {
        "id": "c8NoZcoqAo2u",
        "colab_type": "code",
        "colab": {
          "base_uri": "https://localhost:8080/",
          "height": 80
        },
        "outputId": "33c94b13-94bc-4fb9-88a0-d630e80c3942"
      },
      "cell_type": "code",
      "source": [
        "# change the column label bikes to hats\n",
        "store_items = store_items.rename(columns = {'bikes': 'hats'})\n",
        "\n",
        "store_items = store_items.rename(index = {'store 3': 'last store'})\n",
        "\n",
        "# we display the modified DataFrame\n",
        "store_items"
      ],
      "execution_count": 31,
      "outputs": [
        {
          "output_type": "execute_result",
          "data": {
            "text/html": [
              "<div>\n",
              "<style scoped>\n",
              "    .dataframe tbody tr th:only-of-type {\n",
              "        vertical-align: middle;\n",
              "    }\n",
              "\n",
              "    .dataframe tbody tr th {\n",
              "        vertical-align: top;\n",
              "    }\n",
              "\n",
              "    .dataframe thead th {\n",
              "        text-align: right;\n",
              "    }\n",
              "</style>\n",
              "<table border=\"1\" class=\"dataframe\">\n",
              "  <thead>\n",
              "    <tr style=\"text-align: right;\">\n",
              "      <th></th>\n",
              "      <th>hats</th>\n",
              "      <th>glasses</th>\n",
              "      <th>pants</th>\n",
              "      <th>shirts</th>\n",
              "      <th>suits</th>\n",
              "    </tr>\n",
              "  </thead>\n",
              "  <tbody>\n",
              "    <tr>\n",
              "      <th>last store</th>\n",
              "      <td>20</td>\n",
              "      <td>4.0</td>\n",
              "      <td>30</td>\n",
              "      <td>NaN</td>\n",
              "      <td>NaN</td>\n",
              "    </tr>\n",
              "  </tbody>\n",
              "</table>\n",
              "</div>"
            ],
            "text/plain": [
              "            hats  glasses  pants  shirts  suits\n",
              "last store    20      4.0     30     NaN    NaN"
            ]
          },
          "metadata": {
            "tags": []
          },
          "execution_count": 31
        }
      ]
    },
    {
      "metadata": {
        "id": "hJBpEfLSBV1z",
        "colab_type": "code",
        "colab": {
          "base_uri": "https://localhost:8080/",
          "height": 111
        },
        "outputId": "5e295f6f-9a21-4b6a-ef17-d6fe60f4a29e"
      },
      "cell_type": "code",
      "source": [
        "# We change the row index to be the data in the pants column\n",
        "store_items = store_items.set_index('pants')\n",
        "\n",
        "# we display the modified DataFrame\n",
        "store_items"
      ],
      "execution_count": 32,
      "outputs": [
        {
          "output_type": "execute_result",
          "data": {
            "text/html": [
              "<div>\n",
              "<style scoped>\n",
              "    .dataframe tbody tr th:only-of-type {\n",
              "        vertical-align: middle;\n",
              "    }\n",
              "\n",
              "    .dataframe tbody tr th {\n",
              "        vertical-align: top;\n",
              "    }\n",
              "\n",
              "    .dataframe thead th {\n",
              "        text-align: right;\n",
              "    }\n",
              "</style>\n",
              "<table border=\"1\" class=\"dataframe\">\n",
              "  <thead>\n",
              "    <tr style=\"text-align: right;\">\n",
              "      <th></th>\n",
              "      <th>hats</th>\n",
              "      <th>glasses</th>\n",
              "      <th>shirts</th>\n",
              "      <th>suits</th>\n",
              "    </tr>\n",
              "    <tr>\n",
              "      <th>pants</th>\n",
              "      <th></th>\n",
              "      <th></th>\n",
              "      <th></th>\n",
              "      <th></th>\n",
              "    </tr>\n",
              "  </thead>\n",
              "  <tbody>\n",
              "    <tr>\n",
              "      <th>30</th>\n",
              "      <td>20</td>\n",
              "      <td>4.0</td>\n",
              "      <td>NaN</td>\n",
              "      <td>NaN</td>\n",
              "    </tr>\n",
              "  </tbody>\n",
              "</table>\n",
              "</div>"
            ],
            "text/plain": [
              "       hats  glasses  shirts  suits\n",
              "pants                              \n",
              "30       20      4.0     NaN    NaN"
            ]
          },
          "metadata": {
            "tags": []
          },
          "execution_count": 32
        }
      ]
    }
  ]
}