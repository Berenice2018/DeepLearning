{
  "nbformat": 4,
  "nbformat_minor": 0,
  "metadata": {
    "accelerator": "GPU",
    "colab": {
      "name": "face recognition jeffe.ipynb",
      "version": "0.3.2",
      "provenance": [],
      "include_colab_link": true
    },
    "kernelspec": {
      "display_name": "Python 3",
      "language": "python",
      "name": "python3"
    },
    "language_info": {
      "codemirror_mode": {
        "name": "ipython",
        "version": 3
      },
      "file_extension": ".py",
      "mimetype": "text/x-python",
      "name": "python",
      "nbconvert_exporter": "python",
      "pygments_lexer": "ipython3",
      "version": "3.7.3"
    }
  },
  "cells": [
    {
      "cell_type": "markdown",
      "metadata": {
        "id": "view-in-github",
        "colab_type": "text"
      },
      "source": [
        "<a href=\"https://colab.research.google.com/github/Berenice2018/DeepLearning/blob/master/face_recognition_jeffe.ipynb\" target=\"_parent\"><img src=\"https://colab.research.google.com/assets/colab-badge.svg\" alt=\"Open In Colab\"/></a>"
      ]
    },
    {
      "cell_type": "code",
      "metadata": {
        "colab_type": "code",
        "id": "5xdgcVYCJpkj",
        "colab": {}
      },
      "source": [
        "# Imports here\n",
        "import torch\n",
        "import torch.functional as F\n",
        "import torch.nn as nn\n",
        "import torch.optim as optim\n",
        "import torchvision\n",
        "from torch import nn, optim\n",
        "from torch.optim import lr_scheduler\n",
        "from torch.autograd import Variable\n",
        "from torch.utils.data.sampler import SubsetRandomSampler\n",
        "from torchvision import datasets, models, transforms\n",
        "from torchvision import datasets, transforms, models\n",
        "from torch.nn.utils.rnn import pack_padded_sequence, pad_packed_sequence\n",
        "import json\n",
        "import numpy as np\n",
        "import time\n",
        "import copy\n",
        "import matplotlib.pyplot as plt\n",
        "%matplotlib inline\n",
        "import os,cv2\n",
        "\n",
        "import pandas as pd\n",
        "#from pylab import rcParams\n",
        "#rcParams['figure.figsize'] = 20, 10"
      ],
      "execution_count": 0,
      "outputs": []
    },
    {
      "cell_type": "code",
      "metadata": {
        "colab_type": "code",
        "id": "fCJINZX0Kcpk",
        "outputId": "555c8e54-ec87-4948-829b-1b79a9c672a6",
        "colab": {
          "base_uri": "https://localhost:8080/",
          "height": 122
        }
      },
      "source": [
        "from google.colab import drive\n",
        "drive.mount('/content/gdrive')"
      ],
      "execution_count": 2,
      "outputs": [
        {
          "output_type": "stream",
          "text": [
            "Go to this URL in a browser: https://accounts.google.com/o/oauth2/auth?client_id=947318989803-6bn6qk8qdgf4n4g3pfee6491hc0brc4i.apps.googleusercontent.com&redirect_uri=urn%3Aietf%3Awg%3Aoauth%3A2.0%3Aoob&scope=email%20https%3A%2F%2Fwww.googleapis.com%2Fauth%2Fdocs.test%20https%3A%2F%2Fwww.googleapis.com%2Fauth%2Fdrive%20https%3A%2F%2Fwww.googleapis.com%2Fauth%2Fdrive.photos.readonly%20https%3A%2F%2Fwww.googleapis.com%2Fauth%2Fpeopleapi.readonly&response_type=code\n",
            "\n",
            "Enter your authorization code:\n",
            "··········\n",
            "Mounted at /content/gdrive\n"
          ],
          "name": "stdout"
        }
      ]
    },
    {
      "cell_type": "code",
      "metadata": {
        "colab_type": "code",
        "id": "mcvDN0ydqjQ-",
        "outputId": "0be36e1f-4e8a-4c2d-caae-1567c6950cf1",
        "colab": {
          "base_uri": "https://localhost:8080/",
          "height": 34
        }
      },
      "source": [
        "data_dir = \"./gdrive/My Drive/Datasets/facial_expressions/img\"\n",
        "#data_dir = 'flower_data'\n",
        "train_dir = data_dir + '/train'\n",
        "valid_dir = data_dir + '/valid'\n",
        "cat_to_name = data_dir + \"/cat_to_name.json\"\n",
        "\n",
        "means = [0.485, 0.456, 0.406]\n",
        "stds=[0.229, 0.224, 0.225]\n",
        "\n",
        "# TODO: Define your transforms for the training and validation sets\n",
        "data_transforms = {\n",
        "    'train': transforms.Compose([\n",
        "        transforms.ColorJitter(brightness=0.2, saturation=.1),\n",
        "        transforms.RandomRotation(30),\n",
        "        transforms.RandomHorizontalFlip(),\n",
        "        transforms.RandomVerticalFlip(),\n",
        "        transforms.Resize(240),\n",
        "        transforms.RandomResizedCrop(224),\n",
        "        transforms.ToTensor(),\n",
        "        transforms.Normalize(means, stds)\n",
        "    ]),\n",
        "    'valid': transforms.Compose([\n",
        "        transforms.Resize(256),\n",
        "        transforms.CenterCrop(224),\n",
        "        transforms.ToTensor(),\n",
        "        transforms.Normalize(means, stds)\n",
        "    ]),\n",
        "    'test': transforms.Compose([\n",
        "        transforms.Resize(256),\n",
        "        transforms.CenterCrop(224),\n",
        "        transforms.ToTensor(),\n",
        "        transforms.Normalize(means, stds)\n",
        "    ])\n",
        "    }\n",
        "\n",
        "# TODO: Load the datasets with ImageFolder\n",
        "\n",
        "dirs = {'train': train_dir, \n",
        "        'valid': valid_dir,\n",
        "        'test': data_dir}\n",
        "\n",
        "datasets = {x: torchvision.datasets.ImageFolder(dirs[x], transform=data_transforms[x]) for x in ['train', 'valid', 'test']}\n",
        "\n",
        "# TODO: Using the image datasets and the trainforms, define the dataloaders\n",
        "\n",
        "dataloaders = {x: torch.utils.data.DataLoader(datasets[x], batch_size=16, shuffle=True, num_workers=7) for x in ['train', 'valid','test']}\n",
        "\n",
        "dataset_sizes = {x: len(datasets[x]) \n",
        "                              for x in ['train', 'valid','test']}\n",
        "print(dataset_sizes)"
      ],
      "execution_count": 14,
      "outputs": [
        {
          "output_type": "stream",
          "text": [
            "{'train': 151, 'valid': 63, 'test': 214}\n"
          ],
          "name": "stdout"
        }
      ]
    },
    {
      "cell_type": "code",
      "metadata": {
        "colab_type": "code",
        "id": "CSMKKEF1PbrD",
        "outputId": "c6be3495-4408-44e5-e935-b25be4b1031d",
        "colab": {
          "base_uri": "https://localhost:8080/",
          "height": 34
        }
      },
      "source": [
        "import json\n",
        "\n",
        "with open(cat_to_name, 'r') as f:\n",
        "    cat_to_name = json.load(f)\n",
        "print(cat_to_name) "
      ],
      "execution_count": 15,
      "outputs": [
        {
          "output_type": "stream",
          "text": [
            "{'1': 'ANGRY', '2': 'DISGUST', '3': 'FEAR', '4': 'HAPPY', '5': 'NEUTRAL', '6': 'SAD', '7': 'SURPRISE'}\n"
          ],
          "name": "stdout"
        }
      ]
    },
    {
      "cell_type": "code",
      "metadata": {
        "colab_type": "code",
        "id": "a0Ouh4hdRs0D",
        "colab": {}
      },
      "source": [
        "model = models.densenet161(pretrained=True)\n",
        "\n",
        "#model"
      ],
      "execution_count": 0,
      "outputs": []
    },
    {
      "cell_type": "code",
      "metadata": {
        "colab_type": "code",
        "id": "H2VqD_EqpL_s",
        "outputId": "b1974a87-c218-44cd-b513-6d3c2c586157",
        "colab": {
          "base_uri": "https://localhost:8080/",
          "height": 51
        }
      },
      "source": [
        "%%time\n",
        "\n",
        "x, y = next(iter(dataloaders['train']));"
      ],
      "execution_count": 7,
      "outputs": [
        {
          "output_type": "stream",
          "text": [
            "CPU times: user 28.3 ms, sys: 66.1 ms, total: 94.4 ms\n",
            "Wall time: 13.3 s\n"
          ],
          "name": "stdout"
        }
      ]
    },
    {
      "cell_type": "code",
      "metadata": {
        "colab_type": "code",
        "id": "xR9fxwj-f-wG",
        "outputId": "4a482850-abae-4bb2-8718-d8973c0cef72",
        "colab": {
          "base_uri": "https://localhost:8080/",
          "height": 34
        }
      },
      "source": [
        "class_names = datasets['train'].classes\n",
        "print(class_names)"
      ],
      "execution_count": 8,
      "outputs": [
        {
          "output_type": "stream",
          "text": [
            "['1', '2', '3', '4', '5', '6', '7']\n"
          ],
          "name": "stdout"
        }
      ]
    },
    {
      "cell_type": "code",
      "metadata": {
        "id": "m1I1A21i7U9F",
        "colab_type": "code",
        "colab": {}
      },
      "source": [
        "# Visualize plot\n",
        "def plot_loss_acc(n_epochs, train_losses, valid_losses, valid_accuracies):\n",
        "    fig, (ax1, ax2) = plt.subplots(figsize=(14,6), ncols=2)\n",
        "    ax1.plot(valid_losses, label='Validation loss')\n",
        "    ax1.plot(train_losses, label='Training loss')\n",
        "    ax1.legend(frameon=False)\n",
        "    ax1.set_xlabel('Epochs')\n",
        "    ax1.set_ylabel('Loss')\n",
        "    #x_ticks = [x for x in range(0,n_epochs,2)]\n",
        "    #plt.xticks(x_ticks)\n",
        "    \n",
        "    ax2.plot(valid_accuracies, label = 'Validation accuracy')\n",
        "    ax2.legend(frameon=False)\n",
        "    ax2.set_xlabel('Epochs')\n",
        "    \n",
        "    plt.tight_layout()"
      ],
      "execution_count": 0,
      "outputs": []
    },
    {
      "cell_type": "code",
      "metadata": {
        "id": "Zwuyg-248GZ3",
        "colab_type": "code",
        "colab": {}
      },
      "source": [
        "def weights_init_normal(m):\n",
        "    '''Takes in a module and initializes all linear layers with weight\n",
        "       values taken from a normal distribution.'''\n",
        "    classname = m.__class__.__name__\n",
        "    # for every Linear layer in a model\n",
        "    if classname.find('Linear') != -1:\n",
        "        n = m.in_features\n",
        "        # m.weight.data shoud be taken from a normal distribution\n",
        "        m.weight.data.normal_(0, 1/np.sqrt(n))\n",
        "        # m.bias.data should be 0\n",
        "        m.bias.data.fill_(0)"
      ],
      "execution_count": 0,
      "outputs": []
    },
    {
      "cell_type": "code",
      "metadata": {
        "colab_type": "code",
        "id": "vwzo4GzQsAYy",
        "colab": {}
      },
      "source": [
        "def train_model(model, criteria, optimizer, scheduler = None, epochs=10, device='cuda', model_name = 'model.pt'):\n",
        "\n",
        "    since = time.time()\n",
        "    best_model = copy.deepcopy(model.state_dict())\n",
        "    \n",
        "    valid_losses = []\n",
        "    train_losses = []\n",
        "    valid_accuracies = []\n",
        "    \n",
        "    # initialize tracker for accuracy \n",
        "    best_acc = 0 \n",
        "    best_loss = np.Inf \n",
        "    \n",
        "    TS_loss = pd.DataFrame(np.nan, index = range(1,epochs+1), columns = ['train loss','valid loss'])\n",
        "    TS_acc = pd.DataFrame(np.nan,index = range(1,epochs+1), columns = ['train acc','valid acc'])\n",
        "    \n",
        "    for epoch in range(1,epochs+1):\n",
        "        \n",
        "        # monitor loss/accuracy\n",
        "        train_loss_running = 0.0\n",
        "        valid_loss_running = 0.0\n",
        "        train_acc_running = 0.0\n",
        "        valid_acc_running = 0.0\n",
        "\n",
        "        ###################\n",
        "        # train the model #\n",
        "        ###################\n",
        "        if scheduler:\n",
        "            scheduler.step()\n",
        "            \n",
        "        model.train() # prep model for training\n",
        "        \n",
        "        for data, target in dataloaders['train']:\n",
        "    \n",
        "            # Move input and data tensors to the default device\n",
        "            data, target = data.to(device), target.to(device)\n",
        "            # clear the gradients of all optimized variables\n",
        "            optimizer.zero_grad()\n",
        "            # forward pass: compute predicted outputs by passing inputs to the model\n",
        "            output = model(data)\n",
        "            # calculate the batch loss\n",
        "            loss = criteria(output, target)\n",
        "            # backward pass: compute gradient of the loss with respect to model parameters\n",
        "            loss.backward()\n",
        "            # perform a single optimization step (parameter update)\n",
        "            optimizer.step()\n",
        "            # update training loss \n",
        "            train_loss_running += loss.item()*data.size(0)\n",
        "            # accuracy\n",
        "            _, preds = torch.max(output, 1)\n",
        "            train_acc_running  += torch.sum(preds == target.data)\n",
        "            \n",
        "            del loss\n",
        "\n",
        "        ######################    \n",
        "        # validate the model #\n",
        "        ######################\n",
        "        model.eval()\n",
        "        with torch.no_grad():\n",
        "            for data, target in dataloaders['valid']:\n",
        "                data, target = data.to(device), target.to(device)\n",
        "                output = model(data)\n",
        "                loss = criteria(output, target)\n",
        "                valid_loss_running += loss.item()*data.size(0)\n",
        "                \n",
        "                _, preds = torch.max(output, 1)\n",
        "                valid_acc_running  += torch.sum(preds == target.data)\n",
        "                \n",
        "                del loss\n",
        "                # Calculate accuracy\n",
        "                #ps = torch.exp(logps)\n",
        "                #top_p, top_class = ps.topk(1, dim=1)\n",
        "                #equals = top_class == labels.view(*top_class.shape)\n",
        "                #accuracy += torch.mean(equals.type(torch.FloatTensor)).item()\n",
        "\n",
        "        # statistics\n",
        "        train_loss = train_loss_running/ dataset_sizes['train']\n",
        "        valid_loss = valid_loss_running/ dataset_sizes['valid']\n",
        "        train_acc = train_acc_running.double()/ dataset_sizes['train']\n",
        "        valid_acc = valid_acc_running.double()/ dataset_sizes['valid']\n",
        "        \n",
        "        train_losses.append(train_loss)\n",
        "        valid_losses.append(valid_loss)\n",
        "        valid_accuracies.append(valid_acc)\n",
        "        \n",
        "        TS_loss.loc[epoch] = [train_loss, valid_loss]\n",
        "        TS_acc.loc[epoch] = [(train_acc.cpu().numpy()), (valid_acc.cpu().numpy())]                                         \n",
        "\n",
        "        # print training/validation statistics \n",
        "        print('{}/{}: TrainLoss: {:.4f} Acc: {:.4f} | ValidLoss: {:.4f} ValidAcc: {:.4f}'\n",
        "              .format(epoch, epochs, train_loss, train_acc, valid_loss, valid_acc))\n",
        "                                                             \n",
        "        # save model if validation acc has increased\n",
        "        '''if valid_acc > best_acc:\n",
        "            print('Validation Acc increased ({:.4f} --> {:.4f}).  Saving model.'.format(best_acc,valid_acc))\n",
        "            best_model = copy.deepcopy(model.state_dict())                                                                    \n",
        "            best_acc = valid_acc\n",
        "            '''\n",
        "        if valid_loss <= best_loss:\n",
        "            print('Validation Loss decreased ({:.4f} --> {:.4f}).  Saving model.'.format(best_loss, valid_loss))\n",
        "            best_model = copy.deepcopy(model.state_dict())                                                                    \n",
        "            best_loss = valid_loss\n",
        "        \n",
        "    \n",
        "    #End\n",
        "    time_elapsed = time.time() - since\n",
        "    print('Training complete in {:.0f}m {:.0f}s'.format(time_elapsed // 60, time_elapsed % 60))\n",
        "    print('Best Valid Acc: {:4f}; Best loss'.format(best_acc, best_loss))\n",
        "                                                   \n",
        "    TS_loss.plot(title = 'loss')\n",
        "    TS_acc.plot(title = 'acc')\n",
        "    #plot_loss_acc(epochs, train_losses, valid_losses, valid_accuracies)\n",
        "                                                   \n",
        "    # load best model weights\n",
        "    model.load_state_dict(best_model)\n",
        "    \n",
        "    path_save =  '/content/gdrive/My Drive/Datasets/{}.pt'.format(model_name)\n",
        "    torch.save(model.state_dict(), path_save)\n",
        "    \n",
        "    return model"
      ],
      "execution_count": 0,
      "outputs": []
    },
    {
      "cell_type": "code",
      "metadata": {
        "colab_type": "code",
        "id": "6hrVk_TkscuM",
        "outputId": "11d8980d-104f-4af1-b009-f5e8cd35ad6d",
        "colab": {
          "base_uri": "https://localhost:8080/",
          "height": 1000
        }
      },
      "source": [
        "epochs = 40\n",
        "# freezing the feature part of the pre-trained model \n",
        "for param in model.parameters():\n",
        "    param.requires_grad = False\n",
        "    \n",
        "model.classifier = nn.Linear(model.classifier.in_features, len(class_names))\n",
        "model.fc =  nn.Sequential(\n",
        "         nn.Linear(2208, 1024),\n",
        "         nn.ReLU(),\n",
        "         nn.Linear(1024, len(class_names)))\n",
        "\n",
        "model.apply(weights_init_normal)\n",
        "\n",
        "\n",
        "criteria = nn.CrossEntropyLoss()    \n",
        "    \n",
        "optimizer = optim.Adam(model.parameters(), lr=1e-2)\n",
        "#scheduler = lr_scheduler.StepLR(optimizer, step_size=3, gamma=0.1)\n",
        "#scheduler = optim.lr_scheduler.MultiStepLR(optimizer, [7, 20, 25, 30], 0.5)\n",
        "scheduler = optim.lr_scheduler.MultiStepLR(optimizer, [7, 14, 25, 30, 34], 0.5)\n",
        "\n",
        "name_model = 'dense161-Adam-lr1e2-MStepLR-stp7_14_25_30_34-0_5-drop0-epo40-v1'\n",
        "\n",
        "\n",
        "\n",
        "device = torch.device(\"cuda\" if torch.cuda.is_available() else \"cpu\")\n",
        "model.to(device);\n",
        "\n",
        "\n",
        "model_ft = train_model(model, criteria, optimizer, scheduler, epochs, device, name_model)"
      ],
      "execution_count": 53,
      "outputs": [
        {
          "output_type": "stream",
          "text": [
            "1/40: TrainLoss: 4.5037 Acc: 0.1258 | ValidLoss: 3.3703 ValidAcc: 0.1270\n",
            "Validation Loss decreased (inf --> 3.3703).  Saving model.\n",
            "2/40: TrainLoss: 3.4572 Acc: 0.2517 | ValidLoss: 3.1132 ValidAcc: 0.1270\n",
            "Validation Loss decreased (3.3703 --> 3.1132).  Saving model.\n",
            "3/40: TrainLoss: 2.8951 Acc: 0.1921 | ValidLoss: 5.2543 ValidAcc: 0.1587\n",
            "4/40: TrainLoss: 2.8314 Acc: 0.1987 | ValidLoss: 3.9107 ValidAcc: 0.1746\n",
            "5/40: TrainLoss: 2.8685 Acc: 0.1987 | ValidLoss: 2.5309 ValidAcc: 0.2222\n",
            "Validation Loss decreased (3.1132 --> 2.5309).  Saving model.\n",
            "6/40: TrainLoss: 2.4310 Acc: 0.2715 | ValidLoss: 3.8614 ValidAcc: 0.2222\n",
            "7/40: TrainLoss: 2.3072 Acc: 0.2583 | ValidLoss: 2.5874 ValidAcc: 0.2063\n",
            "8/40: TrainLoss: 1.6930 Acc: 0.3046 | ValidLoss: 2.3038 ValidAcc: 0.2540\n",
            "Validation Loss decreased (2.5309 --> 2.3038).  Saving model.\n",
            "9/40: TrainLoss: 1.8891 Acc: 0.3311 | ValidLoss: 2.4547 ValidAcc: 0.2063\n",
            "10/40: TrainLoss: 1.6524 Acc: 0.3775 | ValidLoss: 2.0422 ValidAcc: 0.2857\n",
            "Validation Loss decreased (2.3038 --> 2.0422).  Saving model.\n",
            "11/40: TrainLoss: 1.5568 Acc: 0.4702 | ValidLoss: 2.6010 ValidAcc: 0.2063\n",
            "12/40: TrainLoss: 1.6775 Acc: 0.3775 | ValidLoss: 1.9427 ValidAcc: 0.2381\n",
            "Validation Loss decreased (2.0422 --> 1.9427).  Saving model.\n",
            "13/40: TrainLoss: 1.7446 Acc: 0.3576 | ValidLoss: 2.5979 ValidAcc: 0.2540\n",
            "14/40: TrainLoss: 1.5478 Acc: 0.4570 | ValidLoss: 2.0534 ValidAcc: 0.2381\n",
            "15/40: TrainLoss: 1.5036 Acc: 0.3642 | ValidLoss: 2.0284 ValidAcc: 0.2540\n",
            "16/40: TrainLoss: 1.4200 Acc: 0.4702 | ValidLoss: 1.8349 ValidAcc: 0.3333\n",
            "Validation Loss decreased (1.9427 --> 1.8349).  Saving model.\n",
            "17/40: TrainLoss: 1.5720 Acc: 0.4040 | ValidLoss: 2.1463 ValidAcc: 0.2540\n",
            "18/40: TrainLoss: 1.5021 Acc: 0.4305 | ValidLoss: 1.9067 ValidAcc: 0.2540\n",
            "19/40: TrainLoss: 1.4580 Acc: 0.4636 | ValidLoss: 2.2405 ValidAcc: 0.2063\n",
            "20/40: TrainLoss: 1.4608 Acc: 0.4636 | ValidLoss: 2.0145 ValidAcc: 0.2222\n",
            "21/40: TrainLoss: 1.4796 Acc: 0.4305 | ValidLoss: 1.9863 ValidAcc: 0.2857\n",
            "22/40: TrainLoss: 1.4571 Acc: 0.5033 | ValidLoss: 2.0991 ValidAcc: 0.2063\n",
            "23/40: TrainLoss: 1.3998 Acc: 0.4702 | ValidLoss: 1.8425 ValidAcc: 0.3333\n",
            "24/40: TrainLoss: 1.2966 Acc: 0.5232 | ValidLoss: 2.1245 ValidAcc: 0.2698\n",
            "25/40: TrainLoss: 1.3729 Acc: 0.4305 | ValidLoss: 1.8571 ValidAcc: 0.3492\n",
            "26/40: TrainLoss: 1.2497 Acc: 0.5563 | ValidLoss: 1.8418 ValidAcc: 0.4127\n",
            "27/40: TrainLoss: 1.3520 Acc: 0.4967 | ValidLoss: 1.8816 ValidAcc: 0.3333\n",
            "28/40: TrainLoss: 1.4042 Acc: 0.4570 | ValidLoss: 1.9848 ValidAcc: 0.2540\n",
            "29/40: TrainLoss: 1.2341 Acc: 0.5298 | ValidLoss: 1.8159 ValidAcc: 0.3810\n",
            "Validation Loss decreased (1.8349 --> 1.8159).  Saving model.\n",
            "30/40: TrainLoss: 1.3275 Acc: 0.5232 | ValidLoss: 1.8687 ValidAcc: 0.3333\n",
            "31/40: TrainLoss: 1.4257 Acc: 0.4570 | ValidLoss: 1.9690 ValidAcc: 0.2698\n",
            "32/40: TrainLoss: 1.4654 Acc: 0.4503 | ValidLoss: 1.9113 ValidAcc: 0.3016\n",
            "33/40: TrainLoss: 1.3007 Acc: 0.5629 | ValidLoss: 1.8867 ValidAcc: 0.3651\n",
            "34/40: TrainLoss: 1.3243 Acc: 0.4967 | ValidLoss: 1.8743 ValidAcc: 0.3175\n",
            "35/40: TrainLoss: 1.3278 Acc: 0.4967 | ValidLoss: 1.9147 ValidAcc: 0.3175\n",
            "36/40: TrainLoss: 1.2227 Acc: 0.5563 | ValidLoss: 1.9320 ValidAcc: 0.3016\n",
            "37/40: TrainLoss: 1.3175 Acc: 0.5166 | ValidLoss: 1.8431 ValidAcc: 0.3016\n",
            "38/40: TrainLoss: 1.3005 Acc: 0.5563 | ValidLoss: 1.8769 ValidAcc: 0.3175\n",
            "39/40: TrainLoss: 1.2828 Acc: 0.5099 | ValidLoss: 1.9207 ValidAcc: 0.3175\n",
            "40/40: TrainLoss: 1.4085 Acc: 0.4768 | ValidLoss: 1.9738 ValidAcc: 0.2857\n",
            "Training complete in 3m 56s\n",
            "Best Valid Acc: 0.000000; Best loss\n"
          ],
          "name": "stdout"
        },
        {
          "output_type": "display_data",
          "data": {
            "image/png": "[encoded data removed]",
            "text/plain": [
              "<Figure size 432x288 with 1 Axes>"
            ]
          },
          "metadata": {
            "tags": []
          }
        },
        {
          "output_type": "display_data",
          "data": {
            "image/png": "[encoded data removed]",
            "text/plain": [
              "<Figure size 432x288 with 1 Axes>"
            ]
          },
          "metadata": {
            "tags": []
          }
        }
      ]
    },
    {
      "cell_type": "code",
      "metadata": {
        "colab_type": "code",
        "id": "Ut1Y_b7XtXJi",
        "outputId": "75b7181b-3dbe-4b18-b392-336508994ce4",
        "colab": {
          "base_uri": "https://localhost:8080/",
          "height": 34
        }
      },
      "source": [
        "modely = models.densenet161(pretrained=False)\n",
        "modely.classifier = nn.Linear(model_ft.classifier.in_features, len(class_names))\n",
        "modely.load_state_dict(torch.load(name_model),strict=False)"
      ],
      "execution_count": 0,
      "outputs": [
        {
          "output_type": "execute_result",
          "data": {
            "text/plain": [
              "IncompatibleKeys(missing_keys=[], unexpected_keys=['fc.0.weight', 'fc.0.bias', 'fc.2.weight', 'fc.2.bias'])"
            ]
          },
          "metadata": {
            "tags": []
          },
          "execution_count": 77
        }
      ]
    },
    {
      "cell_type": "code",
      "metadata": {
        "colab_type": "code",
        "id": "au_JXIwPuBe5",
        "colab": {}
      },
      "source": [
        "print(modely)\n"
      ],
      "execution_count": 0,
      "outputs": []
    },
    {
      "cell_type": "code",
      "metadata": {
        "colab_type": "code",
        "id": "SNhOfpBFuEfh",
        "outputId": "c10ff179-7182-4397-8071-df60a90f751e",
        "colab": {
          "base_uri": "https://localhost:8080/",
          "height": 1000
        }
      },
      "source": [
        "for param in model_ft.parameters():\n",
        "    param.requires_grad = True\n",
        "\n",
        "criteria = nn.CrossEntropyLoss()    \n",
        "    \n",
        "optimizer = optim.Adam(model_ft.parameters(), lr=1e-5)\n",
        "\n",
        "device = torch.device(\"cuda\" if torch.cuda.is_available() else \"cpu\")\n",
        "model_ft.to(device);\n",
        "\n",
        "epochs = 50\n",
        "name_model_unfr = name_model + '-unfreeze-lr1e_5-epo50'\n",
        "modelxy = train_model(model_ft, criteria, optimizer,None, epochs, device, name_model_unfr)"
      ],
      "execution_count": 0,
      "outputs": [
        {
          "output_type": "stream",
          "text": [
            "Epoch 1/65\n",
            "----------\n",
            "Train - Loss: 1.4050 Acc: 0.5232\n",
            "Valid - Loss: 1.5917 Acc: 0.3810\n",
            "Validation Acc increased (0.0000 --> 0.3810).  Saving model.\n",
            "\n",
            "Epoch 2/65\n",
            "----------\n",
            "Train - Loss: 1.3943 Acc: 0.4570\n",
            "Valid - Loss: 1.5537 Acc: 0.4127\n",
            "Validation Acc increased (0.3810 --> 0.4127).  Saving model.\n",
            "\n",
            "Epoch 3/65\n",
            "----------\n",
            "Train - Loss: 1.3094 Acc: 0.5497\n",
            "Valid - Loss: 1.4901 Acc: 0.4444\n",
            "Validation Acc increased (0.4127 --> 0.4444).  Saving model.\n",
            "\n",
            "Epoch 4/65\n",
            "----------\n",
            "Train - Loss: 1.2759 Acc: 0.5695\n",
            "Valid - Loss: 1.4391 Acc: 0.4444\n",
            "\n",
            "Epoch 5/65\n",
            "----------\n",
            "Train - Loss: 1.3686 Acc: 0.4768\n",
            "Valid - Loss: 1.4438 Acc: 0.4127\n",
            "\n",
            "Epoch 6/65\n",
            "----------\n",
            "Train - Loss: 1.2965 Acc: 0.5298\n",
            "Valid - Loss: 1.4360 Acc: 0.4444\n",
            "\n",
            "Epoch 7/65\n",
            "----------\n",
            "Train - Loss: 1.1386 Acc: 0.6225\n",
            "Valid - Loss: 1.4381 Acc: 0.4286\n",
            "\n",
            "Epoch 8/65\n",
            "----------\n",
            "Train - Loss: 1.2744 Acc: 0.5430\n",
            "Valid - Loss: 1.4523 Acc: 0.4444\n",
            "\n",
            "Epoch 9/65\n",
            "----------\n",
            "Train - Loss: 1.1922 Acc: 0.6093\n",
            "Valid - Loss: 1.4123 Acc: 0.4603\n",
            "Validation Acc increased (0.4444 --> 0.4603).  Saving model.\n",
            "\n",
            "Epoch 10/65\n",
            "----------\n",
            "Train - Loss: 1.1870 Acc: 0.5497\n",
            "Valid - Loss: 1.3838 Acc: 0.4603\n",
            "\n",
            "Epoch 11/65\n",
            "----------\n",
            "Train - Loss: 1.1677 Acc: 0.5762\n",
            "Valid - Loss: 1.3707 Acc: 0.4762\n",
            "Validation Acc increased (0.4603 --> 0.4762).  Saving model.\n",
            "\n",
            "Epoch 12/65\n",
            "----------\n",
            "Train - Loss: 1.1440 Acc: 0.6093\n",
            "Valid - Loss: 1.3203 Acc: 0.4762\n",
            "\n",
            "Epoch 13/65\n",
            "----------\n",
            "Train - Loss: 1.0289 Acc: 0.6556\n",
            "Valid - Loss: 1.2848 Acc: 0.4921\n",
            "Validation Acc increased (0.4762 --> 0.4921).  Saving model.\n",
            "\n",
            "Epoch 14/65\n",
            "----------\n",
            "Train - Loss: 1.0038 Acc: 0.6093\n",
            "Valid - Loss: 1.2933 Acc: 0.4762\n",
            "\n",
            "Epoch 15/65\n",
            "----------\n",
            "Train - Loss: 1.0825 Acc: 0.6225\n",
            "Valid - Loss: 1.3196 Acc: 0.4444\n",
            "\n",
            "Epoch 16/65\n",
            "----------\n",
            "Train - Loss: 1.0467 Acc: 0.6291\n",
            "Valid - Loss: 1.3319 Acc: 0.4444\n",
            "\n",
            "Epoch 17/65\n",
            "----------\n",
            "Train - Loss: 1.0699 Acc: 0.5762\n",
            "Valid - Loss: 1.3045 Acc: 0.4762\n",
            "\n",
            "Epoch 18/65\n",
            "----------\n",
            "Train - Loss: 1.0341 Acc: 0.6556\n",
            "Valid - Loss: 1.3160 Acc: 0.4444\n",
            "\n",
            "Epoch 19/65\n",
            "----------\n",
            "Train - Loss: 1.0573 Acc: 0.6159\n",
            "Valid - Loss: 1.3490 Acc: 0.4444\n",
            "\n",
            "Epoch 20/65\n",
            "----------\n",
            "Train - Loss: 0.9825 Acc: 0.6490\n",
            "Valid - Loss: 1.3136 Acc: 0.4762\n",
            "\n",
            "Epoch 21/65\n",
            "----------\n",
            "Train - Loss: 1.0458 Acc: 0.6424\n",
            "Valid - Loss: 1.2650 Acc: 0.4444\n",
            "\n",
            "Epoch 22/65\n",
            "----------\n",
            "Train - Loss: 0.9352 Acc: 0.7086\n",
            "Valid - Loss: 1.2500 Acc: 0.4762\n",
            "\n",
            "Epoch 23/65\n",
            "----------\n",
            "Train - Loss: 0.9794 Acc: 0.6225\n",
            "Valid - Loss: 1.2437 Acc: 0.4921\n",
            "\n",
            "Epoch 24/65\n",
            "----------\n",
            "Train - Loss: 0.9771 Acc: 0.6887\n",
            "Valid - Loss: 1.2377 Acc: 0.4762\n",
            "\n",
            "Epoch 25/65\n",
            "----------\n",
            "Train - Loss: 0.9338 Acc: 0.7152\n",
            "Valid - Loss: 1.2340 Acc: 0.4603\n",
            "\n",
            "Epoch 26/65\n",
            "----------\n",
            "Train - Loss: 0.8963 Acc: 0.6954\n",
            "Valid - Loss: 1.1577 Acc: 0.5079\n",
            "Validation Acc increased (0.4921 --> 0.5079).  Saving model.\n",
            "\n",
            "Epoch 27/65\n",
            "----------\n",
            "Train - Loss: 0.8181 Acc: 0.7815\n",
            "Valid - Loss: 1.1664 Acc: 0.5238\n",
            "Validation Acc increased (0.5079 --> 0.5238).  Saving model.\n",
            "\n",
            "Epoch 28/65\n",
            "----------\n",
            "Train - Loss: 0.8623 Acc: 0.6954\n",
            "Valid - Loss: 1.1717 Acc: 0.5079\n",
            "\n",
            "Epoch 29/65\n",
            "----------\n",
            "Train - Loss: 0.8497 Acc: 0.7219\n",
            "Valid - Loss: 1.1722 Acc: 0.5079\n",
            "\n",
            "Epoch 30/65\n",
            "----------\n",
            "Train - Loss: 0.9670 Acc: 0.6887\n",
            "Valid - Loss: 1.1340 Acc: 0.5556\n",
            "Validation Acc increased (0.5238 --> 0.5556).  Saving model.\n",
            "\n",
            "Epoch 31/65\n",
            "----------\n",
            "Train - Loss: 0.8179 Acc: 0.7682\n",
            "Valid - Loss: 1.1527 Acc: 0.5397\n",
            "\n",
            "Epoch 32/65\n",
            "----------\n",
            "Train - Loss: 0.8842 Acc: 0.6623\n",
            "Valid - Loss: 1.1295 Acc: 0.5397\n",
            "\n",
            "Epoch 33/65\n",
            "----------\n",
            "Train - Loss: 0.8494 Acc: 0.6689\n",
            "Valid - Loss: 1.1159 Acc: 0.5714\n",
            "Validation Acc increased (0.5556 --> 0.5714).  Saving model.\n",
            "\n",
            "Epoch 34/65\n",
            "----------\n",
            "Train - Loss: 0.8151 Acc: 0.7682\n",
            "Valid - Loss: 1.1379 Acc: 0.5238\n",
            "\n",
            "Epoch 35/65\n",
            "----------\n",
            "Train - Loss: 0.7903 Acc: 0.7086\n",
            "Valid - Loss: 1.1627 Acc: 0.5079\n",
            "\n",
            "Epoch 36/65\n",
            "----------\n",
            "Train - Loss: 0.8783 Acc: 0.7086\n",
            "Valid - Loss: 1.1869 Acc: 0.4921\n",
            "\n",
            "Epoch 37/65\n",
            "----------\n",
            "Train - Loss: 0.7417 Acc: 0.7616\n",
            "Valid - Loss: 1.1318 Acc: 0.4921\n",
            "\n",
            "Epoch 38/65\n",
            "----------\n",
            "Train - Loss: 0.8028 Acc: 0.7616\n",
            "Valid - Loss: 1.1364 Acc: 0.5079\n",
            "\n",
            "Epoch 39/65\n",
            "----------\n",
            "Train - Loss: 0.7812 Acc: 0.7219\n",
            "Valid - Loss: 1.1479 Acc: 0.4921\n",
            "\n",
            "Epoch 40/65\n",
            "----------\n",
            "Train - Loss: 0.7062 Acc: 0.7881\n",
            "Valid - Loss: 1.1757 Acc: 0.4603\n",
            "\n",
            "Epoch 41/65\n",
            "----------\n",
            "Train - Loss: 0.7122 Acc: 0.7815\n",
            "Valid - Loss: 1.1755 Acc: 0.4444\n",
            "\n",
            "Epoch 42/65\n",
            "----------\n",
            "Train - Loss: 0.7753 Acc: 0.7219\n",
            "Valid - Loss: 1.1874 Acc: 0.4762\n",
            "\n",
            "Epoch 43/65\n",
            "----------\n",
            "Train - Loss: 0.7543 Acc: 0.7152\n",
            "Valid - Loss: 1.2160 Acc: 0.4921\n",
            "\n",
            "Epoch 44/65\n",
            "----------\n",
            "Train - Loss: 0.8236 Acc: 0.7219\n",
            "Valid - Loss: 1.1884 Acc: 0.5238\n",
            "\n",
            "Epoch 45/65\n",
            "----------\n",
            "Train - Loss: 0.7651 Acc: 0.7351\n",
            "Valid - Loss: 1.0905 Acc: 0.5238\n",
            "\n",
            "Epoch 46/65\n",
            "----------\n",
            "Train - Loss: 0.7333 Acc: 0.7682\n",
            "Valid - Loss: 1.0177 Acc: 0.5556\n",
            "\n",
            "Epoch 47/65\n",
            "----------\n",
            "Train - Loss: 0.5994 Acc: 0.8278\n",
            "Valid - Loss: 0.9845 Acc: 0.5556\n",
            "\n",
            "Epoch 48/65\n",
            "----------\n",
            "Train - Loss: 0.6836 Acc: 0.7815\n",
            "Valid - Loss: 0.9908 Acc: 0.5714\n",
            "\n",
            "Epoch 49/65\n",
            "----------\n",
            "Train - Loss: 0.6947 Acc: 0.7881\n",
            "Valid - Loss: 1.0106 Acc: 0.5238\n",
            "\n",
            "Epoch 50/65\n",
            "----------\n",
            "Train - Loss: 0.7074 Acc: 0.7616\n",
            "Valid - Loss: 1.0412 Acc: 0.5079\n",
            "\n",
            "Epoch 51/65\n",
            "----------\n",
            "Train - Loss: 0.7063 Acc: 0.7947\n",
            "Valid - Loss: 1.0453 Acc: 0.5238\n",
            "\n",
            "Epoch 52/65\n",
            "----------\n",
            "Train - Loss: 0.6385 Acc: 0.7881\n",
            "Valid - Loss: 1.0038 Acc: 0.5397\n",
            "\n",
            "Epoch 53/65\n",
            "----------\n",
            "Train - Loss: 0.6327 Acc: 0.7682\n",
            "Valid - Loss: 1.0259 Acc: 0.5397\n",
            "\n",
            "Epoch 54/65\n",
            "----------\n",
            "Train - Loss: 0.7065 Acc: 0.7682\n",
            "Valid - Loss: 0.9967 Acc: 0.5556\n",
            "\n",
            "Epoch 55/65\n",
            "----------\n",
            "Train - Loss: 0.6047 Acc: 0.8146\n",
            "Valid - Loss: 0.9513 Acc: 0.5873\n",
            "Validation Acc increased (0.5714 --> 0.5873).  Saving model.\n",
            "\n",
            "Epoch 56/65\n",
            "----------\n",
            "Train - Loss: 0.6643 Acc: 0.7947\n",
            "Valid - Loss: 0.9518 Acc: 0.6032\n",
            "Validation Acc increased (0.5873 --> 0.6032).  Saving model.\n",
            "\n",
            "Epoch 57/65\n",
            "----------\n",
            "Train - Loss: 0.5994 Acc: 0.7947\n",
            "Valid - Loss: 0.9772 Acc: 0.5873\n",
            "\n",
            "Epoch 58/65\n",
            "----------\n",
            "Train - Loss: 0.6224 Acc: 0.7682\n",
            "Valid - Loss: 0.9832 Acc: 0.5397\n",
            "\n",
            "Epoch 59/65\n",
            "----------\n",
            "Train - Loss: 0.6531 Acc: 0.8013\n",
            "Valid - Loss: 1.0240 Acc: 0.5714\n",
            "\n",
            "Epoch 60/65\n",
            "----------\n",
            "Train - Loss: 0.6149 Acc: 0.8411\n",
            "Valid - Loss: 1.0096 Acc: 0.5556\n",
            "\n",
            "Epoch 61/65\n",
            "----------\n",
            "Train - Loss: 0.5400 Acc: 0.8344\n",
            "Valid - Loss: 1.0819 Acc: 0.5238\n",
            "\n",
            "Epoch 62/65\n",
            "----------\n",
            "Train - Loss: 0.5780 Acc: 0.8212\n",
            "Valid - Loss: 1.0100 Acc: 0.5238\n",
            "\n",
            "Epoch 63/65\n",
            "----------\n",
            "Train - Loss: 0.5097 Acc: 0.8609\n",
            "Valid - Loss: 0.9628 Acc: 0.5714\n",
            "\n",
            "Epoch 64/65\n",
            "----------\n",
            "Train - Loss: 0.5537 Acc: 0.8212\n",
            "Valid - Loss: 0.8977 Acc: 0.6825\n",
            "Validation Acc increased (0.6032 --> 0.6825).  Saving model.\n",
            "\n",
            "Epoch 65/65\n",
            "----------\n",
            "Train - Loss: 0.6205 Acc: 0.7881\n",
            "Valid - Loss: 0.8947 Acc: 0.6667\n",
            "\n",
            "Training complete in 6m 43s\n",
            "Best Valid Acc: 0.682540\n"
          ],
          "name": "stdout"
        },
        {
          "output_type": "display_data",
          "data": {
            "image/png": "[encoded data removed]",
            "text/plain": [
              "<Figure size 432x288 with 1 Axes>"
            ]
          },
          "metadata": {
            "tags": []
          }
        },
        {
          "output_type": "display_data",
          "data": {
            "image/png": "[encoded data removed]",
            "text/plain": [
              "<Figure size 432x288 with 1 Axes>"
            ]
          },
          "metadata": {
            "tags": []
          }
        }
      ]
    },
    {
      "cell_type": "code",
      "metadata": {
        "colab_type": "code",
        "id": "yY9tuHQsubgy",
        "colab": {}
      },
      "source": [
        "# save model as a checkpoint file \n",
        "def save_model_checkpoint(model, optimizer, criteria, epochs):\n",
        "  model.to('cpu')\n",
        "  model.class_to_idx = datasets['train'].class_to_idx\n",
        "  checkpoint = {'input_size': 224*224*3,\n",
        "                'output_size': 7,\n",
        "                'model': model,\n",
        "                'state_dict': model.state_dict(),\n",
        "                'optimizer_state_dict': optimizer.state_dict(),\n",
        "                'criterion': criteria,\n",
        "                'epochs': epochs,\n",
        "                'class_to_idx': model.class_to_idx}\n",
        "\n",
        "  path = \"/content/gdrive/My Drive/facial_expressions/facial_expressions.pth\"\n",
        "  torch.save(checkpoint,path)\n",
        "\n",
        "\n",
        "# load model function \n",
        "def load_checkpoint(filepath):\n",
        "    checkpoint = torch.load(filepath, map_location='cpu')\n",
        "    model = checkpoint[\"model\"]\n",
        "    model.load_state_dict(checkpoint['state_dict'])\n",
        "    return model\n"
      ],
      "execution_count": 0,
      "outputs": []
    },
    {
      "cell_type": "code",
      "metadata": {
        "colab_type": "code",
        "id": "rDKSH_8oIvZK",
        "colab": {}
      },
      "source": [
        "save_model_checkpoint(modelxy, optimizer, criteria, epochs)"
      ],
      "execution_count": 0,
      "outputs": []
    },
    {
      "cell_type": "code",
      "metadata": {
        "colab_type": "code",
        "id": "yU5fIyQsjn3T",
        "colab": {}
      },
      "source": [
        ""
      ],
      "execution_count": 0,
      "outputs": []
    }
  ]
}