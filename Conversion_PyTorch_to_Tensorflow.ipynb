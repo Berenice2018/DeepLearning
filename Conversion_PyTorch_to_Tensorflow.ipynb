{
  "nbformat": 4,
  "nbformat_minor": 0,
  "metadata": {
    "colab": {
      "name": "Conversion PyTorch to Tensorflow.ipynb",
      "version": "0.3.2",
      "provenance": [],
      "collapsed_sections": [],
      "include_colab_link": true
    },
    "kernelspec": {
      "name": "python3",
      "display_name": "Python 3"
    },
    "accelerator": "GPU"
  },
  "cells": [
    {
      "cell_type": "markdown",
      "metadata": {
        "id": "view-in-github",
        "colab_type": "text"
      },
      "source": [
        "<a href=\"https://colab.research.google.com/github/Berenice2018/DeepLearning/blob/master/Conversion_PyTorch_to_Tensorflow.ipynb\" target=\"_parent\"><img src=\"https://colab.research.google.com/assets/colab-badge.svg\" alt=\"Open In Colab\"/></a>"
      ]
    },
    {
      "cell_type": "markdown",
      "metadata": {
        "id": "CyWlmQoKYj8W",
        "colab_type": "text"
      },
      "source": [
        "This is a notebook to test the conversion of :\n",
        "\n",
        "**PyTorch -.pth -->  ONNX -->  TensorflowRep object --> protobuf -.pb**\n"
      ]
    },
    {
      "cell_type": "code",
      "metadata": {
        "id": "P_S1Nwrk4eQz",
        "colab_type": "code",
        "colab": {
          "base_uri": "https://localhost:8080/",
          "height": 34
        },
        "outputId": "9ba48142-0e1d-4d38-9b25-aa5afbbfed8a"
      },
      "source": [
        "# mount google drive\n",
        "from google.colab import drive\n",
        "drive.mount('/content/gdrive')"
      ],
      "execution_count": 1,
      "outputs": [
        {
          "output_type": "stream",
          "text": [
            "Drive already mounted at /content/gdrive; to attempt to forcibly remount, call drive.mount(\"/content/gdrive\", force_remount=True).\n"
          ],
          "name": "stdout"
        }
      ]
    },
    {
      "cell_type": "code",
      "metadata": {
        "id": "qlaRTh7JUylq",
        "colab_type": "code",
        "colab": {
          "base_uri": "https://localhost:8080/",
          "height": 68
        },
        "outputId": "352d52d9-dc0e-4652-c585-bac5738c0bf6"
      },
      "source": [
        "!pip uninstall -y pytorch\n",
        "!pip uninstall -y torch"
      ],
      "execution_count": 2,
      "outputs": [
        {
          "output_type": "stream",
          "text": [
            "\u001b[33mWARNING: Skipping pytorch as it is not installed.\u001b[0m\n",
            "Uninstalling torch-1.1.0:\n",
            "  Successfully uninstalled torch-1.1.0\n"
          ],
          "name": "stdout"
        }
      ]
    },
    {
      "cell_type": "code",
      "metadata": {
        "id": "wnRypZpkSZNw",
        "colab_type": "code",
        "colab": {}
      },
      "source": [
        "torch_url=f\"https://download.pytorch.org/whl/nightly/cpu/torch-1.2.0.dev20190804%2Bcpu-cp36-cp36m-linux_x86_64.whl\"\n",
        "\n",
        "\n",
        "!pip install -U {torch_url} torchvision"
      ],
      "execution_count": 0,
      "outputs": []
    },
    {
      "cell_type": "markdown",
      "metadata": {
        "id": "Uc1lLNcnjemx",
        "colab_type": "text"
      },
      "source": [
        "### PyTorch to ONNX"
      ]
    },
    {
      "cell_type": "code",
      "metadata": {
        "id": "bPl-zaZOjifZ",
        "colab_type": "code",
        "colab": {}
      },
      "source": [
        "\n",
        "import torch.onnx\n",
        "import torchvision\n",
        "\n",
        "\n",
        "help(torch.onnx.export)"
      ],
      "execution_count": 0,
      "outputs": []
    },
    {
      "cell_type": "code",
      "metadata": {
        "id": "cmJoL2rlOkC3",
        "colab_type": "code",
        "colab": {}
      },
      "source": [
        "base_path = './gdrive/My Drive/Colab Notebooks/Fer-dataset/' \n",
        "checkpoint_name = 'akash-mobilenet_v2-FER1-60perc.pt'\n",
        "export_path = base_path + \"ONNX/mobilenet_v2-256px.onnx\"\n",
        "\n",
        "\n",
        "# Standard ImageNet input - 3 channels, 224x224,\n",
        "# values don't matter as we care about network structure.\n",
        "# But they can also be real inputs.\n",
        "\n",
        "# A model class instance (class not shown)\n",
        "model = torchvision.models.mobilenet_v2(pretrained=False)\n",
        "model.classifier[1] = torch.nn.Linear(1280, 7)\n",
        "\n",
        "#print(model)\n",
        "\n",
        "# Load the weights from a file (.pth usually)\n",
        "state_dict = torch.load(base_path + checkpoint_name, map_location=torch.device('cpu'))\n",
        "\n",
        "# Load the weights now into a model net architecture defined by our class\n",
        "model.load_state_dict(state_dict)\n",
        "\n",
        "# Create the right input shape (e.g. for an image)\n",
        "#dummy_input = torch.randn(1, 3, 224, 224)\n",
        "dummy_input = torch.randn(1, 3, 256, 256)\n",
        "\n",
        "\n",
        "\n",
        "torch.onnx.export(model, dummy_input, \"onnx_model_name.onnx\")"
      ],
      "execution_count": 0,
      "outputs": []
    },
    {
      "cell_type": "markdown",
      "metadata": {
        "id": "kEXyLdchsJcJ",
        "colab_type": "text"
      },
      "source": [
        "### Import ONNX to Tensorflow"
      ]
    },
    {
      "cell_type": "code",
      "metadata": {
        "id": "j7blU0oSxEiF",
        "colab_type": "code",
        "colab": {}
      },
      "source": [
        "!pip install onnx"
      ],
      "execution_count": 0,
      "outputs": []
    },
    {
      "cell_type": "code",
      "metadata": {
        "id": "sAdBfLORxOit",
        "colab_type": "code",
        "colab": {}
      },
      "source": [
        "!pip install onnx_tf"
      ],
      "execution_count": 0,
      "outputs": []
    },
    {
      "cell_type": "code",
      "metadata": {
        "id": "Y6AKTbJDsI8f",
        "colab_type": "code",
        "colab": {
          "base_uri": "https://localhost:8080/",
          "height": 479
        },
        "outputId": "50b19358-bcac-4ccb-9f34-b91c83fb6616"
      },
      "source": [
        "import onnx\n",
        "import warnings\n",
        "from onnx_tf.backend import prepare\n",
        "\n",
        "warnings.filterwarnings('ignore') # Ignore all the warning messages in this tutorial\n",
        "\n",
        "tf_model = onnx.load(export_path) # Load the ONNX file\n",
        "\n",
        "tf_rep = prepare(tf_model) # Import the ONNX model to Tensorflow"
      ],
      "execution_count": 14,
      "outputs": [
        {
          "output_type": "stream",
          "text": [
            "/usr/local/lib/python3.6/dist-packages/onnx_tf/common/__init__.py:87: UserWarning: onnx_tf.common.get_outputs_names is deprecated. It will be removed in future release. Use TensorflowGraph.get_outputs_names instead.\n",
            "  warnings.warn(message)\n",
            "WARNING: Logging before flag parsing goes to stderr.\n",
            "W0809 21:35:14.869212 140387286370176 deprecation_wrapper.py:119] From /usr/local/lib/python3.6/dist-packages/onnx_tf/handlers/backend/ceil.py:10: The name tf.ceil is deprecated. Please use tf.math.ceil instead.\n",
            "\n",
            "W0809 21:35:14.879116 140387286370176 deprecation_wrapper.py:119] From /usr/local/lib/python3.6/dist-packages/onnx_tf/handlers/backend/depth_to_space.py:12: The name tf.depth_to_space is deprecated. Please use tf.compat.v1.depth_to_space instead.\n",
            "\n",
            "W0809 21:35:14.883168 140387286370176 deprecation_wrapper.py:119] From /usr/local/lib/python3.6/dist-packages/onnx_tf/handlers/backend/erf.py:9: The name tf.erf is deprecated. Please use tf.math.erf instead.\n",
            "\n",
            "W0809 21:35:15.897196 140387286370176 lazy_loader.py:50] \n",
            "The TensorFlow contrib module will not be included in TensorFlow 2.0.\n",
            "For more information, please see:\n",
            "  * https://github.com/tensorflow/community/blob/master/rfcs/20180907-contrib-sunset.md\n",
            "  * https://github.com/tensorflow/addons\n",
            "  * https://github.com/tensorflow/io (for I/O related ops)\n",
            "If you depend on functionality not listed there, please file an issue.\n",
            "\n",
            "W0809 21:35:15.900936 140387286370176 deprecation_wrapper.py:119] From /usr/local/lib/python3.6/dist-packages/onnx_tf/handlers/backend/is_nan.py:9: The name tf.is_nan is deprecated. Please use tf.math.is_nan instead.\n",
            "\n",
            "W0809 21:35:15.906776 140387286370176 deprecation_wrapper.py:119] From /usr/local/lib/python3.6/dist-packages/onnx_tf/handlers/backend/log.py:10: The name tf.log is deprecated. Please use tf.math.log instead.\n",
            "\n",
            "W0809 21:35:15.929176 140387286370176 deprecation_wrapper.py:119] From /usr/local/lib/python3.6/dist-packages/onnx_tf/handlers/backend/upsample.py:13: The name tf.image.resize_images is deprecated. Please use tf.image.resize instead.\n",
            "\n",
            "W0809 21:35:32.208418 140387286370176 deprecation.py:323] From /usr/local/lib/python3.6/dist-packages/onnx_tf/handlers/backend/gemm.py:14: flatten (from tensorflow.python.layers.core) is deprecated and will be removed in a future version.\n",
            "Instructions for updating:\n",
            "Use keras.layers.flatten instead.\n"
          ],
          "name": "stderr"
        }
      ]
    },
    {
      "cell_type": "code",
      "metadata": {
        "id": "miFUaB750Bih",
        "colab_type": "code",
        "outputId": "e213fc7a-da56-4f6a-df8a-156b48c394d7",
        "colab": {
          "base_uri": "https://localhost:8080/",
          "height": 122
        }
      },
      "source": [
        "# Now we have tf_rep, which is a python class containing four members: graph, inputs, outputs, and tensor_dict.\n",
        "\n",
        "print(tf_rep.inputs) # Input nodes to the model\n",
        "print('-----')\n",
        "print(tf_rep.outputs) # Output nodes from the model\n",
        "print('-----')\n",
        "print(tf_rep.tensor_dict) # All nodes in the model"
      ],
      "execution_count": 15,
      "outputs": [
        {
          "output_type": "stream",
          "text": [
            "['input.1']\n",
            "-----\n",
            "['465']\n",
            "-----\n",
            "{'classifier.1.bias': <tf.Tensor 'Const:0' shape=(1000,) dtype=float32>, 'classifier.1.weight': <tf.Tensor 'Const_1:0' shape=(1000, 1280) dtype=float32>, 'features.0.0.weight': <tf.Tensor 'Const_2:0' shape=(32, 3, 3, 3) dtype=float32>, 'features.0.1.bias': <tf.Tensor 'Const_3:0' shape=(32,) dtype=float32>, 'features.0.1.num_batches_tracked': <tf.Tensor 'Const_4:0' shape=() dtype=int64>, 'features.0.1.running_mean': <tf.Tensor 'Const_5:0' shape=(32,) dtype=float32>, 'features.0.1.running_var': <tf.Tensor 'Const_6:0' shape=(32,) dtype=float32>, 'features.0.1.weight': <tf.Tensor 'Const_7:0' shape=(32,) dtype=float32>, 'features.1.conv.0.0.weight': <tf.Tensor 'Const_8:0' shape=(32, 1, 3, 3) dtype=float32>, 'features.1.conv.0.1.bias': <tf.Tensor 'Const_9:0' shape=(32,) dtype=float32>, 'features.1.conv.0.1.num_batches_tracked': <tf.Tensor 'Const_10:0' shape=() dtype=int64>, 'features.1.conv.0.1.running_mean': <tf.Tensor 'Const_11:0' shape=(32,) dtype=float32>, 'features.1.conv.0.1.running_var': <tf.Tensor 'Const_12:0' shape=(32,) dtype=float32>, 'features.1.conv.0.1.weight': <tf.Tensor 'Const_13:0' shape=(32,) dtype=float32>, 'features.1.conv.1.weight': <tf.Tensor 'Const_14:0' shape=(16, 32, 1, 1) dtype=float32>, 'features.1.conv.2.bias': <tf.Tensor 'Const_15:0' shape=(16,) dtype=float32>, 'features.1.conv.2.num_batches_tracked': <tf.Tensor 'Const_16:0' shape=() dtype=int64>, 'features.1.conv.2.running_mean': <tf.Tensor 'Const_17:0' shape=(16,) dtype=float32>, 'features.1.conv.2.running_var': <tf.Tensor 'Const_18:0' shape=(16,) dtype=float32>, 'features.1.conv.2.weight': <tf.Tensor 'Const_19:0' shape=(16,) dtype=float32>, 'features.10.conv.0.0.weight': <tf.Tensor 'Const_20:0' shape=(384, 64, 1, 1) dtype=float32>, 'features.10.conv.0.1.bias': <tf.Tensor 'Const_21:0' shape=(384,) dtype=float32>, 'features.10.conv.0.1.num_batches_tracked': <tf.Tensor 'Const_22:0' shape=() dtype=int64>, 'features.10.conv.0.1.running_mean': <tf.Tensor 'Const_23:0' shape=(384,) dtype=float32>, 'features.10.conv.0.1.running_var': <tf.Tensor 'Const_24:0' shape=(384,) dtype=float32>, 'features.10.conv.0.1.weight': <tf.Tensor 'Const_25:0' shape=(384,) dtype=float32>, 'features.10.conv.1.0.weight': <tf.Tensor 'Const_26:0' shape=(384, 1, 3, 3) dtype=float32>, 'features.10.conv.1.1.bias': <tf.Tensor 'Const_27:0' shape=(384,) dtype=float32>, 'features.10.conv.1.1.num_batches_tracked': <tf.Tensor 'Const_28:0' shape=() dtype=int64>, 'features.10.conv.1.1.running_mean': <tf.Tensor 'Const_29:0' shape=(384,) dtype=float32>, 'features.10.conv.1.1.running_var': <tf.Tensor 'Const_30:0' shape=(384,) dtype=float32>, 'features.10.conv.1.1.weight': <tf.Tensor 'Const_31:0' shape=(384,) dtype=float32>, 'features.10.conv.2.weight': <tf.Tensor 'Const_32:0' shape=(64, 384, 1, 1) dtype=float32>, 'features.10.conv.3.bias': <tf.Tensor 'Const_33:0' shape=(64,) dtype=float32>, 'features.10.conv.3.num_batches_tracked': <tf.Tensor 'Const_34:0' shape=() dtype=int64>, 'features.10.conv.3.running_mean': <tf.Tensor 'Const_35:0' shape=(64,) dtype=float32>, 'features.10.conv.3.running_var': <tf.Tensor 'Const_36:0' shape=(64,) dtype=float32>, 'features.10.conv.3.weight': <tf.Tensor 'Const_37:0' shape=(64,) dtype=float32>, 'features.11.conv.0.0.weight': <tf.Tensor 'Const_38:0' shape=(384, 64, 1, 1) dtype=float32>, 'features.11.conv.0.1.bias': <tf.Tensor 'Const_39:0' shape=(384,) dtype=float32>, 'features.11.conv.0.1.num_batches_tracked': <tf.Tensor 'Const_40:0' shape=() dtype=int64>, 'features.11.conv.0.1.running_mean': <tf.Tensor 'Const_41:0' shape=(384,) dtype=float32>, 'features.11.conv.0.1.running_var': <tf.Tensor 'Const_42:0' shape=(384,) dtype=float32>, 'features.11.conv.0.1.weight': <tf.Tensor 'Const_43:0' shape=(384,) dtype=float32>, 'features.11.conv.1.0.weight': <tf.Tensor 'Const_44:0' shape=(384, 1, 3, 3) dtype=float32>, 'features.11.conv.1.1.bias': <tf.Tensor 'Const_45:0' shape=(384,) dtype=float32>, 'features.11.conv.1.1.num_batches_tracked': <tf.Tensor 'Const_46:0' shape=() dtype=int64>, 'features.11.conv.1.1.running_mean': <tf.Tensor 'Const_47:0' shape=(384,) dtype=float32>, 'features.11.conv.1.1.running_var': <tf.Tensor 'Const_48:0' shape=(384,) dtype=float32>, 'features.11.conv.1.1.weight': <tf.Tensor 'Const_49:0' shape=(384,) dtype=float32>, 'features.11.conv.2.weight': <tf.Tensor 'Const_50:0' shape=(96, 384, 1, 1) dtype=float32>, 'features.11.conv.3.bias': <tf.Tensor 'Const_51:0' shape=(96,) dtype=float32>, 'features.11.conv.3.num_batches_tracked': <tf.Tensor 'Const_52:0' shape=() dtype=int64>, 'features.11.conv.3.running_mean': <tf.Tensor 'Const_53:0' shape=(96,) dtype=float32>, 'features.11.conv.3.running_var': <tf.Tensor 'Const_54:0' shape=(96,) dtype=float32>, 'features.11.conv.3.weight': <tf.Tensor 'Const_55:0' shape=(96,) dtype=float32>, 'features.12.conv.0.0.weight': <tf.Tensor 'Const_56:0' shape=(576, 96, 1, 1) dtype=float32>, 'features.12.conv.0.1.bias': <tf.Tensor 'Const_57:0' shape=(576,) dtype=float32>, 'features.12.conv.0.1.num_batches_tracked': <tf.Tensor 'Const_58:0' shape=() dtype=int64>, 'features.12.conv.0.1.running_mean': <tf.Tensor 'Const_59:0' shape=(576,) dtype=float32>, 'features.12.conv.0.1.running_var': <tf.Tensor 'Const_60:0' shape=(576,) dtype=float32>, 'features.12.conv.0.1.weight': <tf.Tensor 'Const_61:0' shape=(576,) dtype=float32>, 'features.12.conv.1.0.weight': <tf.Tensor 'Const_62:0' shape=(576, 1, 3, 3) dtype=float32>, 'features.12.conv.1.1.bias': <tf.Tensor 'Const_63:0' shape=(576,) dtype=float32>, 'features.12.conv.1.1.num_batches_tracked': <tf.Tensor 'Const_64:0' shape=() dtype=int64>, 'features.12.conv.1.1.running_mean': <tf.Tensor 'Const_65:0' shape=(576,) dtype=float32>, 'features.12.conv.1.1.running_var': <tf.Tensor 'Const_66:0' shape=(576,) dtype=float32>, 'features.12.conv.1.1.weight': <tf.Tensor 'Const_67:0' shape=(576,) dtype=float32>, 'features.12.conv.2.weight': <tf.Tensor 'Const_68:0' shape=(96, 576, 1, 1) dtype=float32>, 'features.12.conv.3.bias': <tf.Tensor 'Const_69:0' shape=(96,) dtype=float32>, 'features.12.conv.3.num_batches_tracked': <tf.Tensor 'Const_70:0' shape=() dtype=int64>, 'features.12.conv.3.running_mean': <tf.Tensor 'Const_71:0' shape=(96,) dtype=float32>, 'features.12.conv.3.running_var': <tf.Tensor 'Const_72:0' shape=(96,) dtype=float32>, 'features.12.conv.3.weight': <tf.Tensor 'Const_73:0' shape=(96,) dtype=float32>, 'features.13.conv.0.0.weight': <tf.Tensor 'Const_74:0' shape=(576, 96, 1, 1) dtype=float32>, 'features.13.conv.0.1.bias': <tf.Tensor 'Const_75:0' shape=(576,) dtype=float32>, 'features.13.conv.0.1.num_batches_tracked': <tf.Tensor 'Const_76:0' shape=() dtype=int64>, 'features.13.conv.0.1.running_mean': <tf.Tensor 'Const_77:0' shape=(576,) dtype=float32>, 'features.13.conv.0.1.running_var': <tf.Tensor 'Const_78:0' shape=(576,) dtype=float32>, 'features.13.conv.0.1.weight': <tf.Tensor 'Const_79:0' shape=(576,) dtype=float32>, 'features.13.conv.1.0.weight': <tf.Tensor 'Const_80:0' shape=(576, 1, 3, 3) dtype=float32>, 'features.13.conv.1.1.bias': <tf.Tensor 'Const_81:0' shape=(576,) dtype=float32>, 'features.13.conv.1.1.num_batches_tracked': <tf.Tensor 'Const_82:0' shape=() dtype=int64>, 'features.13.conv.1.1.running_mean': <tf.Tensor 'Const_83:0' shape=(576,) dtype=float32>, 'features.13.conv.1.1.running_var': <tf.Tensor 'Const_84:0' shape=(576,) dtype=float32>, 'features.13.conv.1.1.weight': <tf.Tensor 'Const_85:0' shape=(576,) dtype=float32>, 'features.13.conv.2.weight': <tf.Tensor 'Const_86:0' shape=(96, 576, 1, 1) dtype=float32>, 'features.13.conv.3.bias': <tf.Tensor 'Const_87:0' shape=(96,) dtype=float32>, 'features.13.conv.3.num_batches_tracked': <tf.Tensor 'Const_88:0' shape=() dtype=int64>, 'features.13.conv.3.running_mean': <tf.Tensor 'Const_89:0' shape=(96,) dtype=float32>, 'features.13.conv.3.running_var': <tf.Tensor 'Const_90:0' shape=(96,) dtype=float32>, 'features.13.conv.3.weight': <tf.Tensor 'Const_91:0' shape=(96,) dtype=float32>, 'features.14.conv.0.0.weight': <tf.Tensor 'Const_92:0' shape=(576, 96, 1, 1) dtype=float32>, 'features.14.conv.0.1.bias': <tf.Tensor 'Const_93:0' shape=(576,) dtype=float32>, 'features.14.conv.0.1.num_batches_tracked': <tf.Tensor 'Const_94:0' shape=() dtype=int64>, 'features.14.conv.0.1.running_mean': <tf.Tensor 'Const_95:0' shape=(576,) dtype=float32>, 'features.14.conv.0.1.running_var': <tf.Tensor 'Const_96:0' shape=(576,) dtype=float32>, 'features.14.conv.0.1.weight': <tf.Tensor 'Const_97:0' shape=(576,) dtype=float32>, 'features.14.conv.1.0.weight': <tf.Tensor 'Const_98:0' shape=(576, 1, 3, 3) dtype=float32>, 'features.14.conv.1.1.bias': <tf.Tensor 'Const_99:0' shape=(576,) dtype=float32>, 'features.14.conv.1.1.num_batches_tracked': <tf.Tensor 'Const_100:0' shape=() dtype=int64>, 'features.14.conv.1.1.running_mean': <tf.Tensor 'Const_101:0' shape=(576,) dtype=float32>, 'features.14.conv.1.1.running_var': <tf.Tensor 'Const_102:0' shape=(576,) dtype=float32>, 'features.14.conv.1.1.weight': <tf.Tensor 'Const_103:0' shape=(576,) dtype=float32>, 'features.14.conv.2.weight': <tf.Tensor 'Const_104:0' shape=(160, 576, 1, 1) dtype=float32>, 'features.14.conv.3.bias': <tf.Tensor 'Const_105:0' shape=(160,) dtype=float32>, 'features.14.conv.3.num_batches_tracked': <tf.Tensor 'Const_106:0' shape=() dtype=int64>, 'features.14.conv.3.running_mean': <tf.Tensor 'Const_107:0' shape=(160,) dtype=float32>, 'features.14.conv.3.running_var': <tf.Tensor 'Const_108:0' shape=(160,) dtype=float32>, 'features.14.conv.3.weight': <tf.Tensor 'Const_109:0' shape=(160,) dtype=float32>, 'features.15.conv.0.0.weight': <tf.Tensor 'Const_110:0' shape=(960, 160, 1, 1) dtype=float32>, 'features.15.conv.0.1.bias': <tf.Tensor 'Const_111:0' shape=(960,) dtype=float32>, 'features.15.conv.0.1.num_batches_tracked': <tf.Tensor 'Const_112:0' shape=() dtype=int64>, 'features.15.conv.0.1.running_mean': <tf.Tensor 'Const_113:0' shape=(960,) dtype=float32>, 'features.15.conv.0.1.running_var': <tf.Tensor 'Const_114:0' shape=(960,) dtype=float32>, 'features.15.conv.0.1.weight': <tf.Tensor 'Const_115:0' shape=(960,) dtype=float32>, 'features.15.conv.1.0.weight': <tf.Tensor 'Const_116:0' shape=(960, 1, 3, 3) dtype=float32>, 'features.15.conv.1.1.bias': <tf.Tensor 'Const_117:0' shape=(960,) dtype=float32>, 'features.15.conv.1.1.num_batches_tracked': <tf.Tensor 'Const_118:0' shape=() dtype=int64>, 'features.15.conv.1.1.running_mean': <tf.Tensor 'Const_119:0' shape=(960,) dtype=float32>, 'features.15.conv.1.1.running_var': <tf.Tensor 'Const_120:0' shape=(960,) dtype=float32>, 'features.15.conv.1.1.weight': <tf.Tensor 'Const_121:0' shape=(960,) dtype=float32>, 'features.15.conv.2.weight': <tf.Tensor 'Const_122:0' shape=(160, 960, 1, 1) dtype=float32>, 'features.15.conv.3.bias': <tf.Tensor 'Const_123:0' shape=(160,) dtype=float32>, 'features.15.conv.3.num_batches_tracked': <tf.Tensor 'Const_124:0' shape=() dtype=int64>, 'features.15.conv.3.running_mean': <tf.Tensor 'Const_125:0' shape=(160,) dtype=float32>, 'features.15.conv.3.running_var': <tf.Tensor 'Const_126:0' shape=(160,) dtype=float32>, 'features.15.conv.3.weight': <tf.Tensor 'Const_127:0' shape=(160,) dtype=float32>, 'features.16.conv.0.0.weight': <tf.Tensor 'Const_128:0' shape=(960, 160, 1, 1) dtype=float32>, 'features.16.conv.0.1.bias': <tf.Tensor 'Const_129:0' shape=(960,) dtype=float32>, 'features.16.conv.0.1.num_batches_tracked': <tf.Tensor 'Const_130:0' shape=() dtype=int64>, 'features.16.conv.0.1.running_mean': <tf.Tensor 'Const_131:0' shape=(960,) dtype=float32>, 'features.16.conv.0.1.running_var': <tf.Tensor 'Const_132:0' shape=(960,) dtype=float32>, 'features.16.conv.0.1.weight': <tf.Tensor 'Const_133:0' shape=(960,) dtype=float32>, 'features.16.conv.1.0.weight': <tf.Tensor 'Const_134:0' shape=(960, 1, 3, 3) dtype=float32>, 'features.16.conv.1.1.bias': <tf.Tensor 'Const_135:0' shape=(960,) dtype=float32>, 'features.16.conv.1.1.num_batches_tracked': <tf.Tensor 'Const_136:0' shape=() dtype=int64>, 'features.16.conv.1.1.running_mean': <tf.Tensor 'Const_137:0' shape=(960,) dtype=float32>, 'features.16.conv.1.1.running_var': <tf.Tensor 'Const_138:0' shape=(960,) dtype=float32>, 'features.16.conv.1.1.weight': <tf.Tensor 'Const_139:0' shape=(960,) dtype=float32>, 'features.16.conv.2.weight': <tf.Tensor 'Const_140:0' shape=(160, 960, 1, 1) dtype=float32>, 'features.16.conv.3.bias': <tf.Tensor 'Const_141:0' shape=(160,) dtype=float32>, 'features.16.conv.3.num_batches_tracked': <tf.Tensor 'Const_142:0' shape=() dtype=int64>, 'features.16.conv.3.running_mean': <tf.Tensor 'Const_143:0' shape=(160,) dtype=float32>, 'features.16.conv.3.running_var': <tf.Tensor 'Const_144:0' shape=(160,) dtype=float32>, 'features.16.conv.3.weight': <tf.Tensor 'Const_145:0' shape=(160,) dtype=float32>, 'features.17.conv.0.0.weight': <tf.Tensor 'Const_146:0' shape=(960, 160, 1, 1) dtype=float32>, 'features.17.conv.0.1.bias': <tf.Tensor 'Const_147:0' shape=(960,) dtype=float32>, 'features.17.conv.0.1.num_batches_tracked': <tf.Tensor 'Const_148:0' shape=() dtype=int64>, 'features.17.conv.0.1.running_mean': <tf.Tensor 'Const_149:0' shape=(960,) dtype=float32>, 'features.17.conv.0.1.running_var': <tf.Tensor 'Const_150:0' shape=(960,) dtype=float32>, 'features.17.conv.0.1.weight': <tf.Tensor 'Const_151:0' shape=(960,) dtype=float32>, 'features.17.conv.1.0.weight': <tf.Tensor 'Const_152:0' shape=(960, 1, 3, 3) dtype=float32>, 'features.17.conv.1.1.bias': <tf.Tensor 'Const_153:0' shape=(960,) dtype=float32>, 'features.17.conv.1.1.num_batches_tracked': <tf.Tensor 'Const_154:0' shape=() dtype=int64>, 'features.17.conv.1.1.running_mean': <tf.Tensor 'Const_155:0' shape=(960,) dtype=float32>, 'features.17.conv.1.1.running_var': <tf.Tensor 'Const_156:0' shape=(960,) dtype=float32>, 'features.17.conv.1.1.weight': <tf.Tensor 'Const_157:0' shape=(960,) dtype=float32>, 'features.17.conv.2.weight': <tf.Tensor 'Const_158:0' shape=(320, 960, 1, 1) dtype=float32>, 'features.17.conv.3.bias': <tf.Tensor 'Const_159:0' shape=(320,) dtype=float32>, 'features.17.conv.3.num_batches_tracked': <tf.Tensor 'Const_160:0' shape=() dtype=int64>, 'features.17.conv.3.running_mean': <tf.Tensor 'Const_161:0' shape=(320,) dtype=float32>, 'features.17.conv.3.running_var': <tf.Tensor 'Const_162:0' shape=(320,) dtype=float32>, 'features.17.conv.3.weight': <tf.Tensor 'Const_163:0' shape=(320,) dtype=float32>, 'features.18.0.weight': <tf.Tensor 'Const_164:0' shape=(1280, 320, 1, 1) dtype=float32>, 'features.18.1.bias': <tf.Tensor 'Const_165:0' shape=(1280,) dtype=float32>, 'features.18.1.num_batches_tracked': <tf.Tensor 'Const_166:0' shape=() dtype=int64>, 'features.18.1.running_mean': <tf.Tensor 'Const_167:0' shape=(1280,) dtype=float32>, 'features.18.1.running_var': <tf.Tensor 'Const_168:0' shape=(1280,) dtype=float32>, 'features.18.1.weight': <tf.Tensor 'Const_169:0' shape=(1280,) dtype=float32>, 'features.2.conv.0.0.weight': <tf.Tensor 'Const_170:0' shape=(96, 16, 1, 1) dtype=float32>, 'features.2.conv.0.1.bias': <tf.Tensor 'Const_171:0' shape=(96,) dtype=float32>, 'features.2.conv.0.1.num_batches_tracked': <tf.Tensor 'Const_172:0' shape=() dtype=int64>, 'features.2.conv.0.1.running_mean': <tf.Tensor 'Const_173:0' shape=(96,) dtype=float32>, 'features.2.conv.0.1.running_var': <tf.Tensor 'Const_174:0' shape=(96,) dtype=float32>, 'features.2.conv.0.1.weight': <tf.Tensor 'Const_175:0' shape=(96,) dtype=float32>, 'features.2.conv.1.0.weight': <tf.Tensor 'Const_176:0' shape=(96, 1, 3, 3) dtype=float32>, 'features.2.conv.1.1.bias': <tf.Tensor 'Const_177:0' shape=(96,) dtype=float32>, 'features.2.conv.1.1.num_batches_tracked': <tf.Tensor 'Const_178:0' shape=() dtype=int64>, 'features.2.conv.1.1.running_mean': <tf.Tensor 'Const_179:0' shape=(96,) dtype=float32>, 'features.2.conv.1.1.running_var': <tf.Tensor 'Const_180:0' shape=(96,) dtype=float32>, 'features.2.conv.1.1.weight': <tf.Tensor 'Const_181:0' shape=(96,) dtype=float32>, 'features.2.conv.2.weight': <tf.Tensor 'Const_182:0' shape=(24, 96, 1, 1) dtype=float32>, 'features.2.conv.3.bias': <tf.Tensor 'Const_183:0' shape=(24,) dtype=float32>, 'features.2.conv.3.num_batches_tracked': <tf.Tensor 'Const_184:0' shape=() dtype=int64>, 'features.2.conv.3.running_mean': <tf.Tensor 'Const_185:0' shape=(24,) dtype=float32>, 'features.2.conv.3.running_var': <tf.Tensor 'Const_186:0' shape=(24,) dtype=float32>, 'features.2.conv.3.weight': <tf.Tensor 'Const_187:0' shape=(24,) dtype=float32>, 'features.3.conv.0.0.weight': <tf.Tensor 'Const_188:0' shape=(144, 24, 1, 1) dtype=float32>, 'features.3.conv.0.1.bias': <tf.Tensor 'Const_189:0' shape=(144,) dtype=float32>, 'features.3.conv.0.1.num_batches_tracked': <tf.Tensor 'Const_190:0' shape=() dtype=int64>, 'features.3.conv.0.1.running_mean': <tf.Tensor 'Const_191:0' shape=(144,) dtype=float32>, 'features.3.conv.0.1.running_var': <tf.Tensor 'Const_192:0' shape=(144,) dtype=float32>, 'features.3.conv.0.1.weight': <tf.Tensor 'Const_193:0' shape=(144,) dtype=float32>, 'features.3.conv.1.0.weight': <tf.Tensor 'Const_194:0' shape=(144, 1, 3, 3) dtype=float32>, 'features.3.conv.1.1.bias': <tf.Tensor 'Const_195:0' shape=(144,) dtype=float32>, 'features.3.conv.1.1.num_batches_tracked': <tf.Tensor 'Const_196:0' shape=() dtype=int64>, 'features.3.conv.1.1.running_mean': <tf.Tensor 'Const_197:0' shape=(144,) dtype=float32>, 'features.3.conv.1.1.running_var': <tf.Tensor 'Const_198:0' shape=(144,) dtype=float32>, 'features.3.conv.1.1.weight': <tf.Tensor 'Const_199:0' shape=(144,) dtype=float32>, 'features.3.conv.2.weight': <tf.Tensor 'Const_200:0' shape=(24, 144, 1, 1) dtype=float32>, 'features.3.conv.3.bias': <tf.Tensor 'Const_201:0' shape=(24,) dtype=float32>, 'features.3.conv.3.num_batches_tracked': <tf.Tensor 'Const_202:0' shape=() dtype=int64>, 'features.3.conv.3.running_mean': <tf.Tensor 'Const_203:0' shape=(24,) dtype=float32>, 'features.3.conv.3.running_var': <tf.Tensor 'Const_204:0' shape=(24,) dtype=float32>, 'features.3.conv.3.weight': <tf.Tensor 'Const_205:0' shape=(24,) dtype=float32>, 'features.4.conv.0.0.weight': <tf.Tensor 'Const_206:0' shape=(144, 24, 1, 1) dtype=float32>, 'features.4.conv.0.1.bias': <tf.Tensor 'Const_207:0' shape=(144,) dtype=float32>, 'features.4.conv.0.1.num_batches_tracked': <tf.Tensor 'Const_208:0' shape=() dtype=int64>, 'features.4.conv.0.1.running_mean': <tf.Tensor 'Const_209:0' shape=(144,) dtype=float32>, 'features.4.conv.0.1.running_var': <tf.Tensor 'Const_210:0' shape=(144,) dtype=float32>, 'features.4.conv.0.1.weight': <tf.Tensor 'Const_211:0' shape=(144,) dtype=float32>, 'features.4.conv.1.0.weight': <tf.Tensor 'Const_212:0' shape=(144, 1, 3, 3) dtype=float32>, 'features.4.conv.1.1.bias': <tf.Tensor 'Const_213:0' shape=(144,) dtype=float32>, 'features.4.conv.1.1.num_batches_tracked': <tf.Tensor 'Const_214:0' shape=() dtype=int64>, 'features.4.conv.1.1.running_mean': <tf.Tensor 'Const_215:0' shape=(144,) dtype=float32>, 'features.4.conv.1.1.running_var': <tf.Tensor 'Const_216:0' shape=(144,) dtype=float32>, 'features.4.conv.1.1.weight': <tf.Tensor 'Const_217:0' shape=(144,) dtype=float32>, 'features.4.conv.2.weight': <tf.Tensor 'Const_218:0' shape=(32, 144, 1, 1) dtype=float32>, 'features.4.conv.3.bias': <tf.Tensor 'Const_219:0' shape=(32,) dtype=float32>, 'features.4.conv.3.num_batches_tracked': <tf.Tensor 'Const_220:0' shape=() dtype=int64>, 'features.4.conv.3.running_mean': <tf.Tensor 'Const_221:0' shape=(32,) dtype=float32>, 'features.4.conv.3.running_var': <tf.Tensor 'Const_222:0' shape=(32,) dtype=float32>, 'features.4.conv.3.weight': <tf.Tensor 'Const_223:0' shape=(32,) dtype=float32>, 'features.5.conv.0.0.weight': <tf.Tensor 'Const_224:0' shape=(192, 32, 1, 1) dtype=float32>, 'features.5.conv.0.1.bias': <tf.Tensor 'Const_225:0' shape=(192,) dtype=float32>, 'features.5.conv.0.1.num_batches_tracked': <tf.Tensor 'Const_226:0' shape=() dtype=int64>, 'features.5.conv.0.1.running_mean': <tf.Tensor 'Const_227:0' shape=(192,) dtype=float32>, 'features.5.conv.0.1.running_var': <tf.Tensor 'Const_228:0' shape=(192,) dtype=float32>, 'features.5.conv.0.1.weight': <tf.Tensor 'Const_229:0' shape=(192,) dtype=float32>, 'features.5.conv.1.0.weight': <tf.Tensor 'Const_230:0' shape=(192, 1, 3, 3) dtype=float32>, 'features.5.conv.1.1.bias': <tf.Tensor 'Const_231:0' shape=(192,) dtype=float32>, 'features.5.conv.1.1.num_batches_tracked': <tf.Tensor 'Const_232:0' shape=() dtype=int64>, 'features.5.conv.1.1.running_mean': <tf.Tensor 'Const_233:0' shape=(192,) dtype=float32>, 'features.5.conv.1.1.running_var': <tf.Tensor 'Const_234:0' shape=(192,) dtype=float32>, 'features.5.conv.1.1.weight': <tf.Tensor 'Const_235:0' shape=(192,) dtype=float32>, 'features.5.conv.2.weight': <tf.Tensor 'Const_236:0' shape=(32, 192, 1, 1) dtype=float32>, 'features.5.conv.3.bias': <tf.Tensor 'Const_237:0' shape=(32,) dtype=float32>, 'features.5.conv.3.num_batches_tracked': <tf.Tensor 'Const_238:0' shape=() dtype=int64>, 'features.5.conv.3.running_mean': <tf.Tensor 'Const_239:0' shape=(32,) dtype=float32>, 'features.5.conv.3.running_var': <tf.Tensor 'Const_240:0' shape=(32,) dtype=float32>, 'features.5.conv.3.weight': <tf.Tensor 'Const_241:0' shape=(32,) dtype=float32>, 'features.6.conv.0.0.weight': <tf.Tensor 'Const_242:0' shape=(192, 32, 1, 1) dtype=float32>, 'features.6.conv.0.1.bias': <tf.Tensor 'Const_243:0' shape=(192,) dtype=float32>, 'features.6.conv.0.1.num_batches_tracked': <tf.Tensor 'Const_244:0' shape=() dtype=int64>, 'features.6.conv.0.1.running_mean': <tf.Tensor 'Const_245:0' shape=(192,) dtype=float32>, 'features.6.conv.0.1.running_var': <tf.Tensor 'Const_246:0' shape=(192,) dtype=float32>, 'features.6.conv.0.1.weight': <tf.Tensor 'Const_247:0' shape=(192,) dtype=float32>, 'features.6.conv.1.0.weight': <tf.Tensor 'Const_248:0' shape=(192, 1, 3, 3) dtype=float32>, 'features.6.conv.1.1.bias': <tf.Tensor 'Const_249:0' shape=(192,) dtype=float32>, 'features.6.conv.1.1.num_batches_tracked': <tf.Tensor 'Const_250:0' shape=() dtype=int64>, 'features.6.conv.1.1.running_mean': <tf.Tensor 'Const_251:0' shape=(192,) dtype=float32>, 'features.6.conv.1.1.running_var': <tf.Tensor 'Const_252:0' shape=(192,) dtype=float32>, 'features.6.conv.1.1.weight': <tf.Tensor 'Const_253:0' shape=(192,) dtype=float32>, 'features.6.conv.2.weight': <tf.Tensor 'Const_254:0' shape=(32, 192, 1, 1) dtype=float32>, 'features.6.conv.3.bias': <tf.Tensor 'Const_255:0' shape=(32,) dtype=float32>, 'features.6.conv.3.num_batches_tracked': <tf.Tensor 'Const_256:0' shape=() dtype=int64>, 'features.6.conv.3.running_mean': <tf.Tensor 'Const_257:0' shape=(32,) dtype=float32>, 'features.6.conv.3.running_var': <tf.Tensor 'Const_258:0' shape=(32,) dtype=float32>, 'features.6.conv.3.weight': <tf.Tensor 'Const_259:0' shape=(32,) dtype=float32>, 'features.7.conv.0.0.weight': <tf.Tensor 'Const_260:0' shape=(192, 32, 1, 1) dtype=float32>, 'features.7.conv.0.1.bias': <tf.Tensor 'Const_261:0' shape=(192,) dtype=float32>, 'features.7.conv.0.1.num_batches_tracked': <tf.Tensor 'Const_262:0' shape=() dtype=int64>, 'features.7.conv.0.1.running_mean': <tf.Tensor 'Const_263:0' shape=(192,) dtype=float32>, 'features.7.conv.0.1.running_var': <tf.Tensor 'Const_264:0' shape=(192,) dtype=float32>, 'features.7.conv.0.1.weight': <tf.Tensor 'Const_265:0' shape=(192,) dtype=float32>, 'features.7.conv.1.0.weight': <tf.Tensor 'Const_266:0' shape=(192, 1, 3, 3) dtype=float32>, 'features.7.conv.1.1.bias': <tf.Tensor 'Const_267:0' shape=(192,) dtype=float32>, 'features.7.conv.1.1.num_batches_tracked': <tf.Tensor 'Const_268:0' shape=() dtype=int64>, 'features.7.conv.1.1.running_mean': <tf.Tensor 'Const_269:0' shape=(192,) dtype=float32>, 'features.7.conv.1.1.running_var': <tf.Tensor 'Const_270:0' shape=(192,) dtype=float32>, 'features.7.conv.1.1.weight': <tf.Tensor 'Const_271:0' shape=(192,) dtype=float32>, 'features.7.conv.2.weight': <tf.Tensor 'Const_272:0' shape=(64, 192, 1, 1) dtype=float32>, 'features.7.conv.3.bias': <tf.Tensor 'Const_273:0' shape=(64,) dtype=float32>, 'features.7.conv.3.num_batches_tracked': <tf.Tensor 'Const_274:0' shape=() dtype=int64>, 'features.7.conv.3.running_mean': <tf.Tensor 'Const_275:0' shape=(64,) dtype=float32>, 'features.7.conv.3.running_var': <tf.Tensor 'Const_276:0' shape=(64,) dtype=float32>, 'features.7.conv.3.weight': <tf.Tensor 'Const_277:0' shape=(64,) dtype=float32>, 'features.8.conv.0.0.weight': <tf.Tensor 'Const_278:0' shape=(384, 64, 1, 1) dtype=float32>, 'features.8.conv.0.1.bias': <tf.Tensor 'Const_279:0' shape=(384,) dtype=float32>, 'features.8.conv.0.1.num_batches_tracked': <tf.Tensor 'Const_280:0' shape=() dtype=int64>, 'features.8.conv.0.1.running_mean': <tf.Tensor 'Const_281:0' shape=(384,) dtype=float32>, 'features.8.conv.0.1.running_var': <tf.Tensor 'Const_282:0' shape=(384,) dtype=float32>, 'features.8.conv.0.1.weight': <tf.Tensor 'Const_283:0' shape=(384,) dtype=float32>, 'features.8.conv.1.0.weight': <tf.Tensor 'Const_284:0' shape=(384, 1, 3, 3) dtype=float32>, 'features.8.conv.1.1.bias': <tf.Tensor 'Const_285:0' shape=(384,) dtype=float32>, 'features.8.conv.1.1.num_batches_tracked': <tf.Tensor 'Const_286:0' shape=() dtype=int64>, 'features.8.conv.1.1.running_mean': <tf.Tensor 'Const_287:0' shape=(384,) dtype=float32>, 'features.8.conv.1.1.running_var': <tf.Tensor 'Const_288:0' shape=(384,) dtype=float32>, 'features.8.conv.1.1.weight': <tf.Tensor 'Const_289:0' shape=(384,) dtype=float32>, 'features.8.conv.2.weight': <tf.Tensor 'Const_290:0' shape=(64, 384, 1, 1) dtype=float32>, 'features.8.conv.3.bias': <tf.Tensor 'Const_291:0' shape=(64,) dtype=float32>, 'features.8.conv.3.num_batches_tracked': <tf.Tensor 'Const_292:0' shape=() dtype=int64>, 'features.8.conv.3.running_mean': <tf.Tensor 'Const_293:0' shape=(64,) dtype=float32>, 'features.8.conv.3.running_var': <tf.Tensor 'Const_294:0' shape=(64,) dtype=float32>, 'features.8.conv.3.weight': <tf.Tensor 'Const_295:0' shape=(64,) dtype=float32>, 'features.9.conv.0.0.weight': <tf.Tensor 'Const_296:0' shape=(384, 64, 1, 1) dtype=float32>, 'features.9.conv.0.1.bias': <tf.Tensor 'Const_297:0' shape=(384,) dtype=float32>, 'features.9.conv.0.1.num_batches_tracked': <tf.Tensor 'Const_298:0' shape=() dtype=int64>, 'features.9.conv.0.1.running_mean': <tf.Tensor 'Const_299:0' shape=(384,) dtype=float32>, 'features.9.conv.0.1.running_var': <tf.Tensor 'Const_300:0' shape=(384,) dtype=float32>, 'features.9.conv.0.1.weight': <tf.Tensor 'Const_301:0' shape=(384,) dtype=float32>, 'features.9.conv.1.0.weight': <tf.Tensor 'Const_302:0' shape=(384, 1, 3, 3) dtype=float32>, 'features.9.conv.1.1.bias': <tf.Tensor 'Const_303:0' shape=(384,) dtype=float32>, 'features.9.conv.1.1.num_batches_tracked': <tf.Tensor 'Const_304:0' shape=() dtype=int64>, 'features.9.conv.1.1.running_mean': <tf.Tensor 'Const_305:0' shape=(384,) dtype=float32>, 'features.9.conv.1.1.running_var': <tf.Tensor 'Const_306:0' shape=(384,) dtype=float32>, 'features.9.conv.1.1.weight': <tf.Tensor 'Const_307:0' shape=(384,) dtype=float32>, 'features.9.conv.2.weight': <tf.Tensor 'Const_308:0' shape=(64, 384, 1, 1) dtype=float32>, 'features.9.conv.3.bias': <tf.Tensor 'Const_309:0' shape=(64,) dtype=float32>, 'features.9.conv.3.num_batches_tracked': <tf.Tensor 'Const_310:0' shape=() dtype=int64>, 'features.9.conv.3.running_mean': <tf.Tensor 'Const_311:0' shape=(64,) dtype=float32>, 'features.9.conv.3.running_var': <tf.Tensor 'Const_312:0' shape=(64,) dtype=float32>, 'features.9.conv.3.weight': <tf.Tensor 'Const_313:0' shape=(64,) dtype=float32>, 'input.1': <tf.Tensor 'input.1:0' shape=(1, 3, 256, 256) dtype=float32>, '315': <tf.Tensor 'concat:0' shape=(1, 32, 128, 128) dtype=float32>, '316': <tf.Tensor 'batchnorm/add_1:0' shape=(1, 32, 128, 128) dtype=float32>, '317': <tf.Tensor 'clip_by_value:0' shape=(1, 32, 128, 128) dtype=float32>, '318': <tf.Tensor 'concat_1:0' shape=(1, 32, 128, 128) dtype=float32>, '319': <tf.Tensor 'batchnorm_1/add_1:0' shape=(1, 32, 128, 128) dtype=float32>, '320': <tf.Tensor 'clip_by_value_1:0' shape=(1, 32, 128, 128) dtype=float32>, '321': <tf.Tensor 'concat_2:0' shape=(1, 16, 128, 128) dtype=float32>, '322': <tf.Tensor 'batchnorm_2/add_1:0' shape=(1, 16, 128, 128) dtype=float32>, '323': <tf.Tensor 'concat_3:0' shape=(1, 96, 128, 128) dtype=float32>, '324': <tf.Tensor 'batchnorm_3/add_1:0' shape=(1, 96, 128, 128) dtype=float32>, '325': <tf.Tensor 'clip_by_value_2:0' shape=(1, 96, 128, 128) dtype=float32>, '326': <tf.Tensor 'concat_4:0' shape=(1, 96, 64, 64) dtype=float32>, '327': <tf.Tensor 'batchnorm_4/add_1:0' shape=(1, 96, 64, 64) dtype=float32>, '328': <tf.Tensor 'clip_by_value_3:0' shape=(1, 96, 64, 64) dtype=float32>, '329': <tf.Tensor 'concat_5:0' shape=(1, 24, 64, 64) dtype=float32>, '330': <tf.Tensor 'batchnorm_5/add_1:0' shape=(1, 24, 64, 64) dtype=float32>, '331': <tf.Tensor 'concat_6:0' shape=(1, 144, 64, 64) dtype=float32>, '332': <tf.Tensor 'batchnorm_6/add_1:0' shape=(1, 144, 64, 64) dtype=float32>, '333': <tf.Tensor 'clip_by_value_4:0' shape=(1, 144, 64, 64) dtype=float32>, '334': <tf.Tensor 'concat_7:0' shape=(1, 144, 64, 64) dtype=float32>, '335': <tf.Tensor 'batchnorm_7/add_1:0' shape=(1, 144, 64, 64) dtype=float32>, '336': <tf.Tensor 'clip_by_value_5:0' shape=(1, 144, 64, 64) dtype=float32>, '337': <tf.Tensor 'concat_8:0' shape=(1, 24, 64, 64) dtype=float32>, '338': <tf.Tensor 'batchnorm_8/add_1:0' shape=(1, 24, 64, 64) dtype=float32>, '339': <tf.Tensor 'Add:0' shape=(1, 24, 64, 64) dtype=float32>, '340': <tf.Tensor 'concat_9:0' shape=(1, 144, 64, 64) dtype=float32>, '341': <tf.Tensor 'batchnorm_9/add_1:0' shape=(1, 144, 64, 64) dtype=float32>, '342': <tf.Tensor 'clip_by_value_6:0' shape=(1, 144, 64, 64) dtype=float32>, '343': <tf.Tensor 'concat_10:0' shape=(1, 144, 32, 32) dtype=float32>, '344': <tf.Tensor 'batchnorm_10/add_1:0' shape=(1, 144, 32, 32) dtype=float32>, '345': <tf.Tensor 'clip_by_value_7:0' shape=(1, 144, 32, 32) dtype=float32>, '346': <tf.Tensor 'concat_11:0' shape=(1, 32, 32, 32) dtype=float32>, '347': <tf.Tensor 'batchnorm_11/add_1:0' shape=(1, 32, 32, 32) dtype=float32>, '348': <tf.Tensor 'concat_12:0' shape=(1, 192, 32, 32) dtype=float32>, '349': <tf.Tensor 'batchnorm_12/add_1:0' shape=(1, 192, 32, 32) dtype=float32>, '350': <tf.Tensor 'clip_by_value_8:0' shape=(1, 192, 32, 32) dtype=float32>, '351': <tf.Tensor 'concat_13:0' shape=(1, 192, 32, 32) dtype=float32>, '352': <tf.Tensor 'batchnorm_13/add_1:0' shape=(1, 192, 32, 32) dtype=float32>, '353': <tf.Tensor 'clip_by_value_9:0' shape=(1, 192, 32, 32) dtype=float32>, '354': <tf.Tensor 'concat_14:0' shape=(1, 32, 32, 32) dtype=float32>, '355': <tf.Tensor 'batchnorm_14/add_1:0' shape=(1, 32, 32, 32) dtype=float32>, '356': <tf.Tensor 'Add_1:0' shape=(1, 32, 32, 32) dtype=float32>, '357': <tf.Tensor 'concat_15:0' shape=(1, 192, 32, 32) dtype=float32>, '358': <tf.Tensor 'batchnorm_15/add_1:0' shape=(1, 192, 32, 32) dtype=float32>, '359': <tf.Tensor 'clip_by_value_10:0' shape=(1, 192, 32, 32) dtype=float32>, '360': <tf.Tensor 'concat_16:0' shape=(1, 192, 32, 32) dtype=float32>, '361': <tf.Tensor 'batchnorm_16/add_1:0' shape=(1, 192, 32, 32) dtype=float32>, '362': <tf.Tensor 'clip_by_value_11:0' shape=(1, 192, 32, 32) dtype=float32>, '363': <tf.Tensor 'concat_17:0' shape=(1, 32, 32, 32) dtype=float32>, '364': <tf.Tensor 'batchnorm_17/add_1:0' shape=(1, 32, 32, 32) dtype=float32>, '365': <tf.Tensor 'Add_2:0' shape=(1, 32, 32, 32) dtype=float32>, '366': <tf.Tensor 'concat_18:0' shape=(1, 192, 32, 32) dtype=float32>, '367': <tf.Tensor 'batchnorm_18/add_1:0' shape=(1, 192, 32, 32) dtype=float32>, '368': <tf.Tensor 'clip_by_value_12:0' shape=(1, 192, 32, 32) dtype=float32>, '369': <tf.Tensor 'concat_19:0' shape=(1, 192, 16, 16) dtype=float32>, '370': <tf.Tensor 'batchnorm_19/add_1:0' shape=(1, 192, 16, 16) dtype=float32>, '371': <tf.Tensor 'clip_by_value_13:0' shape=(1, 192, 16, 16) dtype=float32>, '372': <tf.Tensor 'concat_20:0' shape=(1, 64, 16, 16) dtype=float32>, '373': <tf.Tensor 'batchnorm_20/add_1:0' shape=(1, 64, 16, 16) dtype=float32>, '374': <tf.Tensor 'concat_21:0' shape=(1, 384, 16, 16) dtype=float32>, '375': <tf.Tensor 'batchnorm_21/add_1:0' shape=(1, 384, 16, 16) dtype=float32>, '376': <tf.Tensor 'clip_by_value_14:0' shape=(1, 384, 16, 16) dtype=float32>, '377': <tf.Tensor 'concat_22:0' shape=(1, 384, 16, 16) dtype=float32>, '378': <tf.Tensor 'batchnorm_22/add_1:0' shape=(1, 384, 16, 16) dtype=float32>, '379': <tf.Tensor 'clip_by_value_15:0' shape=(1, 384, 16, 16) dtype=float32>, '380': <tf.Tensor 'concat_23:0' shape=(1, 64, 16, 16) dtype=float32>, '381': <tf.Tensor 'batchnorm_23/add_1:0' shape=(1, 64, 16, 16) dtype=float32>, '382': <tf.Tensor 'Add_3:0' shape=(1, 64, 16, 16) dtype=float32>, '383': <tf.Tensor 'concat_24:0' shape=(1, 384, 16, 16) dtype=float32>, '384': <tf.Tensor 'batchnorm_24/add_1:0' shape=(1, 384, 16, 16) dtype=float32>, '385': <tf.Tensor 'clip_by_value_16:0' shape=(1, 384, 16, 16) dtype=float32>, '386': <tf.Tensor 'concat_25:0' shape=(1, 384, 16, 16) dtype=float32>, '387': <tf.Tensor 'batchnorm_25/add_1:0' shape=(1, 384, 16, 16) dtype=float32>, '388': <tf.Tensor 'clip_by_value_17:0' shape=(1, 384, 16, 16) dtype=float32>, '389': <tf.Tensor 'concat_26:0' shape=(1, 64, 16, 16) dtype=float32>, '390': <tf.Tensor 'batchnorm_26/add_1:0' shape=(1, 64, 16, 16) dtype=float32>, '391': <tf.Tensor 'Add_4:0' shape=(1, 64, 16, 16) dtype=float32>, '392': <tf.Tensor 'concat_27:0' shape=(1, 384, 16, 16) dtype=float32>, '393': <tf.Tensor 'batchnorm_27/add_1:0' shape=(1, 384, 16, 16) dtype=float32>, '394': <tf.Tensor 'clip_by_value_18:0' shape=(1, 384, 16, 16) dtype=float32>, '395': <tf.Tensor 'concat_28:0' shape=(1, 384, 16, 16) dtype=float32>, '396': <tf.Tensor 'batchnorm_28/add_1:0' shape=(1, 384, 16, 16) dtype=float32>, '397': <tf.Tensor 'clip_by_value_19:0' shape=(1, 384, 16, 16) dtype=float32>, '398': <tf.Tensor 'concat_29:0' shape=(1, 64, 16, 16) dtype=float32>, '399': <tf.Tensor 'batchnorm_29/add_1:0' shape=(1, 64, 16, 16) dtype=float32>, '400': <tf.Tensor 'Add_5:0' shape=(1, 64, 16, 16) dtype=float32>, '401': <tf.Tensor 'concat_30:0' shape=(1, 384, 16, 16) dtype=float32>, '402': <tf.Tensor 'batchnorm_30/add_1:0' shape=(1, 384, 16, 16) dtype=float32>, '403': <tf.Tensor 'clip_by_value_20:0' shape=(1, 384, 16, 16) dtype=float32>, '404': <tf.Tensor 'concat_31:0' shape=(1, 384, 16, 16) dtype=float32>, '405': <tf.Tensor 'batchnorm_31/add_1:0' shape=(1, 384, 16, 16) dtype=float32>, '406': <tf.Tensor 'clip_by_value_21:0' shape=(1, 384, 16, 16) dtype=float32>, '407': <tf.Tensor 'concat_32:0' shape=(1, 96, 16, 16) dtype=float32>, '408': <tf.Tensor 'batchnorm_32/add_1:0' shape=(1, 96, 16, 16) dtype=float32>, '409': <tf.Tensor 'concat_33:0' shape=(1, 576, 16, 16) dtype=float32>, '410': <tf.Tensor 'batchnorm_33/add_1:0' shape=(1, 576, 16, 16) dtype=float32>, '411': <tf.Tensor 'clip_by_value_22:0' shape=(1, 576, 16, 16) dtype=float32>, '412': <tf.Tensor 'concat_34:0' shape=(1, 576, 16, 16) dtype=float32>, '413': <tf.Tensor 'batchnorm_34/add_1:0' shape=(1, 576, 16, 16) dtype=float32>, '414': <tf.Tensor 'clip_by_value_23:0' shape=(1, 576, 16, 16) dtype=float32>, '415': <tf.Tensor 'concat_35:0' shape=(1, 96, 16, 16) dtype=float32>, '416': <tf.Tensor 'batchnorm_35/add_1:0' shape=(1, 96, 16, 16) dtype=float32>, '417': <tf.Tensor 'Add_6:0' shape=(1, 96, 16, 16) dtype=float32>, '418': <tf.Tensor 'concat_36:0' shape=(1, 576, 16, 16) dtype=float32>, '419': <tf.Tensor 'batchnorm_36/add_1:0' shape=(1, 576, 16, 16) dtype=float32>, '420': <tf.Tensor 'clip_by_value_24:0' shape=(1, 576, 16, 16) dtype=float32>, '421': <tf.Tensor 'concat_37:0' shape=(1, 576, 16, 16) dtype=float32>, '422': <tf.Tensor 'batchnorm_37/add_1:0' shape=(1, 576, 16, 16) dtype=float32>, '423': <tf.Tensor 'clip_by_value_25:0' shape=(1, 576, 16, 16) dtype=float32>, '424': <tf.Tensor 'concat_38:0' shape=(1, 96, 16, 16) dtype=float32>, '425': <tf.Tensor 'batchnorm_38/add_1:0' shape=(1, 96, 16, 16) dtype=float32>, '426': <tf.Tensor 'Add_7:0' shape=(1, 96, 16, 16) dtype=float32>, '427': <tf.Tensor 'concat_39:0' shape=(1, 576, 16, 16) dtype=float32>, '428': <tf.Tensor 'batchnorm_39/add_1:0' shape=(1, 576, 16, 16) dtype=float32>, '429': <tf.Tensor 'clip_by_value_26:0' shape=(1, 576, 16, 16) dtype=float32>, '430': <tf.Tensor 'concat_40:0' shape=(1, 576, 8, 8) dtype=float32>, '431': <tf.Tensor 'batchnorm_40/add_1:0' shape=(1, 576, 8, 8) dtype=float32>, '432': <tf.Tensor 'clip_by_value_27:0' shape=(1, 576, 8, 8) dtype=float32>, '433': <tf.Tensor 'concat_41:0' shape=(1, 160, 8, 8) dtype=float32>, '434': <tf.Tensor 'batchnorm_41/add_1:0' shape=(1, 160, 8, 8) dtype=float32>, '435': <tf.Tensor 'concat_42:0' shape=(1, 960, 8, 8) dtype=float32>, '436': <tf.Tensor 'batchnorm_42/add_1:0' shape=(1, 960, 8, 8) dtype=float32>, '437': <tf.Tensor 'clip_by_value_28:0' shape=(1, 960, 8, 8) dtype=float32>, '438': <tf.Tensor 'concat_43:0' shape=(1, 960, 8, 8) dtype=float32>, '439': <tf.Tensor 'batchnorm_43/add_1:0' shape=(1, 960, 8, 8) dtype=float32>, '440': <tf.Tensor 'clip_by_value_29:0' shape=(1, 960, 8, 8) dtype=float32>, '441': <tf.Tensor 'concat_44:0' shape=(1, 160, 8, 8) dtype=float32>, '442': <tf.Tensor 'batchnorm_44/add_1:0' shape=(1, 160, 8, 8) dtype=float32>, '443': <tf.Tensor 'Add_8:0' shape=(1, 160, 8, 8) dtype=float32>, '444': <tf.Tensor 'concat_45:0' shape=(1, 960, 8, 8) dtype=float32>, '445': <tf.Tensor 'batchnorm_45/add_1:0' shape=(1, 960, 8, 8) dtype=float32>, '446': <tf.Tensor 'clip_by_value_30:0' shape=(1, 960, 8, 8) dtype=float32>, '447': <tf.Tensor 'concat_46:0' shape=(1, 960, 8, 8) dtype=float32>, '448': <tf.Tensor 'batchnorm_46/add_1:0' shape=(1, 960, 8, 8) dtype=float32>, '449': <tf.Tensor 'clip_by_value_31:0' shape=(1, 960, 8, 8) dtype=float32>, '450': <tf.Tensor 'concat_47:0' shape=(1, 160, 8, 8) dtype=float32>, '451': <tf.Tensor 'batchnorm_47/add_1:0' shape=(1, 160, 8, 8) dtype=float32>, '452': <tf.Tensor 'Add_9:0' shape=(1, 160, 8, 8) dtype=float32>, '453': <tf.Tensor 'concat_48:0' shape=(1, 960, 8, 8) dtype=float32>, '454': <tf.Tensor 'batchnorm_48/add_1:0' shape=(1, 960, 8, 8) dtype=float32>, '455': <tf.Tensor 'clip_by_value_32:0' shape=(1, 960, 8, 8) dtype=float32>, '456': <tf.Tensor 'concat_49:0' shape=(1, 960, 8, 8) dtype=float32>, '457': <tf.Tensor 'batchnorm_49/add_1:0' shape=(1, 960, 8, 8) dtype=float32>, '458': <tf.Tensor 'clip_by_value_33:0' shape=(1, 960, 8, 8) dtype=float32>, '459': <tf.Tensor 'concat_50:0' shape=(1, 320, 8, 8) dtype=float32>, '460': <tf.Tensor 'batchnorm_50/add_1:0' shape=(1, 320, 8, 8) dtype=float32>, '461': <tf.Tensor 'concat_51:0' shape=(1, 1280, 8, 8) dtype=float32>, '462': <tf.Tensor 'batchnorm_51/add_1:0' shape=(1, 1280, 8, 8) dtype=float32>, '463': <tf.Tensor 'clip_by_value_34:0' shape=(1, 1280, 8, 8) dtype=float32>, '464': <tf.Tensor 'Mean:0' shape=(1, 1280) dtype=float32>, '465': <tf.Tensor 'add_10:0' shape=(1, 1000) dtype=float32>}\n"
          ],
          "name": "stdout"
        }
      ]
    },
    {
      "cell_type": "markdown",
      "metadata": {
        "id": "vPAr1ERc0SLn",
        "colab_type": "text"
      },
      "source": [
        "### Prepare an image for inference"
      ]
    },
    {
      "cell_type": "code",
      "metadata": {
        "id": "g6vbyVTOii7O",
        "colab_type": "code",
        "colab": {}
      },
      "source": [
        "!pip uninstall tensorflow-gpu\n",
        "!pip install --upgrade tensorflow"
      ],
      "execution_count": 0,
      "outputs": []
    },
    {
      "cell_type": "code",
      "metadata": {
        "id": "l81mg9dsSc1B",
        "colab_type": "code",
        "colab": {}
      },
      "source": [
        "import tensorflow as tf\n",
        "from tensorflow.compat.v1 import ConfigProto\n",
        "from tensorflow.compat.v1 import InteractiveSession\n",
        "\n",
        "\n",
        "config = tf.ConfigProto()\n",
        "config.gpu_options.allow_growth = True\n",
        "sess = tf.Session(config=config)"
      ],
      "execution_count": 0,
      "outputs": []
    },
    {
      "cell_type": "code",
      "metadata": {
        "id": "cDF5XNUt0M_v",
        "colab_type": "code",
        "outputId": "95eb57ed-107a-4573-bbbb-3443ecae3788",
        "colab": {
          "base_uri": "https://localhost:8080/",
          "height": 425
        }
      },
      "source": [
        "\n",
        "import numpy as np\n",
        "from IPython.display import display\n",
        "from PIL import Image\n",
        "\n",
        "path_to_img = base_path + 'fer2013/PrivateTest/2/PrivateTest_1162474.jpg'\n",
        "#path_to_img = base_path + 'fer2013/testface-happy.jpg'\n",
        "\n",
        "img = Image.open(path_to_img).resize((256, 256))\n",
        "\n",
        "new_img = np.broadcast_to(img, (1, 3, 256, 256)).copy()\n",
        "print(new_img.shape)\n",
        "\n",
        "display(new_img) # show the image\n",
        "\n",
        "img_ycbcr = img.convert(\"YCbCr\")\n",
        "img_y, img_cb, img_cr = img_ycbcr.split()\n",
        "\n",
        "\n",
        "#test_face = np.asarray(img_y, dtype=np.float32)[np.newaxis, np.newaxis, :, :]"
      ],
      "execution_count": 17,
      "outputs": [
        {
          "output_type": "stream",
          "text": [
            "(1, 3, 256, 256)\n"
          ],
          "name": "stdout"
        },
        {
          "output_type": "display_data",
          "data": {
            "text/plain": [
              "array([[[[ 18,  18,  18, ...,  88,  88,  88],\n",
              "         [ 18,  18,  18, ...,  88,  88,  88],\n",
              "         [ 18,  18,  18, ...,  88,  88,  88],\n",
              "         ...,\n",
              "         [ 16,  16,  16, ..., 202, 202, 202],\n",
              "         [ 16,  16,  16, ..., 202, 202, 202],\n",
              "         [ 16,  16,  16, ..., 202, 202, 202]],\n",
              "\n",
              "        [[ 18,  18,  18, ...,  88,  88,  88],\n",
              "         [ 18,  18,  18, ...,  88,  88,  88],\n",
              "         [ 18,  18,  18, ...,  88,  88,  88],\n",
              "         ...,\n",
              "         [ 16,  16,  16, ..., 202, 202, 202],\n",
              "         [ 16,  16,  16, ..., 202, 202, 202],\n",
              "         [ 16,  16,  16, ..., 202, 202, 202]],\n",
              "\n",
              "        [[ 18,  18,  18, ...,  88,  88,  88],\n",
              "         [ 18,  18,  18, ...,  88,  88,  88],\n",
              "         [ 18,  18,  18, ...,  88,  88,  88],\n",
              "         ...,\n",
              "         [ 16,  16,  16, ..., 202, 202, 202],\n",
              "         [ 16,  16,  16, ..., 202, 202, 202],\n",
              "         [ 16,  16,  16, ..., 202, 202, 202]]]], dtype=uint8)"
            ]
          },
          "metadata": {
            "tags": []
          }
        }
      ]
    },
    {
      "cell_type": "code",
      "metadata": {
        "id": "gZ-jhkq22EbK",
        "colab_type": "code",
        "outputId": "b1d03df6-ca01-4258-9be5-8ad72d6e81fe",
        "colab": {
          "base_uri": "https://localhost:8080/",
          "height": 51
        }
      },
      "source": [
        "# run the network\n",
        "#dummy_face = torch.randn(1, 3, 224, 224)\n",
        "\n",
        "print(new_img.shape)\n",
        "\n",
        "test_face_run = tf_rep.run(new_img)._0\n",
        "\n",
        "print(test_face_run.shape)"
      ],
      "execution_count": 18,
      "outputs": [
        {
          "output_type": "stream",
          "text": [
            "(1, 3, 256, 256)\n",
            "(1, 1000)\n"
          ],
          "name": "stdout"
        }
      ]
    },
    {
      "cell_type": "markdown",
      "metadata": {
        "id": "lP7mYLlEjjFP",
        "colab_type": "text"
      },
      "source": [
        "### Tensorflow -.h5 to -.pb"
      ]
    },
    {
      "cell_type": "code",
      "metadata": {
        "id": "s6Tr5MQZ8e1x",
        "colab_type": "code",
        "colab": {}
      },
      "source": [
        "#from tensorflow.python.saved_model import builder as pb_builder"
      ],
      "execution_count": 0,
      "outputs": []
    },
    {
      "cell_type": "code",
      "metadata": {
        "id": "8nOaPqgB8h2B",
        "colab_type": "code",
        "colab": {}
      },
      "source": [
        "# load the model and save it as pb. \n",
        "# If the model is not in h5 format, convert it to h5 first.\n",
        "#pre_model = tf.keras.models.load_model('path/to/your/model.model')\n",
        "#pre_model.save('path/to/your/model.h5')\n",
        "\n",
        "\n",
        "export_path_pb = base_path + \"ONNX/akash-mobilenet_v2-FER1-60perc.pb\"\n",
        "\n",
        "tf_rep.export_graph(export_path_pb) # export the TensorflowRep object to a -.pb file which can be imported to untiy."
      ],
      "execution_count": 0,
      "outputs": []
    }
  ]
}