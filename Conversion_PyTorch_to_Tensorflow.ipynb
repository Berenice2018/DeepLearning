{
  "nbformat": 4,
  "nbformat_minor": 0,
  "metadata": {
    "colab": {
      "name": "Conversion PyTorch to Tensorflow.ipynb",
      "version": "0.3.2",
      "provenance": [],
      "collapsed_sections": [],
      "include_colab_link": true
    },
    "kernelspec": {
      "name": "python3",
      "display_name": "Python 3"
    },
    "accelerator": "GPU"
  },
  "cells": [
    {
      "cell_type": "markdown",
      "metadata": {
        "id": "view-in-github",
        "colab_type": "text"
      },
      "source": [
        "<a href=\"https://colab.research.google.com/github/Berenice2018/DeepLearning/blob/master/Conversion_PyTorch_to_Tensorflow.ipynb\" target=\"_parent\"><img src=\"https://colab.research.google.com/assets/colab-badge.svg\" alt=\"Open In Colab\"/></a>"
      ]
    },
    {
      "cell_type": "code",
      "metadata": {
        "id": "P_S1Nwrk4eQz",
        "colab_type": "code",
        "colab": {
          "base_uri": "https://localhost:8080/",
          "height": 34
        },
        "outputId": "a61a48ad-fd09-406a-95b1-37ec861b5a26"
      },
      "source": [
        "# mount google drive\n",
        "from google.colab import drive\n",
        "drive.mount('/content/gdrive')"
      ],
      "execution_count": 4,
      "outputs": [
        {
          "output_type": "stream",
          "text": [
            "Mounted at /content/gdrive\n"
          ],
          "name": "stdout"
        }
      ]
    },
    {
      "cell_type": "markdown",
      "metadata": {
        "id": "Uc1lLNcnjemx",
        "colab_type": "text"
      },
      "source": [
        "### PyTorch to ONNX"
      ]
    },
    {
      "cell_type": "code",
      "metadata": {
        "id": "bPl-zaZOjifZ",
        "colab_type": "code",
        "colab": {
          "base_uri": "https://localhost:8080/",
          "height": 85
        },
        "outputId": "b0ea045f-8d25-41d9-9639-e1a41fdc0ee2"
      },
      "source": [
        "import torch.onnx\n",
        "import torchvision\n",
        "\n",
        "\n",
        "help(torch.onnx.export)"
      ],
      "execution_count": 26,
      "outputs": [
        {
          "output_type": "stream",
          "text": [
            "Help on function export in module torch.onnx:\n",
            "\n",
            "export(*args, **kwargs)\n",
            "\n"
          ],
          "name": "stdout"
        }
      ]
    },
    {
      "cell_type": "code",
      "metadata": {
        "id": "sarfONg5kgXi",
        "colab_type": "code",
        "colab": {}
      },
      "source": [
        "# Standard ImageNet input - 3 channels, 224x224,\n",
        "# values don't matter as we care about network structure.\n",
        "# But they can also be real inputs.\n",
        "\n",
        "dummy_input = torch.randn(1, 3, 224, 224)\n",
        "\n",
        "# Obtain your model, it can be also constructed in your script explicitly\n",
        "model = torchvision.models.squeezenet1_0(pretrained=True)\n",
        "\n",
        "# Invoke export\n",
        "base_path = './gdrive/My Drive/Colab Notebooks/Fer-dataset/ONNX/'\n",
        "export_path = base_path + \"squeezenet_test.onnx\"\n",
        "\n",
        "torch.onnx.export(model, dummy_input, export_path, verbose=True)\n"
      ],
      "execution_count": 0,
      "outputs": []
    },
    {
      "cell_type": "markdown",
      "metadata": {
        "id": "kEXyLdchsJcJ",
        "colab_type": "text"
      },
      "source": [
        "### Import ONNX to Tensorflow"
      ]
    },
    {
      "cell_type": "code",
      "metadata": {
        "id": "j7blU0oSxEiF",
        "colab_type": "code",
        "colab": {}
      },
      "source": [
        "!pip install onnx"
      ],
      "execution_count": 0,
      "outputs": []
    },
    {
      "cell_type": "code",
      "metadata": {
        "id": "sAdBfLORxOit",
        "colab_type": "code",
        "colab": {}
      },
      "source": [
        "!pip install onnx_tf"
      ],
      "execution_count": 0,
      "outputs": []
    },
    {
      "cell_type": "code",
      "metadata": {
        "id": "Y6AKTbJDsI8f",
        "colab_type": "code",
        "colab": {}
      },
      "source": [
        "import onnx\n",
        "import warnings\n",
        "from onnx_tf.backend import prepare\n",
        "\n",
        "warnings.filterwarnings('ignore') # Ignore all the warning messages in this tutorial\n",
        "\n",
        "tf_model = onnx.load(onnx_model) # Load the ONNX file\n",
        "\n",
        "tf_rep = prepare(tf_model) # Import the ONNX model to Tensorflow"
      ],
      "execution_count": 0,
      "outputs": []
    },
    {
      "cell_type": "markdown",
      "metadata": {
        "id": "lP7mYLlEjjFP",
        "colab_type": "text"
      },
      "source": [
        "### Tensorflow -.h5 to -.pb"
      ]
    },
    {
      "cell_type": "code",
      "metadata": {
        "id": "s6Tr5MQZ8e1x",
        "colab_type": "code",
        "colab": {}
      },
      "source": [
        "import tensorflow as tf \n",
        "from tensorflow.python.saved_model import builder as pb_builder"
      ],
      "execution_count": 0,
      "outputs": []
    },
    {
      "cell_type": "code",
      "metadata": {
        "id": "8nOaPqgB8h2B",
        "colab_type": "code",
        "colab": {}
      },
      "source": [
        "# load the model and save it as pb. \n",
        "# If the model is not in h5 format, convert it to h5 first.\n",
        "\n",
        "pre_model = tf.keras.models.load_model('path/to/your/model.model')\n",
        "pre_model.save('path/to/your/model.h5')"
      ],
      "execution_count": 0,
      "outputs": []
    }
  ]
}