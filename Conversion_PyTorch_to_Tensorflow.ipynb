{
  "nbformat": 4,
  "nbformat_minor": 0,
  "metadata": {
    "colab": {
      "name": "Conversion PyTorch to Tensorflow.ipynb",
      "version": "0.3.2",
      "provenance": [],
      "collapsed_sections": [
        "vPAr1ERc0SLn"
      ],
      "include_colab_link": true
    },
    "kernelspec": {
      "name": "python3",
      "display_name": "Python 3"
    },
    "accelerator": "GPU"
  },
  "cells": [
    {
      "cell_type": "markdown",
      "metadata": {
        "id": "view-in-github",
        "colab_type": "text"
      },
      "source": [
        "<a href=\"https://colab.research.google.com/github/Berenice2018/DeepLearning/blob/master/Conversion_PyTorch_to_Tensorflow.ipynb\" target=\"_parent\"><img src=\"https://colab.research.google.com/assets/colab-badge.svg\" alt=\"Open In Colab\"/></a>"
      ]
    },
    {
      "cell_type": "code",
      "metadata": {
        "id": "P_S1Nwrk4eQz",
        "colab_type": "code",
        "outputId": "7ed71be0-f4cd-4edd-a07b-8bc7d5a03ff3",
        "colab": {
          "base_uri": "https://localhost:8080/",
          "height": 122
        }
      },
      "source": [
        "# mount google drive\n",
        "from google.colab import drive\n",
        "drive.mount('/content/gdrive')"
      ],
      "execution_count": 5,
      "outputs": [
        {
          "output_type": "stream",
          "text": [
            "Go to this URL in a browser: https://accounts.google.com/o/oauth2/auth?client_id=947318989803-6bn6qk8qdgf4n4g3pfee6491hc0brc4i.apps.googleusercontent.com&redirect_uri=urn%3Aietf%3Awg%3Aoauth%3A2.0%3Aoob&scope=email%20https%3A%2F%2Fwww.googleapis.com%2Fauth%2Fdocs.test%20https%3A%2F%2Fwww.googleapis.com%2Fauth%2Fdrive%20https%3A%2F%2Fwww.googleapis.com%2Fauth%2Fdrive.photos.readonly%20https%3A%2F%2Fwww.googleapis.com%2Fauth%2Fpeopleapi.readonly&response_type=code\n",
            "\n",
            "Enter your authorization code:\n",
            "··········\n",
            "Mounted at /content/gdrive\n"
          ],
          "name": "stdout"
        }
      ]
    },
    {
      "cell_type": "markdown",
      "metadata": {
        "id": "Uc1lLNcnjemx",
        "colab_type": "text"
      },
      "source": [
        "### PyTorch to ONNX"
      ]
    },
    {
      "cell_type": "code",
      "metadata": {
        "id": "bPl-zaZOjifZ",
        "colab_type": "code",
        "outputId": "0d153218-7459-418c-dc89-60fa6bcf28f1",
        "colab": {
          "base_uri": "https://localhost:8080/",
          "height": 85
        }
      },
      "source": [
        "import torch.onnx\n",
        "import torchvision\n",
        "\n",
        "\n",
        "help(torch.onnx.export)"
      ],
      "execution_count": 6,
      "outputs": [
        {
          "output_type": "stream",
          "text": [
            "Help on function export in module torch.onnx:\n",
            "\n",
            "export(*args, **kwargs)\n",
            "\n"
          ],
          "name": "stdout"
        }
      ]
    },
    {
      "cell_type": "code",
      "metadata": {
        "id": "sarfONg5kgXi",
        "colab_type": "code",
        "colab": {}
      },
      "source": [
        "# Standard ImageNet input - 3 channels, 224x224,\n",
        "# values don't matter as we care about network structure.\n",
        "# But they can also be real inputs.\n",
        "\n",
        "dummy_input = torch.randn(1, 3, 224, 224)\n",
        "\n",
        "# Obtain your model, it can be also constructed in your script explicitly\n",
        "model = torchvision.models.squeezenet1_0(pretrained=True)\n",
        "\n",
        "# Invoke export\n",
        "base_path = './gdrive/My Drive/Colab Notebooks/Fer-dataset/'\n",
        "export_path = base_path + \"ONNX/squeezenet_test.onnx\"\n",
        "\n",
        "torch.onnx.export(model, dummy_input, export_path, verbose=True)\n"
      ],
      "execution_count": 0,
      "outputs": []
    },
    {
      "cell_type": "markdown",
      "metadata": {
        "id": "kEXyLdchsJcJ",
        "colab_type": "text"
      },
      "source": [
        "### Import ONNX to Tensorflow"
      ]
    },
    {
      "cell_type": "code",
      "metadata": {
        "id": "j7blU0oSxEiF",
        "colab_type": "code",
        "colab": {}
      },
      "source": [
        "!pip install onnx"
      ],
      "execution_count": 0,
      "outputs": []
    },
    {
      "cell_type": "code",
      "metadata": {
        "id": "sAdBfLORxOit",
        "colab_type": "code",
        "colab": {}
      },
      "source": [
        "!pip install onnx_tf"
      ],
      "execution_count": 0,
      "outputs": []
    },
    {
      "cell_type": "code",
      "metadata": {
        "id": "Y6AKTbJDsI8f",
        "colab_type": "code",
        "colab": {}
      },
      "source": [
        "import onnx\n",
        "import warnings\n",
        "from onnx_tf.backend import prepare\n",
        "\n",
        "warnings.filterwarnings('ignore') # Ignore all the warning messages in this tutorial\n",
        "\n",
        "tf_model = onnx.load(export_path) # Load the ONNX file\n",
        "\n",
        "tf_rep = prepare(tf_model) # Import the ONNX model to Tensorflow"
      ],
      "execution_count": 0,
      "outputs": []
    },
    {
      "cell_type": "code",
      "metadata": {
        "id": "miFUaB750Bih",
        "colab_type": "code",
        "outputId": "c7e2da77-12d3-48dd-f3dd-ba3f29a05b74",
        "colab": {
          "base_uri": "https://localhost:8080/",
          "height": 122
        }
      },
      "source": [
        "# Now we have tf_rep, which is a python class containing four members: graph, inputs, outputs, and tensor_dict.\n",
        "\n",
        "print(tf_rep.inputs) # Input nodes to the model\n",
        "print('-----')\n",
        "print(tf_rep.outputs) # Output nodes from the model\n",
        "print('-----')\n",
        "print(tf_rep.tensor_dict) # All nodes in the model"
      ],
      "execution_count": 22,
      "outputs": [
        {
          "output_type": "stream",
          "text": [
            "['0']\n",
            "-----\n",
            "['124']\n",
            "-----\n",
            "{'classifier.1.bias': <tf.Tensor 'Const:0' shape=(1000,) dtype=float32>, 'classifier.1.weight': <tf.Tensor 'Const_1:0' shape=(1000, 512, 1, 1) dtype=float32>, 'features.0.bias': <tf.Tensor 'Const_2:0' shape=(96,) dtype=float32>, 'features.0.weight': <tf.Tensor 'Const_3:0' shape=(96, 3, 7, 7) dtype=float32>, 'features.10.expand1x1.bias': <tf.Tensor 'Const_4:0' shape=(256,) dtype=float32>, 'features.10.expand1x1.weight': <tf.Tensor 'Const_5:0' shape=(256, 64, 1, 1) dtype=float32>, 'features.10.expand3x3.bias': <tf.Tensor 'Const_6:0' shape=(256,) dtype=float32>, 'features.10.expand3x3.weight': <tf.Tensor 'Const_7:0' shape=(256, 64, 3, 3) dtype=float32>, 'features.10.squeeze.bias': <tf.Tensor 'Const_8:0' shape=(64,) dtype=float32>, 'features.10.squeeze.weight': <tf.Tensor 'Const_9:0' shape=(64, 384, 1, 1) dtype=float32>, 'features.12.expand1x1.bias': <tf.Tensor 'Const_10:0' shape=(256,) dtype=float32>, 'features.12.expand1x1.weight': <tf.Tensor 'Const_11:0' shape=(256, 64, 1, 1) dtype=float32>, 'features.12.expand3x3.bias': <tf.Tensor 'Const_12:0' shape=(256,) dtype=float32>, 'features.12.expand3x3.weight': <tf.Tensor 'Const_13:0' shape=(256, 64, 3, 3) dtype=float32>, 'features.12.squeeze.bias': <tf.Tensor 'Const_14:0' shape=(64,) dtype=float32>, 'features.12.squeeze.weight': <tf.Tensor 'Const_15:0' shape=(64, 512, 1, 1) dtype=float32>, 'features.3.expand1x1.bias': <tf.Tensor 'Const_16:0' shape=(64,) dtype=float32>, 'features.3.expand1x1.weight': <tf.Tensor 'Const_17:0' shape=(64, 16, 1, 1) dtype=float32>, 'features.3.expand3x3.bias': <tf.Tensor 'Const_18:0' shape=(64,) dtype=float32>, 'features.3.expand3x3.weight': <tf.Tensor 'Const_19:0' shape=(64, 16, 3, 3) dtype=float32>, 'features.3.squeeze.bias': <tf.Tensor 'Const_20:0' shape=(16,) dtype=float32>, 'features.3.squeeze.weight': <tf.Tensor 'Const_21:0' shape=(16, 96, 1, 1) dtype=float32>, 'features.4.expand1x1.bias': <tf.Tensor 'Const_22:0' shape=(64,) dtype=float32>, 'features.4.expand1x1.weight': <tf.Tensor 'Const_23:0' shape=(64, 16, 1, 1) dtype=float32>, 'features.4.expand3x3.bias': <tf.Tensor 'Const_24:0' shape=(64,) dtype=float32>, 'features.4.expand3x3.weight': <tf.Tensor 'Const_25:0' shape=(64, 16, 3, 3) dtype=float32>, 'features.4.squeeze.bias': <tf.Tensor 'Const_26:0' shape=(16,) dtype=float32>, 'features.4.squeeze.weight': <tf.Tensor 'Const_27:0' shape=(16, 128, 1, 1) dtype=float32>, 'features.5.expand1x1.bias': <tf.Tensor 'Const_28:0' shape=(128,) dtype=float32>, 'features.5.expand1x1.weight': <tf.Tensor 'Const_29:0' shape=(128, 32, 1, 1) dtype=float32>, 'features.5.expand3x3.bias': <tf.Tensor 'Const_30:0' shape=(128,) dtype=float32>, 'features.5.expand3x3.weight': <tf.Tensor 'Const_31:0' shape=(128, 32, 3, 3) dtype=float32>, 'features.5.squeeze.bias': <tf.Tensor 'Const_32:0' shape=(32,) dtype=float32>, 'features.5.squeeze.weight': <tf.Tensor 'Const_33:0' shape=(32, 128, 1, 1) dtype=float32>, 'features.7.expand1x1.bias': <tf.Tensor 'Const_34:0' shape=(128,) dtype=float32>, 'features.7.expand1x1.weight': <tf.Tensor 'Const_35:0' shape=(128, 32, 1, 1) dtype=float32>, 'features.7.expand3x3.bias': <tf.Tensor 'Const_36:0' shape=(128,) dtype=float32>, 'features.7.expand3x3.weight': <tf.Tensor 'Const_37:0' shape=(128, 32, 3, 3) dtype=float32>, 'features.7.squeeze.bias': <tf.Tensor 'Const_38:0' shape=(32,) dtype=float32>, 'features.7.squeeze.weight': <tf.Tensor 'Const_39:0' shape=(32, 256, 1, 1) dtype=float32>, 'features.8.expand1x1.bias': <tf.Tensor 'Const_40:0' shape=(192,) dtype=float32>, 'features.8.expand1x1.weight': <tf.Tensor 'Const_41:0' shape=(192, 48, 1, 1) dtype=float32>, 'features.8.expand3x3.bias': <tf.Tensor 'Const_42:0' shape=(192,) dtype=float32>, 'features.8.expand3x3.weight': <tf.Tensor 'Const_43:0' shape=(192, 48, 3, 3) dtype=float32>, 'features.8.squeeze.bias': <tf.Tensor 'Const_44:0' shape=(48,) dtype=float32>, 'features.8.squeeze.weight': <tf.Tensor 'Const_45:0' shape=(48, 256, 1, 1) dtype=float32>, 'features.9.expand1x1.bias': <tf.Tensor 'Const_46:0' shape=(192,) dtype=float32>, 'features.9.expand1x1.weight': <tf.Tensor 'Const_47:0' shape=(192, 48, 1, 1) dtype=float32>, 'features.9.expand3x3.bias': <tf.Tensor 'Const_48:0' shape=(192,) dtype=float32>, 'features.9.expand3x3.weight': <tf.Tensor 'Const_49:0' shape=(192, 48, 3, 3) dtype=float32>, 'features.9.squeeze.bias': <tf.Tensor 'Const_50:0' shape=(48,) dtype=float32>, 'features.9.squeeze.weight': <tf.Tensor 'Const_51:0' shape=(48, 384, 1, 1) dtype=float32>, '0': <tf.Tensor '0:0' shape=(1, 3, 224, 224) dtype=float32>, '53': <tf.Tensor 'Add:0' shape=(1, 96, 109, 109) dtype=float32>, '54': <tf.Tensor 'Relu:0' shape=(1, 96, 109, 109) dtype=float32>, '55': <tf.Tensor 'PyFunc:0' shape=(1, 96, 54, 54) dtype=float32>, '56': <tf.Tensor 'Add_1:0' shape=(1, 16, 54, 54) dtype=float32>, '57': <tf.Tensor 'Relu_1:0' shape=(1, 16, 54, 54) dtype=float32>, '58': <tf.Tensor 'Add_2:0' shape=(1, 64, 54, 54) dtype=float32>, '59': <tf.Tensor 'Relu_2:0' shape=(1, 64, 54, 54) dtype=float32>, '60': <tf.Tensor 'Add_3:0' shape=(1, 64, 54, 54) dtype=float32>, '61': <tf.Tensor 'Relu_3:0' shape=(1, 64, 54, 54) dtype=float32>, '62': <tf.Tensor 'concat_4:0' shape=(1, 128, 54, 54) dtype=float32>, '63': <tf.Tensor 'Add_4:0' shape=(1, 16, 54, 54) dtype=float32>, '64': <tf.Tensor 'Relu_4:0' shape=(1, 16, 54, 54) dtype=float32>, '65': <tf.Tensor 'Add_5:0' shape=(1, 64, 54, 54) dtype=float32>, '66': <tf.Tensor 'Relu_5:0' shape=(1, 64, 54, 54) dtype=float32>, '67': <tf.Tensor 'Add_6:0' shape=(1, 64, 54, 54) dtype=float32>, '68': <tf.Tensor 'Relu_6:0' shape=(1, 64, 54, 54) dtype=float32>, '69': <tf.Tensor 'concat_8:0' shape=(1, 128, 54, 54) dtype=float32>, '70': <tf.Tensor 'Add_7:0' shape=(1, 32, 54, 54) dtype=float32>, '71': <tf.Tensor 'Relu_7:0' shape=(1, 32, 54, 54) dtype=float32>, '72': <tf.Tensor 'Add_8:0' shape=(1, 128, 54, 54) dtype=float32>, '73': <tf.Tensor 'Relu_8:0' shape=(1, 128, 54, 54) dtype=float32>, '74': <tf.Tensor 'Add_9:0' shape=(1, 128, 54, 54) dtype=float32>, '75': <tf.Tensor 'Relu_9:0' shape=(1, 128, 54, 54) dtype=float32>, '76': <tf.Tensor 'concat_12:0' shape=(1, 256, 54, 54) dtype=float32>, '77': <tf.Tensor 'PyFunc_1:0' shape=(1, 256, 27, 27) dtype=float32>, '78': <tf.Tensor 'Add_10:0' shape=(1, 32, 27, 27) dtype=float32>, '79': <tf.Tensor 'Relu_10:0' shape=(1, 32, 27, 27) dtype=float32>, '80': <tf.Tensor 'Add_11:0' shape=(1, 128, 27, 27) dtype=float32>, '81': <tf.Tensor 'Relu_11:0' shape=(1, 128, 27, 27) dtype=float32>, '82': <tf.Tensor 'Add_12:0' shape=(1, 128, 27, 27) dtype=float32>, '83': <tf.Tensor 'Relu_12:0' shape=(1, 128, 27, 27) dtype=float32>, '84': <tf.Tensor 'concat_16:0' shape=(1, 256, 27, 27) dtype=float32>, '85': <tf.Tensor 'Add_13:0' shape=(1, 48, 27, 27) dtype=float32>, '86': <tf.Tensor 'Relu_13:0' shape=(1, 48, 27, 27) dtype=float32>, '87': <tf.Tensor 'Add_14:0' shape=(1, 192, 27, 27) dtype=float32>, '88': <tf.Tensor 'Relu_14:0' shape=(1, 192, 27, 27) dtype=float32>, '89': <tf.Tensor 'Add_15:0' shape=(1, 192, 27, 27) dtype=float32>, '90': <tf.Tensor 'Relu_15:0' shape=(1, 192, 27, 27) dtype=float32>, '91': <tf.Tensor 'concat_20:0' shape=(1, 384, 27, 27) dtype=float32>, '92': <tf.Tensor 'Add_16:0' shape=(1, 48, 27, 27) dtype=float32>, '93': <tf.Tensor 'Relu_16:0' shape=(1, 48, 27, 27) dtype=float32>, '94': <tf.Tensor 'Add_17:0' shape=(1, 192, 27, 27) dtype=float32>, '95': <tf.Tensor 'Relu_17:0' shape=(1, 192, 27, 27) dtype=float32>, '96': <tf.Tensor 'Add_18:0' shape=(1, 192, 27, 27) dtype=float32>, '97': <tf.Tensor 'Relu_18:0' shape=(1, 192, 27, 27) dtype=float32>, '98': <tf.Tensor 'concat_24:0' shape=(1, 384, 27, 27) dtype=float32>, '99': <tf.Tensor 'Add_19:0' shape=(1, 64, 27, 27) dtype=float32>, '100': <tf.Tensor 'Relu_19:0' shape=(1, 64, 27, 27) dtype=float32>, '101': <tf.Tensor 'Add_20:0' shape=(1, 256, 27, 27) dtype=float32>, '102': <tf.Tensor 'Relu_20:0' shape=(1, 256, 27, 27) dtype=float32>, '103': <tf.Tensor 'Add_21:0' shape=(1, 256, 27, 27) dtype=float32>, '104': <tf.Tensor 'Relu_21:0' shape=(1, 256, 27, 27) dtype=float32>, '105': <tf.Tensor 'concat_28:0' shape=(1, 512, 27, 27) dtype=float32>, '106': <tf.Tensor 'PyFunc_2:0' shape=(1, 512, 13, 13) dtype=float32>, '107': <tf.Tensor 'Add_22:0' shape=(1, 64, 13, 13) dtype=float32>, '108': <tf.Tensor 'Relu_22:0' shape=(1, 64, 13, 13) dtype=float32>, '109': <tf.Tensor 'Add_23:0' shape=(1, 256, 13, 13) dtype=float32>, '110': <tf.Tensor 'Relu_23:0' shape=(1, 256, 13, 13) dtype=float32>, '111': <tf.Tensor 'Add_24:0' shape=(1, 256, 13, 13) dtype=float32>, '112': <tf.Tensor 'Relu_24:0' shape=(1, 256, 13, 13) dtype=float32>, '113': <tf.Tensor 'concat_32:0' shape=(1, 512, 13, 13) dtype=float32>, '114': <tf.Tensor 'Add_25:0' shape=(1, 1000, 13, 13) dtype=float32>, '115': <tf.Tensor 'Relu_25:0' shape=(1, 1000, 13, 13) dtype=float32>, '116': <tf.Tensor 'Mean:0' shape=(1, 1000, 1, 1) dtype=float32>, '117': <tf.Tensor 'Const_130:0' shape=() dtype=int64>, '118': <tf.Tensor 'Shape:0' shape=(4,) dtype=int64>, '119': <tf.Tensor 'GatherV2:0' shape=() dtype=int64>, '120': <tf.Tensor 'Const_131:0' shape=() dtype=int64>, '121': <tf.Tensor 'ExpandDims_78:0' shape=(1,) dtype=int64>, '122': <tf.Tensor 'ExpandDims_79:0' shape=(1,) dtype=int64>, '123': <tf.Tensor 'concat_34:0' shape=(2,) dtype=int64>, '124': <tf.Tensor 'Reshape:0' shape=(1, 1000) dtype=float32>}\n"
          ],
          "name": "stdout"
        }
      ]
    },
    {
      "cell_type": "markdown",
      "metadata": {
        "id": "vPAr1ERc0SLn",
        "colab_type": "text"
      },
      "source": [
        "### Prepare an image for inference"
      ]
    },
    {
      "cell_type": "code",
      "metadata": {
        "id": "g6vbyVTOii7O",
        "colab_type": "code",
        "colab": {}
      },
      "source": [
        "!pip uninstall tensorflow-gpu\n",
        "!pip install --upgrade tensorflow"
      ],
      "execution_count": 0,
      "outputs": []
    },
    {
      "cell_type": "code",
      "metadata": {
        "id": "l81mg9dsSc1B",
        "colab_type": "code",
        "colab": {}
      },
      "source": [
        "import tensorflow as tf\n",
        "from tensorflow.compat.v1 import ConfigProto\n",
        "from tensorflow.compat.v1 import InteractiveSession\n",
        "\n",
        "\n",
        "config = tf.ConfigProto()\n",
        "config.gpu_options.allow_growth = True\n",
        "sess = tf.Session(config=config)"
      ],
      "execution_count": 0,
      "outputs": []
    },
    {
      "cell_type": "code",
      "metadata": {
        "id": "cDF5XNUt0M_v",
        "colab_type": "code",
        "colab": {
          "base_uri": "https://localhost:8080/",
          "height": 442
        },
        "outputId": "95f13260-987f-428d-867e-e9bc5a1e7dfc"
      },
      "source": [
        "\n",
        "import numpy as np\n",
        "from IPython.display import display\n",
        "from PIL import Image\n",
        "\n",
        "path_to_img = base_path + 'fer2013/PrivateTest/2/PrivateTest_1162474.jpg'\n",
        "#path_to_img = base_path + 'fer2013/testface-happy.jpg'\n",
        "\n",
        "img = Image.open(path_to_img).resize((224, 224))\n",
        "\n",
        "new_img = np.broadcast_to(img, (1, 3, 224, 224)).copy()\n",
        "print(new_img.shape)\n",
        "\n",
        "display(new_img) # show the image\n",
        "\n",
        "img_ycbcr = img.convert(\"YCbCr\")\n",
        "img_y, img_cb, img_cr = img_ycbcr.split()\n",
        "\n",
        "\n",
        "#test_face = np.asarray(img_y, dtype=np.float32)[np.newaxis, np.newaxis, :, :]"
      ],
      "execution_count": 16,
      "outputs": [
        {
          "output_type": "stream",
          "text": [
            "(224, 224)\n",
            "(1, 3, 224, 224)\n"
          ],
          "name": "stdout"
        },
        {
          "output_type": "display_data",
          "data": {
            "text/plain": [
              "array([[[[ 18,  18,  18, ...,  88,  88,  88],\n",
              "         [ 18,  18,  18, ...,  88,  88,  88],\n",
              "         [ 18,  18,  18, ...,  88,  88,  88],\n",
              "         ...,\n",
              "         [ 16,  16,  16, ..., 202, 202, 202],\n",
              "         [ 16,  16,  16, ..., 202, 202, 202],\n",
              "         [ 16,  16,  16, ..., 202, 202, 202]],\n",
              "\n",
              "        [[ 18,  18,  18, ...,  88,  88,  88],\n",
              "         [ 18,  18,  18, ...,  88,  88,  88],\n",
              "         [ 18,  18,  18, ...,  88,  88,  88],\n",
              "         ...,\n",
              "         [ 16,  16,  16, ..., 202, 202, 202],\n",
              "         [ 16,  16,  16, ..., 202, 202, 202],\n",
              "         [ 16,  16,  16, ..., 202, 202, 202]],\n",
              "\n",
              "        [[ 18,  18,  18, ...,  88,  88,  88],\n",
              "         [ 18,  18,  18, ...,  88,  88,  88],\n",
              "         [ 18,  18,  18, ...,  88,  88,  88],\n",
              "         ...,\n",
              "         [ 16,  16,  16, ..., 202, 202, 202],\n",
              "         [ 16,  16,  16, ..., 202, 202, 202],\n",
              "         [ 16,  16,  16, ..., 202, 202, 202]]]], dtype=uint8)"
            ]
          },
          "metadata": {
            "tags": []
          }
        }
      ]
    },
    {
      "cell_type": "code",
      "metadata": {
        "id": "gZ-jhkq22EbK",
        "colab_type": "code",
        "outputId": "a31c910e-057d-4c21-bf55-0480beefac57",
        "colab": {
          "base_uri": "https://localhost:8080/",
          "height": 51
        }
      },
      "source": [
        "# run the network\n",
        "#dummy_face = torch.randn(1, 3, 224, 224)\n",
        "\n",
        "print(new_img.shape)\n",
        "\n",
        "test_face_run = tf_rep.run(new_img)._0\n",
        "\n",
        "print(test_face_run.shape)"
      ],
      "execution_count": 17,
      "outputs": [
        {
          "output_type": "stream",
          "text": [
            "(1, 3, 224, 224)\n",
            "(1, 1000)\n"
          ],
          "name": "stdout"
        }
      ]
    },
    {
      "cell_type": "markdown",
      "metadata": {
        "id": "lP7mYLlEjjFP",
        "colab_type": "text"
      },
      "source": [
        "### Tensorflow -.h5 to -.pb"
      ]
    },
    {
      "cell_type": "code",
      "metadata": {
        "id": "s6Tr5MQZ8e1x",
        "colab_type": "code",
        "colab": {}
      },
      "source": [
        "from tensorflow.python.saved_model import builder as pb_builder"
      ],
      "execution_count": 0,
      "outputs": []
    },
    {
      "cell_type": "code",
      "metadata": {
        "id": "8nOaPqgB8h2B",
        "colab_type": "code",
        "colab": {
          "base_uri": "https://localhost:8080/",
          "height": 198
        },
        "outputId": "a76ecc85-177d-4e01-f8f6-dd275c547c8e"
      },
      "source": [
        "# load the model and save it as pb. \n",
        "# If the model is not in h5 format, convert it to h5 first.\n",
        "\n",
        "#pre_model = tf.keras.models.load_model('path/to/your/model.model')\n",
        "#pre_model.save('path/to/your/model.h5')\n",
        "\n",
        "export_path_h5 = base_path + \"ONNX/squeezenet_test.h5\"\n",
        "\n",
        "tf_rep.save(export_path_h5)"
      ],
      "execution_count": 23,
      "outputs": [
        {
          "output_type": "error",
          "ename": "AttributeError",
          "evalue": "ignored",
          "traceback": [
            "\u001b[0;31m---------------------------------------------------------------------------\u001b[0m",
            "\u001b[0;31mAttributeError\u001b[0m                            Traceback (most recent call last)",
            "\u001b[0;32m<ipython-input-23-a69d78b57bc6>\u001b[0m in \u001b[0;36m<module>\u001b[0;34m()\u001b[0m\n\u001b[1;32m      2\u001b[0m \u001b[0mexport_path_h5\u001b[0m \u001b[0;34m=\u001b[0m \u001b[0mbase_path\u001b[0m \u001b[0;34m+\u001b[0m \u001b[0;34m\"ONNX/squeezenet_test.h5\"\u001b[0m\u001b[0;34m\u001b[0m\u001b[0;34m\u001b[0m\u001b[0m\n\u001b[1;32m      3\u001b[0m \u001b[0;34m\u001b[0m\u001b[0m\n\u001b[0;32m----> 4\u001b[0;31m \u001b[0mtf_rep\u001b[0m\u001b[0;34m.\u001b[0m\u001b[0msave\u001b[0m\u001b[0;34m(\u001b[0m\u001b[0mexport_path_h5\u001b[0m\u001b[0;34m)\u001b[0m\u001b[0;34m\u001b[0m\u001b[0;34m\u001b[0m\u001b[0m\n\u001b[0m",
            "\u001b[0;31mAttributeError\u001b[0m: 'TensorflowRep' object has no attribute 'save'"
          ]
        }
      ]
    }
  ]
}