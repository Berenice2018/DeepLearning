{
  "nbformat": 4,
  "nbformat_minor": 0,
  "metadata": {
    "colab": {
      "name": "Conversion PyTorch to Tensorflow.ipynb",
      "version": "0.3.2",
      "provenance": [],
      "collapsed_sections": [
        "Uc1lLNcnjemx",
        "vPAr1ERc0SLn"
      ],
      "include_colab_link": true
    },
    "kernelspec": {
      "name": "python3",
      "display_name": "Python 3"
    },
    "accelerator": "GPU"
  },
  "cells": [
    {
      "cell_type": "markdown",
      "metadata": {
        "id": "view-in-github",
        "colab_type": "text"
      },
      "source": [
        "<a href=\"https://colab.research.google.com/github/Berenice2018/DeepLearning/blob/master/Conversion_PyTorch_to_Tensorflow.ipynb\" target=\"_parent\"><img src=\"https://colab.research.google.com/assets/colab-badge.svg\" alt=\"Open In Colab\"/></a>"
      ]
    },
    {
      "cell_type": "markdown",
      "metadata": {
        "id": "CyWlmQoKYj8W",
        "colab_type": "text"
      },
      "source": [
        "This is a notebook to test the conversion of :\n",
        "\n",
        "**PyTorch -.pth -->  ONNX -->  TensorflowRep object --> protobuf -.pb**\n"
      ]
    },
    {
      "cell_type": "code",
      "metadata": {
        "id": "P_S1Nwrk4eQz",
        "colab_type": "code",
        "outputId": "38bad1e9-6315-4c33-bb1b-c091894e0d79",
        "colab": {
          "base_uri": "https://localhost:8080/",
          "height": 122
        }
      },
      "source": [
        "# mount google drive\n",
        "from google.colab import drive\n",
        "drive.mount('/content/gdrive')"
      ],
      "execution_count": 0,
      "outputs": [
        {
          "output_type": "stream",
          "text": [
            "Go to this URL in a browser: https://accounts.google.com/o/oauth2/auth?client_id=947318989803-6bn6qk8qdgf4n4g3pfee6491hc0brc4i.apps.googleusercontent.com&redirect_uri=urn%3Aietf%3Awg%3Aoauth%3A2.0%3Aoob&scope=email%20https%3A%2F%2Fwww.googleapis.com%2Fauth%2Fdocs.test%20https%3A%2F%2Fwww.googleapis.com%2Fauth%2Fdrive%20https%3A%2F%2Fwww.googleapis.com%2Fauth%2Fdrive.photos.readonly%20https%3A%2F%2Fwww.googleapis.com%2Fauth%2Fpeopleapi.readonly&response_type=code\n",
            "\n",
            "Enter your authorization code:\n",
            "··········\n",
            "Mounted at /content/gdrive\n"
          ],
          "name": "stdout"
        }
      ]
    },
    {
      "cell_type": "code",
      "metadata": {
        "id": "qlaRTh7JUylq",
        "colab_type": "code",
        "outputId": "1c7a1315-5417-4f48-ec0b-1662cead1aff",
        "colab": {
          "base_uri": "https://localhost:8080/",
          "height": 68
        }
      },
      "source": [
        "!pip uninstall -y pytorch\n",
        "!pip uninstall -y torch\n",
        "\n",
        "# you can just do \n",
        "#!pip install --upgrade --force-reinstall torch\n",
        "# within a cell in Google Colab to get it working @Berenice"
      ],
      "execution_count": 0,
      "outputs": [
        {
          "output_type": "stream",
          "text": [
            "\u001b[33mWARNING: Skipping pytorch as it is not installed.\u001b[0m\n",
            "Uninstalling torch-1.1.0:\n",
            "  Successfully uninstalled torch-1.1.0\n"
          ],
          "name": "stdout"
        }
      ]
    },
    {
      "cell_type": "code",
      "metadata": {
        "id": "wnRypZpkSZNw",
        "colab_type": "code",
        "colab": {}
      },
      "source": [
        "torch_url=f\"https://download.pytorch.org/whl/nightly/cpu/torch-1.2.0.dev20190804%2Bcpu-cp36-cp36m-linux_x86_64.whl\"\n",
        "\n",
        "\n",
        "!pip install -U {torch_url} torchvision"
      ],
      "execution_count": 0,
      "outputs": []
    },
    {
      "cell_type": "markdown",
      "metadata": {
        "id": "Uc1lLNcnjemx",
        "colab_type": "text"
      },
      "source": [
        "### PyTorch to ONNX"
      ]
    },
    {
      "cell_type": "code",
      "metadata": {
        "id": "bPl-zaZOjifZ",
        "colab_type": "code",
        "colab": {}
      },
      "source": [
        "\n",
        "import torch.onnx\n",
        "import torchvision\n",
        "\n",
        "\n",
        "help(torch.onnx.export)"
      ],
      "execution_count": 0,
      "outputs": []
    },
    {
      "cell_type": "code",
      "metadata": {
        "id": "cmJoL2rlOkC3",
        "colab_type": "code",
        "colab": {}
      },
      "source": [
        "base_path = './gdrive/My Drive/Colab Notebooks/Fer-dataset/' \n",
        "checkpoint_name = 'akash-mobilenet_v2-FER1-60perc.pt'\n",
        "export_path = base_path + \"ONNX/mobilenet_v2-256px.onnx\"\n",
        "\n",
        "\n",
        "# Standard ImageNet input - 3 channels, 224x224,\n",
        "# values don't matter as we care about network structure.\n",
        "# But they can also be real inputs.\n",
        "\n",
        "# A model class instance (class not shown)\n",
        "model = torchvision.models.mobilenet_v2(pretrained=False)\n",
        "model.classifier[1] = torch.nn.Linear(1280, 7)\n",
        "\n",
        "#print(model)\n",
        "\n",
        "# Load the weights from a file (.pth usually)\n",
        "state_dict = torch.load(base_path + checkpoint_name, map_location=torch.device('cpu'))\n",
        "\n",
        "# Load the weights now into a model net architecture defined by our class\n",
        "model.load_state_dict(state_dict)\n",
        "\n",
        "# Create the right input shape (e.g. for an image)\n",
        "#dummy_input = torch.randn(1, 3, 224, 224)\n",
        "dummy_input = torch.randn(1, 3, 256, 256)\n",
        "\n",
        "\n",
        "\n",
        "torch.onnx.export(model, dummy_input, \"onnx_model_name.onnx\")"
      ],
      "execution_count": 0,
      "outputs": []
    },
    {
      "cell_type": "markdown",
      "metadata": {
        "id": "kEXyLdchsJcJ",
        "colab_type": "text"
      },
      "source": [
        "### Import ONNX to Tensorflow"
      ]
    },
    {
      "cell_type": "code",
      "metadata": {
        "id": "j7blU0oSxEiF",
        "colab_type": "code",
        "colab": {}
      },
      "source": [
        "!pip install onnx"
      ],
      "execution_count": 0,
      "outputs": []
    },
    {
      "cell_type": "code",
      "metadata": {
        "id": "sAdBfLORxOit",
        "colab_type": "code",
        "colab": {}
      },
      "source": [
        "!pip install onnx_tf"
      ],
      "execution_count": 0,
      "outputs": []
    },
    {
      "cell_type": "code",
      "metadata": {
        "id": "Y6AKTbJDsI8f",
        "colab_type": "code",
        "colab": {}
      },
      "source": [
        "import onnx\n",
        "import warnings\n",
        "from onnx_tf.backend import prepare\n",
        "\n",
        "warnings.filterwarnings('ignore') # Ignore all the warning messages in this tutorial\n",
        "\n",
        "tf_model = onnx.load(export_path) # Load the ONNX file\n",
        "\n",
        "tf_rep = prepare(tf_model) # Import the ONNX model to Tensorflow"
      ],
      "execution_count": 0,
      "outputs": []
    },
    {
      "cell_type": "code",
      "metadata": {
        "id": "miFUaB750Bih",
        "colab_type": "code",
        "outputId": "8eb884c8-ef72-4b5e-c959-ee555bea1e01",
        "colab": {
          "base_uri": "https://localhost:8080/",
          "height": 122
        }
      },
      "source": [
        "# Now we have tf_rep, which is a python class containing four members: graph, inputs, outputs, and tensor_dict.\n",
        "\n",
        "print(tf_rep.inputs) # Input nodes to the model\n",
        "print('-----')\n",
        "print(tf_rep.outputs) # Output nodes from the model\n",
        "print('-----')\n",
        "print(tf_rep.tensor_dict) # All nodes in the model"
      ],
      "execution_count": 0,
      "outputs": [
        {
          "output_type": "stream",
          "text": [
            "['input.1']\n",
            "-----\n",
            "['465']\n",
            "-----\n",
            "{'classifier.1.bias': <tf.Tensor 'Const:0' shape=(1000,) dtype=float32>, 'classifier.1.weight': <tf.Tensor 'Const_1:0' shape=(1000, 1280) dtype=float32>, 'features.0.0.weight': <tf.Tensor 'Const_2:0' shape=(32, 3, 3, 3) dtype=float32>, 'features.0.1.bias': <tf.Tensor 'Const_3:0' shape=(32,) dtype=float32>, 'features.0.1.num_batches_tracked': <tf.Tensor 'Const_4:0' shape=() dtype=int64>, 'features.0.1.running_mean': <tf.Tensor 'Const_5:0' shape=(32,) dtype=float32>, 'features.0.1.running_var': <tf.Tensor 'Const_6:0' shape=(32,) dtype=float32>, 'features.0.1.weight': <tf.Tensor 'Const_7:0' shape=(32,) dtype=float32>, 'features.1.conv.0.0.weight': <tf.Tensor 'Const_8:0' shape=(32, 1, 3, 3) dtype=float32>, 'features.1.conv.0.1.bias': <tf.Tensor 'Const_9:0' shape=(32,) dtype=float32>, 'features.1.conv.0.1.num_batches_tracked': <tf.Tensor 'Const_10:0' shape=() dtype=int64>, 'features.1.conv.0.1.running_mean': <tf.Tensor 'Const_11:0' shape=(32,) dtype=float32>, 'features.1.conv.0.1.running_var': <tf.Tensor 'Const_12:0' shape=(32,) dtype=float32>, 'features.1.conv.0.1.weight': <tf.Tensor 'Const_13:0' shape=(32,) dtype=float32>, 'features.1.conv.1.weight': <tf.Tensor 'Const_14:0' shape=(16, 32, 1, 1) dtype=float32>, 'features.1.conv.2.bias': <tf.Tensor 'Const_15:0' shape=(16,) dtype=float32>, 'features.1.conv.2.num_batches_tracked': <tf.Tensor 'Const_16:0' shape=() dtype=int64>, 'features.1.conv.2.running_mean': <tf.Tensor 'Const_17:0' shape=(16,) dtype=float32>, 'features.1.conv.2.running_var': <tf.Tensor 'Const_18:0' shape=(16,) dtype=float32>, 'features.1.conv.2.weight': <tf.Tensor 'Const_19:0' shape=(16,) dtype=float32>, 'features.10.conv.0.0.weight': <tf.Tensor 'Const_20:0' shape=(384, 64, 1, 1) dtype=float32>, 'features.10.conv.0.1.bias': <tf.Tensor 'Const_21:0' shape=(384,) dtype=float32>, 'features.10.conv.0.1.num_batches_tracked': <tf.Tensor 'Const_22:0' shape=() dtype=int64>, 'features.10.conv.0.1.running_mean': <tf.Tensor 'Const_23:0' shape=(384,) dtype=float32>, 'features.10.conv.0.1.running_var': <tf.Tensor 'Const_24:0' shape=(384,) dtype=float32>, 'features.10.conv.0.1.weight': <tf.Tensor 'Const_25:0' shape=(384,) dtype=float32>, 'features.10.conv.1.0.weight': <tf.Tensor 'Const_26:0' shape=(384, 1, 3, 3) dtype=float32>, 'features.10.conv.1.1.bias': <tf.Tensor 'Const_27:0' shape=(384,) dtype=float32>, 'features.10.conv.1.1.num_batches_tracked': <tf.Tensor 'Const_28:0' shape=() dtype=int64>, 'features.10.conv.1.1.running_mean': <tf.Tensor 'Const_29:0' shape=(384,) dtype=float32>, 'features.10.conv.1.1.running_var': <tf.Tensor 'Const_30:0' shape=(384,) dtype=float32>, 'features.10.conv.1.1.weight': <tf.Tensor 'Const_31:0' shape=(384,) dtype=float32>, 'features.10.conv.2.weight': <tf.Tensor 'Const_32:0' shape=(64, 384, 1, 1) dtype=float32>, 'features.10.conv.3.bias': <tf.Tensor 'Const_33:0' shape=(64,) dtype=float32>, 'features.10.conv.3.num_batches_tracked': <tf.Tensor 'Const_34:0' shape=() dtype=int64>, 'features.10.conv.3.running_mean': <tf.Tensor 'Const_35:0' shape=(64,) dtype=float32>, 'features.10.conv.3.running_var': <tf.Tensor 'Const_36:0' shape=(64,) dtype=float32>, 'features.10.conv.3.weight': <tf.Tensor 'Const_37:0' shape=(64,) dtype=float32>, 'features.11.conv.0.0.weight': <tf.Tensor 'Const_38:0' shape=(384, 64, 1, 1) dtype=float32>, 'features.11.conv.0.1.bias': <tf.Tensor 'Const_39:0' shape=(384,) dtype=float32>, 'features.11.conv.0.1.num_batches_tracked': <tf.Tensor 'Const_40:0' shape=() dtype=int64>, 'features.11.conv.0.1.running_mean': <tf.Tensor 'Const_41:0' shape=(384,) dtype=float32>, 'features.11.conv.0.1.running_var': <tf.Tensor 'Const_42:0' shape=(384,) dtype=float32>, 'features.11.conv.0.1.weight': <tf.Tensor 'Const_43:0' shape=(384,) dtype=float32>, 'features.11.conv.1.0.weight': <tf.Tensor 'Const_44:0' shape=(384, 1, 3, 3) dtype=float32>, 'features.11.conv.1.1.bias': <tf.Tensor 'Const_45:0' shape=(384,) dtype=float32>, 'features.11.conv.1.1.num_batches_tracked': <tf.Tensor 'Const_46:0' shape=() dtype=int64>, 'features.11.conv.1.1.running_mean': <tf.Tensor 'Const_47:0' shape=(384,) dtype=float32>, 'features.11.conv.1.1.running_var': <tf.Tensor 'Const_48:0' shape=(384,) dtype=float32>, 'features.11.conv.1.1.weight': <tf.Tensor 'Const_49:0' shape=(384,) dtype=float32>, 'features.11.conv.2.weight': <tf.Tensor 'Const_50:0' shape=(96, 384, 1, 1) dtype=float32>, 'features.11.conv.3.bias': <tf.Tensor 'Const_51:0' shape=(96,) dtype=float32>, 'features.11.conv.3.num_batches_tracked': <tf.Tensor 'Const_52:0' shape=() dtype=int64>, 'features.11.conv.3.running_mean': <tf.Tensor 'Const_53:0' shape=(96,) dtype=float32>, 'features.11.conv.3.running_var': <tf.Tensor 'Const_54:0' shape=(96,) dtype=float32>, 'features.11.conv.3.weight': <tf.Tensor 'Const_55:0' shape=(96,) dtype=float32>, 'features.12.conv.0.0.weight': <tf.Tensor 'Const_56:0' shape=(576, 96, 1, 1) dtype=float32>, 'features.12.conv.0.1.bias': <tf.Tensor 'Const_57:0' shape=(576,) dtype=float32>, 'features.12.conv.0.1.num_batches_tracked': <tf.Tensor 'Const_58:0' shape=() dtype=int64>, 'features.12.conv.0.1.running_mean': <tf.Tensor 'Const_59:0' shape=(576,) dtype=float32>, 'features.12.conv.0.1.running_var': <tf.Tensor 'Const_60:0' shape=(576,) dtype=float32>, 'features.12.conv.0.1.weight': <tf.Tensor 'Const_61:0' shape=(576,) dtype=float32>, 'features.12.conv.1.0.weight': <tf.Tensor 'Const_62:0' shape=(576, 1, 3, 3) dtype=float32>, 'features.12.conv.1.1.bias': <tf.Tensor 'Const_63:0' shape=(576,) dtype=float32>, 'features.12.conv.1.1.num_batches_tracked': <tf.Tensor 'Const_64:0' shape=() dtype=int64>, 'features.12.conv.1.1.running_mean': <tf.Tensor 'Const_65:0' shape=(576,) dtype=float32>, 'features.12.conv.1.1.running_var': <tf.Tensor 'Const_66:0' shape=(576,) dtype=float32>, 'features.12.conv.1.1.weight': <tf.Tensor 'Const_67:0' shape=(576,) dtype=float32>, 'features.12.conv.2.weight': <tf.Tensor 'Const_68:0' shape=(96, 576, 1, 1) dtype=float32>, 'features.12.conv.3.bias': <tf.Tensor 'Const_69:0' shape=(96,) dtype=float32>, 'features.12.conv.3.num_batches_tracked': <tf.Tensor 'Const_70:0' shape=() dtype=int64>, 'features.12.conv.3.running_mean': <tf.Tensor 'Const_71:0' shape=(96,) dtype=float32>, 'features.12.conv.3.running_var': <tf.Tensor 'Const_72:0' shape=(96,) dtype=float32>, 'features.12.conv.3.weight': <tf.Tensor 'Const_73:0' shape=(96,) dtype=float32>, 'features.13.conv.0.0.weight': <tf.Tensor 'Const_74:0' shape=(576, 96, 1, 1) dtype=float32>, 'features.13.conv.0.1.bias': <tf.Tensor 'Const_75:0' shape=(576,) dtype=float32>, 'features.13.conv.0.1.num_batches_tracked': <tf.Tensor 'Const_76:0' shape=() dtype=int64>, 'features.13.conv.0.1.running_mean': <tf.Tensor 'Const_77:0' shape=(576,) dtype=float32>, 'features.13.conv.0.1.running_var': <tf.Tensor 'Const_78:0' shape=(576,) dtype=float32>, 'features.13.conv.0.1.weight': <tf.Tensor 'Const_79:0' shape=(576,) dtype=float32>, 'features.13.conv.1.0.weight': <tf.Tensor 'Const_80:0' shape=(576, 1, 3, 3) dtype=float32>, 'features.13.conv.1.1.bias': <tf.Tensor 'Const_81:0' shape=(576,) dtype=float32>, 'features.13.conv.1.1.num_batches_tracked': <tf.Tensor 'Const_82:0' shape=() dtype=int64>, 'features.13.conv.1.1.running_mean': <tf.Tensor 'Const_83:0' shape=(576,) dtype=float32>, 'features.13.conv.1.1.running_var': <tf.Tensor 'Const_84:0' shape=(576,) dtype=float32>, 'features.13.conv.1.1.weight': <tf.Tensor 'Const_85:0' shape=(576,) dtype=float32>, 'features.13.conv.2.weight': <tf.Tensor 'Const_86:0' shape=(96, 576, 1, 1) dtype=float32>, 'features.13.conv.3.bias': <tf.Tensor 'Const_87:0' shape=(96,) dtype=float32>, 'features.13.conv.3.num_batches_tracked': <tf.Tensor 'Const_88:0' shape=() dtype=int64>, 'features.13.conv.3.running_mean': <tf.Tensor 'Const_89:0' shape=(96,) dtype=float32>, 'features.13.conv.3.running_var': <tf.Tensor 'Const_90:0' shape=(96,) dtype=float32>, 'features.13.conv.3.weight': <tf.Tensor 'Const_91:0' shape=(96,) dtype=float32>, 'features.14.conv.0.0.weight': <tf.Tensor 'Const_92:0' shape=(576, 96, 1, 1) dtype=float32>, 'features.14.conv.0.1.bias': <tf.Tensor 'Const_93:0' shape=(576,) dtype=float32>, 'features.14.conv.0.1.num_batches_tracked': <tf.Tensor 'Const_94:0' shape=() dtype=int64>, 'features.14.conv.0.1.running_mean': <tf.Tensor 'Const_95:0' shape=(576,) dtype=float32>, 'features.14.conv.0.1.running_var': <tf.Tensor 'Const_96:0' shape=(576,) dtype=float32>, 'features.14.conv.0.1.weight': <tf.Tensor 'Const_97:0' shape=(576,) dtype=float32>, 'features.14.conv.1.0.weight': <tf.Tensor 'Const_98:0' shape=(576, 1, 3, 3) dtype=float32>, 'features.14.conv.1.1.bias': <tf.Tensor 'Const_99:0' shape=(576,) dtype=float32>, 'features.14.conv.1.1.num_batches_tracked': <tf.Tensor 'Const_100:0' shape=() dtype=int64>, 'features.14.conv.1.1.running_mean': <tf.Tensor 'Const_101:0' shape=(576,) dtype=float32>, 'features.14.conv.1.1.running_var': <tf.Tensor 'Const_102:0' shape=(576,) dtype=float32>, 'features.14.conv.1.1.weight': <tf.Tensor 'Const_103:0' shape=(576,) dtype=float32>, 'features.14.conv.2.weight': <tf.Tensor 'Const_104:0' shape=(160, 576, 1, 1) dtype=float32>, 'features.14.conv.3.bias': <tf.Tensor 'Const_105:0' shape=(160,) dtype=float32>, 'features.14.conv.3.num_batches_tracked': <tf.Tensor 'Const_106:0' shape=() dtype=int64>, 'features.14.conv.3.running_mean': <tf.Tensor 'Const_107:0' shape=(160,) dtype=float32>, 'features.14.conv.3.running_var': <tf.Tensor 'Const_108:0' shape=(160,) dtype=float32>, 'features.14.conv.3.weight': <tf.Tensor 'Const_109:0' shape=(160,) dtype=float32>, 'features.15.conv.0.0.weight': <tf.Tensor 'Const_110:0' shape=(960, 160, 1, 1) dtype=float32>, 'features.15.conv.0.1.bias': <tf.Tensor 'Const_111:0' shape=(960,) dtype=float32>, 'features.15.conv.0.1.num_batches_tracked': <tf.Tensor 'Const_112:0' shape=() dtype=int64>, 'features.15.conv.0.1.running_mean': <tf.Tensor 'Const_113:0' shape=(960,) dtype=float32>, 'features.15.conv.0.1.running_var': <tf.Tensor 'Const_114:0' shape=(960,) dtype=float32>, 'features.15.conv.0.1.weight': <tf.Tensor 'Const_115:0' shape=(960,) dtype=float32>, 'features.15.conv.1.0.weight': <tf.Tensor 'Const_116:0' shape=(960, 1, 3, 3) dtype=float32>, 'features.15.conv.1.1.bias': <tf.Tensor 'Const_117:0' shape=(960,) dtype=float32>, 'features.15.conv.1.1.num_batches_tracked': <tf.Tensor 'Const_118:0' shape=() dtype=int64>, 'features.15.conv.1.1.running_mean': <tf.Tensor 'Const_119:0' shape=(960,) dtype=float32>, 'features.15.conv.1.1.running_var': <tf.Tensor 'Const_120:0' shape=(960,) dtype=float32>, 'features.15.conv.1.1.weight': <tf.Tensor 'Const_121:0' shape=(960,) dtype=float32>, 'features.15.conv.2.weight': <tf.Tensor 'Const_122:0' shape=(160, 960, 1, 1) dtype=float32>, 'features.15.conv.3.bias': <tf.Tensor 'Const_123:0' shape=(160,) dtype=float32>, 'features.15.conv.3.num_batches_tracked': <tf.Tensor 'Const_124:0' shape=() dtype=int64>, 'features.15.conv.3.running_mean': <tf.Tensor 'Const_125:0' shape=(160,) dtype=float32>, 'features.15.conv.3.running_var': <tf.Tensor 'Const_126:0' shape=(160,) dtype=float32>, 'features.15.conv.3.weight': <tf.Tensor 'Const_127:0' shape=(160,) dtype=float32>, 'features.16.conv.0.0.weight': <tf.Tensor 'Const_128:0' shape=(960, 160, 1, 1) dtype=float32>, 'features.16.conv.0.1.bias': <tf.Tensor 'Const_129:0' shape=(960,) dtype=float32>, 'features.16.conv.0.1.num_batches_tracked': <tf.Tensor 'Const_130:0' shape=() dtype=int64>, 'features.16.conv.0.1.running_mean': <tf.Tensor 'Const_131:0' shape=(960,) dtype=float32>, 'features.16.conv.0.1.running_var': <tf.Tensor 'Const_132:0' shape=(960,) dtype=float32>, 'features.16.conv.0.1.weight': <tf.Tensor 'Const_133:0' shape=(960,) dtype=float32>, 'features.16.conv.1.0.weight': <tf.Tensor 'Const_134:0' shape=(960, 1, 3, 3) dtype=float32>, 'features.16.conv.1.1.bias': <tf.Tensor 'Const_135:0' shape=(960,) dtype=float32>, 'features.16.conv.1.1.num_batches_tracked': <tf.Tensor 'Const_136:0' shape=() dtype=int64>, 'features.16.conv.1.1.running_mean': <tf.Tensor 'Const_137:0' shape=(960,) dtype=float32>, 'features.16.conv.1.1.running_var': <tf.Tensor 'Const_138:0' shape=(960,) dtype=float32>, 'features.16.conv.1.1.weight': <tf.Tensor 'Const_139:0' shape=(960,) dtype=float32>, 'features.16.conv.2.weight': <tf.Tensor 'Const_140:0' shape=(160, 960, 1, 1) dtype=float32>, 'features.16.conv.3.bias': <tf.Tensor 'Const_141:0' shape=(160,) dtype=float32>, 'features.16.conv.3.num_batches_tracked': <tf.Tensor 'Const_142:0' shape=() dtype=int64>, 'features.16.conv.3.running_mean': <tf.Tensor 'Const_143:0' shape=(160,) dtype=float32>, 'features.16.conv.3.running_var': <tf.Tensor 'Const_144:0' shape=(160,) dtype=float32>, 'features.16.conv.3.weight': <tf.Tensor 'Const_145:0' shape=(160,) dtype=float32>, 'features.17.conv.0.0.weight': <tf.Tensor 'Const_146:0' shape=(960, 160, 1, 1) dtype=float32>, 'features.17.conv.0.1.bias': <tf.Tensor 'Const_147:0' shape=(960,) dtype=float32>, 'features.17.conv.0.1.num_batches_tracked': <tf.Tensor 'Const_148:0' shape=() dtype=int64>, 'features.17.conv.0.1.running_mean': <tf.Tensor 'Const_149:0' shape=(960,) dtype=float32>, 'features.17.conv.0.1.running_var': <tf.Tensor 'Const_150:0' shape=(960,) dtype=float32>, 'features.17.conv.0.1.weight': <tf.Tensor 'Const_151:0' shape=(960,) dtype=float32>, 'features.17.conv.1.0.weight': <tf.Tensor 'Const_152:0' shape=(960, 1, 3, 3) dtype=float32>, 'features.17.conv.1.1.bias': <tf.Tensor 'Const_153:0' shape=(960,) dtype=float32>, 'features.17.conv.1.1.num_batches_tracked': <tf.Tensor 'Const_154:0' shape=() dtype=int64>, 'features.17.conv.1.1.running_mean': <tf.Tensor 'Const_155:0' shape=(960,) dtype=float32>, 'features.17.conv.1.1.running_var': <tf.Tensor 'Const_156:0' shape=(960,) dtype=float32>, 'features.17.conv.1.1.weight': <tf.Tensor 'Const_157:0' shape=(960,) dtype=float32>, 'features.17.conv.2.weight': <tf.Tensor 'Const_158:0' shape=(320, 960, 1, 1) dtype=float32>, 'features.17.conv.3.bias': <tf.Tensor 'Const_159:0' shape=(320,) dtype=float32>, 'features.17.conv.3.num_batches_tracked': <tf.Tensor 'Const_160:0' shape=() dtype=int64>, 'features.17.conv.3.running_mean': <tf.Tensor 'Const_161:0' shape=(320,) dtype=float32>, 'features.17.conv.3.running_var': <tf.Tensor 'Const_162:0' shape=(320,) dtype=float32>, 'features.17.conv.3.weight': <tf.Tensor 'Const_163:0' shape=(320,) dtype=float32>, 'features.18.0.weight': <tf.Tensor 'Const_164:0' shape=(1280, 320, 1, 1) dtype=float32>, 'features.18.1.bias': <tf.Tensor 'Const_165:0' shape=(1280,) dtype=float32>, 'features.18.1.num_batches_tracked': <tf.Tensor 'Const_166:0' shape=() dtype=int64>, 'features.18.1.running_mean': <tf.Tensor 'Const_167:0' shape=(1280,) dtype=float32>, 'features.18.1.running_var': <tf.Tensor 'Const_168:0' shape=(1280,) dtype=float32>, 'features.18.1.weight': <tf.Tensor 'Const_169:0' shape=(1280,) dtype=float32>, 'features.2.conv.0.0.weight': <tf.Tensor 'Const_170:0' shape=(96, 16, 1, 1) dtype=float32>, 'features.2.conv.0.1.bias': <tf.Tensor 'Const_171:0' shape=(96,) dtype=float32>, 'features.2.conv.0.1.num_batches_tracked': <tf.Tensor 'Const_172:0' shape=() dtype=int64>, 'features.2.conv.0.1.running_mean': <tf.Tensor 'Const_173:0' shape=(96,) dtype=float32>, 'features.2.conv.0.1.running_var': <tf.Tensor 'Const_174:0' shape=(96,) dtype=float32>, 'features.2.conv.0.1.weight': <tf.Tensor 'Const_175:0' shape=(96,) dtype=float32>, 'features.2.conv.1.0.weight': <tf.Tensor 'Const_176:0' shape=(96, 1, 3, 3) dtype=float32>, 'features.2.conv.1.1.bias': <tf.Tensor 'Const_177:0' shape=(96,) dtype=float32>, 'features.2.conv.1.1.num_batches_tracked': <tf.Tensor 'Const_178:0' shape=() dtype=int64>, 'features.2.conv.1.1.running_mean': <tf.Tensor 'Const_179:0' shape=(96,) dtype=float32>, 'features.2.conv.1.1.running_var': <tf.Tensor 'Const_180:0' shape=(96,) dtype=float32>, 'features.2.conv.1.1.weight': <tf.Tensor 'Const_181:0' shape=(96,) dtype=float32>, 'features.2.conv.2.weight': <tf.Tensor 'Const_182:0' shape=(24, 96, 1, 1) dtype=float32>, 'features.2.conv.3.bias': <tf.Tensor 'Const_183:0' shape=(24,) dtype=float32>, 'features.2.conv.3.num_batches_tracked': <tf.Tensor 'Const_184:0' shape=() dtype=int64>, 'features.2.conv.3.running_mean': <tf.Tensor 'Const_185:0' shape=(24,) dtype=float32>, 'features.2.conv.3.running_var': <tf.Tensor 'Const_186:0' shape=(24,) dtype=float32>, 'features.2.conv.3.weight': <tf.Tensor 'Const_187:0' shape=(24,) dtype=float32>, 'features.3.conv.0.0.weight': <tf.Tensor 'Const_188:0' shape=(144, 24, 1, 1) dtype=float32>, 'features.3.conv.0.1.bias': <tf.Tensor 'Const_189:0' shape=(144,) dtype=float32>, 'features.3.conv.0.1.num_batches_tracked': <tf.Tensor 'Const_190:0' shape=() dtype=int64>, 'features.3.conv.0.1.running_mean': <tf.Tensor 'Const_191:0' shape=(144,) dtype=float32>, 'features.3.conv.0.1.running_var': <tf.Tensor 'Const_192:0' shape=(144,) dtype=float32>, 'features.3.conv.0.1.weight': <tf.Tensor 'Const_193:0' shape=(144,) dtype=float32>, 'features.3.conv.1.0.weight': <tf.Tensor 'Const_194:0' shape=(144, 1, 3, 3) dtype=float32>, 'features.3.conv.1.1.bias': <tf.Tensor 'Const_195:0' shape=(144,) dtype=float32>, 'features.3.conv.1.1.num_batches_tracked': <tf.Tensor 'Const_196:0' shape=() dtype=int64>, 'features.3.conv.1.1.running_mean': <tf.Tensor 'Const_197:0' shape=(144,) dtype=float32>, 'features.3.conv.1.1.running_var': <tf.Tensor 'Const_198:0' shape=(144,) dtype=float32>, 'features.3.conv.1.1.weight': <tf.Tensor 'Const_199:0' shape=(144,) dtype=float32>, 'features.3.conv.2.weight': <tf.Tensor 'Const_200:0' shape=(24, 144, 1, 1) dtype=float32>, 'features.3.conv.3.bias': <tf.Tensor 'Const_201:0' shape=(24,) dtype=float32>, 'features.3.conv.3.num_batches_tracked': <tf.Tensor 'Const_202:0' shape=() dtype=int64>, 'features.3.conv.3.running_mean': <tf.Tensor 'Const_203:0' shape=(24,) dtype=float32>, 'features.3.conv.3.running_var': <tf.Tensor 'Const_204:0' shape=(24,) dtype=float32>, 'features.3.conv.3.weight': <tf.Tensor 'Const_205:0' shape=(24,) dtype=float32>, 'features.4.conv.0.0.weight': <tf.Tensor 'Const_206:0' shape=(144, 24, 1, 1) dtype=float32>, 'features.4.conv.0.1.bias': <tf.Tensor 'Const_207:0' shape=(144,) dtype=float32>, 'features.4.conv.0.1.num_batches_tracked': <tf.Tensor 'Const_208:0' shape=() dtype=int64>, 'features.4.conv.0.1.running_mean': <tf.Tensor 'Const_209:0' shape=(144,) dtype=float32>, 'features.4.conv.0.1.running_var': <tf.Tensor 'Const_210:0' shape=(144,) dtype=float32>, 'features.4.conv.0.1.weight': <tf.Tensor 'Const_211:0' shape=(144,) dtype=float32>, 'features.4.conv.1.0.weight': <tf.Tensor 'Const_212:0' shape=(144, 1, 3, 3) dtype=float32>, 'features.4.conv.1.1.bias': <tf.Tensor 'Const_213:0' shape=(144,) dtype=float32>, 'features.4.conv.1.1.num_batches_tracked': <tf.Tensor 'Const_214:0' shape=() dtype=int64>, 'features.4.conv.1.1.running_mean': <tf.Tensor 'Const_215:0' shape=(144,) dtype=float32>, 'features.4.conv.1.1.running_var': <tf.Tensor 'Const_216:0' shape=(144,) dtype=float32>, 'features.4.conv.1.1.weight': <tf.Tensor 'Const_217:0' shape=(144,) dtype=float32>, 'features.4.conv.2.weight': <tf.Tensor 'Const_218:0' shape=(32, 144, 1, 1) dtype=float32>, 'features.4.conv.3.bias': <tf.Tensor 'Const_219:0' shape=(32,) dtype=float32>, 'features.4.conv.3.num_batches_tracked': <tf.Tensor 'Const_220:0' shape=() dtype=int64>, 'features.4.conv.3.running_mean': <tf.Tensor 'Const_221:0' shape=(32,) dtype=float32>, 'features.4.conv.3.running_var': <tf.Tensor 'Const_222:0' shape=(32,) dtype=float32>, 'features.4.conv.3.weight': <tf.Tensor 'Const_223:0' shape=(32,) dtype=float32>, 'features.5.conv.0.0.weight': <tf.Tensor 'Const_224:0' shape=(192, 32, 1, 1) dtype=float32>, 'features.5.conv.0.1.bias': <tf.Tensor 'Const_225:0' shape=(192,) dtype=float32>, 'features.5.conv.0.1.num_batches_tracked': <tf.Tensor 'Const_226:0' shape=() dtype=int64>, 'features.5.conv.0.1.running_mean': <tf.Tensor 'Const_227:0' shape=(192,) dtype=float32>, 'features.5.conv.0.1.running_var': <tf.Tensor 'Const_228:0' shape=(192,) dtype=float32>, 'features.5.conv.0.1.weight': <tf.Tensor 'Const_229:0' shape=(192,) dtype=float32>, 'features.5.conv.1.0.weight': <tf.Tensor 'Const_230:0' shape=(192, 1, 3, 3) dtype=float32>, 'features.5.conv.1.1.bias': <tf.Tensor 'Const_231:0' shape=(192,) dtype=float32>, 'features.5.conv.1.1.num_batches_tracked': <tf.Tensor 'Const_232:0' shape=() dtype=int64>, 'features.5.conv.1.1.running_mean': <tf.Tensor 'Const_233:0' shape=(192,) dtype=float32>, 'features.5.conv.1.1.running_var': <tf.Tensor 'Const_234:0' shape=(192,) dtype=float32>, 'features.5.conv.1.1.weight': <tf.Tensor 'Const_235:0' shape=(192,) dtype=float32>, 'features.5.conv.2.weight': <tf.Tensor 'Const_236:0' shape=(32, 192, 1, 1) dtype=float32>, 'features.5.conv.3.bias': <tf.Tensor 'Const_237:0' shape=(32,) dtype=float32>, 'features.5.conv.3.num_batches_tracked': <tf.Tensor 'Const_238:0' shape=() dtype=int64>, 'features.5.conv.3.running_mean': <tf.Tensor 'Const_239:0' shape=(32,) dtype=float32>, 'features.5.conv.3.running_var': <tf.Tensor 'Const_240:0' shape=(32,) dtype=float32>, 'features.5.conv.3.weight': <tf.Tensor 'Const_241:0' shape=(32,) dtype=float32>, 'features.6.conv.0.0.weight': <tf.Tensor 'Const_242:0' shape=(192, 32, 1, 1) dtype=float32>, 'features.6.conv.0.1.bias': <tf.Tensor 'Const_243:0' shape=(192,) dtype=float32>, 'features.6.conv.0.1.num_batches_tracked': <tf.Tensor 'Const_244:0' shape=() dtype=int64>, 'features.6.conv.0.1.running_mean': <tf.Tensor 'Const_245:0' shape=(192,) dtype=float32>, 'features.6.conv.0.1.running_var': <tf.Tensor 'Const_246:0' shape=(192,) dtype=float32>, 'features.6.conv.0.1.weight': <tf.Tensor 'Const_247:0' shape=(192,) dtype=float32>, 'features.6.conv.1.0.weight': <tf.Tensor 'Const_248:0' shape=(192, 1, 3, 3) dtype=float32>, 'features.6.conv.1.1.bias': <tf.Tensor 'Const_249:0' shape=(192,) dtype=float32>, 'features.6.conv.1.1.num_batches_tracked': <tf.Tensor 'Const_250:0' shape=() dtype=int64>, 'features.6.conv.1.1.running_mean': <tf.Tensor 'Const_251:0' shape=(192,) dtype=float32>, 'features.6.conv.1.1.running_var': <tf.Tensor 'Const_252:0' shape=(192,) dtype=float32>, 'features.6.conv.1.1.weight': <tf.Tensor 'Const_253:0' shape=(192,) dtype=float32>, 'features.6.conv.2.weight': <tf.Tensor 'Const_254:0' shape=(32, 192, 1, 1) dtype=float32>, 'features.6.conv.3.bias': <tf.Tensor 'Const_255:0' shape=(32,) dtype=float32>, 'features.6.conv.3.num_batches_tracked': <tf.Tensor 'Const_256:0' shape=() dtype=int64>, 'features.6.conv.3.running_mean': <tf.Tensor 'Const_257:0' shape=(32,) dtype=float32>, 'features.6.conv.3.running_var': <tf.Tensor 'Const_258:0' shape=(32,) dtype=float32>, 'features.6.conv.3.weight': <tf.Tensor 'Const_259:0' shape=(32,) dtype=float32>, 'features.7.conv.0.0.weight': <tf.Tensor 'Const_260:0' shape=(192, 32, 1, 1) dtype=float32>, 'features.7.conv.0.1.bias': <tf.Tensor 'Const_261:0' shape=(192,) dtype=float32>, 'features.7.conv.0.1.num_batches_tracked': <tf.Tensor 'Const_262:0' shape=() dtype=int64>, 'features.7.conv.0.1.running_mean': <tf.Tensor 'Const_263:0' shape=(192,) dtype=float32>, 'features.7.conv.0.1.running_var': <tf.Tensor 'Const_264:0' shape=(192,) dtype=float32>, 'features.7.conv.0.1.weight': <tf.Tensor 'Const_265:0' shape=(192,) dtype=float32>, 'features.7.conv.1.0.weight': <tf.Tensor 'Const_266:0' shape=(192, 1, 3, 3) dtype=float32>, 'features.7.conv.1.1.bias': <tf.Tensor 'Const_267:0' shape=(192,) dtype=float32>, 'features.7.conv.1.1.num_batches_tracked': <tf.Tensor 'Const_268:0' shape=() dtype=int64>, 'features.7.conv.1.1.running_mean': <tf.Tensor 'Const_269:0' shape=(192,) dtype=float32>, 'features.7.conv.1.1.running_var': <tf.Tensor 'Const_270:0' shape=(192,) dtype=float32>, 'features.7.conv.1.1.weight': <tf.Tensor 'Const_271:0' shape=(192,) dtype=float32>, 'features.7.conv.2.weight': <tf.Tensor 'Const_272:0' shape=(64, 192, 1, 1) dtype=float32>, 'features.7.conv.3.bias': <tf.Tensor 'Const_273:0' shape=(64,) dtype=float32>, 'features.7.conv.3.num_batches_tracked': <tf.Tensor 'Const_274:0' shape=() dtype=int64>, 'features.7.conv.3.running_mean': <tf.Tensor 'Const_275:0' shape=(64,) dtype=float32>, 'features.7.conv.3.running_var': <tf.Tensor 'Const_276:0' shape=(64,) dtype=float32>, 'features.7.conv.3.weight': <tf.Tensor 'Const_277:0' shape=(64,) dtype=float32>, 'features.8.conv.0.0.weight': <tf.Tensor 'Const_278:0' shape=(384, 64, 1, 1) dtype=float32>, 'features.8.conv.0.1.bias': <tf.Tensor 'Const_279:0' shape=(384,) dtype=float32>, 'features.8.conv.0.1.num_batches_tracked': <tf.Tensor 'Const_280:0' shape=() dtype=int64>, 'features.8.conv.0.1.running_mean': <tf.Tensor 'Const_281:0' shape=(384,) dtype=float32>, 'features.8.conv.0.1.running_var': <tf.Tensor 'Const_282:0' shape=(384,) dtype=float32>, 'features.8.conv.0.1.weight': <tf.Tensor 'Const_283:0' shape=(384,) dtype=float32>, 'features.8.conv.1.0.weight': <tf.Tensor 'Const_284:0' shape=(384, 1, 3, 3) dtype=float32>, 'features.8.conv.1.1.bias': <tf.Tensor 'Const_285:0' shape=(384,) dtype=float32>, 'features.8.conv.1.1.num_batches_tracked': <tf.Tensor 'Const_286:0' shape=() dtype=int64>, 'features.8.conv.1.1.running_mean': <tf.Tensor 'Const_287:0' shape=(384,) dtype=float32>, 'features.8.conv.1.1.running_var': <tf.Tensor 'Const_288:0' shape=(384,) dtype=float32>, 'features.8.conv.1.1.weight': <tf.Tensor 'Const_289:0' shape=(384,) dtype=float32>, 'features.8.conv.2.weight': <tf.Tensor 'Const_290:0' shape=(64, 384, 1, 1) dtype=float32>, 'features.8.conv.3.bias': <tf.Tensor 'Const_291:0' shape=(64,) dtype=float32>, 'features.8.conv.3.num_batches_tracked': <tf.Tensor 'Const_292:0' shape=() dtype=int64>, 'features.8.conv.3.running_mean': <tf.Tensor 'Const_293:0' shape=(64,) dtype=float32>, 'features.8.conv.3.running_var': <tf.Tensor 'Const_294:0' shape=(64,) dtype=float32>, 'features.8.conv.3.weight': <tf.Tensor 'Const_295:0' shape=(64,) dtype=float32>, 'features.9.conv.0.0.weight': <tf.Tensor 'Const_296:0' shape=(384, 64, 1, 1) dtype=float32>, 'features.9.conv.0.1.bias': <tf.Tensor 'Const_297:0' shape=(384,) dtype=float32>, 'features.9.conv.0.1.num_batches_tracked': <tf.Tensor 'Const_298:0' shape=() dtype=int64>, 'features.9.conv.0.1.running_mean': <tf.Tensor 'Const_299:0' shape=(384,) dtype=float32>, 'features.9.conv.0.1.running_var': <tf.Tensor 'Const_300:0' shape=(384,) dtype=float32>, 'features.9.conv.0.1.weight': <tf.Tensor 'Const_301:0' shape=(384,) dtype=float32>, 'features.9.conv.1.0.weight': <tf.Tensor 'Const_302:0' shape=(384, 1, 3, 3) dtype=float32>, 'features.9.conv.1.1.bias': <tf.Tensor 'Const_303:0' shape=(384,) dtype=float32>, 'features.9.conv.1.1.num_batches_tracked': <tf.Tensor 'Const_304:0' shape=() dtype=int64>, 'features.9.conv.1.1.running_mean': <tf.Tensor 'Const_305:0' shape=(384,) dtype=float32>, 'features.9.conv.1.1.running_var': <tf.Tensor 'Const_306:0' shape=(384,) dtype=float32>, 'features.9.conv.1.1.weight': <tf.Tensor 'Const_307:0' shape=(384,) dtype=float32>, 'features.9.conv.2.weight': <tf.Tensor 'Const_308:0' shape=(64, 384, 1, 1) dtype=float32>, 'features.9.conv.3.bias': <tf.Tensor 'Const_309:0' shape=(64,) dtype=float32>, 'features.9.conv.3.num_batches_tracked': <tf.Tensor 'Const_310:0' shape=() dtype=int64>, 'features.9.conv.3.running_mean': <tf.Tensor 'Const_311:0' shape=(64,) dtype=float32>, 'features.9.conv.3.running_var': <tf.Tensor 'Const_312:0' shape=(64,) dtype=float32>, 'features.9.conv.3.weight': <tf.Tensor 'Const_313:0' shape=(64,) dtype=float32>, 'input.1': <tf.Tensor 'input.1:0' shape=(1, 3, 256, 256) dtype=float32>, '315': <tf.Tensor 'concat:0' shape=(1, 32, 128, 128) dtype=float32>, '316': <tf.Tensor 'batchnorm/add_1:0' shape=(1, 32, 128, 128) dtype=float32>, '317': <tf.Tensor 'clip_by_value:0' shape=(1, 32, 128, 128) dtype=float32>, '318': <tf.Tensor 'concat_1:0' shape=(1, 32, 128, 128) dtype=float32>, '319': <tf.Tensor 'batchnorm_1/add_1:0' shape=(1, 32, 128, 128) dtype=float32>, '320': <tf.Tensor 'clip_by_value_1:0' shape=(1, 32, 128, 128) dtype=float32>, '321': <tf.Tensor 'concat_2:0' shape=(1, 16, 128, 128) dtype=float32>, '322': <tf.Tensor 'batchnorm_2/add_1:0' shape=(1, 16, 128, 128) dtype=float32>, '323': <tf.Tensor 'concat_3:0' shape=(1, 96, 128, 128) dtype=float32>, '324': <tf.Tensor 'batchnorm_3/add_1:0' shape=(1, 96, 128, 128) dtype=float32>, '325': <tf.Tensor 'clip_by_value_2:0' shape=(1, 96, 128, 128) dtype=float32>, '326': <tf.Tensor 'concat_4:0' shape=(1, 96, 64, 64) dtype=float32>, '327': <tf.Tensor 'batchnorm_4/add_1:0' shape=(1, 96, 64, 64) dtype=float32>, '328': <tf.Tensor 'clip_by_value_3:0' shape=(1, 96, 64, 64) dtype=float32>, '329': <tf.Tensor 'concat_5:0' shape=(1, 24, 64, 64) dtype=float32>, '330': <tf.Tensor 'batchnorm_5/add_1:0' shape=(1, 24, 64, 64) dtype=float32>, '331': <tf.Tensor 'concat_6:0' shape=(1, 144, 64, 64) dtype=float32>, '332': <tf.Tensor 'batchnorm_6/add_1:0' shape=(1, 144, 64, 64) dtype=float32>, '333': <tf.Tensor 'clip_by_value_4:0' shape=(1, 144, 64, 64) dtype=float32>, '334': <tf.Tensor 'concat_7:0' shape=(1, 144, 64, 64) dtype=float32>, '335': <tf.Tensor 'batchnorm_7/add_1:0' shape=(1, 144, 64, 64) dtype=float32>, '336': <tf.Tensor 'clip_by_value_5:0' shape=(1, 144, 64, 64) dtype=float32>, '337': <tf.Tensor 'concat_8:0' shape=(1, 24, 64, 64) dtype=float32>, '338': <tf.Tensor 'batchnorm_8/add_1:0' shape=(1, 24, 64, 64) dtype=float32>, '339': <tf.Tensor 'Add:0' shape=(1, 24, 64, 64) dtype=float32>, '340': <tf.Tensor 'concat_9:0' shape=(1, 144, 64, 64) dtype=float32>, '341': <tf.Tensor 'batchnorm_9/add_1:0' shape=(1, 144, 64, 64) dtype=float32>, '342': <tf.Tensor 'clip_by_value_6:0' shape=(1, 144, 64, 64) dtype=float32>, '343': <tf.Tensor 'concat_10:0' shape=(1, 144, 32, 32) dtype=float32>, '344': <tf.Tensor 'batchnorm_10/add_1:0' shape=(1, 144, 32, 32) dtype=float32>, '345': <tf.Tensor 'clip_by_value_7:0' shape=(1, 144, 32, 32) dtype=float32>, '346': <tf.Tensor 'concat_11:0' shape=(1, 32, 32, 32) dtype=float32>, '347': <tf.Tensor 'batchnorm_11/add_1:0' shape=(1, 32, 32, 32) dtype=float32>, '348': <tf.Tensor 'concat_12:0' shape=(1, 192, 32, 32) dtype=float32>, '349': <tf.Tensor 'batchnorm_12/add_1:0' shape=(1, 192, 32, 32) dtype=float32>, '350': <tf.Tensor 'clip_by_value_8:0' shape=(1, 192, 32, 32) dtype=float32>, '351': <tf.Tensor 'concat_13:0' shape=(1, 192, 32, 32) dtype=float32>, '352': <tf.Tensor 'batchnorm_13/add_1:0' shape=(1, 192, 32, 32) dtype=float32>, '353': <tf.Tensor 'clip_by_value_9:0' shape=(1, 192, 32, 32) dtype=float32>, '354': <tf.Tensor 'concat_14:0' shape=(1, 32, 32, 32) dtype=float32>, '355': <tf.Tensor 'batchnorm_14/add_1:0' shape=(1, 32, 32, 32) dtype=float32>, '356': <tf.Tensor 'Add_1:0' shape=(1, 32, 32, 32) dtype=float32>, '357': <tf.Tensor 'concat_15:0' shape=(1, 192, 32, 32) dtype=float32>, '358': <tf.Tensor 'batchnorm_15/add_1:0' shape=(1, 192, 32, 32) dtype=float32>, '359': <tf.Tensor 'clip_by_value_10:0' shape=(1, 192, 32, 32) dtype=float32>, '360': <tf.Tensor 'concat_16:0' shape=(1, 192, 32, 32) dtype=float32>, '361': <tf.Tensor 'batchnorm_16/add_1:0' shape=(1, 192, 32, 32) dtype=float32>, '362': <tf.Tensor 'clip_by_value_11:0' shape=(1, 192, 32, 32) dtype=float32>, '363': <tf.Tensor 'concat_17:0' shape=(1, 32, 32, 32) dtype=float32>, '364': <tf.Tensor 'batchnorm_17/add_1:0' shape=(1, 32, 32, 32) dtype=float32>, '365': <tf.Tensor 'Add_2:0' shape=(1, 32, 32, 32) dtype=float32>, '366': <tf.Tensor 'concat_18:0' shape=(1, 192, 32, 32) dtype=float32>, '367': <tf.Tensor 'batchnorm_18/add_1:0' shape=(1, 192, 32, 32) dtype=float32>, '368': <tf.Tensor 'clip_by_value_12:0' shape=(1, 192, 32, 32) dtype=float32>, '369': <tf.Tensor 'concat_19:0' shape=(1, 192, 16, 16) dtype=float32>, '370': <tf.Tensor 'batchnorm_19/add_1:0' shape=(1, 192, 16, 16) dtype=float32>, '371': <tf.Tensor 'clip_by_value_13:0' shape=(1, 192, 16, 16) dtype=float32>, '372': <tf.Tensor 'concat_20:0' shape=(1, 64, 16, 16) dtype=float32>, '373': <tf.Tensor 'batchnorm_20/add_1:0' shape=(1, 64, 16, 16) dtype=float32>, '374': <tf.Tensor 'concat_21:0' shape=(1, 384, 16, 16) dtype=float32>, '375': <tf.Tensor 'batchnorm_21/add_1:0' shape=(1, 384, 16, 16) dtype=float32>, '376': <tf.Tensor 'clip_by_value_14:0' shape=(1, 384, 16, 16) dtype=float32>, '377': <tf.Tensor 'concat_22:0' shape=(1, 384, 16, 16) dtype=float32>, '378': <tf.Tensor 'batchnorm_22/add_1:0' shape=(1, 384, 16, 16) dtype=float32>, '379': <tf.Tensor 'clip_by_value_15:0' shape=(1, 384, 16, 16) dtype=float32>, '380': <tf.Tensor 'concat_23:0' shape=(1, 64, 16, 16) dtype=float32>, '381': <tf.Tensor 'batchnorm_23/add_1:0' shape=(1, 64, 16, 16) dtype=float32>, '382': <tf.Tensor 'Add_3:0' shape=(1, 64, 16, 16) dtype=float32>, '383': <tf.Tensor 'concat_24:0' shape=(1, 384, 16, 16) dtype=float32>, '384': <tf.Tensor 'batchnorm_24/add_1:0' shape=(1, 384, 16, 16) dtype=float32>, '385': <tf.Tensor 'clip_by_value_16:0' shape=(1, 384, 16, 16) dtype=float32>, '386': <tf.Tensor 'concat_25:0' shape=(1, 384, 16, 16) dtype=float32>, '387': <tf.Tensor 'batchnorm_25/add_1:0' shape=(1, 384, 16, 16) dtype=float32>, '388': <tf.Tensor 'clip_by_value_17:0' shape=(1, 384, 16, 16) dtype=float32>, '389': <tf.Tensor 'concat_26:0' shape=(1, 64, 16, 16) dtype=float32>, '390': <tf.Tensor 'batchnorm_26/add_1:0' shape=(1, 64, 16, 16) dtype=float32>, '391': <tf.Tensor 'Add_4:0' shape=(1, 64, 16, 16) dtype=float32>, '392': <tf.Tensor 'concat_27:0' shape=(1, 384, 16, 16) dtype=float32>, '393': <tf.Tensor 'batchnorm_27/add_1:0' shape=(1, 384, 16, 16) dtype=float32>, '394': <tf.Tensor 'clip_by_value_18:0' shape=(1, 384, 16, 16) dtype=float32>, '395': <tf.Tensor 'concat_28:0' shape=(1, 384, 16, 16) dtype=float32>, '396': <tf.Tensor 'batchnorm_28/add_1:0' shape=(1, 384, 16, 16) dtype=float32>, '397': <tf.Tensor 'clip_by_value_19:0' shape=(1, 384, 16, 16) dtype=float32>, '398': <tf.Tensor 'concat_29:0' shape=(1, 64, 16, 16) dtype=float32>, '399': <tf.Tensor 'batchnorm_29/add_1:0' shape=(1, 64, 16, 16) dtype=float32>, '400': <tf.Tensor 'Add_5:0' shape=(1, 64, 16, 16) dtype=float32>, '401': <tf.Tensor 'concat_30:0' shape=(1, 384, 16, 16) dtype=float32>, '402': <tf.Tensor 'batchnorm_30/add_1:0' shape=(1, 384, 16, 16) dtype=float32>, '403': <tf.Tensor 'clip_by_value_20:0' shape=(1, 384, 16, 16) dtype=float32>, '404': <tf.Tensor 'concat_31:0' shape=(1, 384, 16, 16) dtype=float32>, '405': <tf.Tensor 'batchnorm_31/add_1:0' shape=(1, 384, 16, 16) dtype=float32>, '406': <tf.Tensor 'clip_by_value_21:0' shape=(1, 384, 16, 16) dtype=float32>, '407': <tf.Tensor 'concat_32:0' shape=(1, 96, 16, 16) dtype=float32>, '408': <tf.Tensor 'batchnorm_32/add_1:0' shape=(1, 96, 16, 16) dtype=float32>, '409': <tf.Tensor 'concat_33:0' shape=(1, 576, 16, 16) dtype=float32>, '410': <tf.Tensor 'batchnorm_33/add_1:0' shape=(1, 576, 16, 16) dtype=float32>, '411': <tf.Tensor 'clip_by_value_22:0' shape=(1, 576, 16, 16) dtype=float32>, '412': <tf.Tensor 'concat_34:0' shape=(1, 576, 16, 16) dtype=float32>, '413': <tf.Tensor 'batchnorm_34/add_1:0' shape=(1, 576, 16, 16) dtype=float32>, '414': <tf.Tensor 'clip_by_value_23:0' shape=(1, 576, 16, 16) dtype=float32>, '415': <tf.Tensor 'concat_35:0' shape=(1, 96, 16, 16) dtype=float32>, '416': <tf.Tensor 'batchnorm_35/add_1:0' shape=(1, 96, 16, 16) dtype=float32>, '417': <tf.Tensor 'Add_6:0' shape=(1, 96, 16, 16) dtype=float32>, '418': <tf.Tensor 'concat_36:0' shape=(1, 576, 16, 16) dtype=float32>, '419': <tf.Tensor 'batchnorm_36/add_1:0' shape=(1, 576, 16, 16) dtype=float32>, '420': <tf.Tensor 'clip_by_value_24:0' shape=(1, 576, 16, 16) dtype=float32>, '421': <tf.Tensor 'concat_37:0' shape=(1, 576, 16, 16) dtype=float32>, '422': <tf.Tensor 'batchnorm_37/add_1:0' shape=(1, 576, 16, 16) dtype=float32>, '423': <tf.Tensor 'clip_by_value_25:0' shape=(1, 576, 16, 16) dtype=float32>, '424': <tf.Tensor 'concat_38:0' shape=(1, 96, 16, 16) dtype=float32>, '425': <tf.Tensor 'batchnorm_38/add_1:0' shape=(1, 96, 16, 16) dtype=float32>, '426': <tf.Tensor 'Add_7:0' shape=(1, 96, 16, 16) dtype=float32>, '427': <tf.Tensor 'concat_39:0' shape=(1, 576, 16, 16) dtype=float32>, '428': <tf.Tensor 'batchnorm_39/add_1:0' shape=(1, 576, 16, 16) dtype=float32>, '429': <tf.Tensor 'clip_by_value_26:0' shape=(1, 576, 16, 16) dtype=float32>, '430': <tf.Tensor 'concat_40:0' shape=(1, 576, 8, 8) dtype=float32>, '431': <tf.Tensor 'batchnorm_40/add_1:0' shape=(1, 576, 8, 8) dtype=float32>, '432': <tf.Tensor 'clip_by_value_27:0' shape=(1, 576, 8, 8) dtype=float32>, '433': <tf.Tensor 'concat_41:0' shape=(1, 160, 8, 8) dtype=float32>, '434': <tf.Tensor 'batchnorm_41/add_1:0' shape=(1, 160, 8, 8) dtype=float32>, '435': <tf.Tensor 'concat_42:0' shape=(1, 960, 8, 8) dtype=float32>, '436': <tf.Tensor 'batchnorm_42/add_1:0' shape=(1, 960, 8, 8) dtype=float32>, '437': <tf.Tensor 'clip_by_value_28:0' shape=(1, 960, 8, 8) dtype=float32>, '438': <tf.Tensor 'concat_43:0' shape=(1, 960, 8, 8) dtype=float32>, '439': <tf.Tensor 'batchnorm_43/add_1:0' shape=(1, 960, 8, 8) dtype=float32>, '440': <tf.Tensor 'clip_by_value_29:0' shape=(1, 960, 8, 8) dtype=float32>, '441': <tf.Tensor 'concat_44:0' shape=(1, 160, 8, 8) dtype=float32>, '442': <tf.Tensor 'batchnorm_44/add_1:0' shape=(1, 160, 8, 8) dtype=float32>, '443': <tf.Tensor 'Add_8:0' shape=(1, 160, 8, 8) dtype=float32>, '444': <tf.Tensor 'concat_45:0' shape=(1, 960, 8, 8) dtype=float32>, '445': <tf.Tensor 'batchnorm_45/add_1:0' shape=(1, 960, 8, 8) dtype=float32>, '446': <tf.Tensor 'clip_by_value_30:0' shape=(1, 960, 8, 8) dtype=float32>, '447': <tf.Tensor 'concat_46:0' shape=(1, 960, 8, 8) dtype=float32>, '448': <tf.Tensor 'batchnorm_46/add_1:0' shape=(1, 960, 8, 8) dtype=float32>, '449': <tf.Tensor 'clip_by_value_31:0' shape=(1, 960, 8, 8) dtype=float32>, '450': <tf.Tensor 'concat_47:0' shape=(1, 160, 8, 8) dtype=float32>, '451': <tf.Tensor 'batchnorm_47/add_1:0' shape=(1, 160, 8, 8) dtype=float32>, '452': <tf.Tensor 'Add_9:0' shape=(1, 160, 8, 8) dtype=float32>, '453': <tf.Tensor 'concat_48:0' shape=(1, 960, 8, 8) dtype=float32>, '454': <tf.Tensor 'batchnorm_48/add_1:0' shape=(1, 960, 8, 8) dtype=float32>, '455': <tf.Tensor 'clip_by_value_32:0' shape=(1, 960, 8, 8) dtype=float32>, '456': <tf.Tensor 'concat_49:0' shape=(1, 960, 8, 8) dtype=float32>, '457': <tf.Tensor 'batchnorm_49/add_1:0' shape=(1, 960, 8, 8) dtype=float32>, '458': <tf.Tensor 'clip_by_value_33:0' shape=(1, 960, 8, 8) dtype=float32>, '459': <tf.Tensor 'concat_50:0' shape=(1, 320, 8, 8) dtype=float32>, '460': <tf.Tensor 'batchnorm_50/add_1:0' shape=(1, 320, 8, 8) dtype=float32>, '461': <tf.Tensor 'concat_51:0' shape=(1, 1280, 8, 8) dtype=float32>, '462': <tf.Tensor 'batchnorm_51/add_1:0' shape=(1, 1280, 8, 8) dtype=float32>, '463': <tf.Tensor 'clip_by_value_34:0' shape=(1, 1280, 8, 8) dtype=float32>, '464': <tf.Tensor 'Mean:0' shape=(1, 1280) dtype=float32>, '465': <tf.Tensor 'add_10:0' shape=(1, 1000) dtype=float32>}\n"
          ],
          "name": "stdout"
        }
      ]
    },
    {
      "cell_type": "markdown",
      "metadata": {
        "id": "vPAr1ERc0SLn",
        "colab_type": "text"
      },
      "source": [
        "### Prepare an image for inference"
      ]
    },
    {
      "cell_type": "code",
      "metadata": {
        "id": "g6vbyVTOii7O",
        "colab_type": "code",
        "colab": {}
      },
      "source": [
        "!pip uninstall tensorflow-gpu\n",
        "!pip install --upgrade tensorflow"
      ],
      "execution_count": 0,
      "outputs": []
    },
    {
      "cell_type": "code",
      "metadata": {
        "id": "l81mg9dsSc1B",
        "colab_type": "code",
        "outputId": "4a5aa310-628b-4529-e1b4-74ec8ea00b8b",
        "colab": {
          "base_uri": "https://localhost:8080/",
          "height": 34
        }
      },
      "source": [
        "import tensorflow as tf\n",
        "from tensorflow.compat.v1 import ConfigProto\n",
        "from tensorflow.compat.v1 import InteractiveSession\n",
        "\n",
        "print(tf.__version__)\n",
        "\n",
        "config = tf.ConfigProto()\n",
        "config.gpu_options.allow_growth = True\n",
        "sess = tf.Session(config=config)"
      ],
      "execution_count": 0,
      "outputs": [
        {
          "output_type": "stream",
          "text": [
            "1.14.0\n"
          ],
          "name": "stdout"
        }
      ]
    },
    {
      "cell_type": "code",
      "metadata": {
        "id": "cDF5XNUt0M_v",
        "colab_type": "code",
        "colab": {}
      },
      "source": [
        "\n",
        "import numpy as np\n",
        "from IPython.display import display\n",
        "from PIL import Image\n",
        "\n",
        "path_to_img = base_path + 'fer2013/PrivateTest/2/PrivateTest_1162474.jpg'\n",
        "#path_to_img = base_path + 'fer2013/testface-happy.jpg'\n",
        "\n",
        "img = Image.open(path_to_img).resize((256, 256))\n",
        "\n",
        "new_img = np.broadcast_to(img, (1, 3, 256, 256)).copy()\n",
        "print(new_img.shape)\n",
        "\n",
        "display(new_img) # show the image\n",
        "\n",
        "img_ycbcr = img.convert(\"YCbCr\")\n",
        "img_y, img_cb, img_cr = img_ycbcr.split()\n",
        "\n",
        "\n",
        "#test_face = np.asarray(img_y, dtype=np.float32)[np.newaxis, np.newaxis, :, :]"
      ],
      "execution_count": 0,
      "outputs": []
    },
    {
      "cell_type": "code",
      "metadata": {
        "id": "gZ-jhkq22EbK",
        "colab_type": "code",
        "outputId": "2863dccb-c69e-4421-b48c-754be5a4f046",
        "colab": {
          "base_uri": "https://localhost:8080/",
          "height": 51
        }
      },
      "source": [
        "# run the network\n",
        "#dummy_face = torch.randn(1, 3, 224, 224)\n",
        "\n",
        "print(new_img.shape)\n",
        "\n",
        "test_face_run = tf_rep.run(new_img)._0\n",
        "\n",
        "print(test_face_run.shape)"
      ],
      "execution_count": 0,
      "outputs": [
        {
          "output_type": "stream",
          "text": [
            "(1, 3, 256, 256)\n",
            "(1, 1000)\n"
          ],
          "name": "stdout"
        }
      ]
    },
    {
      "cell_type": "markdown",
      "metadata": {
        "id": "lP7mYLlEjjFP",
        "colab_type": "text"
      },
      "source": [
        "### Tensorflow -.h5 to -.pb"
      ]
    },
    {
      "cell_type": "code",
      "metadata": {
        "id": "s6Tr5MQZ8e1x",
        "colab_type": "code",
        "colab": {}
      },
      "source": [
        "#from tensorflow.python.saved_model import builder as pb_builder\n",
        "import tensorflow as tf\n",
        "\n",
        "base_path = './gdrive/My Drive/Colab Notebooks/Fer-dataset/' \n",
        "hdf5_name = 'dwiv-model.hdf5'\n",
        "\n",
        "export_path_pb = base_path + \"ONNX/convertedmodel.pb\"\n"
      ],
      "execution_count": 0,
      "outputs": []
    },
    {
      "cell_type": "code",
      "metadata": {
        "id": "8nOaPqgB8h2B",
        "colab_type": "code",
        "colab": {}
      },
      "source": [
        "# load the model and save it as pb. \n",
        "# If the model is not in h5 format, convert it to h5 first.\n",
        "#pre_model = tf.keras.models.load_model('path/to/your/model.model')\n",
        "#pre_model.save('path/to/your/model.h5')\n",
        "\n",
        "\n",
        "tf_rep.export_graph(export_path_pb) # export the TensorflowRep object to a -.pb file which can be imported to untiy.\n"
      ],
      "execution_count": 0,
      "outputs": []
    },
    {
      "cell_type": "markdown",
      "metadata": {
        "id": "5XM-vGhN0kKE",
        "colab_type": "text"
      },
      "source": [
        "### Inspect the -.pb file. Print out some node names"
      ]
    },
    {
      "cell_type": "code",
      "metadata": {
        "id": "EoUVpMUYKQ_g",
        "colab_type": "code",
        "outputId": "36ccfa4a-c306-4432-ee02-e4bc1f5da73e",
        "colab": {
          "base_uri": "https://localhost:8080/",
          "height": 34
        }
      },
      "source": [
        "base_path = './gdrive/My Drive/Colab Notebooks/Fer-dataset/' \n",
        "pb_path = base_path + 'ONNX/akash-mobilenet_v2-FER1-60perc.pb'\n",
        "#pb_path = base_path + 'ONNX/mobilenet_v1_test.pb'\n",
        "#pb_path = base_path + 'ONNX/weights_best.pb'\n",
        "\n",
        "gf = tf.GraphDef()\n",
        "gf.ParseFromString(open(pb_path,'rb').read())"
      ],
      "execution_count": 0,
      "outputs": [
        {
          "output_type": "execute_result",
          "data": {
            "text/plain": [
              "15871857"
            ]
          },
          "metadata": {
            "tags": []
          },
          "execution_count": 58
        }
      ]
    },
    {
      "cell_type": "code",
      "metadata": {
        "id": "DMyRFx07RoP_",
        "colab_type": "code",
        "outputId": "d2f3e530-60a7-4f7c-f879-2303e1b2e8fa",
        "colab": {
          "base_uri": "https://localhost:8080/",
          "height": 1000
        }
      },
      "source": [
        "#[n.name + '=>' +  n.op for n in gf.node if n.op in ( 'Softmax','Mul', 'Placeholder')]\n",
        "[n.name + '=>' +  n.op for n in gf.node if n.op in ( 'Softmax','Mul', 'Placeholder', 'Reshape', 'Predictions', 'Add')]\n"
      ],
      "execution_count": 0,
      "outputs": [
        {
          "output_type": "execute_result",
          "data": {
            "text/plain": [
              "['input.1=>Placeholder',\n",
              " 'Reshape=>Reshape',\n",
              " 'Reshape_1=>Reshape',\n",
              " 'Reshape_2=>Reshape',\n",
              " 'Reshape_3=>Reshape',\n",
              " 'batchnorm/add=>Add',\n",
              " 'batchnorm/mul=>Mul',\n",
              " 'batchnorm/mul_1=>Mul',\n",
              " 'batchnorm/mul_2=>Mul',\n",
              " 'batchnorm/add_1=>Add',\n",
              " 'Reshape_4=>Reshape',\n",
              " 'Reshape_5=>Reshape',\n",
              " 'Reshape_6=>Reshape',\n",
              " 'Reshape_7=>Reshape',\n",
              " 'batchnorm_1/add=>Add',\n",
              " 'batchnorm_1/mul=>Mul',\n",
              " 'batchnorm_1/mul_1=>Mul',\n",
              " 'batchnorm_1/mul_2=>Mul',\n",
              " 'batchnorm_1/add_1=>Add',\n",
              " 'Reshape_8=>Reshape',\n",
              " 'Reshape_9=>Reshape',\n",
              " 'Reshape_10=>Reshape',\n",
              " 'Reshape_11=>Reshape',\n",
              " 'batchnorm_2/add=>Add',\n",
              " 'batchnorm_2/mul=>Mul',\n",
              " 'batchnorm_2/mul_1=>Mul',\n",
              " 'batchnorm_2/mul_2=>Mul',\n",
              " 'batchnorm_2/add_1=>Add',\n",
              " 'Reshape_12=>Reshape',\n",
              " 'Reshape_13=>Reshape',\n",
              " 'Reshape_14=>Reshape',\n",
              " 'Reshape_15=>Reshape',\n",
              " 'batchnorm_3/add=>Add',\n",
              " 'batchnorm_3/mul=>Mul',\n",
              " 'batchnorm_3/mul_1=>Mul',\n",
              " 'batchnorm_3/mul_2=>Mul',\n",
              " 'batchnorm_3/add_1=>Add',\n",
              " 'Reshape_16=>Reshape',\n",
              " 'Reshape_17=>Reshape',\n",
              " 'Reshape_18=>Reshape',\n",
              " 'Reshape_19=>Reshape',\n",
              " 'batchnorm_4/add=>Add',\n",
              " 'batchnorm_4/mul=>Mul',\n",
              " 'batchnorm_4/mul_1=>Mul',\n",
              " 'batchnorm_4/mul_2=>Mul',\n",
              " 'batchnorm_4/add_1=>Add',\n",
              " 'Reshape_20=>Reshape',\n",
              " 'Reshape_21=>Reshape',\n",
              " 'Reshape_22=>Reshape',\n",
              " 'Reshape_23=>Reshape',\n",
              " 'batchnorm_5/add=>Add',\n",
              " 'batchnorm_5/mul=>Mul',\n",
              " 'batchnorm_5/mul_1=>Mul',\n",
              " 'batchnorm_5/mul_2=>Mul',\n",
              " 'batchnorm_5/add_1=>Add',\n",
              " 'Reshape_24=>Reshape',\n",
              " 'Reshape_25=>Reshape',\n",
              " 'Reshape_26=>Reshape',\n",
              " 'Reshape_27=>Reshape',\n",
              " 'batchnorm_6/add=>Add',\n",
              " 'batchnorm_6/mul=>Mul',\n",
              " 'batchnorm_6/mul_1=>Mul',\n",
              " 'batchnorm_6/mul_2=>Mul',\n",
              " 'batchnorm_6/add_1=>Add',\n",
              " 'Reshape_28=>Reshape',\n",
              " 'Reshape_29=>Reshape',\n",
              " 'Reshape_30=>Reshape',\n",
              " 'Reshape_31=>Reshape',\n",
              " 'batchnorm_7/add=>Add',\n",
              " 'batchnorm_7/mul=>Mul',\n",
              " 'batchnorm_7/mul_1=>Mul',\n",
              " 'batchnorm_7/mul_2=>Mul',\n",
              " 'batchnorm_7/add_1=>Add',\n",
              " 'Reshape_32=>Reshape',\n",
              " 'Reshape_33=>Reshape',\n",
              " 'Reshape_34=>Reshape',\n",
              " 'Reshape_35=>Reshape',\n",
              " 'batchnorm_8/add=>Add',\n",
              " 'batchnorm_8/mul=>Mul',\n",
              " 'batchnorm_8/mul_1=>Mul',\n",
              " 'batchnorm_8/mul_2=>Mul',\n",
              " 'batchnorm_8/add_1=>Add',\n",
              " 'Add=>Add',\n",
              " 'Reshape_36=>Reshape',\n",
              " 'Reshape_37=>Reshape',\n",
              " 'Reshape_38=>Reshape',\n",
              " 'Reshape_39=>Reshape',\n",
              " 'batchnorm_9/add=>Add',\n",
              " 'batchnorm_9/mul=>Mul',\n",
              " 'batchnorm_9/mul_1=>Mul',\n",
              " 'batchnorm_9/mul_2=>Mul',\n",
              " 'batchnorm_9/add_1=>Add',\n",
              " 'Reshape_40=>Reshape',\n",
              " 'Reshape_41=>Reshape',\n",
              " 'Reshape_42=>Reshape',\n",
              " 'Reshape_43=>Reshape',\n",
              " 'batchnorm_10/add=>Add',\n",
              " 'batchnorm_10/mul=>Mul',\n",
              " 'batchnorm_10/mul_1=>Mul',\n",
              " 'batchnorm_10/mul_2=>Mul',\n",
              " 'batchnorm_10/add_1=>Add',\n",
              " 'Reshape_44=>Reshape',\n",
              " 'Reshape_45=>Reshape',\n",
              " 'Reshape_46=>Reshape',\n",
              " 'Reshape_47=>Reshape',\n",
              " 'batchnorm_11/add=>Add',\n",
              " 'batchnorm_11/mul=>Mul',\n",
              " 'batchnorm_11/mul_1=>Mul',\n",
              " 'batchnorm_11/mul_2=>Mul',\n",
              " 'batchnorm_11/add_1=>Add',\n",
              " 'Reshape_48=>Reshape',\n",
              " 'Reshape_49=>Reshape',\n",
              " 'Reshape_50=>Reshape',\n",
              " 'Reshape_51=>Reshape',\n",
              " 'batchnorm_12/add=>Add',\n",
              " 'batchnorm_12/mul=>Mul',\n",
              " 'batchnorm_12/mul_1=>Mul',\n",
              " 'batchnorm_12/mul_2=>Mul',\n",
              " 'batchnorm_12/add_1=>Add',\n",
              " 'Reshape_52=>Reshape',\n",
              " 'Reshape_53=>Reshape',\n",
              " 'Reshape_54=>Reshape',\n",
              " 'Reshape_55=>Reshape',\n",
              " 'batchnorm_13/add=>Add',\n",
              " 'batchnorm_13/mul=>Mul',\n",
              " 'batchnorm_13/mul_1=>Mul',\n",
              " 'batchnorm_13/mul_2=>Mul',\n",
              " 'batchnorm_13/add_1=>Add',\n",
              " 'Reshape_56=>Reshape',\n",
              " 'Reshape_57=>Reshape',\n",
              " 'Reshape_58=>Reshape',\n",
              " 'Reshape_59=>Reshape',\n",
              " 'batchnorm_14/add=>Add',\n",
              " 'batchnorm_14/mul=>Mul',\n",
              " 'batchnorm_14/mul_1=>Mul',\n",
              " 'batchnorm_14/mul_2=>Mul',\n",
              " 'batchnorm_14/add_1=>Add',\n",
              " 'Add_1=>Add',\n",
              " 'Reshape_60=>Reshape',\n",
              " 'Reshape_61=>Reshape',\n",
              " 'Reshape_62=>Reshape',\n",
              " 'Reshape_63=>Reshape',\n",
              " 'batchnorm_15/add=>Add',\n",
              " 'batchnorm_15/mul=>Mul',\n",
              " 'batchnorm_15/mul_1=>Mul',\n",
              " 'batchnorm_15/mul_2=>Mul',\n",
              " 'batchnorm_15/add_1=>Add',\n",
              " 'Reshape_64=>Reshape',\n",
              " 'Reshape_65=>Reshape',\n",
              " 'Reshape_66=>Reshape',\n",
              " 'Reshape_67=>Reshape',\n",
              " 'batchnorm_16/add=>Add',\n",
              " 'batchnorm_16/mul=>Mul',\n",
              " 'batchnorm_16/mul_1=>Mul',\n",
              " 'batchnorm_16/mul_2=>Mul',\n",
              " 'batchnorm_16/add_1=>Add',\n",
              " 'Reshape_68=>Reshape',\n",
              " 'Reshape_69=>Reshape',\n",
              " 'Reshape_70=>Reshape',\n",
              " 'Reshape_71=>Reshape',\n",
              " 'batchnorm_17/add=>Add',\n",
              " 'batchnorm_17/mul=>Mul',\n",
              " 'batchnorm_17/mul_1=>Mul',\n",
              " 'batchnorm_17/mul_2=>Mul',\n",
              " 'batchnorm_17/add_1=>Add',\n",
              " 'Add_2=>Add',\n",
              " 'Reshape_72=>Reshape',\n",
              " 'Reshape_73=>Reshape',\n",
              " 'Reshape_74=>Reshape',\n",
              " 'Reshape_75=>Reshape',\n",
              " 'batchnorm_18/add=>Add',\n",
              " 'batchnorm_18/mul=>Mul',\n",
              " 'batchnorm_18/mul_1=>Mul',\n",
              " 'batchnorm_18/mul_2=>Mul',\n",
              " 'batchnorm_18/add_1=>Add',\n",
              " 'Reshape_76=>Reshape',\n",
              " 'Reshape_77=>Reshape',\n",
              " 'Reshape_78=>Reshape',\n",
              " 'Reshape_79=>Reshape',\n",
              " 'batchnorm_19/add=>Add',\n",
              " 'batchnorm_19/mul=>Mul',\n",
              " 'batchnorm_19/mul_1=>Mul',\n",
              " 'batchnorm_19/mul_2=>Mul',\n",
              " 'batchnorm_19/add_1=>Add',\n",
              " 'Reshape_80=>Reshape',\n",
              " 'Reshape_81=>Reshape',\n",
              " 'Reshape_82=>Reshape',\n",
              " 'Reshape_83=>Reshape',\n",
              " 'batchnorm_20/add=>Add',\n",
              " 'batchnorm_20/mul=>Mul',\n",
              " 'batchnorm_20/mul_1=>Mul',\n",
              " 'batchnorm_20/mul_2=>Mul',\n",
              " 'batchnorm_20/add_1=>Add',\n",
              " 'Reshape_84=>Reshape',\n",
              " 'Reshape_85=>Reshape',\n",
              " 'Reshape_86=>Reshape',\n",
              " 'Reshape_87=>Reshape',\n",
              " 'batchnorm_21/add=>Add',\n",
              " 'batchnorm_21/mul=>Mul',\n",
              " 'batchnorm_21/mul_1=>Mul',\n",
              " 'batchnorm_21/mul_2=>Mul',\n",
              " 'batchnorm_21/add_1=>Add',\n",
              " 'Reshape_88=>Reshape',\n",
              " 'Reshape_89=>Reshape',\n",
              " 'Reshape_90=>Reshape',\n",
              " 'Reshape_91=>Reshape',\n",
              " 'batchnorm_22/add=>Add',\n",
              " 'batchnorm_22/mul=>Mul',\n",
              " 'batchnorm_22/mul_1=>Mul',\n",
              " 'batchnorm_22/mul_2=>Mul',\n",
              " 'batchnorm_22/add_1=>Add',\n",
              " 'Reshape_92=>Reshape',\n",
              " 'Reshape_93=>Reshape',\n",
              " 'Reshape_94=>Reshape',\n",
              " 'Reshape_95=>Reshape',\n",
              " 'batchnorm_23/add=>Add',\n",
              " 'batchnorm_23/mul=>Mul',\n",
              " 'batchnorm_23/mul_1=>Mul',\n",
              " 'batchnorm_23/mul_2=>Mul',\n",
              " 'batchnorm_23/add_1=>Add',\n",
              " 'Add_3=>Add',\n",
              " 'Reshape_96=>Reshape',\n",
              " 'Reshape_97=>Reshape',\n",
              " 'Reshape_98=>Reshape',\n",
              " 'Reshape_99=>Reshape',\n",
              " 'batchnorm_24/add=>Add',\n",
              " 'batchnorm_24/mul=>Mul',\n",
              " 'batchnorm_24/mul_1=>Mul',\n",
              " 'batchnorm_24/mul_2=>Mul',\n",
              " 'batchnorm_24/add_1=>Add',\n",
              " 'Reshape_100=>Reshape',\n",
              " 'Reshape_101=>Reshape',\n",
              " 'Reshape_102=>Reshape',\n",
              " 'Reshape_103=>Reshape',\n",
              " 'batchnorm_25/add=>Add',\n",
              " 'batchnorm_25/mul=>Mul',\n",
              " 'batchnorm_25/mul_1=>Mul',\n",
              " 'batchnorm_25/mul_2=>Mul',\n",
              " 'batchnorm_25/add_1=>Add',\n",
              " 'Reshape_104=>Reshape',\n",
              " 'Reshape_105=>Reshape',\n",
              " 'Reshape_106=>Reshape',\n",
              " 'Reshape_107=>Reshape',\n",
              " 'batchnorm_26/add=>Add',\n",
              " 'batchnorm_26/mul=>Mul',\n",
              " 'batchnorm_26/mul_1=>Mul',\n",
              " 'batchnorm_26/mul_2=>Mul',\n",
              " 'batchnorm_26/add_1=>Add',\n",
              " 'Add_4=>Add',\n",
              " 'Reshape_108=>Reshape',\n",
              " 'Reshape_109=>Reshape',\n",
              " 'Reshape_110=>Reshape',\n",
              " 'Reshape_111=>Reshape',\n",
              " 'batchnorm_27/add=>Add',\n",
              " 'batchnorm_27/mul=>Mul',\n",
              " 'batchnorm_27/mul_1=>Mul',\n",
              " 'batchnorm_27/mul_2=>Mul',\n",
              " 'batchnorm_27/add_1=>Add',\n",
              " 'Reshape_112=>Reshape',\n",
              " 'Reshape_113=>Reshape',\n",
              " 'Reshape_114=>Reshape',\n",
              " 'Reshape_115=>Reshape',\n",
              " 'batchnorm_28/add=>Add',\n",
              " 'batchnorm_28/mul=>Mul',\n",
              " 'batchnorm_28/mul_1=>Mul',\n",
              " 'batchnorm_28/mul_2=>Mul',\n",
              " 'batchnorm_28/add_1=>Add',\n",
              " 'Reshape_116=>Reshape',\n",
              " 'Reshape_117=>Reshape',\n",
              " 'Reshape_118=>Reshape',\n",
              " 'Reshape_119=>Reshape',\n",
              " 'batchnorm_29/add=>Add',\n",
              " 'batchnorm_29/mul=>Mul',\n",
              " 'batchnorm_29/mul_1=>Mul',\n",
              " 'batchnorm_29/mul_2=>Mul',\n",
              " 'batchnorm_29/add_1=>Add',\n",
              " 'Add_5=>Add',\n",
              " 'Reshape_120=>Reshape',\n",
              " 'Reshape_121=>Reshape',\n",
              " 'Reshape_122=>Reshape',\n",
              " 'Reshape_123=>Reshape',\n",
              " 'batchnorm_30/add=>Add',\n",
              " 'batchnorm_30/mul=>Mul',\n",
              " 'batchnorm_30/mul_1=>Mul',\n",
              " 'batchnorm_30/mul_2=>Mul',\n",
              " 'batchnorm_30/add_1=>Add',\n",
              " 'Reshape_124=>Reshape',\n",
              " 'Reshape_125=>Reshape',\n",
              " 'Reshape_126=>Reshape',\n",
              " 'Reshape_127=>Reshape',\n",
              " 'batchnorm_31/add=>Add',\n",
              " 'batchnorm_31/mul=>Mul',\n",
              " 'batchnorm_31/mul_1=>Mul',\n",
              " 'batchnorm_31/mul_2=>Mul',\n",
              " 'batchnorm_31/add_1=>Add',\n",
              " 'Reshape_128=>Reshape',\n",
              " 'Reshape_129=>Reshape',\n",
              " 'Reshape_130=>Reshape',\n",
              " 'Reshape_131=>Reshape',\n",
              " 'batchnorm_32/add=>Add',\n",
              " 'batchnorm_32/mul=>Mul',\n",
              " 'batchnorm_32/mul_1=>Mul',\n",
              " 'batchnorm_32/mul_2=>Mul',\n",
              " 'batchnorm_32/add_1=>Add',\n",
              " 'Reshape_132=>Reshape',\n",
              " 'Reshape_133=>Reshape',\n",
              " 'Reshape_134=>Reshape',\n",
              " 'Reshape_135=>Reshape',\n",
              " 'batchnorm_33/add=>Add',\n",
              " 'batchnorm_33/mul=>Mul',\n",
              " 'batchnorm_33/mul_1=>Mul',\n",
              " 'batchnorm_33/mul_2=>Mul',\n",
              " 'batchnorm_33/add_1=>Add',\n",
              " 'Reshape_136=>Reshape',\n",
              " 'Reshape_137=>Reshape',\n",
              " 'Reshape_138=>Reshape',\n",
              " 'Reshape_139=>Reshape',\n",
              " 'batchnorm_34/add=>Add',\n",
              " 'batchnorm_34/mul=>Mul',\n",
              " 'batchnorm_34/mul_1=>Mul',\n",
              " 'batchnorm_34/mul_2=>Mul',\n",
              " 'batchnorm_34/add_1=>Add',\n",
              " 'Reshape_140=>Reshape',\n",
              " 'Reshape_141=>Reshape',\n",
              " 'Reshape_142=>Reshape',\n",
              " 'Reshape_143=>Reshape',\n",
              " 'batchnorm_35/add=>Add',\n",
              " 'batchnorm_35/mul=>Mul',\n",
              " 'batchnorm_35/mul_1=>Mul',\n",
              " 'batchnorm_35/mul_2=>Mul',\n",
              " 'batchnorm_35/add_1=>Add',\n",
              " 'Add_6=>Add',\n",
              " 'Reshape_144=>Reshape',\n",
              " 'Reshape_145=>Reshape',\n",
              " 'Reshape_146=>Reshape',\n",
              " 'Reshape_147=>Reshape',\n",
              " 'batchnorm_36/add=>Add',\n",
              " 'batchnorm_36/mul=>Mul',\n",
              " 'batchnorm_36/mul_1=>Mul',\n",
              " 'batchnorm_36/mul_2=>Mul',\n",
              " 'batchnorm_36/add_1=>Add',\n",
              " 'Reshape_148=>Reshape',\n",
              " 'Reshape_149=>Reshape',\n",
              " 'Reshape_150=>Reshape',\n",
              " 'Reshape_151=>Reshape',\n",
              " 'batchnorm_37/add=>Add',\n",
              " 'batchnorm_37/mul=>Mul',\n",
              " 'batchnorm_37/mul_1=>Mul',\n",
              " 'batchnorm_37/mul_2=>Mul',\n",
              " 'batchnorm_37/add_1=>Add',\n",
              " 'Reshape_152=>Reshape',\n",
              " 'Reshape_153=>Reshape',\n",
              " 'Reshape_154=>Reshape',\n",
              " 'Reshape_155=>Reshape',\n",
              " 'batchnorm_38/add=>Add',\n",
              " 'batchnorm_38/mul=>Mul',\n",
              " 'batchnorm_38/mul_1=>Mul',\n",
              " 'batchnorm_38/mul_2=>Mul',\n",
              " 'batchnorm_38/add_1=>Add',\n",
              " 'Add_7=>Add',\n",
              " 'Reshape_156=>Reshape',\n",
              " 'Reshape_157=>Reshape',\n",
              " 'Reshape_158=>Reshape',\n",
              " 'Reshape_159=>Reshape',\n",
              " 'batchnorm_39/add=>Add',\n",
              " 'batchnorm_39/mul=>Mul',\n",
              " 'batchnorm_39/mul_1=>Mul',\n",
              " 'batchnorm_39/mul_2=>Mul',\n",
              " 'batchnorm_39/add_1=>Add',\n",
              " 'Reshape_160=>Reshape',\n",
              " 'Reshape_161=>Reshape',\n",
              " 'Reshape_162=>Reshape',\n",
              " 'Reshape_163=>Reshape',\n",
              " 'batchnorm_40/add=>Add',\n",
              " 'batchnorm_40/mul=>Mul',\n",
              " 'batchnorm_40/mul_1=>Mul',\n",
              " 'batchnorm_40/mul_2=>Mul',\n",
              " 'batchnorm_40/add_1=>Add',\n",
              " 'Reshape_164=>Reshape',\n",
              " 'Reshape_165=>Reshape',\n",
              " 'Reshape_166=>Reshape',\n",
              " 'Reshape_167=>Reshape',\n",
              " 'batchnorm_41/add=>Add',\n",
              " 'batchnorm_41/mul=>Mul',\n",
              " 'batchnorm_41/mul_1=>Mul',\n",
              " 'batchnorm_41/mul_2=>Mul',\n",
              " 'batchnorm_41/add_1=>Add',\n",
              " 'Reshape_168=>Reshape',\n",
              " 'Reshape_169=>Reshape',\n",
              " 'Reshape_170=>Reshape',\n",
              " 'Reshape_171=>Reshape',\n",
              " 'batchnorm_42/add=>Add',\n",
              " 'batchnorm_42/mul=>Mul',\n",
              " 'batchnorm_42/mul_1=>Mul',\n",
              " 'batchnorm_42/mul_2=>Mul',\n",
              " 'batchnorm_42/add_1=>Add',\n",
              " 'Reshape_172=>Reshape',\n",
              " 'Reshape_173=>Reshape',\n",
              " 'Reshape_174=>Reshape',\n",
              " 'Reshape_175=>Reshape',\n",
              " 'batchnorm_43/add=>Add',\n",
              " 'batchnorm_43/mul=>Mul',\n",
              " 'batchnorm_43/mul_1=>Mul',\n",
              " 'batchnorm_43/mul_2=>Mul',\n",
              " 'batchnorm_43/add_1=>Add',\n",
              " 'Reshape_176=>Reshape',\n",
              " 'Reshape_177=>Reshape',\n",
              " 'Reshape_178=>Reshape',\n",
              " 'Reshape_179=>Reshape',\n",
              " 'batchnorm_44/add=>Add',\n",
              " 'batchnorm_44/mul=>Mul',\n",
              " 'batchnorm_44/mul_1=>Mul',\n",
              " 'batchnorm_44/mul_2=>Mul',\n",
              " 'batchnorm_44/add_1=>Add',\n",
              " 'Add_8=>Add',\n",
              " 'Reshape_180=>Reshape',\n",
              " 'Reshape_181=>Reshape',\n",
              " 'Reshape_182=>Reshape',\n",
              " 'Reshape_183=>Reshape',\n",
              " 'batchnorm_45/add=>Add',\n",
              " 'batchnorm_45/mul=>Mul',\n",
              " 'batchnorm_45/mul_1=>Mul',\n",
              " 'batchnorm_45/mul_2=>Mul',\n",
              " 'batchnorm_45/add_1=>Add',\n",
              " 'Reshape_184=>Reshape',\n",
              " 'Reshape_185=>Reshape',\n",
              " 'Reshape_186=>Reshape',\n",
              " 'Reshape_187=>Reshape',\n",
              " 'batchnorm_46/add=>Add',\n",
              " 'batchnorm_46/mul=>Mul',\n",
              " 'batchnorm_46/mul_1=>Mul',\n",
              " 'batchnorm_46/mul_2=>Mul',\n",
              " 'batchnorm_46/add_1=>Add',\n",
              " 'Reshape_188=>Reshape',\n",
              " 'Reshape_189=>Reshape',\n",
              " 'Reshape_190=>Reshape',\n",
              " 'Reshape_191=>Reshape',\n",
              " 'batchnorm_47/add=>Add',\n",
              " 'batchnorm_47/mul=>Mul',\n",
              " 'batchnorm_47/mul_1=>Mul',\n",
              " 'batchnorm_47/mul_2=>Mul',\n",
              " 'batchnorm_47/add_1=>Add',\n",
              " 'Add_9=>Add',\n",
              " 'Reshape_192=>Reshape',\n",
              " 'Reshape_193=>Reshape',\n",
              " 'Reshape_194=>Reshape',\n",
              " 'Reshape_195=>Reshape',\n",
              " 'batchnorm_48/add=>Add',\n",
              " 'batchnorm_48/mul=>Mul',\n",
              " 'batchnorm_48/mul_1=>Mul',\n",
              " 'batchnorm_48/mul_2=>Mul',\n",
              " 'batchnorm_48/add_1=>Add',\n",
              " 'Reshape_196=>Reshape',\n",
              " 'Reshape_197=>Reshape',\n",
              " 'Reshape_198=>Reshape',\n",
              " 'Reshape_199=>Reshape',\n",
              " 'batchnorm_49/add=>Add',\n",
              " 'batchnorm_49/mul=>Mul',\n",
              " 'batchnorm_49/mul_1=>Mul',\n",
              " 'batchnorm_49/mul_2=>Mul',\n",
              " 'batchnorm_49/add_1=>Add',\n",
              " 'Reshape_200=>Reshape',\n",
              " 'Reshape_201=>Reshape',\n",
              " 'Reshape_202=>Reshape',\n",
              " 'Reshape_203=>Reshape',\n",
              " 'batchnorm_50/add=>Add',\n",
              " 'batchnorm_50/mul=>Mul',\n",
              " 'batchnorm_50/mul_1=>Mul',\n",
              " 'batchnorm_50/mul_2=>Mul',\n",
              " 'batchnorm_50/add_1=>Add',\n",
              " 'Reshape_204=>Reshape',\n",
              " 'Reshape_205=>Reshape',\n",
              " 'Reshape_206=>Reshape',\n",
              " 'Reshape_207=>Reshape',\n",
              " 'batchnorm_51/add=>Add',\n",
              " 'batchnorm_51/mul=>Mul',\n",
              " 'batchnorm_51/mul_1=>Mul',\n",
              " 'batchnorm_51/mul_2=>Mul',\n",
              " 'batchnorm_51/add_1=>Add',\n",
              " 'flatten/Reshape=>Reshape',\n",
              " 'mul=>Mul',\n",
              " 'mul_1=>Mul',\n",
              " 'add_10=>Add']"
            ]
          },
          "metadata": {
            "tags": []
          },
          "execution_count": 59
        }
      ]
    }
  ]
}