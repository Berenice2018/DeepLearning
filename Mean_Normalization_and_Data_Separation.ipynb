{
  "nbformat": 4,
  "nbformat_minor": 0,
  "metadata": {
    "colab": {
      "name": "Mean Normalization and Data Separation.ipynb",
      "version": "0.3.2",
      "provenance": [],
      "collapsed_sections": [],
      "include_colab_link": true
    },
    "kernelspec": {
      "display_name": "Python 3",
      "language": "python",
      "name": "python3"
    }
  },
  "cells": [
    {
      "cell_type": "markdown",
      "metadata": {
        "id": "view-in-github",
        "colab_type": "text"
      },
      "source": [
        "<a href=\"https://colab.research.google.com/github/Berenice2018/DeepLearning/blob/master/Mean_Normalization_and_Data_Separation.ipynb\" target=\"_parent\"><img src=\"https://colab.research.google.com/assets/colab-badge.svg\" alt=\"Open In Colab\"/></a>"
      ]
    },
    {
      "metadata": {
        "id": "1uYGq-VOhbxC",
        "colab_type": "text"
      },
      "cell_type": "markdown",
      "source": [
        "# Mean Normalization\n",
        "\n",
        "In machine learning we use large amounts of data to train our models. Some machine learning algorithms may require that the data is *normalized* in order to work correctly. The idea of normalization, also known as *feature scaling*, is to ensure that all the data is on a similar scale, *i.e.* that all the data takes on a similar range of values. For example, we might have a dataset that has values between 0 and 5,000. By normalizing the data we can make the range of values be between 0 and 1.\n",
        "\n",
        "In this lab, you will be performing a different kind of feature scaling known as *mean normalization*. Mean normalization will scale the data, but instead of making the values be between 0 and 1, it will distribute the values evenly in some small interval around zero. For example, if we have a dataset that has values between 0 and 5,000, after mean normalization the range of values will be distributed in some small range around 0, for example between -3 to 3. Because the range of values are distributed evenly around zero, this guarantees that the average (mean) of all elements will be zero. Therefore, when you perform *mean normalization* your data will not only be scaled but it will also have an average of zero. \n",
        "\n",
        "# To Do:\n",
        "\n",
        "You will start by importing NumPy and creating a rank 2 ndarray of random integers between 0 and 5,000 (inclusive) with 1000 rows and 20 columns. This array will simulate a dataset with a wide range of values. Fill in the code below"
      ]
    },
    {
      "metadata": {
        "id": "6WB4o_PnhbxE",
        "colab_type": "code",
        "colab": {
          "base_uri": "https://localhost:8080/",
          "height": 34
        },
        "outputId": "9846efbc-1a27-4f55-f471-42e593a04da1"
      },
      "cell_type": "code",
      "source": [
        "# import NumPy into Python\n",
        "import numpy as np\n",
        "\n",
        "# Create a 1000 x 20 ndarray with random integers in the half-open interval [0, 5001).\n",
        "X = np.random.randint(0, 5001, (1000, 20))\n",
        "\n",
        "# print the shape of X\n",
        "print(X.shape)\n"
      ],
      "execution_count": 2,
      "outputs": [
        {
          "output_type": "stream",
          "text": [
            "(1000, 20)\n"
          ],
          "name": "stdout"
        }
      ]
    },
    {
      "metadata": {
        "id": "LurOGoP6hbxH",
        "colab_type": "text"
      },
      "cell_type": "markdown",
      "source": [
        "Now that you created the array we will mean normalize it. We will perform mean normalization using the following equation:\n",
        "\n",
        "$\\mbox{Norm_Col}_i = \\frac{\\mbox{Col}_i - \\mu_i}{\\sigma_i}$\n",
        "\n",
        "where $\\mbox{Col}_i$ is the $i$th column of $X$, $\\mu_i$ is average of the values in the $i$th column of $X$, and $\\sigma_i$ is the standard deviation of the values in the $i$th column of $X$. In other words, mean normalization is performed by subtracting from each column of $X$ the average of its values, and then by dividing by the standard deviation of its values. In the space below, you will first calculate the average and standard deviation of each column of $X$. "
      ]
    },
    {
      "metadata": {
        "id": "uSRloGG7hbxJ",
        "colab_type": "code",
        "colab": {}
      },
      "cell_type": "code",
      "source": [
        "# Average of the values in each column of X\n",
        "ave_cols = X.mean(axis=0)\n",
        "\n",
        "# Standard Deviation of the values in each column of X\n",
        "std_cols = X.std(axis=0)"
      ],
      "execution_count": 0,
      "outputs": []
    },
    {
      "metadata": {
        "id": "dHnMvIDPhbxL",
        "colab_type": "text"
      },
      "cell_type": "markdown",
      "source": [
        "If you have done the above calculations correctly, then `ave_cols` and `std_cols`, should both be vectors with shape `(20,)` since $X$ has 20 columns. You can verify this by filling the code below:"
      ]
    },
    {
      "metadata": {
        "id": "i6oI-e-UhbxM",
        "colab_type": "code",
        "colab": {
          "base_uri": "https://localhost:8080/",
          "height": 51
        },
        "outputId": "8f00620e-fbcc-4384-9478-9ecbfa775a52"
      },
      "cell_type": "code",
      "source": [
        "# Print the shape of ave_cols\n",
        "print(ave_cols.shape)\n",
        "\n",
        "# Print the shape of std_cols\n",
        "print(std_cols.shape)"
      ],
      "execution_count": 4,
      "outputs": [
        {
          "output_type": "stream",
          "text": [
            "(20,)\n",
            "(20,)\n"
          ],
          "name": "stdout"
        }
      ]
    },
    {
      "metadata": {
        "id": "y6vrPe-ShbxO",
        "colab_type": "text"
      },
      "cell_type": "markdown",
      "source": [
        "You can now take advantage of Broadcasting to calculate the mean normalized version of $X$ in just one line of code using the equation above. Fill in the code below"
      ]
    },
    {
      "metadata": {
        "id": "rj3X70CchbxP",
        "colab_type": "code",
        "colab": {}
      },
      "cell_type": "code",
      "source": [
        "# Mean normalize X\n",
        "X_norm = (X -ave_cols) / std_cols"
      ],
      "execution_count": 0,
      "outputs": []
    },
    {
      "metadata": {
        "id": "aNvrz9xOhbxR",
        "colab_type": "text"
      },
      "cell_type": "markdown",
      "source": [
        "If you have performed the mean normalization correctly, then the average of all the elements in $X_{\\tiny{\\mbox{norm}}}$ should be close to zero, and they should be evenly distributed in some small interval around zero. You can verify this by filing the code below:"
      ]
    },
    {
      "metadata": {
        "id": "m8esmwNFhbxS",
        "colab_type": "code",
        "colab": {
          "base_uri": "https://localhost:8080/",
          "height": 68
        },
        "outputId": "f1f23ab1-83e6-461d-801e-8272fe4963e5"
      },
      "cell_type": "code",
      "source": [
        "# Print the average of all the values of X_norm\n",
        "print(X_norm.mean())\n",
        "\n",
        "# Print the average of the minimum value in each column of X_norm\n",
        "print(np.mean(X_norm.min(axis=0)))\n",
        "\n",
        "# Print the average of the maximum value in each column of X_norm\n",
        "print(np.mean(X_norm.max(axis=0)))"
      ],
      "execution_count": 6,
      "outputs": [
        {
          "output_type": "stream",
          "text": [
            "-1.2390088954816748e-17\n",
            "-1.7449210825364223\n",
            "1.7390932140369455\n"
          ],
          "name": "stdout"
        }
      ]
    },
    {
      "metadata": {
        "id": "V4mdbm0_hbxU",
        "colab_type": "text"
      },
      "cell_type": "markdown",
      "source": [
        "You should note that since $X$ was created using random integers, the above values will vary. \n",
        "\n",
        "# Data Separation\n",
        "\n",
        "After the data has been mean normalized, it is customary in machine learnig to split our dataset into three sets:\n",
        "\n",
        "1. A Training Set\n",
        "2. A Cross Validation Set\n",
        "3. A Test Set\n",
        "\n",
        "The dataset is usually divided such that the Training Set contains 60% of the data, the Cross Validation Set contains 20% of the data, and the Test Set contains 20% of the data. \n",
        "\n",
        "In this part of the lab you will separate `X_norm` into a Training Set, Cross Validation Set, and a Test Set. Each data set will contain rows of `X_norm` chosen at random, making sure that we don't pick the same row twice. This will guarantee that all the rows of `X_norm` are chosen and randomly distributed among the three new sets.\n",
        "\n",
        "You will start by creating a rank 1 ndarray that contains a random permutation of the row indices of `X_norm`. You can do this by using the `np.random.permutation()` function. The `np.random.permutation(N)` function creates a random permutation of integers from 0 to `N - 1`. Let's see an example:"
      ]
    },
    {
      "metadata": {
        "id": "fNkr0D7yhbxV",
        "colab_type": "code",
        "colab": {
          "base_uri": "https://localhost:8080/",
          "height": 34
        },
        "outputId": "1ca6978c-e1d9-4327-9595-756c17df11f7"
      },
      "cell_type": "code",
      "source": [
        "# We create a random permutation of integers 0 to 4\n",
        "np.random.permutation(5)"
      ],
      "execution_count": 7,
      "outputs": [
        {
          "output_type": "execute_result",
          "data": {
            "text/plain": [
              "array([0, 3, 1, 2, 4])"
            ]
          },
          "metadata": {
            "tags": []
          },
          "execution_count": 7
        }
      ]
    },
    {
      "metadata": {
        "id": "5piaZdhuhbxY",
        "colab_type": "text"
      },
      "cell_type": "markdown",
      "source": [
        "# To Do\n",
        "\n",
        "In the space below create a rank 1 ndarray that contains a random permutation of the row indices of `X_norm`. You can do this in one line of code by extracting the number of rows of `X_norm` using the `shape` attribute and then passing it to the  `np.random.permutation()` function. Remember the `shape` attribute returns a tuple with two numbers in the form `(rows,columns)`."
      ]
    },
    {
      "metadata": {
        "id": "25vV3DeHhbxZ",
        "colab_type": "code",
        "colab": {}
      },
      "cell_type": "code",
      "source": [
        "# Create a rank 1 ndarray that contains a random permutation of the row indices of `X_norm`\n",
        "row_indices = np.random.permutation(X_norm.shape[0])"
      ],
      "execution_count": 0,
      "outputs": []
    },
    {
      "metadata": {
        "id": "LlYVoAH9hbxc",
        "colab_type": "text"
      },
      "cell_type": "markdown",
      "source": [
        "Now you can create the three datasets using the `row_indices` ndarray to select the rows that will go into each dataset. Rememeber that the Training Set contains 60% of the data, the Cross Validation Set contains 20% of the data, and the Test Set contains 20% of the data. Each set requires just one line of code to create. Fill in the code below"
      ]
    },
    {
      "metadata": {
        "id": "dju-dYC6hbxc",
        "colab_type": "code",
        "colab": {}
      },
      "cell_type": "code",
      "source": [
        "# Make any necessary calculations.\n",
        "# You can save your calculations into variables to use later.\n",
        "first_marker, second_marker = 600, 800\n",
        "\n",
        "# Create a Training Set\n",
        "X_train = X_norm[: first_marker, ]\n",
        "\n",
        "# Create a Cross Validation Set\n",
        "X_crossVal = X_norm[first_marker : second_marker, ]\n",
        "\n",
        "# Create a Test Set\n",
        "X_test = X_norm[second_marker: ,]"
      ],
      "execution_count": 0,
      "outputs": []
    },
    {
      "metadata": {
        "id": "vhGb4CQkhbxg",
        "colab_type": "text"
      },
      "cell_type": "markdown",
      "source": [
        "If you performed the above calculations correctly, then `X_tain` should have 600 rows and 20 columns, `X_crossVal` should have 200 rows and 20 columns, and `X_test` should have 200 rows and 20 columns. You can verify this by filling the code below:"
      ]
    },
    {
      "metadata": {
        "id": "wN7s5fUkhbxi",
        "colab_type": "code",
        "colab": {
          "base_uri": "https://localhost:8080/",
          "height": 34
        },
        "outputId": "76382a33-1e8b-4274-e462-0672abb039ea"
      },
      "cell_type": "code",
      "source": [
        "# Print the shape of X_train\n",
        "print(X_train.shape, X_crossVal.shape, X_test.shape)\n",
        "\n",
        "# Print the shape of X_crossVal\n",
        "\n",
        "\n",
        "# Print the shape of X_test\n"
      ],
      "execution_count": 10,
      "outputs": [
        {
          "output_type": "stream",
          "text": [
            "(600, 20) (200, 20) (200, 20)\n"
          ],
          "name": "stdout"
        }
      ]
    },
    {
      "metadata": {
        "id": "jNX-JvKmhbxl",
        "colab_type": "code",
        "colab": {}
      },
      "cell_type": "code",
      "source": [
        ""
      ],
      "execution_count": 0,
      "outputs": []
    }
  ]
}