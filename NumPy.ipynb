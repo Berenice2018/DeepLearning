{
  "nbformat": 4,
  "nbformat_minor": 0,
  "metadata": {
    "colab": {
      "name": "NumPy.ipynb",
      "version": "0.3.2",
      "provenance": [],
      "collapsed_sections": [],
      "toc_visible": true,
      "include_colab_link": true
    },
    "kernelspec": {
      "name": "python3",
      "display_name": "Python 3"
    }
  },
  "cells": [
    {
      "cell_type": "markdown",
      "metadata": {
        "id": "view-in-github",
        "colab_type": "text"
      },
      "source": [
        "<a href=\"https://colab.research.google.com/github/Berenice2018/DeepLearning/blob/master/NumPy.ipynb\" target=\"_parent\"><img src=\"https://colab.research.google.com/assets/colab-badge.svg\" alt=\"Open In Colab\"/></a>"
      ]
    },
    {
      "metadata": {
        "id": "SLEQqDtGkjqU",
        "colab_type": "text"
      },
      "cell_type": "markdown",
      "source": [
        "# NumPy"
      ]
    },
    {
      "metadata": {
        "id": "v18gw--dkrhP",
        "colab_type": "text"
      },
      "cell_type": "markdown",
      "source": [
        "# Creating & saving NumPy arrays"
      ]
    },
    {
      "metadata": {
        "id": "9GwcwF6KQYUr",
        "colab_type": "code",
        "colab": {}
      },
      "cell_type": "code",
      "source": [
        "import numpy as np"
      ],
      "execution_count": 0,
      "outputs": []
    },
    {
      "metadata": {
        "id": "e1uFpyFyckSy",
        "colab_type": "code",
        "outputId": "8c8c4956-8eeb-4583-9fde-30f8f06b65ce",
        "colab": {
          "base_uri": "https://localhost:8080/",
          "height": 68
        }
      },
      "cell_type": "code",
      "source": [
        "x = np.array([1, 2, 3, 4, 5])\n",
        "\n",
        "print(x)\n",
        "print(type(x)) # print the type of x\n",
        "x.dtype        # print the type of its elements"
      ],
      "execution_count": 6,
      "outputs": [
        {
          "output_type": "stream",
          "text": [
            "[1 2 3 4 5]\n",
            "<class 'numpy.ndarray'>\n"
          ],
          "name": "stdout"
        },
        {
          "output_type": "execute_result",
          "data": {
            "text/plain": [
              "dtype('int64')"
            ]
          },
          "metadata": {
            "tags": []
          },
          "execution_count": 6
        }
      ]
    },
    {
      "metadata": {
        "id": "1RqC6_4nhp-S",
        "colab_type": "text"
      },
      "cell_type": "markdown",
      "source": [
        "NumPy arrays must have elements of the same data type.\n",
        "\n",
        "Even though the Python list has mixed data types, the *array() *function creates a NumPy array with elements of all the same data type."
      ]
    },
    {
      "metadata": {
        "id": "0CaGxcbvgYVz",
        "colab_type": "code",
        "colab": {}
      },
      "cell_type": "code",
      "source": [
        "x2 = np.array([1, 2, \"Hi\"])\n",
        "print(x2)\n",
        "print('type of x2:', type(x2))\n",
        "print('dtype:', x2.dtype)"
      ],
      "execution_count": 0,
      "outputs": []
    },
    {
      "metadata": {
        "id": "FvO1sAiIinLM",
        "colab_type": "code",
        "colab": {}
      },
      "cell_type": "code",
      "source": [
        "# NumPy upcasts \n",
        "x2 = np.array([1, 2, 3.5])\n",
        "\n",
        "print(x2, x2.dtype) "
      ],
      "execution_count": 0,
      "outputs": []
    },
    {
      "metadata": {
        "id": "E4ivfbFDjUL7",
        "colab_type": "code",
        "colab": {}
      },
      "cell_type": "code",
      "source": [
        "# downcast explicitly:\n",
        "x2 = np.array([1.2, 3.5, 9.7], dtype= np.int64)\n",
        "print(x2, x2.dtype)\n"
      ],
      "execution_count": 0,
      "outputs": []
    },
    {
      "metadata": {
        "id": "zvOQ1p6ueUYy",
        "colab_type": "code",
        "colab": {}
      },
      "cell_type": "code",
      "source": [
        "# print the size of each dimension. \n",
        "# Since x has 1 dimension, it will print the length of the array\n",
        "\n",
        "x.shape"
      ],
      "execution_count": 0,
      "outputs": []
    },
    {
      "metadata": {
        "id": "etVKvH1mh1m6",
        "colab_type": "text"
      },
      "cell_type": "markdown",
      "source": [
        "The shape of a 2-dimensional array is a tuple; number of rows and columns\n"
      ]
    },
    {
      "metadata": {
        "id": "sd4SAmxBeyt0",
        "colab_type": "code",
        "colab": {}
      },
      "cell_type": "code",
      "source": [
        "y = np.array([[1, 2, 3], [4, 5, 6], [7, 8, 9], [10, 11, 12]])\n",
        "print(y.shape)\n",
        "print(y)\n"
      ],
      "execution_count": 0,
      "outputs": []
    },
    {
      "metadata": {
        "colab_type": "code",
        "id": "ZqyPEj4_jra2",
        "colab": {}
      },
      "cell_type": "code",
      "source": [
        "# number of all elements\n",
        "\n",
        "y.size"
      ],
      "execution_count": 0,
      "outputs": []
    },
    {
      "metadata": {
        "id": "LUVFWMdpj9ju",
        "colab_type": "code",
        "colab": {}
      },
      "cell_type": "code",
      "source": [
        "# save and load an array\n",
        "np.save('my_y_array', y)\n",
        "np.load('my_y_array.npy')"
      ],
      "execution_count": 0,
      "outputs": []
    },
    {
      "metadata": {
        "id": "bq5duNHdkXh8",
        "colab_type": "text"
      },
      "cell_type": "markdown",
      "source": [
        "# Built-in Functions to Create ndarrays"
      ]
    },
    {
      "metadata": {
        "id": "EQlmUWsJlDi9",
        "colab_type": "code",
        "colab": {}
      },
      "cell_type": "code",
      "source": [
        "# Create an array of zeros:\n",
        "# @param: tuple indicating the shape of the array\n",
        "# @param: dtype, for eample int\n",
        "\n",
        "x = np.zeros((3,4))\n",
        "print(x)\n",
        "x = np.zeros((2,3), dtype = int)\n",
        "print (x)"
      ],
      "execution_count": 0,
      "outputs": []
    },
    {
      "metadata": {
        "id": "IW0arazil9qS",
        "colab_type": "code",
        "colab": {}
      },
      "cell_type": "code",
      "source": [
        "# Create an array of ones:\n",
        "# @param: tuple indicating the shape of the array\n",
        "\n",
        "x = np.ones((2,4), dtype=int)\n",
        "print(x)"
      ],
      "execution_count": 0,
      "outputs": []
    },
    {
      "metadata": {
        "id": "Ry0otT8jmTvb",
        "colab_type": "code",
        "colab": {}
      },
      "cell_type": "code",
      "source": [
        "x = np.full((2,4), 9)\n",
        "print(x)"
      ],
      "execution_count": 0,
      "outputs": []
    },
    {
      "metadata": {
        "id": "AvwR3BE8mkdC",
        "colab_type": "code",
        "colab": {}
      },
      "cell_type": "code",
      "source": [
        "# create an identity matrix\n",
        "# @param: shape\n",
        "\n",
        "x = np.eye(4)\n",
        "print(x)"
      ],
      "execution_count": 0,
      "outputs": []
    },
    {
      "metadata": {
        "id": "DMcYFLjPm20d",
        "colab_type": "code",
        "colab": {}
      },
      "cell_type": "code",
      "source": [
        "# create a square matrix and fill the diagonal\n",
        "# @param: a set of values to fill the diagonal\n",
        "\n",
        "x = np.diag([99,88,77,66])\n",
        "print(x)"
      ],
      "execution_count": 0,
      "outputs": []
    },
    {
      "metadata": {
        "id": "ce-RotbynSjw",
        "colab_type": "code",
        "colab": {}
      },
      "cell_type": "code",
      "source": [
        "# create an array of integers from zero. [0, param[\n",
        "# @param: stop argument is exclusive\n",
        "x = np.arange(5)\n",
        "print(x)"
      ],
      "execution_count": 0,
      "outputs": []
    },
    {
      "metadata": {
        "id": "aFKUMEuQoIeU",
        "colab_type": "code",
        "colab": {}
      },
      "cell_type": "code",
      "source": [
        "# create an array of integers\n",
        "# @param: 1st argument is inclusive, 2nd one is exclusive: [a, b[\n",
        "x = np.arange(5, 11)\n",
        "print(x)"
      ],
      "execution_count": 0,
      "outputs": []
    },
    {
      "metadata": {
        "id": "bhfidEBPohX7",
        "colab_type": "code",
        "colab": {}
      },
      "cell_type": "code",
      "source": [
        "# create an array in a specified range and with a step\n",
        "# @param: as above. 3rd param is the step (int)\n",
        "\n",
        "x = np.arange(4, 25, 4)\n",
        "print(x)"
      ],
      "execution_count": 0,
      "outputs": []
    },
    {
      "metadata": {
        "id": "TSIasMgqo_p0",
        "colab_type": "code",
        "colab": {}
      },
      "cell_type": "code",
      "source": [
        "# create an array in a specified range and with a non-integer step \n",
        "# @param: start, stop, n for n evenly spaced numbers \n",
        "# start and stop are inclusive: [start, stop]\n",
        "\n",
        "x = np.linspace(0, 25, 10)\n",
        "print(x)"
      ],
      "execution_count": 0,
      "outputs": []
    },
    {
      "metadata": {
        "id": "yT-4-k8apqGV",
        "colab_type": "code",
        "colab": {}
      },
      "cell_type": "code",
      "source": [
        "# exclude the stop by setting the param endpoint=False:\n",
        "\n",
        "x = np.linspace(0, 25, 20, endpoint=False)\n",
        "print(x)"
      ],
      "execution_count": 0,
      "outputs": []
    },
    {
      "metadata": {
        "id": "hwAt3UXTp_Mw",
        "colab_type": "code",
        "colab": {}
      },
      "cell_type": "code",
      "source": [
        "# Convert any NumPy array into a specified shape:\n",
        "# the new shape has to be compatible to the array size.\n",
        "\n",
        "x = np.reshape(x, (4, 5))\n",
        "print(x)\n",
        "x = np.reshape(x, (2, 10))\n",
        "print(x)"
      ],
      "execution_count": 0,
      "outputs": []
    },
    {
      "metadata": {
        "id": "figf3yYfrLEf",
        "colab_type": "code",
        "colab": {}
      },
      "cell_type": "code",
      "source": [
        "# chain fundtion calls\n",
        "\n",
        "x = np.linspace(0, 10, 40, endpoint=False).reshape(5, 8)\n",
        "print(x)"
      ],
      "execution_count": 0,
      "outputs": []
    },
    {
      "metadata": {
        "id": "CbSHUtGFrehk",
        "colab_type": "code",
        "colab": {}
      },
      "cell_type": "code",
      "source": [
        "# create an array with random float values between 0 and 1; [0, 1[ \n",
        "# @param: shape tuple\n",
        "x = np.random.random((4,4))\n",
        "print(x)"
      ],
      "execution_count": 0,
      "outputs": []
    },
    {
      "metadata": {
        "id": "9YMSKax9tjzM",
        "colab_type": "code",
        "colab": {}
      },
      "cell_type": "code",
      "source": [
        "# generate an array with random int within a particular range\n",
        "# @param: start (inclusive), stop (exclusive) range, and the shape\n",
        "\n",
        "x = np.random.randint(8, 22, (3,4))\n",
        "print(x)"
      ],
      "execution_count": 0,
      "outputs": []
    },
    {
      "metadata": {
        "id": "Myr-jbVyuQ5H",
        "colab_type": "code",
        "colab": {}
      },
      "cell_type": "code",
      "source": [
        "# generate an array with random floats  with mean, standard deviation\n",
        "# @param: mean, std, shape tuple\n",
        "\n",
        "x = np.random.normal(0, 0.2, size=(10, 10))\n",
        "print(x)"
      ],
      "execution_count": 0,
      "outputs": []
    },
    {
      "metadata": {
        "id": "-WPSLsB-Y6Nb",
        "colab_type": "code",
        "colab": {
          "base_uri": "https://localhost:8080/",
          "height": 34
        },
        "outputId": "51fbf11f-6943-4eed-ac48-6af1db8efeb3"
      },
      "cell_type": "code",
      "source": [
        "# create a random permutation of integers 0 to 4\n",
        "x = np.random.permutation(5)\n",
        "print(x)"
      ],
      "execution_count": 7,
      "outputs": [
        {
          "output_type": "stream",
          "text": [
            "[3 4 1 0 2]\n"
          ],
          "name": "stdout"
        }
      ]
    },
    {
      "metadata": {
        "id": "5ZszbanTu75B",
        "colab_type": "text"
      },
      "cell_type": "markdown",
      "source": [
        "# Accessing, Deleting, and Inserting Elements Into ndarrays"
      ]
    },
    {
      "metadata": {
        "id": "jroYrINqxh4O",
        "colab_type": "text"
      },
      "cell_type": "markdown",
      "source": [
        "NumPy arrays are mutable. \n",
        "\n",
        "Use both positive and negative indices to access elements in the ndarray. Positive indices are used to access elements from the beginning of the array, while negative indices are used to access elements from the end of the array"
      ]
    },
    {
      "metadata": {
        "id": "9p53gDRvu_Bg",
        "colab_type": "code",
        "colab": {}
      },
      "cell_type": "code",
      "source": [
        "x = np.array([1, 2, 3, 4, 5])\n",
        "\n",
        "print('This is First Element in x:', x[-5])\n",
        "print('This is Second Element in x:', x[-4])\n",
        "print('This is Fifth (Last) Element in x:', x[-1])"
      ],
      "execution_count": 0,
      "outputs": []
    },
    {
      "metadata": {
        "id": "FmAssb6pyykM",
        "colab_type": "text"
      },
      "cell_type": "markdown",
      "source": [
        "Delete elements using the np.delete(ndarray, elements, axis) function. \n",
        "\n",
        "This function deletes the given list of elements from the given ndarray along the specified axis. For rank 1 ndarrays the axis keyword is not required. \n",
        "\n",
        "For rank 2 ndarrays, axis = 0 is used to select rows, and axis = 1 is used to select columns."
      ]
    },
    {
      "metadata": {
        "id": "PyjloY1jy8bl",
        "colab_type": "code",
        "colab": {}
      },
      "cell_type": "code",
      "source": [
        "# create a rank 1 ndarray \n",
        "x = np.array([1, 2, 3, 4, 5])\n",
        "\n",
        "# create a rank 2 ndarray\n",
        "Y = np.array([[1,2,3],[4,5,6],[7,8,9]])\n",
        "\n",
        "print()\n",
        "print('Original x = ', x)\n",
        "\n",
        "# delete the first and last element of x\n",
        "x = np.delete(x, [0,4])\n",
        "\n",
        "print()\n",
        "print('Modified x = ', x)\n",
        "print()\n",
        "print('Original Y = \\n', Y)\n",
        "\n",
        "# delete the first row of y\n",
        "w = np.delete(Y, 0, axis=0)\n",
        "\n",
        "# delete the first and last column of y\n",
        "v = np.delete(Y, [0,2], axis=1)\n",
        "\n",
        "print()\n",
        "print('w = \\n', w)\n",
        "\n",
        "print()\n",
        "print('v = \\n', v)"
      ],
      "execution_count": 0,
      "outputs": []
    },
    {
      "metadata": {
        "id": "xWp2COtFzmwx",
        "colab_type": "text"
      },
      "cell_type": "markdown",
      "source": [
        "Append values to ndarrays using the np.append(ndarray, elements, axis) function. \n",
        "This function appends the given list of elements to ndarray along the specified axis"
      ]
    },
    {
      "metadata": {
        "id": "RQE10vAxzsH_",
        "colab_type": "code",
        "colab": {}
      },
      "cell_type": "code",
      "source": [
        "x = np.array([1, 2, 3, 4, 5])\n",
        "Y = np.array([[1,2,3],[4,5,6]])\n",
        "\n",
        "print()\n",
        "print('Original x = ', x)\n",
        "\n",
        "# append the integer 6 to x\n",
        "x = np.append(x, 6)\n",
        "\n",
        "print()\n",
        "print('x = ', x)\n",
        "\n",
        "# append the integer 7 and 8 to x\n",
        "x = np.append(x, [7,8])\n",
        "\n",
        "print()\n",
        "print('x = ', x)\n",
        "print()\n",
        "print('Original Y = \\n', Y)\n",
        "\n",
        "# append a new row containing 7,8,9 to y\n",
        "v = np.append(Y, [[7,8,9]], axis=0)\n",
        "\n",
        "# append a new column containing 9 and 10 to y\n",
        "q = np.append(Y,[[9],[10]], axis=1)\n",
        "\n",
        "print()\n",
        "print('v = \\n', v)\n",
        "\n",
        "print()\n",
        "print('q = \\n', q)"
      ],
      "execution_count": 0,
      "outputs": []
    },
    {
      "metadata": {
        "id": "9l9F4dbt4tTc",
        "colab_type": "text"
      },
      "cell_type": "markdown",
      "source": [
        "Insert the given list of elements to ndarray \n",
        "\n",
        "right before the given index along the specified axis. "
      ]
    },
    {
      "metadata": {
        "id": "z9Zqa0aq40VD",
        "colab_type": "code",
        "colab": {}
      },
      "cell_type": "code",
      "source": [
        "x = np.array([1, 2, 5, 6, 7])\n",
        "Y = np.array([[1,2,3], [7,8,9]])\n",
        "\n",
        "print()\n",
        "print('Original x = ', x)\n",
        "\n",
        "# insert the integer 3 and 4 between 2 and 5 in x. \n",
        "x = np.insert(x, 2, [3,4])\n",
        "\n",
        "print()\n",
        "print('x = ', x)\n",
        "print()\n",
        "print('Original Y = \\n', Y)\n",
        "\n",
        "# insert a row between the first and last row of y\n",
        "w = np.insert(Y, 1, [4,5,6], axis=0)\n",
        "\n",
        "# insert a column full of 5s between the first and second column of y\n",
        "v = np.insert(Y, 1, 5, axis=1)\n",
        "\n",
        "print()\n",
        "print('w = \\n', w)\n",
        "print()\n",
        "print('v = \\n', v)"
      ],
      "execution_count": 0,
      "outputs": []
    },
    {
      "metadata": {
        "id": "WKpLJUsF5dKg",
        "colab_type": "text"
      },
      "cell_type": "markdown",
      "source": [
        "Stack ndarrays on top of each other, or stack them side by side\n",
        " \n",
        " using either  *np.vstack()*  for vertical stacking, \n",
        " \n",
        " or  *np.hstack()*  for horizontal stacking.\n",
        " \n",
        " The shape of the ndarrays must match."
      ]
    },
    {
      "metadata": {
        "id": "cK4bjRjL5sf9",
        "colab_type": "code",
        "colab": {}
      },
      "cell_type": "code",
      "source": [
        "x = np.array([1,2])\n",
        "Y = np.array([[3,4],[5,6]])\n",
        "\n",
        "print()\n",
        "print('x = ', x)\n",
        "print()\n",
        "print('Y = \\n', Y)\n",
        "\n",
        "# stack x on top of Y\n",
        "z = np.vstack((x, Y))\n",
        "\n",
        "# stack x on the right of Y. We need to reshape x in order to stack it on the right of Y. \n",
        "w = np.hstack((Y, x.reshape(2,1)))\n",
        "\n",
        "print()\n",
        "print('z = \\n', z)\n",
        "print()\n",
        "print('w = \\n', w)"
      ],
      "execution_count": 0,
      "outputs": []
    },
    {
      "metadata": {
        "id": "wIeFywjBKqai",
        "colab_type": "text"
      },
      "cell_type": "markdown",
      "source": [
        "# Slicing ndarrays"
      ]
    },
    {
      "metadata": {
        "id": "vMmVEENZKz83",
        "colab_type": "text"
      },
      "cell_type": "markdown",
      "source": [
        "1. ndarray[start : end]  # end index is excluded.\n",
        "2. ndarray[start : ]\n",
        "3. ndarray[ : end]  # end index is excluded.\n",
        "\n",
        "\n",
        "Slicing only creates a view of the original array. This means that if you make changes in Z, you will be in effect changing the elements in X as well."
      ]
    },
    {
      "metadata": {
        "id": "RgcJduIOKtgy",
        "colab_type": "code",
        "colab": {
          "base_uri": "https://localhost:8080/",
          "height": 561
        },
        "outputId": "efefdaaa-05b2-41bb-ba55-7304da8ebc33"
      },
      "cell_type": "code",
      "source": [
        "# create a 4 x 5 ndarray that contains integers from 0 to 19\n",
        "X = np.arange(20).reshape(4, 5)\n",
        "\n",
        "print()\n",
        "print('original X = \\n', X)\n",
        "print()\n",
        "\n",
        "# select the 2nd-4th rows and the 3rd- 5th columns\n",
        "Z = X[1:4, 2:5]\n",
        "print('Z = \\n', Z)\n",
        "Z = X[0:2, ]\n",
        "print('Z = \\n', Z)\n",
        "Z = X[2:4,]\n",
        "print('Z = \\n', Z)\n",
        "\n",
        "# select the same elements using method 2\n",
        "W = X[1:, 2:5]\n",
        "\n",
        "\n",
        "# select 1st- 3rd rows and the 3rd- 4th columns\n",
        "Y = X[:3, 2:5]\n",
        "\n",
        "print()\n",
        "print('Y = \\n', Y)\n",
        "\n",
        "# select the 3rd row\n",
        "v = X[2, :]\n",
        "\n",
        "print()\n",
        "print('v = ', v)\n",
        "\n",
        "# select the 3rd column\n",
        "q = X[:,2]\n",
        "\n",
        "print()\n",
        "print('q = ', q)\n",
        "\n",
        "\n",
        "# select 3rd column, but return a rank 2 ndarray\n",
        "R = X[:,2:3]\n",
        "\n",
        "# We print R\n",
        "print()\n",
        "print('R = \\n', R)"
      ],
      "execution_count": 6,
      "outputs": [
        {
          "output_type": "stream",
          "text": [
            "\n",
            "original X = \n",
            " [[ 0  1  2  3  4]\n",
            " [ 5  6  7  8  9]\n",
            " [10 11 12 13 14]\n",
            " [15 16 17 18 19]]\n",
            "\n",
            "Z = \n",
            " [[ 7  8  9]\n",
            " [12 13 14]\n",
            " [17 18 19]]\n",
            "Z = \n",
            " [[0 1 2 3 4]\n",
            " [5 6 7 8 9]]\n",
            "Z = \n",
            " [[10 11 12 13 14]\n",
            " [15 16 17 18 19]]\n",
            "\n",
            "Y = \n",
            " [[ 2  3  4]\n",
            " [ 7  8  9]\n",
            " [12 13 14]]\n",
            "\n",
            "v =  [10 11 12 13 14]\n",
            "\n",
            "q =  [ 2  7 12 17]\n",
            "\n",
            "R = \n",
            " [[ 2]\n",
            " [ 7]\n",
            " [12]\n",
            " [17]]\n"
          ],
          "name": "stdout"
        }
      ]
    },
    {
      "metadata": {
        "id": "S3ibqpqONLWP",
        "colab_type": "text"
      },
      "cell_type": "markdown",
      "source": [
        "Create a new ndarray that contains a copy of the values in the slice by using the *np.copy() *function. The* np.copy(ndarray)* function creates a copy of the given ndarray. "
      ]
    },
    {
      "metadata": {
        "id": "16xLUp7ONXlJ",
        "colab_type": "code",
        "colab": {}
      },
      "cell_type": "code",
      "source": [
        "# create a 4 x 5 ndarray that contains integers from 0 to 19\n",
        "X = np.arange(20).reshape(4, 5)\n",
        "\n",
        "print()\n",
        "print('X = \\n', X)\n",
        "print()\n",
        "\n",
        "# create a copy of the slice using the np.copy() function\n",
        "Z = np.copy(X[1:4,2:5])\n",
        "\n",
        "# create a copy of the slice using the copy as a method\n",
        "W = X[1:4,2:5].copy()\n",
        "\n",
        "# change the last element in Z to 555\n",
        "Z[2,2] = 555\n",
        "\n",
        "# change the last element in W to 444\n",
        "W[2,2] = 444\n",
        "\n",
        "print()\n",
        "print('X = \\n', X)\n",
        "print()\n",
        "print('Z = \\n', Z)\n",
        "print()\n",
        "print('W = \\n', W)"
      ],
      "execution_count": 0,
      "outputs": []
    },
    {
      "metadata": {
        "id": "niLUo0zzR6_q",
        "colab_type": "text"
      },
      "cell_type": "markdown",
      "source": [
        "*np.diag(ndarray, k=N) *  extracts the elements along the diagonal defined by N. \n",
        "\n",
        "As default is k=0, which refers to the main diagonal. \n",
        "\n",
        "Values of k > 0 are used to select elements in diagonals above the main diagonal, \n",
        "\n",
        "values of k < 0 are used to select elements in diagonals below the main diagonal."
      ]
    },
    {
      "metadata": {
        "id": "GvUyOQkmSXAT",
        "colab_type": "text"
      },
      "cell_type": "markdown",
      "source": [
        " *np.unique(ndarray)*  returns the unique elements in the given ndarray"
      ]
    },
    {
      "metadata": {
        "id": "bjQopid8SDZY",
        "colab_type": "code",
        "colab": {}
      },
      "cell_type": "code",
      "source": [
        "# ndarray with repeated values\n",
        "X = np.array([[1,2,3],[5,2,8],[1,2,3]])\n",
        "\n",
        "print()\n",
        "print('X = \\n', X)\n",
        "print()\n",
        "\n",
        "print('The unique elements in X are:',np.unique(X))"
      ],
      "execution_count": 0,
      "outputs": []
    },
    {
      "metadata": {
        "id": "72dAKx8HTXCL",
        "colab_type": "text"
      },
      "cell_type": "markdown",
      "source": [
        "# Boolean Indexing, Set Operations, and Sorting"
      ]
    },
    {
      "metadata": {
        "id": "0aEVhJM2TZLk",
        "colab_type": "text"
      },
      "cell_type": "markdown",
      "source": [
        "Select elements using logical arguments instead of explicit indices."
      ]
    },
    {
      "metadata": {
        "id": "pkDxHFrRTmF6",
        "colab_type": "code",
        "colab": {}
      },
      "cell_type": "code",
      "source": [
        "X = np.arange(25).reshape(5, 5)\n",
        "\n",
        "X[X > 10]\n",
        "X[X <= 7]\n",
        "X[(X > 10) & (X < 17)]\n",
        "# use boolean indexing to assign the elements that are between 10 and 17 the value of -1\n",
        "X[(X > 10) & (X < 17)] = -1\n",
        "\n",
        "print('X = \\n', X)"
      ],
      "execution_count": 0,
      "outputs": []
    },
    {
      "metadata": {
        "id": "upOSVazDVRTa",
        "colab_type": "text"
      },
      "cell_type": "markdown",
      "source": [
        "Set operations:\n",
        "\n",
        "useful when comparing ndarrays, for example, to find common elements between two ndarrays"
      ]
    },
    {
      "metadata": {
        "id": "hK2M5hutVSsf",
        "colab_type": "code",
        "colab": {}
      },
      "cell_type": "code",
      "source": [
        "#  np.intersect1d(x,y)\n",
        "#  np.setdiff1d(x,y)\n",
        "#  np.union1d(x,y)\n",
        "\n",
        "x = np.array([1,2,3,4,5])\n",
        "y = np.array([6,7,2,8,4])\n",
        "print('x = ', x)\n",
        "print()\n",
        "print('y = ', y)\n",
        "\n",
        "# use set operations to compare x and y:\n",
        "print()\n",
        "print('The elements that are both in x and y:', np.intersect1d(x,y))\n",
        "print('The elements that are in x that are not in y:', np.setdiff1d(x,y))\n",
        "print('All the elements of x and y:',np.union1d(x,y))"
      ],
      "execution_count": 0,
      "outputs": []
    },
    {
      "metadata": {
        "id": "9JzU03WaV1s5",
        "colab_type": "text"
      },
      "cell_type": "markdown",
      "source": [
        "*np.sort()* sorts  rank 1 and rank 2 ndarrays in different \n",
        "\n",
        " The *np.sort()* function\n",
        " \n",
        "sorts the ndrrays out of place, it doesn't change the original ndarray being sorted.\n",
        " \n",
        "*ndarray.sort()* method sorts the ndarray in place"
      ]
    },
    {
      "metadata": {
        "id": "-zbFbHepWtsn",
        "colab_type": "text"
      },
      "cell_type": "markdown",
      "source": [
        "# Arithmetic operations, Broadcasting"
      ]
    },
    {
      "metadata": {
        "id": "2qZxMxwBXiXJ",
        "colab_type": "text"
      },
      "cell_type": "markdown",
      "source": [
        "Broadcasting is the term used to describe how NumPy handles element-wise arithmetic operations with ndarrays of different shapes. F. Ex., broadcasting is used implicitly when doing arithmetic operations between scalars and ndarrays.\n",
        "\n",
        "\n",
        "Element-wise arithmetic operations on rank 2 ndarrays:\n",
        "\n",
        " The nsarrays must have the same shape or be broadcastable."
      ]
    },
    {
      "metadata": {
        "id": "FDUGtLMJYN56",
        "colab_type": "code",
        "colab": {
          "base_uri": "https://localhost:8080/",
          "height": 697
        },
        "outputId": "a94e6618-603e-4a84-a70c-8ead5365ebcf"
      },
      "cell_type": "code",
      "source": [
        "X = np.array([1,2,3,4]).reshape(2,2)\n",
        "Y = np.array([5.5,6.5,7.5,8.5]).reshape(2,2)\n",
        "\n",
        "print()\n",
        "print('X = \\n', X)\n",
        "print()\n",
        "print('Y = \\n', Y)\n",
        "print()\n",
        "\n",
        "# perform basic element-wise operations using arithmetic symbols and functions\n",
        "print('X + Y = \\n', X + Y)\n",
        "print()\n",
        "print('add(X,Y) = \\n', np.add(X,Y))\n",
        "print()\n",
        "print('X - Y = \\n', X - Y)\n",
        "print()\n",
        "print('subtract(X,Y) = \\n', np.subtract(X,Y))\n",
        "print()\n",
        "print('X * Y = \\n', X * Y)\n",
        "print()\n",
        "print('multiply(X,Y) = \\n', np.multiply(X,Y))\n",
        "print()\n",
        "print('X / Y = \\n', X / Y)\n",
        "print()\n",
        "print('divide(X,Y) = \\n', np.divide(X,Y))"
      ],
      "execution_count": 7,
      "outputs": [
        {
          "output_type": "stream",
          "text": [
            "\n",
            "X = \n",
            " [[1 2]\n",
            " [3 4]]\n",
            "\n",
            "Y = \n",
            " [[5.5 6.5]\n",
            " [7.5 8.5]]\n",
            "\n",
            "X + Y = \n",
            " [[ 6.5  8.5]\n",
            " [10.5 12.5]]\n",
            "\n",
            "add(X,Y) = \n",
            " [[ 6.5  8.5]\n",
            " [10.5 12.5]]\n",
            "\n",
            "X - Y = \n",
            " [[-4.5 -4.5]\n",
            " [-4.5 -4.5]]\n",
            "\n",
            "subtract(X,Y) = \n",
            " [[-4.5 -4.5]\n",
            " [-4.5 -4.5]]\n",
            "\n",
            "X * Y = \n",
            " [[ 5.5 13. ]\n",
            " [22.5 34. ]]\n",
            "\n",
            "multiply(X,Y) = \n",
            " [[ 5.5 13. ]\n",
            " [22.5 34. ]]\n",
            "\n",
            "X / Y = \n",
            " [[0.18181818 0.30769231]\n",
            " [0.4        0.47058824]]\n",
            "\n",
            "divide(X,Y) = \n",
            " [[0.18181818 0.30769231]\n",
            " [0.4        0.47058824]]\n"
          ],
          "name": "stdout"
        }
      ]
    },
    {
      "metadata": {
        "id": "sXhuDLURYeCL",
        "colab_type": "code",
        "colab": {}
      },
      "cell_type": "code",
      "source": [
        "# np.exp(x)\n",
        "# np.sqrt(x)\n",
        "# np.power(x,2)\n"
      ],
      "execution_count": 0,
      "outputs": []
    },
    {
      "metadata": {
        "id": "ZLRKmDqjYpJk",
        "colab_type": "text"
      },
      "cell_type": "markdown",
      "source": [
        "Statistical functions "
      ]
    },
    {
      "metadata": {
        "id": "86_DAmZqYvM4",
        "colab_type": "code",
        "colab": {
          "base_uri": "https://localhost:8080/",
          "height": 561
        },
        "outputId": "046f9640-7039-4ee8-aea6-ceccf294c13b"
      },
      "cell_type": "code",
      "source": [
        "X.mean(axis=0)\n",
        "X.sum(axis=1)\n",
        "\n",
        "X.std()\n",
        "X.std(axis=1)\n",
        "\n",
        "np.median(X,axis=1)\n",
        "\n",
        "X.min(axis=1)\n",
        "X.max(axis=0)\n",
        "\n",
        "\n",
        "X = np.array([[1,2], [3,4]])\n",
        "print()\n",
        "print('X = \\n', X)\n",
        "print()\n",
        "\n",
        "print('Average of all elements in X:', X.mean())\n",
        "print('Average of all elements in the columns of X:', X.mean(axis=0))\n",
        "print('Average of all elements in the rows of X:', X.mean(axis=1))\n",
        "print('my sol: ', X.min(axis=0))\n",
        "print('my sol: ', np.mean(X.min(axis=0)))\n",
        "print(np.min(X, axis=0))\n",
        "print(np.mean(np.min(X, axis=0))) # gets the minimum value of each column and calculates their mean\n",
        "\n",
        "print()\n",
        "print('Sum of all elements in X:', X.sum())\n",
        "print('Sum of all elements in the columns of X:', X.sum(axis=0))\n",
        "print('Sum of all elements in the rows of X:', X.sum(axis=1))\n",
        "print()\n",
        "print('Standard Deviation of all elements in X:', X.std())\n",
        "print('Standard Deviation of all elements in the columns of X:', X.std(axis=0))\n",
        "print('Standard Deviation of all elements in the rows of X:', X.std(axis=1))\n",
        "print()\n",
        "print('Median of all elements in X:', np.median(X))\n",
        "print('Median of all elements in the columns of X:', np.median(X,axis=0))\n",
        "print('Median of all elements in the rows of X:', np.median(X,axis=1))\n",
        "print()\n",
        "print('Maximum value of all elements in X:', X.max())\n",
        "print('Maximum value of all elements in the columns of X:', X.max(axis=0))\n",
        "print('Maximum value of all elements in the rows of X:', X.max(axis=1))\n",
        "print()\n",
        "print('Minimum value of all elements in X:', X.min())\n",
        "print('Minimum value of all elements in the columns of X:', X.min(axis=0))\n",
        "print('Minimum value of all elements in the rows of X:', X.min(axis=1))"
      ],
      "execution_count": 9,
      "outputs": [
        {
          "output_type": "stream",
          "text": [
            "\n",
            "X = \n",
            " [[1 2]\n",
            " [3 4]]\n",
            "\n",
            "Average of all elements in X: 2.5\n",
            "Average of all elements in the columns of X: [2. 3.]\n",
            "Average of all elements in the rows of X: [1.5 3.5]\n",
            "my sol:  [1 2]\n",
            "my sol:  1.5\n",
            "[1 2]\n",
            "1.5\n",
            "\n",
            "Sum of all elements in X: 10\n",
            "Sum of all elements in the columns of X: [4 6]\n",
            "Sum of all elements in the rows of X: [3 7]\n",
            "\n",
            "Standard Deviation of all elements in X: 1.118033988749895\n",
            "Standard Deviation of all elements in the columns of X: [1. 1.]\n",
            "Standard Deviation of all elements in the rows of X: [0.5 0.5]\n",
            "\n",
            "Median of all elements in X: 2.5\n",
            "Median of all elements in the columns of X: [2. 3.]\n",
            "Median of all elements in the rows of X: [1.5 3.5]\n",
            "\n",
            "Maximum value of all elements in X: 4\n",
            "Maximum value of all elements in the columns of X: [3 4]\n",
            "Maximum value of all elements in the rows of X: [2 4]\n",
            "\n",
            "Minimum value of all elements in X: 1\n",
            "Minimum value of all elements in the columns of X: [1 2]\n",
            "Minimum value of all elements in the rows of X: [1 3]\n"
          ],
          "name": "stdout"
        }
      ]
    },
    {
      "metadata": {
        "id": "jPix8VR-ZFHR",
        "colab_type": "text"
      },
      "cell_type": "markdown",
      "source": [
        "add single numbers to all the elements of an ndarray without  loops.\n",
        "\n",
        " NumPy is working behind the scenes to broadcast 3 along the ndarray so that they have the same shape."
      ]
    },
    {
      "metadata": {
        "id": "ZLZoY1zTZK4o",
        "colab_type": "code",
        "colab": {}
      },
      "cell_type": "code",
      "source": [
        "X = np.array([[1,2], [3,4]])\n",
        "print()\n",
        "print('X = \\n', X)\n",
        "print()\n",
        "\n",
        "print('3 * X = \\n', 3 * X)\n",
        "print()\n",
        "print('3 + X = \\n', 3 + X)\n",
        "print()\n",
        "print('X - 3 = \\n', X - 3)\n",
        "print()\n",
        "print('X / 3 = \\n', X / 3)"
      ],
      "execution_count": 0,
      "outputs": []
    },
    {
      "metadata": {
        "id": "aHW9KJwra1oG",
        "colab_type": "code",
        "colab": {}
      },
      "cell_type": "code",
      "source": [
        "x = np.array([1,2,3])\n",
        "Y = np.array([[1,2,3],[4,5,6],[7,8,9]])\n",
        "Z = np.array([1,2,3]).reshape(3,1)\n",
        "\n",
        "print()\n",
        "print('x = ', x)\n",
        "print()\n",
        "print('Y = \\n', Y)\n",
        "print()\n",
        "print('Z = \\n', Z)\n",
        "print()\n",
        "\n",
        "print('x + Y = \\n', x + Y)\n",
        "print()\n",
        "print('Z + Y = \\n',Z + Y)"
      ],
      "execution_count": 0,
      "outputs": []
    }
  ]
}