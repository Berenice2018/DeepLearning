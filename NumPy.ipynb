{
  "nbformat": 4,
  "nbformat_minor": 0,
  "metadata": {
    "colab": {
      "name": "NumPy.ipynb",
      "version": "0.3.2",
      "provenance": [],
      "collapsed_sections": [
        "v18gw--dkrhP",
        "bq5duNHdkXh8"
      ],
      "include_colab_link": true
    },
    "kernelspec": {
      "name": "python3",
      "display_name": "Python 3"
    }
  },
  "cells": [
    {
      "cell_type": "markdown",
      "metadata": {
        "id": "view-in-github",
        "colab_type": "text"
      },
      "source": [
        "<a href=\"https://colab.research.google.com/github/Berenice2018/DeepLearning/blob/master/NumPy.ipynb\" target=\"_parent\"><img src=\"https://colab.research.google.com/assets/colab-badge.svg\" alt=\"Open In Colab\"/></a>"
      ]
    },
    {
      "metadata": {
        "id": "SLEQqDtGkjqU",
        "colab_type": "text"
      },
      "cell_type": "markdown",
      "source": [
        "# NumPy"
      ]
    },
    {
      "metadata": {
        "id": "v18gw--dkrhP",
        "colab_type": "text"
      },
      "cell_type": "markdown",
      "source": [
        "# Creating & saving NumPy arrays"
      ]
    },
    {
      "metadata": {
        "id": "e1uFpyFyckSy",
        "colab_type": "code",
        "outputId": "fa5fd13a-9ecb-4eb5-c15d-b29d1ae639b7",
        "colab": {
          "base_uri": "https://localhost:8080/",
          "height": 68
        }
      },
      "cell_type": "code",
      "source": [
        "x = np.array([1, 2, 3, 4, 5])\n",
        "\n",
        "print(x)\n",
        "print(type(x)) # print the type of x\n",
        "x.dtype        # print the type of its elements"
      ],
      "execution_count": 0,
      "outputs": [
        {
          "output_type": "stream",
          "text": [
            "[1 2 3 4 5]\n",
            "<class 'numpy.ndarray'>\n"
          ],
          "name": "stdout"
        },
        {
          "output_type": "execute_result",
          "data": {
            "text/plain": [
              "dtype('int64')"
            ]
          },
          "metadata": {
            "tags": []
          },
          "execution_count": 8
        }
      ]
    },
    {
      "metadata": {
        "id": "1RqC6_4nhp-S",
        "colab_type": "text"
      },
      "cell_type": "markdown",
      "source": [
        "NumPy arrays must have elements of the same data type.\n",
        "\n",
        "Even though the Python list has mixed data types, the *array() *function creates a NumPy array with elements of all the same data type."
      ]
    },
    {
      "metadata": {
        "id": "0CaGxcbvgYVz",
        "colab_type": "code",
        "outputId": "a4a41d2b-fff1-44b4-96cc-1675e8e7737e",
        "colab": {
          "base_uri": "https://localhost:8080/",
          "height": 68
        }
      },
      "cell_type": "code",
      "source": [
        "x2 = np.array([1, 2, \"Hi\"])\n",
        "print(x2)\n",
        "print('type of x2:', type(x2))\n",
        "print('dtype:', x2.dtype)"
      ],
      "execution_count": 0,
      "outputs": [
        {
          "output_type": "stream",
          "text": [
            "['1' '2' 'Hi']\n",
            "type of x2: <class 'numpy.ndarray'>\n",
            "dtype: <U21\n"
          ],
          "name": "stdout"
        }
      ]
    },
    {
      "metadata": {
        "id": "FvO1sAiIinLM",
        "colab_type": "code",
        "outputId": "fc5cbc2f-8e44-4fae-951b-ec6736449e22",
        "colab": {
          "base_uri": "https://localhost:8080/",
          "height": 34
        }
      },
      "cell_type": "code",
      "source": [
        "# NumPy upcasts \n",
        "x2 = np.array([1, 2, 3.5])\n",
        "\n",
        "print(x2, x2.dtype) "
      ],
      "execution_count": 0,
      "outputs": [
        {
          "output_type": "stream",
          "text": [
            "[1.  2.  3.5] float64\n"
          ],
          "name": "stdout"
        }
      ]
    },
    {
      "metadata": {
        "id": "E4ivfbFDjUL7",
        "colab_type": "code",
        "outputId": "068ded8d-c6ac-4a4a-b7bb-f3492201ef71",
        "colab": {
          "base_uri": "https://localhost:8080/",
          "height": 34
        }
      },
      "cell_type": "code",
      "source": [
        "# downcast explicitly:\n",
        "x2 = np.array([1.2, 3.5, 9.7], dtype= np.int64)\n",
        "print(x2, x2.dtype)\n"
      ],
      "execution_count": 0,
      "outputs": [
        {
          "output_type": "stream",
          "text": [
            "[1 3 9] int64\n"
          ],
          "name": "stdout"
        }
      ]
    },
    {
      "metadata": {
        "id": "zvOQ1p6ueUYy",
        "colab_type": "code",
        "outputId": "c000ffcf-4cd7-4678-db1d-90d72f50ea9a",
        "colab": {
          "base_uri": "https://localhost:8080/",
          "height": 34
        }
      },
      "cell_type": "code",
      "source": [
        "# print the size of each dimension. \n",
        "# Since x has 1 dimension, it will print the length of the array\n",
        "\n",
        "x.shape"
      ],
      "execution_count": 0,
      "outputs": [
        {
          "output_type": "execute_result",
          "data": {
            "text/plain": [
              "(5,)"
            ]
          },
          "metadata": {
            "tags": []
          },
          "execution_count": 9
        }
      ]
    },
    {
      "metadata": {
        "id": "etVKvH1mh1m6",
        "colab_type": "text"
      },
      "cell_type": "markdown",
      "source": [
        "The shape of a 2-dimensional array is a tuple; number of rows and columns\n"
      ]
    },
    {
      "metadata": {
        "id": "sd4SAmxBeyt0",
        "colab_type": "code",
        "outputId": "2d3d39eb-25f5-49a8-b102-dfd7dee9e15b",
        "colab": {
          "base_uri": "https://localhost:8080/",
          "height": 102
        }
      },
      "cell_type": "code",
      "source": [
        "y = np.array([[1, 2, 3], [4, 5, 6], [7, 8, 9], [10, 11, 12]])\n",
        "print(y.shape)\n",
        "print(y)\n"
      ],
      "execution_count": 0,
      "outputs": [
        {
          "output_type": "stream",
          "text": [
            "(4, 3)\n",
            "[[ 1  2  3]\n",
            " [ 4  5  6]\n",
            " [ 7  8  9]\n",
            " [10 11 12]]\n"
          ],
          "name": "stdout"
        }
      ]
    },
    {
      "metadata": {
        "colab_type": "code",
        "outputId": "8f359bb7-0b88-4099-a07f-f597af8b94ee",
        "id": "ZqyPEj4_jra2",
        "colab": {
          "base_uri": "https://localhost:8080/",
          "height": 34
        }
      },
      "cell_type": "code",
      "source": [
        "# number of all elements\n",
        "\n",
        "y.size"
      ],
      "execution_count": 0,
      "outputs": [
        {
          "output_type": "execute_result",
          "data": {
            "text/plain": [
              "12"
            ]
          },
          "metadata": {
            "tags": []
          },
          "execution_count": 26
        }
      ]
    },
    {
      "metadata": {
        "id": "LUVFWMdpj9ju",
        "colab_type": "code",
        "outputId": "ea450fff-5406-4fbf-b004-bad4d6592170",
        "colab": {
          "base_uri": "https://localhost:8080/",
          "height": 85
        }
      },
      "cell_type": "code",
      "source": [
        "# save and load an array\n",
        "np.save('my_y_array', y)\n",
        "np.load('my_y_array.npy')"
      ],
      "execution_count": 0,
      "outputs": [
        {
          "output_type": "execute_result",
          "data": {
            "text/plain": [
              "array([[ 1,  2,  3],\n",
              "       [ 4,  5,  6],\n",
              "       [ 7,  8,  9],\n",
              "       [10, 11, 12]])"
            ]
          },
          "metadata": {
            "tags": []
          },
          "execution_count": 28
        }
      ]
    },
    {
      "metadata": {
        "id": "bq5duNHdkXh8",
        "colab_type": "text"
      },
      "cell_type": "markdown",
      "source": [
        "# Built-in Functions to Create ndarrays"
      ]
    },
    {
      "metadata": {
        "id": "EQlmUWsJlDi9",
        "colab_type": "code",
        "outputId": "158ceb85-25f9-4263-d10f-367b38597d58",
        "colab": {
          "base_uri": "https://localhost:8080/",
          "height": 102
        }
      },
      "cell_type": "code",
      "source": [
        "# Create an array of zeros:\n",
        "# @param: tuple indicating the shape of the array\n",
        "# @param: dtype, for eample int\n",
        "\n",
        "x = np.zeros((3,4))\n",
        "print(x)\n",
        "x = np.zeros((2,3), dtype = int)\n",
        "print (x)"
      ],
      "execution_count": 0,
      "outputs": [
        {
          "output_type": "stream",
          "text": [
            "[[0. 0. 0. 0.]\n",
            " [0. 0. 0. 0.]\n",
            " [0. 0. 0. 0.]]\n",
            "[[0 0 0 0]\n",
            " [0 0 0 0]]\n"
          ],
          "name": "stdout"
        }
      ]
    },
    {
      "metadata": {
        "id": "IW0arazil9qS",
        "colab_type": "code",
        "outputId": "50753b89-0e47-46c2-b884-d96f9007e1c8",
        "colab": {
          "base_uri": "https://localhost:8080/",
          "height": 51
        }
      },
      "cell_type": "code",
      "source": [
        "# Create an array of ones:\n",
        "# @param: tuple indicating the shape of the array\n",
        "\n",
        "x = np.ones((2,4), dtype=int)\n",
        "print(x)"
      ],
      "execution_count": 0,
      "outputs": [
        {
          "output_type": "stream",
          "text": [
            "[[1 1 1 1]\n",
            " [1 1 1 1]]\n"
          ],
          "name": "stdout"
        }
      ]
    },
    {
      "metadata": {
        "id": "Ry0otT8jmTvb",
        "colab_type": "code",
        "outputId": "2745e5a6-5aba-421c-8dd7-396b9cbaa1eb",
        "colab": {
          "base_uri": "https://localhost:8080/",
          "height": 51
        }
      },
      "cell_type": "code",
      "source": [
        "x = np.full((2,4), 9)\n",
        "print(x)"
      ],
      "execution_count": 0,
      "outputs": [
        {
          "output_type": "stream",
          "text": [
            "[[9 9 9 9]\n",
            " [9 9 9 9]]\n"
          ],
          "name": "stdout"
        }
      ]
    },
    {
      "metadata": {
        "id": "AvwR3BE8mkdC",
        "colab_type": "code",
        "outputId": "b5f42c4b-e36d-455c-c984-610a6a051159",
        "colab": {
          "base_uri": "https://localhost:8080/",
          "height": 85
        }
      },
      "cell_type": "code",
      "source": [
        "# create an identity matrix\n",
        "# @param: shape\n",
        "\n",
        "x = np.eye(4)\n",
        "print(x)"
      ],
      "execution_count": 0,
      "outputs": [
        {
          "output_type": "stream",
          "text": [
            "[[1. 0. 0. 0.]\n",
            " [0. 1. 0. 0.]\n",
            " [0. 0. 1. 0.]\n",
            " [0. 0. 0. 1.]]\n"
          ],
          "name": "stdout"
        }
      ]
    },
    {
      "metadata": {
        "id": "DMcYFLjPm20d",
        "colab_type": "code",
        "outputId": "7743eb0c-590f-47aa-9aaf-27b6024ba8b3",
        "colab": {
          "base_uri": "https://localhost:8080/",
          "height": 85
        }
      },
      "cell_type": "code",
      "source": [
        "# create a square matrix and fill the diagonal\n",
        "# @param: a set of values to fill the diagonal\n",
        "\n",
        "x = np.diag([99,88,77,66])\n",
        "print(x)"
      ],
      "execution_count": 0,
      "outputs": [
        {
          "output_type": "stream",
          "text": [
            "[[99  0  0  0]\n",
            " [ 0 88  0  0]\n",
            " [ 0  0 77  0]\n",
            " [ 0  0  0 66]]\n"
          ],
          "name": "stdout"
        }
      ]
    },
    {
      "metadata": {
        "id": "ce-RotbynSjw",
        "colab_type": "code",
        "outputId": "2d3cc98b-7819-43a9-ae31-b4d40ad4e338",
        "colab": {
          "base_uri": "https://localhost:8080/",
          "height": 34
        }
      },
      "cell_type": "code",
      "source": [
        "# create an array of integers from zero. [0, param[\n",
        "# @param: stop argument is exclusive\n",
        "x = np.arange(5)\n",
        "print(x)"
      ],
      "execution_count": 0,
      "outputs": [
        {
          "output_type": "stream",
          "text": [
            "[0 1 2 3 4]\n"
          ],
          "name": "stdout"
        }
      ]
    },
    {
      "metadata": {
        "id": "aFKUMEuQoIeU",
        "colab_type": "code",
        "outputId": "e64cde22-8406-4e96-a6ce-635b84c6cd50",
        "colab": {
          "base_uri": "https://localhost:8080/",
          "height": 34
        }
      },
      "cell_type": "code",
      "source": [
        "# create an array of integers\n",
        "# @param: 1st argument is inclusive, 2nd one is exclusive: [a, b[\n",
        "x = np.arange(5, 11)\n",
        "print(x)"
      ],
      "execution_count": 0,
      "outputs": [
        {
          "output_type": "stream",
          "text": [
            "[ 5  6  7  8  9 10]\n"
          ],
          "name": "stdout"
        }
      ]
    },
    {
      "metadata": {
        "id": "bhfidEBPohX7",
        "colab_type": "code",
        "outputId": "487b2602-752f-427b-c76c-da6c299df7f1",
        "colab": {
          "base_uri": "https://localhost:8080/",
          "height": 34
        }
      },
      "cell_type": "code",
      "source": [
        "# create an array in a specified range and with a step\n",
        "# @param: as above. 3rd param is the step (int)\n",
        "\n",
        "x = np.arange(4, 25, 4)\n",
        "print(x)"
      ],
      "execution_count": 0,
      "outputs": [
        {
          "output_type": "stream",
          "text": [
            "[ 4  8 12 16 20 24]\n"
          ],
          "name": "stdout"
        }
      ]
    },
    {
      "metadata": {
        "id": "TSIasMgqo_p0",
        "colab_type": "code",
        "outputId": "559db18a-ef27-4585-c942-7ec449262eec",
        "colab": {
          "base_uri": "https://localhost:8080/",
          "height": 51
        }
      },
      "cell_type": "code",
      "source": [
        "# create an array in a specified range and with a non-integer step \n",
        "# @param: start, stop, n for n evenly spaced numbers \n",
        "# start and stop are inclusive: [start, stop]\n",
        "\n",
        "x = np.linspace(0, 25, 10)\n",
        "print(x)"
      ],
      "execution_count": 0,
      "outputs": [
        {
          "output_type": "stream",
          "text": [
            "[ 0.          2.77777778  5.55555556  8.33333333 11.11111111 13.88888889\n",
            " 16.66666667 19.44444444 22.22222222 25.        ]\n"
          ],
          "name": "stdout"
        }
      ]
    },
    {
      "metadata": {
        "id": "yT-4-k8apqGV",
        "colab_type": "code",
        "outputId": "7f54c0de-18e4-4ef8-dbc4-33a418566259",
        "colab": {
          "base_uri": "https://localhost:8080/",
          "height": 51
        }
      },
      "cell_type": "code",
      "source": [
        "# exclude the stop by setting the param endpoint=False:\n",
        "\n",
        "x = np.linspace(0, 25, 20, endpoint=False)\n",
        "print(x)"
      ],
      "execution_count": 0,
      "outputs": [
        {
          "output_type": "stream",
          "text": [
            "[ 0.    1.25  2.5   3.75  5.    6.25  7.5   8.75 10.   11.25 12.5  13.75\n",
            " 15.   16.25 17.5  18.75 20.   21.25 22.5  23.75]\n"
          ],
          "name": "stdout"
        }
      ]
    },
    {
      "metadata": {
        "id": "hwAt3UXTp_Mw",
        "colab_type": "code",
        "outputId": "af0034cd-723f-48c5-f384-514ed2ce68f9",
        "colab": {
          "base_uri": "https://localhost:8080/",
          "height": 119
        }
      },
      "cell_type": "code",
      "source": [
        "# Convert any NumPy array into a specified shape:\n",
        "# the new shape has to be compatible to the array size.\n",
        "\n",
        "x = np.reshape(x, (4, 5))\n",
        "print(x)\n",
        "x = np.reshape(x, (2, 10))\n",
        "print(x)"
      ],
      "execution_count": 0,
      "outputs": [
        {
          "output_type": "stream",
          "text": [
            "[[ 0.    1.25  2.5   3.75  5.  ]\n",
            " [ 6.25  7.5   8.75 10.   11.25]\n",
            " [12.5  13.75 15.   16.25 17.5 ]\n",
            " [18.75 20.   21.25 22.5  23.75]]\n",
            "[[ 0.    1.25  2.5   3.75  5.    6.25  7.5   8.75 10.   11.25]\n",
            " [12.5  13.75 15.   16.25 17.5  18.75 20.   21.25 22.5  23.75]]\n"
          ],
          "name": "stdout"
        }
      ]
    },
    {
      "metadata": {
        "id": "figf3yYfrLEf",
        "colab_type": "code",
        "outputId": "de4fbd01-f41c-4db9-b7d6-337e6f68a890",
        "colab": {
          "base_uri": "https://localhost:8080/",
          "height": 102
        }
      },
      "cell_type": "code",
      "source": [
        "# chain fundtion calls\n",
        "\n",
        "x = np.linspace(0, 10, 40, endpoint=False).reshape(5, 8)\n",
        "print(x)"
      ],
      "execution_count": 0,
      "outputs": [
        {
          "output_type": "stream",
          "text": [
            "[[0.   0.25 0.5  0.75 1.   1.25 1.5  1.75]\n",
            " [2.   2.25 2.5  2.75 3.   3.25 3.5  3.75]\n",
            " [4.   4.25 4.5  4.75 5.   5.25 5.5  5.75]\n",
            " [6.   6.25 6.5  6.75 7.   7.25 7.5  7.75]\n",
            " [8.   8.25 8.5  8.75 9.   9.25 9.5  9.75]]\n"
          ],
          "name": "stdout"
        }
      ]
    },
    {
      "metadata": {
        "id": "CbSHUtGFrehk",
        "colab_type": "code",
        "outputId": "5f2ab2be-24c9-46c5-862d-7771d628ed6f",
        "colab": {
          "base_uri": "https://localhost:8080/",
          "height": 85
        }
      },
      "cell_type": "code",
      "source": [
        "# create an array with random float values between 0 and 1; [0, 1[ \n",
        "# @param: shape tuple\n",
        "x = np.random.random((4,4))\n",
        "print(x)"
      ],
      "execution_count": 0,
      "outputs": [
        {
          "output_type": "stream",
          "text": [
            "[[0.81201638 0.43104391 0.08230214 0.10112423]\n",
            " [0.89805729 0.48251593 0.23289989 0.77985833]\n",
            " [0.32580503 0.4495434  0.89810203 0.68639431]\n",
            " [0.85295332 0.15118613 0.33455525 0.3624027 ]]\n"
          ],
          "name": "stdout"
        }
      ]
    },
    {
      "metadata": {
        "id": "9YMSKax9tjzM",
        "colab_type": "code",
        "outputId": "903fb484-4f88-41cb-8f97-98a61021c63e",
        "colab": {
          "base_uri": "https://localhost:8080/",
          "height": 68
        }
      },
      "cell_type": "code",
      "source": [
        "# generate an array with random int within a particular range\n",
        "# @param: start (inclusive), stop (exclusive) range, and the shape\n",
        "\n",
        "x = np.random.randint(8, 22, (3,4))\n",
        "print(x)"
      ],
      "execution_count": 0,
      "outputs": [
        {
          "output_type": "stream",
          "text": [
            "[[13 10 11 11]\n",
            " [17  9  8 21]\n",
            " [20 20 13 14]]\n"
          ],
          "name": "stdout"
        }
      ]
    },
    {
      "metadata": {
        "id": "Myr-jbVyuQ5H",
        "colab_type": "code",
        "outputId": "410bf550-a04a-438d-caa8-e8122ec2d046",
        "colab": {
          "base_uri": "https://localhost:8080/",
          "height": 357
        }
      },
      "cell_type": "code",
      "source": [
        "# generate an array with random floats  with mean, standard deviation\n",
        "# @param: mean, std, shape tuple\n",
        "\n",
        "x = np.random.normal(0, 0.2, size=(10, 10))\n",
        "print(x)"
      ],
      "execution_count": 0,
      "outputs": [
        {
          "output_type": "stream",
          "text": [
            "[[ 0.15853484  0.11845152  0.06646205 -0.25229345 -0.21958606 -0.17906923\n",
            "   0.14570771 -0.35442596 -0.12578895 -0.17795224]\n",
            " [-0.08879739 -0.00923171 -0.12222565 -0.00120037 -0.02361263 -0.09883286\n",
            "   0.35332633 -0.07726044 -0.29218297 -0.34652278]\n",
            " [-0.07525939 -0.18445767 -0.23275805 -0.03945036 -0.41876771  0.2195576\n",
            "  -0.0834159  -0.39055544 -0.05036867  0.02121945]\n",
            " [ 0.33072698 -0.3004115   0.1883272  -0.0286628  -0.19785588  0.4828132\n",
            "  -0.18065774  0.08050895  0.28682558 -0.15387223]\n",
            " [ 0.23815911 -0.09865043 -0.03668869  0.07586253  0.32691454  0.40635901\n",
            "   0.22515303 -0.04946772  0.0106129  -0.26549221]\n",
            " [-0.02014436  0.40486172 -0.11846475 -0.04130978  0.0954664  -0.14968423\n",
            "  -0.04794997 -0.20119778  0.06546154 -0.04676929]\n",
            " [ 0.02680568 -0.1427188  -0.1105698   0.15742462 -0.21789887  0.03236188\n",
            "  -0.16502551  0.07278756 -0.42112634  0.19999928]\n",
            " [-0.42506939 -0.15869656 -0.53040987 -0.03149008  0.19141551 -0.01612388\n",
            "   0.13424714 -0.28078881  0.00921974 -0.17508927]\n",
            " [ 0.17791554  0.45317954  0.21870854  0.15038385  0.14615237 -0.16096811\n",
            "  -0.12159012  0.0971413   0.0263027  -0.03973173]\n",
            " [ 0.25243096 -0.10038101  0.12285211 -0.12493398 -0.02930955 -0.39840849\n",
            "  -0.29989842 -0.35899264 -0.16852161 -0.14847533]]\n"
          ],
          "name": "stdout"
        }
      ]
    },
    {
      "metadata": {
        "id": "5ZszbanTu75B",
        "colab_type": "text"
      },
      "cell_type": "markdown",
      "source": [
        "# Accessing, Deleting, and Inserting Elements Into ndarrays"
      ]
    },
    {
      "metadata": {
        "id": "jroYrINqxh4O",
        "colab_type": "text"
      },
      "cell_type": "markdown",
      "source": [
        "NumPy arrays are mutable. \n",
        "\n",
        "Use both positive and negative indices to access elements in the ndarray. Positive indices are used to access elements from the beginning of the array, while negative indices are used to access elements from the end of the array"
      ]
    },
    {
      "metadata": {
        "id": "9p53gDRvu_Bg",
        "colab_type": "code",
        "outputId": "abe0706d-e8bb-411e-8846-14a83ffbbce0",
        "colab": {
          "base_uri": "https://localhost:8080/",
          "height": 68
        }
      },
      "cell_type": "code",
      "source": [
        "x = np.array([1, 2, 3, 4, 5])\n",
        "\n",
        "print('This is First Element in x:', x[-5])\n",
        "print('This is Second Element in x:', x[-4])\n",
        "print('This is Fifth (Last) Element in x:', x[-1])"
      ],
      "execution_count": 0,
      "outputs": [
        {
          "output_type": "stream",
          "text": [
            "This is First Element in x: 1\n",
            "This is Second Element in x: 2\n",
            "This is Fifth (Last) Element in x: 5\n"
          ],
          "name": "stdout"
        }
      ]
    },
    {
      "metadata": {
        "id": "FmAssb6pyykM",
        "colab_type": "text"
      },
      "cell_type": "markdown",
      "source": [
        "Delete elements using the np.delete(ndarray, elements, axis) function. \n",
        "\n",
        "This function deletes the given list of elements from the given ndarray along the specified axis. For rank 1 ndarrays the axis keyword is not required. \n",
        "\n",
        "For rank 2 ndarrays, axis = 0 is used to select rows, and axis = 1 is used to select columns."
      ]
    },
    {
      "metadata": {
        "id": "PyjloY1jy8bl",
        "colab_type": "code",
        "outputId": "93ab8456-2f24-4d49-e7e0-76c56ec373bf",
        "colab": {
          "base_uri": "https://localhost:8080/",
          "height": 323
        }
      },
      "cell_type": "code",
      "source": [
        "# create a rank 1 ndarray \n",
        "x = np.array([1, 2, 3, 4, 5])\n",
        "\n",
        "# create a rank 2 ndarray\n",
        "Y = np.array([[1,2,3],[4,5,6],[7,8,9]])\n",
        "\n",
        "print()\n",
        "print('Original x = ', x)\n",
        "\n",
        "# delete the first and last element of x\n",
        "x = np.delete(x, [0,4])\n",
        "\n",
        "print()\n",
        "print('Modified x = ', x)\n",
        "print()\n",
        "print('Original Y = \\n', Y)\n",
        "\n",
        "# delete the first row of y\n",
        "w = np.delete(Y, 0, axis=0)\n",
        "\n",
        "# delete the first and last column of y\n",
        "v = np.delete(Y, [0,2], axis=1)\n",
        "\n",
        "print()\n",
        "print('w = \\n', w)\n",
        "\n",
        "print()\n",
        "print('v = \\n', v)"
      ],
      "execution_count": 0,
      "outputs": [
        {
          "output_type": "stream",
          "text": [
            "\n",
            "Original x =  [1 2 3 4 5]\n",
            "\n",
            "Modified x =  [2 3 4]\n",
            "\n",
            "Original Y = \n",
            " [[1 2 3]\n",
            " [4 5 6]\n",
            " [7 8 9]]\n",
            "\n",
            "w = \n",
            " [[4 5 6]\n",
            " [7 8 9]]\n",
            "\n",
            "v = \n",
            " [[2]\n",
            " [5]\n",
            " [8]]\n"
          ],
          "name": "stdout"
        }
      ]
    },
    {
      "metadata": {
        "id": "xWp2COtFzmwx",
        "colab_type": "text"
      },
      "cell_type": "markdown",
      "source": [
        "Append values to ndarrays using the np.append(ndarray, elements, axis) function. \n",
        "This function appends the given list of elements to ndarray along the specified axis"
      ]
    },
    {
      "metadata": {
        "id": "RQE10vAxzsH_",
        "colab_type": "code",
        "outputId": "3f263b5b-6b20-4c60-d565-7e9e18d93ca6",
        "colab": {
          "base_uri": "https://localhost:8080/",
          "height": 340
        }
      },
      "cell_type": "code",
      "source": [
        "x = np.array([1, 2, 3, 4, 5])\n",
        "Y = np.array([[1,2,3],[4,5,6]])\n",
        "\n",
        "print()\n",
        "print('Original x = ', x)\n",
        "\n",
        "# append the integer 6 to x\n",
        "x = np.append(x, 6)\n",
        "\n",
        "print()\n",
        "print('x = ', x)\n",
        "\n",
        "# append the integer 7 and 8 to x\n",
        "x = np.append(x, [7,8])\n",
        "\n",
        "print()\n",
        "print('x = ', x)\n",
        "print()\n",
        "print('Original Y = \\n', Y)\n",
        "\n",
        "# append a new row containing 7,8,9 to y\n",
        "v = np.append(Y, [[7,8,9]], axis=0)\n",
        "\n",
        "# append a new column containing 9 and 10 to y\n",
        "q = np.append(Y,[[9],[10]], axis=1)\n",
        "\n",
        "print()\n",
        "print('v = \\n', v)\n",
        "\n",
        "print()\n",
        "print('q = \\n', q)"
      ],
      "execution_count": 0,
      "outputs": [
        {
          "output_type": "stream",
          "text": [
            "\n",
            "Original x =  [1 2 3 4 5]\n",
            "\n",
            "x =  [1 2 3 4 5 6]\n",
            "\n",
            "x =  [1 2 3 4 5 6 7 8]\n",
            "\n",
            "Original Y = \n",
            " [[1 2 3]\n",
            " [4 5 6]]\n",
            "\n",
            "v = \n",
            " [[1 2 3]\n",
            " [4 5 6]\n",
            " [7 8 9]]\n",
            "\n",
            "q = \n",
            " [[ 1  2  3  9]\n",
            " [ 4  5  6 10]]\n"
          ],
          "name": "stdout"
        }
      ]
    },
    {
      "metadata": {
        "id": "9l9F4dbt4tTc",
        "colab_type": "text"
      },
      "cell_type": "markdown",
      "source": [
        "Insert the given list of elements to ndarray \n",
        "\n",
        "right before the given index along the specified axis. "
      ]
    },
    {
      "metadata": {
        "id": "z9Zqa0aq40VD",
        "colab_type": "code",
        "outputId": "d3c76101-13a5-48e2-eb9e-b65884e934c9",
        "colab": {
          "base_uri": "https://localhost:8080/",
          "height": 306
        }
      },
      "cell_type": "code",
      "source": [
        "x = np.array([1, 2, 5, 6, 7])\n",
        "Y = np.array([[1,2,3], [7,8,9]])\n",
        "\n",
        "print()\n",
        "print('Original x = ', x)\n",
        "\n",
        "# insert the integer 3 and 4 between 2 and 5 in x. \n",
        "x = np.insert(x, 2, [3,4])\n",
        "\n",
        "print()\n",
        "print('x = ', x)\n",
        "print()\n",
        "print('Original Y = \\n', Y)\n",
        "\n",
        "# insert a row between the first and last row of y\n",
        "w = np.insert(Y, 1, [4,5,6], axis=0)\n",
        "\n",
        "# insert a column full of 5s between the first and second column of y\n",
        "v = np.insert(Y, 1, 5, axis=1)\n",
        "\n",
        "print()\n",
        "print('w = \\n', w)\n",
        "print()\n",
        "print('v = \\n', v)"
      ],
      "execution_count": 0,
      "outputs": [
        {
          "output_type": "stream",
          "text": [
            "\n",
            "Original x =  [1 2 5 6 7]\n",
            "\n",
            "x =  [1 2 3 4 5 6 7]\n",
            "\n",
            "Original Y = \n",
            " [[1 2 3]\n",
            " [7 8 9]]\n",
            "\n",
            "w = \n",
            " [[1 2 3]\n",
            " [4 5 6]\n",
            " [7 8 9]]\n",
            "\n",
            "v = \n",
            " [[1 5 2 3]\n",
            " [7 5 8 9]]\n"
          ],
          "name": "stdout"
        }
      ]
    },
    {
      "metadata": {
        "id": "WKpLJUsF5dKg",
        "colab_type": "text"
      },
      "cell_type": "markdown",
      "source": [
        "Stack ndarrays on top of each other, or stack them side by side\n",
        " \n",
        " using either  *np.vstack()*  for vertical stacking, \n",
        " \n",
        " or  *np.hstack()*  for horizontal stacking.\n",
        " \n",
        " The shape of the ndarrays must match."
      ]
    },
    {
      "metadata": {
        "id": "cK4bjRjL5sf9",
        "colab_type": "code",
        "outputId": "8bc67f3b-d46e-46fa-aac0-ed58c4cf3b18",
        "colab": {
          "base_uri": "https://localhost:8080/",
          "height": 272
        }
      },
      "cell_type": "code",
      "source": [
        "x = np.array([1,2])\n",
        "Y = np.array([[3,4],[5,6]])\n",
        "\n",
        "print()\n",
        "print('x = ', x)\n",
        "print()\n",
        "print('Y = \\n', Y)\n",
        "\n",
        "# stack x on top of Y\n",
        "z = np.vstack((x, Y))\n",
        "\n",
        "# stack x on the right of Y. We need to reshape x in order to stack it on the right of Y. \n",
        "w = np.hstack((Y, x.reshape(2,1)))\n",
        "\n",
        "print()\n",
        "print('z = \\n', z)\n",
        "print()\n",
        "print('w = \\n', w)"
      ],
      "execution_count": 0,
      "outputs": [
        {
          "output_type": "stream",
          "text": [
            "\n",
            "x =  [1 2]\n",
            "\n",
            "Y = \n",
            " [[3 4]\n",
            " [5 6]]\n",
            "\n",
            "z = \n",
            " [[1 2]\n",
            " [3 4]\n",
            " [5 6]]\n",
            "\n",
            "w = \n",
            " [[3 4 1]\n",
            " [5 6 2]]\n"
          ],
          "name": "stdout"
        }
      ]
    }
  ]
}